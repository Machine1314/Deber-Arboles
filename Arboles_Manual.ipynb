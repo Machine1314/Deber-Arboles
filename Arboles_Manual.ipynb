{
 "cells": [
  {
   "cell_type": "markdown",
   "metadata": {},
   "source": [
    "# Grupo 3\n",
    "### Bruno Dueñas, Fernando Mejía, Mateo Córdova\n",
    "\n",
    "## Imports y labels globales"
   ]
  },
  {
   "cell_type": "code",
   "execution_count": 1,
   "metadata": {
    "pycharm": {
     "name": "#%%\n"
    }
   },
   "outputs": [],
   "source": [
    "import numpy as np\n",
    "import graphviz\n",
    "from graphviz import Digraph\n",
    "import pandas as pd\n",
    "labels = ['Pelo', 'Altura', 'Peso', 'Proteccion', 'Quemadura']\n",
    "clase = ['Quema', 'No quema']"
   ]
  },
  {
   "cell_type": "markdown",
   "metadata": {},
   "source": [
    "## Data"
   ]
  },
  {
   "cell_type": "code",
   "execution_count": 2,
   "metadata": {},
   "outputs": [
    {
     "data": {
      "text/html": [
       "<div>\n",
       "<style scoped>\n",
       "    .dataframe tbody tr th:only-of-type {\n",
       "        vertical-align: middle;\n",
       "    }\n",
       "\n",
       "    .dataframe tbody tr th {\n",
       "        vertical-align: top;\n",
       "    }\n",
       "\n",
       "    .dataframe thead th {\n",
       "        text-align: right;\n",
       "    }\n",
       "</style>\n",
       "<table border=\"1\" class=\"dataframe\">\n",
       "  <thead>\n",
       "    <tr style=\"text-align: right;\">\n",
       "      <th></th>\n",
       "      <th>Pelo</th>\n",
       "      <th>Altura</th>\n",
       "      <th>Peso</th>\n",
       "      <th>Proteccion</th>\n",
       "      <th>Quemadura</th>\n",
       "    </tr>\n",
       "    <tr>\n",
       "      <th>Ejemplo</th>\n",
       "      <th></th>\n",
       "      <th></th>\n",
       "      <th></th>\n",
       "      <th></th>\n",
       "      <th></th>\n",
       "    </tr>\n",
       "  </thead>\n",
       "  <tbody>\n",
       "    <tr>\n",
       "      <th>1</th>\n",
       "      <td>rubio</td>\n",
       "      <td>medio</td>\n",
       "      <td>bajo</td>\n",
       "      <td>no</td>\n",
       "      <td>si</td>\n",
       "    </tr>\n",
       "    <tr>\n",
       "      <th>2</th>\n",
       "      <td>rubio</td>\n",
       "      <td>alto</td>\n",
       "      <td>medio</td>\n",
       "      <td>si</td>\n",
       "      <td>no</td>\n",
       "    </tr>\n",
       "    <tr>\n",
       "      <th>3</th>\n",
       "      <td>moreno</td>\n",
       "      <td>bajo</td>\n",
       "      <td>medio</td>\n",
       "      <td>si</td>\n",
       "      <td>no</td>\n",
       "    </tr>\n",
       "    <tr>\n",
       "      <th>4</th>\n",
       "      <td>rubio</td>\n",
       "      <td>bajo</td>\n",
       "      <td>medio</td>\n",
       "      <td>no</td>\n",
       "      <td>si</td>\n",
       "    </tr>\n",
       "    <tr>\n",
       "      <th>5</th>\n",
       "      <td>rojo</td>\n",
       "      <td>medio</td>\n",
       "      <td>alto</td>\n",
       "      <td>no</td>\n",
       "      <td>si</td>\n",
       "    </tr>\n",
       "  </tbody>\n",
       "</table>\n",
       "</div>"
      ],
      "text/plain": [
       "           Pelo Altura   Peso Proteccion Quemadura\n",
       "Ejemplo                                           \n",
       "1         rubio  medio   bajo         no        si\n",
       "2         rubio   alto  medio         si        no\n",
       "3        moreno   bajo  medio         si        no\n",
       "4         rubio   bajo  medio         no        si\n",
       "5          rojo  medio   alto         no        si"
      ]
     },
     "execution_count": 2,
     "metadata": {},
     "output_type": "execute_result"
    }
   ],
   "source": [
    "quemadura_data = pd.read_csv(\"arbQuemadura.csv\", index_col=0)\n",
    "quemadura_data.head()"
   ]
  },
  {
   "cell_type": "markdown",
   "source": [
    "## Data tratada"
   ],
   "metadata": {
    "collapsed": false,
    "pycharm": {
     "name": "#%% md\n"
    }
   }
  },
  {
   "cell_type": "code",
   "execution_count": null,
   "outputs": [],
   "source": [
    "d = {'rubio': 2, 'moreno': 1, 'rojo': 0}\n",
    "quemadura_data['Pelo'] = quemadura_data['Pelo'].map(d)\n",
    "d = {'alto': 2, 'medio': 1, 'bajo': 0}\n",
    "quemadura_data['Peso'] = quemadura_data['Peso'].map(d)\n",
    "d = {'alto': 2, 'medio': 1, 'bajo': 0}\n",
    "quemadura_data['Altura'] = quemadura_data['Altura'].map(d)\n",
    "d = {'si': 1, 'no': 0}\n",
    "quemadura_data['Proteccion'] = quemadura_data['Proteccion'].map(d)\n",
    "quemadura_data['Quemadura'] = quemadura_data['Quemadura'].map(d)\n",
    "quemadura_data"
   ],
   "metadata": {
    "collapsed": false,
    "pycharm": {
     "name": "#%%\n"
    }
   }
  },
  {
   "cell_type": "markdown",
   "source": [
    "### calcular la entropia"
   ],
   "metadata": {
    "collapsed": false,
    "pycharm": {
     "name": "#%% md\n"
    }
   }
  },
  {
   "cell_type": "code",
   "execution_count": null,
   "outputs": [],
   "source": [
    "def calcular_entropia(p):\n",
    "    return -np.sum(p*np.log2(p))"
   ],
   "metadata": {
    "collapsed": false,
    "pycharm": {
     "name": "#%%\n"
    }
   }
  },
  {
   "cell_type": "markdown",
   "source": [
    "### calcular la ganancia"
   ],
   "metadata": {
    "collapsed": false,
    "pycharm": {
     "name": "#%% md\n"
    }
   }
  },
  {
   "cell_type": "code",
   "execution_count": null,
   "outputs": [],
   "source": [
    "#calcular la ganancia\n",
    "def calcular_ganancia(valores, var='Pelo'):\n",
    "    valores, cuantos = np.unique(quemadura_data[var],return_counts=True)\n",
    "    #genero una lista para calcular la ganancia\n",
    "    info_A = []\n",
    "    \n",
    "    for e in valores:\n",
    "        se = np.where(quemadura_data[var]==e)\n",
    "        #print(\"tiene se\",se)\n",
    "        #particiona por valor\n",
    "        se_quemadura = quemadura_data['Quemadura'][quemadura_data.index[se[0]]]\n",
    "        #print(\"se_quemadura\",se_quemadura)\n",
    "        #valores por subgrupo\n",
    "        v_se_quemadura, c_se_quemadura = np.unique(se_quemadura,return_counts=True)\n",
    "        #print(\"subgrupos \",v_se_quemadura,c_se_quemadura)\n",
    "        #entropia del valor\n",
    "        se_entropia = abs(calcular_entropia(c_se_quemadura/sum(c_se_quemadura)))\n",
    "        #print(\"Entropia: \",se_entropia)\n",
    "        #probabilidad del valor\n",
    "        se_size = sum(c_se_quemadura)/len(quemadura_data.index)\n",
    "        #print(\"probabilidad valor\",se_size)\n",
    "        #almacenar valores\n",
    "        info_A += [[se_entropia, se_size]]\n",
    "        #print(\"info_A\",info_A)\n",
    "    #convertir lista en arreglo\n",
    "    info_A = np.array(info_A)\n",
    "    #calcular la entropia de la variable\n",
    "    info_g = np.sum(info_A[:,0]*info_A[:,1])\n",
    "    #print(\"info_g\",info_g)\n",
    "    return info_g"
   ],
   "metadata": {
    "collapsed": false,
    "pycharm": {
     "name": "#%%\n"
    }
   }
  },
  {
   "cell_type": "markdown",
   "source": [
    "## Calcular la entropia del arbol"
   ],
   "metadata": {
    "collapsed": false,
    "pycharm": {
     "name": "#%% md\n"
    }
   }
  },
  {
   "cell_type": "code",
   "execution_count": null,
   "outputs": [],
   "source": [
    "valores, cuantos = np.unique(quemadura_data['Quemadura'], return_counts=True)\n",
    "entropia = calcular_entropia(cuantos/sum(cuantos))\n",
    "print(\"Entropia del arbol\",entropia)\n",
    "valores,cuantos"
   ],
   "metadata": {
    "collapsed": false,
    "pycharm": {
     "name": "#%%\n"
    }
   }
  },
  {
   "cell_type": "markdown",
   "source": [
    "## Gráfico manual del árbol"
   ],
   "metadata": {
    "collapsed": false,
    "pycharm": {
     "name": "#%% md\n"
    }
   }
  },
  {
   "cell_type": "code",
   "execution_count": null,
   "outputs": [],
   "source": [
    "g = Digraph('grafo')\n",
    "cont = 0\n",
    "for lab in labels[0:4]:\n",
    "    valores, cuantos = np.unique(quemadura_data[lab], return_counts=True)\n",
    "    entropia = calcular_entropia(cuantos/sum(cuantos))\n",
    "    valores,cuantos\n",
    "    info_A= calcular_ganancia(valores, lab)\n",
    "    ganancia = entropia - info_A\n",
    "    #print(\"ganancia de {}:{}\".format(lab, ganancia))\n",
    "    #print('************{}************'.format(lab))\n",
    "    g.node(\"n{}\".format(cont), label='Clase: {} \\\\n Entropia: {} \\\\n Valores: {}\\\\n Labels: {} \\\\n Muestras: {}'.format(\n",
    "        lab, round(entropia, 2), cuantos, valores, sum(cuantos)\n",
    "    ))\n",
    "    lb = clase[0] if entropia == 0 else clase[1]\n",
    "    if cont > 0:\n",
    "        g.edge(\"n{}\".format(cont), \"n{}\".format(cont - 1), label=lb)\n",
    "    cont+=1\n",
    "g"
   ],
   "metadata": {
    "collapsed": false,
    "pycharm": {
     "name": "#%%\n"
    }
   }
  },
  {
   "cell_type": "markdown",
   "source": [
    "## Gráfico con sklearn"
   ],
   "metadata": {
    "collapsed": false,
    "pycharm": {
     "name": "#%% md\n"
    }
   }
  },
  {
   "cell_type": "code",
   "execution_count": null,
   "outputs": [],
   "source": [
    "#utilizando la librería sklearn\n",
    "\n",
    "from sklearn import tree\n",
    "from sklearn import preprocessing\n",
    "\n",
    "data = pd.DataFrame()\n",
    "le = preprocessing.LabelEncoder()\n",
    "\n",
    "for v in labels:\n",
    "    le.fit(quemadura_data[v])\n",
    "    data[v] = le.transform(quemadura_data[v])\n",
    "clf = tree.DecisionTreeClassifier(criterion='entropy',max_depth=4)\n",
    "t_data = data[data.columns[0:4]]\n",
    "t_target = data[data.columns[4]]\n",
    "clf = clf.fit(t_data, t_target)\n",
    "t_data, t_target,clf\n",
    "dot_data = tree.export_graphviz(clf, out_file=None,\n",
    "                         feature_names=list(t_data.columns.values),\n",
    "                         class_names=clase,\n",
    "                         filled=True, rounded=True,\n",
    "                         special_characters=True)\n",
    "graph = graphviz.Source(dot_data)\n",
    "graph"
   ],
   "metadata": {
    "collapsed": false,
    "pycharm": {
     "name": "#%%\n"
    }
   }
  },
  {
   "cell_type": "code",
   "execution_count": null,
   "outputs": [],
   "source": [],
   "metadata": {
    "collapsed": false,
    "pycharm": {
     "name": "#%%\n"
    }
   }
  },
  {
   "cell_type": "markdown",
   "metadata": {},
   "source": [
    "## Gráfico con sklearn"
   ]
  },
  {
   "cell_type": "code",
   "execution_count": 8,
   "metadata": {
    "pycharm": {
     "name": "#%%\n"
    }
   },
   "outputs": [
    {
     "data": {
      "image/svg+xml": [
       "<?xml version=\"1.0\" encoding=\"UTF-8\" standalone=\"no\"?>\n",
       "<!DOCTYPE svg PUBLIC \"-//W3C//DTD SVG 1.1//EN\"\n",
       " \"http://www.w3.org/Graphics/SVG/1.1/DTD/svg11.dtd\">\n",
       "<!-- Generated by graphviz version 4.0.0 (20220529.0937)\n",
       " -->\n",
       "<!-- Title: Tree Pages: 1 -->\n",
       "<svg width=\"342pt\" height=\"433pt\"\n",
       " viewBox=\"0.00 0.00 341.50 433.00\" xmlns=\"http://www.w3.org/2000/svg\" xmlns:xlink=\"http://www.w3.org/1999/xlink\">\n",
       "<g id=\"graph0\" class=\"graph\" transform=\"scale(1 1) rotate(0) translate(4 429)\">\n",
       "<title>Tree</title>\n",
       "<polygon fill=\"white\" stroke=\"transparent\" points=\"-4,4 -4,-429 337.5,-429 337.5,4 -4,4\"/>\n",
       "<!-- 0 -->\n",
       "<g id=\"node1\" class=\"node\">\n",
       "<title>0</title>\n",
       "<path fill=\"#f5cdb0\" stroke=\"black\" d=\"M254.5,-425C254.5,-425 158.5,-425 158.5,-425 152.5,-425 146.5,-419 146.5,-413 146.5,-413 146.5,-354 146.5,-354 146.5,-348 152.5,-342 158.5,-342 158.5,-342 254.5,-342 254.5,-342 260.5,-342 266.5,-348 266.5,-354 266.5,-354 266.5,-413 266.5,-413 266.5,-419 260.5,-425 254.5,-425\"/>\n",
       "<text text-anchor=\"start\" x=\"154.5\" y=\"-409.8\" font-family=\"Helvetica,sans-Serif\" font-size=\"14.00\">Proteccion ≤ 0.5</text>\n",
       "<text text-anchor=\"start\" x=\"156.5\" y=\"-394.8\" font-family=\"Helvetica,sans-Serif\" font-size=\"14.00\">entropy = 0.954</text>\n",
       "<text text-anchor=\"start\" x=\"167\" y=\"-379.8\" font-family=\"Helvetica,sans-Serif\" font-size=\"14.00\">samples = 8</text>\n",
       "<text text-anchor=\"start\" x=\"166\" y=\"-364.8\" font-family=\"Helvetica,sans-Serif\" font-size=\"14.00\">value = [5, 3]</text>\n",
       "<text text-anchor=\"start\" x=\"158.5\" y=\"-349.8\" font-family=\"Helvetica,sans-Serif\" font-size=\"14.00\">class = Quema</text>\n",
       "</g>\n",
       "<!-- 1 -->\n",
       "<g id=\"node2\" class=\"node\">\n",
       "<title>1</title>\n",
       "<path fill=\"#bddef6\" stroke=\"black\" d=\"M190,-306C190,-306 83,-306 83,-306 77,-306 71,-300 71,-294 71,-294 71,-235 71,-235 71,-229 77,-223 83,-223 83,-223 190,-223 190,-223 196,-223 202,-229 202,-235 202,-235 202,-294 202,-294 202,-300 196,-306 190,-306\"/>\n",
       "<text text-anchor=\"start\" x=\"101.5\" y=\"-290.8\" font-family=\"Helvetica,sans-Serif\" font-size=\"14.00\">Peso ≤ 1.5</text>\n",
       "<text text-anchor=\"start\" x=\"86.5\" y=\"-275.8\" font-family=\"Helvetica,sans-Serif\" font-size=\"14.00\">entropy = 0.971</text>\n",
       "<text text-anchor=\"start\" x=\"97\" y=\"-260.8\" font-family=\"Helvetica,sans-Serif\" font-size=\"14.00\">samples = 5</text>\n",
       "<text text-anchor=\"start\" x=\"96\" y=\"-245.8\" font-family=\"Helvetica,sans-Serif\" font-size=\"14.00\">value = [2, 3]</text>\n",
       "<text text-anchor=\"start\" x=\"79\" y=\"-230.8\" font-family=\"Helvetica,sans-Serif\" font-size=\"14.00\">class = No quema</text>\n",
       "</g>\n",
       "<!-- 0&#45;&gt;1 -->\n",
       "<g id=\"edge1\" class=\"edge\">\n",
       "<title>0&#45;&gt;1</title>\n",
       "<path fill=\"none\" stroke=\"black\" d=\"M182.21,-341.91C176.95,-333.1 171.32,-323.7 165.88,-314.61\"/>\n",
       "<polygon fill=\"black\" stroke=\"black\" points=\"168.88,-312.81 160.74,-306.02 162.87,-316.4 168.88,-312.81\"/>\n",
       "<text text-anchor=\"middle\" x=\"154.65\" y=\"-326.57\" font-family=\"Helvetica,sans-Serif\" font-size=\"14.00\">True</text>\n",
       "</g>\n",
       "<!-- 6 -->\n",
       "<g id=\"node7\" class=\"node\">\n",
       "<title>6</title>\n",
       "<path fill=\"#e58139\" stroke=\"black\" d=\"M320.5,-298.5C320.5,-298.5 232.5,-298.5 232.5,-298.5 226.5,-298.5 220.5,-292.5 220.5,-286.5 220.5,-286.5 220.5,-242.5 220.5,-242.5 220.5,-236.5 226.5,-230.5 232.5,-230.5 232.5,-230.5 320.5,-230.5 320.5,-230.5 326.5,-230.5 332.5,-236.5 332.5,-242.5 332.5,-242.5 332.5,-286.5 332.5,-286.5 332.5,-292.5 326.5,-298.5 320.5,-298.5\"/>\n",
       "<text text-anchor=\"start\" x=\"234.5\" y=\"-283.3\" font-family=\"Helvetica,sans-Serif\" font-size=\"14.00\">entropy = 0.0</text>\n",
       "<text text-anchor=\"start\" x=\"237\" y=\"-268.3\" font-family=\"Helvetica,sans-Serif\" font-size=\"14.00\">samples = 3</text>\n",
       "<text text-anchor=\"start\" x=\"236\" y=\"-253.3\" font-family=\"Helvetica,sans-Serif\" font-size=\"14.00\">value = [3, 0]</text>\n",
       "<text text-anchor=\"start\" x=\"228.5\" y=\"-238.3\" font-family=\"Helvetica,sans-Serif\" font-size=\"14.00\">class = Quema</text>\n",
       "</g>\n",
       "<!-- 0&#45;&gt;6 -->\n",
       "<g id=\"edge6\" class=\"edge\">\n",
       "<title>0&#45;&gt;6</title>\n",
       "<path fill=\"none\" stroke=\"black\" d=\"M230.79,-341.91C237.45,-330.76 244.7,-318.66 251.41,-307.44\"/>\n",
       "<polygon fill=\"black\" stroke=\"black\" points=\"254.53,-309.05 256.66,-298.67 248.52,-305.45 254.53,-309.05\"/>\n",
       "<text text-anchor=\"middle\" x=\"262.75\" y=\"-319.21\" font-family=\"Helvetica,sans-Serif\" font-size=\"14.00\">False</text>\n",
       "</g>\n",
       "<!-- 2 -->\n",
       "<g id=\"node3\" class=\"node\">\n",
       "<title>2</title>\n",
       "<path fill=\"#399de5\" stroke=\"black\" d=\"M119,-179.5C119,-179.5 12,-179.5 12,-179.5 6,-179.5 0,-173.5 0,-167.5 0,-167.5 0,-123.5 0,-123.5 0,-117.5 6,-111.5 12,-111.5 12,-111.5 119,-111.5 119,-111.5 125,-111.5 131,-117.5 131,-123.5 131,-123.5 131,-167.5 131,-167.5 131,-173.5 125,-179.5 119,-179.5\"/>\n",
       "<text text-anchor=\"start\" x=\"23.5\" y=\"-164.3\" font-family=\"Helvetica,sans-Serif\" font-size=\"14.00\">entropy = 0.0</text>\n",
       "<text text-anchor=\"start\" x=\"26\" y=\"-149.3\" font-family=\"Helvetica,sans-Serif\" font-size=\"14.00\">samples = 2</text>\n",
       "<text text-anchor=\"start\" x=\"25\" y=\"-134.3\" font-family=\"Helvetica,sans-Serif\" font-size=\"14.00\">value = [0, 2]</text>\n",
       "<text text-anchor=\"start\" x=\"8\" y=\"-119.3\" font-family=\"Helvetica,sans-Serif\" font-size=\"14.00\">class = No quema</text>\n",
       "</g>\n",
       "<!-- 1&#45;&gt;2 -->\n",
       "<g id=\"edge2\" class=\"edge\">\n",
       "<title>1&#45;&gt;2</title>\n",
       "<path fill=\"none\" stroke=\"black\" d=\"M111.87,-222.91C105.1,-211.76 97.76,-199.66 90.95,-188.44\"/>\n",
       "<polygon fill=\"black\" stroke=\"black\" points=\"93.81,-186.4 85.63,-179.67 87.82,-190.03 93.81,-186.4\"/>\n",
       "</g>\n",
       "<!-- 3 -->\n",
       "<g id=\"node4\" class=\"node\">\n",
       "<title>3</title>\n",
       "<path fill=\"#f2c09c\" stroke=\"black\" d=\"M253.5,-187C253.5,-187 161.5,-187 161.5,-187 155.5,-187 149.5,-181 149.5,-175 149.5,-175 149.5,-116 149.5,-116 149.5,-110 155.5,-104 161.5,-104 161.5,-104 253.5,-104 253.5,-104 259.5,-104 265.5,-110 265.5,-116 265.5,-116 265.5,-175 265.5,-175 265.5,-181 259.5,-187 253.5,-187\"/>\n",
       "<text text-anchor=\"start\" x=\"175\" y=\"-171.8\" font-family=\"Helvetica,sans-Serif\" font-size=\"14.00\">Pelo ≤ 0.5</text>\n",
       "<text text-anchor=\"start\" x=\"157.5\" y=\"-156.8\" font-family=\"Helvetica,sans-Serif\" font-size=\"14.00\">entropy = 0.918</text>\n",
       "<text text-anchor=\"start\" x=\"168\" y=\"-141.8\" font-family=\"Helvetica,sans-Serif\" font-size=\"14.00\">samples = 3</text>\n",
       "<text text-anchor=\"start\" x=\"167\" y=\"-126.8\" font-family=\"Helvetica,sans-Serif\" font-size=\"14.00\">value = [2, 1]</text>\n",
       "<text text-anchor=\"start\" x=\"159.5\" y=\"-111.8\" font-family=\"Helvetica,sans-Serif\" font-size=\"14.00\">class = Quema</text>\n",
       "</g>\n",
       "<!-- 1&#45;&gt;3 -->\n",
       "<g id=\"edge3\" class=\"edge\">\n",
       "<title>1&#45;&gt;3</title>\n",
       "<path fill=\"none\" stroke=\"black\" d=\"M161.13,-222.91C166.47,-214.1 172.18,-204.7 177.7,-195.61\"/>\n",
       "<polygon fill=\"black\" stroke=\"black\" points=\"180.71,-197.39 182.91,-187.02 174.73,-193.75 180.71,-197.39\"/>\n",
       "</g>\n",
       "<!-- 4 -->\n",
       "<g id=\"node5\" class=\"node\">\n",
       "<title>4</title>\n",
       "<path fill=\"#399de5\" stroke=\"black\" d=\"M191,-68C191,-68 84,-68 84,-68 78,-68 72,-62 72,-56 72,-56 72,-12 72,-12 72,-6 78,0 84,0 84,0 191,0 191,0 197,0 203,-6 203,-12 203,-12 203,-56 203,-56 203,-62 197,-68 191,-68\"/>\n",
       "<text text-anchor=\"start\" x=\"95.5\" y=\"-52.8\" font-family=\"Helvetica,sans-Serif\" font-size=\"14.00\">entropy = 0.0</text>\n",
       "<text text-anchor=\"start\" x=\"98\" y=\"-37.8\" font-family=\"Helvetica,sans-Serif\" font-size=\"14.00\">samples = 1</text>\n",
       "<text text-anchor=\"start\" x=\"97\" y=\"-22.8\" font-family=\"Helvetica,sans-Serif\" font-size=\"14.00\">value = [0, 1]</text>\n",
       "<text text-anchor=\"start\" x=\"80\" y=\"-7.8\" font-family=\"Helvetica,sans-Serif\" font-size=\"14.00\">class = No quema</text>\n",
       "</g>\n",
       "<!-- 3&#45;&gt;4 -->\n",
       "<g id=\"edge4\" class=\"edge\">\n",
       "<title>3&#45;&gt;4</title>\n",
       "<path fill=\"none\" stroke=\"black\" d=\"M181.43,-103.73C175.84,-94.97 169.91,-85.7 164.29,-76.91\"/>\n",
       "<polygon fill=\"black\" stroke=\"black\" points=\"167.12,-74.84 158.79,-68.3 161.22,-78.61 167.12,-74.84\"/>\n",
       "</g>\n",
       "<!-- 5 -->\n",
       "<g id=\"node6\" class=\"node\">\n",
       "<title>5</title>\n",
       "<path fill=\"#e58139\" stroke=\"black\" d=\"M321.5,-68C321.5,-68 233.5,-68 233.5,-68 227.5,-68 221.5,-62 221.5,-56 221.5,-56 221.5,-12 221.5,-12 221.5,-6 227.5,0 233.5,0 233.5,0 321.5,0 321.5,0 327.5,0 333.5,-6 333.5,-12 333.5,-12 333.5,-56 333.5,-56 333.5,-62 327.5,-68 321.5,-68\"/>\n",
       "<text text-anchor=\"start\" x=\"235.5\" y=\"-52.8\" font-family=\"Helvetica,sans-Serif\" font-size=\"14.00\">entropy = 0.0</text>\n",
       "<text text-anchor=\"start\" x=\"238\" y=\"-37.8\" font-family=\"Helvetica,sans-Serif\" font-size=\"14.00\">samples = 2</text>\n",
       "<text text-anchor=\"start\" x=\"237\" y=\"-22.8\" font-family=\"Helvetica,sans-Serif\" font-size=\"14.00\">value = [2, 0]</text>\n",
       "<text text-anchor=\"start\" x=\"229.5\" y=\"-7.8\" font-family=\"Helvetica,sans-Serif\" font-size=\"14.00\">class = Quema</text>\n",
       "</g>\n",
       "<!-- 3&#45;&gt;5 -->\n",
       "<g id=\"edge5\" class=\"edge\">\n",
       "<title>3&#45;&gt;5</title>\n",
       "<path fill=\"none\" stroke=\"black\" d=\"M233.57,-103.73C239.16,-94.97 245.09,-85.7 250.71,-76.91\"/>\n",
       "<polygon fill=\"black\" stroke=\"black\" points=\"253.78,-78.61 256.21,-68.3 247.88,-74.84 253.78,-78.61\"/>\n",
       "</g>\n",
       "</g>\n",
       "</svg>\n"
      ],
      "text/plain": [
       "<graphviz.sources.Source at 0x136b40ea770>"
      ]
     },
     "execution_count": 8,
     "metadata": {},
     "output_type": "execute_result"
    }
   ],
   "source": [
    "#utilizando la librería sklearn\n",
    "\n",
    "from sklearn import tree\n",
    "from sklearn import preprocessing\n",
    "\n",
    "data = pd.DataFrame()\n",
    "le = preprocessing.LabelEncoder()\n",
    "\n",
    "for v in labels:\n",
    "    le.fit(quemadura_data[v])\n",
    "    data[v] = le.transform(quemadura_data[v])\n",
    "clf = tree.DecisionTreeClassifier(criterion='entropy',max_depth=4)\n",
    "t_data = data[data.columns[0:4]]\n",
    "t_target = data[data.columns[4]]\n",
    "clf = clf.fit(t_data, t_target)\n",
    "t_data, t_target,clf\n",
    "dot_data = tree.export_graphviz(clf, out_file=None,\n",
    "                         feature_names=list(t_data.columns.values),\n",
    "                         class_names=clase,\n",
    "                         filled=True, rounded=True,\n",
    "                         special_characters=True)\n",
    "graph = graphviz.Source(dot_data)\n",
    "graph"
   ]
  },
  {
   "cell_type": "code",
   "execution_count": null,
   "metadata": {},
   "outputs": [],
   "source": []
  }
 ],
 "metadata": {
  "kernelspec": {
   "display_name": "Python 3 (ipykernel)",
   "language": "python",
   "name": "python3"
  },
  "language_info": {
   "codemirror_mode": {
    "name": "ipython",
    "version": 3
   },
   "file_extension": ".py",
   "mimetype": "text/x-python",
   "name": "python",
   "nbconvert_exporter": "python",
   "pygments_lexer": "ipython3",
   "version": "3.10.4"
  }
 },
 "nbformat": 4,
 "nbformat_minor": 4
}