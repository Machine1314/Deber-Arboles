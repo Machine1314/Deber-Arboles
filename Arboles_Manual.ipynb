{
 "cells": [
  {
   "cell_type": "code",
   "execution_count": 2,
   "metadata": {
    "pycharm": {
     "name": "#%%\n"
    }
   },
   "outputs": [
    {
     "data": {
      "text/plain": "           Pelo Altura   Peso Proteccion Quemadura\nEjemplo                                           \n1         rubio  medio   bajo        no         si\n2         rubio   alto  medio         si        no\n3        moreno   bajo  medio         si        no\n4         rubio   bajo  medio        no         si\n5          rojo  medio   alto        no         si",
      "text/html": "<div>\n<style scoped>\n    .dataframe tbody tr th:only-of-type {\n        vertical-align: middle;\n    }\n\n    .dataframe tbody tr th {\n        vertical-align: top;\n    }\n\n    .dataframe thead th {\n        text-align: right;\n    }\n</style>\n<table border=\"1\" class=\"dataframe\">\n  <thead>\n    <tr style=\"text-align: right;\">\n      <th></th>\n      <th>Pelo</th>\n      <th>Altura</th>\n      <th>Peso</th>\n      <th>Proteccion</th>\n      <th>Quemadura</th>\n    </tr>\n    <tr>\n      <th>Ejemplo</th>\n      <th></th>\n      <th></th>\n      <th></th>\n      <th></th>\n      <th></th>\n    </tr>\n  </thead>\n  <tbody>\n    <tr>\n      <th>1</th>\n      <td>rubio</td>\n      <td>medio</td>\n      <td>bajo</td>\n      <td>no</td>\n      <td>si</td>\n    </tr>\n    <tr>\n      <th>2</th>\n      <td>rubio</td>\n      <td>alto</td>\n      <td>medio</td>\n      <td>si</td>\n      <td>no</td>\n    </tr>\n    <tr>\n      <th>3</th>\n      <td>moreno</td>\n      <td>bajo</td>\n      <td>medio</td>\n      <td>si</td>\n      <td>no</td>\n    </tr>\n    <tr>\n      <th>4</th>\n      <td>rubio</td>\n      <td>bajo</td>\n      <td>medio</td>\n      <td>no</td>\n      <td>si</td>\n    </tr>\n    <tr>\n      <th>5</th>\n      <td>rojo</td>\n      <td>medio</td>\n      <td>alto</td>\n      <td>no</td>\n      <td>si</td>\n    </tr>\n  </tbody>\n</table>\n</div>"
     },
     "execution_count": 2,
     "metadata": {},
     "output_type": "execute_result"
    }
   ],
   "source": [
    "#cálculo numérico y análisis de datos\n",
    "import numpy as np\n",
    "#manipulación y análisis de datos (estructuras de datos)\n",
    "import pandas as pd\n",
    "\n",
    "quemadura_data = pd.read_csv(\"arbQuemadura.csv\", index_col=0)\n",
    "quemadura_data.head()\n"
   ]
  },
  {
   "cell_type": "code",
   "execution_count": 3,
   "metadata": {
    "pycharm": {
     "name": "#%%\n"
    }
   },
   "outputs": [
    {
     "name": "stdout",
     "output_type": "stream",
     "text": [
      "Entropia del arbol 0.954434002924965\n"
     ]
    },
    {
     "data": {
      "text/plain": "(array(['no', 'si'], dtype=object), array([5, 3], dtype=int64))"
     },
     "execution_count": 3,
     "metadata": {},
     "output_type": "execute_result"
    }
   ],
   "source": [
    "#caluclar la entropia\n",
    "def calcular_entropia(p):\n",
    "    return -np.sum(p*np.log2(p))\n",
    "#contar las clases del arbol\n",
    "valores, cuantos = np.unique(quemadura_data['Quemadura'], return_counts=True)\n",
    "entropia = calcular_entropia(cuantos/sum(cuantos))\n",
    "print(\"Entropia del arbol\",entropia)\n",
    "valores,cuantos"
   ]
  },
  {
   "cell_type": "code",
   "execution_count": 4,
   "metadata": {
    "pycharm": {
     "name": "#%%\n"
    }
   },
   "outputs": [
    {
     "name": "stdout",
     "output_type": "stream",
     "text": [
      "tiene se (array([2, 5, 6], dtype=int64),)\n",
      "se_quemadura Ejemplo\n",
      "3    no\n",
      "6    no\n",
      "7    no\n",
      "Name: Quemadura, dtype: object\n",
      "subgrupos  ['no'] [3]\n",
      "se_entropia 0.0\n",
      "probabilidad valor 0.375\n",
      "info_A [[0.0, 0.375]]\n",
      "tiene se (array([4], dtype=int64),)\n",
      "se_quemadura Ejemplo\n",
      "5    si\n",
      "Name: Quemadura, dtype: object\n",
      "subgrupos  ['si'] [1]\n",
      "se_entropia 0.0\n",
      "probabilidad valor 0.125\n",
      "info_A [[0.0, 0.375], [0.0, 0.125]]\n",
      "tiene se (array([0, 1, 3, 7], dtype=int64),)\n",
      "se_quemadura Ejemplo\n",
      "1    si\n",
      "2    no\n",
      "4    si\n",
      "8    no\n",
      "Name: Quemadura, dtype: object\n",
      "subgrupos  ['no' 'si'] [2 2]\n",
      "se_entropia 1.0\n",
      "probabilidad valor 0.5\n",
      "info_A [[0.0, 0.375], [0.0, 0.125], [1.0, 0.5]]\n",
      "info_g 0.5\n",
      "ganancia de pelo 0.45443400292496505\n"
     ]
    }
   ],
   "source": [
    "#calcular la ganancia\n",
    "def calcular_ganancia(valores, var='Pelo'):\n",
    "    \n",
    "    valores, cuantos = np.unique(quemadura_data[var],return_counts=True)\n",
    "    #genero una lista para calcular la ganancia\n",
    "    info_A = []\n",
    "    \n",
    "    for e in valores:\n",
    "        se = np.where(quemadura_data[var]==e)\n",
    "        print(\"tiene se\",se)\n",
    "        #particiona por valor\n",
    "        se_quemadura = quemadura_data['Quemadura'][quemadura_data.index[se[0]]]\n",
    "        print(\"se_quemadura\",se_quemadura)\n",
    "        #valores por subgrupo\n",
    "        v_se_quemadura, c_se_quemadura = np.unique(se_quemadura,return_counts=True)\n",
    "        print(\"subgrupos \",v_se_quemadura,c_se_quemadura)\n",
    "        #entropia del valor\n",
    "        se_entropia = abs(calcular_entropia(c_se_quemadura/sum(c_se_quemadura)))\n",
    "        print(\"se_entropia\",se_entropia)\n",
    "        #probabilidad del valor\n",
    "        se_size = sum(c_se_quemadura)/len(quemadura_data.index)\n",
    "        print(\"probabilidad valor\",se_size)\n",
    "        #almacenar valores\n",
    "        info_A += [[se_entropia, se_size]]\n",
    "        print(\"info_A\",info_A)\n",
    "    #convertir lista en arreglo\n",
    "    info_A = np.array(info_A)\n",
    "    #calcular la entropia de la variable\n",
    "    info_g = np.sum(info_A[:,0]*info_A[:,1])\n",
    "    print(\"info_g\",info_g)\n",
    "    return info_g\n",
    "\n",
    "info_A= calcular_ganancia(valores, var='Pelo')\n",
    "ganancia = entropia - info_A\n",
    "print(\"ganancia de pelo\",ganancia)"
   ]
  },
  {
   "cell_type": "code",
   "execution_count": 13,
   "metadata": {
    "pycharm": {
     "name": "#%%\n"
    }
   },
   "outputs": [
    {
     "name": "stdout",
     "output_type": "stream",
     "text": [
      "tiene se (array([1, 5], dtype=int64),)\n",
      "se_quemadura Ejemplo\n",
      "2    no\n",
      "6    no\n",
      "Name: Quemadura, dtype: object\n",
      "subgrupos  ['no'] [2]\n",
      "se_entropia 0.0\n",
      "probabilidad valor 0.25\n",
      "info_A [[0.0, 0.25]]\n",
      "tiene se (array([2, 3, 7], dtype=int64),)\n",
      "se_quemadura Ejemplo\n",
      "3    no\n",
      "4    si\n",
      "8    no\n",
      "Name: Quemadura, dtype: object\n",
      "subgrupos  ['no' 'si'] [2 1]\n",
      "se_entropia 0.9182958340544896\n",
      "probabilidad valor 0.375\n",
      "info_A [[0.0, 0.25], [0.9182958340544896, 0.375]]\n",
      "tiene se (array([0, 4, 6], dtype=int64),)\n",
      "se_quemadura Ejemplo\n",
      "1    si\n",
      "5    si\n",
      "7    no\n",
      "Name: Quemadura, dtype: object\n",
      "subgrupos  ['no' 'si'] [1 2]\n",
      "se_entropia 0.9182958340544896\n",
      "probabilidad valor 0.375\n",
      "info_A [[0.0, 0.25], [0.9182958340544896, 0.375], [0.9182958340544896, 0.375]]\n",
      "info_g 0.6887218755408672\n",
      "ganancia de altura 0.2657121273840979\n"
     ]
    }
   ],
   "source": [
    "#altura\n",
    "info_A= calcular_ganancia(valores, var='Altura')\n",
    "ganancia = entropia - info_A\n",
    "print(\"ganancia de altura\",ganancia)"
   ]
  },
  {
   "cell_type": "code",
   "execution_count": 14,
   "metadata": {
    "pycharm": {
     "name": "#%%\n"
    }
   },
   "outputs": [
    {
     "name": "stdout",
     "output_type": "stream",
     "text": [
      "tiene se (array([4, 5, 6], dtype=int64),)\n",
      "se_quemadura Ejemplo\n",
      "5    si\n",
      "6    no\n",
      "7    no\n",
      "Name: Quemadura, dtype: object\n",
      "subgrupos  ['no' 'si'] [2 1]\n",
      "se_entropia 0.9182958340544896\n",
      "probabilidad valor 0.375\n",
      "info_A [[0.9182958340544896, 0.375]]\n",
      "tiene se (array([0, 7], dtype=int64),)\n",
      "se_quemadura Ejemplo\n",
      "1    si\n",
      "8    no\n",
      "Name: Quemadura, dtype: object\n",
      "subgrupos  ['no' 'si'] [1 1]\n",
      "se_entropia 1.0\n",
      "probabilidad valor 0.25\n",
      "info_A [[0.9182958340544896, 0.375], [1.0, 0.25]]\n",
      "tiene se (array([1, 2, 3], dtype=int64),)\n",
      "se_quemadura Ejemplo\n",
      "2    no\n",
      "3    no\n",
      "4    si\n",
      "Name: Quemadura, dtype: object\n",
      "subgrupos  ['no' 'si'] [2 1]\n",
      "se_entropia 0.9182958340544896\n",
      "probabilidad valor 0.375\n",
      "info_A [[0.9182958340544896, 0.375], [1.0, 0.25], [0.9182958340544896, 0.375]]\n",
      "info_g 0.9387218755408671\n",
      "ganancia de peso 0.015712127384097996\n"
     ]
    }
   ],
   "source": [
    "#ganancia de peso\n",
    "info_A= calcular_ganancia(valores, var='Peso')\n",
    "ganancia = entropia - info_A\n",
    "print(\"ganancia de peso\",ganancia)"
   ]
  },
  {
   "cell_type": "code",
   "execution_count": 15,
   "metadata": {
    "pycharm": {
     "name": "#%%\n"
    }
   },
   "outputs": [
    {
     "name": "stdout",
     "output_type": "stream",
     "text": [
      "tiene se (array([0, 3, 4, 5, 6], dtype=int64),)\n",
      "se_quemadura Ejemplo\n",
      "1    si\n",
      "4    si\n",
      "5    si\n",
      "6    no\n",
      "7    no\n",
      "Name: Quemadura, dtype: object\n",
      "subgrupos  ['no' 'si'] [2 3]\n",
      "se_entropia 0.9709505944546686\n",
      "probabilidad valor 0.625\n",
      "info_A [[0.9709505944546686, 0.625]]\n",
      "tiene se (array([1, 2, 7], dtype=int64),)\n",
      "se_quemadura Ejemplo\n",
      "2    no\n",
      "3    no\n",
      "8    no\n",
      "Name: Quemadura, dtype: object\n",
      "subgrupos  ['no'] [3]\n",
      "se_entropia 0.0\n",
      "probabilidad valor 0.375\n",
      "info_A [[0.9709505944546686, 0.625], [0.0, 0.375]]\n",
      "info_g 0.6068441215341679\n",
      "ganancia de proteccion 0.34758988139079716\n"
     ]
    }
   ],
   "source": [
    "info_A= calcular_ganancia(valores, var='Proteccion')\n",
    "ganancia = entropia - info_A\n",
    "print(\"ganancia de proteccion\",ganancia)"
   ]
  },
  {
   "cell_type": "code",
   "execution_count": 23,
   "metadata": {
    "pycharm": {
     "name": "#%%\n"
    }
   },
   "outputs": [
    {
     "data": {
      "text/plain": [
       "(   Pelo  Altura  Peso  Proteccion\n",
       " 0     2       2     1           0\n",
       " 1     2       0     2           1\n",
       " 2     0       1     2           1\n",
       " 3     2       1     2           0\n",
       " 4     1       2     0           0\n",
       " 5     0       0     0           0\n",
       " 6     0       2     0           0\n",
       " 7     2       1     1           1,\n",
       " 0    1\n",
       " 1    0\n",
       " 2    0\n",
       " 3    1\n",
       " 4    1\n",
       " 5    0\n",
       " 6    0\n",
       " 7    0\n",
       " Name: Quemadura, dtype: int32,\n",
       " DecisionTreeClassifier(criterion='entropy', max_depth=4))"
      ]
     },
     "execution_count": 23,
     "metadata": {},
     "output_type": "execute_result"
    }
   ],
   "source": [
    "#utilizando la librería sklearn\n",
    "\n",
    "from sklearn import tree\n",
    "from sklearn import preprocessing\n",
    "\n",
    "data = pd.DataFrame()\n",
    "le = preprocessing.LabelEncoder()\n",
    "var = [\"Pelo\",\"Altura\",\"Peso\",\"Proteccion\",\"Quemadura\"]\n",
    "\n",
    "for v in var:\n",
    "    le.fit(quemadura_data[v])\n",
    "    data[v] = le.transform(quemadura_data[v])\n",
    "clf = tree.DecisionTreeClassifier(criterion='entropy',max_depth=4)\n",
    "t_data = data[data.columns[0:4]]\n",
    "t_target = data[data.columns[4]]\n",
    "clf = clf.fit(t_data, t_target)\n",
    "t_data, t_target,clf"
   ]
  }
 ],
 "metadata": {
  "kernelspec": {
   "display_name": "Python 3",
   "language": "python",
   "name": "python3"
  },
  "language_info": {
   "codemirror_mode": {
    "name": "ipython",
    "version": 3
   },
   "file_extension": ".py",
   "mimetype": "text/x-python",
   "name": "python",
   "nbconvert_exporter": "python",
   "pygments_lexer": "ipython3",
   "version": "3.8.5"
  }
 },
 "nbformat": 4,
 "nbformat_minor": 4
}