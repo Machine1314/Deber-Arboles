{
 "cells": [
  {
   "cell_type": "markdown",
   "metadata": {
    "pycharm": {
     "name": "#%% md\n"
    }
   },
   "source": [
    "# Grupo 3\n",
    "### Bruno Dueñas, Fernando Mejía, Mateo Córdova\n",
    "\n",
    "## Imports y labels globales"
   ]
  },
  {
   "cell_type": "code",
   "execution_count": 1,
   "metadata": {
    "pycharm": {
     "name": "#%%\n"
    }
   },
   "outputs": [],
   "source": [
    "import numpy as np\n",
    "import graphviz\n",
    "from graphviz import Digraph\n",
    "import pandas as pd\n",
    "labels = ['Proteccion', 'Pelo', 'Altura', 'Peso', 'Quemadura']\n",
    "clase = ['Quema', 'No quema']"
   ]
  },
  {
   "cell_type": "markdown",
   "metadata": {
    "pycharm": {
     "name": "#%% md\n"
    }
   },
   "source": [
    "## Data"
   ]
  },
  {
   "cell_type": "code",
   "execution_count": 2,
   "metadata": {
    "pycharm": {
     "name": "#%%\n"
    }
   },
   "outputs": [
    {
     "data": {
      "text/html": [
       "<div>\n",
       "<style scoped>\n",
       "    .dataframe tbody tr th:only-of-type {\n",
       "        vertical-align: middle;\n",
       "    }\n",
       "\n",
       "    .dataframe tbody tr th {\n",
       "        vertical-align: top;\n",
       "    }\n",
       "\n",
       "    .dataframe thead th {\n",
       "        text-align: right;\n",
       "    }\n",
       "</style>\n",
       "<table border=\"1\" class=\"dataframe\">\n",
       "  <thead>\n",
       "    <tr style=\"text-align: right;\">\n",
       "      <th></th>\n",
       "      <th>Pelo</th>\n",
       "      <th>Altura</th>\n",
       "      <th>Peso</th>\n",
       "      <th>Proteccion</th>\n",
       "      <th>Quemadura</th>\n",
       "    </tr>\n",
       "    <tr>\n",
       "      <th>Ejemplo</th>\n",
       "      <th></th>\n",
       "      <th></th>\n",
       "      <th></th>\n",
       "      <th></th>\n",
       "      <th></th>\n",
       "    </tr>\n",
       "  </thead>\n",
       "  <tbody>\n",
       "    <tr>\n",
       "      <th>1</th>\n",
       "      <td>rubio</td>\n",
       "      <td>medio</td>\n",
       "      <td>bajo</td>\n",
       "      <td>no</td>\n",
       "      <td>si</td>\n",
       "    </tr>\n",
       "    <tr>\n",
       "      <th>2</th>\n",
       "      <td>rubio</td>\n",
       "      <td>alto</td>\n",
       "      <td>medio</td>\n",
       "      <td>si</td>\n",
       "      <td>no</td>\n",
       "    </tr>\n",
       "    <tr>\n",
       "      <th>3</th>\n",
       "      <td>moreno</td>\n",
       "      <td>bajo</td>\n",
       "      <td>medio</td>\n",
       "      <td>si</td>\n",
       "      <td>no</td>\n",
       "    </tr>\n",
       "    <tr>\n",
       "      <th>4</th>\n",
       "      <td>rubio</td>\n",
       "      <td>bajo</td>\n",
       "      <td>medio</td>\n",
       "      <td>no</td>\n",
       "      <td>si</td>\n",
       "    </tr>\n",
       "    <tr>\n",
       "      <th>5</th>\n",
       "      <td>rojo</td>\n",
       "      <td>medio</td>\n",
       "      <td>alto</td>\n",
       "      <td>no</td>\n",
       "      <td>si</td>\n",
       "    </tr>\n",
       "  </tbody>\n",
       "</table>\n",
       "</div>"
      ],
      "text/plain": [
       "           Pelo Altura   Peso Proteccion Quemadura\n",
       "Ejemplo                                           \n",
       "1         rubio  medio   bajo         no        si\n",
       "2         rubio   alto  medio         si        no\n",
       "3        moreno   bajo  medio         si        no\n",
       "4         rubio   bajo  medio         no        si\n",
       "5          rojo  medio   alto         no        si"
      ]
     },
     "execution_count": 2,
     "metadata": {},
     "output_type": "execute_result"
    }
   ],
   "source": [
    "quemadura_data = pd.read_csv(\"arbQuemadura.csv\", index_col=0)\n",
    "quemadura_data.head()"
   ]
  },
  {
   "cell_type": "markdown",
   "metadata": {
    "pycharm": {
     "name": "#%% md\n"
    }
   },
   "source": [
    "## Data tratada"
   ]
  },
  {
   "cell_type": "code",
   "execution_count": 3,
   "metadata": {
    "pycharm": {
     "name": "#%%\n"
    }
   },
   "outputs": [
    {
     "data": {
      "text/html": [
       "<div>\n",
       "<style scoped>\n",
       "    .dataframe tbody tr th:only-of-type {\n",
       "        vertical-align: middle;\n",
       "    }\n",
       "\n",
       "    .dataframe tbody tr th {\n",
       "        vertical-align: top;\n",
       "    }\n",
       "\n",
       "    .dataframe thead th {\n",
       "        text-align: right;\n",
       "    }\n",
       "</style>\n",
       "<table border=\"1\" class=\"dataframe\">\n",
       "  <thead>\n",
       "    <tr style=\"text-align: right;\">\n",
       "      <th></th>\n",
       "      <th>Pelo</th>\n",
       "      <th>Altura</th>\n",
       "      <th>Peso</th>\n",
       "      <th>Proteccion</th>\n",
       "      <th>Quemadura</th>\n",
       "    </tr>\n",
       "    <tr>\n",
       "      <th>Ejemplo</th>\n",
       "      <th></th>\n",
       "      <th></th>\n",
       "      <th></th>\n",
       "      <th></th>\n",
       "      <th></th>\n",
       "    </tr>\n",
       "  </thead>\n",
       "  <tbody>\n",
       "    <tr>\n",
       "      <th>1</th>\n",
       "      <td>2</td>\n",
       "      <td>1</td>\n",
       "      <td>0</td>\n",
       "      <td>0</td>\n",
       "      <td>1</td>\n",
       "    </tr>\n",
       "    <tr>\n",
       "      <th>2</th>\n",
       "      <td>2</td>\n",
       "      <td>2</td>\n",
       "      <td>1</td>\n",
       "      <td>1</td>\n",
       "      <td>0</td>\n",
       "    </tr>\n",
       "    <tr>\n",
       "      <th>3</th>\n",
       "      <td>1</td>\n",
       "      <td>0</td>\n",
       "      <td>1</td>\n",
       "      <td>1</td>\n",
       "      <td>0</td>\n",
       "    </tr>\n",
       "    <tr>\n",
       "      <th>4</th>\n",
       "      <td>2</td>\n",
       "      <td>0</td>\n",
       "      <td>1</td>\n",
       "      <td>0</td>\n",
       "      <td>1</td>\n",
       "    </tr>\n",
       "    <tr>\n",
       "      <th>5</th>\n",
       "      <td>0</td>\n",
       "      <td>1</td>\n",
       "      <td>2</td>\n",
       "      <td>0</td>\n",
       "      <td>1</td>\n",
       "    </tr>\n",
       "    <tr>\n",
       "      <th>6</th>\n",
       "      <td>1</td>\n",
       "      <td>2</td>\n",
       "      <td>2</td>\n",
       "      <td>0</td>\n",
       "      <td>0</td>\n",
       "    </tr>\n",
       "    <tr>\n",
       "      <th>7</th>\n",
       "      <td>1</td>\n",
       "      <td>1</td>\n",
       "      <td>2</td>\n",
       "      <td>0</td>\n",
       "      <td>0</td>\n",
       "    </tr>\n",
       "    <tr>\n",
       "      <th>8</th>\n",
       "      <td>2</td>\n",
       "      <td>0</td>\n",
       "      <td>0</td>\n",
       "      <td>1</td>\n",
       "      <td>0</td>\n",
       "    </tr>\n",
       "  </tbody>\n",
       "</table>\n",
       "</div>"
      ],
      "text/plain": [
       "         Pelo  Altura  Peso  Proteccion  Quemadura\n",
       "Ejemplo                                           \n",
       "1           2       1     0           0          1\n",
       "2           2       2     1           1          0\n",
       "3           1       0     1           1          0\n",
       "4           2       0     1           0          1\n",
       "5           0       1     2           0          1\n",
       "6           1       2     2           0          0\n",
       "7           1       1     2           0          0\n",
       "8           2       0     0           1          0"
      ]
     },
     "execution_count": 3,
     "metadata": {},
     "output_type": "execute_result"
    }
   ],
   "source": [
    "d = {'rubio': 2, 'moreno': 1, 'rojo': 0}\n",
    "quemadura_data['Pelo'] = quemadura_data['Pelo'].map(d)\n",
    "d = {'alto': 2, 'medio': 1, 'bajo': 0}\n",
    "quemadura_data['Peso'] = quemadura_data['Peso'].map(d)\n",
    "d = {'alto': 2, 'medio': 1, 'bajo': 0}\n",
    "quemadura_data['Altura'] = quemadura_data['Altura'].map(d)\n",
    "d = {'si': 1, 'no': 0}\n",
    "quemadura_data['Proteccion'] = quemadura_data['Proteccion'].map(d)\n",
    "quemadura_data['Quemadura'] = quemadura_data['Quemadura'].map(d)\n",
    "quemadura_data"
   ]
  },
  {
   "cell_type": "code",
   "execution_count": 4,
   "metadata": {},
   "outputs": [],
   "source": [
    "answers = quemadura_data['Quemadura']"
   ]
  },
  {
   "cell_type": "markdown",
   "metadata": {
    "pycharm": {
     "name": "#%% md\n"
    }
   },
   "source": [
    "### calcular la entropia"
   ]
  },
  {
   "cell_type": "code",
   "execution_count": 5,
   "metadata": {
    "pycharm": {
     "name": "#%%\n"
    }
   },
   "outputs": [],
   "source": [
    "def calcular_entropia(p):\n",
    "    return -np.sum(p*np.log2(p))"
   ]
  },
  {
   "cell_type": "markdown",
   "metadata": {
    "pycharm": {
     "name": "#%% md\n"
    }
   },
   "source": [
    "### calcular la ganancia"
   ]
  },
  {
   "cell_type": "code",
   "execution_count": 6,
   "metadata": {
    "pycharm": {
     "name": "#%%\n"
    }
   },
   "outputs": [],
   "source": [
    "#calcular la ganancia\n",
    "def calcular_ganancia(valores, var='Pelo'):\n",
    "    valores, cuantos = np.unique(quemadura_data[var],return_counts=True)\n",
    "    #genero una lista para calcular la ganancia\n",
    "    info_A = []\n",
    "    respuestas = [0, 0]\n",
    "    indexes1 = []\n",
    "    indexes0 = []\n",
    "    for e in valores:\n",
    "        se = np.where(quemadura_data[var]==e)\n",
    "        #print(\"tiene se\",se)\n",
    "        #particiona por valor\n",
    "        #indexes.append(quemadura_data.index[se[0]])\n",
    "        se_quemadura = quemadura_data['Quemadura'][quemadura_data.index[se[0]]]\n",
    "        \n",
    "        #print(\"se_quemadura\",se_quemadura)\n",
    "        #valores por subgrupo\n",
    "        v_se_quemadura, c_se_quemadura = np.unique(se_quemadura,return_counts=True)\n",
    "        #print(\"subgrupos para {}: {} {}\".format(e,v_se_quemadura,c_se_quemadura))\n",
    "        #entropia del valor\n",
    "        se_entropia = abs(calcular_entropia(c_se_quemadura/sum(c_se_quemadura)))\n",
    "        #print(\"Entropia: \",se_entropia)\n",
    "        #probabilidad del valor\n",
    "        se_size = sum(c_se_quemadura)/len(quemadura_data.index)\n",
    "        #print(\"probabilidad valor\",se_size)\n",
    "        #almacenar valores\n",
    "        info_A += [[se_entropia, se_size]]\n",
    "        #print(\"info_A\",info_A)\n",
    "    #convertir lista en arreglo\n",
    "    info_A = np.array(info_A)\n",
    "    #calcular la entropia de la variable\n",
    "    info_g = np.sum(info_A[:,0]*info_A[:,1])\n",
    "    #print(\"info_g\",info_g)\n",
    "    #print('respuestas>>>>', respuestas)\n",
    "    return info_g"
   ]
  },
  {
   "cell_type": "markdown",
   "metadata": {},
   "source": [
    "## get key"
   ]
  },
  {
   "cell_type": "code",
   "execution_count": 7,
   "metadata": {},
   "outputs": [],
   "source": [
    "def get_key(val, dictionary):\n",
    "    for key, value in dictionary.items():\n",
    "        if val == value:\n",
    "            return key"
   ]
  },
  {
   "cell_type": "code",
   "execution_count": 8,
   "metadata": {},
   "outputs": [],
   "source": [
    "def val_append(dict_obj, key, value):\n",
    " if key in dict_obj:\n",
    "  if not isinstance(dict_obj[key], list):\n",
    "   dict_obj[key] = [dict_obj[key]]\n",
    "   dict_obj[key].append(value)"
   ]
  },
  {
   "cell_type": "code",
   "execution_count": 9,
   "metadata": {},
   "outputs": [],
   "source": [
    "def splitNode(etiqueta, media):\n",
    "    dictNode = {}\n",
    "    cumple = []\n",
    "    nocumple = []\n",
    "    nocumple.append(np.where(quemadura_data[etiqueta] > media)[0])\n",
    "    cumple.append(np.where(quemadura_data[etiqueta] <= media)[0])\n",
    "    dictNode['cumple'] = cumple\n",
    "    dictNode['nocumple'] = nocumple\n",
    "    return dictNode"
   ]
  },
  {
   "cell_type": "markdown",
   "metadata": {
    "pycharm": {
     "name": "#%% md\n"
    }
   },
   "source": [
    "## Calcular la entropia del arbol"
   ]
  },
  {
   "cell_type": "code",
   "execution_count": 10,
   "metadata": {
    "pycharm": {
     "name": "#%%\n"
    }
   },
   "outputs": [
    {
     "name": "stdout",
     "output_type": "stream",
     "text": [
      "Entropia del arbol 0.954434002924965\n"
     ]
    },
    {
     "data": {
      "text/plain": [
       "(array([0, 1], dtype=int64), array([5, 3], dtype=int64))"
      ]
     },
     "execution_count": 10,
     "metadata": {},
     "output_type": "execute_result"
    }
   ],
   "source": [
    "valores, cuantos = np.unique(quemadura_data['Quemadura'], return_counts=True)\n",
    "entropia = calcular_entropia(cuantos/sum(cuantos))\n",
    "print(\"Entropia del arbol\",entropia)\n",
    "valores,cuantos"
   ]
  },
  {
   "cell_type": "markdown",
   "metadata": {
    "pycharm": {
     "name": "#%% md\n"
    }
   },
   "source": [
    "## Gráfico manual del árbol"
   ]
  },
  {
   "cell_type": "code",
   "execution_count": 11,
   "metadata": {
    "pycharm": {
     "name": "#%%\n"
    },
    "scrolled": false
   },
   "outputs": [
    {
     "name": "stdout",
     "output_type": "stream",
     "text": [
      "***********Proteccion************\n",
      "Media: 0.5 \\n Data: [2 3 8]\n",
      "         Pelo  Altura  Peso  Proteccion  Quemadura\n",
      "Ejemplo                                           \n",
      "1           2       1     0           0          1\n",
      "4           2       0     1           0          1\n",
      "5           0       1     2           0          1\n",
      "6           1       2     2           0          0\n",
      "7           1       1     2           0          0\n"
     ]
    },
    {
     "ename": "IndexError",
     "evalue": "index 7 is out of bounds for axis 0 with size 5",
     "output_type": "error",
     "traceback": [
      "\u001b[1;31m---------------------------------------------------------------------------\u001b[0m",
      "\u001b[1;31mIndexError\u001b[0m                                Traceback (most recent call last)",
      "Input \u001b[1;32mIn [11]\u001b[0m, in \u001b[0;36m<cell line: 5>\u001b[1;34m()\u001b[0m\n\u001b[0;32m     26\u001b[0m g\u001b[38;5;241m.\u001b[39mnode(\u001b[38;5;124m\"\u001b[39m\u001b[38;5;132;01m{}\u001b[39;00m\u001b[38;5;124m\"\u001b[39m\u001b[38;5;241m.\u001b[39mformat(cont), label\u001b[38;5;241m=\u001b[39m\u001b[38;5;124m'\u001b[39m\u001b[38;5;132;01m{}\u001b[39;00m\u001b[38;5;124m <= \u001b[39m\u001b[38;5;132;01m{}\u001b[39;00m\u001b[38;5;130;01m\\\\\u001b[39;00m\u001b[38;5;124mn Clase: \u001b[39m\u001b[38;5;132;01m{}\u001b[39;00m\u001b[38;5;124m \u001b[39m\u001b[38;5;130;01m\\\\\u001b[39;00m\u001b[38;5;124mn Entropia: \u001b[39m\u001b[38;5;132;01m{}\u001b[39;00m\u001b[38;5;124m \u001b[39m\u001b[38;5;130;01m\\\\\u001b[39;00m\u001b[38;5;124mn Valores: \u001b[39m\u001b[38;5;132;01m{}\u001b[39;00m\u001b[38;5;124m \u001b[39m\u001b[38;5;130;01m\\\\\u001b[39;00m\u001b[38;5;124mn Muestras: \u001b[39m\u001b[38;5;132;01m{}\u001b[39;00m\u001b[38;5;124m'\u001b[39m\u001b[38;5;241m.\u001b[39mformat(\n\u001b[0;32m     27\u001b[0m         lab, mean, cla, \u001b[38;5;28mround\u001b[39m(entropia, \u001b[38;5;241m2\u001b[39m), cuantos, \u001b[38;5;28msum\u001b[39m(cuantos)\n\u001b[0;32m     28\u001b[0m         ))\n\u001b[0;32m     29\u001b[0m \u001b[38;5;28;01mfor\u001b[39;00m key, value \u001b[38;5;129;01min\u001b[39;00m sn\u001b[38;5;241m.\u001b[39mitems():\n\u001b[1;32m---> 30\u001b[0m     valores, cuantos \u001b[38;5;241m=\u001b[39m np\u001b[38;5;241m.\u001b[39munique(quemadura_data[\u001b[38;5;124m'\u001b[39m\u001b[38;5;124mQuemadura\u001b[39m\u001b[38;5;124m'\u001b[39m][\u001b[43mquemadura_data\u001b[49m\u001b[38;5;241;43m.\u001b[39;49m\u001b[43mindex\u001b[49m\u001b[43m[\u001b[49m\u001b[38;5;28;43mtuple\u001b[39;49m\u001b[43m(\u001b[49m\u001b[43mvalue\u001b[49m\u001b[43m)\u001b[49m\u001b[43m]\u001b[49m], return_counts\u001b[38;5;241m=\u001b[39m\u001b[38;5;28;01mTrue\u001b[39;00m)\n\u001b[0;32m     31\u001b[0m     \u001b[38;5;66;03m#print('INDICES: {} \\\\n {}'.format(value, quemadura_data['Quemadura'][quemadura_data.index[tuple(value)]]))\u001b[39;00m\n\u001b[0;32m     32\u001b[0m     \u001b[38;5;66;03m#print('Valores dentro: {} Cuantos dentro: {}'.format(valores, cuantos))\u001b[39;00m\n\u001b[0;32m     33\u001b[0m     entropia \u001b[38;5;241m=\u001b[39m \u001b[38;5;28mabs\u001b[39m(\u001b[38;5;28mround\u001b[39m(calcular_entropia(cuantos\u001b[38;5;241m/\u001b[39m\u001b[38;5;28msum\u001b[39m(cuantos)), \u001b[38;5;241m2\u001b[39m))\n",
      "File \u001b[1;32m~\\AppData\\Local\\Programs\\Python\\Python310\\lib\\site-packages\\pandas\\core\\indexes\\base.py:5055\u001b[0m, in \u001b[0;36mIndex.__getitem__\u001b[1;34m(self, key)\u001b[0m\n\u001b[0;32m   5048\u001b[0m \u001b[38;5;28;01mif\u001b[39;00m com\u001b[38;5;241m.\u001b[39mis_bool_indexer(key):\n\u001b[0;32m   5049\u001b[0m     \u001b[38;5;66;03m# if we have list[bools, length=1e5] then doing this check+convert\u001b[39;00m\n\u001b[0;32m   5050\u001b[0m     \u001b[38;5;66;03m#  takes 166 µs + 2.1 ms and cuts the ndarray.__getitem__\u001b[39;00m\n\u001b[0;32m   5051\u001b[0m     \u001b[38;5;66;03m#  time below from 3.8 ms to 496 µs\u001b[39;00m\n\u001b[0;32m   5052\u001b[0m     \u001b[38;5;66;03m# if we already have ndarray[bool], the overhead is 1.4 µs or .25%\u001b[39;00m\n\u001b[0;32m   5053\u001b[0m     key \u001b[38;5;241m=\u001b[39m np\u001b[38;5;241m.\u001b[39masarray(key, dtype\u001b[38;5;241m=\u001b[39m\u001b[38;5;28mbool\u001b[39m)\n\u001b[1;32m-> 5055\u001b[0m result \u001b[38;5;241m=\u001b[39m \u001b[43mgetitem\u001b[49m\u001b[43m(\u001b[49m\u001b[43mkey\u001b[49m\u001b[43m)\u001b[49m\n\u001b[0;32m   5056\u001b[0m \u001b[38;5;66;03m# Because we ruled out integer above, we always get an arraylike here\u001b[39;00m\n\u001b[0;32m   5057\u001b[0m \u001b[38;5;28;01mif\u001b[39;00m result\u001b[38;5;241m.\u001b[39mndim \u001b[38;5;241m>\u001b[39m \u001b[38;5;241m1\u001b[39m:\n",
      "\u001b[1;31mIndexError\u001b[0m: index 7 is out of bounds for axis 0 with size 5"
     ]
    }
   ],
   "source": [
    "g = Digraph('grafo')\n",
    "conecciones = {}\n",
    "cont = 0\n",
    "valoresCumple, cuantosCumple = None, None\n",
    "for lab in labels[0:4]:\n",
    "    #print(quemadura_data)\n",
    "    print('***********{}************'.format(lab))\n",
    "    info_A = calcular_ganancia(valores, lab)\n",
    "    ganancia = round(entropia - info_A, 2)\n",
    "    if cont == 0:\n",
    "        valores, cuantos = np.unique(quemadura_data['Quemadura'], return_counts=True)\n",
    "        #print('Valores: {} Cuantos: {}'.format(valores, cuantos))\n",
    "        mean = sum(valores)/2\n",
    "    else:\n",
    "        mean = sum(valoresCumple)/2\n",
    "    #print('Valores: {} Cuantos: {}'.format(valoresCumple, cuantosCumple))\n",
    "    mean = sum(valores)/2\n",
    "    #print('media', mean)\n",
    "    sn = splitNode(lab, mean)\n",
    "    act = cont\n",
    "    #print('act', act)\n",
    "    if entropia == 0:\n",
    "        cla = clase[1]\n",
    "    else:\n",
    "        cla = clase[0]\n",
    "    g.node(\"{}\".format(cont), label='{} <= {}\\\\n Clase: {} \\\\n Entropia: {} \\\\n Valores: {} \\\\n Muestras: {}'.format(\n",
    "            lab, mean, cla, round(entropia, 2), cuantos, sum(cuantos)\n",
    "            ))\n",
    "    for key, value in sn.items():\n",
    "        valores, cuantos = np.unique(quemadura_data['Quemadura'][quemadura_data.index[tuple(value)]], return_counts=True)\n",
    "        #print('INDICES: {} \\\\n {}'.format(value, quemadura_data['Quemadura'][quemadura_data.index[tuple(value)]]))\n",
    "        #print('Valores dentro: {} Cuantos dentro: {}'.format(valores, cuantos))\n",
    "        entropia = abs(round(calcular_entropia(cuantos/sum(cuantos)), 2))\n",
    "        if entropia == 0:\n",
    "            cla = clase[1]\n",
    "        else:\n",
    "            cla = clase[0]\n",
    "\n",
    "        padre = act\n",
    "        #print('{} {} entropia {}   contador {} act{}'.format(str(value[0]), key, abs(entropia), cont, act))\n",
    "\n",
    "        cont+=1\n",
    "        dataw = np.array(np.where(quemadura_data[lab] > mean)[0])\n",
    "        print('Media: {} \\\\n Data: {}'.format(mean,dataw + 1))\n",
    "        #print('>>>>>>>>>>>',dataw += np.ones(len(dataw[0]), dtype=int))\n",
    "        quemadura_data = quemadura_data.drop(quemadura_data[quemadura_data[lab] > mean].index)\n",
    "        print(quemadura_data)\n",
    "        if key == 'cumple':\n",
    "            \n",
    "            valoresCumple, cuantosCumple = valores, cuantos\n",
    "            conecciones[str(padre)] = str(cont)\n",
    "            g.node(\"{}\".format(cont), label='Clase: {} \\\\n Entropia: {} \\\\n Valores: {} \\\\n Muestras: {}'.format(\n",
    "                cla, round(entropia, 2), cuantos, sum(cuantos)\n",
    "            ))\n",
    "        cont+=1\n",
    "        if key == 'nocumple':\n",
    "            val_append(conecciones, str(padre), str(cont))\n",
    "            g.node(\"{}\".format(cont), label='Clase: {} \\\\n Entropia: {} \\\\n Valores: {} \\\\n Muestras: {}'.format(\n",
    "                cla, round(entropia, 2), cuantos, sum(cuantos)\n",
    "            ))\n",
    "print(conecciones)\n",
    "cn = 0\n",
    "for key, value in conecciones.items():\n",
    "    for val in value:\n",
    "        g.edge(str(key), str(val))\n",
    "g"
   ]
  },
  {
   "cell_type": "code",
   "execution_count": null,
   "metadata": {},
   "outputs": [],
   "source": [
    "np.unique(quemadura_data[lab], return_counts=True)"
   ]
  },
  {
   "cell_type": "code",
   "execution_count": null,
   "metadata": {},
   "outputs": [],
   "source": [
    "type(quemadura_data)"
   ]
  },
  {
   "cell_type": "code",
   "execution_count": null,
   "metadata": {},
   "outputs": [],
   "source": [
    "quemadura_data"
   ]
  },
  {
   "cell_type": "markdown",
   "metadata": {
    "pycharm": {
     "name": "#%% md\n"
    }
   },
   "source": [
    "## Gráfico con sklearn"
   ]
  },
  {
   "cell_type": "code",
   "execution_count": null,
   "metadata": {
    "pycharm": {
     "name": "#%%\n"
    }
   },
   "outputs": [],
   "source": [
    "#utilizando la librería sklearn\n",
    "\n",
    "from sklearn import tree\n",
    "from sklearn import preprocessing\n",
    "\n",
    "data = pd.DataFrame()\n",
    "le = preprocessing.LabelEncoder()\n",
    "\n",
    "for v in labels:\n",
    "    le.fit(quemadura_data[v])\n",
    "    data[v] = le.transform(quemadura_data[v])\n",
    "clf = tree.DecisionTreeClassifier(criterion='entropy',max_depth=4)\n",
    "t_data = data[data.columns[0:4]]\n",
    "t_target = data[data.columns[4]]\n",
    "clf = clf.fit(t_data, t_target)\n",
    "t_data, t_target,clf\n",
    "dot_data = tree.export_graphviz(clf, out_file=None,\n",
    "                         feature_names=list(t_data.columns.values),\n",
    "                         class_names=clase[::-1],\n",
    "                         filled=True, rounded=True,\n",
    "                         special_characters=True)\n",
    "graph = graphviz.Source(dot_data)\n",
    "graph"
   ]
  },
  {
   "cell_type": "code",
   "execution_count": null,
   "metadata": {
    "pycharm": {
     "name": "#%%\n"
    }
   },
   "outputs": [],
   "source": [
    "valores, cuantos = np.unique(quemadura_data['Pelo'], return_counts=True)\n",
    "print(valores)\n",
    "sn = splitNode(valores, 'Pelo')\n",
    "n0 = []\n",
    "n1 = []\n",
    "for key, value in sn.items():\n",
    "    arr1 = np.where(quemadura_data['Quemadura'][quemadura_data.index[value]] == 0)[0]\n",
    "    arr2 = np.where(quemadura_data['Quemadura'][quemadura_data.index[value]] == 1)[0]\n",
    "    if len(arr1) != 0:\n",
    "        n0.append((key, arr1))\n",
    "    if len(arr2) != 0:\n",
    "        n1.append((key, arr2))\n",
    "n0, n1"
   ]
  },
  {
   "cell_type": "code",
   "execution_count": null,
   "metadata": {},
   "outputs": [],
   "source": [
    "valores, cuantos = np.unique(quemadura_data['Pelo'], return_counts=True)\n",
    "print(valores)\n",
    "sn = splitNode(valores, 'Pelo')\n",
    "n0 = []\n",
    "n1 = []\n",
    "for key, value in sn.items():\n",
    "    print('**********',key,'*********')\n",
    "    arr1 = np.where(quemadura_data['Quemadura'][quemadura_data.index[value]] == 0)[0]\n",
    "    v_se_quemadura, c_se_quemadura = np.unique(arr1,return_counts=True)\n",
    "    print('no>', v_se_quemadura, c_se_quemadura)\n",
    "    arr2 = np.where(quemadura_data['Quemadura'][quemadura_data.index[value]] == 1)[0]\n",
    "    v_se_quemadura, c_se_quemadura = np.unique(arr2,return_counts=True)\n",
    "    print('si>', v_se_quemadura, c_se_quemadura)\n",
    "    if len(arr1) != 0:\n",
    "        n0.append((key, arr1))\n",
    "    if len(arr2) != 0:\n",
    "        n1.append((key, arr2))\n",
    "n0, n1"
   ]
  },
  {
   "cell_type": "code",
   "execution_count": null,
   "metadata": {},
   "outputs": [],
   "source": [
    " print(quemadura_data['Quemadura'][1])"
   ]
  }
 ],
 "metadata": {
  "kernelspec": {
   "display_name": "Python 3 (ipykernel)",
   "language": "python",
   "name": "python3"
  },
  "language_info": {
   "codemirror_mode": {
    "name": "ipython",
    "version": 3
   },
   "file_extension": ".py",
   "mimetype": "text/x-python",
   "name": "python",
   "nbconvert_exporter": "python",
   "pygments_lexer": "ipython3",
   "version": "3.10.4"
  }
 },
 "nbformat": 4,
 "nbformat_minor": 4
}
