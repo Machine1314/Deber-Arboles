{
 "cells": [
  {
   "cell_type": "markdown",
   "metadata": {
    "pycharm": {
     "name": "#%% md\n"
    }
   },
   "source": [
    "# Grupo 3\n",
    "### Bruno Dueñas, Fernando Mejía, Mateo Córdova\n",
    "\n",
    "## Imports y labels globales"
   ]
  },
  {
   "cell_type": "code",
   "execution_count": 1,
   "metadata": {
    "pycharm": {
     "name": "#%%\n"
    }
   },
   "outputs": [],
   "source": [
    "import numpy as np\n",
    "import graphviz\n",
    "from graphviz import Digraph\n",
    "import pandas as pd\n",
    "labels = ['Proteccion', 'Pelo', 'Altura', 'Peso', 'Quemadura']\n",
    "clase = ['Quema', 'No quema']"
   ]
  },
  {
   "cell_type": "markdown",
   "metadata": {
    "pycharm": {
     "name": "#%% md\n"
    }
   },
   "source": [
    "## Data"
   ]
  },
  {
   "cell_type": "code",
   "execution_count": 2,
   "metadata": {
    "pycharm": {
     "name": "#%%\n"
    }
   },
   "outputs": [
    {
     "data": {
      "text/html": [
       "<div>\n",
       "<style scoped>\n",
       "    .dataframe tbody tr th:only-of-type {\n",
       "        vertical-align: middle;\n",
       "    }\n",
       "\n",
       "    .dataframe tbody tr th {\n",
       "        vertical-align: top;\n",
       "    }\n",
       "\n",
       "    .dataframe thead th {\n",
       "        text-align: right;\n",
       "    }\n",
       "</style>\n",
       "<table border=\"1\" class=\"dataframe\">\n",
       "  <thead>\n",
       "    <tr style=\"text-align: right;\">\n",
       "      <th></th>\n",
       "      <th>Pelo</th>\n",
       "      <th>Altura</th>\n",
       "      <th>Peso</th>\n",
       "      <th>Proteccion</th>\n",
       "      <th>Quemadura</th>\n",
       "    </tr>\n",
       "    <tr>\n",
       "      <th>Ejemplo</th>\n",
       "      <th></th>\n",
       "      <th></th>\n",
       "      <th></th>\n",
       "      <th></th>\n",
       "      <th></th>\n",
       "    </tr>\n",
       "  </thead>\n",
       "  <tbody>\n",
       "    <tr>\n",
       "      <th>1</th>\n",
       "      <td>rubio</td>\n",
       "      <td>medio</td>\n",
       "      <td>bajo</td>\n",
       "      <td>no</td>\n",
       "      <td>si</td>\n",
       "    </tr>\n",
       "    <tr>\n",
       "      <th>2</th>\n",
       "      <td>rubio</td>\n",
       "      <td>alto</td>\n",
       "      <td>medio</td>\n",
       "      <td>si</td>\n",
       "      <td>no</td>\n",
       "    </tr>\n",
       "    <tr>\n",
       "      <th>3</th>\n",
       "      <td>moreno</td>\n",
       "      <td>bajo</td>\n",
       "      <td>medio</td>\n",
       "      <td>si</td>\n",
       "      <td>no</td>\n",
       "    </tr>\n",
       "    <tr>\n",
       "      <th>4</th>\n",
       "      <td>rubio</td>\n",
       "      <td>bajo</td>\n",
       "      <td>medio</td>\n",
       "      <td>no</td>\n",
       "      <td>si</td>\n",
       "    </tr>\n",
       "    <tr>\n",
       "      <th>5</th>\n",
       "      <td>rojo</td>\n",
       "      <td>medio</td>\n",
       "      <td>alto</td>\n",
       "      <td>no</td>\n",
       "      <td>si</td>\n",
       "    </tr>\n",
       "  </tbody>\n",
       "</table>\n",
       "</div>"
      ],
      "text/plain": [
       "           Pelo Altura   Peso Proteccion Quemadura\n",
       "Ejemplo                                           \n",
       "1         rubio  medio   bajo         no        si\n",
       "2         rubio   alto  medio         si        no\n",
       "3        moreno   bajo  medio         si        no\n",
       "4         rubio   bajo  medio         no        si\n",
       "5          rojo  medio   alto         no        si"
      ]
     },
     "execution_count": 2,
     "metadata": {},
     "output_type": "execute_result"
    }
   ],
   "source": [
    "quemadura_data = pd.read_csv(\"arbQuemadura.csv\", index_col=0)\n",
    "quemadura_data.head()"
   ]
  },
  {
   "cell_type": "markdown",
   "metadata": {
    "pycharm": {
     "name": "#%% md\n"
    }
   },
   "source": [
    "## Data tratada"
   ]
  },
  {
   "cell_type": "code",
   "execution_count": 3,
   "metadata": {
    "pycharm": {
     "name": "#%%\n"
    }
   },
   "outputs": [
    {
     "data": {
      "text/html": [
       "<div>\n",
       "<style scoped>\n",
       "    .dataframe tbody tr th:only-of-type {\n",
       "        vertical-align: middle;\n",
       "    }\n",
       "\n",
       "    .dataframe tbody tr th {\n",
       "        vertical-align: top;\n",
       "    }\n",
       "\n",
       "    .dataframe thead th {\n",
       "        text-align: right;\n",
       "    }\n",
       "</style>\n",
       "<table border=\"1\" class=\"dataframe\">\n",
       "  <thead>\n",
       "    <tr style=\"text-align: right;\">\n",
       "      <th></th>\n",
       "      <th>Pelo</th>\n",
       "      <th>Altura</th>\n",
       "      <th>Peso</th>\n",
       "      <th>Proteccion</th>\n",
       "      <th>Quemadura</th>\n",
       "    </tr>\n",
       "    <tr>\n",
       "      <th>Ejemplo</th>\n",
       "      <th></th>\n",
       "      <th></th>\n",
       "      <th></th>\n",
       "      <th></th>\n",
       "      <th></th>\n",
       "    </tr>\n",
       "  </thead>\n",
       "  <tbody>\n",
       "    <tr>\n",
       "      <th>1</th>\n",
       "      <td>2</td>\n",
       "      <td>1</td>\n",
       "      <td>0</td>\n",
       "      <td>0</td>\n",
       "      <td>1</td>\n",
       "    </tr>\n",
       "    <tr>\n",
       "      <th>2</th>\n",
       "      <td>2</td>\n",
       "      <td>2</td>\n",
       "      <td>1</td>\n",
       "      <td>1</td>\n",
       "      <td>0</td>\n",
       "    </tr>\n",
       "    <tr>\n",
       "      <th>3</th>\n",
       "      <td>1</td>\n",
       "      <td>0</td>\n",
       "      <td>1</td>\n",
       "      <td>1</td>\n",
       "      <td>0</td>\n",
       "    </tr>\n",
       "    <tr>\n",
       "      <th>4</th>\n",
       "      <td>2</td>\n",
       "      <td>0</td>\n",
       "      <td>1</td>\n",
       "      <td>0</td>\n",
       "      <td>1</td>\n",
       "    </tr>\n",
       "    <tr>\n",
       "      <th>5</th>\n",
       "      <td>0</td>\n",
       "      <td>1</td>\n",
       "      <td>2</td>\n",
       "      <td>0</td>\n",
       "      <td>1</td>\n",
       "    </tr>\n",
       "    <tr>\n",
       "      <th>6</th>\n",
       "      <td>1</td>\n",
       "      <td>2</td>\n",
       "      <td>2</td>\n",
       "      <td>0</td>\n",
       "      <td>0</td>\n",
       "    </tr>\n",
       "    <tr>\n",
       "      <th>7</th>\n",
       "      <td>1</td>\n",
       "      <td>1</td>\n",
       "      <td>2</td>\n",
       "      <td>0</td>\n",
       "      <td>0</td>\n",
       "    </tr>\n",
       "    <tr>\n",
       "      <th>8</th>\n",
       "      <td>2</td>\n",
       "      <td>0</td>\n",
       "      <td>0</td>\n",
       "      <td>1</td>\n",
       "      <td>0</td>\n",
       "    </tr>\n",
       "  </tbody>\n",
       "</table>\n",
       "</div>"
      ],
      "text/plain": [
       "         Pelo  Altura  Peso  Proteccion  Quemadura\n",
       "Ejemplo                                           \n",
       "1           2       1     0           0          1\n",
       "2           2       2     1           1          0\n",
       "3           1       0     1           1          0\n",
       "4           2       0     1           0          1\n",
       "5           0       1     2           0          1\n",
       "6           1       2     2           0          0\n",
       "7           1       1     2           0          0\n",
       "8           2       0     0           1          0"
      ]
     },
     "execution_count": 3,
     "metadata": {},
     "output_type": "execute_result"
    }
   ],
   "source": [
    "d = {'rubio': 2, 'moreno': 1, 'rojo': 0}\n",
    "quemadura_data['Pelo'] = quemadura_data['Pelo'].map(d)\n",
    "d = {'alto': 2, 'medio': 1, 'bajo': 0}\n",
    "quemadura_data['Peso'] = quemadura_data['Peso'].map(d)\n",
    "d = {'alto': 2, 'medio': 1, 'bajo': 0}\n",
    "quemadura_data['Altura'] = quemadura_data['Altura'].map(d)\n",
    "d = {'si': 1, 'no': 0}\n",
    "quemadura_data['Proteccion'] = quemadura_data['Proteccion'].map(d)\n",
    "quemadura_data['Quemadura'] = quemadura_data['Quemadura'].map(d)\n",
    "quemadura_data"
   ]
  },
  {
   "cell_type": "code",
   "execution_count": 4,
   "metadata": {},
   "outputs": [],
   "source": [
    "quemadura_data2 = quemadura_data.copy()"
   ]
  },
  {
   "cell_type": "markdown",
   "metadata": {
    "pycharm": {
     "name": "#%% md\n"
    }
   },
   "source": [
    "### calcular la entropia"
   ]
  },
  {
   "cell_type": "code",
   "execution_count": 5,
   "metadata": {
    "pycharm": {
     "name": "#%%\n"
    }
   },
   "outputs": [],
   "source": [
    "def calcular_entropia(p):\n",
    "    return -np.sum(p*np.log2(p))"
   ]
  },
  {
   "cell_type": "markdown",
   "metadata": {
    "pycharm": {
     "name": "#%% md\n"
    }
   },
   "source": [
    "### calcular la ganancia"
   ]
  },
  {
   "cell_type": "code",
   "execution_count": 6,
   "metadata": {
    "pycharm": {
     "name": "#%%\n"
    }
   },
   "outputs": [],
   "source": [
    "#calcular la ganancia\n",
    "def calcular_ganancia(valores, var='Pelo'):\n",
    "    valores, cuantos = np.unique(quemadura_data[var],return_counts=True)\n",
    "    #genero una lista para calcular la ganancia\n",
    "    info_A = []\n",
    "    respuestas = [0, 0]\n",
    "    indexes1 = []\n",
    "    indexes0 = []\n",
    "    for e in valores:\n",
    "        se = np.where(quemadura_data[var]==e)\n",
    "        #print(\"tiene se\",se)\n",
    "        #particiona por valor\n",
    "        #indexes.append(quemadura_data.index[se[0]])\n",
    "        se_quemadura = quemadura_data['Quemadura'][quemadura_data.index[se[0]]]\n",
    "        \n",
    "        #print(\"se_quemadura\",se_quemadura)\n",
    "        #valores por subgrupo\n",
    "        v_se_quemadura, c_se_quemadura = np.unique(se_quemadura,return_counts=True)\n",
    "        #print(\"subgrupos para {}: {} {}\".format(e,v_se_quemadura,c_se_quemadura))\n",
    "        #entropia del valor\n",
    "        se_entropia = abs(calcular_entropia(c_se_quemadura/sum(c_se_quemadura)))\n",
    "        #print(\"Entropia: \",se_entropia)\n",
    "        #probabilidad del valor\n",
    "        se_size = sum(c_se_quemadura)/len(quemadura_data.index)\n",
    "        #print(\"probabilidad valor\",se_size)\n",
    "        #almacenar valores\n",
    "        info_A += [[se_entropia, se_size]]\n",
    "        #print(\"info_A\",info_A)\n",
    "    #convertir lista en arreglo\n",
    "    info_A = np.array(info_A)\n",
    "    #calcular la entropia de la variable\n",
    "    info_g = np.sum(info_A[:,0]*info_A[:,1])\n",
    "    #print(\"info_g\",info_g)\n",
    "    #print('respuestas>>>>', respuestas)\n",
    "    return info_g"
   ]
  },
  {
   "cell_type": "markdown",
   "metadata": {},
   "source": [
    "## get key"
   ]
  },
  {
   "cell_type": "code",
   "execution_count": 7,
   "metadata": {},
   "outputs": [],
   "source": [
    "def get_key(val, dictionary):\n",
    "    for key, value in dictionary.items():\n",
    "        if val == value:\n",
    "            return key"
   ]
  },
  {
   "cell_type": "code",
   "execution_count": 8,
   "metadata": {},
   "outputs": [],
   "source": [
    "def val_append(dict_obj, key, value):\n",
    "    if key in dict_obj:\n",
    "        if not isinstance(dict_obj[key], list):\n",
    "            dict_obj[key] = [dict_obj[key]]\n",
    "    dict_obj[key].append(value)"
   ]
  },
  {
   "cell_type": "code",
   "execution_count": 9,
   "metadata": {},
   "outputs": [],
   "source": [
    "def splitNode(etiqueta, media):\n",
    "    dictNode = {}\n",
    "    cumple = []\n",
    "    nocumple = []\n",
    "    nocumple.append(np.where(quemadura_data[etiqueta] > media)[0])\n",
    "    cumple.append(np.where(quemadura_data[etiqueta] <= media)[0])\n",
    "    dictNode['cumple'] = cumple\n",
    "    dictNode['nocumple'] = nocumple\n",
    "    return dictNode"
   ]
  },
  {
   "cell_type": "markdown",
   "metadata": {
    "pycharm": {
     "name": "#%% md\n"
    }
   },
   "source": [
    "## Calcular la entropia del arbol"
   ]
  },
  {
   "cell_type": "code",
   "execution_count": 10,
   "metadata": {
    "pycharm": {
     "name": "#%%\n"
    }
   },
   "outputs": [
    {
     "name": "stdout",
     "output_type": "stream",
     "text": [
      "Entropia del arbol 0.954434002924965\n"
     ]
    },
    {
     "data": {
      "text/plain": [
       "(array([0, 1], dtype=int64), array([5, 3], dtype=int64))"
      ]
     },
     "execution_count": 10,
     "metadata": {},
     "output_type": "execute_result"
    }
   ],
   "source": [
    "valores, cuantos = np.unique(quemadura_data['Quemadura'], return_counts=True)\n",
    "entropia = calcular_entropia(cuantos/sum(cuantos))\n",
    "print(\"Entropia del arbol\",entropia)\n",
    "valores,cuantos"
   ]
  },
  {
   "cell_type": "markdown",
   "metadata": {
    "pycharm": {
     "name": "#%% md\n"
    }
   },
   "source": [
    "## Gráfico manual del árbol"
   ]
  },
  {
   "cell_type": "code",
   "execution_count": 11,
   "metadata": {
    "pycharm": {
     "name": "#%%\n"
    },
    "scrolled": false
   },
   "outputs": [
    {
     "name": "stdout",
     "output_type": "stream",
     "text": [
      "***********Proteccion************\n",
      "Valores: [0 1] Cuantos: [5 3]\n",
      "media 0.5\n",
      "         Pelo  Altura  Peso  Proteccion  Quemadura\n",
      "Ejemplo                                           \n",
      "1           2       1     0           0          1\n",
      "2           2       2     1           1          0\n",
      "3           1       0     1           1          0\n",
      "4           2       0     1           0          1\n",
      "5           0       1     2           0          1\n",
      "6           1       2     2           0          0\n",
      "7           1       1     2           0          0\n",
      "8           2       0     0           1          0\n",
      "         Pelo  Altura  Peso  Proteccion  Quemadura\n",
      "Ejemplo                                           \n",
      "1           2       1     0           0          1\n",
      "2           2       2     1           1          0\n",
      "3           1       0     1           1          0\n",
      "4           2       0     1           0          1\n",
      "5           0       1     2           0          1\n",
      "6           1       2     2           0          0\n",
      "7           1       1     2           0          0\n",
      "8           2       0     0           1          0\n",
      "***********Pelo************\n",
      "Valores: [0 1] Cuantos: [2 3]\n",
      "media 0.5\n",
      "         Pelo  Altura  Peso  Proteccion  Quemadura\n",
      "Ejemplo                                           \n",
      "2           2       2     1           1          0\n",
      "3           1       0     1           1          0\n",
      "8           2       0     0           1          0\n",
      "         Pelo  Altura  Peso  Proteccion  Quemadura\n",
      "Ejemplo                                           \n",
      "2           2       2     1           1          0\n",
      "3           1       0     1           1          0\n",
      "8           2       0     0           1          0\n",
      "***********Altura************\n",
      "Valores: [] Cuantos: []\n",
      "media 0.0\n",
      "         Pelo  Altura  Peso  Proteccion  Quemadura\n",
      "Ejemplo                                           \n",
      "2           2       2     1           1          0\n",
      "3           1       0     1           1          0\n",
      "8           2       0     0           1          0\n",
      "         Pelo  Altura  Peso  Proteccion  Quemadura\n",
      "Ejemplo                                           \n",
      "2           2       2     1           1          0\n",
      "3           1       0     1           1          0\n",
      "8           2       0     0           1          0\n",
      "***********Peso************\n",
      "Valores: [0] Cuantos: [2]\n",
      "media 0.0\n",
      "         Pelo  Altura  Peso  Proteccion  Quemadura\n",
      "Ejemplo                                           \n",
      "2           2       2     1           1          0\n",
      "         Pelo  Altura  Peso  Proteccion  Quemadura\n",
      "Ejemplo                                           \n",
      "2           2       2     1           1          0\n",
      "{'0': ['1', '4'], '4': ['5', '8'], '8': ['9', '12'], '12': ['13', '16']}\n"
     ]
    },
    {
     "data": {
      "image/svg+xml": [
       "<?xml version=\"1.0\" encoding=\"UTF-8\" standalone=\"no\"?>\n",
       "<!DOCTYPE svg PUBLIC \"-//W3C//DTD SVG 1.1//EN\"\n",
       " \"http://www.w3.org/Graphics/SVG/1.1/DTD/svg11.dtd\">\n",
       "<!-- Generated by graphviz version 4.0.0 (20220529.0937)\n",
       " -->\n",
       "<!-- Title: grafo Pages: 1 -->\n",
       "<svg width=\"611pt\" height=\"718pt\"\n",
       " viewBox=\"0.00 0.00 611.15 717.69\" xmlns=\"http://www.w3.org/2000/svg\" xmlns:xlink=\"http://www.w3.org/1999/xlink\">\n",
       "<g id=\"graph0\" class=\"graph\" transform=\"scale(1 1) rotate(0) translate(4 713.69)\">\n",
       "<title>grafo</title>\n",
       "<polygon fill=\"white\" stroke=\"transparent\" points=\"-4,4 -4,-713.69 607.15,-713.69 607.15,4 -4,4\"/>\n",
       "<!-- 0 -->\n",
       "<g id=\"node1\" class=\"node\">\n",
       "<title>0</title>\n",
       "<ellipse fill=\"none\" stroke=\"black\" cx=\"159.12\" cy=\"-651\" rx=\"84.29\" ry=\"58.88\"/>\n",
       "<text text-anchor=\"middle\" x=\"159.12\" y=\"-677.3\" font-family=\"Times New Roman,serif\" font-size=\"14.00\">Proteccion &lt;= 0.5</text>\n",
       "<text text-anchor=\"middle\" x=\"159.12\" y=\"-662.3\" font-family=\"Times New Roman,serif\" font-size=\"14.00\"> Clase: Quema </text>\n",
       "<text text-anchor=\"middle\" x=\"159.12\" y=\"-647.3\" font-family=\"Times New Roman,serif\" font-size=\"14.00\"> Entropia: 0.95 </text>\n",
       "<text text-anchor=\"middle\" x=\"159.12\" y=\"-632.3\" font-family=\"Times New Roman,serif\" font-size=\"14.00\"> Valores: [5 3] </text>\n",
       "<text text-anchor=\"middle\" x=\"159.12\" y=\"-617.3\" font-family=\"Times New Roman,serif\" font-size=\"14.00\"> Muestras: 8</text>\n",
       "</g>\n",
       "<!-- 1 -->\n",
       "<g id=\"node2\" class=\"node\">\n",
       "<title>1</title>\n",
       "<ellipse fill=\"none\" stroke=\"black\" cx=\"72.12\" cy=\"-497.62\" rx=\"72.25\" ry=\"48.17\"/>\n",
       "<text text-anchor=\"middle\" x=\"72.12\" y=\"-516.42\" font-family=\"Times New Roman,serif\" font-size=\"14.00\">Clase: Quema </text>\n",
       "<text text-anchor=\"middle\" x=\"72.12\" y=\"-501.42\" font-family=\"Times New Roman,serif\" font-size=\"14.00\"> Entropia: 0.97 </text>\n",
       "<text text-anchor=\"middle\" x=\"72.12\" y=\"-486.42\" font-family=\"Times New Roman,serif\" font-size=\"14.00\"> Valores: [2 3] </text>\n",
       "<text text-anchor=\"middle\" x=\"72.12\" y=\"-471.42\" font-family=\"Times New Roman,serif\" font-size=\"14.00\"> Muestras: 5</text>\n",
       "</g>\n",
       "<!-- 0&#45;&gt;1 -->\n",
       "<g id=\"edge1\" class=\"edge\">\n",
       "<title>0&#45;&gt;1</title>\n",
       "<path fill=\"none\" stroke=\"black\" d=\"M128.21,-596.2C119.88,-581.7 110.87,-566.03 102.56,-551.58\"/>\n",
       "<polygon fill=\"black\" stroke=\"black\" points=\"105.51,-549.69 97.5,-542.76 99.44,-553.17 105.51,-549.69\"/>\n",
       "</g>\n",
       "<!-- 4 -->\n",
       "<g id=\"node3\" class=\"node\">\n",
       "<title>4</title>\n",
       "<ellipse fill=\"none\" stroke=\"black\" cx=\"246.12\" cy=\"-497.62\" rx=\"84.29\" ry=\"58.88\"/>\n",
       "<text text-anchor=\"middle\" x=\"246.12\" y=\"-523.92\" font-family=\"Times New Roman,serif\" font-size=\"14.00\">Pelo &lt;= 0.5</text>\n",
       "<text text-anchor=\"middle\" x=\"246.12\" y=\"-508.92\" font-family=\"Times New Roman,serif\" font-size=\"14.00\"> Clase: No quema </text>\n",
       "<text text-anchor=\"middle\" x=\"246.12\" y=\"-493.92\" font-family=\"Times New Roman,serif\" font-size=\"14.00\"> Entropia: 0.0 </text>\n",
       "<text text-anchor=\"middle\" x=\"246.12\" y=\"-478.92\" font-family=\"Times New Roman,serif\" font-size=\"14.00\"> Valores: [3] </text>\n",
       "<text text-anchor=\"middle\" x=\"246.12\" y=\"-463.92\" font-family=\"Times New Roman,serif\" font-size=\"14.00\"> Muestras: 3</text>\n",
       "</g>\n",
       "<!-- 0&#45;&gt;4 -->\n",
       "<g id=\"edge2\" class=\"edge\">\n",
       "<title>0&#45;&gt;4</title>\n",
       "<path fill=\"none\" stroke=\"black\" d=\"M190.04,-596.2C196.58,-584.82 203.53,-572.72 210.24,-561.06\"/>\n",
       "<polygon fill=\"black\" stroke=\"black\" points=\"213.36,-562.65 215.31,-552.24 207.29,-559.17 213.36,-562.65\"/>\n",
       "</g>\n",
       "<!-- 5 -->\n",
       "<g id=\"node4\" class=\"node\">\n",
       "<title>5</title>\n",
       "<ellipse fill=\"none\" stroke=\"black\" cx=\"154.12\" cy=\"-344.24\" rx=\"82.05\" ry=\"48.17\"/>\n",
       "<text text-anchor=\"middle\" x=\"154.12\" y=\"-363.04\" font-family=\"Times New Roman,serif\" font-size=\"14.00\">Clase: No quema </text>\n",
       "<text text-anchor=\"middle\" x=\"154.12\" y=\"-348.04\" font-family=\"Times New Roman,serif\" font-size=\"14.00\"> Entropia: 0.0 </text>\n",
       "<text text-anchor=\"middle\" x=\"154.12\" y=\"-333.04\" font-family=\"Times New Roman,serif\" font-size=\"14.00\"> Valores: [] </text>\n",
       "<text text-anchor=\"middle\" x=\"154.12\" y=\"-318.04\" font-family=\"Times New Roman,serif\" font-size=\"14.00\"> Muestras: 0</text>\n",
       "</g>\n",
       "<!-- 4&#45;&gt;5 -->\n",
       "<g id=\"edge3\" class=\"edge\">\n",
       "<title>4&#45;&gt;5</title>\n",
       "<path fill=\"none\" stroke=\"black\" d=\"M213.69,-443.25C204.95,-428.86 195.49,-413.3 186.74,-398.91\"/>\n",
       "<polygon fill=\"black\" stroke=\"black\" points=\"189.58,-396.84 181.4,-390.11 183.6,-400.48 189.58,-396.84\"/>\n",
       "</g>\n",
       "<!-- 8 -->\n",
       "<g id=\"node5\" class=\"node\">\n",
       "<title>8</title>\n",
       "<ellipse fill=\"none\" stroke=\"black\" cx=\"338.12\" cy=\"-344.24\" rx=\"84.29\" ry=\"58.88\"/>\n",
       "<text text-anchor=\"middle\" x=\"338.12\" y=\"-370.54\" font-family=\"Times New Roman,serif\" font-size=\"14.00\">Altura &lt;= 0.0</text>\n",
       "<text text-anchor=\"middle\" x=\"338.12\" y=\"-355.54\" font-family=\"Times New Roman,serif\" font-size=\"14.00\"> Clase: No quema </text>\n",
       "<text text-anchor=\"middle\" x=\"338.12\" y=\"-340.54\" font-family=\"Times New Roman,serif\" font-size=\"14.00\"> Entropia: 0.0 </text>\n",
       "<text text-anchor=\"middle\" x=\"338.12\" y=\"-325.54\" font-family=\"Times New Roman,serif\" font-size=\"14.00\"> Valores: [3] </text>\n",
       "<text text-anchor=\"middle\" x=\"338.12\" y=\"-310.54\" font-family=\"Times New Roman,serif\" font-size=\"14.00\"> Muestras: 3</text>\n",
       "</g>\n",
       "<!-- 4&#45;&gt;8 -->\n",
       "<g id=\"edge4\" class=\"edge\">\n",
       "<title>4&#45;&gt;8</title>\n",
       "<path fill=\"none\" stroke=\"black\" d=\"M278.56,-443.25C285.64,-431.6 293.18,-419.18 300.45,-407.23\"/>\n",
       "<polygon fill=\"black\" stroke=\"black\" points=\"303.47,-409 305.67,-398.64 297.49,-405.36 303.47,-409\"/>\n",
       "</g>\n",
       "<!-- 9 -->\n",
       "<g id=\"node6\" class=\"node\">\n",
       "<title>9</title>\n",
       "<ellipse fill=\"none\" stroke=\"black\" cx=\"246.12\" cy=\"-190.86\" rx=\"82.05\" ry=\"48.17\"/>\n",
       "<text text-anchor=\"middle\" x=\"246.12\" y=\"-209.66\" font-family=\"Times New Roman,serif\" font-size=\"14.00\">Clase: No quema </text>\n",
       "<text text-anchor=\"middle\" x=\"246.12\" y=\"-194.66\" font-family=\"Times New Roman,serif\" font-size=\"14.00\"> Entropia: 0.0 </text>\n",
       "<text text-anchor=\"middle\" x=\"246.12\" y=\"-179.66\" font-family=\"Times New Roman,serif\" font-size=\"14.00\"> Valores: [2] </text>\n",
       "<text text-anchor=\"middle\" x=\"246.12\" y=\"-164.66\" font-family=\"Times New Roman,serif\" font-size=\"14.00\"> Muestras: 2</text>\n",
       "</g>\n",
       "<!-- 8&#45;&gt;9 -->\n",
       "<g id=\"edge5\" class=\"edge\">\n",
       "<title>8&#45;&gt;9</title>\n",
       "<path fill=\"none\" stroke=\"black\" d=\"M305.69,-289.87C296.95,-275.48 287.49,-259.92 278.74,-245.53\"/>\n",
       "<polygon fill=\"black\" stroke=\"black\" points=\"281.58,-243.46 273.4,-236.73 275.6,-247.1 281.58,-243.46\"/>\n",
       "</g>\n",
       "<!-- 12 -->\n",
       "<g id=\"node7\" class=\"node\">\n",
       "<title>12</title>\n",
       "<ellipse fill=\"none\" stroke=\"black\" cx=\"430.12\" cy=\"-190.86\" rx=\"84.29\" ry=\"58.88\"/>\n",
       "<text text-anchor=\"middle\" x=\"430.12\" y=\"-217.16\" font-family=\"Times New Roman,serif\" font-size=\"14.00\">Peso &lt;= 0.0</text>\n",
       "<text text-anchor=\"middle\" x=\"430.12\" y=\"-202.16\" font-family=\"Times New Roman,serif\" font-size=\"14.00\"> Clase: No quema </text>\n",
       "<text text-anchor=\"middle\" x=\"430.12\" y=\"-187.16\" font-family=\"Times New Roman,serif\" font-size=\"14.00\"> Entropia: 0.0 </text>\n",
       "<text text-anchor=\"middle\" x=\"430.12\" y=\"-172.16\" font-family=\"Times New Roman,serif\" font-size=\"14.00\"> Valores: [1] </text>\n",
       "<text text-anchor=\"middle\" x=\"430.12\" y=\"-157.16\" font-family=\"Times New Roman,serif\" font-size=\"14.00\"> Muestras: 1</text>\n",
       "</g>\n",
       "<!-- 8&#45;&gt;12 -->\n",
       "<g id=\"edge6\" class=\"edge\">\n",
       "<title>8&#45;&gt;12</title>\n",
       "<path fill=\"none\" stroke=\"black\" d=\"M370.56,-289.87C377.64,-278.22 385.18,-265.8 392.45,-253.85\"/>\n",
       "<polygon fill=\"black\" stroke=\"black\" points=\"395.47,-255.62 397.67,-245.26 389.49,-251.98 395.47,-255.62\"/>\n",
       "</g>\n",
       "<!-- 13 -->\n",
       "<g id=\"node8\" class=\"node\">\n",
       "<title>13</title>\n",
       "<ellipse fill=\"none\" stroke=\"black\" cx=\"339.12\" cy=\"-48.08\" rx=\"82.05\" ry=\"48.17\"/>\n",
       "<text text-anchor=\"middle\" x=\"339.12\" y=\"-66.88\" font-family=\"Times New Roman,serif\" font-size=\"14.00\">Clase: No quema </text>\n",
       "<text text-anchor=\"middle\" x=\"339.12\" y=\"-51.88\" font-family=\"Times New Roman,serif\" font-size=\"14.00\"> Entropia: 0.0 </text>\n",
       "<text text-anchor=\"middle\" x=\"339.12\" y=\"-36.88\" font-family=\"Times New Roman,serif\" font-size=\"14.00\"> Valores: [] </text>\n",
       "<text text-anchor=\"middle\" x=\"339.12\" y=\"-21.88\" font-family=\"Times New Roman,serif\" font-size=\"14.00\"> Muestras: 0</text>\n",
       "</g>\n",
       "<!-- 12&#45;&gt;13 -->\n",
       "<g id=\"edge7\" class=\"edge\">\n",
       "<title>12&#45;&gt;13</title>\n",
       "<path fill=\"none\" stroke=\"black\" d=\"M395.98,-137.04C388.59,-125.6 380.76,-113.5 373.37,-102.05\"/>\n",
       "<polygon fill=\"black\" stroke=\"black\" points=\"376.17,-99.95 367.8,-93.45 370.29,-103.75 376.17,-99.95\"/>\n",
       "</g>\n",
       "<!-- 16 -->\n",
       "<g id=\"node9\" class=\"node\">\n",
       "<title>16</title>\n",
       "<ellipse fill=\"none\" stroke=\"black\" cx=\"521.12\" cy=\"-48.08\" rx=\"82.05\" ry=\"48.17\"/>\n",
       "<text text-anchor=\"middle\" x=\"521.12\" y=\"-66.88\" font-family=\"Times New Roman,serif\" font-size=\"14.00\">Clase: No quema </text>\n",
       "<text text-anchor=\"middle\" x=\"521.12\" y=\"-51.88\" font-family=\"Times New Roman,serif\" font-size=\"14.00\"> Entropia: 0.0 </text>\n",
       "<text text-anchor=\"middle\" x=\"521.12\" y=\"-36.88\" font-family=\"Times New Roman,serif\" font-size=\"14.00\"> Valores: [1] </text>\n",
       "<text text-anchor=\"middle\" x=\"521.12\" y=\"-21.88\" font-family=\"Times New Roman,serif\" font-size=\"14.00\"> Muestras: 1</text>\n",
       "</g>\n",
       "<!-- 12&#45;&gt;16 -->\n",
       "<g id=\"edge8\" class=\"edge\">\n",
       "<title>12&#45;&gt;16</title>\n",
       "<path fill=\"none\" stroke=\"black\" d=\"M464.27,-137.04C471.66,-125.6 479.49,-113.5 486.88,-102.05\"/>\n",
       "<polygon fill=\"black\" stroke=\"black\" points=\"489.96,-103.75 492.45,-93.45 484.08,-99.95 489.96,-103.75\"/>\n",
       "</g>\n",
       "</g>\n",
       "</svg>\n"
      ],
      "text/plain": [
       "<graphviz.graphs.Digraph at 0x25c02ee00d0>"
      ]
     },
     "execution_count": 11,
     "metadata": {},
     "output_type": "execute_result"
    }
   ],
   "source": [
    "g = Digraph('grafo')\n",
    "conecciones = {}\n",
    "cont = 0\n",
    "for lab in labels[0:4]:\n",
    "    #print(quemadura_data)\n",
    "    print('***********{}************'.format(lab))\n",
    "    info_A = calcular_ganancia(valores, lab)\n",
    "    ganancia = round(entropia - info_A, 2)\n",
    "    if cont == 0:\n",
    "        valores, cuantos = np.unique(quemadura_data['Quemadura'], return_counts=True)\n",
    "        print('Valores: {} Cuantos: {}'.format(valores, cuantos))\n",
    "        mean = sum(valores)/2\n",
    "    else:\n",
    "        mean = sum(valoresCumple)/2\n",
    "        print('Valores: {} Cuantos: {}'.format(valoresCumple, cuantosCumple))\n",
    "        mean = sum(valoresCumple)/2\n",
    "    print('media', mean)\n",
    "    sn = splitNode(lab, mean)\n",
    "    act = cont\n",
    "    #print('act', act)\n",
    "    if entropia == 0:\n",
    "        cla = clase[1]\n",
    "    else:\n",
    "        cla = clase[0]\n",
    "    g.node(\"{}\".format(cont), label='{} <= {}\\\\n Clase: {} \\\\n Entropia: {} \\\\n Valores: {} \\\\n Muestras: {}'.format(\n",
    "            lab, mean, cla, round(entropia, 2), cuantos, sum(cuantos)\n",
    "            ))\n",
    "    for key, value in sn.items():\n",
    "        valores, cuantos = np.unique(quemadura_data['Quemadura'].iloc[value[0]], return_counts=True)\n",
    "        #print('INDICES: {} \\\\n {}'.format(value, quemadura_data['Quemadura'][quemadura_data.index[tuple(value)]]))\n",
    "        #print('Valores dentro: {} Cuantos dentro: {}'.format(valores, cuantos))\n",
    "        entropia = abs(round(calcular_entropia(cuantos/sum(cuantos)), 2))\n",
    "        if entropia == 0:\n",
    "            cla = clase[1]\n",
    "        else:\n",
    "            cla = clase[0]\n",
    "\n",
    "        padre = act\n",
    "        #print('{} {} entropia {}   contador {} act{}'.format(str(value[0]), key, abs(entropia), cont, act))\n",
    "\n",
    "        cont+=1\n",
    "        dataw = np.array(np.where(quemadura_data[lab] > mean)[0])\n",
    "        print(quemadura_data)\n",
    "        if key == 'cumple':\n",
    "            valoresCumple, cuantosCumple = valores, cuantos\n",
    "            conecciones[str(padre)] = str(cont)\n",
    "            g.node(\"{}\".format(cont), label='Clase: {} \\\\n Entropia: {} \\\\n Valores: {} \\\\n Muestras: {}'.format(\n",
    "                cla, round(entropia, 2), cuantos, sum(cuantos)\n",
    "            ))\n",
    "        cont+=1\n",
    "        if key == 'nocumple':\n",
    "            quemadura_data = quemadura_data.iloc[value[0]]\n",
    "            val_append(conecciones, str(padre), str(cont))\n",
    "            g.node(\"{}\".format(cont), label='Clase: {} \\\\n Entropia: {} \\\\n Valores: {} \\\\n Muestras: {}'.format(\n",
    "                cla, round(entropia, 2), cuantos, sum(cuantos)\n",
    "            ))\n",
    "print(conecciones)\n",
    "cn = 0\n",
    "for key, value in conecciones.items():\n",
    "    for val in value:\n",
    "        g.edge(str(key), str(val))\n",
    "g"
   ]
  }
 ],
 "metadata": {
  "kernelspec": {
   "display_name": "Python 3 (ipykernel)",
   "language": "python",
   "name": "python3"
  },
  "language_info": {
   "codemirror_mode": {
    "name": "ipython",
    "version": 3
   },
   "file_extension": ".py",
   "mimetype": "text/x-python",
   "name": "python",
   "nbconvert_exporter": "python",
   "pygments_lexer": "ipython3",
   "version": "3.10.4"
  }
 },
 "nbformat": 4,
 "nbformat_minor": 4
}
