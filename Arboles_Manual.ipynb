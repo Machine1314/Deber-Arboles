{
 "cells": [
  {
   "cell_type": "code",
   "execution_count": 2,
   "metadata": {
    "pycharm": {
     "name": "#%%\n"
    }
   },
   "outputs": [
    {
     "name": "stdout",
     "output_type": "stream",
     "text": [
      "Entropia del arbol 0.954434002924965\n"
     ]
    },
    {
     "data": {
      "text/plain": "           Pelo Altura   Peso Proteccion Quemadura\nEjemplo                                           \n1         rubio  medio   bajo         no        si\n2         rubio   alto  medio         si        no\n3        moreno   bajo  medio         si        no\n4         rubio   bajo  medio         no        si\n5          rojo  medio   alto         no        si",
      "text/html": "<div>\n<style scoped>\n    .dataframe tbody tr th:only-of-type {\n        vertical-align: middle;\n    }\n\n    .dataframe tbody tr th {\n        vertical-align: top;\n    }\n\n    .dataframe thead th {\n        text-align: right;\n    }\n</style>\n<table border=\"1\" class=\"dataframe\">\n  <thead>\n    <tr style=\"text-align: right;\">\n      <th></th>\n      <th>Pelo</th>\n      <th>Altura</th>\n      <th>Peso</th>\n      <th>Proteccion</th>\n      <th>Quemadura</th>\n    </tr>\n    <tr>\n      <th>Ejemplo</th>\n      <th></th>\n      <th></th>\n      <th></th>\n      <th></th>\n      <th></th>\n    </tr>\n  </thead>\n  <tbody>\n    <tr>\n      <th>1</th>\n      <td>rubio</td>\n      <td>medio</td>\n      <td>bajo</td>\n      <td>no</td>\n      <td>si</td>\n    </tr>\n    <tr>\n      <th>2</th>\n      <td>rubio</td>\n      <td>alto</td>\n      <td>medio</td>\n      <td>si</td>\n      <td>no</td>\n    </tr>\n    <tr>\n      <th>3</th>\n      <td>moreno</td>\n      <td>bajo</td>\n      <td>medio</td>\n      <td>si</td>\n      <td>no</td>\n    </tr>\n    <tr>\n      <th>4</th>\n      <td>rubio</td>\n      <td>bajo</td>\n      <td>medio</td>\n      <td>no</td>\n      <td>si</td>\n    </tr>\n    <tr>\n      <th>5</th>\n      <td>rojo</td>\n      <td>medio</td>\n      <td>alto</td>\n      <td>no</td>\n      <td>si</td>\n    </tr>\n  </tbody>\n</table>\n</div>"
     },
     "execution_count": 2,
     "metadata": {},
     "output_type": "execute_result"
    }
   ],
   "source": [
    "#cálculo numérico y análisis de datos\n",
    "import numpy as np\n",
    "#manipulación y análisis de datos (estructuras de datos)\n",
    "import pandas as pd\n",
    "\n",
    "quemadura_data = pd.read_csv(\"arbQuemadura.csv\", index_col=0)\n",
    "quemadura_data.head()\n"
   ]
  },
  {
   "cell_type": "code",
   "execution_count": 3,
   "metadata": {
    "pycharm": {
     "name": "#%%\n"
    }
   },
   "outputs": [
    {
     "name": "stdout",
     "output_type": "stream",
     "text": [
      "Entropia del arbol:  0.954434002924965\n"
     ]
    },
    {
     "data": {
      "text/plain": "(array(['no', 'si'], dtype=object), array([5, 3], dtype=int64))"
     },
     "execution_count": 3,
     "metadata": {},
     "output_type": "execute_result"
    }
   ],
   "source": [
    "#caluclar la entropia\n",
    "def calcular_entropia(p):\n",
    "    return -np.sum(p*np.log2(p))\n",
    "#contar las clases del arbol\n",
    "valores, cuantos = np.unique(quemadura_data['Quemadura'], return_counts=True)\n",
    "entropia = calcular_entropia(cuantos/sum(cuantos))\n",
    "print(\"Entropia del arbol\",entropia)\n",
    "valores,cuantos"
   ]
  },
  {
   "cell_type": "code",
   "execution_count": 4,
   "metadata": {
    "collapsed": false,
    "pycharm": {
     "name": "#%%\n"
    }
   }
  },
  {
   "cell_type": "code",
   "execution_count": 213,
   "outputs": [
    {
     "name": "stdout",
     "output_type": "stream",
     "text": [
      "****************** Pelo *************\n",
      "Entropia 0.954434002924965\n",
      "moreno\n",
      "Subgrupos:  ['no'] [3]\n",
      "rojo\n",
      "Subgrupos:  ['si'] [1]\n",
      "rubio\n",
      "Subgrupos:  ['no' 'si'] [2 2]\n",
      "Ganancia:  0.9056390622295665\n",
      "****************** Altura *************\n",
      "Entropia 0.954434002924965\n",
      "alto\n",
      "Subgrupos:  ['no'] [2]\n",
      "bajo\n",
      "Subgrupos:  ['no' 'si'] [2 1]\n",
      "medio\n",
      "Subgrupos:  ['no' 'si'] [1 2]\n",
      "Ganancia:  0.8725562489182658\n",
      "****************** Peso *************\n",
      "Entropia 0.954434002924965\n",
      "alto\n",
      "Subgrupos:  ['no' 'si'] [2 1]\n",
      "bajo\n",
      "Subgrupos:  ['no' 'si'] [1 1]\n",
      "medio\n",
      "Subgrupos:  ['no' 'si'] [2 1]\n",
      "Ganancia:  0.6225562489182659\n",
      "****************** Proteccion *************\n",
      "Entropia 0.954434002924965\n",
      "no\n",
      "Subgrupos:  ['no' 'si'] [2 3]\n",
      "si\n",
      "Subgrupos:  ['no'] [3]\n",
      "Ganancia:  0.34758988139079716\n"
     ]
    }
   ],
   "source": [
    "#calcular la ganancia\n",
    "def calcular_ganancia(valores, var='Pelo'):\n",
    "    \n",
    "    valores, cuantos = np.unique(quemadura_data[var],return_counts=True)\n",
    "    #genero una lista para calcular la ganancia\n",
    "    info_A = []\n",
    "    \n",
    "    for e in valores:\n",
    "        se = np.where(quemadura_data[var]==e)\n",
    "        print(\"tiene se\",se)\n",
    "        #particiona por valor\n",
    "        se_quemadura = quemadura_data['Quemadura'][quemadura_data.index[se[0]]]\n",
    "        print(\"se_quemadura\",se_quemadura)\n",
    "        #valores por subgrupo\n",
    "        v_se_quemadura, c_se_quemadura = np.unique(se_quemadura,return_counts=True)\n",
    "        print(\"subgrupos \",v_se_quemadura,c_se_quemadura)\n",
    "        #entropia del valor\n",
    "        se_entropia = abs(calcular_entropia(c_se_quemadura/sum(c_se_quemadura)))\n",
    "        print(\"se_entropia\",se_entropia)\n",
    "        #probabilidad del valor\n",
    "        se_size = sum(c_se_quemadura)/len(quemadura_data.index)\n",
    "        print(\"probabilidad valor\",se_size)\n",
    "        #almacenar valores\n",
    "        info_A += [[se_entropia, se_size]]\n",
    "        print(\"info_A\",info_A)\n",
    "    #convertir lista en arreglo\n",
    "    info_A = np.array(info_A)\n",
    "    #calcular la entropia de la variable\n",
    "    info_g = np.sum(info_A[:,0]*info_A[:,1])\n",
    "    print(\"info_g\",info_g)\n",
    "    return info_g\n",
    "\n",
    "info_A= calcular_ganancia(valores, var='Pelo')\n",
    "ganancia = entropia - info_A\n",
    "print(\"ganancia de pelo\",ganancia)"
   ]
  },
  {
   "cell_type": "code",
   "execution_count": 13,
   "metadata": {
    "pycharm": {
     "name": "#%%\n"
    }
   },
   "outputs": [
    {
     "data": {
      "image/svg+xml": "<?xml version=\"1.0\" encoding=\"UTF-8\" standalone=\"no\"?>\n<!DOCTYPE svg PUBLIC \"-//W3C//DTD SVG 1.1//EN\"\n \"http://www.w3.org/Graphics/SVG/1.1/DTD/svg11.dtd\">\n<!-- Generated by graphviz version 4.0.0 (20220529.0937)\n -->\n<!-- Title: G Pages: 1 -->\n<svg width=\"1890pt\" height=\"251pt\"\n viewBox=\"0.00 0.00 1889.65 251.33\" xmlns=\"http://www.w3.org/2000/svg\" xmlns:xlink=\"http://www.w3.org/1999/xlink\">\n<g id=\"graph0\" class=\"graph\" transform=\"scale(1 1) rotate(0) translate(4 247.33)\">\n<title>G</title>\n<polygon fill=\"white\" stroke=\"transparent\" points=\"-4,4 -4,-247.33 1885.65,-247.33 1885.65,4 -4,4\"/>\n<!-- moreno -->\n<g id=\"node1\" class=\"node\">\n<title>moreno</title>\n<ellipse fill=\"#b2dfee\" stroke=\"#b2dfee\" cx=\"38.35\" cy=\"-195.25\" rx=\"38.19\" ry=\"18\"/>\n<text text-anchor=\"middle\" x=\"38.35\" y=\"-191.55\" font-family=\"Times New Roman,serif\" font-size=\"14.00\">moreno</text>\n</g>\n<!-- Pelo -->\n<g id=\"node2\" class=\"node\">\n<title>Pelo</title>\n<ellipse fill=\"#b2dfee\" stroke=\"#b2dfee\" cx=\"190.35\" cy=\"-48.08\" rx=\"27\" ry=\"18\"/>\n<text text-anchor=\"middle\" x=\"190.35\" y=\"-44.38\" font-family=\"Times New Roman,serif\" font-size=\"14.00\">Pelo</text>\n</g>\n<!-- moreno&#45;&gt;Pelo -->\n<g id=\"edge1\" class=\"edge\">\n<title>moreno&#45;&gt;Pelo</title>\n<path fill=\"none\" stroke=\"black\" d=\"M54.27,-178.48C63.58,-169.3 75.58,-157.52 86.35,-147.17 114.1,-120.47 146.42,-90.1 167.57,-70.32\"/>\n<polygon fill=\"black\" stroke=\"black\" points=\"170.18,-72.67 175.1,-63.28 165.41,-67.55 170.18,-72.67\"/>\n<text text-anchor=\"middle\" x=\"128.85\" y=\"-117.97\" font-family=\"Times New Roman,serif\" font-size=\"14.00\">no</text>\n</g>\n<!-- Pelo&#45;&gt;Pelo -->\n<g id=\"edge4\" class=\"edge\">\n<title>Pelo&#45;&gt;Pelo</title>\n<path fill=\"none\" stroke=\"black\" d=\"M210.24,-60.52C223.03,-63.76 235.35,-59.61 235.35,-48.08 235.35,-39.71 228.85,-35.23 220.39,-34.65\"/>\n<polygon fill=\"black\" stroke=\"black\" points=\"219.85,-31.18 210.24,-35.65 220.54,-38.15 219.85,-31.18\"/>\n<text text-anchor=\"middle\" x=\"247.85\" y=\"-44.38\" font-family=\"Times New Roman,serif\" font-size=\"14.00\">Pelo</text>\n</g>\n<!-- rojo -->\n<g id=\"node3\" class=\"node\">\n<title>rojo</title>\n<ellipse fill=\"#b2dfee\" stroke=\"#b2dfee\" cx=\"190.35\" cy=\"-195.25\" rx=\"95.42\" ry=\"48.17\"/>\n<text text-anchor=\"middle\" x=\"190.35\" y=\"-214.05\" font-family=\"Times New Roman,serif\" font-size=\"14.00\">Pelo </text>\n<text text-anchor=\"middle\" x=\"190.35\" y=\"-199.05\" font-family=\"Times New Roman,serif\" font-size=\"14.00\"> Entropia: 0.0 </text>\n<text text-anchor=\"middle\" x=\"190.35\" y=\"-184.05\" font-family=\"Times New Roman,serif\" font-size=\"14.00\"> Clase: No se quema </text>\n<text text-anchor=\"middle\" x=\"190.35\" y=\"-169.05\" font-family=\"Times New Roman,serif\" font-size=\"14.00\"> Cantidades: [3]</text>\n</g>\n<!-- rojo&#45;&gt;Pelo -->\n<g id=\"edge2\" class=\"edge\">\n<title>rojo&#45;&gt;Pelo</title>\n<path fill=\"none\" stroke=\"black\" d=\"M190.35,-147.12C190.35,-123.79 190.35,-96.44 190.35,-76.56\"/>\n<polygon fill=\"black\" stroke=\"black\" points=\"193.85,-76.37 190.35,-66.37 186.85,-76.37 193.85,-76.37\"/>\n<text text-anchor=\"middle\" x=\"195.35\" y=\"-117.97\" font-family=\"Times New Roman,serif\" font-size=\"14.00\">si</text>\n</g>\n<!-- rubio -->\n<g id=\"node4\" class=\"node\">\n<title>rubio</title>\n<ellipse fill=\"#b2dfee\" stroke=\"#b2dfee\" cx=\"399.35\" cy=\"-195.25\" rx=\"95.42\" ry=\"48.17\"/>\n<text text-anchor=\"middle\" x=\"399.35\" y=\"-214.05\" font-family=\"Times New Roman,serif\" font-size=\"14.00\">Pelo </text>\n<text text-anchor=\"middle\" x=\"399.35\" y=\"-199.05\" font-family=\"Times New Roman,serif\" font-size=\"14.00\"> Entropia: 0.0 </text>\n<text text-anchor=\"middle\" x=\"399.35\" y=\"-184.05\" font-family=\"Times New Roman,serif\" font-size=\"14.00\"> Clase: No se quema </text>\n<text text-anchor=\"middle\" x=\"399.35\" y=\"-169.05\" font-family=\"Times New Roman,serif\" font-size=\"14.00\"> Cantidades: [3]</text>\n</g>\n<!-- rubio&#45;&gt;Pelo -->\n<g id=\"edge3\" class=\"edge\">\n<title>rubio&#45;&gt;Pelo</title>\n<path fill=\"none\" stroke=\"black\" d=\"M344.16,-155.92C303.04,-127.36 248.7,-89.61 216.83,-67.48\"/>\n<polygon fill=\"black\" stroke=\"black\" points=\"218.68,-64.5 208.47,-61.67 214.68,-70.25 218.68,-64.5\"/>\n<text text-anchor=\"middle\" x=\"306.35\" y=\"-117.97\" font-family=\"Times New Roman,serif\" font-size=\"14.00\">si</text>\n</g>\n<!-- alto -->\n<g id=\"node5\" class=\"node\">\n<title>alto</title>\n<ellipse fill=\"#b2dfee\" stroke=\"#b2dfee\" cx=\"652.35\" cy=\"-195.25\" rx=\"139.1\" ry=\"48.17\"/>\n<text text-anchor=\"middle\" x=\"652.35\" y=\"-214.05\" font-family=\"Times New Roman,serif\" font-size=\"14.00\">Pelo </text>\n<text text-anchor=\"middle\" x=\"652.35\" y=\"-199.05\" font-family=\"Times New Roman,serif\" font-size=\"14.00\"> Entropia: 1.4056390622295665 </text>\n<text text-anchor=\"middle\" x=\"652.35\" y=\"-184.05\" font-family=\"Times New Roman,serif\" font-size=\"14.00\"> Clase: Se quema </text>\n<text text-anchor=\"middle\" x=\"652.35\" y=\"-169.05\" font-family=\"Times New Roman,serif\" font-size=\"14.00\"> Cantidades: [3]</text>\n</g>\n<!-- Altura -->\n<g id=\"node6\" class=\"node\">\n<title>Altura</title>\n<ellipse fill=\"#b2dfee\" stroke=\"#b2dfee\" cx=\"1063.35\" cy=\"-48.08\" rx=\"139.1\" ry=\"48.17\"/>\n<text text-anchor=\"middle\" x=\"1063.35\" y=\"-66.88\" font-family=\"Times New Roman,serif\" font-size=\"14.00\">Pelo </text>\n<text text-anchor=\"middle\" x=\"1063.35\" y=\"-51.88\" font-family=\"Times New Roman,serif\" font-size=\"14.00\"> Entropia: 1.4056390622295665 </text>\n<text text-anchor=\"middle\" x=\"1063.35\" y=\"-36.88\" font-family=\"Times New Roman,serif\" font-size=\"14.00\"> Clase: Se quema </text>\n<text text-anchor=\"middle\" x=\"1063.35\" y=\"-21.88\" font-family=\"Times New Roman,serif\" font-size=\"14.00\"> Cantidades: [3]</text>\n</g>\n<!-- alto&#45;&gt;Altura -->\n<g id=\"edge5\" class=\"edge\">\n<title>alto&#45;&gt;Altura</title>\n<path fill=\"none\" stroke=\"black\" d=\"M748.45,-160.31C811.07,-138.19 892.81,-109.32 957.32,-86.53\"/>\n<polygon fill=\"black\" stroke=\"black\" points=\"958.85,-89.7 967.11,-83.07 956.52,-83.1 958.85,-89.7\"/>\n<text text-anchor=\"middle\" x=\"877.85\" y=\"-117.97\" font-family=\"Times New Roman,serif\" font-size=\"14.00\">no</text>\n</g>\n<!-- Peso -->\n<g id=\"node9\" class=\"node\">\n<title>Peso</title>\n<ellipse fill=\"#b2dfee\" stroke=\"#b2dfee\" cx=\"725.35\" cy=\"-48.08\" rx=\"134.2\" ry=\"48.17\"/>\n<text text-anchor=\"middle\" x=\"725.35\" y=\"-66.88\" font-family=\"Times New Roman,serif\" font-size=\"14.00\">Altura </text>\n<text text-anchor=\"middle\" x=\"725.35\" y=\"-51.88\" font-family=\"Times New Roman,serif\" font-size=\"14.00\"> Entropia: 1.561278124459133 </text>\n<text text-anchor=\"middle\" x=\"725.35\" y=\"-36.88\" font-family=\"Times New Roman,serif\" font-size=\"14.00\"> Clase: Se quema </text>\n<text text-anchor=\"middle\" x=\"725.35\" y=\"-21.88\" font-family=\"Times New Roman,serif\" font-size=\"14.00\"> Cantidades: [2]</text>\n</g>\n<!-- alto&#45;&gt;Peso -->\n<g id=\"edge9\" class=\"edge\">\n<title>alto&#45;&gt;Peso</title>\n<path fill=\"none\" stroke=\"black\" d=\"M675.85,-147.52C682.68,-133.92 690.22,-118.93 697.31,-104.84\"/>\n<polygon fill=\"black\" stroke=\"black\" points=\"700.53,-106.23 701.89,-95.73 694.27,-103.09 700.53,-106.23\"/>\n<text text-anchor=\"middle\" x=\"696.35\" y=\"-117.97\" font-family=\"Times New Roman,serif\" font-size=\"14.00\">si</text>\n</g>\n<!-- Altura&#45;&gt;Altura -->\n<g id=\"edge8\" class=\"edge\">\n<title>Altura&#45;&gt;Altura</title>\n<path fill=\"none\" stroke=\"black\" d=\"M1198.99,-59.05C1212.24,-56.83 1220.65,-53.18 1220.65,-48.08 1220.65,-44.42 1216.3,-41.5 1208.94,-39.33\"/>\n<polygon fill=\"black\" stroke=\"black\" points=\"1209.51,-35.87 1198.99,-37.12 1207.99,-42.7 1209.51,-35.87\"/>\n<text text-anchor=\"middle\" x=\"1237.65\" y=\"-44.38\" font-family=\"Times New Roman,serif\" font-size=\"14.00\">Altura</text>\n</g>\n<!-- bajo -->\n<g id=\"node7\" class=\"node\">\n<title>bajo</title>\n<ellipse fill=\"#b2dfee\" stroke=\"#b2dfee\" cx=\"1202.35\" cy=\"-195.25\" rx=\"95.42\" ry=\"48.17\"/>\n<text text-anchor=\"middle\" x=\"1202.35\" y=\"-214.05\" font-family=\"Times New Roman,serif\" font-size=\"14.00\">Altura </text>\n<text text-anchor=\"middle\" x=\"1202.35\" y=\"-199.05\" font-family=\"Times New Roman,serif\" font-size=\"14.00\"> Entropia: 0.0 </text>\n<text text-anchor=\"middle\" x=\"1202.35\" y=\"-184.05\" font-family=\"Times New Roman,serif\" font-size=\"14.00\"> Clase: No se quema </text>\n<text text-anchor=\"middle\" x=\"1202.35\" y=\"-169.05\" font-family=\"Times New Roman,serif\" font-size=\"14.00\"> Cantidades: [2]</text>\n</g>\n<!-- bajo&#45;&gt;Altura -->\n<g id=\"edge6\" class=\"edge\">\n<title>bajo&#45;&gt;Altura</title>\n<path fill=\"none\" stroke=\"black\" d=\"M1161.39,-151.48C1146.39,-135.81 1129.25,-117.91 1113.53,-101.49\"/>\n<polygon fill=\"black\" stroke=\"black\" points=\"1115.87,-98.87 1106.42,-94.07 1110.81,-103.71 1115.87,-98.87\"/>\n<text text-anchor=\"middle\" x=\"1142.35\" y=\"-117.97\" font-family=\"Times New Roman,serif\" font-size=\"14.00\">si</text>\n</g>\n<!-- bajo&#45;&gt;Peso -->\n<g id=\"edge10\" class=\"edge\">\n<title>bajo&#45;&gt;Peso</title>\n<path fill=\"none\" stroke=\"black\" d=\"M1132.61,-162.16C1120.89,-157 1108.82,-151.84 1097.35,-147.17 1057.89,-131.11 1048.38,-125.63 1007.35,-114.17 967.22,-102.96 956.02,-105.18 915.35,-96.17 891.87,-90.96 866.86,-85.04 842.95,-79.19\"/>\n<polygon fill=\"black\" stroke=\"black\" points=\"843.69,-75.77 833.14,-76.78 842.02,-82.57 843.69,-75.77\"/>\n<text text-anchor=\"middle\" x=\"1058.35\" y=\"-117.97\" font-family=\"Times New Roman,serif\" font-size=\"14.00\">si</text>\n</g>\n<!-- medio -->\n<g id=\"node8\" class=\"node\">\n<title>medio</title>\n<ellipse fill=\"#b2dfee\" stroke=\"#b2dfee\" cx=\"949.35\" cy=\"-195.25\" rx=\"139.1\" ry=\"48.17\"/>\n<text text-anchor=\"middle\" x=\"949.35\" y=\"-214.05\" font-family=\"Times New Roman,serif\" font-size=\"14.00\">Altura </text>\n<text text-anchor=\"middle\" x=\"949.35\" y=\"-199.05\" font-family=\"Times New Roman,serif\" font-size=\"14.00\"> Entropia: 0.9182958340544896 </text>\n<text text-anchor=\"middle\" x=\"949.35\" y=\"-184.05\" font-family=\"Times New Roman,serif\" font-size=\"14.00\"> Clase: Se quema </text>\n<text text-anchor=\"middle\" x=\"949.35\" y=\"-169.05\" font-family=\"Times New Roman,serif\" font-size=\"14.00\"> Cantidades: [2]</text>\n</g>\n<!-- medio&#45;&gt;Altura -->\n<g id=\"edge7\" class=\"edge\">\n<title>medio&#45;&gt;Altura</title>\n<path fill=\"none\" stroke=\"black\" d=\"M974.6,-147.62C981.45,-136.3 989.23,-124.49 997.35,-114.17 1000.77,-109.82 1004.46,-105.46 1008.28,-101.18\"/>\n<polygon fill=\"black\" stroke=\"black\" points=\"1011.09,-103.3 1015.29,-93.58 1005.94,-98.56 1011.09,-103.3\"/>\n<text text-anchor=\"middle\" x=\"1002.35\" y=\"-117.97\" font-family=\"Times New Roman,serif\" font-size=\"14.00\">si</text>\n</g>\n<!-- medio&#45;&gt;Peso -->\n<g id=\"edge11\" class=\"edge\">\n<title>medio&#45;&gt;Peso</title>\n<path fill=\"none\" stroke=\"black\" d=\"M848.49,-161.9C832.41,-156.88 815.94,-151.82 800.35,-147.17 772.03,-138.71 755.75,-151.45 736.35,-129.17 730.72,-122.7 727.15,-114.76 724.97,-106.42\"/>\n<polygon fill=\"black\" stroke=\"black\" points=\"728.39,-105.64 723.03,-96.5 721.52,-106.99 728.39,-105.64\"/>\n<text text-anchor=\"middle\" x=\"741.35\" y=\"-117.97\" font-family=\"Times New Roman,serif\" font-size=\"14.00\">si</text>\n</g>\n<!-- Peso&#45;&gt;Peso -->\n<g id=\"edge12\" class=\"edge\">\n<title>Peso&#45;&gt;Peso</title>\n<path fill=\"none\" stroke=\"black\" d=\"M856.19,-59.14C869.32,-56.94 877.7,-53.25 877.7,-48.08 877.7,-44.37 873.37,-41.42 866.06,-39.24\"/>\n<polygon fill=\"black\" stroke=\"black\" points=\"866.71,-35.8 856.19,-37.03 865.18,-42.63 866.71,-35.8\"/>\n<text text-anchor=\"middle\" x=\"891.7\" y=\"-44.38\" font-family=\"Times New Roman,serif\" font-size=\"14.00\">Peso</text>\n</g>\n<!-- no -->\n<g id=\"node10\" class=\"node\">\n<title>no</title>\n<ellipse fill=\"#b2dfee\" stroke=\"#b2dfee\" cx=\"1450.35\" cy=\"-195.25\" rx=\"134.2\" ry=\"48.17\"/>\n<text text-anchor=\"middle\" x=\"1450.35\" y=\"-214.05\" font-family=\"Times New Roman,serif\" font-size=\"14.00\">Peso </text>\n<text text-anchor=\"middle\" x=\"1450.35\" y=\"-199.05\" font-family=\"Times New Roman,serif\" font-size=\"14.00\"> Entropia: 1.561278124459133 </text>\n<text text-anchor=\"middle\" x=\"1450.35\" y=\"-184.05\" font-family=\"Times New Roman,serif\" font-size=\"14.00\"> Clase: Se quema </text>\n<text text-anchor=\"middle\" x=\"1450.35\" y=\"-169.05\" font-family=\"Times New Roman,serif\" font-size=\"14.00\"> Cantidades: [2 1]</text>\n</g>\n<!-- Proteccion -->\n<g id=\"node11\" class=\"node\">\n<title>Proteccion</title>\n<ellipse fill=\"#b2dfee\" stroke=\"#b2dfee\" cx=\"1596.35\" cy=\"-48.08\" rx=\"134.2\" ry=\"48.17\"/>\n<text text-anchor=\"middle\" x=\"1596.35\" y=\"-66.88\" font-family=\"Times New Roman,serif\" font-size=\"14.00\">Peso </text>\n<text text-anchor=\"middle\" x=\"1596.35\" y=\"-51.88\" font-family=\"Times New Roman,serif\" font-size=\"14.00\"> Entropia: 1.561278124459133 </text>\n<text text-anchor=\"middle\" x=\"1596.35\" y=\"-36.88\" font-family=\"Times New Roman,serif\" font-size=\"14.00\"> Clase: Se quema </text>\n<text text-anchor=\"middle\" x=\"1596.35\" y=\"-21.88\" font-family=\"Times New Roman,serif\" font-size=\"14.00\"> Cantidades: [2 1]</text>\n</g>\n<!-- no&#45;&gt;Proteccion -->\n<g id=\"edge13\" class=\"edge\">\n<title>no&#45;&gt;Proteccion</title>\n<path fill=\"none\" stroke=\"black\" d=\"M1495.34,-149.51C1510.82,-134.12 1528.27,-116.77 1544.27,-100.87\"/>\n<polygon fill=\"black\" stroke=\"black\" points=\"1546.88,-103.21 1551.5,-93.67 1541.94,-98.24 1546.88,-103.21\"/>\n<text text-anchor=\"middle\" x=\"1533.35\" y=\"-117.97\" font-family=\"Times New Roman,serif\" font-size=\"14.00\">si</text>\n</g>\n<!-- Proteccion&#45;&gt;Proteccion -->\n<g id=\"edge15\" class=\"edge\">\n<title>Proteccion&#45;&gt;Proteccion</title>\n<path fill=\"none\" stroke=\"black\" d=\"M1727.19,-59.14C1740.32,-56.94 1748.7,-53.25 1748.7,-48.08 1748.7,-44.37 1744.37,-41.42 1737.06,-39.24\"/>\n<polygon fill=\"black\" stroke=\"black\" points=\"1737.71,-35.8 1727.19,-37.03 1736.18,-42.63 1737.71,-35.8\"/>\n<text text-anchor=\"middle\" x=\"1779.2\" y=\"-44.38\" font-family=\"Times New Roman,serif\" font-size=\"14.00\">Proteccion</text>\n</g>\n<!-- si -->\n<g id=\"node12\" class=\"node\">\n<title>si</title>\n<ellipse fill=\"#b2dfee\" stroke=\"#b2dfee\" cx=\"1742.35\" cy=\"-195.25\" rx=\"139.1\" ry=\"48.17\"/>\n<text text-anchor=\"middle\" x=\"1742.35\" y=\"-214.05\" font-family=\"Times New Roman,serif\" font-size=\"14.00\">Proteccion </text>\n<text text-anchor=\"middle\" x=\"1742.35\" y=\"-199.05\" font-family=\"Times New Roman,serif\" font-size=\"14.00\"> Entropia: 0.9709505944546686 </text>\n<text text-anchor=\"middle\" x=\"1742.35\" y=\"-184.05\" font-family=\"Times New Roman,serif\" font-size=\"14.00\"> Clase: Se quema </text>\n<text text-anchor=\"middle\" x=\"1742.35\" y=\"-169.05\" font-family=\"Times New Roman,serif\" font-size=\"14.00\"> Cantidades: [2 3]</text>\n</g>\n<!-- si&#45;&gt;Proteccion -->\n<g id=\"edge14\" class=\"edge\">\n<title>si&#45;&gt;Proteccion</title>\n<path fill=\"none\" stroke=\"black\" d=\"M1697.35,-149.51C1681.87,-134.12 1664.42,-116.77 1648.43,-100.87\"/>\n<polygon fill=\"black\" stroke=\"black\" points=\"1650.75,-98.24 1641.19,-93.67 1645.82,-103.21 1650.75,-98.24\"/>\n<text text-anchor=\"middle\" x=\"1681.85\" y=\"-117.97\" font-family=\"Times New Roman,serif\" font-size=\"14.00\">no</text>\n</g>\n</g>\n</svg>\n",
      "text/plain": "<graphviz.graphs.Digraph at 0x2a4d1444af0>"
     },
     "execution_count": 165,
     "metadata": {},
     "output_type": "execute_result"
    }
   ],
   "source": [
    "#altura\n",
    "info_A= calcular_ganancia(valores, var='Altura')\n",
    "ganancia = entropia - info_A\n",
    "print(\"ganancia de altura\",ganancia)"
   ]
  },
  {
   "cell_type": "code",
   "execution_count": 14,
   "metadata": {
    "pycharm": {
     "name": "#%%\n"
    }
   },
   "outputs": [
    {
     "name": "stdout",
     "output_type": "stream",
     "text": [
      "tiene se (array([4, 5, 6], dtype=int64),)\n",
      "se_quemadura Ejemplo\n",
      "5    si\n",
      "6    no\n",
      "7    no\n",
      "Name: Quemadura, dtype: object\n",
      "subgrupos  ['no' 'si'] [2 1]\n",
      "se_entropia 0.9182958340544896\n",
      "probabilidad valor 0.375\n",
      "bajo\n",
      "subgrupos  ['no' 'si'] [1 1]\n",
      "se_entropia 1.0\n",
      "probabilidad valor 0.25\n",
      "medio\n",
      "subgrupos  ['no' 'si'] [2 1]\n",
      "se_entropia 0.9182958340544896\n",
      "probabilidad valor 0.375\n",
      "info_g 0.9387218755408671\n",
      "ganancia de peso 0.015712127384097996\n"
     ]
    }
   ],
   "source": [
    "#ganancia de peso\n",
    "info_A= calcular_ganancia(valores, var='Peso')\n",
    "ganancia = entropia - info_A\n",
    "print(\"ganancia de peso\",ganancia)"
   ]
  },
  {
   "cell_type": "code",
   "execution_count": 15,
   "metadata": {
    "collapsed": false,
    "pycharm": {
     "name": "#%%\n"
    }
   }
  },
  {
   "cell_type": "code",
   "execution_count": 23,
   "metadata": {
    "collapsed": false,
    "pycharm": {
     "name": "#%%\n"
    }
   }
  },
  {
   "cell_type": "code",
   "execution_count": 214,
   "outputs": [
    {
     "data": {
      "text/plain": [
       "(   Pelo  Altura  Peso  Proteccion\n",
       " 0     2       2     1           0\n",
       " 1     2       0     2           1\n",
       " 2     0       1     2           1\n",
       " 3     2       1     2           0\n",
       " 4     1       2     0           0\n",
       " 5     0       0     0           0\n",
       " 6     0       2     0           0\n",
       " 7     2       1     1           1,\n",
       " 0    1\n",
       " 1    0\n",
       " 2    0\n",
       " 3    1\n",
       " 4    1\n",
       " 5    0\n",
       " 6    0\n",
       " 7    0\n",
       " Name: Quemadura, dtype: int32,\n",
       " DecisionTreeClassifier(criterion='entropy', max_depth=4))"
      ]
     },
     "execution_count": 23,
     "metadata": {},
     "output_type": "execute_result"
    }
   ],
   "source": [
    "#utilizando la librería sklearn\n",
    "\n",
    "from sklearn import tree\n",
    "from sklearn import preprocessing\n",
    "\n",
    "data = pd.DataFrame()\n",
    "le = preprocessing.LabelEncoder()\n",
    "var = [\"Pelo\",\"Altura\",\"Peso\",\"Proteccion\",\"Quemadura\"]\n",
    "\n",
    "for v in var:\n",
    "    le.fit(quemadura_data[v])\n",
    "    data[v] = le.transform(quemadura_data[v])\n",
    "clf = tree.DecisionTreeClassifier(criterion='entropy',max_depth=4)\n",
    "t_data = data[data.columns[0:4]]\n",
    "t_target = data[data.columns[4]]\n",
    "clf = clf.fit(t_data, t_target)\n",
    "t_data, t_target,clf\n",
    "dot_data = tree.export_graphviz(clf, out_file=None,\n",
    "                         feature_names=list(t_data.columns.values),\n",
    "                         class_names=[\"NO Quema\", \"Se quema\"],\n",
    "                         filled=True, rounded=True,\n",
    "                         special_characters=True)\n",
    "graph = graphviz.Source(dot_data)\n",
    "graph"
   ],
   "metadata": {
    "collapsed": false,
    "pycharm": {
     "name": "#%%\n"
    }
   }
  }
 ],
 "metadata": {
  "kernelspec": {
   "display_name": "Python 3",
   "language": "python",
   "name": "python3"
  },
  "language_info": {
   "codemirror_mode": {
    "name": "ipython",
    "version": 3
   },
   "file_extension": ".py",
   "mimetype": "text/x-python",
   "name": "python",
   "nbconvert_exporter": "python",
   "pygments_lexer": "ipython3",
   "version": "3.8.5"
  }
 },
 "nbformat": 4,
 "nbformat_minor": 4
}