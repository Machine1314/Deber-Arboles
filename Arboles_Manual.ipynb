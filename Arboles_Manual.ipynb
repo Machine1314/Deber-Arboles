{
 "cells": [
  {
   "cell_type": "code",
   "execution_count": 1,
   "metadata": {
    "pycharm": {
     "name": "#%%\n"
    }
   },
   "outputs": [
    {
     "data": {
      "text/html": [
       "<div>\n",
       "<style scoped>\n",
       "    .dataframe tbody tr th:only-of-type {\n",
       "        vertical-align: middle;\n",
       "    }\n",
       "\n",
       "    .dataframe tbody tr th {\n",
       "        vertical-align: top;\n",
       "    }\n",
       "\n",
       "    .dataframe thead th {\n",
       "        text-align: right;\n",
       "    }\n",
       "</style>\n",
       "<table border=\"1\" class=\"dataframe\">\n",
       "  <thead>\n",
       "    <tr style=\"text-align: right;\">\n",
       "      <th></th>\n",
       "      <th>Pelo</th>\n",
       "      <th>Altura</th>\n",
       "      <th>Peso</th>\n",
       "      <th>Proteccion</th>\n",
       "      <th>Quemadura</th>\n",
       "    </tr>\n",
       "    <tr>\n",
       "      <th>Ejemplo</th>\n",
       "      <th></th>\n",
       "      <th></th>\n",
       "      <th></th>\n",
       "      <th></th>\n",
       "      <th></th>\n",
       "    </tr>\n",
       "  </thead>\n",
       "  <tbody>\n",
       "    <tr>\n",
       "      <th>1</th>\n",
       "      <td>rubio</td>\n",
       "      <td>medio</td>\n",
       "      <td>bajo</td>\n",
       "      <td>no</td>\n",
       "      <td>si</td>\n",
       "    </tr>\n",
       "    <tr>\n",
       "      <th>2</th>\n",
       "      <td>rubio</td>\n",
       "      <td>alto</td>\n",
       "      <td>medio</td>\n",
       "      <td>si</td>\n",
       "      <td>no</td>\n",
       "    </tr>\n",
       "    <tr>\n",
       "      <th>3</th>\n",
       "      <td>moreno</td>\n",
       "      <td>bajo</td>\n",
       "      <td>medio</td>\n",
       "      <td>si</td>\n",
       "      <td>no</td>\n",
       "    </tr>\n",
       "    <tr>\n",
       "      <th>4</th>\n",
       "      <td>rubio</td>\n",
       "      <td>bajo</td>\n",
       "      <td>medio</td>\n",
       "      <td>no</td>\n",
       "      <td>si</td>\n",
       "    </tr>\n",
       "    <tr>\n",
       "      <th>5</th>\n",
       "      <td>rojo</td>\n",
       "      <td>medio</td>\n",
       "      <td>alto</td>\n",
       "      <td>no</td>\n",
       "      <td>si</td>\n",
       "    </tr>\n",
       "  </tbody>\n",
       "</table>\n",
       "</div>"
      ],
      "text/plain": [
       "           Pelo Altura   Peso Proteccion Quemadura\n",
       "Ejemplo                                           \n",
       "1         rubio  medio   bajo         no        si\n",
       "2         rubio   alto  medio         si        no\n",
       "3        moreno   bajo  medio         si        no\n",
       "4         rubio   bajo  medio         no        si\n",
       "5          rojo  medio   alto         no        si"
      ]
     },
     "execution_count": 1,
     "metadata": {},
     "output_type": "execute_result"
    }
   ],
   "source": [
    "#cálculo numérico y análisis de datos\n",
    "import numpy as np\n",
    "import graphviz\n",
    "from graphviz import Digraph\n",
    "#manipulación y análisis de datos (estructuras de datos)\n",
    "import pandas as pd\n",
    "labels = ['Pelo', 'Altura', 'Peso', 'Proteccion', 'Quemadura']\n",
    "quemadura_data = pd.read_csv(\"arbQuemadura.csv\", index_col=0)\n",
    "quemadura_data.head()"
   ]
  },
  {
   "cell_type": "markdown",
   "metadata": {},
   "source": [
    "### calcular la entropia"
   ]
  },
  {
   "cell_type": "code",
   "execution_count": 2,
   "metadata": {
    "pycharm": {
     "name": "#%%\n"
    }
   },
   "outputs": [],
   "source": [
    "def calcular_entropia(p):\n",
    "    return -np.sum(p*np.log2(p))"
   ]
  },
  {
   "cell_type": "markdown",
   "metadata": {},
   "source": [
    "### calcular la ganancia"
   ]
  },
  {
   "cell_type": "code",
   "execution_count": 4,
   "metadata": {},
   "outputs": [],
   "source": [
    "#calcular la ganancia\n",
    "def calcular_ganancia(valores, var='Pelo'):\n",
    "    valores, cuantos = np.unique(quemadura_data[var],return_counts=True)\n",
    "    #genero una lista para calcular la ganancia\n",
    "    info_A = []\n",
    "    \n",
    "    for e in valores:\n",
    "        se = np.where(quemadura_data[var]==e)\n",
    "        #print(\"tiene se\",se)\n",
    "        #particiona por valor\n",
    "        se_quemadura = quemadura_data['Quemadura'][quemadura_data.index[se[0]]]\n",
    "        #print(\"se_quemadura\",se_quemadura)\n",
    "        #valores por subgrupo\n",
    "        v_se_quemadura, c_se_quemadura = np.unique(se_quemadura,return_counts=True)\n",
    "        print(\"subgrupos \",v_se_quemadura,c_se_quemadura)\n",
    "        #entropia del valor\n",
    "        se_entropia = abs(calcular_entropia(c_se_quemadura/sum(c_se_quemadura)))\n",
    "        print(\"Entropia: \",se_entropia)\n",
    "        #probabilidad del valor\n",
    "        se_size = sum(c_se_quemadura)/len(quemadura_data.index)\n",
    "        #print(\"probabilidad valor\",se_size)\n",
    "        #almacenar valores\n",
    "        info_A += [[se_entropia, se_size]]\n",
    "        print(\"info_A\",info_A)\n",
    "    #convertir lista en arreglo\n",
    "    info_A = np.array(info_A)\n",
    "    #calcular la entropia de la variable\n",
    "    info_g = np.sum(info_A[:,0]*info_A[:,1])\n",
    "    print(\"info_g\",info_g)\n",
    "    return info_g"
   ]
  },
  {
   "cell_type": "markdown",
   "metadata": {},
   "source": [
    "## Calcular la entropia del arbol"
   ]
  },
  {
   "cell_type": "code",
   "execution_count": 3,
   "metadata": {
    "pycharm": {
     "name": "#%%\n"
    }
   },
   "outputs": [
    {
     "name": "stdout",
     "output_type": "stream",
     "text": [
      "Entropia del arbol 0.954434002924965\n"
     ]
    },
    {
     "data": {
      "text/plain": [
       "(array(['no', 'si'], dtype=object), array([5, 3], dtype=int64))"
      ]
     },
     "execution_count": 3,
     "metadata": {},
     "output_type": "execute_result"
    }
   ],
   "source": [
    "valores, cuantos = np.unique(quemadura_data['Quemadura'], return_counts=True)\n",
    "entropia = calcular_entropia(cuantos/sum(cuantos))\n",
    "print(\"Entropia del arbol\",entropia)\n",
    "valores,cuantos"
   ]
  },
  {
   "cell_type": "code",
   "execution_count": 14,
   "metadata": {},
   "outputs": [
    {
     "name": "stdout",
     "output_type": "stream",
     "text": [
      "subgrupos  ['no'] [3]\n",
      "Entropia:  0.0\n",
      "info_A [[0.0, 0.375]]\n",
      "subgrupos  ['si'] [1]\n",
      "Entropia:  0.0\n",
      "info_A [[0.0, 0.375], [0.0, 0.125]]\n",
      "subgrupos  ['no' 'si'] [2 2]\n",
      "Entropia:  1.0\n",
      "info_A [[0.0, 0.375], [0.0, 0.125], [1.0, 0.5]]\n",
      "info_g 0.5\n",
      "ganancia de Pelo\n",
      "************Pelo************\n",
      "subgrupos  ['no'] [2]\n",
      "Entropia:  0.0\n",
      "info_A [[0.0, 0.25]]\n",
      "subgrupos  ['no' 'si'] [2 1]\n",
      "Entropia:  0.9182958340544896\n",
      "info_A [[0.0, 0.25], [0.9182958340544896, 0.375]]\n",
      "subgrupos  ['no' 'si'] [1 2]\n",
      "Entropia:  0.9182958340544896\n",
      "info_A [[0.0, 0.25], [0.9182958340544896, 0.375], [0.9182958340544896, 0.375]]\n",
      "info_g 0.6887218755408672\n",
      "ganancia de Altura\n",
      "************Altura************\n",
      "subgrupos  ['no' 'si'] [2 1]\n",
      "Entropia:  0.9182958340544896\n",
      "info_A [[0.9182958340544896, 0.375]]\n",
      "subgrupos  ['no' 'si'] [1 1]\n",
      "Entropia:  1.0\n",
      "info_A [[0.9182958340544896, 0.375], [1.0, 0.25]]\n",
      "subgrupos  ['no' 'si'] [2 1]\n",
      "Entropia:  0.9182958340544896\n",
      "info_A [[0.9182958340544896, 0.375], [1.0, 0.25], [0.9182958340544896, 0.375]]\n",
      "info_g 0.9387218755408671\n",
      "ganancia de Peso\n",
      "************Peso************\n",
      "subgrupos  ['no' 'si'] [2 3]\n",
      "Entropia:  0.9709505944546686\n",
      "info_A [[0.9709505944546686, 0.625]]\n",
      "subgrupos  ['no'] [3]\n",
      "Entropia:  0.0\n",
      "info_A [[0.9709505944546686, 0.625], [0.0, 0.375]]\n",
      "info_g 0.6068441215341679\n",
      "ganancia de Proteccion\n",
      "************Proteccion************\n"
     ]
    },
    {
     "data": {
      "image/svg+xml": [
       "<?xml version=\"1.0\" encoding=\"UTF-8\" standalone=\"no\"?>\n",
       "<!DOCTYPE svg PUBLIC \"-//W3C//DTD SVG 1.1//EN\"\n",
       " \"http://www.w3.org/Graphics/SVG/1.1/DTD/svg11.dtd\">\n",
       "<!-- Generated by graphviz version 4.0.0 (20220529.0937)\n",
       " -->\n",
       "<!-- Title: grafo Pages: 1 -->\n",
       "<svg width=\"515pt\" height=\"209pt\"\n",
       " viewBox=\"0.00 0.00 514.81 208.91\" xmlns=\"http://www.w3.org/2000/svg\" xmlns:xlink=\"http://www.w3.org/1999/xlink\">\n",
       "<g id=\"graph0\" class=\"graph\" transform=\"scale(1 1) rotate(0) translate(4 204.91)\">\n",
       "<title>grafo</title>\n",
       "<polygon fill=\"white\" stroke=\"transparent\" points=\"-4,4 -4,-204.91 510.81,-204.91 510.81,4 -4,4\"/>\n",
       "<!-- Pelo -->\n",
       "<g id=\"node1\" class=\"node\">\n",
       "<title>Pelo</title>\n",
       "<ellipse fill=\"none\" stroke=\"black\" cx=\"244.66\" cy=\"-37.48\" rx=\"75.82\" ry=\"37.45\"/>\n",
       "<text text-anchor=\"middle\" x=\"244.66\" y=\"-48.78\" font-family=\"Times New Roman,serif\" font-size=\"14.00\">Clase: Pelo </text>\n",
       "<text text-anchor=\"middle\" x=\"244.66\" y=\"-33.78\" font-family=\"Times New Roman,serif\" font-size=\"14.00\"> Entropia: 1.41 </text>\n",
       "<text text-anchor=\"middle\" x=\"244.66\" y=\"-18.78\" font-family=\"Times New Roman,serif\" font-size=\"14.00\"> Valores: [3 1 4]</text>\n",
       "</g>\n",
       "<!-- Pelo&#45;&gt;Pelo -->\n",
       "<g id=\"edge1\" class=\"edge\">\n",
       "<title>Pelo&#45;&gt;Pelo</title>\n",
       "<path fill=\"none\" stroke=\"black\" d=\"M317.31,-48.33C329.72,-46.85 338.32,-43.23 338.32,-37.48 338.32,-33.43 334.07,-30.44 327.23,-28.51\"/>\n",
       "<polygon fill=\"black\" stroke=\"black\" points=\"327.79,-25.05 317.31,-26.62 326.48,-31.93 327.79,-25.05\"/>\n",
       "<text text-anchor=\"middle\" x=\"367.32\" y=\"-33.78\" font-family=\"Times New Roman,serif\" font-size=\"14.00\">No quema</text>\n",
       "</g>\n",
       "<!-- Altura -->\n",
       "<g id=\"node2\" class=\"node\">\n",
       "<title>Altura</title>\n",
       "<ellipse fill=\"none\" stroke=\"black\" cx=\"75.66\" cy=\"-163.43\" rx=\"75.82\" ry=\"37.45\"/>\n",
       "<text text-anchor=\"middle\" x=\"75.66\" y=\"-174.73\" font-family=\"Times New Roman,serif\" font-size=\"14.00\">Clase: Altura </text>\n",
       "<text text-anchor=\"middle\" x=\"75.66\" y=\"-159.73\" font-family=\"Times New Roman,serif\" font-size=\"14.00\"> Entropia: 1.56 </text>\n",
       "<text text-anchor=\"middle\" x=\"75.66\" y=\"-144.73\" font-family=\"Times New Roman,serif\" font-size=\"14.00\"> Valores: [2 3 3]</text>\n",
       "</g>\n",
       "<!-- Altura&#45;&gt;Pelo -->\n",
       "<g id=\"edge2\" class=\"edge\">\n",
       "<title>Altura&#45;&gt;Pelo</title>\n",
       "<path fill=\"none\" stroke=\"black\" d=\"M117.44,-131.79C140.88,-114.59 170.29,-93.03 194.92,-74.96\"/>\n",
       "<polygon fill=\"black\" stroke=\"black\" points=\"197.08,-77.72 203.07,-68.98 192.94,-72.07 197.08,-77.72\"/>\n",
       "<text text-anchor=\"middle\" x=\"199.66\" y=\"-96.75\" font-family=\"Times New Roman,serif\" font-size=\"14.00\">No quema</text>\n",
       "</g>\n",
       "<!-- Peso -->\n",
       "<g id=\"node3\" class=\"node\">\n",
       "<title>Peso</title>\n",
       "<ellipse fill=\"none\" stroke=\"black\" cx=\"244.66\" cy=\"-163.43\" rx=\"75.82\" ry=\"37.45\"/>\n",
       "<text text-anchor=\"middle\" x=\"244.66\" y=\"-174.73\" font-family=\"Times New Roman,serif\" font-size=\"14.00\">Clase: Peso </text>\n",
       "<text text-anchor=\"middle\" x=\"244.66\" y=\"-159.73\" font-family=\"Times New Roman,serif\" font-size=\"14.00\"> Entropia: 1.56 </text>\n",
       "<text text-anchor=\"middle\" x=\"244.66\" y=\"-144.73\" font-family=\"Times New Roman,serif\" font-size=\"14.00\"> Valores: [3 2 3]</text>\n",
       "</g>\n",
       "<!-- Peso&#45;&gt;Pelo -->\n",
       "<g id=\"edge3\" class=\"edge\">\n",
       "<title>Peso&#45;&gt;Pelo</title>\n",
       "<path fill=\"none\" stroke=\"black\" d=\"M244.66,-125.91C244.66,-113.16 244.66,-98.68 244.66,-85.21\"/>\n",
       "<polygon fill=\"black\" stroke=\"black\" points=\"248.16,-85.16 244.66,-75.16 241.16,-85.16 248.16,-85.16\"/>\n",
       "<text text-anchor=\"middle\" x=\"273.66\" y=\"-96.75\" font-family=\"Times New Roman,serif\" font-size=\"14.00\">No quema</text>\n",
       "</g>\n",
       "<!-- Proteccion -->\n",
       "<g id=\"node4\" class=\"node\">\n",
       "<title>Proteccion</title>\n",
       "<ellipse fill=\"none\" stroke=\"black\" cx=\"422.66\" cy=\"-163.43\" rx=\"84.29\" ry=\"37.45\"/>\n",
       "<text text-anchor=\"middle\" x=\"422.66\" y=\"-174.73\" font-family=\"Times New Roman,serif\" font-size=\"14.00\">Clase: Proteccion </text>\n",
       "<text text-anchor=\"middle\" x=\"422.66\" y=\"-159.73\" font-family=\"Times New Roman,serif\" font-size=\"14.00\"> Entropia: 0.95 </text>\n",
       "<text text-anchor=\"middle\" x=\"422.66\" y=\"-144.73\" font-family=\"Times New Roman,serif\" font-size=\"14.00\"> Valores: [5 3]</text>\n",
       "</g>\n",
       "<!-- Proteccion&#45;&gt;Pelo -->\n",
       "<g id=\"edge4\" class=\"edge\">\n",
       "<title>Proteccion&#45;&gt;Pelo</title>\n",
       "<path fill=\"none\" stroke=\"black\" d=\"M378.2,-131.47C353.21,-114.07 321.9,-92.26 295.88,-74.14\"/>\n",
       "<polygon fill=\"black\" stroke=\"black\" points=\"297.84,-71.24 287.63,-68.4 293.84,-76.99 297.84,-71.24\"/>\n",
       "<text text-anchor=\"middle\" x=\"372.66\" y=\"-96.75\" font-family=\"Times New Roman,serif\" font-size=\"14.00\">No quema</text>\n",
       "</g>\n",
       "</g>\n",
       "</svg>\n"
      ],
      "text/plain": [
       "<graphviz.graphs.Digraph at 0x2521395b130>"
      ]
     },
     "execution_count": 14,
     "metadata": {},
     "output_type": "execute_result"
    }
   ],
   "source": [
    "g = Digraph('grafo')\n",
    "clase = ['Quema', 'No quema']\n",
    "for lab in labels[0:4]:\n",
    "    valores, cuantos = np.unique(quemadura_data[lab], return_counts=True)\n",
    "    entropia = calcular_entropia(cuantos/sum(cuantos))\n",
    "    valores,cuantos\n",
    "    info_A= calcular_ganancia(valores, lab)\n",
    "    ganancia = entropia - info_A\n",
    "    print(\"ganancia de {}\".format(lab))\n",
    "    print('************{}************'.format(lab))\n",
    "    g.node(lab, label='Clase: {} \\\\n Entropia: {} \\\\n Valores: {}'.format(lab, round(entropia, 2), cuantos))\n",
    "    lb = clase[0] if entropia == 0 else clase[1]\n",
    "    g.edge(lab, labels[0], label=lb)\n",
    "g"
   ]
  },
  {
   "cell_type": "code",
   "execution_count": 6,
   "metadata": {
    "pycharm": {
     "name": "#%%\n"
    }
   },
   "outputs": [
    {
     "data": {
      "image/svg+xml": [
       "<?xml version=\"1.0\" encoding=\"UTF-8\" standalone=\"no\"?>\n",
       "<!DOCTYPE svg PUBLIC \"-//W3C//DTD SVG 1.1//EN\"\n",
       " \"http://www.w3.org/Graphics/SVG/1.1/DTD/svg11.dtd\">\n",
       "<!-- Generated by graphviz version 4.0.0 (20220529.0937)\n",
       " -->\n",
       "<!-- Title: Tree Pages: 1 -->\n",
       "<svg width=\"373pt\" height=\"314pt\"\n",
       " viewBox=\"0.00 0.00 373.00 314.00\" xmlns=\"http://www.w3.org/2000/svg\" xmlns:xlink=\"http://www.w3.org/1999/xlink\">\n",
       "<g id=\"graph0\" class=\"graph\" transform=\"scale(1 1) rotate(0) translate(4 310)\">\n",
       "<title>Tree</title>\n",
       "<polygon fill=\"white\" stroke=\"transparent\" points=\"-4,4 -4,-310 369,-310 369,4 -4,4\"/>\n",
       "<!-- 0 -->\n",
       "<g id=\"node1\" class=\"node\">\n",
       "<title>0</title>\n",
       "<path fill=\"#f5cdb0\" stroke=\"black\" d=\"M277,-306C277,-306 164,-306 164,-306 158,-306 152,-300 152,-294 152,-294 152,-235 152,-235 152,-229 158,-223 164,-223 164,-223 277,-223 277,-223 283,-223 289,-229 289,-235 289,-235 289,-294 289,-294 289,-300 283,-306 277,-306\"/>\n",
       "<text text-anchor=\"start\" x=\"168.5\" y=\"-290.8\" font-family=\"Helvetica,sans-Serif\" font-size=\"14.00\">Proteccion ≤ 0.5</text>\n",
       "<text text-anchor=\"start\" x=\"170.5\" y=\"-275.8\" font-family=\"Helvetica,sans-Serif\" font-size=\"14.00\">entropy = 0.954</text>\n",
       "<text text-anchor=\"start\" x=\"181\" y=\"-260.8\" font-family=\"Helvetica,sans-Serif\" font-size=\"14.00\">samples = 8</text>\n",
       "<text text-anchor=\"start\" x=\"180\" y=\"-245.8\" font-family=\"Helvetica,sans-Serif\" font-size=\"14.00\">value = [5, 3]</text>\n",
       "<text text-anchor=\"start\" x=\"160\" y=\"-230.8\" font-family=\"Helvetica,sans-Serif\" font-size=\"14.00\">class = NO Quema</text>\n",
       "</g>\n",
       "<!-- 1 -->\n",
       "<g id=\"node2\" class=\"node\">\n",
       "<title>1</title>\n",
       "<path fill=\"#bddef6\" stroke=\"black\" d=\"M198,-187C198,-187 91,-187 91,-187 85,-187 79,-181 79,-175 79,-175 79,-116 79,-116 79,-110 85,-104 91,-104 91,-104 198,-104 198,-104 204,-104 210,-110 210,-116 210,-116 210,-175 210,-175 210,-181 204,-187 198,-187\"/>\n",
       "<text text-anchor=\"start\" x=\"112\" y=\"-171.8\" font-family=\"Helvetica,sans-Serif\" font-size=\"14.00\">Pelo ≤ 0.5</text>\n",
       "<text text-anchor=\"start\" x=\"94.5\" y=\"-156.8\" font-family=\"Helvetica,sans-Serif\" font-size=\"14.00\">entropy = 0.971</text>\n",
       "<text text-anchor=\"start\" x=\"105\" y=\"-141.8\" font-family=\"Helvetica,sans-Serif\" font-size=\"14.00\">samples = 5</text>\n",
       "<text text-anchor=\"start\" x=\"104\" y=\"-126.8\" font-family=\"Helvetica,sans-Serif\" font-size=\"14.00\">value = [2, 3]</text>\n",
       "<text text-anchor=\"start\" x=\"87\" y=\"-111.8\" font-family=\"Helvetica,sans-Serif\" font-size=\"14.00\">class = Se quema</text>\n",
       "</g>\n",
       "<!-- 0&#45;&gt;1 -->\n",
       "<g id=\"edge1\" class=\"edge\">\n",
       "<title>0&#45;&gt;1</title>\n",
       "<path fill=\"none\" stroke=\"black\" d=\"M194.13,-222.91C188.41,-214.1 182.31,-204.7 176.4,-195.61\"/>\n",
       "<polygon fill=\"black\" stroke=\"black\" points=\"179.2,-193.5 170.82,-187.02 173.33,-197.31 179.2,-193.5\"/>\n",
       "<text text-anchor=\"middle\" x=\"165.63\" y=\"-207.78\" font-family=\"Helvetica,sans-Serif\" font-size=\"14.00\">True</text>\n",
       "</g>\n",
       "<!-- 4 -->\n",
       "<g id=\"node5\" class=\"node\">\n",
       "<title>4</title>\n",
       "<path fill=\"#e58139\" stroke=\"black\" d=\"M353,-179.5C353,-179.5 240,-179.5 240,-179.5 234,-179.5 228,-173.5 228,-167.5 228,-167.5 228,-123.5 228,-123.5 228,-117.5 234,-111.5 240,-111.5 240,-111.5 353,-111.5 353,-111.5 359,-111.5 365,-117.5 365,-123.5 365,-123.5 365,-167.5 365,-167.5 365,-173.5 359,-179.5 353,-179.5\"/>\n",
       "<text text-anchor=\"start\" x=\"254.5\" y=\"-164.3\" font-family=\"Helvetica,sans-Serif\" font-size=\"14.00\">entropy = 0.0</text>\n",
       "<text text-anchor=\"start\" x=\"257\" y=\"-149.3\" font-family=\"Helvetica,sans-Serif\" font-size=\"14.00\">samples = 3</text>\n",
       "<text text-anchor=\"start\" x=\"256\" y=\"-134.3\" font-family=\"Helvetica,sans-Serif\" font-size=\"14.00\">value = [3, 0]</text>\n",
       "<text text-anchor=\"start\" x=\"236\" y=\"-119.3\" font-family=\"Helvetica,sans-Serif\" font-size=\"14.00\">class = NO Quema</text>\n",
       "</g>\n",
       "<!-- 0&#45;&gt;4 -->\n",
       "<g id=\"edge4\" class=\"edge\">\n",
       "<title>0&#45;&gt;4</title>\n",
       "<path fill=\"none\" stroke=\"black\" d=\"M246.87,-222.91C254.18,-211.65 262.13,-199.42 269.47,-188.11\"/>\n",
       "<polygon fill=\"black\" stroke=\"black\" points=\"272.44,-189.96 274.96,-179.67 266.57,-186.15 272.44,-189.96\"/>\n",
       "<text text-anchor=\"middle\" x=\"280.15\" y=\"-200.42\" font-family=\"Helvetica,sans-Serif\" font-size=\"14.00\">False</text>\n",
       "</g>\n",
       "<!-- 2 -->\n",
       "<g id=\"node3\" class=\"node\">\n",
       "<title>2</title>\n",
       "<path fill=\"#e58139\" stroke=\"black\" d=\"M125,-68C125,-68 12,-68 12,-68 6,-68 0,-62 0,-56 0,-56 0,-12 0,-12 0,-6 6,0 12,0 12,0 125,0 125,0 131,0 137,-6 137,-12 137,-12 137,-56 137,-56 137,-62 131,-68 125,-68\"/>\n",
       "<text text-anchor=\"start\" x=\"26.5\" y=\"-52.8\" font-family=\"Helvetica,sans-Serif\" font-size=\"14.00\">entropy = 0.0</text>\n",
       "<text text-anchor=\"start\" x=\"29\" y=\"-37.8\" font-family=\"Helvetica,sans-Serif\" font-size=\"14.00\">samples = 2</text>\n",
       "<text text-anchor=\"start\" x=\"28\" y=\"-22.8\" font-family=\"Helvetica,sans-Serif\" font-size=\"14.00\">value = [2, 0]</text>\n",
       "<text text-anchor=\"start\" x=\"8\" y=\"-7.8\" font-family=\"Helvetica,sans-Serif\" font-size=\"14.00\">class = NO Quema</text>\n",
       "</g>\n",
       "<!-- 1&#45;&gt;2 -->\n",
       "<g id=\"edge2\" class=\"edge\">\n",
       "<title>1&#45;&gt;2</title>\n",
       "<path fill=\"none\" stroke=\"black\" d=\"M116.2,-103.73C110.06,-94.88 103.56,-85.51 97.39,-76.63\"/>\n",
       "<polygon fill=\"black\" stroke=\"black\" points=\"100.19,-74.52 91.61,-68.3 94.44,-78.51 100.19,-74.52\"/>\n",
       "</g>\n",
       "<!-- 3 -->\n",
       "<g id=\"node4\" class=\"node\">\n",
       "<title>3</title>\n",
       "<path fill=\"#399de5\" stroke=\"black\" d=\"M274,-68C274,-68 167,-68 167,-68 161,-68 155,-62 155,-56 155,-56 155,-12 155,-12 155,-6 161,0 167,0 167,0 274,0 274,0 280,0 286,-6 286,-12 286,-12 286,-56 286,-56 286,-62 280,-68 274,-68\"/>\n",
       "<text text-anchor=\"start\" x=\"178.5\" y=\"-52.8\" font-family=\"Helvetica,sans-Serif\" font-size=\"14.00\">entropy = 0.0</text>\n",
       "<text text-anchor=\"start\" x=\"181\" y=\"-37.8\" font-family=\"Helvetica,sans-Serif\" font-size=\"14.00\">samples = 3</text>\n",
       "<text text-anchor=\"start\" x=\"180\" y=\"-22.8\" font-family=\"Helvetica,sans-Serif\" font-size=\"14.00\">value = [0, 3]</text>\n",
       "<text text-anchor=\"start\" x=\"163\" y=\"-7.8\" font-family=\"Helvetica,sans-Serif\" font-size=\"14.00\">class = Se quema</text>\n",
       "</g>\n",
       "<!-- 1&#45;&gt;3 -->\n",
       "<g id=\"edge3\" class=\"edge\">\n",
       "<title>1&#45;&gt;3</title>\n",
       "<path fill=\"none\" stroke=\"black\" d=\"M172.8,-103.73C178.94,-94.88 185.44,-85.51 191.61,-76.63\"/>\n",
       "<polygon fill=\"black\" stroke=\"black\" points=\"194.56,-78.51 197.39,-68.3 188.81,-74.52 194.56,-78.51\"/>\n",
       "</g>\n",
       "</g>\n",
       "</svg>\n"
      ],
      "text/plain": [
       "<graphviz.sources.Source at 0x2521395a320>"
      ]
     },
     "execution_count": 6,
     "metadata": {},
     "output_type": "execute_result"
    }
   ],
   "source": [
    "#utilizando la librería sklearn\n",
    "\n",
    "from sklearn import tree\n",
    "from sklearn import preprocessing\n",
    "\n",
    "data = pd.DataFrame()\n",
    "le = preprocessing.LabelEncoder()\n",
    "var = [\"Pelo\",\"Altura\",\"Peso\",\"Proteccion\",\"Quemadura\"]\n",
    "\n",
    "for v in var:\n",
    "    le.fit(quemadura_data[v])\n",
    "    data[v] = le.transform(quemadura_data[v])\n",
    "clf = tree.DecisionTreeClassifier(criterion='entropy',max_depth=4)\n",
    "t_data = data[data.columns[0:4]]\n",
    "t_target = data[data.columns[4]]\n",
    "clf = clf.fit(t_data, t_target)\n",
    "t_data, t_target,clf\n",
    "dot_data = tree.export_graphviz(clf, out_file=None,\n",
    "                         feature_names=list(t_data.columns.values),\n",
    "                         class_names=[\"NO Quema\", \"Se quema\"],\n",
    "                         filled=True, rounded=True,\n",
    "                         special_characters=True)\n",
    "graph = graphviz.Source(dot_data)\n",
    "graph"
   ]
  }
 ],
 "metadata": {
  "kernelspec": {
   "display_name": "Python 3 (ipykernel)",
   "language": "python",
   "name": "python3"
  },
  "language_info": {
   "codemirror_mode": {
    "name": "ipython",
    "version": 3
   },
   "file_extension": ".py",
   "mimetype": "text/x-python",
   "name": "python",
   "nbconvert_exporter": "python",
   "pygments_lexer": "ipython3",
   "version": "3.10.4"
  }
 },
 "nbformat": 4,
 "nbformat_minor": 4
}
