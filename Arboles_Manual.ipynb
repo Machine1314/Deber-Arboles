{
 "cells": [
  {
   "cell_type": "markdown",
   "metadata": {
    "pycharm": {
     "name": "#%% md\n"
    }
   },
   "source": [
    "# Grupo 3\n",
    "### Bruno Dueñas, Fernando Mejía, Mateo Córdova\n",
    "\n",
    "## Imports y labels globales"
   ]
  },
  {
   "cell_type": "code",
   "execution_count": 1,
   "metadata": {
    "pycharm": {
     "name": "#%%\n"
    }
   },
   "outputs": [],
   "source": [
    "import numpy as np\n",
    "import graphviz\n",
    "from graphviz import Digraph\n",
    "import pandas as pd\n",
    "labels = ['Proteccion', 'Pelo', 'Altura', 'Peso', 'Quemadura']\n",
    "clase = ['Quema', 'No quema']"
   ]
  },
  {
   "cell_type": "markdown",
   "metadata": {
    "pycharm": {
     "name": "#%% md\n"
    }
   },
   "source": [
    "## Data"
   ]
  },
  {
   "cell_type": "code",
   "execution_count": 2,
   "metadata": {
    "pycharm": {
     "name": "#%%\n"
    }
   },
   "outputs": [
    {
     "data": {
      "text/html": [
       "<div>\n",
       "<style scoped>\n",
       "    .dataframe tbody tr th:only-of-type {\n",
       "        vertical-align: middle;\n",
       "    }\n",
       "\n",
       "    .dataframe tbody tr th {\n",
       "        vertical-align: top;\n",
       "    }\n",
       "\n",
       "    .dataframe thead th {\n",
       "        text-align: right;\n",
       "    }\n",
       "</style>\n",
       "<table border=\"1\" class=\"dataframe\">\n",
       "  <thead>\n",
       "    <tr style=\"text-align: right;\">\n",
       "      <th></th>\n",
       "      <th>Pelo</th>\n",
       "      <th>Altura</th>\n",
       "      <th>Peso</th>\n",
       "      <th>Proteccion</th>\n",
       "      <th>Quemadura</th>\n",
       "    </tr>\n",
       "    <tr>\n",
       "      <th>Ejemplo</th>\n",
       "      <th></th>\n",
       "      <th></th>\n",
       "      <th></th>\n",
       "      <th></th>\n",
       "      <th></th>\n",
       "    </tr>\n",
       "  </thead>\n",
       "  <tbody>\n",
       "    <tr>\n",
       "      <th>1</th>\n",
       "      <td>rubio</td>\n",
       "      <td>medio</td>\n",
       "      <td>bajo</td>\n",
       "      <td>no</td>\n",
       "      <td>si</td>\n",
       "    </tr>\n",
       "    <tr>\n",
       "      <th>2</th>\n",
       "      <td>rubio</td>\n",
       "      <td>alto</td>\n",
       "      <td>medio</td>\n",
       "      <td>si</td>\n",
       "      <td>no</td>\n",
       "    </tr>\n",
       "    <tr>\n",
       "      <th>3</th>\n",
       "      <td>moreno</td>\n",
       "      <td>bajo</td>\n",
       "      <td>medio</td>\n",
       "      <td>si</td>\n",
       "      <td>no</td>\n",
       "    </tr>\n",
       "    <tr>\n",
       "      <th>4</th>\n",
       "      <td>rubio</td>\n",
       "      <td>bajo</td>\n",
       "      <td>medio</td>\n",
       "      <td>no</td>\n",
       "      <td>si</td>\n",
       "    </tr>\n",
       "    <tr>\n",
       "      <th>5</th>\n",
       "      <td>rojo</td>\n",
       "      <td>medio</td>\n",
       "      <td>alto</td>\n",
       "      <td>no</td>\n",
       "      <td>si</td>\n",
       "    </tr>\n",
       "  </tbody>\n",
       "</table>\n",
       "</div>"
      ],
      "text/plain": [
       "           Pelo Altura   Peso Proteccion Quemadura\n",
       "Ejemplo                                           \n",
       "1         rubio  medio   bajo         no        si\n",
       "2         rubio   alto  medio         si        no\n",
       "3        moreno   bajo  medio         si        no\n",
       "4         rubio   bajo  medio         no        si\n",
       "5          rojo  medio   alto         no        si"
      ]
     },
     "execution_count": 2,
     "metadata": {},
     "output_type": "execute_result"
    }
   ],
   "source": [
    "quemadura_data = pd.read_csv(\"arbQuemadura.csv\", index_col=0)\n",
    "quemadura_data.head()"
   ]
  },
  {
   "cell_type": "markdown",
   "metadata": {
    "pycharm": {
     "name": "#%% md\n"
    }
   },
   "source": [
    "## Data tratada"
   ]
  },
  {
   "cell_type": "code",
   "execution_count": 3,
   "metadata": {
    "pycharm": {
     "name": "#%%\n"
    }
   },
   "outputs": [
    {
     "data": {
      "text/html": [
       "<div>\n",
       "<style scoped>\n",
       "    .dataframe tbody tr th:only-of-type {\n",
       "        vertical-align: middle;\n",
       "    }\n",
       "\n",
       "    .dataframe tbody tr th {\n",
       "        vertical-align: top;\n",
       "    }\n",
       "\n",
       "    .dataframe thead th {\n",
       "        text-align: right;\n",
       "    }\n",
       "</style>\n",
       "<table border=\"1\" class=\"dataframe\">\n",
       "  <thead>\n",
       "    <tr style=\"text-align: right;\">\n",
       "      <th></th>\n",
       "      <th>Pelo</th>\n",
       "      <th>Altura</th>\n",
       "      <th>Peso</th>\n",
       "      <th>Proteccion</th>\n",
       "      <th>Quemadura</th>\n",
       "    </tr>\n",
       "    <tr>\n",
       "      <th>Ejemplo</th>\n",
       "      <th></th>\n",
       "      <th></th>\n",
       "      <th></th>\n",
       "      <th></th>\n",
       "      <th></th>\n",
       "    </tr>\n",
       "  </thead>\n",
       "  <tbody>\n",
       "    <tr>\n",
       "      <th>1</th>\n",
       "      <td>2</td>\n",
       "      <td>1</td>\n",
       "      <td>0</td>\n",
       "      <td>0</td>\n",
       "      <td>1</td>\n",
       "    </tr>\n",
       "    <tr>\n",
       "      <th>2</th>\n",
       "      <td>2</td>\n",
       "      <td>2</td>\n",
       "      <td>1</td>\n",
       "      <td>1</td>\n",
       "      <td>0</td>\n",
       "    </tr>\n",
       "    <tr>\n",
       "      <th>3</th>\n",
       "      <td>1</td>\n",
       "      <td>0</td>\n",
       "      <td>1</td>\n",
       "      <td>1</td>\n",
       "      <td>0</td>\n",
       "    </tr>\n",
       "    <tr>\n",
       "      <th>4</th>\n",
       "      <td>2</td>\n",
       "      <td>0</td>\n",
       "      <td>1</td>\n",
       "      <td>0</td>\n",
       "      <td>1</td>\n",
       "    </tr>\n",
       "    <tr>\n",
       "      <th>5</th>\n",
       "      <td>0</td>\n",
       "      <td>1</td>\n",
       "      <td>2</td>\n",
       "      <td>0</td>\n",
       "      <td>1</td>\n",
       "    </tr>\n",
       "    <tr>\n",
       "      <th>6</th>\n",
       "      <td>1</td>\n",
       "      <td>2</td>\n",
       "      <td>2</td>\n",
       "      <td>0</td>\n",
       "      <td>0</td>\n",
       "    </tr>\n",
       "    <tr>\n",
       "      <th>7</th>\n",
       "      <td>1</td>\n",
       "      <td>1</td>\n",
       "      <td>2</td>\n",
       "      <td>0</td>\n",
       "      <td>0</td>\n",
       "    </tr>\n",
       "    <tr>\n",
       "      <th>8</th>\n",
       "      <td>2</td>\n",
       "      <td>0</td>\n",
       "      <td>0</td>\n",
       "      <td>1</td>\n",
       "      <td>0</td>\n",
       "    </tr>\n",
       "  </tbody>\n",
       "</table>\n",
       "</div>"
      ],
      "text/plain": [
       "         Pelo  Altura  Peso  Proteccion  Quemadura\n",
       "Ejemplo                                           \n",
       "1           2       1     0           0          1\n",
       "2           2       2     1           1          0\n",
       "3           1       0     1           1          0\n",
       "4           2       0     1           0          1\n",
       "5           0       1     2           0          1\n",
       "6           1       2     2           0          0\n",
       "7           1       1     2           0          0\n",
       "8           2       0     0           1          0"
      ]
     },
     "execution_count": 3,
     "metadata": {},
     "output_type": "execute_result"
    }
   ],
   "source": [
    "d = {'rubio': 2, 'moreno': 1, 'rojo': 0}\n",
    "quemadura_data['Pelo'] = quemadura_data['Pelo'].map(d)\n",
    "d = {'alto': 2, 'medio': 1, 'bajo': 0}\n",
    "quemadura_data['Peso'] = quemadura_data['Peso'].map(d)\n",
    "d = {'alto': 2, 'medio': 1, 'bajo': 0}\n",
    "quemadura_data['Altura'] = quemadura_data['Altura'].map(d)\n",
    "d = {'si': 1, 'no': 0}\n",
    "quemadura_data['Proteccion'] = quemadura_data['Proteccion'].map(d)\n",
    "quemadura_data['Quemadura'] = quemadura_data['Quemadura'].map(d)\n",
    "quemadura_data"
   ]
  },
  {
   "cell_type": "code",
   "execution_count": 4,
   "metadata": {},
   "outputs": [],
   "source": [
    "answers = quemadura_data['Quemadura']"
   ]
  },
  {
   "cell_type": "markdown",
   "metadata": {
    "pycharm": {
     "name": "#%% md\n"
    }
   },
   "source": [
    "### calcular la entropia"
   ]
  },
  {
   "cell_type": "code",
   "execution_count": 5,
   "metadata": {
    "pycharm": {
     "name": "#%%\n"
    }
   },
   "outputs": [],
   "source": [
    "def calcular_entropia(p):\n",
    "    return -np.sum(p*np.log2(p))"
   ]
  },
  {
   "cell_type": "markdown",
   "metadata": {
    "pycharm": {
     "name": "#%% md\n"
    }
   },
   "source": [
    "### calcular la ganancia"
   ]
  },
  {
   "cell_type": "code",
   "execution_count": 31,
   "metadata": {
    "pycharm": {
     "name": "#%%\n"
    }
   },
   "outputs": [],
   "source": [
    "#calcular la ganancia\n",
    "def calcular_ganancia(valores, var='Pelo'):\n",
    "    valores, cuantos = np.unique(quemadura_data[var],return_counts=True)\n",
    "    #genero una lista para calcular la ganancia\n",
    "    info_A = []\n",
    "    respuestas = [0, 0]\n",
    "    indexes1 = []\n",
    "    indexes0 = []\n",
    "    for e in valores:\n",
    "        se = np.where(quemadura_data[var]==e)\n",
    "        #print(\"tiene se\",se)\n",
    "        #particiona por valor\n",
    "        #indexes.append(quemadura_data.index[se[0]])\n",
    "        se_quemadura = quemadura_data['Quemadura'][quemadura_data.index[se[0]]]\n",
    "        \n",
    "        #print(\"se_quemadura\",se_quemadura)\n",
    "        #valores por subgrupo\n",
    "        v_se_quemadura, c_se_quemadura = np.unique(se_quemadura,return_counts=True)\n",
    "        #print(\"subgrupos para {}: {} {}\".format(e,v_se_quemadura,c_se_quemadura))\n",
    "        #entropia del valor\n",
    "        se_entropia = abs(calcular_entropia(c_se_quemadura/sum(c_se_quemadura)))\n",
    "        #print(\"Entropia: \",se_entropia)\n",
    "        #probabilidad del valor\n",
    "        se_size = sum(c_se_quemadura)/len(quemadura_data.index)\n",
    "        #print(\"probabilidad valor\",se_size)\n",
    "        #almacenar valores\n",
    "        info_A += [[se_entropia, se_size]]\n",
    "        #print(\"info_A\",info_A)\n",
    "    #convertir lista en arreglo\n",
    "    info_A = np.array(info_A)\n",
    "    #calcular la entropia de la variable\n",
    "    info_g = np.sum(info_A[:,0]*info_A[:,1])\n",
    "    #print(\"info_g\",info_g)\n",
    "    #print('respuestas>>>>', respuestas)\n",
    "    return info_g"
   ]
  },
  {
   "cell_type": "markdown",
   "metadata": {},
   "source": [
    "## get key"
   ]
  },
  {
   "cell_type": "code",
   "execution_count": 7,
   "metadata": {},
   "outputs": [],
   "source": [
    "def get_key(val, dictionary):\n",
    "    for key, value in dictionary.items():\n",
    "        if val == value:\n",
    "            return key"
   ]
  },
  {
   "cell_type": "code",
   "execution_count": 65,
   "metadata": {},
   "outputs": [],
   "source": [
    "def val_append(dict_obj, key, value):\n",
    " if key in dict_obj:\n",
    "  if not isinstance(dict_obj[key], list):\n",
    "   dict_obj[key] = [dict_obj[key]]\n",
    "   dict_obj[key].append(value)"
   ]
  },
  {
   "cell_type": "code",
   "execution_count": 8,
   "metadata": {},
   "outputs": [],
   "source": [
    "def splitNode(etiqueta, media):\n",
    "    dictNode = {}\n",
    "    cumple = []\n",
    "    nocumple = []\n",
    "    nocumple.append(np.where(quemadura_data[etiqueta] > media)[0])\n",
    "    cumple.append(np.where(quemadura_data[etiqueta] <= media)[0])\n",
    "    dictNode['cumple'] = cumple\n",
    "    dictNode['nocumple'] = nocumple\n",
    "    return dictNode"
   ]
  },
  {
   "cell_type": "markdown",
   "metadata": {
    "pycharm": {
     "name": "#%% md\n"
    }
   },
   "source": [
    "## Calcular la entropia del arbol"
   ]
  },
  {
   "cell_type": "code",
   "execution_count": 9,
   "metadata": {
    "pycharm": {
     "name": "#%%\n"
    }
   },
   "outputs": [
    {
     "name": "stdout",
     "output_type": "stream",
     "text": [
      "Entropia del arbol 0.954434002924965\n"
     ]
    },
    {
     "data": {
      "text/plain": [
       "(array([0, 1], dtype=int64), array([5, 3], dtype=int64))"
      ]
     },
     "execution_count": 9,
     "metadata": {},
     "output_type": "execute_result"
    }
   ],
   "source": [
    "valores, cuantos = np.unique(quemadura_data['Quemadura'], return_counts=True)\n",
    "entropia = calcular_entropia(cuantos/sum(cuantos))\n",
    "print(\"Entropia del arbol\",entropia)\n",
    "valores,cuantos"
   ]
  },
  {
   "cell_type": "markdown",
   "metadata": {
    "pycharm": {
     "name": "#%% md\n"
    }
   },
   "source": [
    "## Gráfico manual del árbol"
   ]
  },
  {
   "cell_type": "code",
   "execution_count": 89,
   "metadata": {
    "pycharm": {
     "name": "#%%\n"
    },
    "scrolled": false
   },
   "outputs": [
    {
     "name": "stdout",
     "output_type": "stream",
     "text": [
      "***********Proteccion************\n",
      "Valores: [0 1] Cuantos: [5 3]\n",
      "media 0.5\n",
      "[0 3 4 5 6] cumple entropia 0.97\n",
      "[1 2 7] nocumple entropia 0.0\n",
      "ValoresNO: [0] CuantosNO: [3]\n",
      "conectando n0 con n4\n",
      "***********Pelo************\n",
      "Valores: [0] Cuantos: [3]\n",
      "media 0.0\n",
      "[4] cumple entropia 0.0\n",
      "[0 1 2 3 5 6 7] nocumple entropia 0.86\n",
      "ValoresNO: [0 1] CuantosNO: [5 2]\n",
      "conectando n4 con n8\n",
      "***********Altura************\n",
      "Valores: [0 1] Cuantos: [5 2]\n",
      "media 0.5\n",
      "[2 3 7] cumple entropia 0.92\n",
      "[0 1 4 5 6] nocumple entropia 0.97\n",
      "ValoresNO: [0 1] CuantosNO: [3 2]\n",
      "conectando n8 con n12\n",
      "***********Peso************\n",
      "Valores: [0 1] Cuantos: [3 2]\n",
      "media 0.5\n",
      "[0 7] cumple entropia 1.0\n",
      "[1 2 3 4 5 6] nocumple entropia 0.92\n",
      "ValoresNO: [0 1] CuantosNO: [4 2]\n",
      "conectando n12 con n16\n",
      "{'0': ['1', '4'], '4': ['5', '8'], '8': ['9', '12'], '12': ['13', '16']}\n"
     ]
    },
    {
     "data": {
      "image/svg+xml": [
       "<?xml version=\"1.0\" encoding=\"UTF-8\" standalone=\"no\"?>\n",
       "<!DOCTYPE svg PUBLIC \"-//W3C//DTD SVG 1.1//EN\"\n",
       " \"http://www.w3.org/Graphics/SVG/1.1/DTD/svg11.dtd\">\n",
       "<!-- Generated by graphviz version 4.0.0 (20220529.0937)\n",
       " -->\n",
       "<!-- Title: grafo Pages: 1 -->\n",
       "<svg width=\"573pt\" height=\"718pt\"\n",
       " viewBox=\"0.00 0.00 573.25 717.69\" xmlns=\"http://www.w3.org/2000/svg\" xmlns:xlink=\"http://www.w3.org/1999/xlink\">\n",
       "<g id=\"graph0\" class=\"graph\" transform=\"scale(1 1) rotate(0) translate(4 713.69)\">\n",
       "<title>grafo</title>\n",
       "<polygon fill=\"white\" stroke=\"transparent\" points=\"-4,4 -4,-713.69 569.25,-713.69 569.25,4 -4,4\"/>\n",
       "<!-- 0 -->\n",
       "<g id=\"node1\" class=\"node\">\n",
       "<title>0</title>\n",
       "<ellipse fill=\"none\" stroke=\"black\" cx=\"159.12\" cy=\"-651\" rx=\"84.29\" ry=\"58.88\"/>\n",
       "<text text-anchor=\"middle\" x=\"159.12\" y=\"-677.3\" font-family=\"Times New Roman,serif\" font-size=\"14.00\">Proteccion &lt;= 0.5</text>\n",
       "<text text-anchor=\"middle\" x=\"159.12\" y=\"-662.3\" font-family=\"Times New Roman,serif\" font-size=\"14.00\"> Clase: Quema </text>\n",
       "<text text-anchor=\"middle\" x=\"159.12\" y=\"-647.3\" font-family=\"Times New Roman,serif\" font-size=\"14.00\"> Entropia: 0.92 </text>\n",
       "<text text-anchor=\"middle\" x=\"159.12\" y=\"-632.3\" font-family=\"Times New Roman,serif\" font-size=\"14.00\"> Valores: [5 3] </text>\n",
       "<text text-anchor=\"middle\" x=\"159.12\" y=\"-617.3\" font-family=\"Times New Roman,serif\" font-size=\"14.00\"> Muestras: 8</text>\n",
       "</g>\n",
       "<!-- 1 -->\n",
       "<g id=\"node2\" class=\"node\">\n",
       "<title>1</title>\n",
       "<ellipse fill=\"none\" stroke=\"black\" cx=\"72.12\" cy=\"-497.62\" rx=\"72.25\" ry=\"48.17\"/>\n",
       "<text text-anchor=\"middle\" x=\"72.12\" y=\"-516.42\" font-family=\"Times New Roman,serif\" font-size=\"14.00\">Clase: Quema </text>\n",
       "<text text-anchor=\"middle\" x=\"72.12\" y=\"-501.42\" font-family=\"Times New Roman,serif\" font-size=\"14.00\"> Entropia: 0.97 </text>\n",
       "<text text-anchor=\"middle\" x=\"72.12\" y=\"-486.42\" font-family=\"Times New Roman,serif\" font-size=\"14.00\"> Valores: [2 3] </text>\n",
       "<text text-anchor=\"middle\" x=\"72.12\" y=\"-471.42\" font-family=\"Times New Roman,serif\" font-size=\"14.00\"> Muestras: 5</text>\n",
       "</g>\n",
       "<!-- 0&#45;&gt;1 -->\n",
       "<g id=\"edge1\" class=\"edge\">\n",
       "<title>0&#45;&gt;1</title>\n",
       "<path fill=\"none\" stroke=\"black\" d=\"M128.21,-596.2C119.88,-581.7 110.87,-566.03 102.56,-551.58\"/>\n",
       "<polygon fill=\"black\" stroke=\"black\" points=\"105.51,-549.69 97.5,-542.76 99.44,-553.17 105.51,-549.69\"/>\n",
       "</g>\n",
       "<!-- 4 -->\n",
       "<g id=\"node3\" class=\"node\">\n",
       "<title>4</title>\n",
       "<ellipse fill=\"none\" stroke=\"black\" cx=\"246.12\" cy=\"-497.62\" rx=\"84.29\" ry=\"58.88\"/>\n",
       "<text text-anchor=\"middle\" x=\"246.12\" y=\"-523.92\" font-family=\"Times New Roman,serif\" font-size=\"14.00\">Pelo &lt;= 0.0</text>\n",
       "<text text-anchor=\"middle\" x=\"246.12\" y=\"-508.92\" font-family=\"Times New Roman,serif\" font-size=\"14.00\"> Clase: No quema </text>\n",
       "<text text-anchor=\"middle\" x=\"246.12\" y=\"-493.92\" font-family=\"Times New Roman,serif\" font-size=\"14.00\"> Entropia: 0.0 </text>\n",
       "<text text-anchor=\"middle\" x=\"246.12\" y=\"-478.92\" font-family=\"Times New Roman,serif\" font-size=\"14.00\"> Valores: [3] </text>\n",
       "<text text-anchor=\"middle\" x=\"246.12\" y=\"-463.92\" font-family=\"Times New Roman,serif\" font-size=\"14.00\"> Muestras: 3</text>\n",
       "</g>\n",
       "<!-- 0&#45;&gt;4 -->\n",
       "<g id=\"edge2\" class=\"edge\">\n",
       "<title>0&#45;&gt;4</title>\n",
       "<path fill=\"none\" stroke=\"black\" d=\"M190.04,-596.2C196.58,-584.82 203.53,-572.72 210.24,-561.06\"/>\n",
       "<polygon fill=\"black\" stroke=\"black\" points=\"213.36,-562.65 215.31,-552.24 207.29,-559.17 213.36,-562.65\"/>\n",
       "</g>\n",
       "<!-- 5 -->\n",
       "<g id=\"node4\" class=\"node\">\n",
       "<title>5</title>\n",
       "<ellipse fill=\"none\" stroke=\"black\" cx=\"160.12\" cy=\"-344.24\" rx=\"82.05\" ry=\"48.17\"/>\n",
       "<text text-anchor=\"middle\" x=\"160.12\" y=\"-363.04\" font-family=\"Times New Roman,serif\" font-size=\"14.00\">Clase: No quema </text>\n",
       "<text text-anchor=\"middle\" x=\"160.12\" y=\"-348.04\" font-family=\"Times New Roman,serif\" font-size=\"14.00\"> Entropia: 0.0 </text>\n",
       "<text text-anchor=\"middle\" x=\"160.12\" y=\"-333.04\" font-family=\"Times New Roman,serif\" font-size=\"14.00\"> Valores: [1] </text>\n",
       "<text text-anchor=\"middle\" x=\"160.12\" y=\"-318.04\" font-family=\"Times New Roman,serif\" font-size=\"14.00\"> Muestras: 1</text>\n",
       "</g>\n",
       "<!-- 4&#45;&gt;5 -->\n",
       "<g id=\"edge3\" class=\"edge\">\n",
       "<title>4&#45;&gt;5</title>\n",
       "<path fill=\"none\" stroke=\"black\" d=\"M215.56,-442.82C207.56,-428.74 198.93,-413.55 190.92,-399.45\"/>\n",
       "<polygon fill=\"black\" stroke=\"black\" points=\"193.74,-397.32 185.76,-390.36 187.65,-400.78 193.74,-397.32\"/>\n",
       "</g>\n",
       "<!-- 8 -->\n",
       "<g id=\"node5\" class=\"node\">\n",
       "<title>8</title>\n",
       "<ellipse fill=\"none\" stroke=\"black\" cx=\"332.12\" cy=\"-344.24\" rx=\"72.25\" ry=\"58.88\"/>\n",
       "<text text-anchor=\"middle\" x=\"332.12\" y=\"-370.54\" font-family=\"Times New Roman,serif\" font-size=\"14.00\">Altura &lt;= 0.5</text>\n",
       "<text text-anchor=\"middle\" x=\"332.12\" y=\"-355.54\" font-family=\"Times New Roman,serif\" font-size=\"14.00\"> Clase: Quema </text>\n",
       "<text text-anchor=\"middle\" x=\"332.12\" y=\"-340.54\" font-family=\"Times New Roman,serif\" font-size=\"14.00\"> Entropia: 0.86 </text>\n",
       "<text text-anchor=\"middle\" x=\"332.12\" y=\"-325.54\" font-family=\"Times New Roman,serif\" font-size=\"14.00\"> Valores: [5 2] </text>\n",
       "<text text-anchor=\"middle\" x=\"332.12\" y=\"-310.54\" font-family=\"Times New Roman,serif\" font-size=\"14.00\"> Muestras: 7</text>\n",
       "</g>\n",
       "<!-- 4&#45;&gt;8 -->\n",
       "<g id=\"edge4\" class=\"edge\">\n",
       "<title>4&#45;&gt;8</title>\n",
       "<path fill=\"none\" stroke=\"black\" d=\"M276.69,-442.82C283.3,-431.17 290.35,-418.77 297.12,-406.84\"/>\n",
       "<polygon fill=\"black\" stroke=\"black\" points=\"300.34,-408.27 302.24,-397.84 294.26,-404.81 300.34,-408.27\"/>\n",
       "</g>\n",
       "<!-- 9 -->\n",
       "<g id=\"node6\" class=\"node\">\n",
       "<title>9</title>\n",
       "<ellipse fill=\"none\" stroke=\"black\" cx=\"251.12\" cy=\"-190.86\" rx=\"72.25\" ry=\"48.17\"/>\n",
       "<text text-anchor=\"middle\" x=\"251.12\" y=\"-209.66\" font-family=\"Times New Roman,serif\" font-size=\"14.00\">Clase: Quema </text>\n",
       "<text text-anchor=\"middle\" x=\"251.12\" y=\"-194.66\" font-family=\"Times New Roman,serif\" font-size=\"14.00\"> Entropia: 0.92 </text>\n",
       "<text text-anchor=\"middle\" x=\"251.12\" y=\"-179.66\" font-family=\"Times New Roman,serif\" font-size=\"14.00\"> Valores: [2 1] </text>\n",
       "<text text-anchor=\"middle\" x=\"251.12\" y=\"-164.66\" font-family=\"Times New Roman,serif\" font-size=\"14.00\"> Muestras: 3</text>\n",
       "</g>\n",
       "<!-- 8&#45;&gt;9 -->\n",
       "<g id=\"edge5\" class=\"edge\">\n",
       "<title>8&#45;&gt;9</title>\n",
       "<path fill=\"none\" stroke=\"black\" d=\"M303.57,-289.87C295.95,-275.62 287.7,-260.22 280.06,-245.93\"/>\n",
       "<polygon fill=\"black\" stroke=\"black\" points=\"282.94,-243.9 275.14,-236.73 276.77,-247.2 282.94,-243.9\"/>\n",
       "</g>\n",
       "<!-- 12 -->\n",
       "<g id=\"node7\" class=\"node\">\n",
       "<title>12</title>\n",
       "<ellipse fill=\"none\" stroke=\"black\" cx=\"413.12\" cy=\"-190.86\" rx=\"72.25\" ry=\"58.88\"/>\n",
       "<text text-anchor=\"middle\" x=\"413.12\" y=\"-217.16\" font-family=\"Times New Roman,serif\" font-size=\"14.00\">Peso &lt;= 0.5</text>\n",
       "<text text-anchor=\"middle\" x=\"413.12\" y=\"-202.16\" font-family=\"Times New Roman,serif\" font-size=\"14.00\"> Clase: Quema </text>\n",
       "<text text-anchor=\"middle\" x=\"413.12\" y=\"-187.16\" font-family=\"Times New Roman,serif\" font-size=\"14.00\"> Entropia: 0.97 </text>\n",
       "<text text-anchor=\"middle\" x=\"413.12\" y=\"-172.16\" font-family=\"Times New Roman,serif\" font-size=\"14.00\"> Valores: [3 2] </text>\n",
       "<text text-anchor=\"middle\" x=\"413.12\" y=\"-157.16\" font-family=\"Times New Roman,serif\" font-size=\"14.00\"> Muestras: 5</text>\n",
       "</g>\n",
       "<!-- 8&#45;&gt;12 -->\n",
       "<g id=\"edge6\" class=\"edge\">\n",
       "<title>8&#45;&gt;12</title>\n",
       "<path fill=\"none\" stroke=\"black\" d=\"M360.68,-289.87C366.89,-278.27 373.51,-265.9 379.88,-253.99\"/>\n",
       "<polygon fill=\"black\" stroke=\"black\" points=\"383.06,-255.47 384.69,-245 376.88,-252.17 383.06,-255.47\"/>\n",
       "</g>\n",
       "<!-- 13 -->\n",
       "<g id=\"node8\" class=\"node\">\n",
       "<title>13</title>\n",
       "<ellipse fill=\"none\" stroke=\"black\" cx=\"332.12\" cy=\"-48.08\" rx=\"70.92\" ry=\"48.17\"/>\n",
       "<text text-anchor=\"middle\" x=\"332.12\" y=\"-66.88\" font-family=\"Times New Roman,serif\" font-size=\"14.00\">Clase: Quema </text>\n",
       "<text text-anchor=\"middle\" x=\"332.12\" y=\"-51.88\" font-family=\"Times New Roman,serif\" font-size=\"14.00\"> Entropia: 1.0 </text>\n",
       "<text text-anchor=\"middle\" x=\"332.12\" y=\"-36.88\" font-family=\"Times New Roman,serif\" font-size=\"14.00\"> Valores: [1 1] </text>\n",
       "<text text-anchor=\"middle\" x=\"332.12\" y=\"-21.88\" font-family=\"Times New Roman,serif\" font-size=\"14.00\"> Muestras: 2</text>\n",
       "</g>\n",
       "<!-- 12&#45;&gt;13 -->\n",
       "<g id=\"edge7\" class=\"edge\">\n",
       "<title>12&#45;&gt;13</title>\n",
       "<path fill=\"none\" stroke=\"black\" d=\"M382.96,-137.44C376.3,-125.85 369.23,-113.57 362.55,-101.96\"/>\n",
       "<polygon fill=\"black\" stroke=\"black\" points=\"365.56,-100.17 357.54,-93.24 359.49,-103.66 365.56,-100.17\"/>\n",
       "</g>\n",
       "<!-- 16 -->\n",
       "<g id=\"node9\" class=\"node\">\n",
       "<title>16</title>\n",
       "<ellipse fill=\"none\" stroke=\"black\" cx=\"493.12\" cy=\"-48.08\" rx=\"72.25\" ry=\"48.17\"/>\n",
       "<text text-anchor=\"middle\" x=\"493.12\" y=\"-66.88\" font-family=\"Times New Roman,serif\" font-size=\"14.00\">Clase: Quema </text>\n",
       "<text text-anchor=\"middle\" x=\"493.12\" y=\"-51.88\" font-family=\"Times New Roman,serif\" font-size=\"14.00\"> Entropia: 0.92 </text>\n",
       "<text text-anchor=\"middle\" x=\"493.12\" y=\"-36.88\" font-family=\"Times New Roman,serif\" font-size=\"14.00\"> Valores: [4 2] </text>\n",
       "<text text-anchor=\"middle\" x=\"493.12\" y=\"-21.88\" font-family=\"Times New Roman,serif\" font-size=\"14.00\"> Muestras: 6</text>\n",
       "</g>\n",
       "<!-- 12&#45;&gt;16 -->\n",
       "<g id=\"edge8\" class=\"edge\">\n",
       "<title>12&#45;&gt;16</title>\n",
       "<path fill=\"none\" stroke=\"black\" d=\"M443.14,-137.04C449.58,-125.71 456.38,-113.73 462.83,-102.39\"/>\n",
       "<polygon fill=\"black\" stroke=\"black\" points=\"466.01,-103.87 467.91,-93.45 459.93,-100.41 466.01,-103.87\"/>\n",
       "</g>\n",
       "</g>\n",
       "</svg>\n"
      ],
      "text/plain": [
       "<graphviz.graphs.Digraph at 0x24256e25510>"
      ]
     },
     "execution_count": 89,
     "metadata": {},
     "output_type": "execute_result"
    }
   ],
   "source": [
    "g = Digraph('grafo')\n",
    "conecciones = {}\n",
    "cont = 0\n",
    "for lab in labels[0:4]:\n",
    "    print('***********{}************'.format(lab))\n",
    "    info_A = calcular_ganancia(valores, lab)\n",
    "    ganancia = round(entropia - info_A, 2)\n",
    "    if cont == 0:\n",
    "        valores, cuantos = np.unique(quemadura_data['Quemadura'], return_counts=True)\n",
    "    print('Valores: {} Cuantos: {}'.format(valores, cuantos))\n",
    "    mean = sum(valores)/2\n",
    "    print('media', mean)\n",
    "    sn = splitNode(lab, mean)\n",
    "    #print(sn)\n",
    "    act = cont\n",
    "    if entropia == 0:\n",
    "        cla = clase[1]\n",
    "    else:\n",
    "        cla = clase[0]\n",
    "    g.node(\"{}\".format(cont), label='{} <= {}\\\\n Clase: {} \\\\n Entropia: {} \\\\n Valores: {} \\\\n Muestras: {}'.format(\n",
    "            lab, mean, cla, round(entropia, 2), cuantos, sum(cuantos)\n",
    "            ))\n",
    "    for key, value in sn.items():\n",
    "        valores, cuantos = np.unique(quemadura_data['Quemadura'][quemadura_data.index[tuple(value)]], return_counts=True)\n",
    "        entropia = abs(round(calcular_entropia(cuantos/sum(cuantos)), 2))\n",
    "        #print(valoresp, cuantosp)\n",
    "        if entropia == 0:\n",
    "            cla = clase[1]\n",
    "        else:\n",
    "            cla = clase[0]\n",
    "        if entropia != 0:\n",
    "            indicesNoCumple = value\n",
    "        print('{} {} entropia {}'.format(str(value[0]), key, abs(entropia)))\n",
    "        cont+=1\n",
    "        if key == 'cumple':\n",
    "            padre = act\n",
    "            conecciones[str(padre)] = str(cont)\n",
    "            indicesCumple = value\n",
    "            g.node(\"{}\".format(cont), label='Clase: {} \\\\n Entropia: {} \\\\n Valores: {} \\\\n Muestras: {}'.format(\n",
    "            cla, round(entropia, 2), cuantos, sum(cuantos)\n",
    "            ))\n",
    "        cont+=1\n",
    "        if key == 'nocumple':\n",
    "            padre = act\n",
    "            val_append(conecciones, str(padre), str(cont))\n",
    "            print('ValoresNO: {} CuantosNO: {}'.format(valores, cuantos))\n",
    "            g.node(\"{}\".format(cont), label='Clase: {} \\\\n Entropia: {} \\\\n Valores: {} \\\\n Muestras: {}'.format(\n",
    "            cla, round(entropia, 2), cuantos, sum(cuantos)\n",
    "            ))\n",
    "            print('conectando n{} con n{}'.format(act, cont)) \n",
    "print(conecciones)\n",
    "for key, value in conecciones.items():\n",
    "    for val in value:\n",
    "        g.edge(str(key), str(val))\n",
    "g"
   ]
  },
  {
   "cell_type": "code",
   "execution_count": 54,
   "metadata": {},
   "outputs": [
    {
     "data": {
      "text/plain": [
       "(array([0, 1, 2], dtype=int64), array([2, 3, 3], dtype=int64))"
      ]
     },
     "execution_count": 54,
     "metadata": {},
     "output_type": "execute_result"
    }
   ],
   "source": [
    "np.unique(quemadura_data[lab], return_counts=True)"
   ]
  },
  {
   "cell_type": "code",
   "execution_count": 53,
   "metadata": {},
   "outputs": [
    {
     "data": {
      "text/plain": [
       "Ejemplo\n",
       "1    1\n",
       "8    0\n",
       "Name: Quemadura, dtype: int64"
      ]
     },
     "execution_count": 53,
     "metadata": {},
     "output_type": "execute_result"
    }
   ],
   "source": [
    "quemadura_data['Quemadura'][quemadura_data.index[tuple(indicesCumple)]]"
   ]
  },
  {
   "cell_type": "markdown",
   "metadata": {
    "pycharm": {
     "name": "#%% md\n"
    }
   },
   "source": [
    "## Gráfico con sklearn"
   ]
  },
  {
   "cell_type": "code",
   "execution_count": 19,
   "metadata": {
    "pycharm": {
     "name": "#%%\n"
    }
   },
   "outputs": [
    {
     "data": {
      "image/svg+xml": [
       "<?xml version=\"1.0\" encoding=\"UTF-8\" standalone=\"no\"?>\n",
       "<!DOCTYPE svg PUBLIC \"-//W3C//DTD SVG 1.1//EN\"\n",
       " \"http://www.w3.org/Graphics/SVG/1.1/DTD/svg11.dtd\">\n",
       "<!-- Generated by graphviz version 4.0.0 (20220529.0937)\n",
       " -->\n",
       "<!-- Title: Tree Pages: 1 -->\n",
       "<svg width=\"412pt\" height=\"433pt\"\n",
       " viewBox=\"0.00 0.00 411.50 433.00\" xmlns=\"http://www.w3.org/2000/svg\" xmlns:xlink=\"http://www.w3.org/1999/xlink\">\n",
       "<g id=\"graph0\" class=\"graph\" transform=\"scale(1 1) rotate(0) translate(4 429)\">\n",
       "<title>Tree</title>\n",
       "<polygon fill=\"white\" stroke=\"transparent\" points=\"-4,4 -4,-429 407.5,-429 407.5,4 -4,4\"/>\n",
       "<!-- 0 -->\n",
       "<g id=\"node1\" class=\"node\">\n",
       "<title>0</title>\n",
       "<path fill=\"#f5cdb0\" stroke=\"black\" d=\"M320.5,-425C320.5,-425 213.5,-425 213.5,-425 207.5,-425 201.5,-419 201.5,-413 201.5,-413 201.5,-354 201.5,-354 201.5,-348 207.5,-342 213.5,-342 213.5,-342 320.5,-342 320.5,-342 326.5,-342 332.5,-348 332.5,-354 332.5,-354 332.5,-413 332.5,-413 332.5,-419 326.5,-425 320.5,-425\"/>\n",
       "<text text-anchor=\"start\" x=\"215\" y=\"-409.8\" font-family=\"Helvetica,sans-Serif\" font-size=\"14.00\">Proteccion ≤ 0.5</text>\n",
       "<text text-anchor=\"start\" x=\"217\" y=\"-394.8\" font-family=\"Helvetica,sans-Serif\" font-size=\"14.00\">entropy = 0.954</text>\n",
       "<text text-anchor=\"start\" x=\"227.5\" y=\"-379.8\" font-family=\"Helvetica,sans-Serif\" font-size=\"14.00\">samples = 8</text>\n",
       "<text text-anchor=\"start\" x=\"226.5\" y=\"-364.8\" font-family=\"Helvetica,sans-Serif\" font-size=\"14.00\">value = [5, 3]</text>\n",
       "<text text-anchor=\"start\" x=\"209.5\" y=\"-349.8\" font-family=\"Helvetica,sans-Serif\" font-size=\"14.00\">class = No quema</text>\n",
       "</g>\n",
       "<!-- 1 -->\n",
       "<g id=\"node2\" class=\"node\">\n",
       "<title>1</title>\n",
       "<path fill=\"#bddef6\" stroke=\"black\" d=\"M242,-306C242,-306 150,-306 150,-306 144,-306 138,-300 138,-294 138,-294 138,-235 138,-235 138,-229 144,-223 150,-223 150,-223 242,-223 242,-223 248,-223 254,-229 254,-235 254,-235 254,-294 254,-294 254,-300 248,-306 242,-306\"/>\n",
       "<text text-anchor=\"start\" x=\"163.5\" y=\"-290.8\" font-family=\"Helvetica,sans-Serif\" font-size=\"14.00\">Pelo ≤ 1.5</text>\n",
       "<text text-anchor=\"start\" x=\"146\" y=\"-275.8\" font-family=\"Helvetica,sans-Serif\" font-size=\"14.00\">entropy = 0.971</text>\n",
       "<text text-anchor=\"start\" x=\"156.5\" y=\"-260.8\" font-family=\"Helvetica,sans-Serif\" font-size=\"14.00\">samples = 5</text>\n",
       "<text text-anchor=\"start\" x=\"155.5\" y=\"-245.8\" font-family=\"Helvetica,sans-Serif\" font-size=\"14.00\">value = [2, 3]</text>\n",
       "<text text-anchor=\"start\" x=\"148\" y=\"-230.8\" font-family=\"Helvetica,sans-Serif\" font-size=\"14.00\">class = Quema</text>\n",
       "</g>\n",
       "<!-- 0&#45;&gt;1 -->\n",
       "<g id=\"edge1\" class=\"edge\">\n",
       "<title>0&#45;&gt;1</title>\n",
       "<path fill=\"none\" stroke=\"black\" d=\"M242.37,-341.91C237.03,-333.1 231.32,-323.7 225.8,-314.61\"/>\n",
       "<polygon fill=\"black\" stroke=\"black\" points=\"228.77,-312.75 220.59,-306.02 222.79,-316.39 228.77,-312.75\"/>\n",
       "<text text-anchor=\"middle\" x=\"214.65\" y=\"-326.6\" font-family=\"Helvetica,sans-Serif\" font-size=\"14.00\">True</text>\n",
       "</g>\n",
       "<!-- 6 -->\n",
       "<g id=\"node7\" class=\"node\">\n",
       "<title>6</title>\n",
       "<path fill=\"#e58139\" stroke=\"black\" d=\"M391.5,-298.5C391.5,-298.5 284.5,-298.5 284.5,-298.5 278.5,-298.5 272.5,-292.5 272.5,-286.5 272.5,-286.5 272.5,-242.5 272.5,-242.5 272.5,-236.5 278.5,-230.5 284.5,-230.5 284.5,-230.5 391.5,-230.5 391.5,-230.5 397.5,-230.5 403.5,-236.5 403.5,-242.5 403.5,-242.5 403.5,-286.5 403.5,-286.5 403.5,-292.5 397.5,-298.5 391.5,-298.5\"/>\n",
       "<text text-anchor=\"start\" x=\"296\" y=\"-283.3\" font-family=\"Helvetica,sans-Serif\" font-size=\"14.00\">entropy = 0.0</text>\n",
       "<text text-anchor=\"start\" x=\"298.5\" y=\"-268.3\" font-family=\"Helvetica,sans-Serif\" font-size=\"14.00\">samples = 3</text>\n",
       "<text text-anchor=\"start\" x=\"297.5\" y=\"-253.3\" font-family=\"Helvetica,sans-Serif\" font-size=\"14.00\">value = [3, 0]</text>\n",
       "<text text-anchor=\"start\" x=\"280.5\" y=\"-238.3\" font-family=\"Helvetica,sans-Serif\" font-size=\"14.00\">class = No quema</text>\n",
       "</g>\n",
       "<!-- 0&#45;&gt;6 -->\n",
       "<g id=\"edge6\" class=\"edge\">\n",
       "<title>0&#45;&gt;6</title>\n",
       "<path fill=\"none\" stroke=\"black\" d=\"M291.63,-341.91C298.4,-330.76 305.74,-318.66 312.55,-307.44\"/>\n",
       "<polygon fill=\"black\" stroke=\"black\" points=\"315.68,-309.03 317.87,-298.67 309.69,-305.4 315.68,-309.03\"/>\n",
       "<text text-anchor=\"middle\" x=\"323.81\" y=\"-319.25\" font-family=\"Helvetica,sans-Serif\" font-size=\"14.00\">False</text>\n",
       "</g>\n",
       "<!-- 2 -->\n",
       "<g id=\"node3\" class=\"node\">\n",
       "<title>2</title>\n",
       "<path fill=\"#f2c09c\" stroke=\"black\" d=\"M179.5,-187C179.5,-187 72.5,-187 72.5,-187 66.5,-187 60.5,-181 60.5,-175 60.5,-175 60.5,-116 60.5,-116 60.5,-110 66.5,-104 72.5,-104 72.5,-104 179.5,-104 179.5,-104 185.5,-104 191.5,-110 191.5,-116 191.5,-116 191.5,-175 191.5,-175 191.5,-181 185.5,-187 179.5,-187\"/>\n",
       "<text text-anchor=\"start\" x=\"93.5\" y=\"-171.8\" font-family=\"Helvetica,sans-Serif\" font-size=\"14.00\">Pelo ≤ 0.5</text>\n",
       "<text text-anchor=\"start\" x=\"76\" y=\"-156.8\" font-family=\"Helvetica,sans-Serif\" font-size=\"14.00\">entropy = 0.918</text>\n",
       "<text text-anchor=\"start\" x=\"86.5\" y=\"-141.8\" font-family=\"Helvetica,sans-Serif\" font-size=\"14.00\">samples = 3</text>\n",
       "<text text-anchor=\"start\" x=\"85.5\" y=\"-126.8\" font-family=\"Helvetica,sans-Serif\" font-size=\"14.00\">value = [2, 1]</text>\n",
       "<text text-anchor=\"start\" x=\"68.5\" y=\"-111.8\" font-family=\"Helvetica,sans-Serif\" font-size=\"14.00\">class = No quema</text>\n",
       "</g>\n",
       "<!-- 1&#45;&gt;2 -->\n",
       "<g id=\"edge2\" class=\"edge\">\n",
       "<title>1&#45;&gt;2</title>\n",
       "<path fill=\"none\" stroke=\"black\" d=\"M171.71,-222.91C166.45,-214.1 160.82,-204.7 155.38,-195.61\"/>\n",
       "<polygon fill=\"black\" stroke=\"black\" points=\"158.38,-193.81 150.24,-187.02 152.37,-197.4 158.38,-193.81\"/>\n",
       "</g>\n",
       "<!-- 5 -->\n",
       "<g id=\"node6\" class=\"node\">\n",
       "<title>5</title>\n",
       "<path fill=\"#399de5\" stroke=\"black\" d=\"M310,-179.5C310,-179.5 222,-179.5 222,-179.5 216,-179.5 210,-173.5 210,-167.5 210,-167.5 210,-123.5 210,-123.5 210,-117.5 216,-111.5 222,-111.5 222,-111.5 310,-111.5 310,-111.5 316,-111.5 322,-117.5 322,-123.5 322,-123.5 322,-167.5 322,-167.5 322,-173.5 316,-179.5 310,-179.5\"/>\n",
       "<text text-anchor=\"start\" x=\"224\" y=\"-164.3\" font-family=\"Helvetica,sans-Serif\" font-size=\"14.00\">entropy = 0.0</text>\n",
       "<text text-anchor=\"start\" x=\"226.5\" y=\"-149.3\" font-family=\"Helvetica,sans-Serif\" font-size=\"14.00\">samples = 2</text>\n",
       "<text text-anchor=\"start\" x=\"225.5\" y=\"-134.3\" font-family=\"Helvetica,sans-Serif\" font-size=\"14.00\">value = [0, 2]</text>\n",
       "<text text-anchor=\"start\" x=\"218\" y=\"-119.3\" font-family=\"Helvetica,sans-Serif\" font-size=\"14.00\">class = Quema</text>\n",
       "</g>\n",
       "<!-- 1&#45;&gt;5 -->\n",
       "<g id=\"edge5\" class=\"edge\">\n",
       "<title>1&#45;&gt;5</title>\n",
       "<path fill=\"none\" stroke=\"black\" d=\"M220.29,-222.91C226.95,-211.76 234.2,-199.66 240.91,-188.44\"/>\n",
       "<polygon fill=\"black\" stroke=\"black\" points=\"244.03,-190.05 246.16,-179.67 238.02,-186.45 244.03,-190.05\"/>\n",
       "</g>\n",
       "<!-- 3 -->\n",
       "<g id=\"node4\" class=\"node\">\n",
       "<title>3</title>\n",
       "<path fill=\"#399de5\" stroke=\"black\" d=\"M100,-68C100,-68 12,-68 12,-68 6,-68 0,-62 0,-56 0,-56 0,-12 0,-12 0,-6 6,0 12,0 12,0 100,0 100,0 106,0 112,-6 112,-12 112,-12 112,-56 112,-56 112,-62 106,-68 100,-68\"/>\n",
       "<text text-anchor=\"start\" x=\"14\" y=\"-52.8\" font-family=\"Helvetica,sans-Serif\" font-size=\"14.00\">entropy = 0.0</text>\n",
       "<text text-anchor=\"start\" x=\"16.5\" y=\"-37.8\" font-family=\"Helvetica,sans-Serif\" font-size=\"14.00\">samples = 1</text>\n",
       "<text text-anchor=\"start\" x=\"15.5\" y=\"-22.8\" font-family=\"Helvetica,sans-Serif\" font-size=\"14.00\">value = [0, 1]</text>\n",
       "<text text-anchor=\"start\" x=\"8\" y=\"-7.8\" font-family=\"Helvetica,sans-Serif\" font-size=\"14.00\">class = Quema</text>\n",
       "</g>\n",
       "<!-- 2&#45;&gt;3 -->\n",
       "<g id=\"edge3\" class=\"edge\">\n",
       "<title>2&#45;&gt;3</title>\n",
       "<path fill=\"none\" stroke=\"black\" d=\"M99.93,-103.73C94.34,-94.97 88.41,-85.7 82.79,-76.91\"/>\n",
       "<polygon fill=\"black\" stroke=\"black\" points=\"85.62,-74.84 77.29,-68.3 79.72,-78.61 85.62,-74.84\"/>\n",
       "</g>\n",
       "<!-- 4 -->\n",
       "<g id=\"node5\" class=\"node\">\n",
       "<title>4</title>\n",
       "<path fill=\"#e58139\" stroke=\"black\" d=\"M249.5,-68C249.5,-68 142.5,-68 142.5,-68 136.5,-68 130.5,-62 130.5,-56 130.5,-56 130.5,-12 130.5,-12 130.5,-6 136.5,0 142.5,0 142.5,0 249.5,0 249.5,0 255.5,0 261.5,-6 261.5,-12 261.5,-12 261.5,-56 261.5,-56 261.5,-62 255.5,-68 249.5,-68\"/>\n",
       "<text text-anchor=\"start\" x=\"154\" y=\"-52.8\" font-family=\"Helvetica,sans-Serif\" font-size=\"14.00\">entropy = 0.0</text>\n",
       "<text text-anchor=\"start\" x=\"156.5\" y=\"-37.8\" font-family=\"Helvetica,sans-Serif\" font-size=\"14.00\">samples = 2</text>\n",
       "<text text-anchor=\"start\" x=\"155.5\" y=\"-22.8\" font-family=\"Helvetica,sans-Serif\" font-size=\"14.00\">value = [2, 0]</text>\n",
       "<text text-anchor=\"start\" x=\"138.5\" y=\"-7.8\" font-family=\"Helvetica,sans-Serif\" font-size=\"14.00\">class = No quema</text>\n",
       "</g>\n",
       "<!-- 2&#45;&gt;4 -->\n",
       "<g id=\"edge4\" class=\"edge\">\n",
       "<title>2&#45;&gt;4</title>\n",
       "<path fill=\"none\" stroke=\"black\" d=\"M152.07,-103.73C157.66,-94.97 163.59,-85.7 169.21,-76.91\"/>\n",
       "<polygon fill=\"black\" stroke=\"black\" points=\"172.28,-78.61 174.71,-68.3 166.38,-74.84 172.28,-78.61\"/>\n",
       "</g>\n",
       "</g>\n",
       "</svg>\n"
      ],
      "text/plain": [
       "<graphviz.sources.Source at 0x24256724cd0>"
      ]
     },
     "execution_count": 19,
     "metadata": {},
     "output_type": "execute_result"
    }
   ],
   "source": [
    "#utilizando la librería sklearn\n",
    "\n",
    "from sklearn import tree\n",
    "from sklearn import preprocessing\n",
    "\n",
    "data = pd.DataFrame()\n",
    "le = preprocessing.LabelEncoder()\n",
    "\n",
    "for v in labels:\n",
    "    le.fit(quemadura_data[v])\n",
    "    data[v] = le.transform(quemadura_data[v])\n",
    "clf = tree.DecisionTreeClassifier(criterion='entropy',max_depth=4)\n",
    "t_data = data[data.columns[0:4]]\n",
    "t_target = data[data.columns[4]]\n",
    "clf = clf.fit(t_data, t_target)\n",
    "t_data, t_target,clf\n",
    "dot_data = tree.export_graphviz(clf, out_file=None,\n",
    "                         feature_names=list(t_data.columns.values),\n",
    "                         class_names=clase[::-1],\n",
    "                         filled=True, rounded=True,\n",
    "                         special_characters=True)\n",
    "graph = graphviz.Source(dot_data)\n",
    "graph"
   ]
  },
  {
   "cell_type": "code",
   "execution_count": null,
   "metadata": {
    "pycharm": {
     "name": "#%%\n"
    }
   },
   "outputs": [],
   "source": [
    "valores, cuantos = np.unique(quemadura_data['Pelo'], return_counts=True)\n",
    "print(valores)\n",
    "sn = splitNode(valores, 'Pelo')\n",
    "n0 = []\n",
    "n1 = []\n",
    "for key, value in sn.items():\n",
    "    arr1 = np.where(quemadura_data['Quemadura'][quemadura_data.index[value]] == 0)[0]\n",
    "    arr2 = np.where(quemadura_data['Quemadura'][quemadura_data.index[value]] == 1)[0]\n",
    "    if len(arr1) != 0:\n",
    "        n0.append((key, arr1))\n",
    "    if len(arr2) != 0:\n",
    "        n1.append((key, arr2))\n",
    "n0, n1"
   ]
  },
  {
   "cell_type": "code",
   "execution_count": null,
   "metadata": {},
   "outputs": [],
   "source": [
    "valores, cuantos = np.unique(quemadura_data['Pelo'], return_counts=True)\n",
    "print(valores)\n",
    "sn = splitNode(valores, 'Pelo')\n",
    "n0 = []\n",
    "n1 = []\n",
    "for key, value in sn.items():\n",
    "    print('**********',key,'*********')\n",
    "    arr1 = np.where(quemadura_data['Quemadura'][quemadura_data.index[value]] == 0)[0]\n",
    "    v_se_quemadura, c_se_quemadura = np.unique(arr1,return_counts=True)\n",
    "    print('no>', v_se_quemadura, c_se_quemadura)\n",
    "    arr2 = np.where(quemadura_data['Quemadura'][quemadura_data.index[value]] == 1)[0]\n",
    "    v_se_quemadura, c_se_quemadura = np.unique(arr2,return_counts=True)\n",
    "    print('si>', v_se_quemadura, c_se_quemadura)\n",
    "    if len(arr1) != 0:\n",
    "        n0.append((key, arr1))\n",
    "    if len(arr2) != 0:\n",
    "        n1.append((key, arr2))\n",
    "n0, n1"
   ]
  },
  {
   "cell_type": "code",
   "execution_count": null,
   "metadata": {},
   "outputs": [],
   "source": [
    " print(quemadura_data['Quemadura'][1])"
   ]
  }
 ],
 "metadata": {
  "kernelspec": {
   "display_name": "Python 3 (ipykernel)",
   "language": "python",
   "name": "python3"
  },
  "language_info": {
   "codemirror_mode": {
    "name": "ipython",
    "version": 3
   },
   "file_extension": ".py",
   "mimetype": "text/x-python",
   "name": "python",
   "nbconvert_exporter": "python",
   "pygments_lexer": "ipython3",
   "version": "3.10.4"
  }
 },
 "nbformat": 4,
 "nbformat_minor": 4
}
