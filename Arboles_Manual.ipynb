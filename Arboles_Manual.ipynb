{
 "cells": [
  {
   "cell_type": "markdown",
   "metadata": {},
   "source": [
    "# Grupo 3\n",
    "### Bruno Dueñas, Fernando Mejía, Mateo Córdova\n",
    "\n",
    "## Imports y labels globales"
   ]
  },
  {
   "cell_type": "code",
   "execution_count": 1,
   "metadata": {
    "pycharm": {
     "name": "#%%\n"
    }
   },
   "outputs": [],
   "source": [
    "import numpy as np\n",
    "import graphviz\n",
    "from graphviz import Digraph\n",
    "import pandas as pd\n",
    "labels = ['Pelo', 'Altura', 'Peso', 'Proteccion', 'Quemadura']\n",
    "clase = ['Quema', 'No quema']"
   ]
  },
  {
   "cell_type": "markdown",
   "metadata": {},
   "source": [
    "## Data"
   ]
  },
  {
   "cell_type": "code",
   "execution_count": 2,
   "metadata": {},
   "outputs": [
    {
     "data": {
      "text/html": [
       "<div>\n",
       "<style scoped>\n",
       "    .dataframe tbody tr th:only-of-type {\n",
       "        vertical-align: middle;\n",
       "    }\n",
       "\n",
       "    .dataframe tbody tr th {\n",
       "        vertical-align: top;\n",
       "    }\n",
       "\n",
       "    .dataframe thead th {\n",
       "        text-align: right;\n",
       "    }\n",
       "</style>\n",
       "<table border=\"1\" class=\"dataframe\">\n",
       "  <thead>\n",
       "    <tr style=\"text-align: right;\">\n",
       "      <th></th>\n",
       "      <th>Pelo</th>\n",
       "      <th>Altura</th>\n",
       "      <th>Peso</th>\n",
       "      <th>Proteccion</th>\n",
       "      <th>Quemadura</th>\n",
       "    </tr>\n",
       "    <tr>\n",
       "      <th>Ejemplo</th>\n",
       "      <th></th>\n",
       "      <th></th>\n",
       "      <th></th>\n",
       "      <th></th>\n",
       "      <th></th>\n",
       "    </tr>\n",
       "  </thead>\n",
       "  <tbody>\n",
       "    <tr>\n",
       "      <th>1</th>\n",
       "      <td>rubio</td>\n",
       "      <td>medio</td>\n",
       "      <td>bajo</td>\n",
       "      <td>no</td>\n",
       "      <td>si</td>\n",
       "    </tr>\n",
       "    <tr>\n",
       "      <th>2</th>\n",
       "      <td>rubio</td>\n",
       "      <td>alto</td>\n",
       "      <td>medio</td>\n",
       "      <td>si</td>\n",
       "      <td>no</td>\n",
       "    </tr>\n",
       "    <tr>\n",
       "      <th>3</th>\n",
       "      <td>moreno</td>\n",
       "      <td>bajo</td>\n",
       "      <td>medio</td>\n",
       "      <td>si</td>\n",
       "      <td>no</td>\n",
       "    </tr>\n",
       "    <tr>\n",
       "      <th>4</th>\n",
       "      <td>rubio</td>\n",
       "      <td>bajo</td>\n",
       "      <td>medio</td>\n",
       "      <td>no</td>\n",
       "      <td>si</td>\n",
       "    </tr>\n",
       "    <tr>\n",
       "      <th>5</th>\n",
       "      <td>rojo</td>\n",
       "      <td>medio</td>\n",
       "      <td>alto</td>\n",
       "      <td>no</td>\n",
       "      <td>si</td>\n",
       "    </tr>\n",
       "  </tbody>\n",
       "</table>\n",
       "</div>"
      ],
      "text/plain": [
       "           Pelo Altura   Peso Proteccion Quemadura\n",
       "Ejemplo                                           \n",
       "1         rubio  medio   bajo         no        si\n",
       "2         rubio   alto  medio         si        no\n",
       "3        moreno   bajo  medio         si        no\n",
       "4         rubio   bajo  medio         no        si\n",
       "5          rojo  medio   alto         no        si"
      ]
     },
     "execution_count": 2,
     "metadata": {},
     "output_type": "execute_result"
    }
   ],
   "source": [
    "quemadura_data = pd.read_csv(\"arbQuemadura.csv\", index_col=0)\n",
    "quemadura_data.head()"
   ]
  },
  {
   "cell_type": "markdown",
   "metadata": {},
   "source": [
    "### calcular la entropia"
   ]
  },
  {
   "cell_type": "code",
   "execution_count": 3,
   "metadata": {
    "pycharm": {
     "name": "#%%\n"
    }
   },
   "outputs": [],
   "source": [
    "def calcular_entropia(p):\n",
    "    return -np.sum(p*np.log2(p))"
   ]
  },
  {
   "cell_type": "markdown",
   "metadata": {},
   "source": [
    "### calcular la ganancia"
   ]
  },
  {
   "cell_type": "code",
   "execution_count": 4,
   "metadata": {},
   "outputs": [],
   "source": [
    "#calcular la ganancia\n",
    "def calcular_ganancia(valores, var='Pelo'):\n",
    "    valores, cuantos = np.unique(quemadura_data[var],return_counts=True)\n",
    "    #genero una lista para calcular la ganancia\n",
    "    info_A = []\n",
    "    \n",
    "    for e in valores:\n",
    "        se = np.where(quemadura_data[var]==e)\n",
    "        #print(\"tiene se\",se)\n",
    "        #particiona por valor\n",
    "        se_quemadura = quemadura_data['Quemadura'][quemadura_data.index[se[0]]]\n",
    "        #print(\"se_quemadura\",se_quemadura)\n",
    "        #valores por subgrupo\n",
    "        v_se_quemadura, c_se_quemadura = np.unique(se_quemadura,return_counts=True)\n",
    "        #print(\"subgrupos \",v_se_quemadura,c_se_quemadura)\n",
    "        #entropia del valor\n",
    "        se_entropia = abs(calcular_entropia(c_se_quemadura/sum(c_se_quemadura)))\n",
    "        #print(\"Entropia: \",se_entropia)\n",
    "        #probabilidad del valor\n",
    "        se_size = sum(c_se_quemadura)/len(quemadura_data.index)\n",
    "        #print(\"probabilidad valor\",se_size)\n",
    "        #almacenar valores\n",
    "        info_A += [[se_entropia, se_size]]\n",
    "        #print(\"info_A\",info_A)\n",
    "    #convertir lista en arreglo\n",
    "    info_A = np.array(info_A)\n",
    "    #calcular la entropia de la variable\n",
    "    info_g = np.sum(info_A[:,0]*info_A[:,1])\n",
    "    #print(\"info_g\",info_g)\n",
    "    return info_g"
   ]
  },
  {
   "cell_type": "markdown",
   "metadata": {},
   "source": [
    "## Calcular la entropia del arbol"
   ]
  },
  {
   "cell_type": "code",
   "execution_count": 5,
   "metadata": {
    "pycharm": {
     "name": "#%%\n"
    }
   },
   "outputs": [
    {
     "name": "stdout",
     "output_type": "stream",
     "text": [
      "Entropia del arbol 0.954434002924965\n"
     ]
    },
    {
     "data": {
      "text/plain": [
       "(array(['no', 'si'], dtype=object), array([5, 3], dtype=int64))"
      ]
     },
     "execution_count": 5,
     "metadata": {},
     "output_type": "execute_result"
    }
   ],
   "source": [
    "valores, cuantos = np.unique(quemadura_data['Quemadura'], return_counts=True)\n",
    "entropia = calcular_entropia(cuantos/sum(cuantos))\n",
    "print(\"Entropia del arbol\",entropia)\n",
    "valores,cuantos"
   ]
  },
  {
   "cell_type": "code",
   "execution_count": 6,
   "metadata": {},
   "outputs": [
    {
     "name": "stdout",
     "output_type": "stream",
     "text": [
      "ganancia de Proteccion:0.34758988139079716\n",
      "************Proteccion************\n",
      "ganancia de Peso:0.6225562489182659\n",
      "************Peso************\n",
      "ganancia de Altura:0.8725562489182658\n",
      "************Altura************\n",
      "ganancia de Pelo:0.9056390622295665\n",
      "************Pelo************\n"
     ]
    },
    {
     "data": {
      "image/svg+xml": [
       "<?xml version=\"1.0\" encoding=\"UTF-8\" standalone=\"no\"?>\n",
       "<!DOCTYPE svg PUBLIC \"-//W3C//DTD SVG 1.1//EN\"\n",
       " \"http://www.w3.org/Graphics/SVG/1.1/DTD/svg11.dtd\">\n",
       "<!-- Generated by graphviz version 4.0.0 (20220529.0937)\n",
       " -->\n",
       "<!-- Title: grafo Pages: 1 -->\n",
       "<svg width=\"281pt\" height=\"546pt\"\n",
       " viewBox=\"0.00 0.00 280.94 545.67\" xmlns=\"http://www.w3.org/2000/svg\" xmlns:xlink=\"http://www.w3.org/1999/xlink\">\n",
       "<g id=\"graph0\" class=\"graph\" transform=\"scale(1 1) rotate(0) translate(4 541.67)\">\n",
       "<title>grafo</title>\n",
       "<polygon fill=\"white\" stroke=\"transparent\" points=\"-4,4 -4,-541.67 276.94,-541.67 276.94,4 -4,4\"/>\n",
       "<!-- Proteccion -->\n",
       "<g id=\"node1\" class=\"node\">\n",
       "<title>Proteccion</title>\n",
       "<ellipse fill=\"none\" stroke=\"black\" cx=\"136.47\" cy=\"-48.08\" rx=\"84.29\" ry=\"48.17\"/>\n",
       "<text text-anchor=\"middle\" x=\"136.47\" y=\"-66.88\" font-family=\"Times New Roman,serif\" font-size=\"14.00\">Clase: Proteccion </text>\n",
       "<text text-anchor=\"middle\" x=\"136.47\" y=\"-51.88\" font-family=\"Times New Roman,serif\" font-size=\"14.00\"> Entropia: 0.95 </text>\n",
       "<text text-anchor=\"middle\" x=\"136.47\" y=\"-36.88\" font-family=\"Times New Roman,serif\" font-size=\"14.00\"> Valores: [5 3]</text>\n",
       "<text text-anchor=\"middle\" x=\"136.47\" y=\"-21.88\" font-family=\"Times New Roman,serif\" font-size=\"14.00\"> Labels: [&#39;no&#39; &#39;si&#39;]</text>\n",
       "</g>\n",
       "<!-- Peso -->\n",
       "<g id=\"node2\" class=\"node\">\n",
       "<title>Peso</title>\n",
       "<ellipse fill=\"none\" stroke=\"black\" cx=\"136.47\" cy=\"-195.25\" rx=\"125.32\" ry=\"48.17\"/>\n",
       "<text text-anchor=\"middle\" x=\"136.47\" y=\"-214.05\" font-family=\"Times New Roman,serif\" font-size=\"14.00\">Clase: Peso </text>\n",
       "<text text-anchor=\"middle\" x=\"136.47\" y=\"-199.05\" font-family=\"Times New Roman,serif\" font-size=\"14.00\"> Entropia: 1.56 </text>\n",
       "<text text-anchor=\"middle\" x=\"136.47\" y=\"-184.05\" font-family=\"Times New Roman,serif\" font-size=\"14.00\"> Valores: [3 2 3]</text>\n",
       "<text text-anchor=\"middle\" x=\"136.47\" y=\"-169.05\" font-family=\"Times New Roman,serif\" font-size=\"14.00\"> Labels: [&#39;alto&#39; &#39;bajo&#39; &#39;medio&#39;]</text>\n",
       "</g>\n",
       "<!-- Peso&#45;&gt;Proteccion -->\n",
       "<g id=\"edge1\" class=\"edge\">\n",
       "<title>Peso&#45;&gt;Proteccion</title>\n",
       "<path fill=\"none\" stroke=\"black\" d=\"M136.47,-147.12C136.47,-134.19 136.47,-120.02 136.47,-106.58\"/>\n",
       "<polygon fill=\"black\" stroke=\"black\" points=\"139.97,-106.47 136.47,-96.47 132.97,-106.47 139.97,-106.47\"/>\n",
       "<text text-anchor=\"middle\" x=\"165.47\" y=\"-117.97\" font-family=\"Times New Roman,serif\" font-size=\"14.00\">No quema</text>\n",
       "</g>\n",
       "<!-- Altura -->\n",
       "<g id=\"node3\" class=\"node\">\n",
       "<title>Altura</title>\n",
       "<ellipse fill=\"none\" stroke=\"black\" cx=\"136.47\" cy=\"-342.42\" rx=\"125.32\" ry=\"48.17\"/>\n",
       "<text text-anchor=\"middle\" x=\"136.47\" y=\"-361.22\" font-family=\"Times New Roman,serif\" font-size=\"14.00\">Clase: Altura </text>\n",
       "<text text-anchor=\"middle\" x=\"136.47\" y=\"-346.22\" font-family=\"Times New Roman,serif\" font-size=\"14.00\"> Entropia: 1.56 </text>\n",
       "<text text-anchor=\"middle\" x=\"136.47\" y=\"-331.22\" font-family=\"Times New Roman,serif\" font-size=\"14.00\"> Valores: [2 3 3]</text>\n",
       "<text text-anchor=\"middle\" x=\"136.47\" y=\"-316.22\" font-family=\"Times New Roman,serif\" font-size=\"14.00\"> Labels: [&#39;alto&#39; &#39;bajo&#39; &#39;medio&#39;]</text>\n",
       "</g>\n",
       "<!-- Altura&#45;&gt;Peso -->\n",
       "<g id=\"edge2\" class=\"edge\">\n",
       "<title>Altura&#45;&gt;Peso</title>\n",
       "<path fill=\"none\" stroke=\"black\" d=\"M136.47,-294.28C136.47,-281.35 136.47,-267.19 136.47,-253.75\"/>\n",
       "<polygon fill=\"black\" stroke=\"black\" points=\"139.97,-253.64 136.47,-243.64 132.97,-253.64 139.97,-253.64\"/>\n",
       "<text text-anchor=\"middle\" x=\"165.47\" y=\"-265.13\" font-family=\"Times New Roman,serif\" font-size=\"14.00\">No quema</text>\n",
       "</g>\n",
       "<!-- Pelo -->\n",
       "<g id=\"node4\" class=\"node\">\n",
       "<title>Pelo</title>\n",
       "<ellipse fill=\"none\" stroke=\"black\" cx=\"136.47\" cy=\"-489.58\" rx=\"136.44\" ry=\"48.17\"/>\n",
       "<text text-anchor=\"middle\" x=\"136.47\" y=\"-508.38\" font-family=\"Times New Roman,serif\" font-size=\"14.00\">Clase: Pelo </text>\n",
       "<text text-anchor=\"middle\" x=\"136.47\" y=\"-493.38\" font-family=\"Times New Roman,serif\" font-size=\"14.00\"> Entropia: 1.41 </text>\n",
       "<text text-anchor=\"middle\" x=\"136.47\" y=\"-478.38\" font-family=\"Times New Roman,serif\" font-size=\"14.00\"> Valores: [3 1 4]</text>\n",
       "<text text-anchor=\"middle\" x=\"136.47\" y=\"-463.38\" font-family=\"Times New Roman,serif\" font-size=\"14.00\"> Labels: [&#39;moreno&#39; &#39;rojo&#39; &#39;rubio&#39;]</text>\n",
       "</g>\n",
       "<!-- Pelo&#45;&gt;Altura -->\n",
       "<g id=\"edge3\" class=\"edge\">\n",
       "<title>Pelo&#45;&gt;Altura</title>\n",
       "<path fill=\"none\" stroke=\"black\" d=\"M136.47,-441.45C136.47,-428.52 136.47,-414.36 136.47,-400.91\"/>\n",
       "<polygon fill=\"black\" stroke=\"black\" points=\"139.97,-400.81 136.47,-390.81 132.97,-400.81 139.97,-400.81\"/>\n",
       "<text text-anchor=\"middle\" x=\"165.47\" y=\"-412.3\" font-family=\"Times New Roman,serif\" font-size=\"14.00\">No quema</text>\n",
       "</g>\n",
       "</g>\n",
       "</svg>\n"
      ],
      "text/plain": [
       "<graphviz.graphs.Digraph at 0x1f34a79f940>"
      ]
     },
     "execution_count": 6,
     "metadata": {},
     "output_type": "execute_result"
    }
   ],
   "source": [
    "g = Digraph('grafo')\n",
    "for lab in labels[0:4][::-1]:\n",
    "    valores, cuantos = np.unique(quemadura_data[lab], return_counts=True)\n",
    "    entropia = calcular_entropia(cuantos/sum(cuantos))\n",
    "    valores,cuantos\n",
    "    info_A= calcular_ganancia(valores, lab)\n",
    "    ganancia = entropia - info_A\n",
    "    print(\"ganancia de {}:{}\".format(lab, ganancia))\n",
    "    print('************{}************'.format(lab))\n",
    "    g.node(lab, label='Clase: {} \\\\n Entropia: {} \\\\n Valores: {}\\\\n Labels: {}'.format(lab, round(entropia, 2), cuantos, valores))\n",
    "    lb = clase[0] if entropia == 0 else clase[1]\n",
    "    if labels.index(lab) < 3:\n",
    "        g.edge(lab, labels[labels.index(lab) + 1], label=lb)\n",
    "g"
   ]
  },
  {
   "cell_type": "code",
   "execution_count": 7,
   "metadata": {
    "pycharm": {
     "name": "#%%\n"
    }
   },
   "outputs": [
    {
     "data": {
      "image/svg+xml": [
       "<?xml version=\"1.0\" encoding=\"UTF-8\" standalone=\"no\"?>\n",
       "<!DOCTYPE svg PUBLIC \"-//W3C//DTD SVG 1.1//EN\"\n",
       " \"http://www.w3.org/Graphics/SVG/1.1/DTD/svg11.dtd\">\n",
       "<!-- Generated by graphviz version 4.0.0 (20220529.0937)\n",
       " -->\n",
       "<!-- Title: Tree Pages: 1 -->\n",
       "<svg width=\"330pt\" height=\"314pt\"\n",
       " viewBox=\"0.00 0.00 330.00 314.00\" xmlns=\"http://www.w3.org/2000/svg\" xmlns:xlink=\"http://www.w3.org/1999/xlink\">\n",
       "<g id=\"graph0\" class=\"graph\" transform=\"scale(1 1) rotate(0) translate(4 310)\">\n",
       "<title>Tree</title>\n",
       "<polygon fill=\"white\" stroke=\"transparent\" points=\"-4,4 -4,-310 326,-310 326,4 -4,4\"/>\n",
       "<!-- 0 -->\n",
       "<g id=\"node1\" class=\"node\">\n",
       "<title>0</title>\n",
       "<path fill=\"#f5cdb0\" stroke=\"black\" d=\"M172,-306C172,-306 80,-306 80,-306 74,-306 68,-300 68,-294 68,-294 68,-235 68,-235 68,-229 74,-223 80,-223 80,-223 172,-223 172,-223 178,-223 184,-229 184,-235 184,-235 184,-294 184,-294 184,-300 178,-306 172,-306\"/>\n",
       "<text text-anchor=\"start\" x=\"93.5\" y=\"-290.8\" font-family=\"Helvetica,sans-Serif\" font-size=\"14.00\">Pelo ≤ 0.5</text>\n",
       "<text text-anchor=\"start\" x=\"76\" y=\"-275.8\" font-family=\"Helvetica,sans-Serif\" font-size=\"14.00\">entropy = 0.954</text>\n",
       "<text text-anchor=\"start\" x=\"86.5\" y=\"-260.8\" font-family=\"Helvetica,sans-Serif\" font-size=\"14.00\">samples = 8</text>\n",
       "<text text-anchor=\"start\" x=\"85.5\" y=\"-245.8\" font-family=\"Helvetica,sans-Serif\" font-size=\"14.00\">value = [5, 3]</text>\n",
       "<text text-anchor=\"start\" x=\"78\" y=\"-230.8\" font-family=\"Helvetica,sans-Serif\" font-size=\"14.00\">class = Quema</text>\n",
       "</g>\n",
       "<!-- 1 -->\n",
       "<g id=\"node2\" class=\"node\">\n",
       "<title>1</title>\n",
       "<path fill=\"#e58139\" stroke=\"black\" d=\"M100,-179.5C100,-179.5 12,-179.5 12,-179.5 6,-179.5 0,-173.5 0,-167.5 0,-167.5 0,-123.5 0,-123.5 0,-117.5 6,-111.5 12,-111.5 12,-111.5 100,-111.5 100,-111.5 106,-111.5 112,-117.5 112,-123.5 112,-123.5 112,-167.5 112,-167.5 112,-173.5 106,-179.5 100,-179.5\"/>\n",
       "<text text-anchor=\"start\" x=\"14\" y=\"-164.3\" font-family=\"Helvetica,sans-Serif\" font-size=\"14.00\">entropy = 0.0</text>\n",
       "<text text-anchor=\"start\" x=\"16.5\" y=\"-149.3\" font-family=\"Helvetica,sans-Serif\" font-size=\"14.00\">samples = 3</text>\n",
       "<text text-anchor=\"start\" x=\"15.5\" y=\"-134.3\" font-family=\"Helvetica,sans-Serif\" font-size=\"14.00\">value = [3, 0]</text>\n",
       "<text text-anchor=\"start\" x=\"8\" y=\"-119.3\" font-family=\"Helvetica,sans-Serif\" font-size=\"14.00\">class = Quema</text>\n",
       "</g>\n",
       "<!-- 0&#45;&gt;1 -->\n",
       "<g id=\"edge1\" class=\"edge\">\n",
       "<title>0&#45;&gt;1</title>\n",
       "<path fill=\"none\" stroke=\"black\" d=\"M101.71,-222.91C95.05,-211.76 87.8,-199.66 81.09,-188.44\"/>\n",
       "<polygon fill=\"black\" stroke=\"black\" points=\"83.98,-186.45 75.84,-179.67 77.97,-190.05 83.98,-186.45\"/>\n",
       "<text text-anchor=\"middle\" x=\"69.75\" y=\"-200.21\" font-family=\"Helvetica,sans-Serif\" font-size=\"14.00\">True</text>\n",
       "</g>\n",
       "<!-- 2 -->\n",
       "<g id=\"node3\" class=\"node\">\n",
       "<title>2</title>\n",
       "<path fill=\"#bddef6\" stroke=\"black\" d=\"M249.5,-187C249.5,-187 142.5,-187 142.5,-187 136.5,-187 130.5,-181 130.5,-175 130.5,-175 130.5,-116 130.5,-116 130.5,-110 136.5,-104 142.5,-104 142.5,-104 249.5,-104 249.5,-104 255.5,-104 261.5,-110 261.5,-116 261.5,-116 261.5,-175 261.5,-175 261.5,-181 255.5,-187 249.5,-187\"/>\n",
       "<text text-anchor=\"start\" x=\"144\" y=\"-171.8\" font-family=\"Helvetica,sans-Serif\" font-size=\"14.00\">Proteccion ≤ 0.5</text>\n",
       "<text text-anchor=\"start\" x=\"146\" y=\"-156.8\" font-family=\"Helvetica,sans-Serif\" font-size=\"14.00\">entropy = 0.971</text>\n",
       "<text text-anchor=\"start\" x=\"156.5\" y=\"-141.8\" font-family=\"Helvetica,sans-Serif\" font-size=\"14.00\">samples = 5</text>\n",
       "<text text-anchor=\"start\" x=\"155.5\" y=\"-126.8\" font-family=\"Helvetica,sans-Serif\" font-size=\"14.00\">value = [2, 3]</text>\n",
       "<text text-anchor=\"start\" x=\"138.5\" y=\"-111.8\" font-family=\"Helvetica,sans-Serif\" font-size=\"14.00\">class = No quema</text>\n",
       "</g>\n",
       "<!-- 0&#45;&gt;2 -->\n",
       "<g id=\"edge2\" class=\"edge\">\n",
       "<title>0&#45;&gt;2</title>\n",
       "<path fill=\"none\" stroke=\"black\" d=\"M150.29,-222.91C155.55,-214.1 161.18,-204.7 166.62,-195.61\"/>\n",
       "<polygon fill=\"black\" stroke=\"black\" points=\"169.63,-197.4 171.76,-187.02 163.62,-193.81 169.63,-197.4\"/>\n",
       "<text text-anchor=\"middle\" x=\"177.85\" y=\"-207.57\" font-family=\"Helvetica,sans-Serif\" font-size=\"14.00\">False</text>\n",
       "</g>\n",
       "<!-- 3 -->\n",
       "<g id=\"node4\" class=\"node\">\n",
       "<title>3</title>\n",
       "<path fill=\"#399de5\" stroke=\"black\" d=\"M179.5,-68C179.5,-68 72.5,-68 72.5,-68 66.5,-68 60.5,-62 60.5,-56 60.5,-56 60.5,-12 60.5,-12 60.5,-6 66.5,0 72.5,0 72.5,0 179.5,0 179.5,0 185.5,0 191.5,-6 191.5,-12 191.5,-12 191.5,-56 191.5,-56 191.5,-62 185.5,-68 179.5,-68\"/>\n",
       "<text text-anchor=\"start\" x=\"84\" y=\"-52.8\" font-family=\"Helvetica,sans-Serif\" font-size=\"14.00\">entropy = 0.0</text>\n",
       "<text text-anchor=\"start\" x=\"86.5\" y=\"-37.8\" font-family=\"Helvetica,sans-Serif\" font-size=\"14.00\">samples = 3</text>\n",
       "<text text-anchor=\"start\" x=\"85.5\" y=\"-22.8\" font-family=\"Helvetica,sans-Serif\" font-size=\"14.00\">value = [0, 3]</text>\n",
       "<text text-anchor=\"start\" x=\"68.5\" y=\"-7.8\" font-family=\"Helvetica,sans-Serif\" font-size=\"14.00\">class = No quema</text>\n",
       "</g>\n",
       "<!-- 2&#45;&gt;3 -->\n",
       "<g id=\"edge3\" class=\"edge\">\n",
       "<title>2&#45;&gt;3</title>\n",
       "<path fill=\"none\" stroke=\"black\" d=\"M169.93,-103.73C164.34,-94.97 158.41,-85.7 152.79,-76.91\"/>\n",
       "<polygon fill=\"black\" stroke=\"black\" points=\"155.62,-74.84 147.29,-68.3 149.72,-78.61 155.62,-74.84\"/>\n",
       "</g>\n",
       "<!-- 4 -->\n",
       "<g id=\"node5\" class=\"node\">\n",
       "<title>4</title>\n",
       "<path fill=\"#e58139\" stroke=\"black\" d=\"M310,-68C310,-68 222,-68 222,-68 216,-68 210,-62 210,-56 210,-56 210,-12 210,-12 210,-6 216,0 222,0 222,0 310,0 310,0 316,0 322,-6 322,-12 322,-12 322,-56 322,-56 322,-62 316,-68 310,-68\"/>\n",
       "<text text-anchor=\"start\" x=\"224\" y=\"-52.8\" font-family=\"Helvetica,sans-Serif\" font-size=\"14.00\">entropy = 0.0</text>\n",
       "<text text-anchor=\"start\" x=\"226.5\" y=\"-37.8\" font-family=\"Helvetica,sans-Serif\" font-size=\"14.00\">samples = 2</text>\n",
       "<text text-anchor=\"start\" x=\"225.5\" y=\"-22.8\" font-family=\"Helvetica,sans-Serif\" font-size=\"14.00\">value = [2, 0]</text>\n",
       "<text text-anchor=\"start\" x=\"218\" y=\"-7.8\" font-family=\"Helvetica,sans-Serif\" font-size=\"14.00\">class = Quema</text>\n",
       "</g>\n",
       "<!-- 2&#45;&gt;4 -->\n",
       "<g id=\"edge4\" class=\"edge\">\n",
       "<title>2&#45;&gt;4</title>\n",
       "<path fill=\"none\" stroke=\"black\" d=\"M222.07,-103.73C227.66,-94.97 233.59,-85.7 239.21,-76.91\"/>\n",
       "<polygon fill=\"black\" stroke=\"black\" points=\"242.28,-78.61 244.71,-68.3 236.38,-74.84 242.28,-78.61\"/>\n",
       "</g>\n",
       "</g>\n",
       "</svg>\n"
      ],
      "text/plain": [
       "<graphviz.sources.Source at 0x1f36ad6a3b0>"
      ]
     },
     "execution_count": 7,
     "metadata": {},
     "output_type": "execute_result"
    }
   ],
   "source": [
    "#utilizando la librería sklearn\n",
    "\n",
    "from sklearn import tree\n",
    "from sklearn import preprocessing\n",
    "\n",
    "data = pd.DataFrame()\n",
    "le = preprocessing.LabelEncoder()\n",
    "\n",
    "for v in labels:\n",
    "    le.fit(quemadura_data[v])\n",
    "    data[v] = le.transform(quemadura_data[v])\n",
    "clf = tree.DecisionTreeClassifier(criterion='entropy',max_depth=4)\n",
    "t_data = data[data.columns[0:4]]\n",
    "t_target = data[data.columns[4]]\n",
    "clf = clf.fit(t_data, t_target)\n",
    "t_data, t_target,clf\n",
    "dot_data = tree.export_graphviz(clf, out_file=None,\n",
    "                         feature_names=list(t_data.columns.values),\n",
    "                         class_names=clase,\n",
    "                         filled=True, rounded=True,\n",
    "                         special_characters=True)\n",
    "graph = graphviz.Source(dot_data)\n",
    "graph"
   ]
  }
 ],
 "metadata": {
  "kernelspec": {
   "display_name": "Python 3 (ipykernel)",
   "language": "python",
   "name": "python3"
  },
  "language_info": {
   "codemirror_mode": {
    "name": "ipython",
    "version": 3
   },
   "file_extension": ".py",
   "mimetype": "text/x-python",
   "name": "python",
   "nbconvert_exporter": "python",
   "pygments_lexer": "ipython3",
   "version": "3.10.4"
  }
 },
 "nbformat": 4,
 "nbformat_minor": 4
}
