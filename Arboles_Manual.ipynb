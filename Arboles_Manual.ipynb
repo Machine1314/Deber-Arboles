{
 "cells": [
  {
   "cell_type": "markdown",
   "metadata": {},
   "source": [
    "# Grupo 3\n",
    "### Bruno Dueñas, Fernando Mejía, Mateo Córdova\n",
    "\n",
    "## Imports y labels globales"
   ]
  },
  {
   "cell_type": "code",
   "execution_count": 1,
   "metadata": {
    "pycharm": {
     "name": "#%%\n"
    }
   },
   "outputs": [],
   "source": [
    "import numpy as np\n",
    "import graphviz\n",
    "from graphviz import Digraph\n",
    "import pandas as pd\n",
    "labels = ['Pelo', 'Altura', 'Peso', 'Proteccion', 'Quemadura']\n",
    "clase = ['Quema', 'No quema']"
   ]
  },
  {
   "cell_type": "markdown",
   "metadata": {},
   "source": [
    "## Data"
   ]
  },
  {
   "cell_type": "code",
   "execution_count": 2,
   "metadata": {},
   "outputs": [
    {
     "data": {
      "text/html": [
       "<div>\n",
       "<style scoped>\n",
       "    .dataframe tbody tr th:only-of-type {\n",
       "        vertical-align: middle;\n",
       "    }\n",
       "\n",
       "    .dataframe tbody tr th {\n",
       "        vertical-align: top;\n",
       "    }\n",
       "\n",
       "    .dataframe thead th {\n",
       "        text-align: right;\n",
       "    }\n",
       "</style>\n",
       "<table border=\"1\" class=\"dataframe\">\n",
       "  <thead>\n",
       "    <tr style=\"text-align: right;\">\n",
       "      <th></th>\n",
       "      <th>Pelo</th>\n",
       "      <th>Altura</th>\n",
       "      <th>Peso</th>\n",
       "      <th>Proteccion</th>\n",
       "      <th>Quemadura</th>\n",
       "    </tr>\n",
       "    <tr>\n",
       "      <th>Ejemplo</th>\n",
       "      <th></th>\n",
       "      <th></th>\n",
       "      <th></th>\n",
       "      <th></th>\n",
       "      <th></th>\n",
       "    </tr>\n",
       "  </thead>\n",
       "  <tbody>\n",
       "    <tr>\n",
       "      <th>1</th>\n",
       "      <td>rubio</td>\n",
       "      <td>medio</td>\n",
       "      <td>bajo</td>\n",
       "      <td>no</td>\n",
       "      <td>si</td>\n",
       "    </tr>\n",
       "    <tr>\n",
       "      <th>2</th>\n",
       "      <td>rubio</td>\n",
       "      <td>alto</td>\n",
       "      <td>medio</td>\n",
       "      <td>si</td>\n",
       "      <td>no</td>\n",
       "    </tr>\n",
       "    <tr>\n",
       "      <th>3</th>\n",
       "      <td>moreno</td>\n",
       "      <td>bajo</td>\n",
       "      <td>medio</td>\n",
       "      <td>si</td>\n",
       "      <td>no</td>\n",
       "    </tr>\n",
       "    <tr>\n",
       "      <th>4</th>\n",
       "      <td>rubio</td>\n",
       "      <td>bajo</td>\n",
       "      <td>medio</td>\n",
       "      <td>no</td>\n",
       "      <td>si</td>\n",
       "    </tr>\n",
       "    <tr>\n",
       "      <th>5</th>\n",
       "      <td>rojo</td>\n",
       "      <td>medio</td>\n",
       "      <td>alto</td>\n",
       "      <td>no</td>\n",
       "      <td>si</td>\n",
       "    </tr>\n",
       "  </tbody>\n",
       "</table>\n",
       "</div>"
      ],
      "text/plain": [
       "           Pelo Altura   Peso Proteccion Quemadura\n",
       "Ejemplo                                           \n",
       "1         rubio  medio   bajo         no        si\n",
       "2         rubio   alto  medio         si        no\n",
       "3        moreno   bajo  medio         si        no\n",
       "4         rubio   bajo  medio         no        si\n",
       "5          rojo  medio   alto         no        si"
      ]
     },
     "execution_count": 2,
     "metadata": {},
     "output_type": "execute_result"
    }
   ],
   "source": [
    "quemadura_data = pd.read_csv(\"arbQuemadura.csv\", index_col=0)\n",
    "quemadura_data.head()"
   ]
  },
  {
   "cell_type": "markdown",
   "metadata": {},
   "source": [
    "#"
   ]
  },
  {
   "cell_type": "markdown",
   "metadata": {},
   "source": [
    "### calcular la entropia"
   ]
  },
  {
   "cell_type": "code",
   "execution_count": 3,
   "metadata": {
    "pycharm": {
     "name": "#%%\n"
    }
   },
   "outputs": [],
   "source": [
    "def calcular_entropia(p):\n",
    "    return -np.sum(p*np.log2(p))"
   ]
  },
  {
   "cell_type": "markdown",
   "metadata": {},
   "source": [
    "### calcular la ganancia"
   ]
  },
  {
   "cell_type": "code",
   "execution_count": 4,
   "metadata": {},
   "outputs": [],
   "source": [
    "#calcular la ganancia\n",
    "def calcular_ganancia(valores, var='Pelo'):\n",
    "    valores, cuantos = np.unique(quemadura_data[var],return_counts=True)\n",
    "    #genero una lista para calcular la ganancia\n",
    "    info_A = []\n",
    "    \n",
    "    for e in valores:\n",
    "        se = np.where(quemadura_data[var]==e)\n",
    "        #print(\"tiene se\",se)\n",
    "        #particiona por valor\n",
    "        se_quemadura = quemadura_data['Quemadura'][quemadura_data.index[se[0]]]\n",
    "        #print(\"se_quemadura\",se_quemadura)\n",
    "        #valores por subgrupo\n",
    "        v_se_quemadura, c_se_quemadura = np.unique(se_quemadura,return_counts=True)\n",
    "        #print(\"subgrupos \",v_se_quemadura,c_se_quemadura)\n",
    "        #entropia del valor\n",
    "        se_entropia = abs(calcular_entropia(c_se_quemadura/sum(c_se_quemadura)))\n",
    "        #print(\"Entropia: \",se_entropia)\n",
    "        #probabilidad del valor\n",
    "        se_size = sum(c_se_quemadura)/len(quemadura_data.index)\n",
    "        #print(\"probabilidad valor\",se_size)\n",
    "        #almacenar valores\n",
    "        info_A += [[se_entropia, se_size]]\n",
    "        #print(\"info_A\",info_A)\n",
    "    #convertir lista en arreglo\n",
    "    info_A = np.array(info_A)\n",
    "    #calcular la entropia de la variable\n",
    "    info_g = np.sum(info_A[:,0]*info_A[:,1])\n",
    "    #print(\"info_g\",info_g)\n",
    "    return info_g"
   ]
  },
  {
   "cell_type": "markdown",
   "metadata": {},
   "source": [
    "## Calcular la entropia del arbol"
   ]
  },
  {
   "cell_type": "code",
   "execution_count": 5,
   "metadata": {
    "pycharm": {
     "name": "#%%\n"
    }
   },
   "outputs": [
    {
     "name": "stdout",
     "output_type": "stream",
     "text": [
      "Entropia del arbol 0.954434002924965\n"
     ]
    },
    {
     "data": {
      "text/plain": [
       "(array(['no', 'si'], dtype=object), array([5, 3], dtype=int64))"
      ]
     },
     "execution_count": 5,
     "metadata": {},
     "output_type": "execute_result"
    }
   ],
   "source": [
    "valores, cuantos = np.unique(quemadura_data['Quemadura'], return_counts=True)\n",
    "entropia = calcular_entropia(cuantos/sum(cuantos))\n",
    "print(\"Entropia del arbol\",entropia)\n",
    "valores,cuantos"
   ]
  },
  {
   "cell_type": "markdown",
   "metadata": {},
   "source": [
    "## Gráfico manual del árbol"
   ]
  },
  {
   "cell_type": "code",
   "execution_count": 8,
   "metadata": {
    "scrolled": false
   },
   "outputs": [
    {
     "data": {
      "image/svg+xml": [
       "<?xml version=\"1.0\" encoding=\"UTF-8\" standalone=\"no\"?>\n",
       "<!DOCTYPE svg PUBLIC \"-//W3C//DTD SVG 1.1//EN\"\n",
       " \"http://www.w3.org/Graphics/SVG/1.1/DTD/svg11.dtd\">\n",
       "<!-- Generated by graphviz version 4.0.0 (20220529.0937)\n",
       " -->\n",
       "<!-- Title: grafo Pages: 1 -->\n",
       "<svg width=\"287pt\" height=\"631pt\"\n",
       " viewBox=\"0.00 0.00 286.60 630.52\" xmlns=\"http://www.w3.org/2000/svg\" xmlns:xlink=\"http://www.w3.org/1999/xlink\">\n",
       "<g id=\"graph0\" class=\"graph\" transform=\"scale(1 1) rotate(0) translate(4 626.52)\">\n",
       "<title>grafo</title>\n",
       "<polygon fill=\"white\" stroke=\"transparent\" points=\"-4,4 -4,-626.52 282.6,-626.52 282.6,4 -4,4\"/>\n",
       "<!-- n0 -->\n",
       "<g id=\"node1\" class=\"node\">\n",
       "<title>n0</title>\n",
       "<ellipse fill=\"none\" stroke=\"black\" cx=\"139.3\" cy=\"-58.69\" rx=\"139.1\" ry=\"58.88\"/>\n",
       "<text text-anchor=\"middle\" x=\"139.3\" y=\"-84.99\" font-family=\"Times New Roman,serif\" font-size=\"14.00\">Clase: Pelo </text>\n",
       "<text text-anchor=\"middle\" x=\"139.3\" y=\"-69.99\" font-family=\"Times New Roman,serif\" font-size=\"14.00\"> Entropia: 1.41 </text>\n",
       "<text text-anchor=\"middle\" x=\"139.3\" y=\"-54.99\" font-family=\"Times New Roman,serif\" font-size=\"14.00\"> Valores: [3 1 4]</text>\n",
       "<text text-anchor=\"middle\" x=\"139.3\" y=\"-39.99\" font-family=\"Times New Roman,serif\" font-size=\"14.00\"> Labels: [&#39;moreno&#39; &#39;rojo&#39; &#39;rubio&#39;] </text>\n",
       "<text text-anchor=\"middle\" x=\"139.3\" y=\"-24.99\" font-family=\"Times New Roman,serif\" font-size=\"14.00\"> Muestras: 8</text>\n",
       "</g>\n",
       "<!-- n1 -->\n",
       "<g id=\"node2\" class=\"node\">\n",
       "<title>n1</title>\n",
       "<ellipse fill=\"none\" stroke=\"black\" cx=\"139.3\" cy=\"-227.07\" rx=\"127.97\" ry=\"58.88\"/>\n",
       "<text text-anchor=\"middle\" x=\"139.3\" y=\"-253.37\" font-family=\"Times New Roman,serif\" font-size=\"14.00\">Clase: Altura </text>\n",
       "<text text-anchor=\"middle\" x=\"139.3\" y=\"-238.37\" font-family=\"Times New Roman,serif\" font-size=\"14.00\"> Entropia: 1.56 </text>\n",
       "<text text-anchor=\"middle\" x=\"139.3\" y=\"-223.37\" font-family=\"Times New Roman,serif\" font-size=\"14.00\"> Valores: [2 3 3]</text>\n",
       "<text text-anchor=\"middle\" x=\"139.3\" y=\"-208.37\" font-family=\"Times New Roman,serif\" font-size=\"14.00\"> Labels: [&#39;alto&#39; &#39;bajo&#39; &#39;medio&#39;] </text>\n",
       "<text text-anchor=\"middle\" x=\"139.3\" y=\"-193.37\" font-family=\"Times New Roman,serif\" font-size=\"14.00\"> Muestras: 8</text>\n",
       "</g>\n",
       "<!-- n1&#45;&gt;n0 -->\n",
       "<g id=\"edge1\" class=\"edge\">\n",
       "<title>n1&#45;&gt;n0</title>\n",
       "<path fill=\"none\" stroke=\"black\" d=\"M139.3,-168.34C139.3,-155.26 139.3,-141.24 139.3,-127.77\"/>\n",
       "<polygon fill=\"black\" stroke=\"black\" points=\"142.8,-127.59 139.3,-117.59 135.8,-127.59 142.8,-127.59\"/>\n",
       "<text text-anchor=\"middle\" x=\"168.3\" y=\"-139.18\" font-family=\"Times New Roman,serif\" font-size=\"14.00\">No quema</text>\n",
       "</g>\n",
       "<!-- n2 -->\n",
       "<g id=\"node3\" class=\"node\">\n",
       "<title>n2</title>\n",
       "<ellipse fill=\"none\" stroke=\"black\" cx=\"139.3\" cy=\"-395.45\" rx=\"127.97\" ry=\"58.88\"/>\n",
       "<text text-anchor=\"middle\" x=\"139.3\" y=\"-421.75\" font-family=\"Times New Roman,serif\" font-size=\"14.00\">Clase: Peso </text>\n",
       "<text text-anchor=\"middle\" x=\"139.3\" y=\"-406.75\" font-family=\"Times New Roman,serif\" font-size=\"14.00\"> Entropia: 1.56 </text>\n",
       "<text text-anchor=\"middle\" x=\"139.3\" y=\"-391.75\" font-family=\"Times New Roman,serif\" font-size=\"14.00\"> Valores: [3 2 3]</text>\n",
       "<text text-anchor=\"middle\" x=\"139.3\" y=\"-376.75\" font-family=\"Times New Roman,serif\" font-size=\"14.00\"> Labels: [&#39;alto&#39; &#39;bajo&#39; &#39;medio&#39;] </text>\n",
       "<text text-anchor=\"middle\" x=\"139.3\" y=\"-361.75\" font-family=\"Times New Roman,serif\" font-size=\"14.00\"> Muestras: 8</text>\n",
       "</g>\n",
       "<!-- n2&#45;&gt;n1 -->\n",
       "<g id=\"edge2\" class=\"edge\">\n",
       "<title>n2&#45;&gt;n1</title>\n",
       "<path fill=\"none\" stroke=\"black\" d=\"M139.3,-336.72C139.3,-323.64 139.3,-309.62 139.3,-296.14\"/>\n",
       "<polygon fill=\"black\" stroke=\"black\" points=\"142.8,-295.97 139.3,-285.97 135.8,-295.97 142.8,-295.97\"/>\n",
       "<text text-anchor=\"middle\" x=\"168.3\" y=\"-307.56\" font-family=\"Times New Roman,serif\" font-size=\"14.00\">No quema</text>\n",
       "</g>\n",
       "<!-- n3 -->\n",
       "<g id=\"node4\" class=\"node\">\n",
       "<title>n3</title>\n",
       "<ellipse fill=\"none\" stroke=\"black\" cx=\"139.3\" cy=\"-563.83\" rx=\"84.29\" ry=\"58.88\"/>\n",
       "<text text-anchor=\"middle\" x=\"139.3\" y=\"-590.13\" font-family=\"Times New Roman,serif\" font-size=\"14.00\">Clase: Proteccion </text>\n",
       "<text text-anchor=\"middle\" x=\"139.3\" y=\"-575.13\" font-family=\"Times New Roman,serif\" font-size=\"14.00\"> Entropia: 0.95 </text>\n",
       "<text text-anchor=\"middle\" x=\"139.3\" y=\"-560.13\" font-family=\"Times New Roman,serif\" font-size=\"14.00\"> Valores: [5 3]</text>\n",
       "<text text-anchor=\"middle\" x=\"139.3\" y=\"-545.13\" font-family=\"Times New Roman,serif\" font-size=\"14.00\"> Labels: [&#39;no&#39; &#39;si&#39;] </text>\n",
       "<text text-anchor=\"middle\" x=\"139.3\" y=\"-530.13\" font-family=\"Times New Roman,serif\" font-size=\"14.00\"> Muestras: 8</text>\n",
       "</g>\n",
       "<!-- n3&#45;&gt;n2 -->\n",
       "<g id=\"edge3\" class=\"edge\">\n",
       "<title>n3&#45;&gt;n2</title>\n",
       "<path fill=\"none\" stroke=\"black\" d=\"M139.3,-505.1C139.3,-492.02 139.3,-478 139.3,-464.52\"/>\n",
       "<polygon fill=\"black\" stroke=\"black\" points=\"142.8,-464.35 139.3,-454.35 135.8,-464.35 142.8,-464.35\"/>\n",
       "<text text-anchor=\"middle\" x=\"168.3\" y=\"-475.94\" font-family=\"Times New Roman,serif\" font-size=\"14.00\">No quema</text>\n",
       "</g>\n",
       "</g>\n",
       "</svg>\n"
      ],
      "text/plain": [
       "<graphviz.graphs.Digraph at 0x256bcc7b4c0>"
      ]
     },
     "execution_count": 8,
     "metadata": {},
     "output_type": "execute_result"
    }
   ],
   "source": [
    "g = Digraph('grafo')\n",
    "cont = 0\n",
    "for lab in labels[0:4]:\n",
    "    valores, cuantos = np.unique(quemadura_data[lab], return_counts=True)\n",
    "    entropia = calcular_entropia(cuantos/sum(cuantos))\n",
    "    valores,cuantos\n",
    "    info_A= calcular_ganancia(valores, lab)\n",
    "    ganancia = entropia - info_A\n",
    "    #print(\"ganancia de {}:{}\".format(lab, ganancia))\n",
    "    #print('************{}************'.format(lab))\n",
    "    g.node(\"n{}\".format(cont), label='Clase: {} \\\\n Entropia: {} \\\\n Valores: {}\\\\n Labels: {} \\\\n Muestras: {}'.format(\n",
    "        lab, round(entropia, 2), cuantos, valores, sum(cuantos)\n",
    "    ))\n",
    "    lb = clase[0] if entropia == 0 else clase[1]\n",
    "    if cont > 0:\n",
    "        g.edge(\"n{}\".format(cont), \"n{}\".format(cont - 1), label=lb)\n",
    "    cont+=1\n",
    "g"
   ]
  },
  {
   "cell_type": "markdown",
   "metadata": {},
   "source": [
    "## Gráfico con sklearn"
   ]
  },
  {
   "cell_type": "code",
   "execution_count": 10,
   "metadata": {
    "pycharm": {
     "name": "#%%\n"
    }
   },
   "outputs": [
    {
     "data": {
      "image/svg+xml": [
       "<?xml version=\"1.0\" encoding=\"UTF-8\" standalone=\"no\"?>\n",
       "<!DOCTYPE svg PUBLIC \"-//W3C//DTD SVG 1.1//EN\"\n",
       " \"http://www.w3.org/Graphics/SVG/1.1/DTD/svg11.dtd\">\n",
       "<!-- Generated by graphviz version 4.0.0 (20220529.0937)\n",
       " -->\n",
       "<!-- Title: Tree Pages: 1 -->\n",
       "<svg width=\"330pt\" height=\"314pt\"\n",
       " viewBox=\"0.00 0.00 330.00 314.00\" xmlns=\"http://www.w3.org/2000/svg\" xmlns:xlink=\"http://www.w3.org/1999/xlink\">\n",
       "<g id=\"graph0\" class=\"graph\" transform=\"scale(1 1) rotate(0) translate(4 310)\">\n",
       "<title>Tree</title>\n",
       "<polygon fill=\"white\" stroke=\"transparent\" points=\"-4,4 -4,-310 326,-310 326,4 -4,4\"/>\n",
       "<!-- 0 -->\n",
       "<g id=\"node1\" class=\"node\">\n",
       "<title>0</title>\n",
       "<path fill=\"#f5cdb0\" stroke=\"black\" d=\"M244,-306C244,-306 148,-306 148,-306 142,-306 136,-300 136,-294 136,-294 136,-235 136,-235 136,-229 142,-223 148,-223 148,-223 244,-223 244,-223 250,-223 256,-229 256,-235 256,-235 256,-294 256,-294 256,-300 250,-306 244,-306\"/>\n",
       "<text text-anchor=\"start\" x=\"144\" y=\"-290.8\" font-family=\"Helvetica,sans-Serif\" font-size=\"14.00\">Proteccion ≤ 0.5</text>\n",
       "<text text-anchor=\"start\" x=\"146\" y=\"-275.8\" font-family=\"Helvetica,sans-Serif\" font-size=\"14.00\">entropy = 0.954</text>\n",
       "<text text-anchor=\"start\" x=\"156.5\" y=\"-260.8\" font-family=\"Helvetica,sans-Serif\" font-size=\"14.00\">samples = 8</text>\n",
       "<text text-anchor=\"start\" x=\"155.5\" y=\"-245.8\" font-family=\"Helvetica,sans-Serif\" font-size=\"14.00\">value = [5, 3]</text>\n",
       "<text text-anchor=\"start\" x=\"148\" y=\"-230.8\" font-family=\"Helvetica,sans-Serif\" font-size=\"14.00\">class = Quema</text>\n",
       "</g>\n",
       "<!-- 1 -->\n",
       "<g id=\"node2\" class=\"node\">\n",
       "<title>1</title>\n",
       "<path fill=\"#bddef6\" stroke=\"black\" d=\"M179.5,-187C179.5,-187 72.5,-187 72.5,-187 66.5,-187 60.5,-181 60.5,-175 60.5,-175 60.5,-116 60.5,-116 60.5,-110 66.5,-104 72.5,-104 72.5,-104 179.5,-104 179.5,-104 185.5,-104 191.5,-110 191.5,-116 191.5,-116 191.5,-175 191.5,-175 191.5,-181 185.5,-187 179.5,-187\"/>\n",
       "<text text-anchor=\"start\" x=\"93.5\" y=\"-171.8\" font-family=\"Helvetica,sans-Serif\" font-size=\"14.00\">Pelo ≤ 0.5</text>\n",
       "<text text-anchor=\"start\" x=\"76\" y=\"-156.8\" font-family=\"Helvetica,sans-Serif\" font-size=\"14.00\">entropy = 0.971</text>\n",
       "<text text-anchor=\"start\" x=\"86.5\" y=\"-141.8\" font-family=\"Helvetica,sans-Serif\" font-size=\"14.00\">samples = 5</text>\n",
       "<text text-anchor=\"start\" x=\"85.5\" y=\"-126.8\" font-family=\"Helvetica,sans-Serif\" font-size=\"14.00\">value = [2, 3]</text>\n",
       "<text text-anchor=\"start\" x=\"68.5\" y=\"-111.8\" font-family=\"Helvetica,sans-Serif\" font-size=\"14.00\">class = No quema</text>\n",
       "</g>\n",
       "<!-- 0&#45;&gt;1 -->\n",
       "<g id=\"edge1\" class=\"edge\">\n",
       "<title>0&#45;&gt;1</title>\n",
       "<path fill=\"none\" stroke=\"black\" d=\"M171.71,-222.91C166.45,-214.1 160.82,-204.7 155.38,-195.61\"/>\n",
       "<polygon fill=\"black\" stroke=\"black\" points=\"158.38,-193.81 150.24,-187.02 152.37,-197.4 158.38,-193.81\"/>\n",
       "<text text-anchor=\"middle\" x=\"144.15\" y=\"-207.57\" font-family=\"Helvetica,sans-Serif\" font-size=\"14.00\">True</text>\n",
       "</g>\n",
       "<!-- 4 -->\n",
       "<g id=\"node5\" class=\"node\">\n",
       "<title>4</title>\n",
       "<path fill=\"#e58139\" stroke=\"black\" d=\"M310,-179.5C310,-179.5 222,-179.5 222,-179.5 216,-179.5 210,-173.5 210,-167.5 210,-167.5 210,-123.5 210,-123.5 210,-117.5 216,-111.5 222,-111.5 222,-111.5 310,-111.5 310,-111.5 316,-111.5 322,-117.5 322,-123.5 322,-123.5 322,-167.5 322,-167.5 322,-173.5 316,-179.5 310,-179.5\"/>\n",
       "<text text-anchor=\"start\" x=\"224\" y=\"-164.3\" font-family=\"Helvetica,sans-Serif\" font-size=\"14.00\">entropy = 0.0</text>\n",
       "<text text-anchor=\"start\" x=\"226.5\" y=\"-149.3\" font-family=\"Helvetica,sans-Serif\" font-size=\"14.00\">samples = 3</text>\n",
       "<text text-anchor=\"start\" x=\"225.5\" y=\"-134.3\" font-family=\"Helvetica,sans-Serif\" font-size=\"14.00\">value = [3, 0]</text>\n",
       "<text text-anchor=\"start\" x=\"218\" y=\"-119.3\" font-family=\"Helvetica,sans-Serif\" font-size=\"14.00\">class = Quema</text>\n",
       "</g>\n",
       "<!-- 0&#45;&gt;4 -->\n",
       "<g id=\"edge4\" class=\"edge\">\n",
       "<title>0&#45;&gt;4</title>\n",
       "<path fill=\"none\" stroke=\"black\" d=\"M220.29,-222.91C226.95,-211.76 234.2,-199.66 240.91,-188.44\"/>\n",
       "<polygon fill=\"black\" stroke=\"black\" points=\"244.03,-190.05 246.16,-179.67 238.02,-186.45 244.03,-190.05\"/>\n",
       "<text text-anchor=\"middle\" x=\"252.25\" y=\"-200.21\" font-family=\"Helvetica,sans-Serif\" font-size=\"14.00\">False</text>\n",
       "</g>\n",
       "<!-- 2 -->\n",
       "<g id=\"node3\" class=\"node\">\n",
       "<title>2</title>\n",
       "<path fill=\"#e58139\" stroke=\"black\" d=\"M100,-68C100,-68 12,-68 12,-68 6,-68 0,-62 0,-56 0,-56 0,-12 0,-12 0,-6 6,0 12,0 12,0 100,0 100,0 106,0 112,-6 112,-12 112,-12 112,-56 112,-56 112,-62 106,-68 100,-68\"/>\n",
       "<text text-anchor=\"start\" x=\"14\" y=\"-52.8\" font-family=\"Helvetica,sans-Serif\" font-size=\"14.00\">entropy = 0.0</text>\n",
       "<text text-anchor=\"start\" x=\"16.5\" y=\"-37.8\" font-family=\"Helvetica,sans-Serif\" font-size=\"14.00\">samples = 2</text>\n",
       "<text text-anchor=\"start\" x=\"15.5\" y=\"-22.8\" font-family=\"Helvetica,sans-Serif\" font-size=\"14.00\">value = [2, 0]</text>\n",
       "<text text-anchor=\"start\" x=\"8\" y=\"-7.8\" font-family=\"Helvetica,sans-Serif\" font-size=\"14.00\">class = Quema</text>\n",
       "</g>\n",
       "<!-- 1&#45;&gt;2 -->\n",
       "<g id=\"edge2\" class=\"edge\">\n",
       "<title>1&#45;&gt;2</title>\n",
       "<path fill=\"none\" stroke=\"black\" d=\"M99.93,-103.73C94.34,-94.97 88.41,-85.7 82.79,-76.91\"/>\n",
       "<polygon fill=\"black\" stroke=\"black\" points=\"85.62,-74.84 77.29,-68.3 79.72,-78.61 85.62,-74.84\"/>\n",
       "</g>\n",
       "<!-- 3 -->\n",
       "<g id=\"node4\" class=\"node\">\n",
       "<title>3</title>\n",
       "<path fill=\"#399de5\" stroke=\"black\" d=\"M249.5,-68C249.5,-68 142.5,-68 142.5,-68 136.5,-68 130.5,-62 130.5,-56 130.5,-56 130.5,-12 130.5,-12 130.5,-6 136.5,0 142.5,0 142.5,0 249.5,0 249.5,0 255.5,0 261.5,-6 261.5,-12 261.5,-12 261.5,-56 261.5,-56 261.5,-62 255.5,-68 249.5,-68\"/>\n",
       "<text text-anchor=\"start\" x=\"154\" y=\"-52.8\" font-family=\"Helvetica,sans-Serif\" font-size=\"14.00\">entropy = 0.0</text>\n",
       "<text text-anchor=\"start\" x=\"156.5\" y=\"-37.8\" font-family=\"Helvetica,sans-Serif\" font-size=\"14.00\">samples = 3</text>\n",
       "<text text-anchor=\"start\" x=\"155.5\" y=\"-22.8\" font-family=\"Helvetica,sans-Serif\" font-size=\"14.00\">value = [0, 3]</text>\n",
       "<text text-anchor=\"start\" x=\"138.5\" y=\"-7.8\" font-family=\"Helvetica,sans-Serif\" font-size=\"14.00\">class = No quema</text>\n",
       "</g>\n",
       "<!-- 1&#45;&gt;3 -->\n",
       "<g id=\"edge3\" class=\"edge\">\n",
       "<title>1&#45;&gt;3</title>\n",
       "<path fill=\"none\" stroke=\"black\" d=\"M152.07,-103.73C157.66,-94.97 163.59,-85.7 169.21,-76.91\"/>\n",
       "<polygon fill=\"black\" stroke=\"black\" points=\"172.28,-78.61 174.71,-68.3 166.38,-74.84 172.28,-78.61\"/>\n",
       "</g>\n",
       "</g>\n",
       "</svg>\n"
      ],
      "text/plain": [
       "<graphviz.sources.Source at 0x2569c623df0>"
      ]
     },
     "execution_count": 10,
     "metadata": {},
     "output_type": "execute_result"
    }
   ],
   "source": [
    "#utilizando la librería sklearn\n",
    "\n",
    "from sklearn import tree\n",
    "from sklearn import preprocessing\n",
    "\n",
    "data = pd.DataFrame()\n",
    "le = preprocessing.LabelEncoder()\n",
    "\n",
    "for v in labels:\n",
    "    le.fit(quemadura_data[v])\n",
    "    data[v] = le.transform(quemadura_data[v])\n",
    "clf = tree.DecisionTreeClassifier(criterion='entropy',max_depth=4)\n",
    "t_data = data[data.columns[0:4]]\n",
    "t_target = data[data.columns[4]]\n",
    "clf = clf.fit(t_data, t_target)\n",
    "t_data, t_target,clf\n",
    "dot_data = tree.export_graphviz(clf, out_file=None,\n",
    "                         feature_names=list(t_data.columns.values),\n",
    "                         class_names=clase,\n",
    "                         filled=True, rounded=True,\n",
    "                         special_characters=True)\n",
    "graph = graphviz.Source(dot_data)\n",
    "graph"
   ]
  },
  {
   "cell_type": "code",
   "execution_count": null,
   "metadata": {},
   "outputs": [],
   "source": []
  }
 ],
 "metadata": {
  "kernelspec": {
   "display_name": "Python 3 (ipykernel)",
   "language": "python",
   "name": "python3"
  },
  "language_info": {
   "codemirror_mode": {
    "name": "ipython",
    "version": 3
   },
   "file_extension": ".py",
   "mimetype": "text/x-python",
   "name": "python",
   "nbconvert_exporter": "python",
   "pygments_lexer": "ipython3",
   "version": "3.10.4"
  }
 },
 "nbformat": 4,
 "nbformat_minor": 4
}
