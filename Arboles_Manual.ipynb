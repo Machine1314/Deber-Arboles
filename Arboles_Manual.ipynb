{
 "cells": [
  {
   "cell_type": "code",
   "execution_count": null,
   "outputs": [],
   "source": [
    "#cálculo numérico y análisis de datos\n",
    "import numpy as np\n",
    "import graphviz\n",
    "from graphviz import Digraph\n",
    "#manipulación y análisis de datos (estructuras de datos)\n",
    "import pandas as pd\n",
    "labels = ['Pelo', 'Altura', 'Peso', 'Proteccion', 'Quemadura']\n",
    "quemadura_data = pd.read_csv(\"arbQuemadura.csv\", index_col=0)\n",
    "quemadura_data.head()"
   ],
   "metadata": {
    "collapsed": false,
    "pycharm": {
     "name": "#%%\n"
    }
   }
  },
  {
   "cell_type": "code",
   "execution_count": null,
   "outputs": [],
   "source": [
    "class Graph:\n",
    "    def __init__(self, data, children=None) -> None:\n",
    "        self.data = data\n",
    "        self.children = None\n",
    "        self.parent = None\n",
    "        self.set_children(children)\n",
    "        self.entropy = None\n",
    "\n",
    "    def set_children(self, children) -> None:\n",
    "        self.children = children\n",
    "        if children is not None:\n",
    "            for child in children:\n",
    "                child.parent = self\n",
    "    def get_children(self) -> list:\n",
    "        return self.children\n",
    "    def get_data(self) -> list:\n",
    "        return self.data\n",
    "    def get_parent(self) -> list:\n",
    "        return self.parent\n",
    "    def equals(self, other) -> bool:\n",
    "        return self.data == other.data\n",
    "    def get_entropy(self) -> float:\n",
    "        return self.entropy\n",
    "    def set_entropy(self, entropy) -> None:\n",
    "        self.entropy = entropy\n",
    "\n",
    "    #FIN? DE CLASE GRAPH"
   ],
   "metadata": {
    "collapsed": false,
    "pycharm": {
     "name": "#%%\n"
    }
   }
  },
  {
   "cell_type": "code",
   "execution_count": 114,
   "outputs": [
    {
     "name": "stdout",
     "output_type": "stream",
     "text": [
      "2\n",
      "1\n",
      "0\n"
     ]
    },
    {
     "data": {
      "text/plain": "(2, 2, 0, 1)"
     },
     "execution_count": 114,
     "metadata": {},
     "output_type": "execute_result"
    }
   ],
   "source": [
    "data_quemadura = quemadura_data.copy()\n",
    "data_quemadura['Pelo'] = np.where(data_quemadura['Pelo'] == 'rubio', 2,\n",
    "                       np.where(data_quemadura['Pelo'] == 'rojo', 1, 0))\n",
    "data_quemadura['Altura'] = np.where(data_quemadura['Altura'] == 'alto',                 2, np.where(data_quemadura['Altura'] == 'medio', 1, 0))\n",
    "data_quemadura['Peso'] = np.where(data_quemadura['Peso'] == 'alto', 2,\n",
    "                       np.where(data_quemadura['Peso'] == 'medio', 1, 0))\n",
    "data_quemadura['Proteccion'] = np.where(data_quemadura['Proteccion'] == 'si', 1, 0)\n",
    "#data_quemadura\n",
    "#datos = ()\n",
    "#parent = Graph()\n",
    "#parent.get_data()\n",
    "data = []\n",
    "data = data_quemadura['Pelo'][1],data_quemadura['Altura'][1],data_quemadura['Peso'][1],data_quemadura['Proteccion'][1]\n",
    "#data_quemadura['Pelo']\n",
    "pelo = np.unique(data_quemadura['Pelo'])\n",
    "pelo = pelo[::-1]\n",
    "altura = np.unique(data_quemadura['Altura'])\n",
    "altura = altura[::-1]\n",
    "peso = np.unique(data_quemadura['Peso'])\n",
    "peso = peso[::-1]\n",
    "proteccion = np.unique(data_quemadura['Proteccion'])\n",
    "proteccion = proteccion[::-1]\n",
    "data2 = max(pelo), max(altura), max(peso), max(proteccion)\n",
    "parent = Graph(data2, None)\n",
    "child = []\n",
    "for i in range(len(pelo)):\n",
    "    print(pelo[i])\n",
    "    for a in range(len(altura)):\n",
    "        for p in range(len(peso)):\n",
    "            for pr in range(len(proteccion)):\n",
    "                data = pelo[i], altura[a], peso[p], proteccion[pr]\n",
    "                child.append(Graph(data, None))\n",
    "    #child.append((pelo[i], altura[i], peso[i], proteccion[i]))\n",
    "#parent.set_children(child)\n",
    "##Hacer mas hijos? cambiar el orden? parece que genera los hijos correcto pero es de los datos que tenemos o de todos los datos?\n",
    "# posible cambio de orden para dejar pelo al final para que sea el primer hijo en generar\n",
    "\n",
    "child[4].get_data()"
   ],
   "metadata": {
    "collapsed": false,
    "pycharm": {
     "name": "#%%\n"
    }
   }
  },
  {
   "cell_type": "markdown",
   "source": [
    "### calcular la entropia"
   ],
   "metadata": {
    "collapsed": false,
    "pycharm": {
     "name": "#%% md\n"
    }
   }
  },
  {
   "cell_type": "code",
   "execution_count": null,
   "outputs": [],
   "source": [
    "def calcular_entropia(p):\n",
    "    return -np.sum(p*np.log2(p))"
   ],
   "metadata": {
    "collapsed": false,
    "pycharm": {
     "name": "#%%\n"
    }
   }
  },
  {
   "cell_type": "markdown",
   "source": [
    "### calcular la ganancia"
   ],
   "metadata": {
    "collapsed": false,
    "pycharm": {
     "name": "#%% md\n"
    }
   }
  },
  {
   "cell_type": "code",
   "execution_count": null,
   "outputs": [],
   "source": [
    "#calcular la ganancia\n",
    "def calcular_ganancia(valores, var='Pelo'):\n",
    "    valores, cuantos = np.unique(quemadura_data[var],return_counts=True)\n",
    "    #genero una lista para calcular la ganancia\n",
    "    info_A = []\n",
    "    \n",
    "    for e in valores:\n",
    "        se = np.where(quemadura_data[var]==e)\n",
    "        #print(\"tiene se\",se)\n",
    "        #particiona por valor\n",
    "        se_quemadura = quemadura_data['Quemadura'][quemadura_data.index[se[0]]]\n",
    "        #print(\"se_quemadura\",se_quemadura)\n",
    "        #valores por subgrupo\n",
    "        v_se_quemadura, c_se_quemadura = np.unique(se_quemadura,return_counts=True)\n",
    "        print(\"subgrupos \",v_se_quemadura,c_se_quemadura)\n",
    "        #entropia del valor\n",
    "        se_entropia = abs(calcular_entropia(c_se_quemadura/sum(c_se_quemadura)))\n",
    "        print(\"Entropia: \",se_entropia)\n",
    "        #probabilidad del valor\n",
    "        se_size = sum(c_se_quemadura)/len(quemadura_data.index)\n",
    "        #print(\"probabilidad valor\",se_size)\n",
    "        #almacenar valores\n",
    "        info_A += [[se_entropia, se_size]]\n",
    "        print(\"info_A\",info_A)\n",
    "    #convertir lista en arreglo\n",
    "    info_A = np.array(info_A)\n",
    "    #calcular la entropia de la variable\n",
    "    info_g = np.sum(info_A[:,0]*info_A[:,1])\n",
    "    print(\"info_g\",info_g)\n",
    "    return info_g"
   ],
   "metadata": {
    "collapsed": false,
    "pycharm": {
     "name": "#%%\n"
    }
   }
  },
  {
   "cell_type": "markdown",
   "source": [
    "## Calcular la entropia del arbol"
   ],
   "metadata": {
    "collapsed": false,
    "pycharm": {
     "name": "#%% md\n"
    }
   }
  },
  {
   "cell_type": "code",
   "execution_count": null,
   "outputs": [],
   "source": [
    "valores, cuantos = np.unique(quemadura_data['Quemadura'], return_counts=True)\n",
    "entropia = calcular_entropia(cuantos/sum(cuantos))\n",
    "print(\"Entropia del arbol\",entropia)\n",
    "valores,cuantos"
   ],
   "metadata": {
    "collapsed": false,
    "pycharm": {
     "name": "#%%\n"
    }
   }
  },
  {
   "cell_type": "code",
   "execution_count": null,
   "outputs": [],
   "source": [
    "g = Digraph('grafo')\n",
    "clase = ['Quema', 'No quema']\n",
    "for lab in labels[0:4]:\n",
    "    valores, cuantos = np.unique(quemadura_data[lab], return_counts=True)\n",
    "    entropia = calcular_entropia(cuantos/sum(cuantos))\n",
    "    valores,cuantos\n",
    "    info_A= calcular_ganancia(valores, lab)\n",
    "    ganancia = entropia - info_A\n",
    "    print(\"ganancia de {}\".format(lab))\n",
    "    print('************{}************'.format(lab))\n",
    "    g.node(lab, label='Clase: {} \\\\n Entropia: {} \\\\n Valores: {}'.format(lab, round(entropia, 2), cuantos))\n",
    "    lb = clase[0] if entropia == 0 else clase[1]\n",
    "    g.edge(lab, labels[0], label=lb)\n",
    "g"
   ],
   "metadata": {
    "collapsed": false,
    "pycharm": {
     "name": "#%%\n"
    }
   }
  },
  {
   "cell_type": "code",
   "execution_count": null,
   "outputs": [],
   "source": [
    "#utilizando la librería sklearn\n",
    "\n",
    "from sklearn import tree\n",
    "from sklearn import preprocessing\n",
    "\n",
    "data = pd.DataFrame()\n",
    "le = preprocessing.LabelEncoder()\n",
    "var = [\"Pelo\",\"Altura\",\"Peso\",\"Proteccion\",\"Quemadura\"]\n",
    "\n",
    "for v in var:\n",
    "    le.fit(quemadura_data[v])\n",
    "    data[v] = le.transform(quemadura_data[v])\n",
    "clf = tree.DecisionTreeClassifier(criterion='entropy',max_depth=4)\n",
    "t_data = data[data.columns[0:4]]\n",
    "t_target = data[data.columns[4]]\n",
    "clf = clf.fit(t_data, t_target)\n",
    "t_data, t_target,clf\n",
    "dot_data = tree.export_graphviz(clf, out_file=None,\n",
    "                         feature_names=list(t_data.columns.values),\n",
    "                         class_names=[\"NO Quema\", \"Se quema\"],\n",
    "                         filled=True, rounded=True,\n",
    "                         special_characters=True)\n",
    "graph = graphviz.Source(dot_data)\n",
    "graph"
   ],
   "metadata": {
    "collapsed": false,
    "pycharm": {
     "name": "#%%\n"
    }
   }
  }
 ],
 "metadata": {
  "kernelspec": {
   "display_name": "Python 3 (ipykernel)",
   "language": "python",
   "name": "python3"
  },
  "language_info": {
   "codemirror_mode": {
    "name": "ipython",
    "version": 3
   },
   "file_extension": ".py",
   "mimetype": "text/x-python",
   "name": "python",
   "nbconvert_exporter": "python",
   "pygments_lexer": "ipython3",
   "version": "3.10.4"
  }
 },
 "nbformat": 4,
 "nbformat_minor": 4
}