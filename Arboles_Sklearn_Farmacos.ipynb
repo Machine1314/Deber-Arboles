{
 "nbformat": 4,
 "nbformat_minor": 0,
 "metadata": {
  "colab": {
   "name": "ArbolesP1.ipynb",
   "provenance": [],
   "authorship_tag": "ABX9TyPkqIleCALBW1cvGY3X6MuL"
  },
  "kernelspec": {
   "name": "python3",
   "display_name": "Python 3"
  },
  "language_info": {
   "name": "python"
  }
 },
 "cells": [
  {
   "cell_type": "markdown",
   "source": [
    "# Grupo 3\n",
    "## Bruno Dueñas, Fernando Mejía, Mateo Córdova"
   ],
   "metadata": {
    "collapsed": false,
    "pycharm": {
     "name": "#%% md\n"
    }
   }
  },
  {
   "cell_type": "markdown",
   "source": [
    "## Librerias y datos globales"
   ],
   "metadata": {
    "collapsed": false,
    "pycharm": {
     "name": "#%% md\n"
    }
   }
  },
  {
   "cell_type": "code",
   "execution_count": 105,
   "outputs": [],
   "source": [
    "import numpy as np\n",
    "import pandas as pd\n",
    "from sklearn import tree\n",
    "from sklearn import preprocessing\n",
    "import graphviz\n",
    "#Labels\n",
    "labelsFarmacos = [\"Presion\",\"Azucar\",\"Indice\", \"Alergia\", 'Otras', 'Administrar']\n",
    "labelsWeather = ['Tiempo', 'Temperatura', 'Humedad', 'Viento', 'Juega']\n",
    "#Data\n",
    "farmacos_data = pd.read_csv(\"farmacos.csv\",index_col=0)\n",
    "weather_data = pd.read_csv(\"weather.csv\",index_col=0)\n",
    "farmcos_test = pd.read_csv(\"farmacosTest.csv\", index_col=0)\n",
    "weather_test = pd.read_csv(\"weatherTest.csv\", index_col=0)"
   ],
   "metadata": {
    "collapsed": false,
    "pycharm": {
     "name": "#%%\n"
    }
   }
  },
  {
   "cell_type": "markdown",
   "source": [
    "# Ejercicio 1: Fármacos\n",
    "## Data"
   ],
   "metadata": {
    "collapsed": false,
    "pycharm": {
     "name": "#%% md\n"
    }
   }
  },
  {
   "cell_type": "code",
   "execution_count": 106,
   "outputs": [
    {
     "data": {
      "text/plain": "         Presion Azucar Indice Alergia Otras Administrar\nPaciente                                                \n1           Alta   Alto   Alto      No    No          Si\n2           Alta   Alto   Alto      Si    No          Si\n3           Baja   Alto   Bajo      No    No          Si\n4          Media   Alto   Alto      No    Si          No\n5          Media   Bajo   Alto      Si    Si          No",
      "text/html": "<div>\n<style scoped>\n    .dataframe tbody tr th:only-of-type {\n        vertical-align: middle;\n    }\n\n    .dataframe tbody tr th {\n        vertical-align: top;\n    }\n\n    .dataframe thead th {\n        text-align: right;\n    }\n</style>\n<table border=\"1\" class=\"dataframe\">\n  <thead>\n    <tr style=\"text-align: right;\">\n      <th></th>\n      <th>Presion</th>\n      <th>Azucar</th>\n      <th>Indice</th>\n      <th>Alergia</th>\n      <th>Otras</th>\n      <th>Administrar</th>\n    </tr>\n    <tr>\n      <th>Paciente</th>\n      <th></th>\n      <th></th>\n      <th></th>\n      <th></th>\n      <th></th>\n      <th></th>\n    </tr>\n  </thead>\n  <tbody>\n    <tr>\n      <th>1</th>\n      <td>Alta</td>\n      <td>Alto</td>\n      <td>Alto</td>\n      <td>No</td>\n      <td>No</td>\n      <td>Si</td>\n    </tr>\n    <tr>\n      <th>2</th>\n      <td>Alta</td>\n      <td>Alto</td>\n      <td>Alto</td>\n      <td>Si</td>\n      <td>No</td>\n      <td>Si</td>\n    </tr>\n    <tr>\n      <th>3</th>\n      <td>Baja</td>\n      <td>Alto</td>\n      <td>Bajo</td>\n      <td>No</td>\n      <td>No</td>\n      <td>Si</td>\n    </tr>\n    <tr>\n      <th>4</th>\n      <td>Media</td>\n      <td>Alto</td>\n      <td>Alto</td>\n      <td>No</td>\n      <td>Si</td>\n      <td>No</td>\n    </tr>\n    <tr>\n      <th>5</th>\n      <td>Media</td>\n      <td>Bajo</td>\n      <td>Alto</td>\n      <td>Si</td>\n      <td>Si</td>\n      <td>No</td>\n    </tr>\n  </tbody>\n</table>\n</div>"
     },
     "execution_count": 106,
     "metadata": {},
     "output_type": "execute_result"
    }
   ],
   "source": [
    "farmacos_data.head()"
   ],
   "metadata": {
    "collapsed": false,
    "pycharm": {
     "name": "#%%\n"
    }
   }
  },
  {
   "cell_type": "markdown",
   "source": [
    "# Preprocesamiento de datos automático con librería sklearn"
   ],
   "metadata": {
    "collapsed": false,
    "pycharm": {
     "name": "#%% md\n"
    }
   }
  },
  {
   "cell_type": "code",
   "execution_count": 107,
   "outputs": [],
   "source": [
    "data = pd.DataFrame()\n",
    "le = preprocessing.LabelEncoder()\n",
    "for v in labelsFarmacos:\n",
    "  le.fit(farmacos_data[v])\n",
    "  data[v] = le.transform(farmacos_data[v])\n",
    "#construir el arbol\n",
    "clf = tree.DecisionTreeClassifier(criterion = 'entropy',max_depth=4)\n",
    "t_data = data[data.columns[0:5]]\n",
    "t_respuesta = data[data.columns[5]]\n",
    "#crear el modelo\n",
    "clf = clf.fit(t_data, t_respuesta)"
   ],
   "metadata": {
    "collapsed": false,
    "pycharm": {
     "name": "#%%\n"
    }
   }
  },
  {
   "cell_type": "markdown",
   "source": [
    "## Datos del modelo\n",
    "### t_data"
   ],
   "metadata": {
    "collapsed": false,
    "pycharm": {
     "name": "#%% md\n"
    }
   }
  },
  {
   "cell_type": "code",
   "execution_count": 108,
   "outputs": [
    {
     "data": {
      "text/plain": "    Presion  Azucar  Indice  Alergia  Otras\n0         0       0       0        0      0\n1         0       0       0        1      0\n2         1       0       1        0      0\n3         2       0       0        0      1\n4         2       1       0        1      1\n5         1       1       0        1      1\n6         0       1       0        1      0\n7         0       1       1        0      1\n8         0       0       1        1      1\n9         1       1       0        1      1\n10        2       1       1        1      1\n11        0       1       0        1      1\n12        1       0       0        1      1\n13        1       0       1        0      0",
      "text/html": "<div>\n<style scoped>\n    .dataframe tbody tr th:only-of-type {\n        vertical-align: middle;\n    }\n\n    .dataframe tbody tr th {\n        vertical-align: top;\n    }\n\n    .dataframe thead th {\n        text-align: right;\n    }\n</style>\n<table border=\"1\" class=\"dataframe\">\n  <thead>\n    <tr style=\"text-align: right;\">\n      <th></th>\n      <th>Presion</th>\n      <th>Azucar</th>\n      <th>Indice</th>\n      <th>Alergia</th>\n      <th>Otras</th>\n    </tr>\n  </thead>\n  <tbody>\n    <tr>\n      <th>0</th>\n      <td>0</td>\n      <td>0</td>\n      <td>0</td>\n      <td>0</td>\n      <td>0</td>\n    </tr>\n    <tr>\n      <th>1</th>\n      <td>0</td>\n      <td>0</td>\n      <td>0</td>\n      <td>1</td>\n      <td>0</td>\n    </tr>\n    <tr>\n      <th>2</th>\n      <td>1</td>\n      <td>0</td>\n      <td>1</td>\n      <td>0</td>\n      <td>0</td>\n    </tr>\n    <tr>\n      <th>3</th>\n      <td>2</td>\n      <td>0</td>\n      <td>0</td>\n      <td>0</td>\n      <td>1</td>\n    </tr>\n    <tr>\n      <th>4</th>\n      <td>2</td>\n      <td>1</td>\n      <td>0</td>\n      <td>1</td>\n      <td>1</td>\n    </tr>\n    <tr>\n      <th>5</th>\n      <td>1</td>\n      <td>1</td>\n      <td>0</td>\n      <td>1</td>\n      <td>1</td>\n    </tr>\n    <tr>\n      <th>6</th>\n      <td>0</td>\n      <td>1</td>\n      <td>0</td>\n      <td>1</td>\n      <td>0</td>\n    </tr>\n    <tr>\n      <th>7</th>\n      <td>0</td>\n      <td>1</td>\n      <td>1</td>\n      <td>0</td>\n      <td>1</td>\n    </tr>\n    <tr>\n      <th>8</th>\n      <td>0</td>\n      <td>0</td>\n      <td>1</td>\n      <td>1</td>\n      <td>1</td>\n    </tr>\n    <tr>\n      <th>9</th>\n      <td>1</td>\n      <td>1</td>\n      <td>0</td>\n      <td>1</td>\n      <td>1</td>\n    </tr>\n    <tr>\n      <th>10</th>\n      <td>2</td>\n      <td>1</td>\n      <td>1</td>\n      <td>1</td>\n      <td>1</td>\n    </tr>\n    <tr>\n      <th>11</th>\n      <td>0</td>\n      <td>1</td>\n      <td>0</td>\n      <td>1</td>\n      <td>1</td>\n    </tr>\n    <tr>\n      <th>12</th>\n      <td>1</td>\n      <td>0</td>\n      <td>0</td>\n      <td>1</td>\n      <td>1</td>\n    </tr>\n    <tr>\n      <th>13</th>\n      <td>1</td>\n      <td>0</td>\n      <td>1</td>\n      <td>0</td>\n      <td>0</td>\n    </tr>\n  </tbody>\n</table>\n</div>"
     },
     "execution_count": 108,
     "metadata": {},
     "output_type": "execute_result"
    }
   ],
   "source": [
    "t_data"
   ],
   "metadata": {
    "collapsed": false,
    "pycharm": {
     "name": "#%%\n"
    }
   }
  },
  {
   "cell_type": "markdown",
   "source": [
    "### t_respuesta"
   ],
   "metadata": {
    "collapsed": false,
    "pycharm": {
     "name": "#%% md\n"
    }
   }
  },
  {
   "cell_type": "code",
   "execution_count": 109,
   "outputs": [
    {
     "data": {
      "text/plain": "0     1\n1     1\n2     1\n3     0\n4     0\n5     1\n6     1\n7     1\n8     0\n9     1\n10    1\n11    0\n12    1\n13    1\nName: Administrar, dtype: int32"
     },
     "execution_count": 109,
     "metadata": {},
     "output_type": "execute_result"
    }
   ],
   "source": [
    "t_respuesta"
   ],
   "metadata": {
    "collapsed": false,
    "pycharm": {
     "name": "#%%\n"
    }
   }
  },
  {
   "cell_type": "markdown",
   "source": [
    "### Modelo"
   ],
   "metadata": {
    "collapsed": false,
    "pycharm": {
     "name": "#%% md\n"
    }
   }
  },
  {
   "cell_type": "code",
   "execution_count": 110,
   "outputs": [
    {
     "data": {
      "text/plain": "DecisionTreeClassifier(criterion='entropy', max_depth=4)",
      "text/html": "<style>#sk-container-id-5 {color: black;background-color: white;}#sk-container-id-5 pre{padding: 0;}#sk-container-id-5 div.sk-toggleable {background-color: white;}#sk-container-id-5 label.sk-toggleable__label {cursor: pointer;display: block;width: 100%;margin-bottom: 0;padding: 0.3em;box-sizing: border-box;text-align: center;}#sk-container-id-5 label.sk-toggleable__label-arrow:before {content: \"▸\";float: left;margin-right: 0.25em;color: #696969;}#sk-container-id-5 label.sk-toggleable__label-arrow:hover:before {color: black;}#sk-container-id-5 div.sk-estimator:hover label.sk-toggleable__label-arrow:before {color: black;}#sk-container-id-5 div.sk-toggleable__content {max-height: 0;max-width: 0;overflow: hidden;text-align: left;background-color: #f0f8ff;}#sk-container-id-5 div.sk-toggleable__content pre {margin: 0.2em;color: black;border-radius: 0.25em;background-color: #f0f8ff;}#sk-container-id-5 input.sk-toggleable__control:checked~div.sk-toggleable__content {max-height: 200px;max-width: 100%;overflow: auto;}#sk-container-id-5 input.sk-toggleable__control:checked~label.sk-toggleable__label-arrow:before {content: \"▾\";}#sk-container-id-5 div.sk-estimator input.sk-toggleable__control:checked~label.sk-toggleable__label {background-color: #d4ebff;}#sk-container-id-5 div.sk-label input.sk-toggleable__control:checked~label.sk-toggleable__label {background-color: #d4ebff;}#sk-container-id-5 input.sk-hidden--visually {border: 0;clip: rect(1px 1px 1px 1px);clip: rect(1px, 1px, 1px, 1px);height: 1px;margin: -1px;overflow: hidden;padding: 0;position: absolute;width: 1px;}#sk-container-id-5 div.sk-estimator {font-family: monospace;background-color: #f0f8ff;border: 1px dotted black;border-radius: 0.25em;box-sizing: border-box;margin-bottom: 0.5em;}#sk-container-id-5 div.sk-estimator:hover {background-color: #d4ebff;}#sk-container-id-5 div.sk-parallel-item::after {content: \"\";width: 100%;border-bottom: 1px solid gray;flex-grow: 1;}#sk-container-id-5 div.sk-label:hover label.sk-toggleable__label {background-color: #d4ebff;}#sk-container-id-5 div.sk-serial::before {content: \"\";position: absolute;border-left: 1px solid gray;box-sizing: border-box;top: 0;bottom: 0;left: 50%;z-index: 0;}#sk-container-id-5 div.sk-serial {display: flex;flex-direction: column;align-items: center;background-color: white;padding-right: 0.2em;padding-left: 0.2em;position: relative;}#sk-container-id-5 div.sk-item {position: relative;z-index: 1;}#sk-container-id-5 div.sk-parallel {display: flex;align-items: stretch;justify-content: center;background-color: white;position: relative;}#sk-container-id-5 div.sk-item::before, #sk-container-id-5 div.sk-parallel-item::before {content: \"\";position: absolute;border-left: 1px solid gray;box-sizing: border-box;top: 0;bottom: 0;left: 50%;z-index: -1;}#sk-container-id-5 div.sk-parallel-item {display: flex;flex-direction: column;z-index: 1;position: relative;background-color: white;}#sk-container-id-5 div.sk-parallel-item:first-child::after {align-self: flex-end;width: 50%;}#sk-container-id-5 div.sk-parallel-item:last-child::after {align-self: flex-start;width: 50%;}#sk-container-id-5 div.sk-parallel-item:only-child::after {width: 0;}#sk-container-id-5 div.sk-dashed-wrapped {border: 1px dashed gray;margin: 0 0.4em 0.5em 0.4em;box-sizing: border-box;padding-bottom: 0.4em;background-color: white;}#sk-container-id-5 div.sk-label label {font-family: monospace;font-weight: bold;display: inline-block;line-height: 1.2em;}#sk-container-id-5 div.sk-label-container {text-align: center;}#sk-container-id-5 div.sk-container {/* jupyter's `normalize.less` sets `[hidden] { display: none; }` but bootstrap.min.css set `[hidden] { display: none !important; }` so we also need the `!important` here to be able to override the default hidden behavior on the sphinx rendered scikit-learn.org. See: https://github.com/scikit-learn/scikit-learn/issues/21755 */display: inline-block !important;position: relative;}#sk-container-id-5 div.sk-text-repr-fallback {display: none;}</style><div id=\"sk-container-id-5\" class=\"sk-top-container\"><div class=\"sk-text-repr-fallback\"><pre>DecisionTreeClassifier(criterion=&#x27;entropy&#x27;, max_depth=4)</pre><b>In a Jupyter environment, please rerun this cell to show the HTML representation or trust the notebook. <br />On GitHub, the HTML representation is unable to render, please try loading this page with nbviewer.org.</b></div><div class=\"sk-container\" hidden><div class=\"sk-item\"><div class=\"sk-estimator sk-toggleable\"><input class=\"sk-toggleable__control sk-hidden--visually\" id=\"sk-estimator-id-5\" type=\"checkbox\" checked><label for=\"sk-estimator-id-5\" class=\"sk-toggleable__label sk-toggleable__label-arrow\">DecisionTreeClassifier</label><div class=\"sk-toggleable__content\"><pre>DecisionTreeClassifier(criterion=&#x27;entropy&#x27;, max_depth=4)</pre></div></div></div></div></div>"
     },
     "execution_count": 110,
     "metadata": {},
     "output_type": "execute_result"
    }
   ],
   "source": [
    "clf"
   ],
   "metadata": {
    "collapsed": false,
    "pycharm": {
     "name": "#%%\n"
    }
   }
  },
  {
   "cell_type": "markdown",
   "source": [
    "# Graficar el árbol"
   ],
   "metadata": {
    "collapsed": false,
    "pycharm": {
     "name": "#%% md\n"
    }
   }
  },
  {
   "cell_type": "code",
   "metadata": {
    "colab": {
     "base_uri": "https://localhost:8080/",
     "height": 440
    },
    "id": "otgLSob9MPKm",
    "executionInfo": {
     "status": "ok",
     "timestamp": 1625531290204,
     "user_tz": 300,
     "elapsed": 339,
     "user": {
      "displayName": "bernarda sandoval",
      "photoUrl": "",
      "userId": "13411305394088946203"
     }
    },
    "outputId": "5f88d2b6-369a-4187-aaa5-f68f68aca7cd",
    "pycharm": {
     "name": "#%%\n"
    }
   },
   "source": [
    "dot_data = tree.export_graphviz(clf, out_file = None,\n",
    "                                feature_names = list(t_data.columns.values),\n",
    "                                class_names = [\"Si toma\",\"No toma\"],\n",
    "                                filled = True, rounded = True, special_characters = True)\n",
    "graph = graphviz.Source(dot_data)\n",
    "graph"
   ],
   "execution_count": 111,
   "outputs": [
    {
     "data": {
      "image/svg+xml": "<?xml version=\"1.0\" encoding=\"UTF-8\" standalone=\"no\"?>\n<!DOCTYPE svg PUBLIC \"-//W3C//DTD SVG 1.1//EN\"\n \"http://www.w3.org/Graphics/SVG/1.1/DTD/svg11.dtd\">\n<!-- Generated by graphviz version 4.0.0 (20220529.0937)\n -->\n<!-- Title: Tree Pages: 1 -->\n<svg width=\"528pt\" height=\"552pt\"\n viewBox=\"0.00 0.00 528.00 552.00\" xmlns=\"http://www.w3.org/2000/svg\" xmlns:xlink=\"http://www.w3.org/1999/xlink\">\n<g id=\"graph0\" class=\"graph\" transform=\"scale(1 1) rotate(0) translate(4 548)\">\n<title>Tree</title>\n<polygon fill=\"white\" stroke=\"transparent\" points=\"-4,4 -4,-548 524,-548 524,4 -4,4\"/>\n<!-- 0 -->\n<g id=\"node1\" class=\"node\">\n<title>0</title>\n<path fill=\"#88c4ef\" stroke=\"black\" d=\"M238,-544C238,-544 143,-544 143,-544 137,-544 131,-538 131,-532 131,-532 131,-473 131,-473 131,-467 137,-461 143,-461 143,-461 238,-461 238,-461 244,-461 250,-467 250,-473 250,-473 250,-532 250,-532 250,-538 244,-544 238,-544\"/>\n<text text-anchor=\"start\" x=\"155.5\" y=\"-528.8\" font-family=\"Helvetica,sans-Serif\" font-size=\"14.00\">Otras ≤ 0.5</text>\n<text text-anchor=\"start\" x=\"140.5\" y=\"-513.8\" font-family=\"Helvetica,sans-Serif\" font-size=\"14.00\">entropy = 0.863</text>\n<text text-anchor=\"start\" x=\"147\" y=\"-498.8\" font-family=\"Helvetica,sans-Serif\" font-size=\"14.00\">samples = 14</text>\n<text text-anchor=\"start\" x=\"146\" y=\"-483.8\" font-family=\"Helvetica,sans-Serif\" font-size=\"14.00\">value = [4, 10]</text>\n<text text-anchor=\"start\" x=\"139\" y=\"-468.8\" font-family=\"Helvetica,sans-Serif\" font-size=\"14.00\">class = No toma</text>\n</g>\n<!-- 1 -->\n<g id=\"node2\" class=\"node\">\n<title>1</title>\n<path fill=\"#399de5\" stroke=\"black\" d=\"M170,-417.5C170,-417.5 75,-417.5 75,-417.5 69,-417.5 63,-411.5 63,-405.5 63,-405.5 63,-361.5 63,-361.5 63,-355.5 69,-349.5 75,-349.5 75,-349.5 170,-349.5 170,-349.5 176,-349.5 182,-355.5 182,-361.5 182,-361.5 182,-405.5 182,-405.5 182,-411.5 176,-417.5 170,-417.5\"/>\n<text text-anchor=\"start\" x=\"80.5\" y=\"-402.3\" font-family=\"Helvetica,sans-Serif\" font-size=\"14.00\">entropy = 0.0</text>\n<text text-anchor=\"start\" x=\"83\" y=\"-387.3\" font-family=\"Helvetica,sans-Serif\" font-size=\"14.00\">samples = 5</text>\n<text text-anchor=\"start\" x=\"82\" y=\"-372.3\" font-family=\"Helvetica,sans-Serif\" font-size=\"14.00\">value = [0, 5]</text>\n<text text-anchor=\"start\" x=\"71\" y=\"-357.3\" font-family=\"Helvetica,sans-Serif\" font-size=\"14.00\">class = No toma</text>\n</g>\n<!-- 0&#45;&gt;1 -->\n<g id=\"edge1\" class=\"edge\">\n<title>0&#45;&gt;1</title>\n<path fill=\"none\" stroke=\"black\" d=\"M166.91,-460.91C160.43,-449.76 153.4,-437.66 146.87,-426.44\"/>\n<polygon fill=\"black\" stroke=\"black\" points=\"149.83,-424.55 141.78,-417.67 143.78,-428.07 149.83,-424.55\"/>\n<text text-anchor=\"middle\" x=\"135.38\" y=\"-438.13\" font-family=\"Helvetica,sans-Serif\" font-size=\"14.00\">True</text>\n</g>\n<!-- 2 -->\n<g id=\"node3\" class=\"node\">\n<title>2</title>\n<path fill=\"#d7ebfa\" stroke=\"black\" d=\"M307,-425C307,-425 212,-425 212,-425 206,-425 200,-419 200,-413 200,-413 200,-354 200,-354 200,-348 206,-342 212,-342 212,-342 307,-342 307,-342 313,-342 319,-348 319,-354 319,-354 319,-413 319,-413 319,-419 313,-425 307,-425\"/>\n<text text-anchor=\"start\" x=\"220\" y=\"-409.8\" font-family=\"Helvetica,sans-Serif\" font-size=\"14.00\">Azucar ≤ 0.5</text>\n<text text-anchor=\"start\" x=\"209.5\" y=\"-394.8\" font-family=\"Helvetica,sans-Serif\" font-size=\"14.00\">entropy = 0.991</text>\n<text text-anchor=\"start\" x=\"220\" y=\"-379.8\" font-family=\"Helvetica,sans-Serif\" font-size=\"14.00\">samples = 9</text>\n<text text-anchor=\"start\" x=\"219\" y=\"-364.8\" font-family=\"Helvetica,sans-Serif\" font-size=\"14.00\">value = [4, 5]</text>\n<text text-anchor=\"start\" x=\"208\" y=\"-349.8\" font-family=\"Helvetica,sans-Serif\" font-size=\"14.00\">class = No toma</text>\n</g>\n<!-- 0&#45;&gt;2 -->\n<g id=\"edge2\" class=\"edge\">\n<title>0&#45;&gt;2</title>\n<path fill=\"none\" stroke=\"black\" d=\"M214.44,-460.91C219.58,-452.2 225.06,-442.9 230.37,-433.89\"/>\n<polygon fill=\"black\" stroke=\"black\" points=\"233.54,-435.41 235.6,-425.02 227.51,-431.86 233.54,-435.41\"/>\n<text text-anchor=\"middle\" x=\"241.85\" y=\"-445.53\" font-family=\"Helvetica,sans-Serif\" font-size=\"14.00\">False</text>\n</g>\n<!-- 3 -->\n<g id=\"node4\" class=\"node\">\n<title>3</title>\n<path fill=\"#f2c09c\" stroke=\"black\" d=\"M237.5,-306C237.5,-306 145.5,-306 145.5,-306 139.5,-306 133.5,-300 133.5,-294 133.5,-294 133.5,-235 133.5,-235 133.5,-229 139.5,-223 145.5,-223 145.5,-223 237.5,-223 237.5,-223 243.5,-223 249.5,-229 249.5,-235 249.5,-235 249.5,-294 249.5,-294 249.5,-300 243.5,-306 237.5,-306\"/>\n<text text-anchor=\"start\" x=\"151.5\" y=\"-290.8\" font-family=\"Helvetica,sans-Serif\" font-size=\"14.00\">Alergia ≤ 0.5</text>\n<text text-anchor=\"start\" x=\"141.5\" y=\"-275.8\" font-family=\"Helvetica,sans-Serif\" font-size=\"14.00\">entropy = 0.918</text>\n<text text-anchor=\"start\" x=\"152\" y=\"-260.8\" font-family=\"Helvetica,sans-Serif\" font-size=\"14.00\">samples = 3</text>\n<text text-anchor=\"start\" x=\"151\" y=\"-245.8\" font-family=\"Helvetica,sans-Serif\" font-size=\"14.00\">value = [2, 1]</text>\n<text text-anchor=\"start\" x=\"143\" y=\"-230.8\" font-family=\"Helvetica,sans-Serif\" font-size=\"14.00\">class = Si toma</text>\n</g>\n<!-- 2&#45;&gt;3 -->\n<g id=\"edge3\" class=\"edge\">\n<title>2&#45;&gt;3</title>\n<path fill=\"none\" stroke=\"black\" d=\"M235.91,-341.91C230.84,-333.2 225.44,-323.9 220.21,-314.89\"/>\n<polygon fill=\"black\" stroke=\"black\" points=\"223.1,-312.91 215.05,-306.02 217.05,-316.43 223.1,-312.91\"/>\n</g>\n<!-- 8 -->\n<g id=\"node9\" class=\"node\">\n<title>8</title>\n<path fill=\"#9ccef2\" stroke=\"black\" d=\"M375,-306C375,-306 280,-306 280,-306 274,-306 268,-300 268,-294 268,-294 268,-235 268,-235 268,-229 274,-223 280,-223 280,-223 375,-223 375,-223 381,-223 387,-229 387,-235 387,-235 387,-294 387,-294 387,-300 381,-306 375,-306\"/>\n<text text-anchor=\"start\" x=\"290\" y=\"-290.8\" font-family=\"Helvetica,sans-Serif\" font-size=\"14.00\">Indice ≤ 0.5</text>\n<text text-anchor=\"start\" x=\"277.5\" y=\"-275.8\" font-family=\"Helvetica,sans-Serif\" font-size=\"14.00\">entropy = 0.918</text>\n<text text-anchor=\"start\" x=\"288\" y=\"-260.8\" font-family=\"Helvetica,sans-Serif\" font-size=\"14.00\">samples = 6</text>\n<text text-anchor=\"start\" x=\"287\" y=\"-245.8\" font-family=\"Helvetica,sans-Serif\" font-size=\"14.00\">value = [2, 4]</text>\n<text text-anchor=\"start\" x=\"276\" y=\"-230.8\" font-family=\"Helvetica,sans-Serif\" font-size=\"14.00\">class = No toma</text>\n</g>\n<!-- 2&#45;&gt;8 -->\n<g id=\"edge8\" class=\"edge\">\n<title>2&#45;&gt;8</title>\n<path fill=\"none\" stroke=\"black\" d=\"M283.09,-341.91C288.16,-333.2 293.56,-323.9 298.79,-314.89\"/>\n<polygon fill=\"black\" stroke=\"black\" points=\"301.95,-316.43 303.95,-306.02 295.9,-312.91 301.95,-316.43\"/>\n</g>\n<!-- 4 -->\n<g id=\"node5\" class=\"node\">\n<title>4</title>\n<path fill=\"#e58139\" stroke=\"black\" d=\"M106,-179.5C106,-179.5 17,-179.5 17,-179.5 11,-179.5 5,-173.5 5,-167.5 5,-167.5 5,-123.5 5,-123.5 5,-117.5 11,-111.5 17,-111.5 17,-111.5 106,-111.5 106,-111.5 112,-111.5 118,-117.5 118,-123.5 118,-123.5 118,-167.5 118,-167.5 118,-173.5 112,-179.5 106,-179.5\"/>\n<text text-anchor=\"start\" x=\"19.5\" y=\"-164.3\" font-family=\"Helvetica,sans-Serif\" font-size=\"14.00\">entropy = 0.0</text>\n<text text-anchor=\"start\" x=\"22\" y=\"-149.3\" font-family=\"Helvetica,sans-Serif\" font-size=\"14.00\">samples = 1</text>\n<text text-anchor=\"start\" x=\"21\" y=\"-134.3\" font-family=\"Helvetica,sans-Serif\" font-size=\"14.00\">value = [1, 0]</text>\n<text text-anchor=\"start\" x=\"13\" y=\"-119.3\" font-family=\"Helvetica,sans-Serif\" font-size=\"14.00\">class = Si toma</text>\n</g>\n<!-- 3&#45;&gt;4 -->\n<g id=\"edge4\" class=\"edge\">\n<title>3&#45;&gt;4</title>\n<path fill=\"none\" stroke=\"black\" d=\"M146.4,-222.91C133.28,-211.1 118.96,-198.22 105.89,-186.45\"/>\n<polygon fill=\"black\" stroke=\"black\" points=\"108.13,-183.76 98.35,-179.67 103.44,-188.96 108.13,-183.76\"/>\n</g>\n<!-- 5 -->\n<g id=\"node6\" class=\"node\">\n<title>5</title>\n<path fill=\"#ffffff\" stroke=\"black\" d=\"M237,-187C237,-187 148,-187 148,-187 142,-187 136,-181 136,-175 136,-175 136,-116 136,-116 136,-110 142,-104 148,-104 148,-104 237,-104 237,-104 243,-104 249,-110 249,-116 249,-116 249,-175 249,-175 249,-181 243,-187 237,-187\"/>\n<text text-anchor=\"start\" x=\"155\" y=\"-171.8\" font-family=\"Helvetica,sans-Serif\" font-size=\"14.00\">Indice ≤ 0.5</text>\n<text text-anchor=\"start\" x=\"150.5\" y=\"-156.8\" font-family=\"Helvetica,sans-Serif\" font-size=\"14.00\">entropy = 1.0</text>\n<text text-anchor=\"start\" x=\"153\" y=\"-141.8\" font-family=\"Helvetica,sans-Serif\" font-size=\"14.00\">samples = 2</text>\n<text text-anchor=\"start\" x=\"152\" y=\"-126.8\" font-family=\"Helvetica,sans-Serif\" font-size=\"14.00\">value = [1, 1]</text>\n<text text-anchor=\"start\" x=\"144\" y=\"-111.8\" font-family=\"Helvetica,sans-Serif\" font-size=\"14.00\">class = Si toma</text>\n</g>\n<!-- 3&#45;&gt;5 -->\n<g id=\"edge5\" class=\"edge\">\n<title>3&#45;&gt;5</title>\n<path fill=\"none\" stroke=\"black\" d=\"M191.85,-222.91C191.92,-214.65 191.99,-205.86 192.07,-197.3\"/>\n<polygon fill=\"black\" stroke=\"black\" points=\"195.57,-197.05 192.15,-187.02 188.57,-196.99 195.57,-197.05\"/>\n</g>\n<!-- 6 -->\n<g id=\"node7\" class=\"node\">\n<title>6</title>\n<path fill=\"#399de5\" stroke=\"black\" d=\"M107,-68C107,-68 12,-68 12,-68 6,-68 0,-62 0,-56 0,-56 0,-12 0,-12 0,-6 6,0 12,0 12,0 107,0 107,0 113,0 119,-6 119,-12 119,-12 119,-56 119,-56 119,-62 113,-68 107,-68\"/>\n<text text-anchor=\"start\" x=\"17.5\" y=\"-52.8\" font-family=\"Helvetica,sans-Serif\" font-size=\"14.00\">entropy = 0.0</text>\n<text text-anchor=\"start\" x=\"20\" y=\"-37.8\" font-family=\"Helvetica,sans-Serif\" font-size=\"14.00\">samples = 1</text>\n<text text-anchor=\"start\" x=\"19\" y=\"-22.8\" font-family=\"Helvetica,sans-Serif\" font-size=\"14.00\">value = [0, 1]</text>\n<text text-anchor=\"start\" x=\"8\" y=\"-7.8\" font-family=\"Helvetica,sans-Serif\" font-size=\"14.00\">class = No toma</text>\n</g>\n<!-- 5&#45;&gt;6 -->\n<g id=\"edge6\" class=\"edge\">\n<title>5&#45;&gt;6</title>\n<path fill=\"none\" stroke=\"black\" d=\"M142.98,-103.73C131.45,-94.24 119.2,-84.16 107.74,-74.72\"/>\n<polygon fill=\"black\" stroke=\"black\" points=\"109.89,-71.95 99.95,-68.3 105.44,-77.36 109.89,-71.95\"/>\n</g>\n<!-- 7 -->\n<g id=\"node8\" class=\"node\">\n<title>7</title>\n<path fill=\"#e58139\" stroke=\"black\" d=\"M238,-68C238,-68 149,-68 149,-68 143,-68 137,-62 137,-56 137,-56 137,-12 137,-12 137,-6 143,0 149,0 149,0 238,0 238,0 244,0 250,-6 250,-12 250,-12 250,-56 250,-56 250,-62 244,-68 238,-68\"/>\n<text text-anchor=\"start\" x=\"151.5\" y=\"-52.8\" font-family=\"Helvetica,sans-Serif\" font-size=\"14.00\">entropy = 0.0</text>\n<text text-anchor=\"start\" x=\"154\" y=\"-37.8\" font-family=\"Helvetica,sans-Serif\" font-size=\"14.00\">samples = 1</text>\n<text text-anchor=\"start\" x=\"153\" y=\"-22.8\" font-family=\"Helvetica,sans-Serif\" font-size=\"14.00\">value = [1, 0]</text>\n<text text-anchor=\"start\" x=\"145\" y=\"-7.8\" font-family=\"Helvetica,sans-Serif\" font-size=\"14.00\">class = Si toma</text>\n</g>\n<!-- 5&#45;&gt;7 -->\n<g id=\"edge7\" class=\"edge\">\n<title>5&#45;&gt;7</title>\n<path fill=\"none\" stroke=\"black\" d=\"M192.87,-103.73C192.95,-95.52 193.03,-86.86 193.1,-78.56\"/>\n<polygon fill=\"black\" stroke=\"black\" points=\"196.6,-78.33 193.2,-68.3 189.6,-78.27 196.6,-78.33\"/>\n</g>\n<!-- 9 -->\n<g id=\"node10\" class=\"node\">\n<title>9</title>\n<path fill=\"#ffffff\" stroke=\"black\" d=\"M371,-187C371,-187 282,-187 282,-187 276,-187 270,-181 270,-175 270,-175 270,-116 270,-116 270,-110 276,-104 282,-104 282,-104 371,-104 371,-104 377,-104 383,-110 383,-116 383,-116 383,-175 383,-175 383,-181 377,-187 371,-187\"/>\n<text text-anchor=\"start\" x=\"284\" y=\"-171.8\" font-family=\"Helvetica,sans-Serif\" font-size=\"14.00\">Presion ≤ 0.5</text>\n<text text-anchor=\"start\" x=\"284.5\" y=\"-156.8\" font-family=\"Helvetica,sans-Serif\" font-size=\"14.00\">entropy = 1.0</text>\n<text text-anchor=\"start\" x=\"287\" y=\"-141.8\" font-family=\"Helvetica,sans-Serif\" font-size=\"14.00\">samples = 4</text>\n<text text-anchor=\"start\" x=\"286\" y=\"-126.8\" font-family=\"Helvetica,sans-Serif\" font-size=\"14.00\">value = [2, 2]</text>\n<text text-anchor=\"start\" x=\"278\" y=\"-111.8\" font-family=\"Helvetica,sans-Serif\" font-size=\"14.00\">class = Si toma</text>\n</g>\n<!-- 8&#45;&gt;9 -->\n<g id=\"edge9\" class=\"edge\">\n<title>8&#45;&gt;9</title>\n<path fill=\"none\" stroke=\"black\" d=\"M327.15,-222.91C327.08,-214.65 327.01,-205.86 326.93,-197.3\"/>\n<polygon fill=\"black\" stroke=\"black\" points=\"330.43,-196.99 326.85,-187.02 323.43,-197.05 330.43,-196.99\"/>\n</g>\n<!-- 12 -->\n<g id=\"node13\" class=\"node\">\n<title>12</title>\n<path fill=\"#399de5\" stroke=\"black\" d=\"M508,-179.5C508,-179.5 413,-179.5 413,-179.5 407,-179.5 401,-173.5 401,-167.5 401,-167.5 401,-123.5 401,-123.5 401,-117.5 407,-111.5 413,-111.5 413,-111.5 508,-111.5 508,-111.5 514,-111.5 520,-117.5 520,-123.5 520,-123.5 520,-167.5 520,-167.5 520,-173.5 514,-179.5 508,-179.5\"/>\n<text text-anchor=\"start\" x=\"418.5\" y=\"-164.3\" font-family=\"Helvetica,sans-Serif\" font-size=\"14.00\">entropy = 0.0</text>\n<text text-anchor=\"start\" x=\"421\" y=\"-149.3\" font-family=\"Helvetica,sans-Serif\" font-size=\"14.00\">samples = 2</text>\n<text text-anchor=\"start\" x=\"420\" y=\"-134.3\" font-family=\"Helvetica,sans-Serif\" font-size=\"14.00\">value = [0, 2]</text>\n<text text-anchor=\"start\" x=\"409\" y=\"-119.3\" font-family=\"Helvetica,sans-Serif\" font-size=\"14.00\">class = No toma</text>\n</g>\n<!-- 8&#45;&gt;12 -->\n<g id=\"edge12\" class=\"edge\">\n<title>8&#45;&gt;12</title>\n<path fill=\"none\" stroke=\"black\" d=\"M373.64,-222.91C387.07,-211.1 401.71,-198.22 415.09,-186.45\"/>\n<polygon fill=\"black\" stroke=\"black\" points=\"417.6,-188.9 422.8,-179.67 412.98,-183.64 417.6,-188.9\"/>\n</g>\n<!-- 10 -->\n<g id=\"node11\" class=\"node\">\n<title>10</title>\n<path fill=\"#e58139\" stroke=\"black\" d=\"M371,-68C371,-68 282,-68 282,-68 276,-68 270,-62 270,-56 270,-56 270,-12 270,-12 270,-6 276,0 282,0 282,0 371,0 371,0 377,0 383,-6 383,-12 383,-12 383,-56 383,-56 383,-62 377,-68 371,-68\"/>\n<text text-anchor=\"start\" x=\"284.5\" y=\"-52.8\" font-family=\"Helvetica,sans-Serif\" font-size=\"14.00\">entropy = 0.0</text>\n<text text-anchor=\"start\" x=\"287\" y=\"-37.8\" font-family=\"Helvetica,sans-Serif\" font-size=\"14.00\">samples = 1</text>\n<text text-anchor=\"start\" x=\"286\" y=\"-22.8\" font-family=\"Helvetica,sans-Serif\" font-size=\"14.00\">value = [1, 0]</text>\n<text text-anchor=\"start\" x=\"278\" y=\"-7.8\" font-family=\"Helvetica,sans-Serif\" font-size=\"14.00\">class = Si toma</text>\n</g>\n<!-- 9&#45;&gt;10 -->\n<g id=\"edge10\" class=\"edge\">\n<title>9&#45;&gt;10</title>\n<path fill=\"none\" stroke=\"black\" d=\"M326.5,-103.73C326.5,-95.52 326.5,-86.86 326.5,-78.56\"/>\n<polygon fill=\"black\" stroke=\"black\" points=\"330,-78.3 326.5,-68.3 323,-78.3 330,-78.3\"/>\n</g>\n<!-- 11 -->\n<g id=\"node12\" class=\"node\">\n<title>11</title>\n<path fill=\"#9ccef2\" stroke=\"black\" d=\"M508,-68C508,-68 413,-68 413,-68 407,-68 401,-62 401,-56 401,-56 401,-12 401,-12 401,-6 407,0 413,0 413,0 508,0 508,0 514,0 520,-6 520,-12 520,-12 520,-56 520,-56 520,-62 514,-68 508,-68\"/>\n<text text-anchor=\"start\" x=\"410.5\" y=\"-52.8\" font-family=\"Helvetica,sans-Serif\" font-size=\"14.00\">entropy = 0.918</text>\n<text text-anchor=\"start\" x=\"421\" y=\"-37.8\" font-family=\"Helvetica,sans-Serif\" font-size=\"14.00\">samples = 3</text>\n<text text-anchor=\"start\" x=\"420\" y=\"-22.8\" font-family=\"Helvetica,sans-Serif\" font-size=\"14.00\">value = [1, 2]</text>\n<text text-anchor=\"start\" x=\"409\" y=\"-7.8\" font-family=\"Helvetica,sans-Serif\" font-size=\"14.00\">class = No toma</text>\n</g>\n<!-- 9&#45;&gt;11 -->\n<g id=\"edge11\" class=\"edge\">\n<title>9&#45;&gt;11</title>\n<path fill=\"none\" stroke=\"black\" d=\"M376.4,-103.73C388,-94.24 400.35,-84.16 411.9,-74.72\"/>\n<polygon fill=\"black\" stroke=\"black\" points=\"414.22,-77.34 419.75,-68.3 409.79,-71.92 414.22,-77.34\"/>\n</g>\n</g>\n</svg>\n",
      "text/plain": "<graphviz.sources.Source at 0x19787c69270>"
     },
     "execution_count": 111,
     "metadata": {},
     "output_type": "execute_result"
    }
   ]
  },
  {
   "cell_type": "markdown",
   "source": [
    "## Test del modelo automático\n",
    "### Sacar la data del csv de pruebas con sklearn prepocessing"
   ],
   "metadata": {
    "collapsed": false,
    "pycharm": {
     "name": "#%% md\n"
    }
   }
  },
  {
   "cell_type": "code",
   "execution_count": 112,
   "outputs": [],
   "source": [
    "farmcos_test = pd.read_csv(\"farmacosTest.csv\", index_col=0)\n",
    "data_test = pd.DataFrame()\n",
    "le = preprocessing.LabelEncoder()\n",
    "for v in labelsFarmacos:\n",
    "    le.fit(farmcos_test[v])\n",
    "    data_test[v] = le.transform(farmcos_test[v])\n",
    "x_test = data_test[data_test.columns[0:5]]"
   ],
   "metadata": {
    "collapsed": false,
    "pycharm": {
     "name": "#%%\n"
    }
   }
  },
  {
   "cell_type": "markdown",
   "source": [
    "# Prediccion"
   ],
   "metadata": {
    "collapsed": false,
    "pycharm": {
     "name": "#%% md\n"
    }
   }
  },
  {
   "cell_type": "code",
   "execution_count": 113,
   "outputs": [],
   "source": [
    "y_respuesta = clf.predict(x_test)"
   ],
   "metadata": {
    "collapsed": false,
    "pycharm": {
     "name": "#%%\n"
    }
   }
  },
  {
   "cell_type": "markdown",
   "source": [
    "## Datos"
   ],
   "metadata": {
    "collapsed": false,
    "pycharm": {
     "name": "#%% md\n"
    }
   }
  },
  {
   "cell_type": "code",
   "execution_count": 114,
   "outputs": [
    {
     "data": {
      "text/plain": "    Presion  Azucar  Indice  Alergia  Otras\n0         0       0       0        0      0\n1         0       0       0        1      0\n2         1       0       1        0      0\n3         2       0       0        0      1\n4         2       1       0        1      1\n5         1       1       0        1      1\n6         0       1       0        1      0\n7         0       1       1        0      1\n8         0       0       1        1      1\n9         1       1       0        1      1\n10        2       1       1        1      1\n11        0       1       0        1      1\n12        1       0       0        1      1\n13        1       0       1        0      0",
      "text/html": "<div>\n<style scoped>\n    .dataframe tbody tr th:only-of-type {\n        vertical-align: middle;\n    }\n\n    .dataframe tbody tr th {\n        vertical-align: top;\n    }\n\n    .dataframe thead th {\n        text-align: right;\n    }\n</style>\n<table border=\"1\" class=\"dataframe\">\n  <thead>\n    <tr style=\"text-align: right;\">\n      <th></th>\n      <th>Presion</th>\n      <th>Azucar</th>\n      <th>Indice</th>\n      <th>Alergia</th>\n      <th>Otras</th>\n    </tr>\n  </thead>\n  <tbody>\n    <tr>\n      <th>0</th>\n      <td>0</td>\n      <td>0</td>\n      <td>0</td>\n      <td>0</td>\n      <td>0</td>\n    </tr>\n    <tr>\n      <th>1</th>\n      <td>0</td>\n      <td>0</td>\n      <td>0</td>\n      <td>1</td>\n      <td>0</td>\n    </tr>\n    <tr>\n      <th>2</th>\n      <td>1</td>\n      <td>0</td>\n      <td>1</td>\n      <td>0</td>\n      <td>0</td>\n    </tr>\n    <tr>\n      <th>3</th>\n      <td>2</td>\n      <td>0</td>\n      <td>0</td>\n      <td>0</td>\n      <td>1</td>\n    </tr>\n    <tr>\n      <th>4</th>\n      <td>2</td>\n      <td>1</td>\n      <td>0</td>\n      <td>1</td>\n      <td>1</td>\n    </tr>\n    <tr>\n      <th>5</th>\n      <td>1</td>\n      <td>1</td>\n      <td>0</td>\n      <td>1</td>\n      <td>1</td>\n    </tr>\n    <tr>\n      <th>6</th>\n      <td>0</td>\n      <td>1</td>\n      <td>0</td>\n      <td>1</td>\n      <td>0</td>\n    </tr>\n    <tr>\n      <th>7</th>\n      <td>0</td>\n      <td>1</td>\n      <td>1</td>\n      <td>0</td>\n      <td>1</td>\n    </tr>\n    <tr>\n      <th>8</th>\n      <td>0</td>\n      <td>0</td>\n      <td>1</td>\n      <td>1</td>\n      <td>1</td>\n    </tr>\n    <tr>\n      <th>9</th>\n      <td>1</td>\n      <td>1</td>\n      <td>0</td>\n      <td>1</td>\n      <td>1</td>\n    </tr>\n    <tr>\n      <th>10</th>\n      <td>2</td>\n      <td>1</td>\n      <td>1</td>\n      <td>1</td>\n      <td>1</td>\n    </tr>\n    <tr>\n      <th>11</th>\n      <td>0</td>\n      <td>1</td>\n      <td>0</td>\n      <td>1</td>\n      <td>1</td>\n    </tr>\n    <tr>\n      <th>12</th>\n      <td>1</td>\n      <td>0</td>\n      <td>0</td>\n      <td>1</td>\n      <td>1</td>\n    </tr>\n    <tr>\n      <th>13</th>\n      <td>1</td>\n      <td>0</td>\n      <td>1</td>\n      <td>0</td>\n      <td>0</td>\n    </tr>\n  </tbody>\n</table>\n</div>"
     },
     "execution_count": 114,
     "metadata": {},
     "output_type": "execute_result"
    }
   ],
   "source": [
    "t_data"
   ],
   "metadata": {
    "collapsed": false,
    "pycharm": {
     "name": "#%%\n"
    }
   }
  },
  {
   "cell_type": "markdown",
   "source": [
    "## Resultados datos de entrenamiento"
   ],
   "metadata": {
    "collapsed": false,
    "pycharm": {
     "name": "#%% md\n"
    }
   }
  },
  {
   "cell_type": "code",
   "execution_count": 115,
   "outputs": [
    {
     "data": {
      "text/plain": "0     1\n1     1\n2     1\n3     0\n4     0\n5     1\n6     1\n7     1\n8     0\n9     1\n10    1\n11    0\n12    1\n13    1\nName: Administrar, dtype: int32"
     },
     "execution_count": 115,
     "metadata": {},
     "output_type": "execute_result"
    }
   ],
   "source": [
    "t_respuesta"
   ],
   "metadata": {
    "collapsed": false,
    "pycharm": {
     "name": "#%%\n"
    }
   }
  },
  {
   "cell_type": "markdown",
   "source": [
    "## Resultados datos de test"
   ],
   "metadata": {
    "collapsed": false,
    "pycharm": {
     "name": "#%% md\n"
    }
   }
  },
  {
   "cell_type": "code",
   "execution_count": 116,
   "outputs": [
    {
     "data": {
      "text/plain": "array([1, 1, 1])"
     },
     "execution_count": 116,
     "metadata": {},
     "output_type": "execute_result"
    }
   ],
   "source": [
    "y_respuesta"
   ],
   "metadata": {
    "collapsed": false,
    "pycharm": {
     "name": "#%%\n"
    }
   }
  },
  {
   "cell_type": "markdown",
   "source": [
    "## Preprocesamiento de datos manual con librería pandas"
   ],
   "metadata": {
    "collapsed": false,
    "pycharm": {
     "name": "#%% md\n"
    }
   }
  },
  {
   "cell_type": "code",
   "metadata": {
    "colab": {
     "base_uri": "https://localhost:8080/",
     "height": 598
    },
    "id": "vpEIiTQ1PG1g",
    "executionInfo": {
     "status": "ok",
     "timestamp": 1625532096196,
     "user_tz": 300,
     "elapsed": 172,
     "user": {
      "displayName": "bernarda sandoval",
      "photoUrl": "",
      "userId": "13411305394088946203"
     }
    },
    "outputId": "6bbd2e93-e54f-4070-9074-4463d43012bc",
    "pycharm": {
     "name": "#%%\n"
    }
   },
   "source": [
    "data = farmacos_data.copy()\n",
    "data[\"Presion\"] = np.where(data[\"Presion\"] == \"Alta\",2,\n",
    "                        np.where(data[\"Presion\"] == \"Media\",1,0))\n",
    "data[\"Azucar\"] = np.where(data[\"Azucar\"] == \"Alto\",1,0)\n",
    "data[\"Indice\"] = np.where(data[\"Indice\"] == \"Alto\",1,0)\n",
    "data[\"Alergia\"] = np.where(data[\"Alergia\"] == \"Si\",1,0)\n",
    "data[\"Otras\"] = np.where(data[\"Otras\"] == \"Si\",1,0)\n",
    "#construir el arbol\n",
    "clf = tree.DecisionTreeClassifier(criterion = 'entropy',max_depth=4)\n",
    "t_data = data[data.columns[0:5]]\n",
    "t_respuesta = data[data.columns[5]]\n",
    "#crear el modelo\n",
    "clf = clf.fit(t_data, t_respuesta)"
   ],
   "execution_count": 117,
   "outputs": []
  },
  {
   "cell_type": "markdown",
   "source": [
    "## Graficar el árbol manual"
   ],
   "metadata": {
    "collapsed": false,
    "pycharm": {
     "name": "#%% md\n"
    }
   }
  },
  {
   "cell_type": "code",
   "execution_count": 118,
   "outputs": [
    {
     "data": {
      "image/svg+xml": "<?xml version=\"1.0\" encoding=\"UTF-8\" standalone=\"no\"?>\n<!DOCTYPE svg PUBLIC \"-//W3C//DTD SVG 1.1//EN\"\n \"http://www.w3.org/Graphics/SVG/1.1/DTD/svg11.dtd\">\n<!-- Generated by graphviz version 4.0.0 (20220529.0937)\n -->\n<!-- Title: Tree Pages: 1 -->\n<svg width=\"480pt\" height=\"552pt\"\n viewBox=\"0.00 0.00 480.00 552.00\" xmlns=\"http://www.w3.org/2000/svg\" xmlns:xlink=\"http://www.w3.org/1999/xlink\">\n<g id=\"graph0\" class=\"graph\" transform=\"scale(1 1) rotate(0) translate(4 548)\">\n<title>Tree</title>\n<polygon fill=\"white\" stroke=\"transparent\" points=\"-4,4 -4,-548 476,-548 476,4 -4,4\"/>\n<!-- 0 -->\n<g id=\"node1\" class=\"node\">\n<title>0</title>\n<path fill=\"#88c4ef\" stroke=\"black\" d=\"M225,-544C225,-544 97,-544 97,-544 91,-544 85,-538 85,-532 85,-532 85,-473 85,-473 85,-467 91,-461 97,-461 97,-461 225,-461 225,-461 231,-461 237,-467 237,-473 237,-473 237,-532 237,-532 237,-538 231,-544 225,-544\"/>\n<text text-anchor=\"start\" x=\"118.5\" y=\"-528.8\" font-family=\"Helvetica,sans-Serif\" font-size=\"14.00\">Presion ≤ 0.5</text>\n<text text-anchor=\"start\" x=\"111\" y=\"-513.8\" font-family=\"Helvetica,sans-Serif\" font-size=\"14.00\">entropy = 0.863</text>\n<text text-anchor=\"start\" x=\"117.5\" y=\"-498.8\" font-family=\"Helvetica,sans-Serif\" font-size=\"14.00\">samples = 14</text>\n<text text-anchor=\"start\" x=\"116.5\" y=\"-483.8\" font-family=\"Helvetica,sans-Serif\" font-size=\"14.00\">value = [4, 10]</text>\n<text text-anchor=\"start\" x=\"93\" y=\"-468.8\" font-family=\"Helvetica,sans-Serif\" font-size=\"14.00\">class = No administra</text>\n</g>\n<!-- 1 -->\n<g id=\"node2\" class=\"node\">\n<title>1</title>\n<path fill=\"#399de5\" stroke=\"black\" d=\"M140,-417.5C140,-417.5 12,-417.5 12,-417.5 6,-417.5 0,-411.5 0,-405.5 0,-405.5 0,-361.5 0,-361.5 0,-355.5 6,-349.5 12,-349.5 12,-349.5 140,-349.5 140,-349.5 146,-349.5 152,-355.5 152,-361.5 152,-361.5 152,-405.5 152,-405.5 152,-411.5 146,-417.5 140,-417.5\"/>\n<text text-anchor=\"start\" x=\"34\" y=\"-402.3\" font-family=\"Helvetica,sans-Serif\" font-size=\"14.00\">entropy = 0.0</text>\n<text text-anchor=\"start\" x=\"36.5\" y=\"-387.3\" font-family=\"Helvetica,sans-Serif\" font-size=\"14.00\">samples = 5</text>\n<text text-anchor=\"start\" x=\"35.5\" y=\"-372.3\" font-family=\"Helvetica,sans-Serif\" font-size=\"14.00\">value = [0, 5]</text>\n<text text-anchor=\"start\" x=\"8\" y=\"-357.3\" font-family=\"Helvetica,sans-Serif\" font-size=\"14.00\">class = No administra</text>\n</g>\n<!-- 0&#45;&gt;1 -->\n<g id=\"edge1\" class=\"edge\">\n<title>0&#45;&gt;1</title>\n<path fill=\"none\" stroke=\"black\" d=\"M131.51,-460.91C123.25,-449.54 114.27,-437.18 105.99,-425.77\"/>\n<polygon fill=\"black\" stroke=\"black\" points=\"108.8,-423.7 100.1,-417.67 103.14,-427.81 108.8,-423.7\"/>\n<text text-anchor=\"middle\" x=\"96.18\" y=\"-438.66\" font-family=\"Helvetica,sans-Serif\" font-size=\"14.00\">True</text>\n</g>\n<!-- 2 -->\n<g id=\"node3\" class=\"node\">\n<title>2</title>\n<path fill=\"#d7ebfa\" stroke=\"black\" d=\"M310,-425C310,-425 182,-425 182,-425 176,-425 170,-419 170,-413 170,-413 170,-354 170,-354 170,-348 176,-342 182,-342 182,-342 310,-342 310,-342 316,-342 322,-348 322,-354 322,-354 322,-413 322,-413 322,-419 316,-425 310,-425\"/>\n<text text-anchor=\"start\" x=\"211\" y=\"-409.8\" font-family=\"Helvetica,sans-Serif\" font-size=\"14.00\">Otras ≤ 0.5</text>\n<text text-anchor=\"start\" x=\"196\" y=\"-394.8\" font-family=\"Helvetica,sans-Serif\" font-size=\"14.00\">entropy = 0.991</text>\n<text text-anchor=\"start\" x=\"206.5\" y=\"-379.8\" font-family=\"Helvetica,sans-Serif\" font-size=\"14.00\">samples = 9</text>\n<text text-anchor=\"start\" x=\"205.5\" y=\"-364.8\" font-family=\"Helvetica,sans-Serif\" font-size=\"14.00\">value = [4, 5]</text>\n<text text-anchor=\"start\" x=\"178\" y=\"-349.8\" font-family=\"Helvetica,sans-Serif\" font-size=\"14.00\">class = No administra</text>\n</g>\n<!-- 0&#45;&gt;2 -->\n<g id=\"edge2\" class=\"edge\">\n<title>0&#45;&gt;2</title>\n<path fill=\"none\" stroke=\"black\" d=\"M190.49,-460.91C196.95,-452.01 203.86,-442.51 210.52,-433.33\"/>\n<polygon fill=\"black\" stroke=\"black\" points=\"213.52,-435.17 216.56,-425.02 207.85,-431.05 213.52,-435.17\"/>\n<text text-anchor=\"middle\" x=\"220.47\" y=\"-446.01\" font-family=\"Helvetica,sans-Serif\" font-size=\"14.00\">False</text>\n</g>\n<!-- 3 -->\n<g id=\"node4\" class=\"node\">\n<title>3</title>\n<path fill=\"#399de5\" stroke=\"black\" d=\"M230,-298.5C230,-298.5 102,-298.5 102,-298.5 96,-298.5 90,-292.5 90,-286.5 90,-286.5 90,-242.5 90,-242.5 90,-236.5 96,-230.5 102,-230.5 102,-230.5 230,-230.5 230,-230.5 236,-230.5 242,-236.5 242,-242.5 242,-242.5 242,-286.5 242,-286.5 242,-292.5 236,-298.5 230,-298.5\"/>\n<text text-anchor=\"start\" x=\"124\" y=\"-283.3\" font-family=\"Helvetica,sans-Serif\" font-size=\"14.00\">entropy = 0.0</text>\n<text text-anchor=\"start\" x=\"126.5\" y=\"-268.3\" font-family=\"Helvetica,sans-Serif\" font-size=\"14.00\">samples = 3</text>\n<text text-anchor=\"start\" x=\"125.5\" y=\"-253.3\" font-family=\"Helvetica,sans-Serif\" font-size=\"14.00\">value = [0, 3]</text>\n<text text-anchor=\"start\" x=\"98\" y=\"-238.3\" font-family=\"Helvetica,sans-Serif\" font-size=\"14.00\">class = No administra</text>\n</g>\n<!-- 2&#45;&gt;3 -->\n<g id=\"edge3\" class=\"edge\">\n<title>2&#45;&gt;3</title>\n<path fill=\"none\" stroke=\"black\" d=\"M218.24,-341.91C210.55,-330.65 202.18,-318.42 194.45,-307.11\"/>\n<polygon fill=\"black\" stroke=\"black\" points=\"197.21,-304.95 188.68,-298.67 191.43,-308.9 197.21,-304.95\"/>\n</g>\n<!-- 4 -->\n<g id=\"node5\" class=\"node\">\n<title>4</title>\n<path fill=\"#f2c09c\" stroke=\"black\" d=\"M380,-306C380,-306 272,-306 272,-306 266,-306 260,-300 260,-294 260,-294 260,-235 260,-235 260,-229 266,-223 272,-223 272,-223 380,-223 380,-223 386,-223 392,-229 392,-235 392,-235 392,-294 392,-294 392,-300 386,-306 380,-306\"/>\n<text text-anchor=\"start\" x=\"288.5\" y=\"-290.8\" font-family=\"Helvetica,sans-Serif\" font-size=\"14.00\">Indice ≤ 0.5</text>\n<text text-anchor=\"start\" x=\"276\" y=\"-275.8\" font-family=\"Helvetica,sans-Serif\" font-size=\"14.00\">entropy = 0.918</text>\n<text text-anchor=\"start\" x=\"286.5\" y=\"-260.8\" font-family=\"Helvetica,sans-Serif\" font-size=\"14.00\">samples = 6</text>\n<text text-anchor=\"start\" x=\"285.5\" y=\"-245.8\" font-family=\"Helvetica,sans-Serif\" font-size=\"14.00\">value = [4, 2]</text>\n<text text-anchor=\"start\" x=\"268\" y=\"-230.8\" font-family=\"Helvetica,sans-Serif\" font-size=\"14.00\">class = Administra</text>\n</g>\n<!-- 2&#45;&gt;4 -->\n<g id=\"edge4\" class=\"edge\">\n<title>2&#45;&gt;4</title>\n<path fill=\"none\" stroke=\"black\" d=\"M273.76,-341.91C279.84,-333.01 286.34,-323.51 292.61,-314.33\"/>\n<polygon fill=\"black\" stroke=\"black\" points=\"295.54,-316.25 298.29,-306.02 289.76,-312.3 295.54,-316.25\"/>\n</g>\n<!-- 5 -->\n<g id=\"node6\" class=\"node\">\n<title>5</title>\n<path fill=\"#9ccef2\" stroke=\"black\" d=\"M310,-187C310,-187 182,-187 182,-187 176,-187 170,-181 170,-175 170,-175 170,-116 170,-116 170,-110 176,-104 182,-104 182,-104 310,-104 310,-104 316,-104 322,-110 322,-116 322,-116 322,-175 322,-175 322,-181 316,-187 310,-187\"/>\n<text text-anchor=\"start\" x=\"206.5\" y=\"-171.8\" font-family=\"Helvetica,sans-Serif\" font-size=\"14.00\">Azucar ≤ 0.5</text>\n<text text-anchor=\"start\" x=\"196\" y=\"-156.8\" font-family=\"Helvetica,sans-Serif\" font-size=\"14.00\">entropy = 0.918</text>\n<text text-anchor=\"start\" x=\"206.5\" y=\"-141.8\" font-family=\"Helvetica,sans-Serif\" font-size=\"14.00\">samples = 3</text>\n<text text-anchor=\"start\" x=\"205.5\" y=\"-126.8\" font-family=\"Helvetica,sans-Serif\" font-size=\"14.00\">value = [1, 2]</text>\n<text text-anchor=\"start\" x=\"178\" y=\"-111.8\" font-family=\"Helvetica,sans-Serif\" font-size=\"14.00\">class = No administra</text>\n</g>\n<!-- 4&#45;&gt;5 -->\n<g id=\"edge5\" class=\"edge\">\n<title>4&#45;&gt;5</title>\n<path fill=\"none\" stroke=\"black\" d=\"M298.24,-222.91C292.16,-214.01 285.66,-204.51 279.39,-195.33\"/>\n<polygon fill=\"black\" stroke=\"black\" points=\"282.24,-193.3 273.71,-187.02 276.46,-197.25 282.24,-193.3\"/>\n</g>\n<!-- 8 -->\n<g id=\"node9\" class=\"node\">\n<title>8</title>\n<path fill=\"#e58139\" stroke=\"black\" d=\"M460,-179.5C460,-179.5 352,-179.5 352,-179.5 346,-179.5 340,-173.5 340,-167.5 340,-167.5 340,-123.5 340,-123.5 340,-117.5 346,-111.5 352,-111.5 352,-111.5 460,-111.5 460,-111.5 466,-111.5 472,-117.5 472,-123.5 472,-123.5 472,-167.5 472,-167.5 472,-173.5 466,-179.5 460,-179.5\"/>\n<text text-anchor=\"start\" x=\"364\" y=\"-164.3\" font-family=\"Helvetica,sans-Serif\" font-size=\"14.00\">entropy = 0.0</text>\n<text text-anchor=\"start\" x=\"366.5\" y=\"-149.3\" font-family=\"Helvetica,sans-Serif\" font-size=\"14.00\">samples = 3</text>\n<text text-anchor=\"start\" x=\"365.5\" y=\"-134.3\" font-family=\"Helvetica,sans-Serif\" font-size=\"14.00\">value = [3, 0]</text>\n<text text-anchor=\"start\" x=\"348\" y=\"-119.3\" font-family=\"Helvetica,sans-Serif\" font-size=\"14.00\">class = Administra</text>\n</g>\n<!-- 4&#45;&gt;8 -->\n<g id=\"edge8\" class=\"edge\">\n<title>4&#45;&gt;8</title>\n<path fill=\"none\" stroke=\"black\" d=\"M353.76,-222.91C361.45,-211.65 369.82,-199.42 377.55,-188.11\"/>\n<polygon fill=\"black\" stroke=\"black\" points=\"380.57,-189.9 383.32,-179.67 374.79,-185.95 380.57,-189.9\"/>\n</g>\n<!-- 6 -->\n<g id=\"node7\" class=\"node\">\n<title>6</title>\n<path fill=\"#399de5\" stroke=\"black\" d=\"M230,-68C230,-68 102,-68 102,-68 96,-68 90,-62 90,-56 90,-56 90,-12 90,-12 90,-6 96,0 102,0 102,0 230,0 230,0 236,0 242,-6 242,-12 242,-12 242,-56 242,-56 242,-62 236,-68 230,-68\"/>\n<text text-anchor=\"start\" x=\"124\" y=\"-52.8\" font-family=\"Helvetica,sans-Serif\" font-size=\"14.00\">entropy = 0.0</text>\n<text text-anchor=\"start\" x=\"126.5\" y=\"-37.8\" font-family=\"Helvetica,sans-Serif\" font-size=\"14.00\">samples = 2</text>\n<text text-anchor=\"start\" x=\"125.5\" y=\"-22.8\" font-family=\"Helvetica,sans-Serif\" font-size=\"14.00\">value = [0, 2]</text>\n<text text-anchor=\"start\" x=\"98\" y=\"-7.8\" font-family=\"Helvetica,sans-Serif\" font-size=\"14.00\">class = No administra</text>\n</g>\n<!-- 5&#45;&gt;6 -->\n<g id=\"edge6\" class=\"edge\">\n<title>5&#45;&gt;6</title>\n<path fill=\"none\" stroke=\"black\" d=\"M216.21,-103.73C209.75,-94.88 202.9,-85.51 196.41,-76.63\"/>\n<polygon fill=\"black\" stroke=\"black\" points=\"199.05,-74.31 190.33,-68.3 193.4,-78.44 199.05,-74.31\"/>\n</g>\n<!-- 7 -->\n<g id=\"node8\" class=\"node\">\n<title>7</title>\n<path fill=\"#e58139\" stroke=\"black\" d=\"M380,-68C380,-68 272,-68 272,-68 266,-68 260,-62 260,-56 260,-56 260,-12 260,-12 260,-6 266,0 272,0 272,0 380,0 380,0 386,0 392,-6 392,-12 392,-12 392,-56 392,-56 392,-62 386,-68 380,-68\"/>\n<text text-anchor=\"start\" x=\"284\" y=\"-52.8\" font-family=\"Helvetica,sans-Serif\" font-size=\"14.00\">entropy = 0.0</text>\n<text text-anchor=\"start\" x=\"286.5\" y=\"-37.8\" font-family=\"Helvetica,sans-Serif\" font-size=\"14.00\">samples = 1</text>\n<text text-anchor=\"start\" x=\"285.5\" y=\"-22.8\" font-family=\"Helvetica,sans-Serif\" font-size=\"14.00\">value = [1, 0]</text>\n<text text-anchor=\"start\" x=\"268\" y=\"-7.8\" font-family=\"Helvetica,sans-Serif\" font-size=\"14.00\">class = Administra</text>\n</g>\n<!-- 5&#45;&gt;7 -->\n<g id=\"edge7\" class=\"edge\">\n<title>5&#45;&gt;7</title>\n<path fill=\"none\" stroke=\"black\" d=\"M275.79,-103.73C282.25,-94.88 289.1,-85.51 295.59,-76.63\"/>\n<polygon fill=\"black\" stroke=\"black\" points=\"298.6,-78.44 301.67,-68.3 292.95,-74.31 298.6,-78.44\"/>\n</g>\n</g>\n</svg>\n",
      "text/plain": "<graphviz.sources.Source at 0x19787067790>"
     },
     "execution_count": 118,
     "metadata": {},
     "output_type": "execute_result"
    }
   ],
   "source": [
    "dot_data = tree.export_graphviz(clf, out_file = None,\n",
    "                                feature_names = list(t_data.columns.values),\n",
    "                                class_names = [\"Administra\",\"No administra\"],\n",
    "                                filled = True, rounded = True, special_characters = True)\n",
    "\n",
    "graph = graphviz.Source(dot_data)\n",
    "graph"
   ],
   "metadata": {
    "collapsed": false,
    "pycharm": {
     "name": "#%%\n"
    }
   }
  },
  {
   "cell_type": "markdown",
   "source": [
    "## Test del modelo\n",
    "### Sacar la data del csv de pruebas con preprocesing manual pandas"
   ],
   "metadata": {
    "collapsed": false,
    "pycharm": {
     "name": "#%% md\n"
    }
   }
  },
  {
   "cell_type": "code",
   "metadata": {
    "colab": {
     "base_uri": "https://localhost:8080/"
    },
    "id": "otddCjzwUCSJ",
    "executionInfo": {
     "status": "ok",
     "timestamp": 1625533323248,
     "user_tz": 300,
     "elapsed": 150,
     "user": {
      "displayName": "bernarda sandoval",
      "photoUrl": "",
      "userId": "13411305394088946203"
     }
    },
    "outputId": "d4c096ed-5301-4634-e37b-848ce36ef325",
    "pycharm": {
     "name": "#%%\n"
    }
   },
   "source": [
    "data_testM = farmcos_test.copy()\n",
    "data_testM[\"Presion\"] = np.where(data_testM[\"Presion\"] == \"Alta\",2,\n",
    "                        np.where(data_testM[\"Presion\"] == \"Media\",1,0))\n",
    "data_testM[\"Azucar\"] = np.where(data_testM[\"Azucar\"] == \"Alto\",1,0)\n",
    "data_testM[\"Indice\"] = np.where(data_testM[\"Indice\"] == \"Alto\",1,0)\n",
    "data_testM[\"Alergia\"] = np.where(data_testM[\"Alergia\"] == \"Si\",1,0)\n",
    "data_testM[\"Otras\"] = np.where(data_testM[\"Otras\"] == \"Si\",1,0)\n",
    "\n",
    "x_test = data_testM[data_test.columns[0:5]]\n",
    "#crear el modelo\n",
    "y_respuesta = clf.predict(x_test)"
   ],
   "execution_count": 119,
   "outputs": []
  },
  {
   "cell_type": "markdown",
   "source": [
    "## Datos"
   ],
   "metadata": {
    "collapsed": false,
    "pycharm": {
     "name": "#%% md\n"
    }
   }
  },
  {
   "cell_type": "code",
   "execution_count": 120,
   "outputs": [
    {
     "data": {
      "text/plain": "          Presion  Azucar  Indice  Alergia  Otras\nPaciente                                         \n1               2       1       1        0      0\n2               2       1       1        1      0\n3               0       1       0        0      0\n4               1       1       1        0      1\n5               1       0       1        1      1\n6               0       0       1        1      1\n7               2       0       1        1      0\n8               2       0       0        0      1\n9               2       1       0        1      1\n10              0       0       1        1      1\n11              1       0       0        1      1\n12              2       0       1        1      1\n13              0       1       1        1      1\n14              0       1       0        0      0",
      "text/html": "<div>\n<style scoped>\n    .dataframe tbody tr th:only-of-type {\n        vertical-align: middle;\n    }\n\n    .dataframe tbody tr th {\n        vertical-align: top;\n    }\n\n    .dataframe thead th {\n        text-align: right;\n    }\n</style>\n<table border=\"1\" class=\"dataframe\">\n  <thead>\n    <tr style=\"text-align: right;\">\n      <th></th>\n      <th>Presion</th>\n      <th>Azucar</th>\n      <th>Indice</th>\n      <th>Alergia</th>\n      <th>Otras</th>\n    </tr>\n    <tr>\n      <th>Paciente</th>\n      <th></th>\n      <th></th>\n      <th></th>\n      <th></th>\n      <th></th>\n    </tr>\n  </thead>\n  <tbody>\n    <tr>\n      <th>1</th>\n      <td>2</td>\n      <td>1</td>\n      <td>1</td>\n      <td>0</td>\n      <td>0</td>\n    </tr>\n    <tr>\n      <th>2</th>\n      <td>2</td>\n      <td>1</td>\n      <td>1</td>\n      <td>1</td>\n      <td>0</td>\n    </tr>\n    <tr>\n      <th>3</th>\n      <td>0</td>\n      <td>1</td>\n      <td>0</td>\n      <td>0</td>\n      <td>0</td>\n    </tr>\n    <tr>\n      <th>4</th>\n      <td>1</td>\n      <td>1</td>\n      <td>1</td>\n      <td>0</td>\n      <td>1</td>\n    </tr>\n    <tr>\n      <th>5</th>\n      <td>1</td>\n      <td>0</td>\n      <td>1</td>\n      <td>1</td>\n      <td>1</td>\n    </tr>\n    <tr>\n      <th>6</th>\n      <td>0</td>\n      <td>0</td>\n      <td>1</td>\n      <td>1</td>\n      <td>1</td>\n    </tr>\n    <tr>\n      <th>7</th>\n      <td>2</td>\n      <td>0</td>\n      <td>1</td>\n      <td>1</td>\n      <td>0</td>\n    </tr>\n    <tr>\n      <th>8</th>\n      <td>2</td>\n      <td>0</td>\n      <td>0</td>\n      <td>0</td>\n      <td>1</td>\n    </tr>\n    <tr>\n      <th>9</th>\n      <td>2</td>\n      <td>1</td>\n      <td>0</td>\n      <td>1</td>\n      <td>1</td>\n    </tr>\n    <tr>\n      <th>10</th>\n      <td>0</td>\n      <td>0</td>\n      <td>1</td>\n      <td>1</td>\n      <td>1</td>\n    </tr>\n    <tr>\n      <th>11</th>\n      <td>1</td>\n      <td>0</td>\n      <td>0</td>\n      <td>1</td>\n      <td>1</td>\n    </tr>\n    <tr>\n      <th>12</th>\n      <td>2</td>\n      <td>0</td>\n      <td>1</td>\n      <td>1</td>\n      <td>1</td>\n    </tr>\n    <tr>\n      <th>13</th>\n      <td>0</td>\n      <td>1</td>\n      <td>1</td>\n      <td>1</td>\n      <td>1</td>\n    </tr>\n    <tr>\n      <th>14</th>\n      <td>0</td>\n      <td>1</td>\n      <td>0</td>\n      <td>0</td>\n      <td>0</td>\n    </tr>\n  </tbody>\n</table>\n</div>"
     },
     "execution_count": 120,
     "metadata": {},
     "output_type": "execute_result"
    }
   ],
   "source": [
    "t_data"
   ],
   "metadata": {
    "collapsed": false,
    "pycharm": {
     "name": "#%%\n"
    }
   }
  },
  {
   "cell_type": "markdown",
   "source": [
    "## Resultados datos de entrenamiento"
   ],
   "metadata": {
    "collapsed": false,
    "pycharm": {
     "name": "#%% md\n"
    }
   }
  },
  {
   "cell_type": "code",
   "execution_count": 121,
   "outputs": [
    {
     "data": {
      "text/plain": "Paciente\n1     Si\n2     Si\n3     Si\n4     No\n5     No\n6     Si\n7     Si\n8     Si\n9     No\n10    Si\n11    Si\n12    No\n13    Si\n14    Si\nName: Administrar, dtype: object"
     },
     "execution_count": 121,
     "metadata": {},
     "output_type": "execute_result"
    }
   ],
   "source": [
    "t_respuesta"
   ],
   "metadata": {
    "collapsed": false,
    "pycharm": {
     "name": "#%%\n"
    }
   }
  },
  {
   "cell_type": "markdown",
   "source": [
    "## Resultados datos de test"
   ],
   "metadata": {
    "collapsed": false,
    "pycharm": {
     "name": "#%% md\n"
    }
   }
  },
  {
   "cell_type": "code",
   "execution_count": 122,
   "outputs": [
    {
     "data": {
      "text/plain": "array(['Si', 'Si', 'Si'], dtype=object)"
     },
     "execution_count": 122,
     "metadata": {},
     "output_type": "execute_result"
    }
   ],
   "source": [
    "y_respuesta"
   ],
   "metadata": {
    "collapsed": false,
    "pycharm": {
     "name": "#%%\n"
    }
   }
  }
 ]
}