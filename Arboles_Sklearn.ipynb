{
 "nbformat": 4,
 "nbformat_minor": 0,
 "metadata": {
  "colab": {
   "name": "ArbolesP1.ipynb",
   "provenance": [],
   "authorship_tag": "ABX9TyPkqIleCALBW1cvGY3X6MuL"
  },
  "kernelspec": {
   "name": "python3",
   "display_name": "Python 3"
  },
  "language_info": {
   "name": "python"
  }
 },
 "cells": [
  {
   "cell_type": "markdown",
   "source": [
    "# Grupo 3\n",
    "## Bruno Dueñas, Fernando Mejía, Mateo Córdova"
   ],
   "metadata": {
    "collapsed": false,
    "pycharm": {
     "name": "#%% md\n"
    }
   }
  },
  {
   "cell_type": "markdown",
   "source": [
    "## Librerias y datos globales"
   ],
   "metadata": {
    "collapsed": false,
    "pycharm": {
     "name": "#%% md\n"
    }
   }
  },
  {
   "cell_type": "code",
   "execution_count": 1,
   "outputs": [],
   "source": [
    "import numpy as np\n",
    "import pandas as pd\n",
    "from sklearn import tree\n",
    "from sklearn import preprocessing\n",
    "import graphviz\n",
    "#Labels\n",
    "labelsFarmacos = [\"Presion\",\"Azucar\",\"Indice\", \"Alergia\", 'Otras', 'Administrar']\n",
    "labelsWeather = ['Tiempo', 'Temperatura', 'Humedad', 'Viento', 'Juega']\n",
    "#Data\n",
    "farmacos_data = pd.read_csv(\"farmacos.csv\",index_col=0)\n",
    "weather_data = pd.read_csv(\"weather.csv\",index_col=0)\n",
    "farmcos_test = pd.read_csv(\"farmacosTest.csv\", index_col=0)\n",
    "weather_test = pd.read_csv(\"weatherTest.csv\", index_col=0)"
   ],
   "metadata": {
    "collapsed": false,
    "pycharm": {
     "name": "#%%\n"
    }
   }
  },
  {
   "cell_type": "code",
   "execution_count": 2,
   "outputs": [],
   "source": [
    "# Ejercicio 1: Fármacos\n",
    "## Data"
   ],
   "metadata": {
    "collapsed": false,
    "pycharm": {
     "name": "#%% md\n"
    }
   }
  },
  {
   "cell_type": "code",
   "execution_count": 3,
   "outputs": [
    {
     "data": {
      "text/plain": "         Presion Azucar Indice Alergia Otras Administrar\nPaciente                                                \n1           Alta   Alto   Alto      No    No          Si\n2           Alta   Alto   Alto      Si    No          Si\n3           Baja   Alto   Bajo      No    No          Si\n4          Media   Alto   Alto      No    Si          No\n5          Media   Bajo   Alto      Si    Si          No",
      "text/html": "<div>\n<style scoped>\n    .dataframe tbody tr th:only-of-type {\n        vertical-align: middle;\n    }\n\n    .dataframe tbody tr th {\n        vertical-align: top;\n    }\n\n    .dataframe thead th {\n        text-align: right;\n    }\n</style>\n<table border=\"1\" class=\"dataframe\">\n  <thead>\n    <tr style=\"text-align: right;\">\n      <th></th>\n      <th>Presion</th>\n      <th>Azucar</th>\n      <th>Indice</th>\n      <th>Alergia</th>\n      <th>Otras</th>\n      <th>Administrar</th>\n    </tr>\n    <tr>\n      <th>Paciente</th>\n      <th></th>\n      <th></th>\n      <th></th>\n      <th></th>\n      <th></th>\n      <th></th>\n    </tr>\n  </thead>\n  <tbody>\n    <tr>\n      <th>1</th>\n      <td>Alta</td>\n      <td>Alto</td>\n      <td>Alto</td>\n      <td>No</td>\n      <td>No</td>\n      <td>Si</td>\n    </tr>\n    <tr>\n      <th>2</th>\n      <td>Alta</td>\n      <td>Alto</td>\n      <td>Alto</td>\n      <td>Si</td>\n      <td>No</td>\n      <td>Si</td>\n    </tr>\n    <tr>\n      <th>3</th>\n      <td>Baja</td>\n      <td>Alto</td>\n      <td>Bajo</td>\n      <td>No</td>\n      <td>No</td>\n      <td>Si</td>\n    </tr>\n    <tr>\n      <th>4</th>\n      <td>Media</td>\n      <td>Alto</td>\n      <td>Alto</td>\n      <td>No</td>\n      <td>Si</td>\n      <td>No</td>\n    </tr>\n    <tr>\n      <th>5</th>\n      <td>Media</td>\n      <td>Bajo</td>\n      <td>Alto</td>\n      <td>Si</td>\n      <td>Si</td>\n      <td>No</td>\n    </tr>\n  </tbody>\n</table>\n</div>"
     },
     "execution_count": 3,
     "metadata": {},
     "output_type": "execute_result"
    }
   ],
   "source": [
    "farmacos_data.head()"
   ],
   "metadata": {
    "collapsed": false,
    "pycharm": {
     "name": "#%%\n"
    }
   }
  },
  {
   "cell_type": "markdown",
   "source": [
    "# Preprocesamiento de datos automático con librería sklearn"
   ],
   "metadata": {
    "collapsed": false,
    "pycharm": {
     "name": "#%% md\n"
    }
   }
  },
  {
   "cell_type": "code",
   "execution_count": 89,
   "outputs": [],
   "source": [
    "data = pd.DataFrame()\n",
    "le = preprocessing.LabelEncoder()\n",
    "for v in labelsFarmacos:\n",
    "  le.fit(farmacos_data[v])\n",
    "  data[v] = le.transform(farmacos_data[v])\n",
    "#construir el arbol\n",
    "clf = tree.DecisionTreeClassifier(criterion = 'entropy',max_depth=4)\n",
    "t_data = data[data.columns[0:5]]\n",
    "t_respuesta = data[data.columns[5]]\n",
    "#crear el modelo\n",
    "clf = clf.fit(t_data, t_respuesta)"
   ],
   "metadata": {
    "collapsed": false,
    "pycharm": {
     "name": "#%%\n"
    }
   }
  },
  {
   "cell_type": "markdown",
   "source": [
    "## Datos del modelo\n",
    "### t_data"
   ],
   "metadata": {
    "collapsed": false,
    "pycharm": {
     "name": "#%% md\n"
    }
   }
  },
  {
   "cell_type": "code",
   "execution_count": 4,
   "outputs": [
    {
     "data": {
      "text/plain": "    Presion  Azucar  Indice  Alergia  Otras\n0         0       0       0        0      0\n1         0       0       0        1      0\n2         1       0       1        0      0\n3         2       0       0        0      1\n4         2       1       0        1      1\n5         1       1       0        1      1\n6         0       1       0        1      0\n7         0       1       1        0      1\n8         0       0       1        1      1\n9         1       1       0        1      1\n10        2       1       1        1      1\n11        0       1       0        1      1\n12        1       0       0        1      1\n13        1       0       1        0      0",
      "text/html": "<div>\n<style scoped>\n    .dataframe tbody tr th:only-of-type {\n        vertical-align: middle;\n    }\n\n    .dataframe tbody tr th {\n        vertical-align: top;\n    }\n\n    .dataframe thead th {\n        text-align: right;\n    }\n</style>\n<table border=\"1\" class=\"dataframe\">\n  <thead>\n    <tr style=\"text-align: right;\">\n      <th></th>\n      <th>Presion</th>\n      <th>Azucar</th>\n      <th>Indice</th>\n      <th>Alergia</th>\n      <th>Otras</th>\n    </tr>\n  </thead>\n  <tbody>\n    <tr>\n      <th>0</th>\n      <td>0</td>\n      <td>0</td>\n      <td>0</td>\n      <td>0</td>\n      <td>0</td>\n    </tr>\n    <tr>\n      <th>1</th>\n      <td>0</td>\n      <td>0</td>\n      <td>0</td>\n      <td>1</td>\n      <td>0</td>\n    </tr>\n    <tr>\n      <th>2</th>\n      <td>1</td>\n      <td>0</td>\n      <td>1</td>\n      <td>0</td>\n      <td>0</td>\n    </tr>\n    <tr>\n      <th>3</th>\n      <td>2</td>\n      <td>0</td>\n      <td>0</td>\n      <td>0</td>\n      <td>1</td>\n    </tr>\n    <tr>\n      <th>4</th>\n      <td>2</td>\n      <td>1</td>\n      <td>0</td>\n      <td>1</td>\n      <td>1</td>\n    </tr>\n    <tr>\n      <th>5</th>\n      <td>1</td>\n      <td>1</td>\n      <td>0</td>\n      <td>1</td>\n      <td>1</td>\n    </tr>\n    <tr>\n      <th>6</th>\n      <td>0</td>\n      <td>1</td>\n      <td>0</td>\n      <td>1</td>\n      <td>0</td>\n    </tr>\n    <tr>\n      <th>7</th>\n      <td>0</td>\n      <td>1</td>\n      <td>1</td>\n      <td>0</td>\n      <td>1</td>\n    </tr>\n    <tr>\n      <th>8</th>\n      <td>0</td>\n      <td>0</td>\n      <td>1</td>\n      <td>1</td>\n      <td>1</td>\n    </tr>\n    <tr>\n      <th>9</th>\n      <td>1</td>\n      <td>1</td>\n      <td>0</td>\n      <td>1</td>\n      <td>1</td>\n    </tr>\n    <tr>\n      <th>10</th>\n      <td>2</td>\n      <td>1</td>\n      <td>1</td>\n      <td>1</td>\n      <td>1</td>\n    </tr>\n    <tr>\n      <th>11</th>\n      <td>0</td>\n      <td>1</td>\n      <td>0</td>\n      <td>1</td>\n      <td>1</td>\n    </tr>\n    <tr>\n      <th>12</th>\n      <td>1</td>\n      <td>0</td>\n      <td>0</td>\n      <td>1</td>\n      <td>1</td>\n    </tr>\n    <tr>\n      <th>13</th>\n      <td>1</td>\n      <td>0</td>\n      <td>1</td>\n      <td>0</td>\n      <td>0</td>\n    </tr>\n  </tbody>\n</table>\n</div>"
     },
     "execution_count": 4,
     "metadata": {},
     "output_type": "execute_result"
    }
   ],
   "source": [
    "t_data"
   ],
   "metadata": {
    "collapsed": false,
    "pycharm": {
     "name": "#%%\n"
    }
   }
  },
  {
   "cell_type": "markdown",
   "source": [
    "### t_respuesta"
   ],
   "metadata": {
    "collapsed": false,
    "pycharm": {
     "name": "#%% md\n"
    }
   }
  },
  {
   "cell_type": "code",
   "execution_count": 91,
   "outputs": [
    {
     "data": {
      "text/plain": "0     1\n1     1\n2     1\n3     0\n4     0\n5     1\n6     1\n7     1\n8     0\n9     1\n10    1\n11    0\n12    1\n13    1\nName: Administrar, dtype: int32"
     },
     "execution_count": 91,
     "metadata": {},
     "output_type": "execute_result"
    }
   ],
   "source": [
    "t_respuesta"
   ],
   "metadata": {
    "collapsed": false,
    "pycharm": {
     "name": "#%%\n"
    }
   }
  },
  {
   "cell_type": "markdown",
   "source": [
    "### Modelo"
   ],
   "execution_count": 5,
   "outputs": [
    {
     "data": {
      "text/plain": "DecisionTreeClassifier(criterion='entropy', max_depth=4)",
      "text/html": "<style>#sk-container-id-4 {color: black;background-color: white;}#sk-container-id-4 pre{padding: 0;}#sk-container-id-4 div.sk-toggleable {background-color: white;}#sk-container-id-4 label.sk-toggleable__label {cursor: pointer;display: block;width: 100%;margin-bottom: 0;padding: 0.3em;box-sizing: border-box;text-align: center;}#sk-container-id-4 label.sk-toggleable__label-arrow:before {content: \"▸\";float: left;margin-right: 0.25em;color: #696969;}#sk-container-id-4 label.sk-toggleable__label-arrow:hover:before {color: black;}#sk-container-id-4 div.sk-estimator:hover label.sk-toggleable__label-arrow:before {color: black;}#sk-container-id-4 div.sk-toggleable__content {max-height: 0;max-width: 0;overflow: hidden;text-align: left;background-color: #f0f8ff;}#sk-container-id-4 div.sk-toggleable__content pre {margin: 0.2em;color: black;border-radius: 0.25em;background-color: #f0f8ff;}#sk-container-id-4 input.sk-toggleable__control:checked~div.sk-toggleable__content {max-height: 200px;max-width: 100%;overflow: auto;}#sk-container-id-4 input.sk-toggleable__control:checked~label.sk-toggleable__label-arrow:before {content: \"▾\";}#sk-container-id-4 div.sk-estimator input.sk-toggleable__control:checked~label.sk-toggleable__label {background-color: #d4ebff;}#sk-container-id-4 div.sk-label input.sk-toggleable__control:checked~label.sk-toggleable__label {background-color: #d4ebff;}#sk-container-id-4 input.sk-hidden--visually {border: 0;clip: rect(1px 1px 1px 1px);clip: rect(1px, 1px, 1px, 1px);height: 1px;margin: -1px;overflow: hidden;padding: 0;position: absolute;width: 1px;}#sk-container-id-4 div.sk-estimator {font-family: monospace;background-color: #f0f8ff;border: 1px dotted black;border-radius: 0.25em;box-sizing: border-box;margin-bottom: 0.5em;}#sk-container-id-4 div.sk-estimator:hover {background-color: #d4ebff;}#sk-container-id-4 div.sk-parallel-item::after {content: \"\";width: 100%;border-bottom: 1px solid gray;flex-grow: 1;}#sk-container-id-4 div.sk-label:hover label.sk-toggleable__label {background-color: #d4ebff;}#sk-container-id-4 div.sk-serial::before {content: \"\";position: absolute;border-left: 1px solid gray;box-sizing: border-box;top: 0;bottom: 0;left: 50%;z-index: 0;}#sk-container-id-4 div.sk-serial {display: flex;flex-direction: column;align-items: center;background-color: white;padding-right: 0.2em;padding-left: 0.2em;position: relative;}#sk-container-id-4 div.sk-item {position: relative;z-index: 1;}#sk-container-id-4 div.sk-parallel {display: flex;align-items: stretch;justify-content: center;background-color: white;position: relative;}#sk-container-id-4 div.sk-item::before, #sk-container-id-4 div.sk-parallel-item::before {content: \"\";position: absolute;border-left: 1px solid gray;box-sizing: border-box;top: 0;bottom: 0;left: 50%;z-index: -1;}#sk-container-id-4 div.sk-parallel-item {display: flex;flex-direction: column;z-index: 1;position: relative;background-color: white;}#sk-container-id-4 div.sk-parallel-item:first-child::after {align-self: flex-end;width: 50%;}#sk-container-id-4 div.sk-parallel-item:last-child::after {align-self: flex-start;width: 50%;}#sk-container-id-4 div.sk-parallel-item:only-child::after {width: 0;}#sk-container-id-4 div.sk-dashed-wrapped {border: 1px dashed gray;margin: 0 0.4em 0.5em 0.4em;box-sizing: border-box;padding-bottom: 0.4em;background-color: white;}#sk-container-id-4 div.sk-label label {font-family: monospace;font-weight: bold;display: inline-block;line-height: 1.2em;}#sk-container-id-4 div.sk-label-container {text-align: center;}#sk-container-id-4 div.sk-container {/* jupyter's `normalize.less` sets `[hidden] { display: none; }` but bootstrap.min.css set `[hidden] { display: none !important; }` so we also need the `!important` here to be able to override the default hidden behavior on the sphinx rendered scikit-learn.org. See: https://github.com/scikit-learn/scikit-learn/issues/21755 */display: inline-block !important;position: relative;}#sk-container-id-4 div.sk-text-repr-fallback {display: none;}</style><div id=\"sk-container-id-4\" class=\"sk-top-container\"><div class=\"sk-text-repr-fallback\"><pre>DecisionTreeClassifier(criterion=&#x27;entropy&#x27;, max_depth=4)</pre><b>In a Jupyter environment, please rerun this cell to show the HTML representation or trust the notebook. <br />On GitHub, the HTML representation is unable to render, please try loading this page with nbviewer.org.</b></div><div class=\"sk-container\" hidden><div class=\"sk-item\"><div class=\"sk-estimator sk-toggleable\"><input class=\"sk-toggleable__control sk-hidden--visually\" id=\"sk-estimator-id-4\" type=\"checkbox\" checked><label for=\"sk-estimator-id-4\" class=\"sk-toggleable__label sk-toggleable__label-arrow\">DecisionTreeClassifier</label><div class=\"sk-toggleable__content\"><pre>DecisionTreeClassifier(criterion=&#x27;entropy&#x27;, max_depth=4)</pre></div></div></div></div></div>"
     },
     "execution_count": 5,
     "metadata": {},
     "output_type": "execute_result"
    }
   ],
   "source": [
    "clf"
   ],
   "metadata": {
    "collapsed": false,
    "pycharm": {
     "name": "#%%\n"
    }
   }
  },
  {
   "cell_type": "markdown",
   "source": [
    "# Graficar el árbol"
   ],
   "metadata": {
    "collapsed": false,
    "pycharm": {
     "name": "#%% md\n"
    }
   }
  },
  {
   "cell_type": "code",
   "metadata": {
    "colab": {
     "base_uri": "https://localhost:8080/",
     "height": 440
    },
    "id": "otgLSob9MPKm",
    "executionInfo": {
     "status": "ok",
     "timestamp": 1625531290204,
     "user_tz": 300,
     "elapsed": 339,
     "user": {
      "displayName": "bernarda sandoval",
      "photoUrl": "",
      "userId": "13411305394088946203"
     }
    },
    "outputId": "5f88d2b6-369a-4187-aaa5-f68f68aca7cd",
    "pycharm": {
     "name": "#%%\n"
    }
   },
   "source": [
    "dot_data = tree.export_graphviz(clf, out_file = None,\n",
    "                                feature_names = list(t_data.columns.values),\n",
    "                                class_names = [\"Si toma\",\"No toma\"],\n",
    "                                filled = True, rounded = True, special_characters = True)\n",
    "graph = graphviz.Source(dot_data)\n",
    "graph"
   ],
   "execution_count": 6,
   "outputs": [
    {
     "data": {
      "image/svg+xml": "<?xml version=\"1.0\" encoding=\"UTF-8\" standalone=\"no\"?>\n<!DOCTYPE svg PUBLIC \"-//W3C//DTD SVG 1.1//EN\"\n \"http://www.w3.org/Graphics/SVG/1.1/DTD/svg11.dtd\">\n<!-- Generated by graphviz version 4.0.0 (20220529.0937)\n -->\n<!-- Title: Tree Pages: 1 -->\n<svg width=\"529pt\" height=\"552pt\"\n viewBox=\"0.00 0.00 529.00 552.00\" xmlns=\"http://www.w3.org/2000/svg\" xmlns:xlink=\"http://www.w3.org/1999/xlink\">\n<g id=\"graph0\" class=\"graph\" transform=\"scale(1 1) rotate(0) translate(4 548)\">\n<title>Tree</title>\n<polygon fill=\"white\" stroke=\"transparent\" points=\"-4,4 -4,-548 525,-548 525,4 -4,4\"/>\n<!-- 0 -->\n<g id=\"node1\" class=\"node\">\n<title>0</title>\n<path fill=\"#a7d3f3\" stroke=\"black\" d=\"M374,-544C374,-544 285,-544 285,-544 279,-544 273,-538 273,-532 273,-532 273,-473 273,-473 273,-467 279,-461 285,-461 285,-461 374,-461 374,-461 380,-461 386,-467 386,-473 386,-473 386,-532 386,-532 386,-538 380,-544 374,-544\"/>\n<text text-anchor=\"start\" x=\"287\" y=\"-528.8\" font-family=\"Helvetica,sans-Serif\" font-size=\"14.00\">Presion ≤ 1.5</text>\n<text text-anchor=\"start\" x=\"283.5\" y=\"-513.8\" font-family=\"Helvetica,sans-Serif\" font-size=\"14.00\">entropy = 0.94</text>\n<text text-anchor=\"start\" x=\"286\" y=\"-498.8\" font-family=\"Helvetica,sans-Serif\" font-size=\"14.00\">samples = 14</text>\n<text text-anchor=\"start\" x=\"289\" y=\"-483.8\" font-family=\"Helvetica,sans-Serif\" font-size=\"14.00\">value = [5, 9]</text>\n<text text-anchor=\"start\" x=\"281\" y=\"-468.8\" font-family=\"Helvetica,sans-Serif\" font-size=\"14.00\">class = Si toma</text>\n</g>\n<!-- 1 -->\n<g id=\"node2\" class=\"node\">\n<title>1</title>\n<path fill=\"#deeffb\" stroke=\"black\" d=\"M309.5,-425C309.5,-425 217.5,-425 217.5,-425 211.5,-425 205.5,-419 205.5,-413 205.5,-413 205.5,-354 205.5,-354 205.5,-348 211.5,-342 217.5,-342 217.5,-342 309.5,-342 309.5,-342 315.5,-342 321.5,-348 321.5,-354 321.5,-354 321.5,-413 321.5,-413 321.5,-419 315.5,-425 309.5,-425\"/>\n<text text-anchor=\"start\" x=\"224\" y=\"-409.8\" font-family=\"Helvetica,sans-Serif\" font-size=\"14.00\">Azucar ≤ 0.5</text>\n<text text-anchor=\"start\" x=\"213.5\" y=\"-394.8\" font-family=\"Helvetica,sans-Serif\" font-size=\"14.00\">entropy = 0.994</text>\n<text text-anchor=\"start\" x=\"220\" y=\"-379.8\" font-family=\"Helvetica,sans-Serif\" font-size=\"14.00\">samples = 11</text>\n<text text-anchor=\"start\" x=\"223\" y=\"-364.8\" font-family=\"Helvetica,sans-Serif\" font-size=\"14.00\">value = [5, 6]</text>\n<text text-anchor=\"start\" x=\"215\" y=\"-349.8\" font-family=\"Helvetica,sans-Serif\" font-size=\"14.00\">class = Si toma</text>\n</g>\n<!-- 0&#45;&gt;1 -->\n<g id=\"edge1\" class=\"edge\">\n<title>0&#45;&gt;1</title>\n<path fill=\"none\" stroke=\"black\" d=\"M306.6,-460.91C301.69,-452.2 296.44,-442.9 291.36,-433.89\"/>\n<polygon fill=\"black\" stroke=\"black\" points=\"294.32,-432.01 286.36,-425.02 288.22,-435.45 294.32,-432.01\"/>\n<text text-anchor=\"middle\" x=\"279.65\" y=\"-445.4\" font-family=\"Helvetica,sans-Serif\" font-size=\"14.00\">True</text>\n</g>\n<!-- 12 -->\n<g id=\"node13\" class=\"node\">\n<title>12</title>\n<path fill=\"#399de5\" stroke=\"black\" d=\"M441,-417.5C441,-417.5 352,-417.5 352,-417.5 346,-417.5 340,-411.5 340,-405.5 340,-405.5 340,-361.5 340,-361.5 340,-355.5 346,-349.5 352,-349.5 352,-349.5 441,-349.5 441,-349.5 447,-349.5 453,-355.5 453,-361.5 453,-361.5 453,-405.5 453,-405.5 453,-411.5 447,-417.5 441,-417.5\"/>\n<text text-anchor=\"start\" x=\"354.5\" y=\"-402.3\" font-family=\"Helvetica,sans-Serif\" font-size=\"14.00\">entropy = 0.0</text>\n<text text-anchor=\"start\" x=\"357\" y=\"-387.3\" font-family=\"Helvetica,sans-Serif\" font-size=\"14.00\">samples = 3</text>\n<text text-anchor=\"start\" x=\"356\" y=\"-372.3\" font-family=\"Helvetica,sans-Serif\" font-size=\"14.00\">value = [0, 3]</text>\n<text text-anchor=\"start\" x=\"348\" y=\"-357.3\" font-family=\"Helvetica,sans-Serif\" font-size=\"14.00\">class = Si toma</text>\n</g>\n<!-- 0&#45;&gt;12 -->\n<g id=\"edge12\" class=\"edge\">\n<title>0&#45;&gt;12</title>\n<path fill=\"none\" stroke=\"black\" d=\"M352.75,-460.91C359.13,-449.76 366.06,-437.66 372.48,-426.44\"/>\n<polygon fill=\"black\" stroke=\"black\" points=\"375.57,-428.08 377.51,-417.67 369.5,-424.61 375.57,-428.08\"/>\n<text text-anchor=\"middle\" x=\"384.06\" y=\"-438.09\" font-family=\"Helvetica,sans-Serif\" font-size=\"14.00\">False</text>\n</g>\n<!-- 2 -->\n<g id=\"node3\" class=\"node\">\n<title>2</title>\n<path fill=\"#f2c09c\" stroke=\"black\" d=\"M243,-306C243,-306 148,-306 148,-306 142,-306 136,-300 136,-294 136,-294 136,-235 136,-235 136,-229 142,-223 148,-223 148,-223 243,-223 243,-223 249,-223 255,-229 255,-235 255,-235 255,-294 255,-294 255,-300 249,-306 243,-306\"/>\n<text text-anchor=\"start\" x=\"155.5\" y=\"-290.8\" font-family=\"Helvetica,sans-Serif\" font-size=\"14.00\">Alergia ≤ 0.5</text>\n<text text-anchor=\"start\" x=\"145.5\" y=\"-275.8\" font-family=\"Helvetica,sans-Serif\" font-size=\"14.00\">entropy = 0.918</text>\n<text text-anchor=\"start\" x=\"156\" y=\"-260.8\" font-family=\"Helvetica,sans-Serif\" font-size=\"14.00\">samples = 6</text>\n<text text-anchor=\"start\" x=\"155\" y=\"-245.8\" font-family=\"Helvetica,sans-Serif\" font-size=\"14.00\">value = [4, 2]</text>\n<text text-anchor=\"start\" x=\"144\" y=\"-230.8\" font-family=\"Helvetica,sans-Serif\" font-size=\"14.00\">class = No toma</text>\n</g>\n<!-- 1&#45;&gt;2 -->\n<g id=\"edge2\" class=\"edge\">\n<title>1&#45;&gt;2</title>\n<path fill=\"none\" stroke=\"black\" d=\"M239.91,-341.91C234.84,-333.2 229.44,-323.9 224.21,-314.89\"/>\n<polygon fill=\"black\" stroke=\"black\" points=\"227.1,-312.91 219.05,-306.02 221.05,-316.43 227.1,-312.91\"/>\n</g>\n<!-- 7 -->\n<g id=\"node8\" class=\"node\">\n<title>7</title>\n<path fill=\"#6ab6ec\" stroke=\"black\" d=\"M377.5,-306C377.5,-306 285.5,-306 285.5,-306 279.5,-306 273.5,-300 273.5,-294 273.5,-294 273.5,-235 273.5,-235 273.5,-229 279.5,-223 285.5,-223 285.5,-223 377.5,-223 377.5,-223 383.5,-223 389.5,-229 389.5,-235 389.5,-235 389.5,-294 389.5,-294 389.5,-300 383.5,-306 377.5,-306\"/>\n<text text-anchor=\"start\" x=\"289\" y=\"-290.8\" font-family=\"Helvetica,sans-Serif\" font-size=\"14.00\">Presion ≤ 0.5</text>\n<text text-anchor=\"start\" x=\"281.5\" y=\"-275.8\" font-family=\"Helvetica,sans-Serif\" font-size=\"14.00\">entropy = 0.722</text>\n<text text-anchor=\"start\" x=\"292\" y=\"-260.8\" font-family=\"Helvetica,sans-Serif\" font-size=\"14.00\">samples = 5</text>\n<text text-anchor=\"start\" x=\"291\" y=\"-245.8\" font-family=\"Helvetica,sans-Serif\" font-size=\"14.00\">value = [1, 4]</text>\n<text text-anchor=\"start\" x=\"283\" y=\"-230.8\" font-family=\"Helvetica,sans-Serif\" font-size=\"14.00\">class = Si toma</text>\n</g>\n<!-- 1&#45;&gt;7 -->\n<g id=\"edge7\" class=\"edge\">\n<title>1&#45;&gt;7</title>\n<path fill=\"none\" stroke=\"black\" d=\"M287.09,-341.91C292.16,-333.2 297.56,-323.9 302.79,-314.89\"/>\n<polygon fill=\"black\" stroke=\"black\" points=\"305.95,-316.43 307.95,-306.02 299.9,-312.91 305.95,-316.43\"/>\n</g>\n<!-- 3 -->\n<g id=\"node4\" class=\"node\">\n<title>3</title>\n<path fill=\"#e58139\" stroke=\"black\" d=\"M107,-179.5C107,-179.5 12,-179.5 12,-179.5 6,-179.5 0,-173.5 0,-167.5 0,-167.5 0,-123.5 0,-123.5 0,-117.5 6,-111.5 12,-111.5 12,-111.5 107,-111.5 107,-111.5 113,-111.5 119,-117.5 119,-123.5 119,-123.5 119,-167.5 119,-167.5 119,-173.5 113,-179.5 107,-179.5\"/>\n<text text-anchor=\"start\" x=\"17.5\" y=\"-164.3\" font-family=\"Helvetica,sans-Serif\" font-size=\"14.00\">entropy = 0.0</text>\n<text text-anchor=\"start\" x=\"20\" y=\"-149.3\" font-family=\"Helvetica,sans-Serif\" font-size=\"14.00\">samples = 3</text>\n<text text-anchor=\"start\" x=\"19\" y=\"-134.3\" font-family=\"Helvetica,sans-Serif\" font-size=\"14.00\">value = [3, 0]</text>\n<text text-anchor=\"start\" x=\"8\" y=\"-119.3\" font-family=\"Helvetica,sans-Serif\" font-size=\"14.00\">class = No toma</text>\n</g>\n<!-- 2&#45;&gt;3 -->\n<g id=\"edge3\" class=\"edge\">\n<title>2&#45;&gt;3</title>\n<path fill=\"none\" stroke=\"black\" d=\"M148.32,-222.91C134.59,-211.1 119.61,-198.22 105.94,-186.45\"/>\n<polygon fill=\"black\" stroke=\"black\" points=\"107.92,-183.54 98.05,-179.67 103.35,-188.84 107.92,-183.54\"/>\n</g>\n<!-- 4 -->\n<g id=\"node5\" class=\"node\">\n<title>4</title>\n<path fill=\"#9ccef2\" stroke=\"black\" d=\"M241.5,-187C241.5,-187 149.5,-187 149.5,-187 143.5,-187 137.5,-181 137.5,-175 137.5,-175 137.5,-116 137.5,-116 137.5,-110 143.5,-104 149.5,-104 149.5,-104 241.5,-104 241.5,-104 247.5,-104 253.5,-110 253.5,-116 253.5,-116 253.5,-175 253.5,-175 253.5,-181 247.5,-187 241.5,-187\"/>\n<text text-anchor=\"start\" x=\"153\" y=\"-171.8\" font-family=\"Helvetica,sans-Serif\" font-size=\"14.00\">Presion ≤ 0.5</text>\n<text text-anchor=\"start\" x=\"145.5\" y=\"-156.8\" font-family=\"Helvetica,sans-Serif\" font-size=\"14.00\">entropy = 0.918</text>\n<text text-anchor=\"start\" x=\"156\" y=\"-141.8\" font-family=\"Helvetica,sans-Serif\" font-size=\"14.00\">samples = 3</text>\n<text text-anchor=\"start\" x=\"155\" y=\"-126.8\" font-family=\"Helvetica,sans-Serif\" font-size=\"14.00\">value = [1, 2]</text>\n<text text-anchor=\"start\" x=\"147\" y=\"-111.8\" font-family=\"Helvetica,sans-Serif\" font-size=\"14.00\">class = Si toma</text>\n</g>\n<!-- 2&#45;&gt;4 -->\n<g id=\"edge4\" class=\"edge\">\n<title>2&#45;&gt;4</title>\n<path fill=\"none\" stroke=\"black\" d=\"M195.5,-222.91C195.5,-214.65 195.5,-205.86 195.5,-197.3\"/>\n<polygon fill=\"black\" stroke=\"black\" points=\"199,-197.02 195.5,-187.02 192,-197.02 199,-197.02\"/>\n</g>\n<!-- 5 -->\n<g id=\"node6\" class=\"node\">\n<title>5</title>\n<path fill=\"#ffffff\" stroke=\"black\" d=\"M109,-68C109,-68 14,-68 14,-68 8,-68 2,-62 2,-56 2,-56 2,-12 2,-12 2,-6 8,0 14,0 14,0 109,0 109,0 115,0 121,-6 121,-12 121,-12 121,-56 121,-56 121,-62 115,-68 109,-68\"/>\n<text text-anchor=\"start\" x=\"19.5\" y=\"-52.8\" font-family=\"Helvetica,sans-Serif\" font-size=\"14.00\">entropy = 1.0</text>\n<text text-anchor=\"start\" x=\"22\" y=\"-37.8\" font-family=\"Helvetica,sans-Serif\" font-size=\"14.00\">samples = 2</text>\n<text text-anchor=\"start\" x=\"21\" y=\"-22.8\" font-family=\"Helvetica,sans-Serif\" font-size=\"14.00\">value = [1, 1]</text>\n<text text-anchor=\"start\" x=\"10\" y=\"-7.8\" font-family=\"Helvetica,sans-Serif\" font-size=\"14.00\">class = No toma</text>\n</g>\n<!-- 4&#45;&gt;5 -->\n<g id=\"edge5\" class=\"edge\">\n<title>4&#45;&gt;5</title>\n<path fill=\"none\" stroke=\"black\" d=\"M145.6,-103.73C134,-94.24 121.65,-84.16 110.1,-74.72\"/>\n<polygon fill=\"black\" stroke=\"black\" points=\"112.21,-71.92 102.25,-68.3 107.78,-77.34 112.21,-71.92\"/>\n</g>\n<!-- 6 -->\n<g id=\"node7\" class=\"node\">\n<title>6</title>\n<path fill=\"#399de5\" stroke=\"black\" d=\"M240,-68C240,-68 151,-68 151,-68 145,-68 139,-62 139,-56 139,-56 139,-12 139,-12 139,-6 145,0 151,0 151,0 240,0 240,0 246,0 252,-6 252,-12 252,-12 252,-56 252,-56 252,-62 246,-68 240,-68\"/>\n<text text-anchor=\"start\" x=\"153.5\" y=\"-52.8\" font-family=\"Helvetica,sans-Serif\" font-size=\"14.00\">entropy = 0.0</text>\n<text text-anchor=\"start\" x=\"156\" y=\"-37.8\" font-family=\"Helvetica,sans-Serif\" font-size=\"14.00\">samples = 1</text>\n<text text-anchor=\"start\" x=\"155\" y=\"-22.8\" font-family=\"Helvetica,sans-Serif\" font-size=\"14.00\">value = [0, 1]</text>\n<text text-anchor=\"start\" x=\"147\" y=\"-7.8\" font-family=\"Helvetica,sans-Serif\" font-size=\"14.00\">class = Si toma</text>\n</g>\n<!-- 4&#45;&gt;6 -->\n<g id=\"edge6\" class=\"edge\">\n<title>4&#45;&gt;6</title>\n<path fill=\"none\" stroke=\"black\" d=\"M195.5,-103.73C195.5,-95.52 195.5,-86.86 195.5,-78.56\"/>\n<polygon fill=\"black\" stroke=\"black\" points=\"199,-78.3 195.5,-68.3 192,-78.3 199,-78.3\"/>\n</g>\n<!-- 8 -->\n<g id=\"node9\" class=\"node\">\n<title>8</title>\n<path fill=\"#9ccef2\" stroke=\"black\" d=\"M377.5,-187C377.5,-187 285.5,-187 285.5,-187 279.5,-187 273.5,-181 273.5,-175 273.5,-175 273.5,-116 273.5,-116 273.5,-110 279.5,-104 285.5,-104 285.5,-104 377.5,-104 377.5,-104 383.5,-104 389.5,-110 389.5,-116 389.5,-116 389.5,-175 389.5,-175 389.5,-181 383.5,-187 377.5,-187\"/>\n<text text-anchor=\"start\" x=\"294\" y=\"-171.8\" font-family=\"Helvetica,sans-Serif\" font-size=\"14.00\">Indice ≤ 0.5</text>\n<text text-anchor=\"start\" x=\"281.5\" y=\"-156.8\" font-family=\"Helvetica,sans-Serif\" font-size=\"14.00\">entropy = 0.918</text>\n<text text-anchor=\"start\" x=\"292\" y=\"-141.8\" font-family=\"Helvetica,sans-Serif\" font-size=\"14.00\">samples = 3</text>\n<text text-anchor=\"start\" x=\"291\" y=\"-126.8\" font-family=\"Helvetica,sans-Serif\" font-size=\"14.00\">value = [1, 2]</text>\n<text text-anchor=\"start\" x=\"283\" y=\"-111.8\" font-family=\"Helvetica,sans-Serif\" font-size=\"14.00\">class = Si toma</text>\n</g>\n<!-- 7&#45;&gt;8 -->\n<g id=\"edge8\" class=\"edge\">\n<title>7&#45;&gt;8</title>\n<path fill=\"none\" stroke=\"black\" d=\"M331.5,-222.91C331.5,-214.65 331.5,-205.86 331.5,-197.3\"/>\n<polygon fill=\"black\" stroke=\"black\" points=\"335,-197.02 331.5,-187.02 328,-197.02 335,-197.02\"/>\n</g>\n<!-- 11 -->\n<g id=\"node12\" class=\"node\">\n<title>11</title>\n<path fill=\"#399de5\" stroke=\"black\" d=\"M509,-179.5C509,-179.5 420,-179.5 420,-179.5 414,-179.5 408,-173.5 408,-167.5 408,-167.5 408,-123.5 408,-123.5 408,-117.5 414,-111.5 420,-111.5 420,-111.5 509,-111.5 509,-111.5 515,-111.5 521,-117.5 521,-123.5 521,-123.5 521,-167.5 521,-167.5 521,-173.5 515,-179.5 509,-179.5\"/>\n<text text-anchor=\"start\" x=\"422.5\" y=\"-164.3\" font-family=\"Helvetica,sans-Serif\" font-size=\"14.00\">entropy = 0.0</text>\n<text text-anchor=\"start\" x=\"425\" y=\"-149.3\" font-family=\"Helvetica,sans-Serif\" font-size=\"14.00\">samples = 2</text>\n<text text-anchor=\"start\" x=\"424\" y=\"-134.3\" font-family=\"Helvetica,sans-Serif\" font-size=\"14.00\">value = [0, 2]</text>\n<text text-anchor=\"start\" x=\"416\" y=\"-119.3\" font-family=\"Helvetica,sans-Serif\" font-size=\"14.00\">class = Si toma</text>\n</g>\n<!-- 7&#45;&gt;11 -->\n<g id=\"edge11\" class=\"edge\">\n<title>7&#45;&gt;11</title>\n<path fill=\"none\" stroke=\"black\" d=\"M377.64,-222.91C391.07,-211.1 405.71,-198.22 419.09,-186.45\"/>\n<polygon fill=\"black\" stroke=\"black\" points=\"421.6,-188.9 426.8,-179.67 416.98,-183.64 421.6,-188.9\"/>\n</g>\n<!-- 9 -->\n<g id=\"node10\" class=\"node\">\n<title>9</title>\n<path fill=\"#ffffff\" stroke=\"black\" d=\"M378,-68C378,-68 283,-68 283,-68 277,-68 271,-62 271,-56 271,-56 271,-12 271,-12 271,-6 277,0 283,0 283,0 378,0 378,0 384,0 390,-6 390,-12 390,-12 390,-56 390,-56 390,-62 384,-68 378,-68\"/>\n<text text-anchor=\"start\" x=\"288.5\" y=\"-52.8\" font-family=\"Helvetica,sans-Serif\" font-size=\"14.00\">entropy = 1.0</text>\n<text text-anchor=\"start\" x=\"291\" y=\"-37.8\" font-family=\"Helvetica,sans-Serif\" font-size=\"14.00\">samples = 2</text>\n<text text-anchor=\"start\" x=\"290\" y=\"-22.8\" font-family=\"Helvetica,sans-Serif\" font-size=\"14.00\">value = [1, 1]</text>\n<text text-anchor=\"start\" x=\"279\" y=\"-7.8\" font-family=\"Helvetica,sans-Serif\" font-size=\"14.00\">class = No toma</text>\n</g>\n<!-- 8&#45;&gt;9 -->\n<g id=\"edge9\" class=\"edge\">\n<title>8&#45;&gt;9</title>\n<path fill=\"none\" stroke=\"black\" d=\"M331.13,-103.73C331.05,-95.52 330.97,-86.86 330.9,-78.56\"/>\n<polygon fill=\"black\" stroke=\"black\" points=\"334.4,-78.27 330.8,-68.3 327.4,-78.33 334.4,-78.27\"/>\n</g>\n<!-- 10 -->\n<g id=\"node11\" class=\"node\">\n<title>10</title>\n<path fill=\"#399de5\" stroke=\"black\" d=\"M509,-68C509,-68 420,-68 420,-68 414,-68 408,-62 408,-56 408,-56 408,-12 408,-12 408,-6 414,0 420,0 420,0 509,0 509,0 515,0 521,-6 521,-12 521,-12 521,-56 521,-56 521,-62 515,-68 509,-68\"/>\n<text text-anchor=\"start\" x=\"422.5\" y=\"-52.8\" font-family=\"Helvetica,sans-Serif\" font-size=\"14.00\">entropy = 0.0</text>\n<text text-anchor=\"start\" x=\"425\" y=\"-37.8\" font-family=\"Helvetica,sans-Serif\" font-size=\"14.00\">samples = 1</text>\n<text text-anchor=\"start\" x=\"424\" y=\"-22.8\" font-family=\"Helvetica,sans-Serif\" font-size=\"14.00\">value = [0, 1]</text>\n<text text-anchor=\"start\" x=\"416\" y=\"-7.8\" font-family=\"Helvetica,sans-Serif\" font-size=\"14.00\">class = Si toma</text>\n</g>\n<!-- 8&#45;&gt;10 -->\n<g id=\"edge10\" class=\"edge\">\n<title>8&#45;&gt;10</title>\n<path fill=\"none\" stroke=\"black\" d=\"M381.02,-103.73C392.55,-94.24 404.8,-84.16 416.26,-74.72\"/>\n<polygon fill=\"black\" stroke=\"black\" points=\"418.56,-77.36 424.05,-68.3 414.11,-71.95 418.56,-77.36\"/>\n</g>\n</g>\n</svg>\n",
      "text/plain": "<graphviz.sources.Source at 0x1c18b3d4f40>"
     },
     "execution_count": 6,
     "metadata": {},
     "output_type": "execute_result"
    }
   ]
  },
  {
   "cell_type": "markdown",
   "source": [
    "## Test del modelo automático\n",
    "### Sacar la data del csv de pruebas con sklearn prepocessing"
   ],
   "metadata": {
    "collapsed": false,
    "pycharm": {
     "name": "#%% md\n"
    }
   }
  },
  {
   "cell_type": "code",
   "execution_count": 94,
   "outputs": [],
   "source": [
    "farmcos_test = pd.read_csv(\"farmacosTest.csv\", index_col=0)\n",
    "data_test = pd.DataFrame()\n",
    "le = preprocessing.LabelEncoder()\n",
    "for v in labelsFarmacos:\n",
    "    le.fit(farmcos_test[v])\n",
    "    data_test[v] = le.transform(farmcos_test[v])\n",
    "x_test = data_test[data_test.columns[0:5]]"
   ],
   "metadata": {
    "collapsed": false,
    "pycharm": {
     "name": "#%%\n"
    }
   }
  },
  {
   "cell_type": "markdown",
   "source": [
    "# Prediccion"
   ],
   "metadata": {
    "collapsed": false,
    "pycharm": {
     "name": "#%% md\n"
    }
   }
  },
  {
   "cell_type": "code",
   "execution_count": 95,
   "outputs": [],
   "source": [
    "y_respuesta = clf.predict(x_test)"
   ],
   "metadata": {
    "collapsed": false,
    "pycharm": {
     "name": "#%%\n"
    }
   }
  },
  {
   "cell_type": "markdown",
   "source": [
    "## Datos"
   ],
   "execution_count": 7,
   "outputs": [
    {
     "data": {
      "image/svg+xml": "<?xml version=\"1.0\" encoding=\"UTF-8\" standalone=\"no\"?>\n<!DOCTYPE svg PUBLIC \"-//W3C//DTD SVG 1.1//EN\"\n \"http://www.w3.org/Graphics/SVG/1.1/DTD/svg11.dtd\">\n<!-- Generated by graphviz version 4.0.0 (20220529.0937)\n -->\n<!-- Title: Tree Pages: 1 -->\n<svg width=\"1060pt\" height=\"552pt\"\n viewBox=\"0.00 0.00 1060.00 552.00\" xmlns=\"http://www.w3.org/2000/svg\" xmlns:xlink=\"http://www.w3.org/1999/xlink\">\n<g id=\"graph0\" class=\"graph\" transform=\"scale(1 1) rotate(0) translate(4 548)\">\n<title>Tree</title>\n<polygon fill=\"white\" stroke=\"transparent\" points=\"-4,4 -4,-548 1056,-548 1056,4 -4,4\"/>\n<!-- 0 -->\n<g id=\"node1\" class=\"node\">\n<title>0</title>\n<path fill=\"#a7d3f3\" stroke=\"black\" d=\"M390,-544C390,-544 262,-544 262,-544 256,-544 250,-538 250,-532 250,-532 250,-473 250,-473 250,-467 256,-461 262,-461 262,-461 390,-461 390,-461 396,-461 402,-467 402,-473 402,-473 402,-532 402,-532 402,-538 396,-544 390,-544\"/>\n<text text-anchor=\"start\" x=\"286.5\" y=\"-528.8\" font-family=\"Helvetica,sans-Serif\" font-size=\"14.00\">Azucar ≤ 0.5</text>\n<text text-anchor=\"start\" x=\"280\" y=\"-513.8\" font-family=\"Helvetica,sans-Serif\" font-size=\"14.00\">entropy = 0.94</text>\n<text text-anchor=\"start\" x=\"282.5\" y=\"-498.8\" font-family=\"Helvetica,sans-Serif\" font-size=\"14.00\">samples = 14</text>\n<text text-anchor=\"start\" x=\"285.5\" y=\"-483.8\" font-family=\"Helvetica,sans-Serif\" font-size=\"14.00\">value = [5, 9]</text>\n<text text-anchor=\"start\" x=\"258\" y=\"-468.8\" font-family=\"Helvetica,sans-Serif\" font-size=\"14.00\">class = No administra</text>\n</g>\n<!-- 1 -->\n<g id=\"node2\" class=\"node\">\n<title>1</title>\n<path fill=\"#5aade9\" stroke=\"black\" d=\"M310,-425C310,-425 182,-425 182,-425 176,-425 170,-419 170,-413 170,-413 170,-354 170,-354 170,-348 176,-342 182,-342 182,-342 310,-342 310,-342 316,-342 322,-348 322,-354 322,-354 322,-413 322,-413 322,-419 316,-425 310,-425\"/>\n<text text-anchor=\"start\" x=\"203.5\" y=\"-409.8\" font-family=\"Helvetica,sans-Serif\" font-size=\"14.00\">Presion ≤ 1.5</text>\n<text text-anchor=\"start\" x=\"196\" y=\"-394.8\" font-family=\"Helvetica,sans-Serif\" font-size=\"14.00\">entropy = 0.592</text>\n<text text-anchor=\"start\" x=\"206.5\" y=\"-379.8\" font-family=\"Helvetica,sans-Serif\" font-size=\"14.00\">samples = 7</text>\n<text text-anchor=\"start\" x=\"205.5\" y=\"-364.8\" font-family=\"Helvetica,sans-Serif\" font-size=\"14.00\">value = [1, 6]</text>\n<text text-anchor=\"start\" x=\"178\" y=\"-349.8\" font-family=\"Helvetica,sans-Serif\" font-size=\"14.00\">class = No administra</text>\n</g>\n<!-- 0&#45;&gt;1 -->\n<g id=\"edge1\" class=\"edge\">\n<title>0&#45;&gt;1</title>\n<path fill=\"none\" stroke=\"black\" d=\"M298.24,-460.91C292.16,-452.01 285.66,-442.51 279.39,-433.33\"/>\n<polygon fill=\"black\" stroke=\"black\" points=\"282.24,-431.3 273.71,-425.02 276.46,-435.25 282.24,-431.3\"/>\n<text text-anchor=\"middle\" x=\"269.09\" y=\"-445.89\" font-family=\"Helvetica,sans-Serif\" font-size=\"14.00\">True</text>\n</g>\n<!-- 6 -->\n<g id=\"node7\" class=\"node\">\n<title>6</title>\n<path fill=\"#f8e0ce\" stroke=\"black\" d=\"M530,-425C530,-425 422,-425 422,-425 416,-425 410,-419 410,-413 410,-413 410,-354 410,-354 410,-348 416,-342 422,-342 422,-342 530,-342 530,-342 536,-342 542,-348 542,-354 542,-354 542,-413 542,-413 542,-419 536,-425 530,-425\"/>\n<text text-anchor=\"start\" x=\"436\" y=\"-409.8\" font-family=\"Helvetica,sans-Serif\" font-size=\"14.00\">Alergia ≤ 0.5</text>\n<text text-anchor=\"start\" x=\"426\" y=\"-394.8\" font-family=\"Helvetica,sans-Serif\" font-size=\"14.00\">entropy = 0.985</text>\n<text text-anchor=\"start\" x=\"436.5\" y=\"-379.8\" font-family=\"Helvetica,sans-Serif\" font-size=\"14.00\">samples = 7</text>\n<text text-anchor=\"start\" x=\"435.5\" y=\"-364.8\" font-family=\"Helvetica,sans-Serif\" font-size=\"14.00\">value = [4, 3]</text>\n<text text-anchor=\"start\" x=\"418\" y=\"-349.8\" font-family=\"Helvetica,sans-Serif\" font-size=\"14.00\">class = Administra</text>\n</g>\n<!-- 0&#45;&gt;6 -->\n<g id=\"edge6\" class=\"edge\">\n<title>0&#45;&gt;6</title>\n<path fill=\"none\" stroke=\"black\" d=\"M378.04,-460.91C390.26,-451.38 403.37,-441.15 415.91,-431.37\"/>\n<polygon fill=\"black\" stroke=\"black\" points=\"418.32,-433.93 424.05,-425.02 414.01,-428.41 418.32,-433.93\"/>\n<text text-anchor=\"middle\" x=\"420.98\" y=\"-446.13\" font-family=\"Helvetica,sans-Serif\" font-size=\"14.00\">False</text>\n</g>\n<!-- 2 -->\n<g id=\"node3\" class=\"node\">\n<title>2</title>\n<path fill=\"#399de5\" stroke=\"black\" d=\"M140,-298.5C140,-298.5 12,-298.5 12,-298.5 6,-298.5 0,-292.5 0,-286.5 0,-286.5 0,-242.5 0,-242.5 0,-236.5 6,-230.5 12,-230.5 12,-230.5 140,-230.5 140,-230.5 146,-230.5 152,-236.5 152,-242.5 152,-242.5 152,-286.5 152,-286.5 152,-292.5 146,-298.5 140,-298.5\"/>\n<text text-anchor=\"start\" x=\"34\" y=\"-283.3\" font-family=\"Helvetica,sans-Serif\" font-size=\"14.00\">entropy = 0.0</text>\n<text text-anchor=\"start\" x=\"36.5\" y=\"-268.3\" font-family=\"Helvetica,sans-Serif\" font-size=\"14.00\">samples = 4</text>\n<text text-anchor=\"start\" x=\"35.5\" y=\"-253.3\" font-family=\"Helvetica,sans-Serif\" font-size=\"14.00\">value = [0, 4]</text>\n<text text-anchor=\"start\" x=\"8\" y=\"-238.3\" font-family=\"Helvetica,sans-Serif\" font-size=\"14.00\">class = No administra</text>\n</g>\n<!-- 1&#45;&gt;2 -->\n<g id=\"edge2\" class=\"edge\">\n<title>1&#45;&gt;2</title>\n<path fill=\"none\" stroke=\"black\" d=\"M187.02,-341.91C169.38,-329.77 150.09,-316.49 132.61,-304.46\"/>\n<polygon fill=\"black\" stroke=\"black\" points=\"134.41,-301.45 124.19,-298.67 130.44,-307.22 134.41,-301.45\"/>\n</g>\n<!-- 3 -->\n<g id=\"node4\" class=\"node\">\n<title>3</title>\n<path fill=\"#9ccef2\" stroke=\"black\" d=\"M310,-306C310,-306 182,-306 182,-306 176,-306 170,-300 170,-294 170,-294 170,-235 170,-235 170,-229 176,-223 182,-223 182,-223 310,-223 310,-223 316,-223 322,-229 322,-235 322,-235 322,-294 322,-294 322,-300 316,-306 310,-306\"/>\n<text text-anchor=\"start\" x=\"208.5\" y=\"-290.8\" font-family=\"Helvetica,sans-Serif\" font-size=\"14.00\">Indice ≤ 0.5</text>\n<text text-anchor=\"start\" x=\"196\" y=\"-275.8\" font-family=\"Helvetica,sans-Serif\" font-size=\"14.00\">entropy = 0.918</text>\n<text text-anchor=\"start\" x=\"206.5\" y=\"-260.8\" font-family=\"Helvetica,sans-Serif\" font-size=\"14.00\">samples = 3</text>\n<text text-anchor=\"start\" x=\"205.5\" y=\"-245.8\" font-family=\"Helvetica,sans-Serif\" font-size=\"14.00\">value = [1, 2]</text>\n<text text-anchor=\"start\" x=\"178\" y=\"-230.8\" font-family=\"Helvetica,sans-Serif\" font-size=\"14.00\">class = No administra</text>\n</g>\n<!-- 1&#45;&gt;3 -->\n<g id=\"edge3\" class=\"edge\">\n<title>1&#45;&gt;3</title>\n<path fill=\"none\" stroke=\"black\" d=\"M246,-341.91C246,-333.65 246,-324.86 246,-316.3\"/>\n<polygon fill=\"black\" stroke=\"black\" points=\"249.5,-316.02 246,-306.02 242.5,-316.02 249.5,-316.02\"/>\n</g>\n<!-- 4 -->\n<g id=\"node5\" class=\"node\">\n<title>4</title>\n<path fill=\"#399de5\" stroke=\"black\" d=\"M150,-179.5C150,-179.5 22,-179.5 22,-179.5 16,-179.5 10,-173.5 10,-167.5 10,-167.5 10,-123.5 10,-123.5 10,-117.5 16,-111.5 22,-111.5 22,-111.5 150,-111.5 150,-111.5 156,-111.5 162,-117.5 162,-123.5 162,-123.5 162,-167.5 162,-167.5 162,-173.5 156,-179.5 150,-179.5\"/>\n<text text-anchor=\"start\" x=\"44\" y=\"-164.3\" font-family=\"Helvetica,sans-Serif\" font-size=\"14.00\">entropy = 0.0</text>\n<text text-anchor=\"start\" x=\"46.5\" y=\"-149.3\" font-family=\"Helvetica,sans-Serif\" font-size=\"14.00\">samples = 1</text>\n<text text-anchor=\"start\" x=\"45.5\" y=\"-134.3\" font-family=\"Helvetica,sans-Serif\" font-size=\"14.00\">value = [0, 1]</text>\n<text text-anchor=\"start\" x=\"18\" y=\"-119.3\" font-family=\"Helvetica,sans-Serif\" font-size=\"14.00\">class = No administra</text>\n</g>\n<!-- 3&#45;&gt;4 -->\n<g id=\"edge4\" class=\"edge\">\n<title>3&#45;&gt;4</title>\n<path fill=\"none\" stroke=\"black\" d=\"M190.49,-222.91C174.04,-210.88 156.06,-197.73 139.73,-185.79\"/>\n<polygon fill=\"black\" stroke=\"black\" points=\"141.49,-182.74 131.36,-179.67 137.36,-188.39 141.49,-182.74\"/>\n</g>\n<!-- 5 -->\n<g id=\"node6\" class=\"node\">\n<title>5</title>\n<path fill=\"#ffffff\" stroke=\"black\" d=\"M300,-179.5C300,-179.5 192,-179.5 192,-179.5 186,-179.5 180,-173.5 180,-167.5 180,-167.5 180,-123.5 180,-123.5 180,-117.5 186,-111.5 192,-111.5 192,-111.5 300,-111.5 300,-111.5 306,-111.5 312,-117.5 312,-123.5 312,-123.5 312,-167.5 312,-167.5 312,-173.5 306,-179.5 300,-179.5\"/>\n<text text-anchor=\"start\" x=\"204\" y=\"-164.3\" font-family=\"Helvetica,sans-Serif\" font-size=\"14.00\">entropy = 1.0</text>\n<text text-anchor=\"start\" x=\"206.5\" y=\"-149.3\" font-family=\"Helvetica,sans-Serif\" font-size=\"14.00\">samples = 2</text>\n<text text-anchor=\"start\" x=\"205.5\" y=\"-134.3\" font-family=\"Helvetica,sans-Serif\" font-size=\"14.00\">value = [1, 1]</text>\n<text text-anchor=\"start\" x=\"188\" y=\"-119.3\" font-family=\"Helvetica,sans-Serif\" font-size=\"14.00\">class = Administra</text>\n</g>\n<!-- 3&#45;&gt;5 -->\n<g id=\"edge5\" class=\"edge\">\n<title>3&#45;&gt;5</title>\n<path fill=\"none\" stroke=\"black\" d=\"M246,-222.91C246,-212.2 246,-200.62 246,-189.78\"/>\n<polygon fill=\"black\" stroke=\"black\" points=\"249.5,-189.67 246,-179.67 242.5,-189.67 249.5,-189.67\"/>\n</g>\n<!-- 7 -->\n<g id=\"node8\" class=\"node\">\n<title>7</title>\n<path fill=\"#eeab7b\" stroke=\"black\" d=\"M530,-306C530,-306 422,-306 422,-306 416,-306 410,-300 410,-294 410,-294 410,-235 410,-235 410,-229 416,-223 422,-223 422,-223 530,-223 530,-223 536,-223 542,-229 542,-235 542,-235 542,-294 542,-294 542,-300 536,-306 530,-306\"/>\n<text text-anchor=\"start\" x=\"438.5\" y=\"-290.8\" font-family=\"Helvetica,sans-Serif\" font-size=\"14.00\">Indice ≤ 0.5</text>\n<text text-anchor=\"start\" x=\"426\" y=\"-275.8\" font-family=\"Helvetica,sans-Serif\" font-size=\"14.00\">entropy = 0.811</text>\n<text text-anchor=\"start\" x=\"436.5\" y=\"-260.8\" font-family=\"Helvetica,sans-Serif\" font-size=\"14.00\">samples = 4</text>\n<text text-anchor=\"start\" x=\"435.5\" y=\"-245.8\" font-family=\"Helvetica,sans-Serif\" font-size=\"14.00\">value = [3, 1]</text>\n<text text-anchor=\"start\" x=\"418\" y=\"-230.8\" font-family=\"Helvetica,sans-Serif\" font-size=\"14.00\">class = Administra</text>\n</g>\n<!-- 6&#45;&gt;7 -->\n<g id=\"edge7\" class=\"edge\">\n<title>6&#45;&gt;7</title>\n<path fill=\"none\" stroke=\"black\" d=\"M476,-341.91C476,-333.65 476,-324.86 476,-316.3\"/>\n<polygon fill=\"black\" stroke=\"black\" points=\"479.5,-316.02 476,-306.02 472.5,-316.02 479.5,-316.02\"/>\n</g>\n<!-- 12 -->\n<g id=\"node13\" class=\"node\">\n<title>12</title>\n<path fill=\"#9ccef2\" stroke=\"black\" d=\"M770,-306C770,-306 642,-306 642,-306 636,-306 630,-300 630,-294 630,-294 630,-235 630,-235 630,-229 636,-223 642,-223 642,-223 770,-223 770,-223 776,-223 782,-229 782,-235 782,-235 782,-294 782,-294 782,-300 776,-306 770,-306\"/>\n<text text-anchor=\"start\" x=\"668.5\" y=\"-290.8\" font-family=\"Helvetica,sans-Serif\" font-size=\"14.00\">Indice ≤ 0.5</text>\n<text text-anchor=\"start\" x=\"656\" y=\"-275.8\" font-family=\"Helvetica,sans-Serif\" font-size=\"14.00\">entropy = 0.918</text>\n<text text-anchor=\"start\" x=\"666.5\" y=\"-260.8\" font-family=\"Helvetica,sans-Serif\" font-size=\"14.00\">samples = 3</text>\n<text text-anchor=\"start\" x=\"665.5\" y=\"-245.8\" font-family=\"Helvetica,sans-Serif\" font-size=\"14.00\">value = [1, 2]</text>\n<text text-anchor=\"start\" x=\"638\" y=\"-230.8\" font-family=\"Helvetica,sans-Serif\" font-size=\"14.00\">class = No administra</text>\n</g>\n<!-- 6&#45;&gt;12 -->\n<g id=\"edge12\" class=\"edge\">\n<title>6&#45;&gt;12</title>\n<path fill=\"none\" stroke=\"black\" d=\"M542.22,-348.82C566.67,-336.38 594.74,-322.1 620.65,-308.92\"/>\n<polygon fill=\"black\" stroke=\"black\" points=\"622.39,-311.96 629.72,-304.31 619.22,-305.72 622.39,-311.96\"/>\n</g>\n<!-- 8 -->\n<g id=\"node9\" class=\"node\">\n<title>8</title>\n<path fill=\"#e58139\" stroke=\"black\" d=\"M450,-179.5C450,-179.5 342,-179.5 342,-179.5 336,-179.5 330,-173.5 330,-167.5 330,-167.5 330,-123.5 330,-123.5 330,-117.5 336,-111.5 342,-111.5 342,-111.5 450,-111.5 450,-111.5 456,-111.5 462,-117.5 462,-123.5 462,-123.5 462,-167.5 462,-167.5 462,-173.5 456,-179.5 450,-179.5\"/>\n<text text-anchor=\"start\" x=\"354\" y=\"-164.3\" font-family=\"Helvetica,sans-Serif\" font-size=\"14.00\">entropy = 0.0</text>\n<text text-anchor=\"start\" x=\"356.5\" y=\"-149.3\" font-family=\"Helvetica,sans-Serif\" font-size=\"14.00\">samples = 2</text>\n<text text-anchor=\"start\" x=\"355.5\" y=\"-134.3\" font-family=\"Helvetica,sans-Serif\" font-size=\"14.00\">value = [2, 0]</text>\n<text text-anchor=\"start\" x=\"338\" y=\"-119.3\" font-family=\"Helvetica,sans-Serif\" font-size=\"14.00\">class = Administra</text>\n</g>\n<!-- 7&#45;&gt;8 -->\n<g id=\"edge8\" class=\"edge\">\n<title>7&#45;&gt;8</title>\n<path fill=\"none\" stroke=\"black\" d=\"M448.24,-222.91C440.55,-211.65 432.18,-199.42 424.45,-188.11\"/>\n<polygon fill=\"black\" stroke=\"black\" points=\"427.21,-185.95 418.68,-179.67 421.43,-189.9 427.21,-185.95\"/>\n</g>\n<!-- 9 -->\n<g id=\"node10\" class=\"node\">\n<title>9</title>\n<path fill=\"#ffffff\" stroke=\"black\" d=\"M600,-187C600,-187 492,-187 492,-187 486,-187 480,-181 480,-175 480,-175 480,-116 480,-116 480,-110 486,-104 492,-104 492,-104 600,-104 600,-104 606,-104 612,-110 612,-116 612,-116 612,-175 612,-175 612,-181 606,-187 600,-187\"/>\n<text text-anchor=\"start\" x=\"503.5\" y=\"-171.8\" font-family=\"Helvetica,sans-Serif\" font-size=\"14.00\">Presion ≤ 1.5</text>\n<text text-anchor=\"start\" x=\"504\" y=\"-156.8\" font-family=\"Helvetica,sans-Serif\" font-size=\"14.00\">entropy = 1.0</text>\n<text text-anchor=\"start\" x=\"506.5\" y=\"-141.8\" font-family=\"Helvetica,sans-Serif\" font-size=\"14.00\">samples = 2</text>\n<text text-anchor=\"start\" x=\"505.5\" y=\"-126.8\" font-family=\"Helvetica,sans-Serif\" font-size=\"14.00\">value = [1, 1]</text>\n<text text-anchor=\"start\" x=\"488\" y=\"-111.8\" font-family=\"Helvetica,sans-Serif\" font-size=\"14.00\">class = Administra</text>\n</g>\n<!-- 7&#45;&gt;9 -->\n<g id=\"edge9\" class=\"edge\">\n<title>7&#45;&gt;9</title>\n<path fill=\"none\" stroke=\"black\" d=\"M500.29,-222.91C505.55,-214.1 511.18,-204.7 516.62,-195.61\"/>\n<polygon fill=\"black\" stroke=\"black\" points=\"519.63,-197.4 521.76,-187.02 513.62,-193.81 519.63,-197.4\"/>\n</g>\n<!-- 10 -->\n<g id=\"node11\" class=\"node\">\n<title>10</title>\n<path fill=\"#399de5\" stroke=\"black\" d=\"M490,-68C490,-68 362,-68 362,-68 356,-68 350,-62 350,-56 350,-56 350,-12 350,-12 350,-6 356,0 362,0 362,0 490,0 490,0 496,0 502,-6 502,-12 502,-12 502,-56 502,-56 502,-62 496,-68 490,-68\"/>\n<text text-anchor=\"start\" x=\"384\" y=\"-52.8\" font-family=\"Helvetica,sans-Serif\" font-size=\"14.00\">entropy = 0.0</text>\n<text text-anchor=\"start\" x=\"386.5\" y=\"-37.8\" font-family=\"Helvetica,sans-Serif\" font-size=\"14.00\">samples = 1</text>\n<text text-anchor=\"start\" x=\"385.5\" y=\"-22.8\" font-family=\"Helvetica,sans-Serif\" font-size=\"14.00\">value = [0, 1]</text>\n<text text-anchor=\"start\" x=\"358\" y=\"-7.8\" font-family=\"Helvetica,sans-Serif\" font-size=\"14.00\">class = No administra</text>\n</g>\n<!-- 9&#45;&gt;10 -->\n<g id=\"edge10\" class=\"edge\">\n<title>9&#45;&gt;10</title>\n<path fill=\"none\" stroke=\"black\" d=\"M501.32,-103.73C491.12,-94.42 480.29,-84.54 470.12,-75.26\"/>\n<polygon fill=\"black\" stroke=\"black\" points=\"472.24,-72.45 462.49,-68.3 467.52,-77.63 472.24,-72.45\"/>\n</g>\n<!-- 11 -->\n<g id=\"node12\" class=\"node\">\n<title>11</title>\n<path fill=\"#e58139\" stroke=\"black\" d=\"M640,-68C640,-68 532,-68 532,-68 526,-68 520,-62 520,-56 520,-56 520,-12 520,-12 520,-6 526,0 532,0 532,0 640,0 640,0 646,0 652,-6 652,-12 652,-12 652,-56 652,-56 652,-62 646,-68 640,-68\"/>\n<text text-anchor=\"start\" x=\"544\" y=\"-52.8\" font-family=\"Helvetica,sans-Serif\" font-size=\"14.00\">entropy = 0.0</text>\n<text text-anchor=\"start\" x=\"546.5\" y=\"-37.8\" font-family=\"Helvetica,sans-Serif\" font-size=\"14.00\">samples = 1</text>\n<text text-anchor=\"start\" x=\"545.5\" y=\"-22.8\" font-family=\"Helvetica,sans-Serif\" font-size=\"14.00\">value = [1, 0]</text>\n<text text-anchor=\"start\" x=\"528\" y=\"-7.8\" font-family=\"Helvetica,sans-Serif\" font-size=\"14.00\">class = Administra</text>\n</g>\n<!-- 9&#45;&gt;11 -->\n<g id=\"edge11\" class=\"edge\">\n<title>9&#45;&gt;11</title>\n<path fill=\"none\" stroke=\"black\" d=\"M560.89,-103.73C563.99,-95.24 567.27,-86.28 570.39,-77.73\"/>\n<polygon fill=\"black\" stroke=\"black\" points=\"573.69,-78.89 573.84,-68.3 567.12,-76.49 573.69,-78.89\"/>\n</g>\n<!-- 13 -->\n<g id=\"node14\" class=\"node\">\n<title>13</title>\n<path fill=\"#399de5\" stroke=\"black\" d=\"M770,-179.5C770,-179.5 642,-179.5 642,-179.5 636,-179.5 630,-173.5 630,-167.5 630,-167.5 630,-123.5 630,-123.5 630,-117.5 636,-111.5 642,-111.5 642,-111.5 770,-111.5 770,-111.5 776,-111.5 782,-117.5 782,-123.5 782,-123.5 782,-167.5 782,-167.5 782,-173.5 776,-179.5 770,-179.5\"/>\n<text text-anchor=\"start\" x=\"664\" y=\"-164.3\" font-family=\"Helvetica,sans-Serif\" font-size=\"14.00\">entropy = 0.0</text>\n<text text-anchor=\"start\" x=\"666.5\" y=\"-149.3\" font-family=\"Helvetica,sans-Serif\" font-size=\"14.00\">samples = 1</text>\n<text text-anchor=\"start\" x=\"665.5\" y=\"-134.3\" font-family=\"Helvetica,sans-Serif\" font-size=\"14.00\">value = [0, 1]</text>\n<text text-anchor=\"start\" x=\"638\" y=\"-119.3\" font-family=\"Helvetica,sans-Serif\" font-size=\"14.00\">class = No administra</text>\n</g>\n<!-- 12&#45;&gt;13 -->\n<g id=\"edge13\" class=\"edge\">\n<title>12&#45;&gt;13</title>\n<path fill=\"none\" stroke=\"black\" d=\"M706,-222.91C706,-212.2 706,-200.62 706,-189.78\"/>\n<polygon fill=\"black\" stroke=\"black\" points=\"709.5,-189.67 706,-179.67 702.5,-189.67 709.5,-189.67\"/>\n</g>\n<!-- 14 -->\n<g id=\"node15\" class=\"node\">\n<title>14</title>\n<path fill=\"#ffffff\" stroke=\"black\" d=\"M920,-187C920,-187 812,-187 812,-187 806,-187 800,-181 800,-175 800,-175 800,-116 800,-116 800,-110 806,-104 812,-104 812,-104 920,-104 920,-104 926,-104 932,-110 932,-116 932,-116 932,-175 932,-175 932,-181 926,-187 920,-187\"/>\n<text text-anchor=\"start\" x=\"823.5\" y=\"-171.8\" font-family=\"Helvetica,sans-Serif\" font-size=\"14.00\">Presion ≤ 1.0</text>\n<text text-anchor=\"start\" x=\"824\" y=\"-156.8\" font-family=\"Helvetica,sans-Serif\" font-size=\"14.00\">entropy = 1.0</text>\n<text text-anchor=\"start\" x=\"826.5\" y=\"-141.8\" font-family=\"Helvetica,sans-Serif\" font-size=\"14.00\">samples = 2</text>\n<text text-anchor=\"start\" x=\"825.5\" y=\"-126.8\" font-family=\"Helvetica,sans-Serif\" font-size=\"14.00\">value = [1, 1]</text>\n<text text-anchor=\"start\" x=\"808\" y=\"-111.8\" font-family=\"Helvetica,sans-Serif\" font-size=\"14.00\">class = Administra</text>\n</g>\n<!-- 12&#45;&gt;14 -->\n<g id=\"edge14\" class=\"edge\">\n<title>12&#45;&gt;14</title>\n<path fill=\"none\" stroke=\"black\" d=\"M761.51,-222.91C774.67,-213.29 788.8,-202.95 802.29,-193.09\"/>\n<polygon fill=\"black\" stroke=\"black\" points=\"804.58,-195.75 810.59,-187.02 800.45,-190.1 804.58,-195.75\"/>\n</g>\n<!-- 15 -->\n<g id=\"node16\" class=\"node\">\n<title>15</title>\n<path fill=\"#399de5\" stroke=\"black\" d=\"M890,-68C890,-68 762,-68 762,-68 756,-68 750,-62 750,-56 750,-56 750,-12 750,-12 750,-6 756,0 762,0 762,0 890,0 890,0 896,0 902,-6 902,-12 902,-12 902,-56 902,-56 902,-62 896,-68 890,-68\"/>\n<text text-anchor=\"start\" x=\"784\" y=\"-52.8\" font-family=\"Helvetica,sans-Serif\" font-size=\"14.00\">entropy = 0.0</text>\n<text text-anchor=\"start\" x=\"786.5\" y=\"-37.8\" font-family=\"Helvetica,sans-Serif\" font-size=\"14.00\">samples = 1</text>\n<text text-anchor=\"start\" x=\"785.5\" y=\"-22.8\" font-family=\"Helvetica,sans-Serif\" font-size=\"14.00\">value = [0, 1]</text>\n<text text-anchor=\"start\" x=\"758\" y=\"-7.8\" font-family=\"Helvetica,sans-Serif\" font-size=\"14.00\">class = No administra</text>\n</g>\n<!-- 14&#45;&gt;15 -->\n<g id=\"edge15\" class=\"edge\">\n<title>14&#45;&gt;15</title>\n<path fill=\"none\" stroke=\"black\" d=\"M851.11,-103.73C848.01,-95.24 844.73,-86.28 841.61,-77.73\"/>\n<polygon fill=\"black\" stroke=\"black\" points=\"844.88,-76.49 838.16,-68.3 838.31,-78.89 844.88,-76.49\"/>\n</g>\n<!-- 16 -->\n<g id=\"node17\" class=\"node\">\n<title>16</title>\n<path fill=\"#e58139\" stroke=\"black\" d=\"M1040,-68C1040,-68 932,-68 932,-68 926,-68 920,-62 920,-56 920,-56 920,-12 920,-12 920,-6 926,0 932,0 932,0 1040,0 1040,0 1046,0 1052,-6 1052,-12 1052,-12 1052,-56 1052,-56 1052,-62 1046,-68 1040,-68\"/>\n<text text-anchor=\"start\" x=\"944\" y=\"-52.8\" font-family=\"Helvetica,sans-Serif\" font-size=\"14.00\">entropy = 0.0</text>\n<text text-anchor=\"start\" x=\"946.5\" y=\"-37.8\" font-family=\"Helvetica,sans-Serif\" font-size=\"14.00\">samples = 1</text>\n<text text-anchor=\"start\" x=\"945.5\" y=\"-22.8\" font-family=\"Helvetica,sans-Serif\" font-size=\"14.00\">value = [1, 0]</text>\n<text text-anchor=\"start\" x=\"928\" y=\"-7.8\" font-family=\"Helvetica,sans-Serif\" font-size=\"14.00\">class = Administra</text>\n</g>\n<!-- 14&#45;&gt;16 -->\n<g id=\"edge16\" class=\"edge\">\n<title>14&#45;&gt;16</title>\n<path fill=\"none\" stroke=\"black\" d=\"M910.68,-103.73C920.88,-94.42 931.71,-84.54 941.88,-75.26\"/>\n<polygon fill=\"black\" stroke=\"black\" points=\"944.48,-77.63 949.51,-68.3 939.76,-72.45 944.48,-77.63\"/>\n</g>\n</g>\n</svg>\n",
      "text/plain": "<graphviz.sources.Source at 0x1c1a3a74670>"
     },
     "execution_count": 7,
     "metadata": {},
     "output_type": "execute_result"
    }
   ],
   "source": [
    "t_data"
   ],
   "metadata": {
    "collapsed": false,
    "pycharm": {
     "name": "#%%\n"
    }
   }
  },
  {
   "cell_type": "markdown",
   "source": [
    "## Resultados datos de entrenamiento"
   ],
   "metadata": {
    "collapsed": false,
    "pycharm": {
     "name": "#%% md\n"
    }
   },
   "source": [
    "import pandas as pd\n",
    "from sklearn import tree\n",
    "from sklearn import preprocessing\n",
    "\n",
    "farmcos_test = pd.read_csv(\"farmacosTest.csv\", index_col=0)\n",
    "\n",
    "\n",
    "data = pd.DataFrame()\n",
    "data_test = pd.DataFrame()\n",
    "\n",
    "le = preprocessing.LabelEncoder()\n",
    "\n",
    "\n",
    "for v in labelsFarmacos:\n",
    "  le.fit(farmcos_test[v])\n",
    "  data[v] = le.transform(farmcos_test[v])\n",
    "  data_test[v] = le.transform(farmcos_test[v])\n",
    "\n",
    "#construir el arbol\n",
    "clf = tree.DecisionTreeClassifier(criterion = 'entropy',max_depth=4)\n",
    "\n",
    "t_data = data[data.columns[0:4]]\n",
    "t_respuesta = data[data.columns[4]]\n",
    "x_test = data_test[data_test.columns[0:4]]\n",
    "\n",
    "\n",
    "#crear el modelo\n",
    "clf = clf.fit(t_data, t_respuesta)\n",
    "y_respuesta = clf.predict(x_test)\n",
    "t_data, t_respuesta, y_respuesta"
   ],
   "execution_count": 8,
   "outputs": [
    {
     "data": {
      "text/plain": "0     1\n1     1\n2     1\n3     0\n4     0\n5     1\n6     1\n7     1\n8     0\n9     1\n10    1\n11    0\n12    1\n13    1\nName: Administrar, dtype: int32"
     },
     "execution_count": 8,
     "metadata": {},
     "output_type": "execute_result"
    }
   ],
   "source": [
    "t_respuesta"
   ],
   "metadata": {
    "collapsed": false,
    "pycharm": {
     "name": "#%%\n"
    }
   }
  },
  {
   "cell_type": "markdown",
   "source": [
    "## Resultados datos de test"
   ],
   "execution_count": 9,
   "outputs": [
    {
     "data": {
      "text/plain": "array([1, 1, 1])"
     },
     "execution_count": 9,
     "metadata": {},
     "output_type": "execute_result"
    }
   ],
   "source": [
    "y_respuesta"
   ],
   "metadata": {
    "collapsed": false,
    "pycharm": {
     "name": "#%%\n"
    }
   }
  },
  {
   "cell_type": "markdown",
   "source": [
    "## Preprocesamiento de datos manual con librería pandas"
   ],
   "execution_count": 10,
   "outputs": [
    {
     "name": "stdout",
     "output_type": "stream",
     "text": [
      "subconjunto (array([ 0,  1,  6,  7,  8, 11], dtype=int64),)\n",
      "Ejemplos del valor Paciente\n",
      "1     Si\n",
      "2     Si\n",
      "7     Si\n",
      "8     Si\n",
      "9     No\n",
      "12    No\n",
      "Name: Administrar, dtype: object\n",
      "subgrupos ['No' 'Si'] [2 4]\n",
      "entropia del valor 0.9182958340544896\n",
      "probabilidad 0.42857142857142855\n",
      "info_a [[0.9182958340544896, 0.42857142857142855]]\n",
      "subconjunto (array([ 2,  5,  9, 12, 13], dtype=int64),)\n",
      "Ejemplos del valor Paciente\n",
      "3     Si\n",
      "6     Si\n",
      "10    Si\n",
      "13    Si\n",
      "14    Si\n",
      "Name: Administrar, dtype: object\n",
      "subgrupos ['Si'] [5]\n",
      "entropia del valor 0.0\n",
      "probabilidad 0.35714285714285715\n",
      "info_a [[0.9182958340544896, 0.42857142857142855], [0.0, 0.35714285714285715]]\n",
      "subconjunto (array([ 3,  4, 10], dtype=int64),)\n",
      "Ejemplos del valor Paciente\n",
      "4     No\n",
      "5     No\n",
      "11    Si\n",
      "Name: Administrar, dtype: object\n",
      "subgrupos ['No' 'Si'] [2 1]\n",
      "entropia del valor 0.9182958340544896\n",
      "probabilidad 0.21428571428571427\n",
      "info_a [[0.9182958340544896, 0.42857142857142855], [0.0, 0.35714285714285715], [0.9182958340544896, 0.21428571428571427]]\n",
      "entropia de la variable 0.590333036177886\n",
      "ganancia de presion 0.272787532388745\n"
     ]
    }
   }
  },
  {
   "cell_type": "code",
   "metadata": {
    "colab": {
     "base_uri": "https://localhost:8080/",
     "height": 598
    },
    "id": "vpEIiTQ1PG1g",
    "executionInfo": {
     "status": "ok",
     "timestamp": 1625532096196,
     "user_tz": 300,
     "elapsed": 172,
     "user": {
      "displayName": "bernarda sandoval",
      "photoUrl": "",
      "userId": "13411305394088946203"
     }
    },
    "outputId": "6bbd2e93-e54f-4070-9074-4463d43012bc",
    "pycharm": {
     "name": "#%%\n"
    }
   },
   "source": [
    "data = farmacos_data.copy()\n",
    "data[\"Presion\"] = np.where(data[\"Presion\"] == \"Alta\",2,\n",
    "                        np.where(data[\"Presion\"] == \"Media\",1,0))\n",
    "data[\"Azucar\"] = np.where(data[\"Azucar\"] == \"Alto\",1,0)\n",
    "data[\"Indice\"] = np.where(data[\"Indice\"] == \"Alto\",1,0)\n",
    "data[\"Alergia\"] = np.where(data[\"Alergia\"] == \"Si\",1,0)\n",
    "data[\"Otras\"] = np.where(data[\"Otras\"] == \"Si\",1,0)\n",
    "#construir el arbol\n",
    "clf = tree.DecisionTreeClassifier(criterion = 'entropy',max_depth=4)\n",
    "t_data = data[data.columns[0:5]]\n",
    "t_respuesta = data[data.columns[5]]\n",
    "#crear el modelo\n",
    "clf = clf.fit(t_data, t_respuesta)"
   ],
   "execution_count": 99,
   "outputs": []
  },
  {
   "cell_type": "markdown",
   "source": [
    "## Graficar el árbol manual"
   ],
   "execution_count": 11,
   "outputs": [
    {
     "name": "stdout",
     "output_type": "stream",
     "text": [
      "subconjunto (array([ 0,  1,  2,  3,  8, 12, 13], dtype=int64),)\n",
      "Ejemplos del valor Paciente\n",
      "1     Si\n",
      "2     Si\n",
      "3     Si\n",
      "4     No\n",
      "9     No\n",
      "13    Si\n",
      "14    Si\n",
      "Name: Administrar, dtype: object\n",
      "subgrupos ['No' 'Si'] [2 5]\n",
      "entropia del valor 0.863120568566631\n",
      "probabilidad 0.5\n",
      "info_a [[0.863120568566631, 0.5]]\n",
      "subconjunto (array([ 4,  5,  6,  7,  9, 10, 11], dtype=int64),)\n",
      "Ejemplos del valor Paciente\n",
      "5     No\n",
      "6     Si\n",
      "7     Si\n",
      "8     Si\n",
      "10    Si\n",
      "11    Si\n",
      "12    No\n",
      "Name: Administrar, dtype: object\n",
      "subgrupos ['No' 'Si'] [2 5]\n",
      "entropia del valor 0.863120568566631\n",
      "probabilidad 0.5\n",
      "info_a [[0.863120568566631, 0.5], [0.863120568566631, 0.5]]\n",
      "entropia de la variable 0.863120568566631\n",
      "ganancia de altura 0.0\n"
     ]
    }
   }
  },
  {
   "cell_type": "code",
   "execution_count": 100,
   "outputs": [
    {
     "data": {
      "image/svg+xml": "<?xml version=\"1.0\" encoding=\"UTF-8\" standalone=\"no\"?>\n<!DOCTYPE svg PUBLIC \"-//W3C//DTD SVG 1.1//EN\"\n \"http://www.w3.org/Graphics/SVG/1.1/DTD/svg11.dtd\">\n<!-- Generated by graphviz version 4.0.0 (20220529.0937)\n -->\n<!-- Title: Tree Pages: 1 -->\n<svg width=\"480pt\" height=\"552pt\"\n viewBox=\"0.00 0.00 480.00 552.00\" xmlns=\"http://www.w3.org/2000/svg\" xmlns:xlink=\"http://www.w3.org/1999/xlink\">\n<g id=\"graph0\" class=\"graph\" transform=\"scale(1 1) rotate(0) translate(4 548)\">\n<title>Tree</title>\n<polygon fill=\"white\" stroke=\"transparent\" points=\"-4,4 -4,-548 476,-548 476,4 -4,4\"/>\n<!-- 0 -->\n<g id=\"node1\" class=\"node\">\n<title>0</title>\n<path fill=\"#88c4ef\" stroke=\"black\" d=\"M225,-544C225,-544 97,-544 97,-544 91,-544 85,-538 85,-532 85,-532 85,-473 85,-473 85,-467 91,-461 97,-461 97,-461 225,-461 225,-461 231,-461 237,-467 237,-473 237,-473 237,-532 237,-532 237,-538 231,-544 225,-544\"/>\n<text text-anchor=\"start\" x=\"126\" y=\"-528.8\" font-family=\"Helvetica,sans-Serif\" font-size=\"14.00\">Otras ≤ 0.5</text>\n<text text-anchor=\"start\" x=\"111\" y=\"-513.8\" font-family=\"Helvetica,sans-Serif\" font-size=\"14.00\">entropy = 0.863</text>\n<text text-anchor=\"start\" x=\"117.5\" y=\"-498.8\" font-family=\"Helvetica,sans-Serif\" font-size=\"14.00\">samples = 14</text>\n<text text-anchor=\"start\" x=\"116.5\" y=\"-483.8\" font-family=\"Helvetica,sans-Serif\" font-size=\"14.00\">value = [4, 10]</text>\n<text text-anchor=\"start\" x=\"93\" y=\"-468.8\" font-family=\"Helvetica,sans-Serif\" font-size=\"14.00\">class = No administra</text>\n</g>\n<!-- 1 -->\n<g id=\"node2\" class=\"node\">\n<title>1</title>\n<path fill=\"#399de5\" stroke=\"black\" d=\"M140,-417.5C140,-417.5 12,-417.5 12,-417.5 6,-417.5 0,-411.5 0,-405.5 0,-405.5 0,-361.5 0,-361.5 0,-355.5 6,-349.5 12,-349.5 12,-349.5 140,-349.5 140,-349.5 146,-349.5 152,-355.5 152,-361.5 152,-361.5 152,-405.5 152,-405.5 152,-411.5 146,-417.5 140,-417.5\"/>\n<text text-anchor=\"start\" x=\"34\" y=\"-402.3\" font-family=\"Helvetica,sans-Serif\" font-size=\"14.00\">entropy = 0.0</text>\n<text text-anchor=\"start\" x=\"36.5\" y=\"-387.3\" font-family=\"Helvetica,sans-Serif\" font-size=\"14.00\">samples = 5</text>\n<text text-anchor=\"start\" x=\"35.5\" y=\"-372.3\" font-family=\"Helvetica,sans-Serif\" font-size=\"14.00\">value = [0, 5]</text>\n<text text-anchor=\"start\" x=\"8\" y=\"-357.3\" font-family=\"Helvetica,sans-Serif\" font-size=\"14.00\">class = No administra</text>\n</g>\n<!-- 0&#45;&gt;1 -->\n<g id=\"edge1\" class=\"edge\">\n<title>0&#45;&gt;1</title>\n<path fill=\"none\" stroke=\"black\" d=\"M131.51,-460.91C123.25,-449.54 114.27,-437.18 105.99,-425.77\"/>\n<polygon fill=\"black\" stroke=\"black\" points=\"108.8,-423.7 100.1,-417.67 103.14,-427.81 108.8,-423.7\"/>\n<text text-anchor=\"middle\" x=\"96.18\" y=\"-438.66\" font-family=\"Helvetica,sans-Serif\" font-size=\"14.00\">True</text>\n</g>\n<!-- 2 -->\n<g id=\"node3\" class=\"node\">\n<title>2</title>\n<path fill=\"#d7ebfa\" stroke=\"black\" d=\"M310,-425C310,-425 182,-425 182,-425 176,-425 170,-419 170,-413 170,-413 170,-354 170,-354 170,-348 176,-342 182,-342 182,-342 310,-342 310,-342 316,-342 322,-348 322,-354 322,-354 322,-413 322,-413 322,-419 316,-425 310,-425\"/>\n<text text-anchor=\"start\" x=\"203.5\" y=\"-409.8\" font-family=\"Helvetica,sans-Serif\" font-size=\"14.00\">Presion ≤ 0.5</text>\n<text text-anchor=\"start\" x=\"196\" y=\"-394.8\" font-family=\"Helvetica,sans-Serif\" font-size=\"14.00\">entropy = 0.991</text>\n<text text-anchor=\"start\" x=\"206.5\" y=\"-379.8\" font-family=\"Helvetica,sans-Serif\" font-size=\"14.00\">samples = 9</text>\n<text text-anchor=\"start\" x=\"205.5\" y=\"-364.8\" font-family=\"Helvetica,sans-Serif\" font-size=\"14.00\">value = [4, 5]</text>\n<text text-anchor=\"start\" x=\"178\" y=\"-349.8\" font-family=\"Helvetica,sans-Serif\" font-size=\"14.00\">class = No administra</text>\n</g>\n<!-- 0&#45;&gt;2 -->\n<g id=\"edge2\" class=\"edge\">\n<title>0&#45;&gt;2</title>\n<path fill=\"none\" stroke=\"black\" d=\"M190.49,-460.91C196.95,-452.01 203.86,-442.51 210.52,-433.33\"/>\n<polygon fill=\"black\" stroke=\"black\" points=\"213.52,-435.17 216.56,-425.02 207.85,-431.05 213.52,-435.17\"/>\n<text text-anchor=\"middle\" x=\"220.47\" y=\"-446.01\" font-family=\"Helvetica,sans-Serif\" font-size=\"14.00\">False</text>\n</g>\n<!-- 3 -->\n<g id=\"node4\" class=\"node\">\n<title>3</title>\n<path fill=\"#399de5\" stroke=\"black\" d=\"M230,-298.5C230,-298.5 102,-298.5 102,-298.5 96,-298.5 90,-292.5 90,-286.5 90,-286.5 90,-242.5 90,-242.5 90,-236.5 96,-230.5 102,-230.5 102,-230.5 230,-230.5 230,-230.5 236,-230.5 242,-236.5 242,-242.5 242,-242.5 242,-286.5 242,-286.5 242,-292.5 236,-298.5 230,-298.5\"/>\n<text text-anchor=\"start\" x=\"124\" y=\"-283.3\" font-family=\"Helvetica,sans-Serif\" font-size=\"14.00\">entropy = 0.0</text>\n<text text-anchor=\"start\" x=\"126.5\" y=\"-268.3\" font-family=\"Helvetica,sans-Serif\" font-size=\"14.00\">samples = 3</text>\n<text text-anchor=\"start\" x=\"125.5\" y=\"-253.3\" font-family=\"Helvetica,sans-Serif\" font-size=\"14.00\">value = [0, 3]</text>\n<text text-anchor=\"start\" x=\"98\" y=\"-238.3\" font-family=\"Helvetica,sans-Serif\" font-size=\"14.00\">class = No administra</text>\n</g>\n<!-- 2&#45;&gt;3 -->\n<g id=\"edge3\" class=\"edge\">\n<title>2&#45;&gt;3</title>\n<path fill=\"none\" stroke=\"black\" d=\"M218.24,-341.91C210.55,-330.65 202.18,-318.42 194.45,-307.11\"/>\n<polygon fill=\"black\" stroke=\"black\" points=\"197.21,-304.95 188.68,-298.67 191.43,-308.9 197.21,-304.95\"/>\n</g>\n<!-- 4 -->\n<g id=\"node5\" class=\"node\">\n<title>4</title>\n<path fill=\"#f2c09c\" stroke=\"black\" d=\"M380,-306C380,-306 272,-306 272,-306 266,-306 260,-300 260,-294 260,-294 260,-235 260,-235 260,-229 266,-223 272,-223 272,-223 380,-223 380,-223 386,-223 392,-229 392,-235 392,-235 392,-294 392,-294 392,-300 386,-306 380,-306\"/>\n<text text-anchor=\"start\" x=\"288.5\" y=\"-290.8\" font-family=\"Helvetica,sans-Serif\" font-size=\"14.00\">Indice ≤ 0.5</text>\n<text text-anchor=\"start\" x=\"276\" y=\"-275.8\" font-family=\"Helvetica,sans-Serif\" font-size=\"14.00\">entropy = 0.918</text>\n<text text-anchor=\"start\" x=\"286.5\" y=\"-260.8\" font-family=\"Helvetica,sans-Serif\" font-size=\"14.00\">samples = 6</text>\n<text text-anchor=\"start\" x=\"285.5\" y=\"-245.8\" font-family=\"Helvetica,sans-Serif\" font-size=\"14.00\">value = [4, 2]</text>\n<text text-anchor=\"start\" x=\"268\" y=\"-230.8\" font-family=\"Helvetica,sans-Serif\" font-size=\"14.00\">class = Administra</text>\n</g>\n<!-- 2&#45;&gt;4 -->\n<g id=\"edge4\" class=\"edge\">\n<title>2&#45;&gt;4</title>\n<path fill=\"none\" stroke=\"black\" d=\"M273.76,-341.91C279.84,-333.01 286.34,-323.51 292.61,-314.33\"/>\n<polygon fill=\"black\" stroke=\"black\" points=\"295.54,-316.25 298.29,-306.02 289.76,-312.3 295.54,-316.25\"/>\n</g>\n<!-- 5 -->\n<g id=\"node6\" class=\"node\">\n<title>5</title>\n<path fill=\"#9ccef2\" stroke=\"black\" d=\"M310,-187C310,-187 182,-187 182,-187 176,-187 170,-181 170,-175 170,-175 170,-116 170,-116 170,-110 176,-104 182,-104 182,-104 310,-104 310,-104 316,-104 322,-110 322,-116 322,-116 322,-175 322,-175 322,-181 316,-187 310,-187\"/>\n<text text-anchor=\"start\" x=\"206.5\" y=\"-171.8\" font-family=\"Helvetica,sans-Serif\" font-size=\"14.00\">Azucar ≤ 0.5</text>\n<text text-anchor=\"start\" x=\"196\" y=\"-156.8\" font-family=\"Helvetica,sans-Serif\" font-size=\"14.00\">entropy = 0.918</text>\n<text text-anchor=\"start\" x=\"206.5\" y=\"-141.8\" font-family=\"Helvetica,sans-Serif\" font-size=\"14.00\">samples = 3</text>\n<text text-anchor=\"start\" x=\"205.5\" y=\"-126.8\" font-family=\"Helvetica,sans-Serif\" font-size=\"14.00\">value = [1, 2]</text>\n<text text-anchor=\"start\" x=\"178\" y=\"-111.8\" font-family=\"Helvetica,sans-Serif\" font-size=\"14.00\">class = No administra</text>\n</g>\n<!-- 4&#45;&gt;5 -->\n<g id=\"edge5\" class=\"edge\">\n<title>4&#45;&gt;5</title>\n<path fill=\"none\" stroke=\"black\" d=\"M298.24,-222.91C292.16,-214.01 285.66,-204.51 279.39,-195.33\"/>\n<polygon fill=\"black\" stroke=\"black\" points=\"282.24,-193.3 273.71,-187.02 276.46,-197.25 282.24,-193.3\"/>\n</g>\n<!-- 8 -->\n<g id=\"node9\" class=\"node\">\n<title>8</title>\n<path fill=\"#e58139\" stroke=\"black\" d=\"M460,-179.5C460,-179.5 352,-179.5 352,-179.5 346,-179.5 340,-173.5 340,-167.5 340,-167.5 340,-123.5 340,-123.5 340,-117.5 346,-111.5 352,-111.5 352,-111.5 460,-111.5 460,-111.5 466,-111.5 472,-117.5 472,-123.5 472,-123.5 472,-167.5 472,-167.5 472,-173.5 466,-179.5 460,-179.5\"/>\n<text text-anchor=\"start\" x=\"364\" y=\"-164.3\" font-family=\"Helvetica,sans-Serif\" font-size=\"14.00\">entropy = 0.0</text>\n<text text-anchor=\"start\" x=\"366.5\" y=\"-149.3\" font-family=\"Helvetica,sans-Serif\" font-size=\"14.00\">samples = 3</text>\n<text text-anchor=\"start\" x=\"365.5\" y=\"-134.3\" font-family=\"Helvetica,sans-Serif\" font-size=\"14.00\">value = [3, 0]</text>\n<text text-anchor=\"start\" x=\"348\" y=\"-119.3\" font-family=\"Helvetica,sans-Serif\" font-size=\"14.00\">class = Administra</text>\n</g>\n<!-- 4&#45;&gt;8 -->\n<g id=\"edge8\" class=\"edge\">\n<title>4&#45;&gt;8</title>\n<path fill=\"none\" stroke=\"black\" d=\"M353.76,-222.91C361.45,-211.65 369.82,-199.42 377.55,-188.11\"/>\n<polygon fill=\"black\" stroke=\"black\" points=\"380.57,-189.9 383.32,-179.67 374.79,-185.95 380.57,-189.9\"/>\n</g>\n<!-- 6 -->\n<g id=\"node7\" class=\"node\">\n<title>6</title>\n<path fill=\"#399de5\" stroke=\"black\" d=\"M230,-68C230,-68 102,-68 102,-68 96,-68 90,-62 90,-56 90,-56 90,-12 90,-12 90,-6 96,0 102,0 102,0 230,0 230,0 236,0 242,-6 242,-12 242,-12 242,-56 242,-56 242,-62 236,-68 230,-68\"/>\n<text text-anchor=\"start\" x=\"124\" y=\"-52.8\" font-family=\"Helvetica,sans-Serif\" font-size=\"14.00\">entropy = 0.0</text>\n<text text-anchor=\"start\" x=\"126.5\" y=\"-37.8\" font-family=\"Helvetica,sans-Serif\" font-size=\"14.00\">samples = 2</text>\n<text text-anchor=\"start\" x=\"125.5\" y=\"-22.8\" font-family=\"Helvetica,sans-Serif\" font-size=\"14.00\">value = [0, 2]</text>\n<text text-anchor=\"start\" x=\"98\" y=\"-7.8\" font-family=\"Helvetica,sans-Serif\" font-size=\"14.00\">class = No administra</text>\n</g>\n<!-- 5&#45;&gt;6 -->\n<g id=\"edge6\" class=\"edge\">\n<title>5&#45;&gt;6</title>\n<path fill=\"none\" stroke=\"black\" d=\"M216.21,-103.73C209.75,-94.88 202.9,-85.51 196.41,-76.63\"/>\n<polygon fill=\"black\" stroke=\"black\" points=\"199.05,-74.31 190.33,-68.3 193.4,-78.44 199.05,-74.31\"/>\n</g>\n<!-- 7 -->\n<g id=\"node8\" class=\"node\">\n<title>7</title>\n<path fill=\"#e58139\" stroke=\"black\" d=\"M380,-68C380,-68 272,-68 272,-68 266,-68 260,-62 260,-56 260,-56 260,-12 260,-12 260,-6 266,0 272,0 272,0 380,0 380,0 386,0 392,-6 392,-12 392,-12 392,-56 392,-56 392,-62 386,-68 380,-68\"/>\n<text text-anchor=\"start\" x=\"284\" y=\"-52.8\" font-family=\"Helvetica,sans-Serif\" font-size=\"14.00\">entropy = 0.0</text>\n<text text-anchor=\"start\" x=\"286.5\" y=\"-37.8\" font-family=\"Helvetica,sans-Serif\" font-size=\"14.00\">samples = 1</text>\n<text text-anchor=\"start\" x=\"285.5\" y=\"-22.8\" font-family=\"Helvetica,sans-Serif\" font-size=\"14.00\">value = [1, 0]</text>\n<text text-anchor=\"start\" x=\"268\" y=\"-7.8\" font-family=\"Helvetica,sans-Serif\" font-size=\"14.00\">class = Administra</text>\n</g>\n<!-- 5&#45;&gt;7 -->\n<g id=\"edge7\" class=\"edge\">\n<title>5&#45;&gt;7</title>\n<path fill=\"none\" stroke=\"black\" d=\"M275.79,-103.73C282.25,-94.88 289.1,-85.51 295.59,-76.63\"/>\n<polygon fill=\"black\" stroke=\"black\" points=\"298.6,-78.44 301.67,-68.3 292.95,-74.31 298.6,-78.44\"/>\n</g>\n</g>\n</svg>\n",
      "text/plain": "<graphviz.sources.Source at 0x19784fb9870>"
     },
     "execution_count": 100,
     "metadata": {},
     "output_type": "execute_result"
    }
   ],
   "source": [
    "dot_data = tree.export_graphviz(clf, out_file = None,\n",
    "                                feature_names = list(t_data.columns.values),\n",
    "                                class_names = [\"Administra\",\"No administra\"],\n",
    "                                filled = True, rounded = True, special_characters = True)\n",
    "\n",
    "graph = graphviz.Source(dot_data)\n",
    "graph"
   ],
   "metadata": {
    "collapsed": false,
    "pycharm": {
     "name": "#%%\n"
    }
   }
  },
  {
   "cell_type": "markdown",
   "source": [
    "## Test del modelo\n",
    "### Sacar la data del csv de pruebas con preprocesing manual pandas"
   ],
   "execution_count": 12,
   "outputs": [
    {
     "name": "stdout",
     "output_type": "stream",
     "text": [
      "subconjunto (array([ 0,  1,  3,  4,  5,  6,  9, 11, 12], dtype=int64),)\n",
      "Ejemplos del valor Paciente\n",
      "1     Si\n",
      "2     Si\n",
      "4     No\n",
      "5     No\n",
      "6     Si\n",
      "7     Si\n",
      "10    Si\n",
      "12    No\n",
      "13    Si\n",
      "Name: Administrar, dtype: object\n",
      "subgrupos ['No' 'Si'] [3 6]\n",
      "entropia del valor 0.9182958340544896\n",
      "probabilidad 0.6428571428571429\n",
      "info_a [[0.9182958340544896, 0.6428571428571429]]\n",
      "subconjunto (array([ 2,  7,  8, 10, 13], dtype=int64),)\n",
      "Ejemplos del valor Paciente\n",
      "3     Si\n",
      "8     Si\n",
      "9     No\n",
      "11    Si\n",
      "14    Si\n",
      "Name: Administrar, dtype: object\n",
      "subgrupos ['No' 'Si'] [1 4]\n",
      "entropia del valor 0.7219280948873623\n",
      "probabilidad 0.35714285714285715\n",
      "info_a [[0.9182958340544896, 0.6428571428571429], [0.7219280948873623, 0.35714285714285715]]\n",
      "entropia de la variable 0.8481644986376585\n",
      "ganancia de peso 0.01495606992897247\n"
     ]
    }
   }
  },
  {
   "cell_type": "code",
   "metadata": {
    "colab": {
     "base_uri": "https://localhost:8080/"
    },
    "id": "otddCjzwUCSJ",
    "executionInfo": {
     "status": "ok",
     "timestamp": 1625533323248,
     "user_tz": 300,
     "elapsed": 150,
     "user": {
      "displayName": "bernarda sandoval",
      "photoUrl": "",
      "userId": "13411305394088946203"
     }
    },
    "outputId": "d4c096ed-5301-4634-e37b-848ce36ef325",
    "pycharm": {
     "name": "#%%\n"
    }
   },
   "source": [
    "data_testM = farmcos_test.copy()\n",
    "data_testM[\"Presion\"] = np.where(data_testM[\"Presion\"] == \"Alta\",2,\n",
    "                        np.where(data_testM[\"Presion\"] == \"Media\",1,0))\n",
    "data_testM[\"Azucar\"] = np.where(data_testM[\"Azucar\"] == \"Alto\",1,0)\n",
    "data_testM[\"Indice\"] = np.where(data_testM[\"Indice\"] == \"Alto\",1,0)\n",
    "data_testM[\"Alergia\"] = np.where(data_testM[\"Alergia\"] == \"Si\",1,0)\n",
    "data_testM[\"Otras\"] = np.where(data_testM[\"Otras\"] == \"Si\",1,0)\n",
    "\n",
    "x_test = data_testM[data_test.columns[0:5]]\n",
    "#crear el modelo\n",
    "y_respuesta = clf.predict(x_test)"
   ],
   "execution_count": 13,
   "outputs": [
    {
     "name": "stdout",
     "output_type": "stream",
     "text": [
      "subconjunto (array([ 0,  2,  3,  7, 13], dtype=int64),)\n",
      "Ejemplos del valor Paciente\n",
      "1     Si\n",
      "3     Si\n",
      "4     No\n",
      "8     Si\n",
      "14    Si\n",
      "Name: Administrar, dtype: object\n",
      "subgrupos ['No' 'Si'] [1 4]\n",
      "entropia del valor 0.7219280948873623\n",
      "probabilidad 0.35714285714285715\n",
      "info_a [[0.7219280948873623, 0.35714285714285715]]\n",
      "subconjunto (array([ 1,  4,  5,  6,  8,  9, 10, 11, 12], dtype=int64),)\n",
      "Ejemplos del valor Paciente\n",
      "2     Si\n",
      "5     No\n",
      "6     Si\n",
      "7     Si\n",
      "9     No\n",
      "10    Si\n",
      "11    Si\n",
      "12    No\n",
      "13    Si\n",
      "Name: Administrar, dtype: object\n",
      "subgrupos ['No' 'Si'] [3 6]\n",
      "entropia del valor 0.9182958340544896\n",
      "probabilidad 0.6428571428571429\n",
      "info_a [[0.7219280948873623, 0.35714285714285715], [0.9182958340544896, 0.6428571428571429]]\n",
      "entropia de la variable 0.8481644986376585\n",
      "ganancia de Alergia 0.01495606992897247\n"
     ]
    }
   ]
  },
  {
   "cell_type": "markdown",
   "source": [
    "## Datos"
   ],
   "metadata": {
    "collapsed": false,
    "pycharm": {
     "name": "#%% md\n"
    }
   },
   "source": [
    "from sklearn import tree\n",
    "from sklearn import preprocessing\n",
    "\n",
    "data = pd.DataFrame()\n",
    "\n",
    "#Transformar a valores numeicos\n",
    "le = preprocessing.LabelEncoder()\n",
    "\n",
    "for v in labelsFarmacos:\n",
    "    le.fit(farmacos_data[v])\n",
    "    data[v] = le.transform(farmacos_data[v])\n",
    "\n",
    "# Build tree\n",
    "clf = tree.DecisionTreeClassifier(criterion='entropy', max_depth=4)\n",
    "\n",
    "t_data = data[data.columns[0:4]]\n",
    "t_target = data[data.columns[4]]\n",
    "\n",
    "# Fit model to data\n",
    "clf = clf.fit(t_data, t_target)\n",
    "t_data,t_target,clf\n",
    "\n",
    "# Visualize tree\n",
    "import graphviz \n",
    "dot_data = tree.export_graphviz(clf, out_file=None, \n",
    "                         feature_names=list(t_data.columns.values),  \n",
    "                         class_names=[\"No administra\", \"Administra\"],\n",
    "                         filled=True, rounded=True,  \n",
    "                         special_characters=True)  \n",
    "graph = graphviz.Source(dot_data)  \n",
    "graph"
   ],
   "execution_count": 14,
   "outputs": [
    {
     "data": {
      "image/svg+xml": "<?xml version=\"1.0\" encoding=\"UTF-8\" standalone=\"no\"?>\n<!DOCTYPE svg PUBLIC \"-//W3C//DTD SVG 1.1//EN\"\n \"http://www.w3.org/Graphics/SVG/1.1/DTD/svg11.dtd\">\n<!-- Generated by graphviz version 4.0.0 (20220529.0937)\n -->\n<!-- Title: Tree Pages: 1 -->\n<svg width=\"633pt\" height=\"552pt\"\n viewBox=\"0.00 0.00 633.00 552.00\" xmlns=\"http://www.w3.org/2000/svg\" xmlns:xlink=\"http://www.w3.org/1999/xlink\">\n<g id=\"graph0\" class=\"graph\" transform=\"scale(1 1) rotate(0) translate(4 548)\">\n<title>Tree</title>\n<polygon fill=\"white\" stroke=\"transparent\" points=\"-4,4 -4,-548 629,-548 629,4 -4,4\"/>\n<!-- 0 -->\n<g id=\"node1\" class=\"node\">\n<title>0</title>\n<path fill=\"#a7d3f3\" stroke=\"black\" d=\"M442,-544C442,-544 334,-544 334,-544 328,-544 322,-538 322,-532 322,-532 322,-473 322,-473 322,-467 328,-461 334,-461 334,-461 442,-461 442,-461 448,-461 454,-467 454,-473 454,-473 454,-532 454,-532 454,-538 448,-544 442,-544\"/>\n<text text-anchor=\"start\" x=\"345.5\" y=\"-528.8\" font-family=\"Helvetica,sans-Serif\" font-size=\"14.00\">Presion ≤ 1.5</text>\n<text text-anchor=\"start\" x=\"342\" y=\"-513.8\" font-family=\"Helvetica,sans-Serif\" font-size=\"14.00\">entropy = 0.94</text>\n<text text-anchor=\"start\" x=\"344.5\" y=\"-498.8\" font-family=\"Helvetica,sans-Serif\" font-size=\"14.00\">samples = 14</text>\n<text text-anchor=\"start\" x=\"347.5\" y=\"-483.8\" font-family=\"Helvetica,sans-Serif\" font-size=\"14.00\">value = [5, 9]</text>\n<text text-anchor=\"start\" x=\"330\" y=\"-468.8\" font-family=\"Helvetica,sans-Serif\" font-size=\"14.00\">class = Administra</text>\n</g>\n<!-- 1 -->\n<g id=\"node2\" class=\"node\">\n<title>1</title>\n<path fill=\"#deeffb\" stroke=\"black\" d=\"M367,-425C367,-425 259,-425 259,-425 253,-425 247,-419 247,-413 247,-413 247,-354 247,-354 247,-348 253,-342 259,-342 259,-342 367,-342 367,-342 373,-342 379,-348 379,-354 379,-354 379,-413 379,-413 379,-419 373,-425 367,-425\"/>\n<text text-anchor=\"start\" x=\"273.5\" y=\"-409.8\" font-family=\"Helvetica,sans-Serif\" font-size=\"14.00\">Azucar ≤ 0.5</text>\n<text text-anchor=\"start\" x=\"263\" y=\"-394.8\" font-family=\"Helvetica,sans-Serif\" font-size=\"14.00\">entropy = 0.994</text>\n<text text-anchor=\"start\" x=\"269.5\" y=\"-379.8\" font-family=\"Helvetica,sans-Serif\" font-size=\"14.00\">samples = 11</text>\n<text text-anchor=\"start\" x=\"272.5\" y=\"-364.8\" font-family=\"Helvetica,sans-Serif\" font-size=\"14.00\">value = [5, 6]</text>\n<text text-anchor=\"start\" x=\"255\" y=\"-349.8\" font-family=\"Helvetica,sans-Serif\" font-size=\"14.00\">class = Administra</text>\n</g>\n<!-- 0&#45;&gt;1 -->\n<g id=\"edge1\" class=\"edge\">\n<title>0&#45;&gt;1</title>\n<path fill=\"none\" stroke=\"black\" d=\"M361.98,-460.91C356.34,-452.1 350.31,-442.7 344.48,-433.61\"/>\n<polygon fill=\"black\" stroke=\"black\" points=\"347.32,-431.55 338.97,-425.02 341.43,-435.33 347.32,-431.55\"/>\n<text text-anchor=\"middle\" x=\"333.63\" y=\"-445.74\" font-family=\"Helvetica,sans-Serif\" font-size=\"14.00\">True</text>\n</g>\n<!-- 12 -->\n<g id=\"node13\" class=\"node\">\n<title>12</title>\n<path fill=\"#399de5\" stroke=\"black\" d=\"M517,-417.5C517,-417.5 409,-417.5 409,-417.5 403,-417.5 397,-411.5 397,-405.5 397,-405.5 397,-361.5 397,-361.5 397,-355.5 403,-349.5 409,-349.5 409,-349.5 517,-349.5 517,-349.5 523,-349.5 529,-355.5 529,-361.5 529,-361.5 529,-405.5 529,-405.5 529,-411.5 523,-417.5 517,-417.5\"/>\n<text text-anchor=\"start\" x=\"421\" y=\"-402.3\" font-family=\"Helvetica,sans-Serif\" font-size=\"14.00\">entropy = 0.0</text>\n<text text-anchor=\"start\" x=\"423.5\" y=\"-387.3\" font-family=\"Helvetica,sans-Serif\" font-size=\"14.00\">samples = 3</text>\n<text text-anchor=\"start\" x=\"422.5\" y=\"-372.3\" font-family=\"Helvetica,sans-Serif\" font-size=\"14.00\">value = [0, 3]</text>\n<text text-anchor=\"start\" x=\"405\" y=\"-357.3\" font-family=\"Helvetica,sans-Serif\" font-size=\"14.00\">class = Administra</text>\n</g>\n<!-- 0&#45;&gt;12 -->\n<g id=\"edge12\" class=\"edge\">\n<title>0&#45;&gt;12</title>\n<path fill=\"none\" stroke=\"black\" d=\"M414.02,-460.91C421.24,-449.65 429.08,-437.42 436.33,-426.11\"/>\n<polygon fill=\"black\" stroke=\"black\" points=\"439.29,-427.97 441.74,-417.67 433.4,-424.2 439.29,-427.97\"/>\n<text text-anchor=\"middle\" x=\"447.08\" y=\"-438.39\" font-family=\"Helvetica,sans-Serif\" font-size=\"14.00\">False</text>\n</g>\n<!-- 2 -->\n<g id=\"node3\" class=\"node\">\n<title>2</title>\n<path fill=\"#f2c09c\" stroke=\"black\" d=\"M297,-306C297,-306 169,-306 169,-306 163,-306 157,-300 157,-294 157,-294 157,-235 157,-235 157,-229 163,-223 169,-223 169,-223 297,-223 297,-223 303,-223 309,-229 309,-235 309,-235 309,-294 309,-294 309,-300 303,-306 297,-306\"/>\n<text text-anchor=\"start\" x=\"193\" y=\"-290.8\" font-family=\"Helvetica,sans-Serif\" font-size=\"14.00\">Alergia ≤ 0.5</text>\n<text text-anchor=\"start\" x=\"183\" y=\"-275.8\" font-family=\"Helvetica,sans-Serif\" font-size=\"14.00\">entropy = 0.918</text>\n<text text-anchor=\"start\" x=\"193.5\" y=\"-260.8\" font-family=\"Helvetica,sans-Serif\" font-size=\"14.00\">samples = 6</text>\n<text text-anchor=\"start\" x=\"192.5\" y=\"-245.8\" font-family=\"Helvetica,sans-Serif\" font-size=\"14.00\">value = [4, 2]</text>\n<text text-anchor=\"start\" x=\"165\" y=\"-230.8\" font-family=\"Helvetica,sans-Serif\" font-size=\"14.00\">class = No administra</text>\n</g>\n<!-- 1&#45;&gt;2 -->\n<g id=\"edge2\" class=\"edge\">\n<title>1&#45;&gt;2</title>\n<path fill=\"none\" stroke=\"black\" d=\"M285.24,-341.91C279.16,-333.01 272.66,-323.51 266.39,-314.33\"/>\n<polygon fill=\"black\" stroke=\"black\" points=\"269.24,-312.3 260.71,-306.02 263.46,-316.25 269.24,-312.3\"/>\n</g>\n<!-- 7 -->\n<g id=\"node8\" class=\"node\">\n<title>7</title>\n<path fill=\"#6ab6ec\" stroke=\"black\" d=\"M447,-306C447,-306 339,-306 339,-306 333,-306 327,-300 327,-294 327,-294 327,-235 327,-235 327,-229 333,-223 339,-223 339,-223 447,-223 447,-223 453,-223 459,-229 459,-235 459,-235 459,-294 459,-294 459,-300 453,-306 447,-306\"/>\n<text text-anchor=\"start\" x=\"350.5\" y=\"-290.8\" font-family=\"Helvetica,sans-Serif\" font-size=\"14.00\">Presion ≤ 0.5</text>\n<text text-anchor=\"start\" x=\"343\" y=\"-275.8\" font-family=\"Helvetica,sans-Serif\" font-size=\"14.00\">entropy = 0.722</text>\n<text text-anchor=\"start\" x=\"353.5\" y=\"-260.8\" font-family=\"Helvetica,sans-Serif\" font-size=\"14.00\">samples = 5</text>\n<text text-anchor=\"start\" x=\"352.5\" y=\"-245.8\" font-family=\"Helvetica,sans-Serif\" font-size=\"14.00\">value = [1, 4]</text>\n<text text-anchor=\"start\" x=\"335\" y=\"-230.8\" font-family=\"Helvetica,sans-Serif\" font-size=\"14.00\">class = Administra</text>\n</g>\n<!-- 1&#45;&gt;7 -->\n<g id=\"edge7\" class=\"edge\">\n<title>1&#45;&gt;7</title>\n<path fill=\"none\" stroke=\"black\" d=\"M340.76,-341.91C346.84,-333.01 353.34,-323.51 359.61,-314.33\"/>\n<polygon fill=\"black\" stroke=\"black\" points=\"362.54,-316.25 365.29,-306.02 356.76,-312.3 362.54,-316.25\"/>\n</g>\n<!-- 3 -->\n<g id=\"node4\" class=\"node\">\n<title>3</title>\n<path fill=\"#e58139\" stroke=\"black\" d=\"M140,-179.5C140,-179.5 12,-179.5 12,-179.5 6,-179.5 0,-173.5 0,-167.5 0,-167.5 0,-123.5 0,-123.5 0,-117.5 6,-111.5 12,-111.5 12,-111.5 140,-111.5 140,-111.5 146,-111.5 152,-117.5 152,-123.5 152,-123.5 152,-167.5 152,-167.5 152,-173.5 146,-179.5 140,-179.5\"/>\n<text text-anchor=\"start\" x=\"34\" y=\"-164.3\" font-family=\"Helvetica,sans-Serif\" font-size=\"14.00\">entropy = 0.0</text>\n<text text-anchor=\"start\" x=\"36.5\" y=\"-149.3\" font-family=\"Helvetica,sans-Serif\" font-size=\"14.00\">samples = 3</text>\n<text text-anchor=\"start\" x=\"35.5\" y=\"-134.3\" font-family=\"Helvetica,sans-Serif\" font-size=\"14.00\">value = [3, 0]</text>\n<text text-anchor=\"start\" x=\"8\" y=\"-119.3\" font-family=\"Helvetica,sans-Serif\" font-size=\"14.00\">class = No administra</text>\n</g>\n<!-- 2&#45;&gt;3 -->\n<g id=\"edge3\" class=\"edge\">\n<title>2&#45;&gt;3</title>\n<path fill=\"none\" stroke=\"black\" d=\"M178.53,-222.91C162.39,-210.88 144.75,-197.73 128.72,-185.79\"/>\n<polygon fill=\"black\" stroke=\"black\" points=\"130.62,-182.84 120.51,-179.67 126.43,-188.45 130.62,-182.84\"/>\n</g>\n<!-- 4 -->\n<g id=\"node5\" class=\"node\">\n<title>4</title>\n<path fill=\"#9ccef2\" stroke=\"black\" d=\"M290,-187C290,-187 182,-187 182,-187 176,-187 170,-181 170,-175 170,-175 170,-116 170,-116 170,-110 176,-104 182,-104 182,-104 290,-104 290,-104 296,-104 302,-110 302,-116 302,-116 302,-175 302,-175 302,-181 296,-187 290,-187\"/>\n<text text-anchor=\"start\" x=\"193.5\" y=\"-171.8\" font-family=\"Helvetica,sans-Serif\" font-size=\"14.00\">Presion ≤ 0.5</text>\n<text text-anchor=\"start\" x=\"186\" y=\"-156.8\" font-family=\"Helvetica,sans-Serif\" font-size=\"14.00\">entropy = 0.918</text>\n<text text-anchor=\"start\" x=\"196.5\" y=\"-141.8\" font-family=\"Helvetica,sans-Serif\" font-size=\"14.00\">samples = 3</text>\n<text text-anchor=\"start\" x=\"195.5\" y=\"-126.8\" font-family=\"Helvetica,sans-Serif\" font-size=\"14.00\">value = [1, 2]</text>\n<text text-anchor=\"start\" x=\"178\" y=\"-111.8\" font-family=\"Helvetica,sans-Serif\" font-size=\"14.00\">class = Administra</text>\n</g>\n<!-- 2&#45;&gt;4 -->\n<g id=\"edge4\" class=\"edge\">\n<title>2&#45;&gt;4</title>\n<path fill=\"none\" stroke=\"black\" d=\"M234.04,-222.91C234.25,-214.56 234.48,-205.67 234.7,-197.02\"/>\n<polygon fill=\"black\" stroke=\"black\" points=\"238.2,-197.11 234.96,-187.02 231.21,-196.93 238.2,-197.11\"/>\n</g>\n<!-- 5 -->\n<g id=\"node6\" class=\"node\">\n<title>5</title>\n<path fill=\"#ffffff\" stroke=\"black\" d=\"M142,-68C142,-68 14,-68 14,-68 8,-68 2,-62 2,-56 2,-56 2,-12 2,-12 2,-6 8,0 14,0 14,0 142,0 142,0 148,0 154,-6 154,-12 154,-12 154,-56 154,-56 154,-62 148,-68 142,-68\"/>\n<text text-anchor=\"start\" x=\"36\" y=\"-52.8\" font-family=\"Helvetica,sans-Serif\" font-size=\"14.00\">entropy = 1.0</text>\n<text text-anchor=\"start\" x=\"38.5\" y=\"-37.8\" font-family=\"Helvetica,sans-Serif\" font-size=\"14.00\">samples = 2</text>\n<text text-anchor=\"start\" x=\"37.5\" y=\"-22.8\" font-family=\"Helvetica,sans-Serif\" font-size=\"14.00\">value = [1, 1]</text>\n<text text-anchor=\"start\" x=\"10\" y=\"-7.8\" font-family=\"Helvetica,sans-Serif\" font-size=\"14.00\">class = No administra</text>\n</g>\n<!-- 4&#45;&gt;5 -->\n<g id=\"edge5\" class=\"edge\">\n<title>4&#45;&gt;5</title>\n<path fill=\"none\" stroke=\"black\" d=\"M177.17,-103.73C163.14,-94.01 148.21,-83.66 134.31,-74.02\"/>\n<polygon fill=\"black\" stroke=\"black\" points=\"136.01,-70.94 125.8,-68.13 132.02,-76.7 136.01,-70.94\"/>\n</g>\n<!-- 6 -->\n<g id=\"node7\" class=\"node\">\n<title>6</title>\n<path fill=\"#399de5\" stroke=\"black\" d=\"M292,-68C292,-68 184,-68 184,-68 178,-68 172,-62 172,-56 172,-56 172,-12 172,-12 172,-6 178,0 184,0 184,0 292,0 292,0 298,0 304,-6 304,-12 304,-12 304,-56 304,-56 304,-62 298,-68 292,-68\"/>\n<text text-anchor=\"start\" x=\"196\" y=\"-52.8\" font-family=\"Helvetica,sans-Serif\" font-size=\"14.00\">entropy = 0.0</text>\n<text text-anchor=\"start\" x=\"198.5\" y=\"-37.8\" font-family=\"Helvetica,sans-Serif\" font-size=\"14.00\">samples = 1</text>\n<text text-anchor=\"start\" x=\"197.5\" y=\"-22.8\" font-family=\"Helvetica,sans-Serif\" font-size=\"14.00\">value = [0, 1]</text>\n<text text-anchor=\"start\" x=\"180\" y=\"-7.8\" font-family=\"Helvetica,sans-Serif\" font-size=\"14.00\">class = Administra</text>\n</g>\n<!-- 4&#45;&gt;6 -->\n<g id=\"edge6\" class=\"edge\">\n<title>4&#45;&gt;6</title>\n<path fill=\"none\" stroke=\"black\" d=\"M236.74,-103.73C236.89,-95.52 237.05,-86.86 237.2,-78.56\"/>\n<polygon fill=\"black\" stroke=\"black\" points=\"240.71,-78.36 237.39,-68.3 233.71,-78.23 240.71,-78.36\"/>\n</g>\n<!-- 8 -->\n<g id=\"node9\" class=\"node\">\n<title>8</title>\n<path fill=\"#9ccef2\" stroke=\"black\" d=\"M445,-187C445,-187 337,-187 337,-187 331,-187 325,-181 325,-175 325,-175 325,-116 325,-116 325,-110 331,-104 337,-104 337,-104 445,-104 445,-104 451,-104 457,-110 457,-116 457,-116 457,-175 457,-175 457,-181 451,-187 445,-187\"/>\n<text text-anchor=\"start\" x=\"351\" y=\"-171.8\" font-family=\"Helvetica,sans-Serif\" font-size=\"14.00\">Alergia ≤ 0.5</text>\n<text text-anchor=\"start\" x=\"341\" y=\"-156.8\" font-family=\"Helvetica,sans-Serif\" font-size=\"14.00\">entropy = 0.918</text>\n<text text-anchor=\"start\" x=\"351.5\" y=\"-141.8\" font-family=\"Helvetica,sans-Serif\" font-size=\"14.00\">samples = 3</text>\n<text text-anchor=\"start\" x=\"350.5\" y=\"-126.8\" font-family=\"Helvetica,sans-Serif\" font-size=\"14.00\">value = [1, 2]</text>\n<text text-anchor=\"start\" x=\"333\" y=\"-111.8\" font-family=\"Helvetica,sans-Serif\" font-size=\"14.00\">class = Administra</text>\n</g>\n<!-- 7&#45;&gt;8 -->\n<g id=\"edge8\" class=\"edge\">\n<title>7&#45;&gt;8</title>\n<path fill=\"none\" stroke=\"black\" d=\"M392.31,-222.91C392.16,-214.56 392.01,-205.67 391.86,-197.02\"/>\n<polygon fill=\"black\" stroke=\"black\" points=\"395.36,-196.96 391.69,-187.02 388.36,-197.08 395.36,-196.96\"/>\n</g>\n<!-- 11 -->\n<g id=\"node12\" class=\"node\">\n<title>11</title>\n<path fill=\"#399de5\" stroke=\"black\" d=\"M595,-179.5C595,-179.5 487,-179.5 487,-179.5 481,-179.5 475,-173.5 475,-167.5 475,-167.5 475,-123.5 475,-123.5 475,-117.5 481,-111.5 487,-111.5 487,-111.5 595,-111.5 595,-111.5 601,-111.5 607,-117.5 607,-123.5 607,-123.5 607,-167.5 607,-167.5 607,-173.5 601,-179.5 595,-179.5\"/>\n<text text-anchor=\"start\" x=\"499\" y=\"-164.3\" font-family=\"Helvetica,sans-Serif\" font-size=\"14.00\">entropy = 0.0</text>\n<text text-anchor=\"start\" x=\"501.5\" y=\"-149.3\" font-family=\"Helvetica,sans-Serif\" font-size=\"14.00\">samples = 2</text>\n<text text-anchor=\"start\" x=\"500.5\" y=\"-134.3\" font-family=\"Helvetica,sans-Serif\" font-size=\"14.00\">value = [0, 2]</text>\n<text text-anchor=\"start\" x=\"483\" y=\"-119.3\" font-family=\"Helvetica,sans-Serif\" font-size=\"14.00\">class = Administra</text>\n</g>\n<!-- 7&#45;&gt;11 -->\n<g id=\"edge11\" class=\"edge\">\n<title>7&#45;&gt;11</title>\n<path fill=\"none\" stroke=\"black\" d=\"M444.35,-222.91C459.42,-210.99 475.89,-197.98 490.88,-186.12\"/>\n<polygon fill=\"black\" stroke=\"black\" points=\"493.37,-188.61 499.05,-179.67 489.03,-183.12 493.37,-188.61\"/>\n</g>\n<!-- 9 -->\n<g id=\"node10\" class=\"node\">\n<title>9</title>\n<path fill=\"#399de5\" stroke=\"black\" d=\"M443,-68C443,-68 335,-68 335,-68 329,-68 323,-62 323,-56 323,-56 323,-12 323,-12 323,-6 329,0 335,0 335,0 443,0 443,0 449,0 455,-6 455,-12 455,-12 455,-56 455,-56 455,-62 449,-68 443,-68\"/>\n<text text-anchor=\"start\" x=\"347\" y=\"-52.8\" font-family=\"Helvetica,sans-Serif\" font-size=\"14.00\">entropy = 0.0</text>\n<text text-anchor=\"start\" x=\"349.5\" y=\"-37.8\" font-family=\"Helvetica,sans-Serif\" font-size=\"14.00\">samples = 1</text>\n<text text-anchor=\"start\" x=\"348.5\" y=\"-22.8\" font-family=\"Helvetica,sans-Serif\" font-size=\"14.00\">value = [0, 1]</text>\n<text text-anchor=\"start\" x=\"331\" y=\"-7.8\" font-family=\"Helvetica,sans-Serif\" font-size=\"14.00\">class = Administra</text>\n</g>\n<!-- 8&#45;&gt;9 -->\n<g id=\"edge9\" class=\"edge\">\n<title>8&#45;&gt;9</title>\n<path fill=\"none\" stroke=\"black\" d=\"M390.26,-103.73C390.11,-95.52 389.95,-86.86 389.8,-78.56\"/>\n<polygon fill=\"black\" stroke=\"black\" points=\"393.29,-78.23 389.61,-68.3 386.29,-78.36 393.29,-78.23\"/>\n</g>\n<!-- 10 -->\n<g id=\"node11\" class=\"node\">\n<title>10</title>\n<path fill=\"#ffffff\" stroke=\"black\" d=\"M613,-68C613,-68 485,-68 485,-68 479,-68 473,-62 473,-56 473,-56 473,-12 473,-12 473,-6 479,0 485,0 485,0 613,0 613,0 619,0 625,-6 625,-12 625,-12 625,-56 625,-56 625,-62 619,-68 613,-68\"/>\n<text text-anchor=\"start\" x=\"507\" y=\"-52.8\" font-family=\"Helvetica,sans-Serif\" font-size=\"14.00\">entropy = 1.0</text>\n<text text-anchor=\"start\" x=\"509.5\" y=\"-37.8\" font-family=\"Helvetica,sans-Serif\" font-size=\"14.00\">samples = 2</text>\n<text text-anchor=\"start\" x=\"508.5\" y=\"-22.8\" font-family=\"Helvetica,sans-Serif\" font-size=\"14.00\">value = [1, 1]</text>\n<text text-anchor=\"start\" x=\"481\" y=\"-7.8\" font-family=\"Helvetica,sans-Serif\" font-size=\"14.00\">class = No administra</text>\n</g>\n<!-- 8&#45;&gt;10 -->\n<g id=\"edge10\" class=\"edge\">\n<title>8&#45;&gt;10</title>\n<path fill=\"none\" stroke=\"black\" d=\"M449.83,-103.73C463.86,-94.01 478.79,-83.66 492.69,-74.02\"/>\n<polygon fill=\"black\" stroke=\"black\" points=\"494.98,-76.7 501.2,-68.13 490.99,-70.94 494.98,-76.7\"/>\n</g>\n</g>\n</svg>\n",
      "text/plain": "<graphviz.sources.Source at 0x1c1a3a76560>"
     },
     "execution_count": 14,
     "metadata": {},
     "output_type": "execute_result"
    }
   ],
   "source": [
    "t_data"
   ],
   "metadata": {
    "collapsed": false,
    "pycharm": {
     "name": "#%%\n"
    }
   }
  },
  {
   "cell_type": "markdown",
   "source": [
    "## Resultados datos de entrenamiento"
   ],
   "execution_count": 28,
   "outputs": [
    {
     "ename": "KeyError",
     "evalue": "'Pelo'",
     "output_type": "error",
     "traceback": [
      "\u001B[1;31m---------------------------------------------------------------------------\u001B[0m",
      "\u001B[1;31mKeyError\u001B[0m                                  Traceback (most recent call last)",
      "File \u001B[1;32m~\\AppData\\Local\\Programs\\Python\\Python310\\lib\\site-packages\\pandas\\core\\indexes\\base.py:3621\u001B[0m, in \u001B[0;36mIndex.get_loc\u001B[1;34m(self, key, method, tolerance)\u001B[0m\n\u001B[0;32m   3620\u001B[0m \u001B[38;5;28;01mtry\u001B[39;00m:\n\u001B[1;32m-> 3621\u001B[0m     \u001B[38;5;28;01mreturn\u001B[39;00m \u001B[38;5;28;43mself\u001B[39;49m\u001B[38;5;241;43m.\u001B[39;49m\u001B[43m_engine\u001B[49m\u001B[38;5;241;43m.\u001B[39;49m\u001B[43mget_loc\u001B[49m\u001B[43m(\u001B[49m\u001B[43mcasted_key\u001B[49m\u001B[43m)\u001B[49m\n\u001B[0;32m   3622\u001B[0m \u001B[38;5;28;01mexcept\u001B[39;00m \u001B[38;5;167;01mKeyError\u001B[39;00m \u001B[38;5;28;01mas\u001B[39;00m err:\n",
      "File \u001B[1;32m~\\AppData\\Local\\Programs\\Python\\Python310\\lib\\site-packages\\pandas\\_libs\\index.pyx:136\u001B[0m, in \u001B[0;36mpandas._libs.index.IndexEngine.get_loc\u001B[1;34m()\u001B[0m\n",
      "File \u001B[1;32m~\\AppData\\Local\\Programs\\Python\\Python310\\lib\\site-packages\\pandas\\_libs\\index.pyx:163\u001B[0m, in \u001B[0;36mpandas._libs.index.IndexEngine.get_loc\u001B[1;34m()\u001B[0m\n",
      "File \u001B[1;32mpandas\\_libs\\hashtable_class_helper.pxi:5198\u001B[0m, in \u001B[0;36mpandas._libs.hashtable.PyObjectHashTable.get_item\u001B[1;34m()\u001B[0m\n",
      "File \u001B[1;32mpandas\\_libs\\hashtable_class_helper.pxi:5206\u001B[0m, in \u001B[0;36mpandas._libs.hashtable.PyObjectHashTable.get_item\u001B[1;34m()\u001B[0m\n",
      "\u001B[1;31mKeyError\u001B[0m: 'Pelo'",
      "\nThe above exception was the direct cause of the following exception:\n",
      "\u001B[1;31mKeyError\u001B[0m                                  Traceback (most recent call last)",
      "Input \u001B[1;32mIn [28]\u001B[0m, in \u001B[0;36m<cell line: 3>\u001B[1;34m()\u001B[0m\n\u001B[0;32m      1\u001B[0m data \u001B[38;5;241m=\u001B[39m farmacos_data\u001B[38;5;241m.\u001B[39mcopy()\n\u001B[1;32m----> 3\u001B[0m data[\u001B[38;5;124m\"\u001B[39m\u001B[38;5;124mPelo\u001B[39m\u001B[38;5;124m\"\u001B[39m] \u001B[38;5;241m=\u001B[39m np\u001B[38;5;241m.\u001B[39mwhere(\u001B[43mdata\u001B[49m\u001B[43m[\u001B[49m\u001B[38;5;124;43m\"\u001B[39;49m\u001B[38;5;124;43mPelo\u001B[39;49m\u001B[38;5;124;43m\"\u001B[39;49m\u001B[43m]\u001B[49m\u001B[38;5;241m==\u001B[39m\u001B[38;5;124m\"\u001B[39m\u001B[38;5;124mrubio\u001B[39m\u001B[38;5;124m\"\u001B[39m, \u001B[38;5;241m2\u001B[39m, \n\u001B[0;32m      4\u001B[0m                           np\u001B[38;5;241m.\u001B[39mwhere(data[\u001B[38;5;124m\"\u001B[39m\u001B[38;5;124mPelo\u001B[39m\u001B[38;5;124m\"\u001B[39m]\u001B[38;5;241m==\u001B[39m\u001B[38;5;124m\"\u001B[39m\u001B[38;5;124mmoreno\u001B[39m\u001B[38;5;124m\"\u001B[39m, \u001B[38;5;241m1\u001B[39m, \u001B[38;5;241m0\u001B[39m))\n\u001B[0;32m      6\u001B[0m data[\u001B[38;5;124m\"\u001B[39m\u001B[38;5;124mAltura\u001B[39m\u001B[38;5;124m\"\u001B[39m] \u001B[38;5;241m=\u001B[39m np\u001B[38;5;241m.\u001B[39mwhere(data[\u001B[38;5;124m\"\u001B[39m\u001B[38;5;124mAltura\u001B[39m\u001B[38;5;124m\"\u001B[39m]\u001B[38;5;241m==\u001B[39m\u001B[38;5;124m\"\u001B[39m\u001B[38;5;124mmedio\u001B[39m\u001B[38;5;124m\"\u001B[39m, \u001B[38;5;241m2\u001B[39m, \n\u001B[0;32m      7\u001B[0m                                np\u001B[38;5;241m.\u001B[39mwhere(data[\u001B[38;5;124m\"\u001B[39m\u001B[38;5;124mAltura\u001B[39m\u001B[38;5;124m\"\u001B[39m]\u001B[38;5;241m==\u001B[39m\u001B[38;5;124m\"\u001B[39m\u001B[38;5;124malto\u001B[39m\u001B[38;5;124m\"\u001B[39m, \u001B[38;5;241m1\u001B[39m, \u001B[38;5;241m0\u001B[39m))\n\u001B[0;32m      9\u001B[0m data[\u001B[38;5;124m\"\u001B[39m\u001B[38;5;124mPeso\u001B[39m\u001B[38;5;124m\"\u001B[39m] \u001B[38;5;241m=\u001B[39m np\u001B[38;5;241m.\u001B[39mwhere(data[\u001B[38;5;124m\"\u001B[39m\u001B[38;5;124mPeso\u001B[39m\u001B[38;5;124m\"\u001B[39m]\u001B[38;5;241m==\u001B[39m\u001B[38;5;124m\"\u001B[39m\u001B[38;5;124mbajo\u001B[39m\u001B[38;5;124m\"\u001B[39m, \u001B[38;5;241m2\u001B[39m,\n\u001B[0;32m     10\u001B[0m                         np\u001B[38;5;241m.\u001B[39mwhere(data[\u001B[38;5;124m\"\u001B[39m\u001B[38;5;124mPeso\u001B[39m\u001B[38;5;124m\"\u001B[39m]\u001B[38;5;241m==\u001B[39m\u001B[38;5;124m\"\u001B[39m\u001B[38;5;124mmedio\u001B[39m\u001B[38;5;124m\"\u001B[39m,\u001B[38;5;241m1\u001B[39m,\u001B[38;5;241m0\u001B[39m))\n",
      "File \u001B[1;32m~\\AppData\\Local\\Programs\\Python\\Python310\\lib\\site-packages\\pandas\\core\\frame.py:3505\u001B[0m, in \u001B[0;36mDataFrame.__getitem__\u001B[1;34m(self, key)\u001B[0m\n\u001B[0;32m   3503\u001B[0m \u001B[38;5;28;01mif\u001B[39;00m \u001B[38;5;28mself\u001B[39m\u001B[38;5;241m.\u001B[39mcolumns\u001B[38;5;241m.\u001B[39mnlevels \u001B[38;5;241m>\u001B[39m \u001B[38;5;241m1\u001B[39m:\n\u001B[0;32m   3504\u001B[0m     \u001B[38;5;28;01mreturn\u001B[39;00m \u001B[38;5;28mself\u001B[39m\u001B[38;5;241m.\u001B[39m_getitem_multilevel(key)\n\u001B[1;32m-> 3505\u001B[0m indexer \u001B[38;5;241m=\u001B[39m \u001B[38;5;28;43mself\u001B[39;49m\u001B[38;5;241;43m.\u001B[39;49m\u001B[43mcolumns\u001B[49m\u001B[38;5;241;43m.\u001B[39;49m\u001B[43mget_loc\u001B[49m\u001B[43m(\u001B[49m\u001B[43mkey\u001B[49m\u001B[43m)\u001B[49m\n\u001B[0;32m   3506\u001B[0m \u001B[38;5;28;01mif\u001B[39;00m is_integer(indexer):\n\u001B[0;32m   3507\u001B[0m     indexer \u001B[38;5;241m=\u001B[39m [indexer]\n",
      "File \u001B[1;32m~\\AppData\\Local\\Programs\\Python\\Python310\\lib\\site-packages\\pandas\\core\\indexes\\base.py:3623\u001B[0m, in \u001B[0;36mIndex.get_loc\u001B[1;34m(self, key, method, tolerance)\u001B[0m\n\u001B[0;32m   3621\u001B[0m     \u001B[38;5;28;01mreturn\u001B[39;00m \u001B[38;5;28mself\u001B[39m\u001B[38;5;241m.\u001B[39m_engine\u001B[38;5;241m.\u001B[39mget_loc(casted_key)\n\u001B[0;32m   3622\u001B[0m \u001B[38;5;28;01mexcept\u001B[39;00m \u001B[38;5;167;01mKeyError\u001B[39;00m \u001B[38;5;28;01mas\u001B[39;00m err:\n\u001B[1;32m-> 3623\u001B[0m     \u001B[38;5;28;01mraise\u001B[39;00m \u001B[38;5;167;01mKeyError\u001B[39;00m(key) \u001B[38;5;28;01mfrom\u001B[39;00m \u001B[38;5;21;01merr\u001B[39;00m\n\u001B[0;32m   3624\u001B[0m \u001B[38;5;28;01mexcept\u001B[39;00m \u001B[38;5;167;01mTypeError\u001B[39;00m:\n\u001B[0;32m   3625\u001B[0m     \u001B[38;5;66;03m# If we have a listlike key, _check_indexing_error will raise\u001B[39;00m\n\u001B[0;32m   3626\u001B[0m     \u001B[38;5;66;03m#  InvalidIndexError. Otherwise we fall through and re-raise\u001B[39;00m\n\u001B[0;32m   3627\u001B[0m     \u001B[38;5;66;03m#  the TypeError.\u001B[39;00m\n\u001B[0;32m   3628\u001B[0m     \u001B[38;5;28mself\u001B[39m\u001B[38;5;241m.\u001B[39m_check_indexing_error(key)\n",
      "\u001B[1;31mKeyError\u001B[0m: 'Pelo'"
     ]
    }
   ]
  },
  {
   "cell_type": "code",
   "execution_count": 103,
   "outputs": [
    {
     "data": {
      "text/plain": "Paciente\n1     Si\n2     Si\n3     Si\n4     No\n5     No\n6     Si\n7     Si\n8     Si\n9     No\n10    Si\n11    Si\n12    No\n13    Si\n14    Si\nName: Administrar, dtype: object"
     },
     "execution_count": 103,
     "metadata": {},
     "output_type": "execute_result"
    }
   ],
   "source": [
    "t_respuesta"
   ],
   "metadata": {
    "collapsed": false,
    "pycharm": {
     "name": "#%%\n"
    }
   }
  },
  {
   "cell_type": "markdown",
   "source": [
    "## Resultados datos de test"
   ],
   "metadata": {
    "collapsed": false,
    "pycharm": {
     "name": "#%% md\n"
    }
   }
  },
  {
   "cell_type": "code",
   "execution_count": 104,
   "outputs": [
    {
     "data": {
      "text/plain": "array(['Si', 'Si', 'Si'], dtype=object)"
     },
     "execution_count": 104,
     "metadata": {},
     "output_type": "execute_result"
    }
   ],
   "source": [
    "y_respuesta"
   ],
   "metadata": {
    "collapsed": false,
    "pycharm": {
     "name": "#%%\n"
    }
   },
   "source": [
    "from sklearn import tree\n",
    "from sklearn import preprocessing\n",
    "\n",
    "quemadura_test = pd.read_csv(\"arbQuemaduraTest.csv\",index_col=0)\n",
    "data = pd.DataFrame()\n",
    "data1 = pd.DataFrame()\n",
    "#Transformar a valores numeicos\n",
    "le = preprocessing.LabelEncoder()\n",
    "\n",
    "var = [\"Pelo\", \"Altura\", \"Peso\", \"Proteccion\", \"Quemadura\"]\n",
    "for v in var:\n",
    "    le.fit(quemadura_data[v])\n",
    "    data[v] = le.transform(quemadura_data[v])\n",
    "    data1[v] = le.transform(quemadura_test[v])\n",
    "\n",
    "# Build tree\n",
    "clf = tree.DecisionTreeClassifier(criterion='entropy', max_depth=4)\n",
    "\n",
    "t_data = data[data.columns[0:4]]\n",
    "t_target = data[data.columns[4]]\n",
    "\n",
    "# Fit model to data\n",
    "clf = clf.fit(t_data, t_target)\n",
    "X_test = data1[data1.columns[0:4]]\n",
    "y_pred = clf.predict(X_test)\n",
    "y_pred\n"
   ],
   "execution_count": null,
   "outputs": []
  },
  {
   "cell_type": "markdown",
   "source": [
    "# Clima\n"
   ],
   "metadata": {
    "collapsed": false,
    "pycharm": {
     "name": "#%% md\n"
    }
   }
  },
  {
   "cell_type": "code",
   "execution_count": 16,
   "outputs": [
    {
     "data": {
      "text/plain": "(    Tiempo  Temperatura  Humedad  Viento\n 0        2            0        0       0\n 1        2            0        0       1\n 2        1            0        0       0\n 3        0            2        0       0\n 4        0            2        1       0\n 5        0            1        1       1\n 6        1            1        1       1\n 7        2            2        0       0\n 8        2            1        1       0\n 9        0            2        1       0\n 10       2            2        1       1\n 11       1            2        0       1\n 12       1            0        1       0\n 13       0            2        0       1,\n 0     0\n 1     0\n 2     1\n 3     1\n 4     1\n 5     0\n 6     1\n 7     0\n 8     1\n 9     1\n 10    1\n 11    1\n 12    1\n 13    0\n Name: Juega, dtype: int32,\n DecisionTreeClassifier(criterion='entropy', max_depth=4))"
     },
     "execution_count": 16,
     "metadata": {},
     "output_type": "execute_result"
    }
   ],
   "source": [
    "data_weather = pd.DataFrame()\n",
    "le_w = preprocessing.LabelEncoder()\n",
    "\n",
    "for v in labelsWeather:\n",
    "    le_w.fit(weather_data[v])\n",
    "    data_weather[v] = le_w.transform(weather_data[v])\n",
    "\n",
    "#construir el arbol\n",
    "clf_w = tree.DecisionTreeClassifier(criterion = 'entropy',max_depth=4)\n",
    "\n",
    "t_data = data_weather[data_weather.columns[0:4]]\n",
    "t_respuesta = data_weather[data_weather.columns[4]]\n",
    "\n",
    "#crear el modelo\n",
    "clf_w = clf_w.fit(t_data, t_respuesta)\n",
    "t_data,t_respuesta,clf_w"
   ],
   "metadata": {
    "collapsed": false,
    "pycharm": {
     "name": "#%%\n"
    }
   }
  },
  {
   "cell_type": "code",
   "execution_count": 18,
   "outputs": [
    {
     "data": {
      "image/svg+xml": "<?xml version=\"1.0\" encoding=\"UTF-8\" standalone=\"no\"?>\n<!DOCTYPE svg PUBLIC \"-//W3C//DTD SVG 1.1//EN\"\n \"http://www.w3.org/Graphics/SVG/1.1/DTD/svg11.dtd\">\n<!-- Generated by graphviz version 4.0.0 (20220529.0937)\n -->\n<!-- Title: Tree Pages: 1 -->\n<svg width=\"542pt\" height=\"552pt\"\n viewBox=\"0.00 0.00 542.00 552.00\" xmlns=\"http://www.w3.org/2000/svg\" xmlns:xlink=\"http://www.w3.org/1999/xlink\">\n<g id=\"graph0\" class=\"graph\" transform=\"scale(1 1) rotate(0) translate(4 548)\">\n<title>Tree</title>\n<polygon fill=\"white\" stroke=\"transparent\" points=\"-4,4 -4,-548 538,-548 538,4 -4,4\"/>\n<!-- 0 -->\n<g id=\"node1\" class=\"node\">\n<title>0</title>\n<path fill=\"#a7d3f3\" stroke=\"black\" d=\"M337.5,-544C337.5,-544 248.5,-544 248.5,-544 242.5,-544 236.5,-538 236.5,-532 236.5,-532 236.5,-473 236.5,-473 236.5,-467 242.5,-461 248.5,-461 248.5,-461 337.5,-461 337.5,-461 343.5,-461 349.5,-467 349.5,-473 349.5,-473 349.5,-532 349.5,-532 349.5,-538 343.5,-544 337.5,-544\"/>\n<text text-anchor=\"start\" x=\"244.5\" y=\"-528.8\" font-family=\"Helvetica,sans-Serif\" font-size=\"14.00\">Humedad ≤ 0.5</text>\n<text text-anchor=\"start\" x=\"247\" y=\"-513.8\" font-family=\"Helvetica,sans-Serif\" font-size=\"14.00\">entropy = 0.94</text>\n<text text-anchor=\"start\" x=\"249.5\" y=\"-498.8\" font-family=\"Helvetica,sans-Serif\" font-size=\"14.00\">samples = 14</text>\n<text text-anchor=\"start\" x=\"252.5\" y=\"-483.8\" font-family=\"Helvetica,sans-Serif\" font-size=\"14.00\">value = [5, 9]</text>\n<text text-anchor=\"start\" x=\"262\" y=\"-468.8\" font-family=\"Helvetica,sans-Serif\" font-size=\"14.00\">class = Si</text>\n</g>\n<!-- 1 -->\n<g id=\"node2\" class=\"node\">\n<title>1</title>\n<path fill=\"#f8e0ce\" stroke=\"black\" d=\"M272,-425C272,-425 180,-425 180,-425 174,-425 168,-419 168,-413 168,-413 168,-354 168,-354 168,-348 174,-342 180,-342 180,-342 272,-342 272,-342 278,-342 284,-348 284,-354 284,-354 284,-413 284,-413 284,-419 278,-425 272,-425\"/>\n<text text-anchor=\"start\" x=\"183.5\" y=\"-409.8\" font-family=\"Helvetica,sans-Serif\" font-size=\"14.00\">Tiempo ≤ 1.5</text>\n<text text-anchor=\"start\" x=\"176\" y=\"-394.8\" font-family=\"Helvetica,sans-Serif\" font-size=\"14.00\">entropy = 0.985</text>\n<text text-anchor=\"start\" x=\"186.5\" y=\"-379.8\" font-family=\"Helvetica,sans-Serif\" font-size=\"14.00\">samples = 7</text>\n<text text-anchor=\"start\" x=\"185.5\" y=\"-364.8\" font-family=\"Helvetica,sans-Serif\" font-size=\"14.00\">value = [4, 3]</text>\n<text text-anchor=\"start\" x=\"192.5\" y=\"-349.8\" font-family=\"Helvetica,sans-Serif\" font-size=\"14.00\">class = No</text>\n</g>\n<!-- 0&#45;&gt;1 -->\n<g id=\"edge1\" class=\"edge\">\n<title>0&#45;&gt;1</title>\n<path fill=\"none\" stroke=\"black\" d=\"M269.75,-460.91C264.77,-452.2 259.44,-442.9 254.29,-433.89\"/>\n<polygon fill=\"black\" stroke=\"black\" points=\"257.21,-431.96 249.2,-425.02 251.14,-435.44 257.21,-431.96\"/>\n<text text-anchor=\"middle\" x=\"242.65\" y=\"-445.45\" font-family=\"Helvetica,sans-Serif\" font-size=\"14.00\">True</text>\n</g>\n<!-- 8 -->\n<g id=\"node9\" class=\"node\">\n<title>8</title>\n<path fill=\"#5aade9\" stroke=\"black\" d=\"M406,-425C406,-425 314,-425 314,-425 308,-425 302,-419 302,-413 302,-413 302,-354 302,-354 302,-348 308,-342 314,-342 314,-342 406,-342 406,-342 412,-342 418,-348 418,-354 418,-354 418,-413 418,-413 418,-419 412,-425 406,-425\"/>\n<text text-anchor=\"start\" x=\"317.5\" y=\"-409.8\" font-family=\"Helvetica,sans-Serif\" font-size=\"14.00\">Tiempo ≤ 0.5</text>\n<text text-anchor=\"start\" x=\"310\" y=\"-394.8\" font-family=\"Helvetica,sans-Serif\" font-size=\"14.00\">entropy = 0.592</text>\n<text text-anchor=\"start\" x=\"320.5\" y=\"-379.8\" font-family=\"Helvetica,sans-Serif\" font-size=\"14.00\">samples = 7</text>\n<text text-anchor=\"start\" x=\"319.5\" y=\"-364.8\" font-family=\"Helvetica,sans-Serif\" font-size=\"14.00\">value = [1, 6]</text>\n<text text-anchor=\"start\" x=\"329\" y=\"-349.8\" font-family=\"Helvetica,sans-Serif\" font-size=\"14.00\">class = Si</text>\n</g>\n<!-- 0&#45;&gt;8 -->\n<g id=\"edge8\" class=\"edge\">\n<title>0&#45;&gt;8</title>\n<path fill=\"none\" stroke=\"black\" d=\"M316.25,-460.91C321.23,-452.2 326.56,-442.9 331.71,-433.89\"/>\n<polygon fill=\"black\" stroke=\"black\" points=\"334.86,-435.44 336.8,-425.02 328.79,-431.96 334.86,-435.44\"/>\n<text text-anchor=\"middle\" x=\"343.35\" y=\"-445.45\" font-family=\"Helvetica,sans-Serif\" font-size=\"14.00\">False</text>\n</g>\n<!-- 2 -->\n<g id=\"node3\" class=\"node\">\n<title>2</title>\n<path fill=\"#7bbeee\" stroke=\"black\" d=\"M148,-306C148,-306 56,-306 56,-306 50,-306 44,-300 44,-294 44,-294 44,-235 44,-235 44,-229 50,-223 56,-223 56,-223 148,-223 148,-223 154,-223 160,-229 160,-235 160,-235 160,-294 160,-294 160,-300 154,-306 148,-306\"/>\n<text text-anchor=\"start\" x=\"64\" y=\"-290.8\" font-family=\"Helvetica,sans-Serif\" font-size=\"14.00\">Viento ≤ 0.5</text>\n<text text-anchor=\"start\" x=\"52\" y=\"-275.8\" font-family=\"Helvetica,sans-Serif\" font-size=\"14.00\">entropy = 0.811</text>\n<text text-anchor=\"start\" x=\"62.5\" y=\"-260.8\" font-family=\"Helvetica,sans-Serif\" font-size=\"14.00\">samples = 4</text>\n<text text-anchor=\"start\" x=\"61.5\" y=\"-245.8\" font-family=\"Helvetica,sans-Serif\" font-size=\"14.00\">value = [1, 3]</text>\n<text text-anchor=\"start\" x=\"71\" y=\"-230.8\" font-family=\"Helvetica,sans-Serif\" font-size=\"14.00\">class = Si</text>\n</g>\n<!-- 1&#45;&gt;2 -->\n<g id=\"edge2\" class=\"edge\">\n<title>1&#45;&gt;2</title>\n<path fill=\"none\" stroke=\"black\" d=\"M182.98,-341.91C173.07,-332.56 162.45,-322.54 152.27,-312.93\"/>\n<polygon fill=\"black\" stroke=\"black\" points=\"154.62,-310.34 144.95,-306.02 149.82,-315.43 154.62,-310.34\"/>\n</g>\n<!-- 7 -->\n<g id=\"node8\" class=\"node\">\n<title>7</title>\n<path fill=\"#e58139\" stroke=\"black\" d=\"M266,-298.5C266,-298.5 190,-298.5 190,-298.5 184,-298.5 178,-292.5 178,-286.5 178,-286.5 178,-242.5 178,-242.5 178,-236.5 184,-230.5 190,-230.5 190,-230.5 266,-230.5 266,-230.5 272,-230.5 278,-236.5 278,-242.5 278,-242.5 278,-286.5 278,-286.5 278,-292.5 272,-298.5 266,-298.5\"/>\n<text text-anchor=\"start\" x=\"186\" y=\"-283.3\" font-family=\"Helvetica,sans-Serif\" font-size=\"14.00\">entropy = 0.0</text>\n<text text-anchor=\"start\" x=\"188.5\" y=\"-268.3\" font-family=\"Helvetica,sans-Serif\" font-size=\"14.00\">samples = 3</text>\n<text text-anchor=\"start\" x=\"187.5\" y=\"-253.3\" font-family=\"Helvetica,sans-Serif\" font-size=\"14.00\">value = [3, 0]</text>\n<text text-anchor=\"start\" x=\"194.5\" y=\"-238.3\" font-family=\"Helvetica,sans-Serif\" font-size=\"14.00\">class = No</text>\n</g>\n<!-- 1&#45;&gt;7 -->\n<g id=\"edge7\" class=\"edge\">\n<title>1&#45;&gt;7</title>\n<path fill=\"none\" stroke=\"black\" d=\"M226.69,-341.91C226.88,-331.2 227.07,-319.62 227.26,-308.78\"/>\n<polygon fill=\"black\" stroke=\"black\" points=\"230.76,-308.73 227.43,-298.67 223.76,-308.61 230.76,-308.73\"/>\n</g>\n<!-- 3 -->\n<g id=\"node4\" class=\"node\">\n<title>3</title>\n<path fill=\"#399de5\" stroke=\"black\" d=\"M88,-179.5C88,-179.5 12,-179.5 12,-179.5 6,-179.5 0,-173.5 0,-167.5 0,-167.5 0,-123.5 0,-123.5 0,-117.5 6,-111.5 12,-111.5 12,-111.5 88,-111.5 88,-111.5 94,-111.5 100,-117.5 100,-123.5 100,-123.5 100,-167.5 100,-167.5 100,-173.5 94,-179.5 88,-179.5\"/>\n<text text-anchor=\"start\" x=\"8\" y=\"-164.3\" font-family=\"Helvetica,sans-Serif\" font-size=\"14.00\">entropy = 0.0</text>\n<text text-anchor=\"start\" x=\"10.5\" y=\"-149.3\" font-family=\"Helvetica,sans-Serif\" font-size=\"14.00\">samples = 2</text>\n<text text-anchor=\"start\" x=\"9.5\" y=\"-134.3\" font-family=\"Helvetica,sans-Serif\" font-size=\"14.00\">value = [0, 2]</text>\n<text text-anchor=\"start\" x=\"19\" y=\"-119.3\" font-family=\"Helvetica,sans-Serif\" font-size=\"14.00\">class = Si</text>\n</g>\n<!-- 2&#45;&gt;3 -->\n<g id=\"edge3\" class=\"edge\">\n<title>2&#45;&gt;3</title>\n<path fill=\"none\" stroke=\"black\" d=\"M83.96,-222.91C79.1,-211.98 73.84,-200.14 68.94,-189.11\"/>\n<polygon fill=\"black\" stroke=\"black\" points=\"72,-187.38 64.74,-179.67 65.6,-190.23 72,-187.38\"/>\n</g>\n<!-- 4 -->\n<g id=\"node5\" class=\"node\">\n<title>4</title>\n<path fill=\"#ffffff\" stroke=\"black\" d=\"M207.5,-187C207.5,-187 130.5,-187 130.5,-187 124.5,-187 118.5,-181 118.5,-175 118.5,-175 118.5,-116 118.5,-116 118.5,-110 124.5,-104 130.5,-104 130.5,-104 207.5,-104 207.5,-104 213.5,-104 219.5,-110 219.5,-116 219.5,-116 219.5,-175 219.5,-175 219.5,-181 213.5,-187 207.5,-187\"/>\n<text text-anchor=\"start\" x=\"126.5\" y=\"-171.8\" font-family=\"Helvetica,sans-Serif\" font-size=\"14.00\">Tiempo ≤ 0.5</text>\n<text text-anchor=\"start\" x=\"127\" y=\"-156.8\" font-family=\"Helvetica,sans-Serif\" font-size=\"14.00\">entropy = 1.0</text>\n<text text-anchor=\"start\" x=\"129.5\" y=\"-141.8\" font-family=\"Helvetica,sans-Serif\" font-size=\"14.00\">samples = 2</text>\n<text text-anchor=\"start\" x=\"128.5\" y=\"-126.8\" font-family=\"Helvetica,sans-Serif\" font-size=\"14.00\">value = [1, 1]</text>\n<text text-anchor=\"start\" x=\"135.5\" y=\"-111.8\" font-family=\"Helvetica,sans-Serif\" font-size=\"14.00\">class = No</text>\n</g>\n<!-- 2&#45;&gt;4 -->\n<g id=\"edge4\" class=\"edge\">\n<title>2&#45;&gt;4</title>\n<path fill=\"none\" stroke=\"black\" d=\"M125.25,-222.91C130.23,-214.2 135.56,-204.9 140.71,-195.89\"/>\n<polygon fill=\"black\" stroke=\"black\" points=\"143.86,-197.44 145.8,-187.02 137.79,-193.96 143.86,-197.44\"/>\n</g>\n<!-- 5 -->\n<g id=\"node6\" class=\"node\">\n<title>5</title>\n<path fill=\"#e58139\" stroke=\"black\" d=\"M148,-68C148,-68 72,-68 72,-68 66,-68 60,-62 60,-56 60,-56 60,-12 60,-12 60,-6 66,0 72,0 72,0 148,0 148,0 154,0 160,-6 160,-12 160,-12 160,-56 160,-56 160,-62 154,-68 148,-68\"/>\n<text text-anchor=\"start\" x=\"68\" y=\"-52.8\" font-family=\"Helvetica,sans-Serif\" font-size=\"14.00\">entropy = 0.0</text>\n<text text-anchor=\"start\" x=\"70.5\" y=\"-37.8\" font-family=\"Helvetica,sans-Serif\" font-size=\"14.00\">samples = 1</text>\n<text text-anchor=\"start\" x=\"69.5\" y=\"-22.8\" font-family=\"Helvetica,sans-Serif\" font-size=\"14.00\">value = [1, 0]</text>\n<text text-anchor=\"start\" x=\"76.5\" y=\"-7.8\" font-family=\"Helvetica,sans-Serif\" font-size=\"14.00\">class = No</text>\n</g>\n<!-- 4&#45;&gt;5 -->\n<g id=\"edge5\" class=\"edge\">\n<title>4&#45;&gt;5</title>\n<path fill=\"none\" stroke=\"black\" d=\"M147.03,-103.73C142.36,-95.06 137.42,-85.9 132.73,-77.18\"/>\n<polygon fill=\"black\" stroke=\"black\" points=\"135.77,-75.44 127.94,-68.3 129.6,-78.76 135.77,-75.44\"/>\n</g>\n<!-- 6 -->\n<g id=\"node7\" class=\"node\">\n<title>6</title>\n<path fill=\"#399de5\" stroke=\"black\" d=\"M266,-68C266,-68 190,-68 190,-68 184,-68 178,-62 178,-56 178,-56 178,-12 178,-12 178,-6 184,0 190,0 190,0 266,0 266,0 272,0 278,-6 278,-12 278,-12 278,-56 278,-56 278,-62 272,-68 266,-68\"/>\n<text text-anchor=\"start\" x=\"186\" y=\"-52.8\" font-family=\"Helvetica,sans-Serif\" font-size=\"14.00\">entropy = 0.0</text>\n<text text-anchor=\"start\" x=\"188.5\" y=\"-37.8\" font-family=\"Helvetica,sans-Serif\" font-size=\"14.00\">samples = 1</text>\n<text text-anchor=\"start\" x=\"187.5\" y=\"-22.8\" font-family=\"Helvetica,sans-Serif\" font-size=\"14.00\">value = [0, 1]</text>\n<text text-anchor=\"start\" x=\"197\" y=\"-7.8\" font-family=\"Helvetica,sans-Serif\" font-size=\"14.00\">class = Si</text>\n</g>\n<!-- 4&#45;&gt;6 -->\n<g id=\"edge6\" class=\"edge\">\n<title>4&#45;&gt;6</title>\n<path fill=\"none\" stroke=\"black\" d=\"M190.97,-103.73C195.64,-95.06 200.58,-85.9 205.27,-77.18\"/>\n<polygon fill=\"black\" stroke=\"black\" points=\"208.4,-78.76 210.06,-68.3 202.23,-75.44 208.4,-78.76\"/>\n</g>\n<!-- 9 -->\n<g id=\"node10\" class=\"node\">\n<title>9</title>\n<path fill=\"#9ccef2\" stroke=\"black\" d=\"M404,-306C404,-306 312,-306 312,-306 306,-306 300,-300 300,-294 300,-294 300,-235 300,-235 300,-229 306,-223 312,-223 312,-223 404,-223 404,-223 410,-223 416,-229 416,-235 416,-235 416,-294 416,-294 416,-300 410,-306 404,-306\"/>\n<text text-anchor=\"start\" x=\"320\" y=\"-290.8\" font-family=\"Helvetica,sans-Serif\" font-size=\"14.00\">Viento ≤ 0.5</text>\n<text text-anchor=\"start\" x=\"308\" y=\"-275.8\" font-family=\"Helvetica,sans-Serif\" font-size=\"14.00\">entropy = 0.918</text>\n<text text-anchor=\"start\" x=\"318.5\" y=\"-260.8\" font-family=\"Helvetica,sans-Serif\" font-size=\"14.00\">samples = 3</text>\n<text text-anchor=\"start\" x=\"317.5\" y=\"-245.8\" font-family=\"Helvetica,sans-Serif\" font-size=\"14.00\">value = [1, 2]</text>\n<text text-anchor=\"start\" x=\"327\" y=\"-230.8\" font-family=\"Helvetica,sans-Serif\" font-size=\"14.00\">class = Si</text>\n</g>\n<!-- 8&#45;&gt;9 -->\n<g id=\"edge9\" class=\"edge\">\n<title>8&#45;&gt;9</title>\n<path fill=\"none\" stroke=\"black\" d=\"M359.31,-341.91C359.16,-333.56 359.01,-324.67 358.86,-316.02\"/>\n<polygon fill=\"black\" stroke=\"black\" points=\"362.36,-315.96 358.69,-306.02 355.36,-316.08 362.36,-315.96\"/>\n</g>\n<!-- 12 -->\n<g id=\"node13\" class=\"node\">\n<title>12</title>\n<path fill=\"#399de5\" stroke=\"black\" d=\"M522,-298.5C522,-298.5 446,-298.5 446,-298.5 440,-298.5 434,-292.5 434,-286.5 434,-286.5 434,-242.5 434,-242.5 434,-236.5 440,-230.5 446,-230.5 446,-230.5 522,-230.5 522,-230.5 528,-230.5 534,-236.5 534,-242.5 534,-242.5 534,-286.5 534,-286.5 534,-292.5 528,-298.5 522,-298.5\"/>\n<text text-anchor=\"start\" x=\"442\" y=\"-283.3\" font-family=\"Helvetica,sans-Serif\" font-size=\"14.00\">entropy = 0.0</text>\n<text text-anchor=\"start\" x=\"444.5\" y=\"-268.3\" font-family=\"Helvetica,sans-Serif\" font-size=\"14.00\">samples = 4</text>\n<text text-anchor=\"start\" x=\"443.5\" y=\"-253.3\" font-family=\"Helvetica,sans-Serif\" font-size=\"14.00\">value = [0, 4]</text>\n<text text-anchor=\"start\" x=\"453\" y=\"-238.3\" font-family=\"Helvetica,sans-Serif\" font-size=\"14.00\">class = Si</text>\n</g>\n<!-- 8&#45;&gt;12 -->\n<g id=\"edge12\" class=\"edge\">\n<title>8&#45;&gt;12</title>\n<path fill=\"none\" stroke=\"black\" d=\"M403.02,-341.91C415.42,-330.21 428.93,-317.46 441.31,-305.78\"/>\n<polygon fill=\"black\" stroke=\"black\" points=\"443.98,-308.08 448.85,-298.67 439.17,-302.98 443.98,-308.08\"/>\n</g>\n<!-- 10 -->\n<g id=\"node11\" class=\"node\">\n<title>10</title>\n<path fill=\"#399de5\" stroke=\"black\" d=\"M359,-179.5C359,-179.5 283,-179.5 283,-179.5 277,-179.5 271,-173.5 271,-167.5 271,-167.5 271,-123.5 271,-123.5 271,-117.5 277,-111.5 283,-111.5 283,-111.5 359,-111.5 359,-111.5 365,-111.5 371,-117.5 371,-123.5 371,-123.5 371,-167.5 371,-167.5 371,-173.5 365,-179.5 359,-179.5\"/>\n<text text-anchor=\"start\" x=\"279\" y=\"-164.3\" font-family=\"Helvetica,sans-Serif\" font-size=\"14.00\">entropy = 0.0</text>\n<text text-anchor=\"start\" x=\"281.5\" y=\"-149.3\" font-family=\"Helvetica,sans-Serif\" font-size=\"14.00\">samples = 2</text>\n<text text-anchor=\"start\" x=\"280.5\" y=\"-134.3\" font-family=\"Helvetica,sans-Serif\" font-size=\"14.00\">value = [0, 2]</text>\n<text text-anchor=\"start\" x=\"290\" y=\"-119.3\" font-family=\"Helvetica,sans-Serif\" font-size=\"14.00\">class = Si</text>\n</g>\n<!-- 9&#45;&gt;10 -->\n<g id=\"edge10\" class=\"edge\">\n<title>9&#45;&gt;10</title>\n<path fill=\"none\" stroke=\"black\" d=\"M345.16,-222.91C341.74,-212.09 338.04,-200.38 334.58,-189.44\"/>\n<polygon fill=\"black\" stroke=\"black\" points=\"337.84,-188.15 331.49,-179.67 331.17,-190.26 337.84,-188.15\"/>\n</g>\n<!-- 11 -->\n<g id=\"node12\" class=\"node\">\n<title>11</title>\n<path fill=\"#e58139\" stroke=\"black\" d=\"M477,-179.5C477,-179.5 401,-179.5 401,-179.5 395,-179.5 389,-173.5 389,-167.5 389,-167.5 389,-123.5 389,-123.5 389,-117.5 395,-111.5 401,-111.5 401,-111.5 477,-111.5 477,-111.5 483,-111.5 489,-117.5 489,-123.5 489,-123.5 489,-167.5 489,-167.5 489,-173.5 483,-179.5 477,-179.5\"/>\n<text text-anchor=\"start\" x=\"397\" y=\"-164.3\" font-family=\"Helvetica,sans-Serif\" font-size=\"14.00\">entropy = 0.0</text>\n<text text-anchor=\"start\" x=\"399.5\" y=\"-149.3\" font-family=\"Helvetica,sans-Serif\" font-size=\"14.00\">samples = 1</text>\n<text text-anchor=\"start\" x=\"398.5\" y=\"-134.3\" font-family=\"Helvetica,sans-Serif\" font-size=\"14.00\">value = [1, 0]</text>\n<text text-anchor=\"start\" x=\"405.5\" y=\"-119.3\" font-family=\"Helvetica,sans-Serif\" font-size=\"14.00\">class = No</text>\n</g>\n<!-- 9&#45;&gt;11 -->\n<g id=\"edge11\" class=\"edge\">\n<title>9&#45;&gt;11</title>\n<path fill=\"none\" stroke=\"black\" d=\"M386.1,-222.91C393.89,-211.65 402.36,-199.42 410.2,-188.11\"/>\n<polygon fill=\"black\" stroke=\"black\" points=\"413.22,-189.88 416.04,-179.67 407.47,-185.9 413.22,-189.88\"/>\n</g>\n</g>\n</svg>\n",
      "text/plain": "<graphviz.sources.Source at 0x1c1a39f9210>"
     },
     "execution_count": 18,
     "metadata": {},
     "output_type": "execute_result"
    }
   ],
   "source": [
    "import graphviz\n",
    "dot_data = tree.export_graphviz(clf_w, out_file=None,\n",
    "                         feature_names=list(t_data.columns.values),\n",
    "                         class_names=[\"No Juega\", \"Si Juega\"],\n",
    "                         filled=True, rounded=True,\n",
    "                         special_characters=True)\n",
    "graph = graphviz.Source(dot_data)\n",
    "graph"
   ],
   "metadata": {
    "collapsed": false,
    "pycharm": {
     "name": "#%%\n"
    }
   }
  },
  {
   "cell_type": "code",
   "execution_count": 30,
   "outputs": [
    {
     "data": {
      "image/svg+xml": "<?xml version=\"1.0\" encoding=\"UTF-8\" standalone=\"no\"?>\n<!DOCTYPE svg PUBLIC \"-//W3C//DTD SVG 1.1//EN\"\n \"http://www.w3.org/Graphics/SVG/1.1/DTD/svg11.dtd\">\n<!-- Generated by graphviz version 4.0.0 (20220529.0937)\n -->\n<!-- Title: Tree Pages: 1 -->\n<svg width=\"664pt\" height=\"433pt\"\n viewBox=\"0.00 0.00 664.00 433.00\" xmlns=\"http://www.w3.org/2000/svg\" xmlns:xlink=\"http://www.w3.org/1999/xlink\">\n<g id=\"graph0\" class=\"graph\" transform=\"scale(1 1) rotate(0) translate(4 429)\">\n<title>Tree</title>\n<polygon fill=\"white\" stroke=\"transparent\" points=\"-4,4 -4,-429 660,-429 660,4 -4,4\"/>\n<!-- 0 -->\n<g id=\"node1\" class=\"node\">\n<title>0</title>\n<path fill=\"#a7d3f3\" stroke=\"black\" d=\"M427.5,-425C427.5,-425 330.5,-425 330.5,-425 324.5,-425 318.5,-419 318.5,-413 318.5,-413 318.5,-354 318.5,-354 318.5,-348 324.5,-342 330.5,-342 330.5,-342 427.5,-342 427.5,-342 433.5,-342 439.5,-348 439.5,-354 439.5,-354 439.5,-413 439.5,-413 439.5,-419 433.5,-425 427.5,-425\"/>\n<text text-anchor=\"start\" x=\"330.5\" y=\"-409.8\" font-family=\"Helvetica,sans-Serif\" font-size=\"14.00\">Humedad ≤ 0.5</text>\n<text text-anchor=\"start\" x=\"333\" y=\"-394.8\" font-family=\"Helvetica,sans-Serif\" font-size=\"14.00\">entropy = 0.94</text>\n<text text-anchor=\"start\" x=\"335.5\" y=\"-379.8\" font-family=\"Helvetica,sans-Serif\" font-size=\"14.00\">samples = 14</text>\n<text text-anchor=\"start\" x=\"338.5\" y=\"-364.8\" font-family=\"Helvetica,sans-Serif\" font-size=\"14.00\">value = [5, 9]</text>\n<text text-anchor=\"start\" x=\"326.5\" y=\"-349.8\" font-family=\"Helvetica,sans-Serif\" font-size=\"14.00\">class = Si Juega</text>\n</g>\n<!-- 1 -->\n<g id=\"node2\" class=\"node\">\n<title>1</title>\n<path fill=\"#5aade9\" stroke=\"black\" d=\"M359.5,-306C359.5,-306 250.5,-306 250.5,-306 244.5,-306 238.5,-300 238.5,-294 238.5,-294 238.5,-235 238.5,-235 238.5,-229 244.5,-223 250.5,-223 250.5,-223 359.5,-223 359.5,-223 365.5,-223 371.5,-229 371.5,-235 371.5,-235 371.5,-294 371.5,-294 371.5,-300 365.5,-306 359.5,-306\"/>\n<text text-anchor=\"start\" x=\"246.5\" y=\"-290.8\" font-family=\"Helvetica,sans-Serif\" font-size=\"14.00\">Temperatura ≤ 0.5</text>\n<text text-anchor=\"start\" x=\"255\" y=\"-275.8\" font-family=\"Helvetica,sans-Serif\" font-size=\"14.00\">entropy = 0.592</text>\n<text text-anchor=\"start\" x=\"265.5\" y=\"-260.8\" font-family=\"Helvetica,sans-Serif\" font-size=\"14.00\">samples = 7</text>\n<text text-anchor=\"start\" x=\"264.5\" y=\"-245.8\" font-family=\"Helvetica,sans-Serif\" font-size=\"14.00\">value = [1, 6]</text>\n<text text-anchor=\"start\" x=\"252.5\" y=\"-230.8\" font-family=\"Helvetica,sans-Serif\" font-size=\"14.00\">class = Si Juega</text>\n</g>\n<!-- 0&#45;&gt;1 -->\n<g id=\"edge1\" class=\"edge\">\n<title>0&#45;&gt;1</title>\n<path fill=\"none\" stroke=\"black\" d=\"M353.33,-341.91C347.76,-333.1 341.81,-323.7 336.06,-314.61\"/>\n<polygon fill=\"black\" stroke=\"black\" points=\"338.93,-312.6 330.63,-306.02 333.02,-316.34 338.93,-312.6\"/>\n<text text-anchor=\"middle\" x=\"325.14\" y=\"-326.71\" font-family=\"Helvetica,sans-Serif\" font-size=\"14.00\">True</text>\n</g>\n<!-- 6 -->\n<g id=\"node7\" class=\"node\">\n<title>6</title>\n<path fill=\"#f8e0ce\" stroke=\"black\" d=\"M504,-306C504,-306 402,-306 402,-306 396,-306 390,-300 390,-294 390,-294 390,-235 390,-235 390,-229 396,-223 402,-223 402,-223 504,-223 504,-223 510,-223 516,-229 516,-235 516,-235 516,-294 516,-294 516,-300 510,-306 504,-306\"/>\n<text text-anchor=\"start\" x=\"410.5\" y=\"-290.8\" font-family=\"Helvetica,sans-Serif\" font-size=\"14.00\">Tiempo ≤ 1.5</text>\n<text text-anchor=\"start\" x=\"403\" y=\"-275.8\" font-family=\"Helvetica,sans-Serif\" font-size=\"14.00\">entropy = 0.985</text>\n<text text-anchor=\"start\" x=\"413.5\" y=\"-260.8\" font-family=\"Helvetica,sans-Serif\" font-size=\"14.00\">samples = 7</text>\n<text text-anchor=\"start\" x=\"412.5\" y=\"-245.8\" font-family=\"Helvetica,sans-Serif\" font-size=\"14.00\">value = [4, 3]</text>\n<text text-anchor=\"start\" x=\"398\" y=\"-230.8\" font-family=\"Helvetica,sans-Serif\" font-size=\"14.00\">class = No Juega</text>\n</g>\n<!-- 0&#45;&gt;6 -->\n<g id=\"edge6\" class=\"edge\">\n<title>0&#45;&gt;6</title>\n<path fill=\"none\" stroke=\"black\" d=\"M404.67,-341.91C410.24,-333.1 416.19,-323.7 421.94,-314.61\"/>\n<polygon fill=\"black\" stroke=\"black\" points=\"424.98,-316.34 427.37,-306.02 419.07,-312.6 424.98,-316.34\"/>\n<text text-anchor=\"middle\" x=\"432.86\" y=\"-326.71\" font-family=\"Helvetica,sans-Serif\" font-size=\"14.00\">False</text>\n</g>\n<!-- 2 -->\n<g id=\"node3\" class=\"node\">\n<title>2</title>\n<path fill=\"#9ccef2\" stroke=\"black\" d=\"M217.5,-187C217.5,-187 120.5,-187 120.5,-187 114.5,-187 108.5,-181 108.5,-175 108.5,-175 108.5,-116 108.5,-116 108.5,-110 114.5,-104 120.5,-104 120.5,-104 217.5,-104 217.5,-104 223.5,-104 229.5,-110 229.5,-116 229.5,-116 229.5,-175 229.5,-175 229.5,-181 223.5,-187 217.5,-187\"/>\n<text text-anchor=\"start\" x=\"126.5\" y=\"-171.8\" font-family=\"Helvetica,sans-Serif\" font-size=\"14.00\">Tiempo ≤ 0.5</text>\n<text text-anchor=\"start\" x=\"119\" y=\"-156.8\" font-family=\"Helvetica,sans-Serif\" font-size=\"14.00\">entropy = 0.918</text>\n<text text-anchor=\"start\" x=\"129.5\" y=\"-141.8\" font-family=\"Helvetica,sans-Serif\" font-size=\"14.00\">samples = 3</text>\n<text text-anchor=\"start\" x=\"128.5\" y=\"-126.8\" font-family=\"Helvetica,sans-Serif\" font-size=\"14.00\">value = [1, 2]</text>\n<text text-anchor=\"start\" x=\"116.5\" y=\"-111.8\" font-family=\"Helvetica,sans-Serif\" font-size=\"14.00\">class = Si Juega</text>\n</g>\n<!-- 1&#45;&gt;2 -->\n<g id=\"edge2\" class=\"edge\">\n<title>1&#45;&gt;2</title>\n<path fill=\"none\" stroke=\"black\" d=\"M257.82,-222.91C246.84,-213.47 235.07,-203.34 223.81,-193.65\"/>\n<polygon fill=\"black\" stroke=\"black\" points=\"225.96,-190.89 216.1,-187.02 221.4,-196.2 225.96,-190.89\"/>\n</g>\n<!-- 5 -->\n<g id=\"node6\" class=\"node\">\n<title>5</title>\n<path fill=\"#399de5\" stroke=\"black\" d=\"M356.5,-179.5C356.5,-179.5 259.5,-179.5 259.5,-179.5 253.5,-179.5 247.5,-173.5 247.5,-167.5 247.5,-167.5 247.5,-123.5 247.5,-123.5 247.5,-117.5 253.5,-111.5 259.5,-111.5 259.5,-111.5 356.5,-111.5 356.5,-111.5 362.5,-111.5 368.5,-117.5 368.5,-123.5 368.5,-123.5 368.5,-167.5 368.5,-167.5 368.5,-173.5 362.5,-179.5 356.5,-179.5\"/>\n<text text-anchor=\"start\" x=\"266\" y=\"-164.3\" font-family=\"Helvetica,sans-Serif\" font-size=\"14.00\">entropy = 0.0</text>\n<text text-anchor=\"start\" x=\"268.5\" y=\"-149.3\" font-family=\"Helvetica,sans-Serif\" font-size=\"14.00\">samples = 4</text>\n<text text-anchor=\"start\" x=\"267.5\" y=\"-134.3\" font-family=\"Helvetica,sans-Serif\" font-size=\"14.00\">value = [0, 4]</text>\n<text text-anchor=\"start\" x=\"255.5\" y=\"-119.3\" font-family=\"Helvetica,sans-Serif\" font-size=\"14.00\">class = Si Juega</text>\n</g>\n<!-- 1&#45;&gt;5 -->\n<g id=\"edge5\" class=\"edge\">\n<title>1&#45;&gt;5</title>\n<path fill=\"none\" stroke=\"black\" d=\"M306.04,-222.91C306.32,-212.2 306.61,-200.62 306.89,-189.78\"/>\n<polygon fill=\"black\" stroke=\"black\" points=\"310.39,-189.75 307.15,-179.67 303.39,-189.57 310.39,-189.75\"/>\n</g>\n<!-- 3 -->\n<g id=\"node4\" class=\"node\">\n<title>3</title>\n<path fill=\"#e58139\" stroke=\"black\" d=\"M114,-68C114,-68 12,-68 12,-68 6,-68 0,-62 0,-56 0,-56 0,-12 0,-12 0,-6 6,0 12,0 12,0 114,0 114,0 120,0 126,-6 126,-12 126,-12 126,-56 126,-56 126,-62 120,-68 114,-68\"/>\n<text text-anchor=\"start\" x=\"21\" y=\"-52.8\" font-family=\"Helvetica,sans-Serif\" font-size=\"14.00\">entropy = 0.0</text>\n<text text-anchor=\"start\" x=\"23.5\" y=\"-37.8\" font-family=\"Helvetica,sans-Serif\" font-size=\"14.00\">samples = 1</text>\n<text text-anchor=\"start\" x=\"22.5\" y=\"-22.8\" font-family=\"Helvetica,sans-Serif\" font-size=\"14.00\">value = [1, 0]</text>\n<text text-anchor=\"start\" x=\"8\" y=\"-7.8\" font-family=\"Helvetica,sans-Serif\" font-size=\"14.00\">class = No Juega</text>\n</g>\n<!-- 2&#45;&gt;3 -->\n<g id=\"edge3\" class=\"edge\">\n<title>2&#45;&gt;3</title>\n<path fill=\"none\" stroke=\"black\" d=\"M129.53,-103.73C120.61,-94.51 111.15,-84.74 102.24,-75.53\"/>\n<polygon fill=\"black\" stroke=\"black\" points=\"104.71,-73.05 95.24,-68.3 99.68,-77.92 104.71,-73.05\"/>\n</g>\n<!-- 4 -->\n<g id=\"node5\" class=\"node\">\n<title>4</title>\n<path fill=\"#399de5\" stroke=\"black\" d=\"M253.5,-68C253.5,-68 156.5,-68 156.5,-68 150.5,-68 144.5,-62 144.5,-56 144.5,-56 144.5,-12 144.5,-12 144.5,-6 150.5,0 156.5,0 156.5,0 253.5,0 253.5,0 259.5,0 265.5,-6 265.5,-12 265.5,-12 265.5,-56 265.5,-56 265.5,-62 259.5,-68 253.5,-68\"/>\n<text text-anchor=\"start\" x=\"163\" y=\"-52.8\" font-family=\"Helvetica,sans-Serif\" font-size=\"14.00\">entropy = 0.0</text>\n<text text-anchor=\"start\" x=\"165.5\" y=\"-37.8\" font-family=\"Helvetica,sans-Serif\" font-size=\"14.00\">samples = 2</text>\n<text text-anchor=\"start\" x=\"164.5\" y=\"-22.8\" font-family=\"Helvetica,sans-Serif\" font-size=\"14.00\">value = [0, 2]</text>\n<text text-anchor=\"start\" x=\"152.5\" y=\"-7.8\" font-family=\"Helvetica,sans-Serif\" font-size=\"14.00\">class = Si Juega</text>\n</g>\n<!-- 2&#45;&gt;4 -->\n<g id=\"edge4\" class=\"edge\">\n<title>2&#45;&gt;4</title>\n<path fill=\"none\" stroke=\"black\" d=\"M182.41,-103.73C185.16,-95.34 188.08,-86.47 190.86,-78.01\"/>\n<polygon fill=\"black\" stroke=\"black\" points=\"194.25,-78.89 194.05,-68.3 187.6,-76.71 194.25,-78.89\"/>\n</g>\n<!-- 7 -->\n<g id=\"node8\" class=\"node\">\n<title>7</title>\n<path fill=\"#7bbeee\" stroke=\"black\" d=\"M499.5,-187C499.5,-187 402.5,-187 402.5,-187 396.5,-187 390.5,-181 390.5,-175 390.5,-175 390.5,-116 390.5,-116 390.5,-110 396.5,-104 402.5,-104 402.5,-104 499.5,-104 499.5,-104 505.5,-104 511.5,-110 511.5,-116 511.5,-116 511.5,-175 511.5,-175 511.5,-181 505.5,-187 499.5,-187\"/>\n<text text-anchor=\"start\" x=\"408.5\" y=\"-171.8\" font-family=\"Helvetica,sans-Serif\" font-size=\"14.00\">Tiempo ≤ 0.5</text>\n<text text-anchor=\"start\" x=\"401\" y=\"-156.8\" font-family=\"Helvetica,sans-Serif\" font-size=\"14.00\">entropy = 0.811</text>\n<text text-anchor=\"start\" x=\"411.5\" y=\"-141.8\" font-family=\"Helvetica,sans-Serif\" font-size=\"14.00\">samples = 4</text>\n<text text-anchor=\"start\" x=\"410.5\" y=\"-126.8\" font-family=\"Helvetica,sans-Serif\" font-size=\"14.00\">value = [1, 3]</text>\n<text text-anchor=\"start\" x=\"398.5\" y=\"-111.8\" font-family=\"Helvetica,sans-Serif\" font-size=\"14.00\">class = Si Juega</text>\n</g>\n<!-- 6&#45;&gt;7 -->\n<g id=\"edge7\" class=\"edge\">\n<title>6&#45;&gt;7</title>\n<path fill=\"none\" stroke=\"black\" d=\"M452.31,-222.91C452.16,-214.56 452.01,-205.67 451.86,-197.02\"/>\n<polygon fill=\"black\" stroke=\"black\" points=\"455.36,-196.96 451.69,-187.02 448.36,-197.08 455.36,-196.96\"/>\n</g>\n<!-- 10 -->\n<g id=\"node11\" class=\"node\">\n<title>10</title>\n<path fill=\"#e58139\" stroke=\"black\" d=\"M644,-179.5C644,-179.5 542,-179.5 542,-179.5 536,-179.5 530,-173.5 530,-167.5 530,-167.5 530,-123.5 530,-123.5 530,-117.5 536,-111.5 542,-111.5 542,-111.5 644,-111.5 644,-111.5 650,-111.5 656,-117.5 656,-123.5 656,-123.5 656,-167.5 656,-167.5 656,-173.5 650,-179.5 644,-179.5\"/>\n<text text-anchor=\"start\" x=\"551\" y=\"-164.3\" font-family=\"Helvetica,sans-Serif\" font-size=\"14.00\">entropy = 0.0</text>\n<text text-anchor=\"start\" x=\"553.5\" y=\"-149.3\" font-family=\"Helvetica,sans-Serif\" font-size=\"14.00\">samples = 3</text>\n<text text-anchor=\"start\" x=\"552.5\" y=\"-134.3\" font-family=\"Helvetica,sans-Serif\" font-size=\"14.00\">value = [3, 0]</text>\n<text text-anchor=\"start\" x=\"538\" y=\"-119.3\" font-family=\"Helvetica,sans-Serif\" font-size=\"14.00\">class = No Juega</text>\n</g>\n<!-- 6&#45;&gt;10 -->\n<g id=\"edge10\" class=\"edge\">\n<title>6&#45;&gt;10</title>\n<path fill=\"none\" stroke=\"black\" d=\"M501.57,-222.91C515.83,-210.99 531.41,-197.98 545.59,-186.12\"/>\n<polygon fill=\"black\" stroke=\"black\" points=\"547.88,-188.77 553.31,-179.67 543.4,-183.39 547.88,-188.77\"/>\n</g>\n<!-- 8 -->\n<g id=\"node9\" class=\"node\">\n<title>8</title>\n<path fill=\"#ffffff\" stroke=\"black\" d=\"M466,-68C466,-68 364,-68 364,-68 358,-68 352,-62 352,-56 352,-56 352,-12 352,-12 352,-6 358,0 364,0 364,0 466,0 466,0 472,0 478,-6 478,-12 478,-12 478,-56 478,-56 478,-62 472,-68 466,-68\"/>\n<text text-anchor=\"start\" x=\"373\" y=\"-52.8\" font-family=\"Helvetica,sans-Serif\" font-size=\"14.00\">entropy = 1.0</text>\n<text text-anchor=\"start\" x=\"375.5\" y=\"-37.8\" font-family=\"Helvetica,sans-Serif\" font-size=\"14.00\">samples = 2</text>\n<text text-anchor=\"start\" x=\"374.5\" y=\"-22.8\" font-family=\"Helvetica,sans-Serif\" font-size=\"14.00\">value = [1, 1]</text>\n<text text-anchor=\"start\" x=\"360\" y=\"-7.8\" font-family=\"Helvetica,sans-Serif\" font-size=\"14.00\">class = No Juega</text>\n</g>\n<!-- 7&#45;&gt;8 -->\n<g id=\"edge8\" class=\"edge\">\n<title>7&#45;&gt;8</title>\n<path fill=\"none\" stroke=\"black\" d=\"M437.59,-103.73C434.84,-95.34 431.92,-86.47 429.14,-78.01\"/>\n<polygon fill=\"black\" stroke=\"black\" points=\"432.4,-76.71 425.95,-68.3 425.75,-78.89 432.4,-76.71\"/>\n</g>\n<!-- 9 -->\n<g id=\"node10\" class=\"node\">\n<title>9</title>\n<path fill=\"#399de5\" stroke=\"black\" d=\"M605.5,-68C605.5,-68 508.5,-68 508.5,-68 502.5,-68 496.5,-62 496.5,-56 496.5,-56 496.5,-12 496.5,-12 496.5,-6 502.5,0 508.5,0 508.5,0 605.5,0 605.5,0 611.5,0 617.5,-6 617.5,-12 617.5,-12 617.5,-56 617.5,-56 617.5,-62 611.5,-68 605.5,-68\"/>\n<text text-anchor=\"start\" x=\"515\" y=\"-52.8\" font-family=\"Helvetica,sans-Serif\" font-size=\"14.00\">entropy = 0.0</text>\n<text text-anchor=\"start\" x=\"517.5\" y=\"-37.8\" font-family=\"Helvetica,sans-Serif\" font-size=\"14.00\">samples = 2</text>\n<text text-anchor=\"start\" x=\"516.5\" y=\"-22.8\" font-family=\"Helvetica,sans-Serif\" font-size=\"14.00\">value = [0, 2]</text>\n<text text-anchor=\"start\" x=\"504.5\" y=\"-7.8\" font-family=\"Helvetica,sans-Serif\" font-size=\"14.00\">class = Si Juega</text>\n</g>\n<!-- 7&#45;&gt;9 -->\n<g id=\"edge9\" class=\"edge\">\n<title>7&#45;&gt;9</title>\n<path fill=\"none\" stroke=\"black\" d=\"M490.47,-103.73C499.39,-94.51 508.85,-84.74 517.76,-75.53\"/>\n<polygon fill=\"black\" stroke=\"black\" points=\"520.32,-77.92 524.76,-68.3 515.29,-73.05 520.32,-77.92\"/>\n</g>\n</g>\n</svg>\n",
      "text/plain": "<graphviz.sources.Source at 0x1c1a7e70fa0>"
     },
     "execution_count": 30,
     "metadata": {},
     "output_type": "execute_result"
    }
   ],
   "source": [
    "from sklearn import tree\n",
    "\n",
    "data_weather = weather_data.copy()\n",
    "data_weather[\"Tiempo\"] = np.where(data_weather[\"Tiempo\"]==\"Soleado\", 2,\n",
    "                          np.where(data_weather[\"Tiempo\"]==\"Nubloso\", 1, 0))\n",
    "data_weather[\"Temperatura\"] = np.where(data_weather[\"Temperatura\"]==\"Alta\", 2,\n",
    "                          np.where(data_weather[\"Temperatura\"]==\"Media\", 1, 0))\n",
    "data_weather[\"Humedad\"] = np.where(data_weather[\"Humedad\"] == \"Alta\",1,0)\n",
    "data_weather[\"Viento\"] = np.where(data_weather[\"Humedad\"] == \"Si\",1,0)\n",
    "\n",
    "\n",
    "#construir el arbol\n",
    "clf = tree.DecisionTreeClassifier(criterion = 'entropy',max_depth=4)\n",
    "\n",
    "t_data = data_weather[data_weather.columns[0:4]]\n",
    "t_respuesta = data_weather[data_weather.columns[4]]\n",
    "\n",
    "#crear el modelo\n",
    "clf = clf.fit(t_data, t_respuesta)\n",
    "\n",
    "dot_data = tree.export_graphviz(clf, out_file=None,\n",
    "                         feature_names=list(t_data.columns.values),\n",
    "                         class_names=[\"No Juega\", \"Si Juega\"],\n",
    "                         filled=True, rounded=True,\n",
    "                         special_characters=True)\n",
    "graph = graphviz.Source(dot_data)\n",
    "graph\n",
    "\n"
   ],
   "metadata": {
    "collapsed": false,
    "pycharm": {
     "name": "#%%\n"
    }
   }
  },
  {
   "cell_type": "code",
   "execution_count": 31,
   "outputs": [
    {
     "data": {
      "text/plain": "(    Tiempo  Temperatura  Humedad  Viento\n 0        2            0        0       0\n 1        2            0        0       1\n 2        1            0        0       0\n 3        0            2        0       0\n 4        0            2        1       0\n 5        0            1        1       1\n 6        1            1        1       1\n 7        2            2        0       0\n 8        2            1        1       0\n 9        0            2        1       0\n 10       2            2        1       1\n 11       1            2        0       1\n 12       1            0        1       0\n 13       0            2        0       1,\n 0     0\n 1     0\n 2     1\n 3     1\n 4     1\n 5     0\n 6     1\n 7     0\n 8     1\n 9     1\n 10    1\n 11    1\n 12    1\n 13    0\n Name: Juega, dtype: int32,\n array([0, 0, 1]))"
     },
     "execution_count": 31,
     "metadata": {},
     "output_type": "execute_result"
    }
   ],
   "source": [
    "weather_test = pd.read_csv(\"weatherTest.csv\",index_col=0)\n",
    "data_weather = pd.DataFrame()\n",
    "data_weather_test = pd.DataFrame()\n",
    "\n",
    "le = preprocessing.LabelEncoder()\n",
    "\n",
    "for v in labelsWeather:\n",
    "    le.fit(weather_data[v])\n",
    "    data_weather[v] = le.transform(weather_data[v])\n",
    "    data_weather_test[v] = le.transform(weather_test[v])\n",
    "\n",
    "# Build tree\n",
    "clf = tree.DecisionTreeClassifier(criterion='entropy', max_depth=4)\n",
    "\n",
    "t_data = data_weather[data_weather.columns[0:4]]\n",
    "t_target = data_weather[data_weather.columns[4]]\n",
    "w_test = data_weather_test[data_weather_test.columns[0:4]]\n",
    "\n",
    "# Fit model to data\n",
    "clf = clf.fit(t_data, t_target)\n",
    "y_pred = clf.predict(w_test)\n",
    "t_data, t_target, y_pred\n"
   ],
   "metadata": {
    "collapsed": false,
    "pycharm": {
     "name": "#%%\n"
    }
   }
  },
  {
   "cell_type": "code",
   "execution_count": 34,
   "outputs": [
    {
     "name": "stdout",
     "output_type": "stream",
     "text": [
      "Entropia del arbol Clima: 0.9403\n"
     ]
    },
    {
     "data": {
      "text/plain": "(array(['N', 'P'], dtype=object), array([5, 9], dtype=int64))"
     },
     "execution_count": 34,
     "metadata": {},
     "output_type": "execute_result"
    }
   ],
   "source": [
    "# Calculate entropy\n",
    "\n",
    "val, counts = np.unique(weather_data['Juega'], return_counts=True)\n",
    "entropy_weather = calcular_entropia(counts/counts.sum())\n",
    "print(\"Entropia del arbol Clima:\", entropy_weather.round(4))\n",
    "val, counts"
   ],
   "metadata": {
    "collapsed": false,
    "pycharm": {
     "name": "#%%\n"
    }
   }
  },
  {
   "cell_type": "code",
   "execution_count": 53,
   "outputs": [
    {
     "name": "stdout",
     "output_type": "stream",
     "text": [
      "Subconjunto  (array([ 3,  4,  5,  9, 13], dtype=int64),)\n",
      "Ejemplos de valor: Ejemplo\n",
      "4     P\n",
      "5     P\n",
      "6     N\n",
      "10    P\n",
      "14    N\n",
      "Name: Juega, dtype: object\n",
      "Subgrupos: ['N' 'P'] [2 3]\n",
      "Entropia valor: 0.9709505944546686\n",
      "Probabilidad: 0.35714285714285715\n",
      "inf_a [[0.9709505944546686, 0.35714285714285715]]\n",
      "Subconjunto  (array([ 2,  6, 11, 12], dtype=int64),)\n",
      "Ejemplos de valor: Ejemplo\n",
      "3     P\n",
      "7     P\n",
      "12    P\n",
      "13    P\n",
      "Name: Juega, dtype: object\n",
      "Subgrupos: ['P'] [4]\n",
      "Entropia valor: 0.0\n",
      "Probabilidad: 0.2857142857142857\n",
      "inf_a [[0.9709505944546686, 0.35714285714285715], [0.0, 0.2857142857142857]]\n",
      "Subconjunto  (array([ 0,  1,  7,  8, 10], dtype=int64),)\n",
      "Ejemplos de valor: Ejemplo\n",
      "1     N\n",
      "2     N\n",
      "8     N\n",
      "9     P\n",
      "11    P\n",
      "Name: Juega, dtype: object\n",
      "Subgrupos: ['N' 'P'] [3 2]\n",
      "Entropia valor: 0.9709505944546686\n",
      "Probabilidad: 0.35714285714285715\n",
      "inf_a [[0.9709505944546686, 0.35714285714285715], [0.0, 0.2857142857142857], [0.9709505944546686, 0.35714285714285715]]\n",
      "Entropia general: 0.6935361388961918\n",
      "Beneficio de Tiempo :  0.2467\n"
     ]
    }
   ],
   "source": [
    "# Calculate profit\n",
    "def calculate_profit(var = 'Tiempo'):\n",
    "    values, counts = np.unique(weather_data[var], return_counts=True)\n",
    "    inf_a = []\n",
    "\n",
    "    for e in values:\n",
    "        se = np.where(weather_data[var] == e)\n",
    "        print(\"Subconjunto \",se)\n",
    "\n",
    "        se_juega = weather_data['Juega'][weather_data.index[se[0]]]\n",
    "        print(\"Ejemplos de valor:\", se_juega)\n",
    "\n",
    "        v_se_juega, c_se_juega_quemadura = np.unique(se_juega, return_counts=True)\n",
    "        print(\"Subgrupos:\", v_se_juega, c_se_juega_quemadura)\n",
    "\n",
    "        se_entropy = abs(calcular_entropia(c_se_juega_quemadura/c_se_juega_quemadura.sum()))\n",
    "        print(\"Entropia valor:\", se_entropy)\n",
    "\n",
    "        se_size_weather = sum(c_se_juega_quemadura)/len(weather_data.index)\n",
    "        print(\"Probabilidad:\", se_size_weather)\n",
    "\n",
    "        inf_a += [[se_entropy, se_size_weather]]\n",
    "        print(\"inf_a\", inf_a)\n",
    "    inf_a = np.array(inf_a)\n",
    "\n",
    "    inf_g = np.sum(inf_a[:,0]*inf_a[:,1])\n",
    "    print(\"Entropia general:\", inf_g)\n",
    "    return inf_g\n",
    "var = 'Tiempo'\n",
    "inf_a = calculate_profit(var)\n",
    "profit = entropy_weather - inf_a\n",
    "print(\"Beneficio de\",var,\": \", profit.round(4))"
   ],
   "metadata": {
    "collapsed": false,
    "pycharm": {
     "name": "#%%\n"
    }
   }
  },
  {
   "cell_type": "code",
   "execution_count": 54,
   "outputs": [
    {
     "name": "stdout",
     "output_type": "stream",
     "text": [
      "Subconjunto  (array([ 0,  1,  2, 12], dtype=int64),)\n",
      "Ejemplos de valor: Ejemplo\n",
      "1     N\n",
      "2     N\n",
      "3     P\n",
      "13    P\n",
      "Name: Juega, dtype: object\n",
      "Subgrupos: ['N' 'P'] [2 2]\n",
      "Entropia valor: 1.0\n",
      "Probabilidad: 0.2857142857142857\n",
      "inf_a [[1.0, 0.2857142857142857]]\n",
      "Subconjunto  (array([5, 6, 8], dtype=int64),)\n",
      "Ejemplos de valor: Ejemplo\n",
      "6    N\n",
      "7    P\n",
      "9    P\n",
      "Name: Juega, dtype: object\n",
      "Subgrupos: ['N' 'P'] [1 2]\n",
      "Entropia valor: 0.9182958340544896\n",
      "Probabilidad: 0.21428571428571427\n",
      "inf_a [[1.0, 0.2857142857142857], [0.9182958340544896, 0.21428571428571427]]\n",
      "Subconjunto  (array([ 3,  4,  7,  9, 10, 11, 13], dtype=int64),)\n",
      "Ejemplos de valor: Ejemplo\n",
      "4     P\n",
      "5     P\n",
      "8     N\n",
      "10    P\n",
      "11    P\n",
      "12    P\n",
      "14    N\n",
      "Name: Juega, dtype: object\n",
      "Subgrupos: ['N' 'P'] [2 5]\n",
      "Entropia valor: 0.863120568566631\n",
      "Probabilidad: 0.5\n",
      "inf_a [[1.0, 0.2857142857142857], [0.9182958340544896, 0.21428571428571427], [0.863120568566631, 0.5]]\n",
      "Entropia general: 0.9140522487235632\n",
      "Beneficio de Temperatura :  0.0262\n"
     ]
    }
   ],
   "source": [
    "var = 'Temperatura'\n",
    "inf_a = calculate_profit(var)\n",
    "profit = entropy_weather - inf_a\n",
    "print(\"Beneficio de\",var,\": \", profit.round(4))"
   ],
   "metadata": {
    "collapsed": false,
    "pycharm": {
     "name": "#%%\n"
    }
   }
  },
  {
   "cell_type": "code",
   "execution_count": 55,
   "outputs": [
    {
     "name": "stdout",
     "output_type": "stream",
     "text": [
      "Subconjunto  (array([ 0,  1,  2,  3,  7, 11, 13], dtype=int64),)\n",
      "Ejemplos de valor: Ejemplo\n",
      "1     N\n",
      "2     N\n",
      "3     P\n",
      "4     P\n",
      "8     N\n",
      "12    P\n",
      "14    N\n",
      "Name: Juega, dtype: object\n",
      "Subgrupos: ['N' 'P'] [4 3]\n",
      "Entropia valor: 0.9852281360342515\n",
      "Probabilidad: 0.5\n",
      "inf_a [[0.9852281360342515, 0.5]]\n",
      "Subconjunto  (array([ 4,  5,  6,  8,  9, 10, 12], dtype=int64),)\n",
      "Ejemplos de valor: Ejemplo\n",
      "5     P\n",
      "6     N\n",
      "7     P\n",
      "9     P\n",
      "10    P\n",
      "11    P\n",
      "13    P\n",
      "Name: Juega, dtype: object\n",
      "Subgrupos: ['N' 'P'] [1 6]\n",
      "Entropia valor: 0.5916727785823275\n",
      "Probabilidad: 0.5\n",
      "inf_a [[0.9852281360342515, 0.5], [0.5916727785823275, 0.5]]\n",
      "Entropia general: 0.7884504573082896\n",
      "Beneficio de Humedad :  0.1518\n"
     ]
    }
   ],
   "source": [
    "var = 'Humedad'\n",
    "inf_a = calculate_profit(var)\n",
    "profit = entropy_weather - inf_a\n",
    "print(\"Beneficio de\",var,\": \", profit.round(4))"
   ],
   "metadata": {
    "collapsed": false,
    "pycharm": {
     "name": "#%%\n"
    }
   }
  },
  {
   "cell_type": "code",
   "execution_count": 56,
   "outputs": [
    {
     "name": "stdout",
     "output_type": "stream",
     "text": [
      "Subconjunto  (array([ 0,  2,  3,  4,  7,  8,  9, 12], dtype=int64),)\n",
      "Ejemplos de valor: Ejemplo\n",
      "1     N\n",
      "3     P\n",
      "4     P\n",
      "5     P\n",
      "8     N\n",
      "9     P\n",
      "10    P\n",
      "13    P\n",
      "Name: Juega, dtype: object\n",
      "Subgrupos: ['N' 'P'] [2 6]\n",
      "Entropia valor: 0.8112781244591328\n",
      "Probabilidad: 0.5714285714285714\n",
      "inf_a [[0.8112781244591328, 0.5714285714285714]]\n",
      "Subconjunto  (array([ 1,  5,  6, 10, 11, 13], dtype=int64),)\n",
      "Ejemplos de valor: Ejemplo\n",
      "2     N\n",
      "6     N\n",
      "7     P\n",
      "11    P\n",
      "12    P\n",
      "14    N\n",
      "Name: Juega, dtype: object\n",
      "Subgrupos: ['N' 'P'] [3 3]\n",
      "Entropia valor: 1.0\n",
      "Probabilidad: 0.42857142857142855\n",
      "inf_a [[0.8112781244591328, 0.5714285714285714], [1.0, 0.42857142857142855]]\n",
      "Entropia general: 0.8921589282623617\n",
      "Beneficio de Viento :  0.0481\n"
     ]
    }
   ],
   "source": [
    "var = 'Viento'\n",
    "inf_a = calculate_profit(var)\n",
    "profit = entropy_weather - inf_a\n",
    "print(\"Beneficio de\",var,\": \", profit.round(4))"
   ],
   "metadata": {
    "collapsed": false,
    "pycharm": {
     "name": "#%%\n"
    }
   }
  }
 ]
}