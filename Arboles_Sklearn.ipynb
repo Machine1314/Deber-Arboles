{
 "nbformat": 4,
 "nbformat_minor": 0,
 "metadata": {
  "colab": {
   "name": "ArbolesP1.ipynb",
   "provenance": [],
   "authorship_tag": "ABX9TyPkqIleCALBW1cvGY3X6MuL"
  },
  "kernelspec": {
   "name": "python3",
   "display_name": "Python 3"
  },
  "language_info": {
   "name": "python"
  }
 },
 "cells": [
  {
   "cell_type": "code",
   "metadata": {
    "colab": {
     "base_uri": "https://localhost:8080/",
     "height": 238
    },
    "id": "nsXQmo-pDYv9",
    "executionInfo": {
     "status": "ok",
     "timestamp": 1656373760916,
     "user_tz": 300,
     "elapsed": 578,
     "user": {
      "displayName": "bernarda sandoval",
      "userId": "13411305394088946203"
     }
    },
    "outputId": "1e88cdcc-a0c1-43e2-8afe-949a5984d12c",
    "pycharm": {
     "name": "#%%\n"
    }
   },
   "source": [
    "import numpy as np\n",
    "import pandas as pd\n",
    "\n",
    "\n",
    "quemadura_data = pd.read_csv(\"arbQuemadura.csv\",index_col=0)\n",
    "quemadura_data.head()"
   ],
   "execution_count": 22,
   "outputs": [
    {
     "data": {
      "text/plain": "           Pelo Altura   Peso Proteccion Quemadura\nEjemplo                                           \n1         rubio  medio   bajo        no         si\n2         rubio   alto  medio         si        no\n3        moreno   bajo  medio         si        no\n4         rubio   bajo  medio        no         si\n5          rojo  medio   alto        no         si",
      "text/html": "<div>\n<style scoped>\n    .dataframe tbody tr th:only-of-type {\n        vertical-align: middle;\n    }\n\n    .dataframe tbody tr th {\n        vertical-align: top;\n    }\n\n    .dataframe thead th {\n        text-align: right;\n    }\n</style>\n<table border=\"1\" class=\"dataframe\">\n  <thead>\n    <tr style=\"text-align: right;\">\n      <th></th>\n      <th>Pelo</th>\n      <th>Altura</th>\n      <th>Peso</th>\n      <th>Proteccion</th>\n      <th>Quemadura</th>\n    </tr>\n    <tr>\n      <th>Ejemplo</th>\n      <th></th>\n      <th></th>\n      <th></th>\n      <th></th>\n      <th></th>\n    </tr>\n  </thead>\n  <tbody>\n    <tr>\n      <th>1</th>\n      <td>rubio</td>\n      <td>medio</td>\n      <td>bajo</td>\n      <td>no</td>\n      <td>si</td>\n    </tr>\n    <tr>\n      <th>2</th>\n      <td>rubio</td>\n      <td>alto</td>\n      <td>medio</td>\n      <td>si</td>\n      <td>no</td>\n    </tr>\n    <tr>\n      <th>3</th>\n      <td>moreno</td>\n      <td>bajo</td>\n      <td>medio</td>\n      <td>si</td>\n      <td>no</td>\n    </tr>\n    <tr>\n      <th>4</th>\n      <td>rubio</td>\n      <td>bajo</td>\n      <td>medio</td>\n      <td>no</td>\n      <td>si</td>\n    </tr>\n    <tr>\n      <th>5</th>\n      <td>rojo</td>\n      <td>medio</td>\n      <td>alto</td>\n      <td>no</td>\n      <td>si</td>\n    </tr>\n  </tbody>\n</table>\n</div>"
     },
     "execution_count": 22,
     "metadata": {},
     "output_type": "execute_result"
    }
   ]
  },
  {
   "cell_type": "code",
   "metadata": {
    "colab": {
     "base_uri": "https://localhost:8080/"
    },
    "id": "8AqZB1bWHj3v",
    "executionInfo": {
     "status": "ok",
     "timestamp": 1656373769634,
     "user_tz": 300,
     "elapsed": 1024,
     "user": {
      "displayName": "bernarda sandoval",
      "userId": "13411305394088946203"
     }
    },
    "outputId": "f4f61ef4-b336-484a-c808-de0c2b077e60",
    "pycharm": {
     "name": "#%%\n"
    }
   },
   "source": [
    "import pandas as pd\n",
    "from sklearn import tree\n",
    "from sklearn import preprocessing\n",
    "\n",
    "data = pd.DataFrame()\n",
    "\n",
    "le = preprocessing.LabelEncoder()\n",
    "\n",
    "var = [\"Pelo\", \"Altura\",\"Peso\",\"Proteccion\", \"Quemadura\"]\n",
    "\n",
    "for v in var:\n",
    "  le.fit(quemadura_data[v])\n",
    "  data[v] = le.transform(quemadura_data[v])\n",
    "\n",
    "#construir el arbol\n",
    "clf = tree.DecisionTreeClassifier(criterion = 'entropy',max_depth=4)\n",
    "\n",
    "t_data = data[data.columns[0:4]]\n",
    "t_respuesta = data[data.columns[4]]\n",
    "\n",
    "#crear el modelo\n",
    "clf = clf.fit(t_data, t_respuesta)\n",
    "\n",
    "t_data,t_respuesta,clf"
   ],
   "execution_count": 23,
   "outputs": [
    {
     "data": {
      "text/plain": "(   Pelo  Altura  Peso  Proteccion\n 0     2       2     1           0\n 1     2       0     2           1\n 2     0       1     2           1\n 3     2       1     2           0\n 4     1       2     0           0\n 5     0       0     0           0\n 6     0       2     0           0\n 7     2       1     1           1,\n 0    1\n 1    0\n 2    0\n 3    1\n 4    1\n 5    0\n 6    0\n 7    0\n Name: Quemadura, dtype: int32,\n DecisionTreeClassifier(criterion='entropy', max_depth=4))"
     },
     "execution_count": 23,
     "metadata": {},
     "output_type": "execute_result"
    }
   ]
  },
  {
   "cell_type": "code",
   "metadata": {
    "colab": {
     "base_uri": "https://localhost:8080/",
     "height": 440
    },
    "id": "otgLSob9MPKm",
    "executionInfo": {
     "status": "ok",
     "timestamp": 1625531290204,
     "user_tz": 300,
     "elapsed": 339,
     "user": {
      "displayName": "bernarda sandoval",
      "photoUrl": "",
      "userId": "13411305394088946203"
     }
    },
    "outputId": "5f88d2b6-369a-4187-aaa5-f68f68aca7cd",
    "pycharm": {
     "name": "#%%\n"
    }
   },
   "source": [
    "import graphviz\n",
    "dot_data = tree.export_graphviz(clf, out_file = None,\n",
    "                                feature_names = list(t_data.columns.values),\n",
    "                                class_names = [\"No se quema\",\"se quema\"],\n",
    "                                filled = True, rounded = True, special_characters = True)\n",
    "                              \n",
    "graph = graphviz.Source(dot_data)\n",
    "graph"
   ],
   "execution_count": 24,
   "outputs": [
    {
     "data": {
      "image/svg+xml": "<?xml version=\"1.0\" encoding=\"UTF-8\" standalone=\"no\"?>\n<!DOCTYPE svg PUBLIC \"-//W3C//DTD SVG 1.1//EN\"\n \"http://www.w3.org/Graphics/SVG/1.1/DTD/svg11.dtd\">\n<!-- Generated by graphviz version 4.0.0 (20220529.0937)\n -->\n<!-- Title: Tree Pages: 1 -->\n<svg width=\"393pt\" height=\"314pt\"\n viewBox=\"0.00 0.00 393.00 314.00\" xmlns=\"http://www.w3.org/2000/svg\" xmlns:xlink=\"http://www.w3.org/1999/xlink\">\n<g id=\"graph0\" class=\"graph\" transform=\"scale(1 1) rotate(0) translate(4 310)\">\n<title>Tree</title>\n<polygon fill=\"white\" stroke=\"transparent\" points=\"-4,4 -4,-310 389,-310 389,4 -4,4\"/>\n<!-- 0 -->\n<g id=\"node1\" class=\"node\">\n<title>0</title>\n<path fill=\"#f5cdb0\" stroke=\"black\" d=\"M294,-306C294,-306 168,-306 168,-306 162,-306 156,-300 156,-294 156,-294 156,-235 156,-235 156,-229 162,-223 168,-223 168,-223 294,-223 294,-223 300,-223 306,-229 306,-235 306,-235 306,-294 306,-294 306,-300 300,-306 294,-306\"/>\n<text text-anchor=\"start\" x=\"179\" y=\"-290.8\" font-family=\"Helvetica,sans-Serif\" font-size=\"14.00\">Proteccion ≤ 0.5</text>\n<text text-anchor=\"start\" x=\"181\" y=\"-275.8\" font-family=\"Helvetica,sans-Serif\" font-size=\"14.00\">entropy = 0.954</text>\n<text text-anchor=\"start\" x=\"191.5\" y=\"-260.8\" font-family=\"Helvetica,sans-Serif\" font-size=\"14.00\">samples = 8</text>\n<text text-anchor=\"start\" x=\"190.5\" y=\"-245.8\" font-family=\"Helvetica,sans-Serif\" font-size=\"14.00\">value = [5, 3]</text>\n<text text-anchor=\"start\" x=\"164\" y=\"-230.8\" font-family=\"Helvetica,sans-Serif\" font-size=\"14.00\">class = No se quema</text>\n</g>\n<!-- 1 -->\n<g id=\"node2\" class=\"node\">\n<title>1</title>\n<path fill=\"#bddef6\" stroke=\"black\" d=\"M205,-187C205,-187 101,-187 101,-187 95,-187 89,-181 89,-175 89,-175 89,-116 89,-116 89,-110 95,-104 101,-104 101,-104 205,-104 205,-104 211,-104 217,-110 217,-116 217,-116 217,-175 217,-175 217,-181 211,-187 205,-187\"/>\n<text text-anchor=\"start\" x=\"120.5\" y=\"-171.8\" font-family=\"Helvetica,sans-Serif\" font-size=\"14.00\">Pelo ≤ 0.5</text>\n<text text-anchor=\"start\" x=\"103\" y=\"-156.8\" font-family=\"Helvetica,sans-Serif\" font-size=\"14.00\">entropy = 0.971</text>\n<text text-anchor=\"start\" x=\"113.5\" y=\"-141.8\" font-family=\"Helvetica,sans-Serif\" font-size=\"14.00\">samples = 5</text>\n<text text-anchor=\"start\" x=\"112.5\" y=\"-126.8\" font-family=\"Helvetica,sans-Serif\" font-size=\"14.00\">value = [2, 3]</text>\n<text text-anchor=\"start\" x=\"97\" y=\"-111.8\" font-family=\"Helvetica,sans-Serif\" font-size=\"14.00\">class = se quema</text>\n</g>\n<!-- 0&#45;&gt;1 -->\n<g id=\"edge1\" class=\"edge\">\n<title>0&#45;&gt;1</title>\n<path fill=\"none\" stroke=\"black\" d=\"M203.94,-222.91C198.07,-214.1 191.8,-204.7 185.74,-195.61\"/>\n<polygon fill=\"black\" stroke=\"black\" points=\"188.47,-193.4 180.01,-187.02 182.65,-197.28 188.47,-193.4\"/>\n<text text-anchor=\"middle\" x=\"175.11\" y=\"-207.84\" font-family=\"Helvetica,sans-Serif\" font-size=\"14.00\">True</text>\n</g>\n<!-- 4 -->\n<g id=\"node5\" class=\"node\">\n<title>4</title>\n<path fill=\"#e58139\" stroke=\"black\" d=\"M373,-179.5C373,-179.5 247,-179.5 247,-179.5 241,-179.5 235,-173.5 235,-167.5 235,-167.5 235,-123.5 235,-123.5 235,-117.5 241,-111.5 247,-111.5 247,-111.5 373,-111.5 373,-111.5 379,-111.5 385,-117.5 385,-123.5 385,-123.5 385,-167.5 385,-167.5 385,-173.5 379,-179.5 373,-179.5\"/>\n<text text-anchor=\"start\" x=\"268\" y=\"-164.3\" font-family=\"Helvetica,sans-Serif\" font-size=\"14.00\">entropy = 0.0</text>\n<text text-anchor=\"start\" x=\"270.5\" y=\"-149.3\" font-family=\"Helvetica,sans-Serif\" font-size=\"14.00\">samples = 3</text>\n<text text-anchor=\"start\" x=\"269.5\" y=\"-134.3\" font-family=\"Helvetica,sans-Serif\" font-size=\"14.00\">value = [3, 0]</text>\n<text text-anchor=\"start\" x=\"243\" y=\"-119.3\" font-family=\"Helvetica,sans-Serif\" font-size=\"14.00\">class = No se quema</text>\n</g>\n<!-- 0&#45;&gt;4 -->\n<g id=\"edge4\" class=\"edge\">\n<title>0&#45;&gt;4</title>\n<path fill=\"none\" stroke=\"black\" d=\"M258.41,-222.91C266.01,-211.65 274.27,-199.42 281.91,-188.11\"/>\n<polygon fill=\"black\" stroke=\"black\" points=\"284.91,-189.91 287.61,-179.67 279.11,-186 284.91,-189.91\"/>\n<text text-anchor=\"middle\" x=\"292.36\" y=\"-200.51\" font-family=\"Helvetica,sans-Serif\" font-size=\"14.00\">False</text>\n</g>\n<!-- 2 -->\n<g id=\"node3\" class=\"node\">\n<title>2</title>\n<path fill=\"#e58139\" stroke=\"black\" d=\"M138,-68C138,-68 12,-68 12,-68 6,-68 0,-62 0,-56 0,-56 0,-12 0,-12 0,-6 6,0 12,0 12,0 138,0 138,0 144,0 150,-6 150,-12 150,-12 150,-56 150,-56 150,-62 144,-68 138,-68\"/>\n<text text-anchor=\"start\" x=\"33\" y=\"-52.8\" font-family=\"Helvetica,sans-Serif\" font-size=\"14.00\">entropy = 0.0</text>\n<text text-anchor=\"start\" x=\"35.5\" y=\"-37.8\" font-family=\"Helvetica,sans-Serif\" font-size=\"14.00\">samples = 2</text>\n<text text-anchor=\"start\" x=\"34.5\" y=\"-22.8\" font-family=\"Helvetica,sans-Serif\" font-size=\"14.00\">value = [2, 0]</text>\n<text text-anchor=\"start\" x=\"8\" y=\"-7.8\" font-family=\"Helvetica,sans-Serif\" font-size=\"14.00\">class = No se quema</text>\n</g>\n<!-- 1&#45;&gt;2 -->\n<g id=\"edge2\" class=\"edge\">\n<title>1&#45;&gt;2</title>\n<path fill=\"none\" stroke=\"black\" d=\"M123.96,-103.73C117.65,-94.88 110.98,-85.51 104.65,-76.63\"/>\n<polygon fill=\"black\" stroke=\"black\" points=\"107.37,-74.41 98.72,-68.3 101.67,-78.48 107.37,-74.41\"/>\n</g>\n<!-- 3 -->\n<g id=\"node4\" class=\"node\">\n<title>3</title>\n<path fill=\"#399de5\" stroke=\"black\" d=\"M284,-68C284,-68 180,-68 180,-68 174,-68 168,-62 168,-56 168,-56 168,-12 168,-12 168,-6 174,0 180,0 180,0 284,0 284,0 290,0 296,-6 296,-12 296,-12 296,-56 296,-56 296,-62 290,-68 284,-68\"/>\n<text text-anchor=\"start\" x=\"190\" y=\"-52.8\" font-family=\"Helvetica,sans-Serif\" font-size=\"14.00\">entropy = 0.0</text>\n<text text-anchor=\"start\" x=\"192.5\" y=\"-37.8\" font-family=\"Helvetica,sans-Serif\" font-size=\"14.00\">samples = 3</text>\n<text text-anchor=\"start\" x=\"191.5\" y=\"-22.8\" font-family=\"Helvetica,sans-Serif\" font-size=\"14.00\">value = [0, 3]</text>\n<text text-anchor=\"start\" x=\"176\" y=\"-7.8\" font-family=\"Helvetica,sans-Serif\" font-size=\"14.00\">class = se quema</text>\n</g>\n<!-- 1&#45;&gt;3 -->\n<g id=\"edge3\" class=\"edge\">\n<title>1&#45;&gt;3</title>\n<path fill=\"none\" stroke=\"black\" d=\"M182.42,-103.73C188.8,-94.88 195.56,-85.51 201.97,-76.63\"/>\n<polygon fill=\"black\" stroke=\"black\" points=\"204.96,-78.46 207.98,-68.3 199.29,-74.36 204.96,-78.46\"/>\n</g>\n</g>\n</svg>\n",
      "text/plain": "<graphviz.sources.Source at 0x274b0212c20>"
     },
     "execution_count": 24,
     "metadata": {},
     "output_type": "execute_result"
    }
   ]
  },
  {
   "cell_type": "code",
   "metadata": {
    "colab": {
     "base_uri": "https://localhost:8080/",
     "height": 598
    },
    "id": "vpEIiTQ1PG1g",
    "executionInfo": {
     "status": "ok",
     "timestamp": 1625532096196,
     "user_tz": 300,
     "elapsed": 172,
     "user": {
      "displayName": "bernarda sandoval",
      "photoUrl": "",
      "userId": "13411305394088946203"
     }
    },
    "outputId": "6bbd2e93-e54f-4070-9074-4463d43012bc",
    "pycharm": {
     "name": "#%%\n"
    }
   },
   "source": [
    "import pandas as pd\n",
    "import numpy as np\n",
    "from sklearn import tree\n",
    "#from sklearn import preprocessing\n",
    "\n",
    "data = quemadura_data.copy()\n",
    "\n",
    "data[\"Pelo\"] = np.where(data[\"Pelo\"] == \"rubio\",2,\n",
    "                        np.where(data[\"Pelo\"] == \"moreno\",1,0))\n",
    "\n",
    "data[\"Altura\"] = np.where(data[\"Altura\"] == \"medio\",2,\n",
    "                        np.where(data[\"Altura\"] == \"alto\",1,0))\n",
    "\n",
    "data[\"Peso\"] = np.where(data[\"Peso\"] == \"bajo\",2,\n",
    "                        np.where(data[\"Peso\"] == \"medio\",1,0))\n",
    "data[\"Proteccion\"] = np.where(data[\"Proteccion\"] == \"si\",1,0)\n",
    "\n",
    "#construir el arbol\n",
    "clf = tree.DecisionTreeClassifier(criterion = 'entropy',max_depth=4)\n",
    "\n",
    "t_data = data[data.columns[0:4]]\n",
    "t_respuesta = data[data.columns[4]]\n",
    "\n",
    "#crear el modelo\n",
    "clf = clf.fit(t_data, t_respuesta)\n",
    "\n",
    "import graphviz\n",
    "dot_data = tree.export_graphviz(clf, out_file = None,\n",
    "                                feature_names = list(t_data.columns.values),\n",
    "                                class_names = [\"No se quema\",\"se quema\"],\n",
    "                                filled = True, rounded = True, special_characters = True)\n",
    "                              \n",
    "graph = graphviz.Source(dot_data)\n",
    "graph"
   ],
   "execution_count": 25,
   "outputs": [
    {
     "data": {
      "image/svg+xml": "<?xml version=\"1.0\" encoding=\"UTF-8\" standalone=\"no\"?>\n<!DOCTYPE svg PUBLIC \"-//W3C//DTD SVG 1.1//EN\"\n \"http://www.w3.org/Graphics/SVG/1.1/DTD/svg11.dtd\">\n<!-- Generated by graphviz version 4.0.0 (20220529.0937)\n -->\n<!-- Title: Tree Pages: 1 -->\n<svg width=\"460pt\" height=\"433pt\"\n viewBox=\"0.00 0.00 460.00 433.00\" xmlns=\"http://www.w3.org/2000/svg\" xmlns:xlink=\"http://www.w3.org/1999/xlink\">\n<g id=\"graph0\" class=\"graph\" transform=\"scale(1 1) rotate(0) translate(4 429)\">\n<title>Tree</title>\n<polygon fill=\"white\" stroke=\"transparent\" points=\"-4,4 -4,-429 456,-429 456,4 -4,4\"/>\n<!-- 0 -->\n<g id=\"node1\" class=\"node\">\n<title>0</title>\n<path fill=\"#f5cdb0\" stroke=\"black\" d=\"M361,-425C361,-425 235,-425 235,-425 229,-425 223,-419 223,-413 223,-413 223,-354 223,-354 223,-348 229,-342 235,-342 235,-342 361,-342 361,-342 367,-342 373,-348 373,-354 373,-354 373,-413 373,-413 373,-419 367,-425 361,-425\"/>\n<text text-anchor=\"start\" x=\"246\" y=\"-409.8\" font-family=\"Helvetica,sans-Serif\" font-size=\"14.00\">Proteccion ≤ 0.5</text>\n<text text-anchor=\"start\" x=\"248\" y=\"-394.8\" font-family=\"Helvetica,sans-Serif\" font-size=\"14.00\">entropy = 0.954</text>\n<text text-anchor=\"start\" x=\"258.5\" y=\"-379.8\" font-family=\"Helvetica,sans-Serif\" font-size=\"14.00\">samples = 8</text>\n<text text-anchor=\"start\" x=\"257.5\" y=\"-364.8\" font-family=\"Helvetica,sans-Serif\" font-size=\"14.00\">value = [5, 3]</text>\n<text text-anchor=\"start\" x=\"231\" y=\"-349.8\" font-family=\"Helvetica,sans-Serif\" font-size=\"14.00\">class = No se quema</text>\n</g>\n<!-- 1 -->\n<g id=\"node2\" class=\"node\">\n<title>1</title>\n<path fill=\"#bddef6\" stroke=\"black\" d=\"M272,-306C272,-306 168,-306 168,-306 162,-306 156,-300 156,-294 156,-294 156,-235 156,-235 156,-229 162,-223 168,-223 168,-223 272,-223 272,-223 278,-223 284,-229 284,-235 284,-235 284,-294 284,-294 284,-300 278,-306 272,-306\"/>\n<text text-anchor=\"start\" x=\"187.5\" y=\"-290.8\" font-family=\"Helvetica,sans-Serif\" font-size=\"14.00\">Pelo ≤ 1.5</text>\n<text text-anchor=\"start\" x=\"170\" y=\"-275.8\" font-family=\"Helvetica,sans-Serif\" font-size=\"14.00\">entropy = 0.971</text>\n<text text-anchor=\"start\" x=\"180.5\" y=\"-260.8\" font-family=\"Helvetica,sans-Serif\" font-size=\"14.00\">samples = 5</text>\n<text text-anchor=\"start\" x=\"179.5\" y=\"-245.8\" font-family=\"Helvetica,sans-Serif\" font-size=\"14.00\">value = [2, 3]</text>\n<text text-anchor=\"start\" x=\"164\" y=\"-230.8\" font-family=\"Helvetica,sans-Serif\" font-size=\"14.00\">class = se quema</text>\n</g>\n<!-- 0&#45;&gt;1 -->\n<g id=\"edge1\" class=\"edge\">\n<title>0&#45;&gt;1</title>\n<path fill=\"none\" stroke=\"black\" d=\"M270.94,-341.91C265.07,-333.1 258.8,-323.7 252.74,-314.61\"/>\n<polygon fill=\"black\" stroke=\"black\" points=\"255.47,-312.4 247.01,-306.02 249.65,-316.28 255.47,-312.4\"/>\n<text text-anchor=\"middle\" x=\"242.11\" y=\"-326.84\" font-family=\"Helvetica,sans-Serif\" font-size=\"14.00\">True</text>\n</g>\n<!-- 6 -->\n<g id=\"node7\" class=\"node\">\n<title>6</title>\n<path fill=\"#e58139\" stroke=\"black\" d=\"M440,-298.5C440,-298.5 314,-298.5 314,-298.5 308,-298.5 302,-292.5 302,-286.5 302,-286.5 302,-242.5 302,-242.5 302,-236.5 308,-230.5 314,-230.5 314,-230.5 440,-230.5 440,-230.5 446,-230.5 452,-236.5 452,-242.5 452,-242.5 452,-286.5 452,-286.5 452,-292.5 446,-298.5 440,-298.5\"/>\n<text text-anchor=\"start\" x=\"335\" y=\"-283.3\" font-family=\"Helvetica,sans-Serif\" font-size=\"14.00\">entropy = 0.0</text>\n<text text-anchor=\"start\" x=\"337.5\" y=\"-268.3\" font-family=\"Helvetica,sans-Serif\" font-size=\"14.00\">samples = 3</text>\n<text text-anchor=\"start\" x=\"336.5\" y=\"-253.3\" font-family=\"Helvetica,sans-Serif\" font-size=\"14.00\">value = [3, 0]</text>\n<text text-anchor=\"start\" x=\"310\" y=\"-238.3\" font-family=\"Helvetica,sans-Serif\" font-size=\"14.00\">class = No se quema</text>\n</g>\n<!-- 0&#45;&gt;6 -->\n<g id=\"edge6\" class=\"edge\">\n<title>0&#45;&gt;6</title>\n<path fill=\"none\" stroke=\"black\" d=\"M325.41,-341.91C333.01,-330.65 341.27,-318.42 348.91,-307.11\"/>\n<polygon fill=\"black\" stroke=\"black\" points=\"351.91,-308.91 354.61,-298.67 346.11,-305 351.91,-308.91\"/>\n<text text-anchor=\"middle\" x=\"359.36\" y=\"-319.51\" font-family=\"Helvetica,sans-Serif\" font-size=\"14.00\">False</text>\n</g>\n<!-- 2 -->\n<g id=\"node3\" class=\"node\">\n<title>2</title>\n<path fill=\"#f2c09c\" stroke=\"black\" d=\"M205,-187C205,-187 79,-187 79,-187 73,-187 67,-181 67,-175 67,-175 67,-116 67,-116 67,-110 73,-104 79,-104 79,-104 205,-104 205,-104 211,-104 217,-110 217,-116 217,-116 217,-175 217,-175 217,-181 211,-187 205,-187\"/>\n<text text-anchor=\"start\" x=\"109.5\" y=\"-171.8\" font-family=\"Helvetica,sans-Serif\" font-size=\"14.00\">Pelo ≤ 0.5</text>\n<text text-anchor=\"start\" x=\"92\" y=\"-156.8\" font-family=\"Helvetica,sans-Serif\" font-size=\"14.00\">entropy = 0.918</text>\n<text text-anchor=\"start\" x=\"102.5\" y=\"-141.8\" font-family=\"Helvetica,sans-Serif\" font-size=\"14.00\">samples = 3</text>\n<text text-anchor=\"start\" x=\"101.5\" y=\"-126.8\" font-family=\"Helvetica,sans-Serif\" font-size=\"14.00\">value = [2, 1]</text>\n<text text-anchor=\"start\" x=\"75\" y=\"-111.8\" font-family=\"Helvetica,sans-Serif\" font-size=\"14.00\">class = No se quema</text>\n</g>\n<!-- 1&#45;&gt;2 -->\n<g id=\"edge2\" class=\"edge\">\n<title>1&#45;&gt;2</title>\n<path fill=\"none\" stroke=\"black\" d=\"M192.94,-222.91C187.07,-214.1 180.8,-204.7 174.74,-195.61\"/>\n<polygon fill=\"black\" stroke=\"black\" points=\"177.47,-193.4 169.01,-187.02 171.65,-197.28 177.47,-193.4\"/>\n</g>\n<!-- 5 -->\n<g id=\"node6\" class=\"node\">\n<title>5</title>\n<path fill=\"#399de5\" stroke=\"black\" d=\"M351,-179.5C351,-179.5 247,-179.5 247,-179.5 241,-179.5 235,-173.5 235,-167.5 235,-167.5 235,-123.5 235,-123.5 235,-117.5 241,-111.5 247,-111.5 247,-111.5 351,-111.5 351,-111.5 357,-111.5 363,-117.5 363,-123.5 363,-123.5 363,-167.5 363,-167.5 363,-173.5 357,-179.5 351,-179.5\"/>\n<text text-anchor=\"start\" x=\"257\" y=\"-164.3\" font-family=\"Helvetica,sans-Serif\" font-size=\"14.00\">entropy = 0.0</text>\n<text text-anchor=\"start\" x=\"259.5\" y=\"-149.3\" font-family=\"Helvetica,sans-Serif\" font-size=\"14.00\">samples = 2</text>\n<text text-anchor=\"start\" x=\"258.5\" y=\"-134.3\" font-family=\"Helvetica,sans-Serif\" font-size=\"14.00\">value = [0, 2]</text>\n<text text-anchor=\"start\" x=\"243\" y=\"-119.3\" font-family=\"Helvetica,sans-Serif\" font-size=\"14.00\">class = se quema</text>\n</g>\n<!-- 1&#45;&gt;5 -->\n<g id=\"edge5\" class=\"edge\">\n<title>1&#45;&gt;5</title>\n<path fill=\"none\" stroke=\"black\" d=\"M247.41,-222.91C255.01,-211.65 263.27,-199.42 270.91,-188.11\"/>\n<polygon fill=\"black\" stroke=\"black\" points=\"273.91,-189.91 276.61,-179.67 268.11,-186 273.91,-189.91\"/>\n</g>\n<!-- 3 -->\n<g id=\"node4\" class=\"node\">\n<title>3</title>\n<path fill=\"#399de5\" stroke=\"black\" d=\"M116,-68C116,-68 12,-68 12,-68 6,-68 0,-62 0,-56 0,-56 0,-12 0,-12 0,-6 6,0 12,0 12,0 116,0 116,0 122,0 128,-6 128,-12 128,-12 128,-56 128,-56 128,-62 122,-68 116,-68\"/>\n<text text-anchor=\"start\" x=\"22\" y=\"-52.8\" font-family=\"Helvetica,sans-Serif\" font-size=\"14.00\">entropy = 0.0</text>\n<text text-anchor=\"start\" x=\"24.5\" y=\"-37.8\" font-family=\"Helvetica,sans-Serif\" font-size=\"14.00\">samples = 1</text>\n<text text-anchor=\"start\" x=\"23.5\" y=\"-22.8\" font-family=\"Helvetica,sans-Serif\" font-size=\"14.00\">value = [0, 1]</text>\n<text text-anchor=\"start\" x=\"8\" y=\"-7.8\" font-family=\"Helvetica,sans-Serif\" font-size=\"14.00\">class = se quema</text>\n</g>\n<!-- 2&#45;&gt;3 -->\n<g id=\"edge3\" class=\"edge\">\n<title>2&#45;&gt;3</title>\n<path fill=\"none\" stroke=\"black\" d=\"M112.96,-103.73C106.65,-94.88 99.98,-85.51 93.65,-76.63\"/>\n<polygon fill=\"black\" stroke=\"black\" points=\"96.37,-74.41 87.72,-68.3 90.67,-78.48 96.37,-74.41\"/>\n</g>\n<!-- 4 -->\n<g id=\"node5\" class=\"node\">\n<title>4</title>\n<path fill=\"#e58139\" stroke=\"black\" d=\"M284,-68C284,-68 158,-68 158,-68 152,-68 146,-62 146,-56 146,-56 146,-12 146,-12 146,-6 152,0 158,0 158,0 284,0 284,0 290,0 296,-6 296,-12 296,-12 296,-56 296,-56 296,-62 290,-68 284,-68\"/>\n<text text-anchor=\"start\" x=\"179\" y=\"-52.8\" font-family=\"Helvetica,sans-Serif\" font-size=\"14.00\">entropy = 0.0</text>\n<text text-anchor=\"start\" x=\"181.5\" y=\"-37.8\" font-family=\"Helvetica,sans-Serif\" font-size=\"14.00\">samples = 2</text>\n<text text-anchor=\"start\" x=\"180.5\" y=\"-22.8\" font-family=\"Helvetica,sans-Serif\" font-size=\"14.00\">value = [2, 0]</text>\n<text text-anchor=\"start\" x=\"154\" y=\"-7.8\" font-family=\"Helvetica,sans-Serif\" font-size=\"14.00\">class = No se quema</text>\n</g>\n<!-- 2&#45;&gt;4 -->\n<g id=\"edge4\" class=\"edge\">\n<title>2&#45;&gt;4</title>\n<path fill=\"none\" stroke=\"black\" d=\"M171.42,-103.73C177.8,-94.88 184.56,-85.51 190.97,-76.63\"/>\n<polygon fill=\"black\" stroke=\"black\" points=\"193.96,-78.46 196.98,-68.3 188.29,-74.36 193.96,-78.46\"/>\n</g>\n</g>\n</svg>\n",
      "text/plain": "<graphviz.sources.Source at 0x274b02bc9d0>"
     },
     "execution_count": 25,
     "metadata": {},
     "output_type": "execute_result"
    }
   ]
  },
  {
   "cell_type": "code",
   "metadata": {
    "colab": {
     "base_uri": "https://localhost:8080/"
    },
    "id": "otddCjzwUCSJ",
    "executionInfo": {
     "status": "ok",
     "timestamp": 1625533323248,
     "user_tz": 300,
     "elapsed": 150,
     "user": {
      "displayName": "bernarda sandoval",
      "photoUrl": "",
      "userId": "13411305394088946203"
     }
    },
    "outputId": "d4c096ed-5301-4634-e37b-848ce36ef325",
    "pycharm": {
     "name": "#%%\n"
    }
   },
   "source": [
    "import pandas as pd\n",
    "from sklearn import tree\n",
    "from sklearn import preprocessing\n",
    "\n",
    "quemadura_test = pd.read_csv(\"arbQuemaduraTest.csv\", index_col=0)\n",
    "\n",
    "\n",
    "data = pd.DataFrame()\n",
    "data_test = pd.DataFrame()\n",
    "\n",
    "le = preprocessing.LabelEncoder()\n",
    "\n",
    "var = [\"Pelo\", \"Altura\",\"Peso\",\"Proteccion\", \"Quemadura\"]\n",
    "\n",
    "for v in var:\n",
    "  le.fit(quemadura_data[v])\n",
    "  data[v] = le.transform(quemadura_data[v])\n",
    "  data_test[v] = le.transform(quemadura_test[v])\n",
    "\n",
    "#construir el arbol\n",
    "clf = tree.DecisionTreeClassifier(criterion = 'entropy',max_depth=4)\n",
    "\n",
    "t_data = data[data.columns[0:4]]\n",
    "t_respuesta = data[data.columns[4]]\n",
    "x_test = data_test[data_test.columns[0:4]]\n",
    "\n",
    "\n",
    "#crear el modelo\n",
    "clf = clf.fit(t_data, t_respuesta)\n",
    "y_respuesta = clf.predict(x_test)\n",
    "t_data, t_respuesta, y_respuesta"
   ],
   "execution_count": 26,
   "outputs": [
    {
     "data": {
      "text/plain": "(   Pelo  Altura  Peso  Proteccion\n 0     2       2     1           0\n 1     2       0     2           1\n 2     0       1     2           1\n 3     2       1     2           0\n 4     1       2     0           0\n 5     0       0     0           0\n 6     0       2     0           0\n 7     2       1     1           1,\n 0    1\n 1    0\n 2    0\n 3    1\n 4    1\n 5    0\n 6    0\n 7    0\n Name: Quemadura, dtype: int32,\n array([0]))"
     },
     "execution_count": 26,
     "metadata": {},
     "output_type": "execute_result"
    }
   ]
  },
  {
   "cell_type": "code",
   "metadata": {
    "id": "hoV3qo5wMYi4",
    "pycharm": {
     "name": "#%%\n"
    }
   },
   "source": [],
   "execution_count": 26,
   "outputs": []
  },
  {
   "cell_type": "code",
   "metadata": {
    "colab": {
     "base_uri": "https://localhost:8080/"
    },
    "id": "9qHt27B9ITCG",
    "executionInfo": {
     "status": "ok",
     "timestamp": 1624926958025,
     "user_tz": 300,
     "elapsed": 204,
     "user": {
      "displayName": "bernarda sandoval",
      "photoUrl": "",
      "userId": "13411305394088946203"
     }
    },
    "outputId": "9f20f77d-2392-4085-c751-154ed85dd72a",
    "pycharm": {
     "name": "#%%\n"
    }
   },
   "source": [
    "#calcular la entropia\n",
    "def calcular_entropia(p):\n",
    "  return -np.sum(p*np.log2(p))\n",
    "\n",
    "#contar las clases de la caracteristica\n",
    "valores, cuantos = np.unique(quemadura_data['Quemadura'], return_counts=True)\n",
    "entropia = calcular_entropia(cuantos/sum(cuantos))\n",
    "print(\"Entropia del arbol\",entropia)\n",
    "valores,cuantos"
   ],
   "execution_count": 27,
   "outputs": [
    {
     "name": "stdout",
     "output_type": "stream",
     "text": [
      "Entropia del arbol 0.954434002924965\n"
     ]
    },
    {
     "data": {
      "text/plain": "(array(['no', 'si'], dtype=object), array([5, 3], dtype=int64))"
     },
     "execution_count": 27,
     "metadata": {},
     "output_type": "execute_result"
    }
   ]
  },
  {
   "cell_type": "code",
   "metadata": {
    "colab": {
     "base_uri": "https://localhost:8080/"
    },
    "id": "VljBmKUrMbsI",
    "executionInfo": {
     "status": "ok",
     "timestamp": 1624928794058,
     "user_tz": 300,
     "elapsed": 192,
     "user": {
      "displayName": "bernarda sandoval",
      "photoUrl": "",
      "userId": "13411305394088946203"
     }
    },
    "outputId": "dbd023de-fd29-4dd0-ddd6-9fc90ef3b904",
    "pycharm": {
     "name": "#%%\n"
    }
   },
   "source": [
    "#calcular la ganancia\n",
    "def calcular_ganancia(valores, var = 'Pelo'):\n",
    "\n",
    "  valores, cuantos = np.unique(quemadura_data[var], return_counts=True)\n",
    "\n",
    "  info_a = []\n",
    "\n",
    "  for e in valores:\n",
    "    se = np.where(quemadura_data[var]==e)\n",
    "    print(\"subconjunto\",se)\n",
    "\n",
    "    se_quemadura = quemadura_data['Quemadura'][quemadura_data.index[se[0]]]\n",
    "    print(\"Ejemplos del valor\", se_quemadura)\n",
    "\n",
    "    v_se_quemadura, c_se_quemadura = np.unique(se_quemadura,return_counts=True)\n",
    "    print(\"subgrupos\",v_se_quemadura,c_se_quemadura)\n",
    "\n",
    "    #entropia del valor\n",
    "    se_entropia = abs(calcular_entropia(c_se_quemadura/sum(c_se_quemadura)))\n",
    "    print(\"entropia del valor\",se_entropia)\n",
    "\n",
    "    #probabilidad del valor\n",
    "    se_size = sum(c_se_quemadura)/len(quemadura_data.index)\n",
    "    print(\"probabilidad\",se_size)\n",
    "\n",
    "    info_a += [[se_entropia, se_size]]\n",
    "    print(\"info_a\",info_a)\n",
    "\n",
    "  info_a = np.array(info_a)\n",
    "\n",
    "  #calcular la entropia de la variable\n",
    "  info_g = np.sum(info_a[:,0]*info_a[:,1])\n",
    "  print(\"entropia de la variable\",info_g)\n",
    "  return info_g\n",
    "\n",
    "info_a = calcular_ganancia(valores, var = 'Pelo')\n",
    "ganancia = entropia -info_a\n",
    "print(\"ganancia de pelo\", ganancia)\n",
    "\n",
    "\n",
    "\n",
    "\n",
    "\n",
    "\n"
   ],
   "execution_count": 28,
   "outputs": [
    {
     "name": "stdout",
     "output_type": "stream",
     "text": [
      "subconjunto (array([2, 5, 6], dtype=int64),)\n",
      "Ejemplos del valor Ejemplo\n",
      "3    no\n",
      "6    no\n",
      "7    no\n",
      "Name: Quemadura, dtype: object\n",
      "subgrupos ['no'] [3]\n",
      "entropia del valor 0.0\n",
      "probabilidad 0.375\n",
      "info_a [[0.0, 0.375]]\n",
      "subconjunto (array([4], dtype=int64),)\n",
      "Ejemplos del valor Ejemplo\n",
      "5    si\n",
      "Name: Quemadura, dtype: object\n",
      "subgrupos ['si'] [1]\n",
      "entropia del valor 0.0\n",
      "probabilidad 0.125\n",
      "info_a [[0.0, 0.375], [0.0, 0.125]]\n",
      "subconjunto (array([0, 1, 3, 7], dtype=int64),)\n",
      "Ejemplos del valor Ejemplo\n",
      "1    si\n",
      "2    no\n",
      "4    si\n",
      "8    no\n",
      "Name: Quemadura, dtype: object\n",
      "subgrupos ['no' 'si'] [2 2]\n",
      "entropia del valor 1.0\n",
      "probabilidad 0.5\n",
      "info_a [[0.0, 0.375], [0.0, 0.125], [1.0, 0.5]]\n",
      "entropia de la variable 0.5\n",
      "ganancia de pelo 0.45443400292496505\n"
     ]
    }
   ]
  },
  {
   "cell_type": "code",
   "metadata": {
    "colab": {
     "base_uri": "https://localhost:8080/"
    },
    "id": "L2I3NfNeTtJU",
    "executionInfo": {
     "status": "ok",
     "timestamp": 1624928956325,
     "user_tz": 300,
     "elapsed": 176,
     "user": {
      "displayName": "bernarda sandoval",
      "photoUrl": "",
      "userId": "13411305394088946203"
     }
    },
    "outputId": "dda608e2-a89e-4c4d-d541-48391d832b4c",
    "pycharm": {
     "name": "#%%\n"
    }
   },
   "source": [
    "info_a = calcular_ganancia(valores, var = 'Altura')\n",
    "ganancia = entropia -info_a\n",
    "print(\"ganancia de altura\", ganancia)"
   ],
   "execution_count": 29,
   "outputs": [
    {
     "name": "stdout",
     "output_type": "stream",
     "text": [
      "subconjunto (array([1, 5], dtype=int64),)\n",
      "Ejemplos del valor Ejemplo\n",
      "2    no\n",
      "6    no\n",
      "Name: Quemadura, dtype: object\n",
      "subgrupos ['no'] [2]\n",
      "entropia del valor 0.0\n",
      "probabilidad 0.25\n",
      "info_a [[0.0, 0.25]]\n",
      "subconjunto (array([2, 3, 7], dtype=int64),)\n",
      "Ejemplos del valor Ejemplo\n",
      "3    no\n",
      "4    si\n",
      "8    no\n",
      "Name: Quemadura, dtype: object\n",
      "subgrupos ['no' 'si'] [2 1]\n",
      "entropia del valor 0.9182958340544896\n",
      "probabilidad 0.375\n",
      "info_a [[0.0, 0.25], [0.9182958340544896, 0.375]]\n",
      "subconjunto (array([0, 4, 6], dtype=int64),)\n",
      "Ejemplos del valor Ejemplo\n",
      "1    si\n",
      "5    si\n",
      "7    no\n",
      "Name: Quemadura, dtype: object\n",
      "subgrupos ['no' 'si'] [1 2]\n",
      "entropia del valor 0.9182958340544896\n",
      "probabilidad 0.375\n",
      "info_a [[0.0, 0.25], [0.9182958340544896, 0.375], [0.9182958340544896, 0.375]]\n",
      "entropia de la variable 0.6887218755408672\n",
      "ganancia de altura 0.2657121273840979\n"
     ]
    }
   ]
  },
  {
   "cell_type": "code",
   "metadata": {
    "id": "WbYE-y4Obros",
    "pycharm": {
     "name": "#%%\n"
    }
   },
   "source": [],
   "execution_count": 29,
   "outputs": []
  },
  {
   "cell_type": "code",
   "metadata": {
    "colab": {
     "base_uri": "https://localhost:8080/"
    },
    "id": "vIXvmtH_UIJY",
    "executionInfo": {
     "status": "ok",
     "timestamp": 1624928996246,
     "user_tz": 300,
     "elapsed": 180,
     "user": {
      "displayName": "bernarda sandoval",
      "photoUrl": "",
      "userId": "13411305394088946203"
     }
    },
    "outputId": "5b269717-850b-47a8-a1b6-2b460d1822a0",
    "pycharm": {
     "name": "#%%\n"
    }
   },
   "source": [
    "info_a = calcular_ganancia(valores, var = 'Peso')\n",
    "ganancia = entropia -info_a\n",
    "print(\"ganancia de peso\", ganancia)"
   ],
   "execution_count": 30,
   "outputs": [
    {
     "name": "stdout",
     "output_type": "stream",
     "text": [
      "subconjunto (array([4, 5, 6], dtype=int64),)\n",
      "Ejemplos del valor Ejemplo\n",
      "5    si\n",
      "6    no\n",
      "7    no\n",
      "Name: Quemadura, dtype: object\n",
      "subgrupos ['no' 'si'] [2 1]\n",
      "entropia del valor 0.9182958340544896\n",
      "probabilidad 0.375\n",
      "info_a [[0.9182958340544896, 0.375]]\n",
      "subconjunto (array([0, 7], dtype=int64),)\n",
      "Ejemplos del valor Ejemplo\n",
      "1    si\n",
      "8    no\n",
      "Name: Quemadura, dtype: object\n",
      "subgrupos ['no' 'si'] [1 1]\n",
      "entropia del valor 1.0\n",
      "probabilidad 0.25\n",
      "info_a [[0.9182958340544896, 0.375], [1.0, 0.25]]\n",
      "subconjunto (array([1, 2, 3], dtype=int64),)\n",
      "Ejemplos del valor Ejemplo\n",
      "2    no\n",
      "3    no\n",
      "4    si\n",
      "Name: Quemadura, dtype: object\n",
      "subgrupos ['no' 'si'] [2 1]\n",
      "entropia del valor 0.9182958340544896\n",
      "probabilidad 0.375\n",
      "info_a [[0.9182958340544896, 0.375], [1.0, 0.25], [0.9182958340544896, 0.375]]\n",
      "entropia de la variable 0.9387218755408671\n",
      "ganancia de peso 0.015712127384097996\n"
     ]
    }
   ]
  },
  {
   "cell_type": "code",
   "metadata": {
    "colab": {
     "base_uri": "https://localhost:8080/"
    },
    "id": "OKB0Gol6UQ7t",
    "executionInfo": {
     "status": "ok",
     "timestamp": 1624930973966,
     "user_tz": 300,
     "elapsed": 772,
     "user": {
      "displayName": "bernarda sandoval",
      "photoUrl": "",
      "userId": "13411305394088946203"
     }
    },
    "outputId": "8af0a107-095f-4d43-d3cf-aa34ac2941b3",
    "pycharm": {
     "name": "#%%\n"
    }
   },
   "source": [
    "info_a = calcular_ganancia(valores, var = 'Proteccion')\n",
    "ganancia = entropia -info_a\n",
    "print(\"ganancia de proteccion\", ganancia)"
   ],
   "execution_count": 31,
   "outputs": [
    {
     "name": "stdout",
     "output_type": "stream",
     "text": [
      "subconjunto (array([0, 3, 4, 5, 6], dtype=int64),)\n",
      "Ejemplos del valor Ejemplo\n",
      "1    si\n",
      "4    si\n",
      "5    si\n",
      "6    no\n",
      "7    no\n",
      "Name: Quemadura, dtype: object\n",
      "subgrupos ['no' 'si'] [2 3]\n",
      "entropia del valor 0.9709505944546686\n",
      "probabilidad 0.625\n",
      "info_a [[0.9709505944546686, 0.625]]\n",
      "subconjunto (array([1, 2, 7], dtype=int64),)\n",
      "Ejemplos del valor Ejemplo\n",
      "2    no\n",
      "3    no\n",
      "8    no\n",
      "Name: Quemadura, dtype: object\n",
      "subgrupos ['no'] [3]\n",
      "entropia del valor 0.0\n",
      "probabilidad 0.375\n",
      "info_a [[0.9709505944546686, 0.625], [0.0, 0.375]]\n",
      "entropia de la variable 0.6068441215341679\n",
      "ganancia de proteccion 0.34758988139079716\n"
     ]
    }
   ]
  },
  {
   "cell_type": "code",
   "metadata": {
    "colab": {
     "base_uri": "https://localhost:8080/",
     "height": 440
    },
    "id": "bFHgrnxbbxAQ",
    "executionInfo": {
     "status": "ok",
     "timestamp": 1624934263171,
     "user_tz": 300,
     "elapsed": 176,
     "user": {
      "displayName": "bernarda sandoval",
      "photoUrl": "",
      "userId": "13411305394088946203"
     }
    },
    "outputId": "b57cd524-c323-4b64-ef96-73e1fbf64c46",
    "pycharm": {
     "name": "#%%\n"
    }
   },
   "source": [
    "from sklearn import tree\n",
    "from sklearn import preprocessing\n",
    "\n",
    "data = pd.DataFrame()\n",
    "\n",
    "#Transformar a valores numeicos\n",
    "le = preprocessing.LabelEncoder()\n",
    "\n",
    "var = [\"Pelo\", \"Altura\", \"Peso\", \"Proteccion\", \"Quemadura\"]\n",
    "\n",
    "for v in var:\n",
    "    le.fit(quemadura_data[v])\n",
    "    data[v] = le.transform(quemadura_data[v])\n",
    "\n",
    "# Build tree\n",
    "clf = tree.DecisionTreeClassifier(criterion='entropy', max_depth=4)\n",
    "\n",
    "t_data = data[data.columns[0:4]]\n",
    "t_target = data[data.columns[4]]\n",
    "\n",
    "# Fit model to data\n",
    "clf = clf.fit(t_data, t_target)\n",
    "t_data,t_target,clf\n",
    "\n",
    "# Visualize tree\n",
    "import graphviz \n",
    "dot_data = tree.export_graphviz(clf, out_file=None, \n",
    "                         feature_names=list(t_data.columns.values),  \n",
    "                         class_names=[\"No se quema\", \"Se quema\"],  \n",
    "                         filled=True, rounded=True,  \n",
    "                         special_characters=True)  \n",
    "graph = graphviz.Source(dot_data)  \n",
    "graph"
   ],
   "execution_count": 32,
   "outputs": [
    {
     "data": {
      "image/svg+xml": "<?xml version=\"1.0\" encoding=\"UTF-8\" standalone=\"no\"?>\n<!DOCTYPE svg PUBLIC \"-//W3C//DTD SVG 1.1//EN\"\n \"http://www.w3.org/Graphics/SVG/1.1/DTD/svg11.dtd\">\n<!-- Generated by graphviz version 4.0.0 (20220529.0937)\n -->\n<!-- Title: Tree Pages: 1 -->\n<svg width=\"396pt\" height=\"314pt\"\n viewBox=\"0.00 0.00 396.00 314.00\" xmlns=\"http://www.w3.org/2000/svg\" xmlns:xlink=\"http://www.w3.org/1999/xlink\">\n<g id=\"graph0\" class=\"graph\" transform=\"scale(1 1) rotate(0) translate(4 310)\">\n<title>Tree</title>\n<polygon fill=\"white\" stroke=\"transparent\" points=\"-4,4 -4,-310 392,-310 392,4 -4,4\"/>\n<!-- 0 -->\n<g id=\"node1\" class=\"node\">\n<title>0</title>\n<path fill=\"#f5cdb0\" stroke=\"black\" d=\"M296,-306C296,-306 170,-306 170,-306 164,-306 158,-300 158,-294 158,-294 158,-235 158,-235 158,-229 164,-223 170,-223 170,-223 296,-223 296,-223 302,-223 308,-229 308,-235 308,-235 308,-294 308,-294 308,-300 302,-306 296,-306\"/>\n<text text-anchor=\"start\" x=\"181\" y=\"-290.8\" font-family=\"Helvetica,sans-Serif\" font-size=\"14.00\">Proteccion ≤ 0.5</text>\n<text text-anchor=\"start\" x=\"183\" y=\"-275.8\" font-family=\"Helvetica,sans-Serif\" font-size=\"14.00\">entropy = 0.954</text>\n<text text-anchor=\"start\" x=\"193.5\" y=\"-260.8\" font-family=\"Helvetica,sans-Serif\" font-size=\"14.00\">samples = 8</text>\n<text text-anchor=\"start\" x=\"192.5\" y=\"-245.8\" font-family=\"Helvetica,sans-Serif\" font-size=\"14.00\">value = [5, 3]</text>\n<text text-anchor=\"start\" x=\"166\" y=\"-230.8\" font-family=\"Helvetica,sans-Serif\" font-size=\"14.00\">class = No se quema</text>\n</g>\n<!-- 1 -->\n<g id=\"node2\" class=\"node\">\n<title>1</title>\n<path fill=\"#bddef6\" stroke=\"black\" d=\"M207.5,-187C207.5,-187 100.5,-187 100.5,-187 94.5,-187 88.5,-181 88.5,-175 88.5,-175 88.5,-116 88.5,-116 88.5,-110 94.5,-104 100.5,-104 100.5,-104 207.5,-104 207.5,-104 213.5,-104 219.5,-110 219.5,-116 219.5,-116 219.5,-175 219.5,-175 219.5,-181 213.5,-187 207.5,-187\"/>\n<text text-anchor=\"start\" x=\"121.5\" y=\"-171.8\" font-family=\"Helvetica,sans-Serif\" font-size=\"14.00\">Pelo ≤ 0.5</text>\n<text text-anchor=\"start\" x=\"104\" y=\"-156.8\" font-family=\"Helvetica,sans-Serif\" font-size=\"14.00\">entropy = 0.971</text>\n<text text-anchor=\"start\" x=\"114.5\" y=\"-141.8\" font-family=\"Helvetica,sans-Serif\" font-size=\"14.00\">samples = 5</text>\n<text text-anchor=\"start\" x=\"113.5\" y=\"-126.8\" font-family=\"Helvetica,sans-Serif\" font-size=\"14.00\">value = [2, 3]</text>\n<text text-anchor=\"start\" x=\"96.5\" y=\"-111.8\" font-family=\"Helvetica,sans-Serif\" font-size=\"14.00\">class = Se quema</text>\n</g>\n<!-- 0&#45;&gt;1 -->\n<g id=\"edge1\" class=\"edge\">\n<title>0&#45;&gt;1</title>\n<path fill=\"none\" stroke=\"black\" d=\"M205.59,-222.91C199.59,-214.01 193.17,-204.51 186.97,-195.33\"/>\n<polygon fill=\"black\" stroke=\"black\" points=\"189.86,-193.35 181.36,-187.02 184.06,-197.27 189.86,-193.35\"/>\n<text text-anchor=\"middle\" x=\"176.6\" y=\"-207.86\" font-family=\"Helvetica,sans-Serif\" font-size=\"14.00\">True</text>\n</g>\n<!-- 4 -->\n<g id=\"node5\" class=\"node\">\n<title>4</title>\n<path fill=\"#e58139\" stroke=\"black\" d=\"M376,-179.5C376,-179.5 250,-179.5 250,-179.5 244,-179.5 238,-173.5 238,-167.5 238,-167.5 238,-123.5 238,-123.5 238,-117.5 244,-111.5 250,-111.5 250,-111.5 376,-111.5 376,-111.5 382,-111.5 388,-117.5 388,-123.5 388,-123.5 388,-167.5 388,-167.5 388,-173.5 382,-179.5 376,-179.5\"/>\n<text text-anchor=\"start\" x=\"271\" y=\"-164.3\" font-family=\"Helvetica,sans-Serif\" font-size=\"14.00\">entropy = 0.0</text>\n<text text-anchor=\"start\" x=\"273.5\" y=\"-149.3\" font-family=\"Helvetica,sans-Serif\" font-size=\"14.00\">samples = 3</text>\n<text text-anchor=\"start\" x=\"272.5\" y=\"-134.3\" font-family=\"Helvetica,sans-Serif\" font-size=\"14.00\">value = [3, 0]</text>\n<text text-anchor=\"start\" x=\"246\" y=\"-119.3\" font-family=\"Helvetica,sans-Serif\" font-size=\"14.00\">class = No se quema</text>\n</g>\n<!-- 0&#45;&gt;4 -->\n<g id=\"edge4\" class=\"edge\">\n<title>0&#45;&gt;4</title>\n<path fill=\"none\" stroke=\"black\" d=\"M260.76,-222.91C268.45,-211.65 276.82,-199.42 284.55,-188.11\"/>\n<polygon fill=\"black\" stroke=\"black\" points=\"287.57,-189.9 290.32,-179.67 281.79,-185.95 287.57,-189.9\"/>\n<text text-anchor=\"middle\" x=\"294.94\" y=\"-200.54\" font-family=\"Helvetica,sans-Serif\" font-size=\"14.00\">False</text>\n</g>\n<!-- 2 -->\n<g id=\"node3\" class=\"node\">\n<title>2</title>\n<path fill=\"#e58139\" stroke=\"black\" d=\"M138,-68C138,-68 12,-68 12,-68 6,-68 0,-62 0,-56 0,-56 0,-12 0,-12 0,-6 6,0 12,0 12,0 138,0 138,0 144,0 150,-6 150,-12 150,-12 150,-56 150,-56 150,-62 144,-68 138,-68\"/>\n<text text-anchor=\"start\" x=\"33\" y=\"-52.8\" font-family=\"Helvetica,sans-Serif\" font-size=\"14.00\">entropy = 0.0</text>\n<text text-anchor=\"start\" x=\"35.5\" y=\"-37.8\" font-family=\"Helvetica,sans-Serif\" font-size=\"14.00\">samples = 2</text>\n<text text-anchor=\"start\" x=\"34.5\" y=\"-22.8\" font-family=\"Helvetica,sans-Serif\" font-size=\"14.00\">value = [2, 0]</text>\n<text text-anchor=\"start\" x=\"8\" y=\"-7.8\" font-family=\"Helvetica,sans-Serif\" font-size=\"14.00\">class = No se quema</text>\n</g>\n<!-- 1&#45;&gt;2 -->\n<g id=\"edge2\" class=\"edge\">\n<title>1&#45;&gt;2</title>\n<path fill=\"none\" stroke=\"black\" d=\"M124.58,-103.73C118.2,-94.88 111.44,-85.51 105.03,-76.63\"/>\n<polygon fill=\"black\" stroke=\"black\" points=\"107.71,-74.36 99.02,-68.3 102.04,-78.46 107.71,-74.36\"/>\n</g>\n<!-- 3 -->\n<g id=\"node4\" class=\"node\">\n<title>3</title>\n<path fill=\"#399de5\" stroke=\"black\" d=\"M287.5,-68C287.5,-68 180.5,-68 180.5,-68 174.5,-68 168.5,-62 168.5,-56 168.5,-56 168.5,-12 168.5,-12 168.5,-6 174.5,0 180.5,0 180.5,0 287.5,0 287.5,0 293.5,0 299.5,-6 299.5,-12 299.5,-12 299.5,-56 299.5,-56 299.5,-62 293.5,-68 287.5,-68\"/>\n<text text-anchor=\"start\" x=\"192\" y=\"-52.8\" font-family=\"Helvetica,sans-Serif\" font-size=\"14.00\">entropy = 0.0</text>\n<text text-anchor=\"start\" x=\"194.5\" y=\"-37.8\" font-family=\"Helvetica,sans-Serif\" font-size=\"14.00\">samples = 3</text>\n<text text-anchor=\"start\" x=\"193.5\" y=\"-22.8\" font-family=\"Helvetica,sans-Serif\" font-size=\"14.00\">value = [0, 3]</text>\n<text text-anchor=\"start\" x=\"176.5\" y=\"-7.8\" font-family=\"Helvetica,sans-Serif\" font-size=\"14.00\">class = Se quema</text>\n</g>\n<!-- 1&#45;&gt;3 -->\n<g id=\"edge3\" class=\"edge\">\n<title>1&#45;&gt;3</title>\n<path fill=\"none\" stroke=\"black\" d=\"M183.79,-103.73C190.25,-94.88 197.1,-85.51 203.59,-76.63\"/>\n<polygon fill=\"black\" stroke=\"black\" points=\"206.6,-78.44 209.67,-68.3 200.95,-74.31 206.6,-78.44\"/>\n</g>\n</g>\n</svg>\n",
      "text/plain": "<graphviz.sources.Source at 0x274b02be800>"
     },
     "execution_count": 32,
     "metadata": {},
     "output_type": "execute_result"
    }
   ]
  },
  {
   "cell_type": "code",
   "metadata": {
    "colab": {
     "base_uri": "https://localhost:8080/",
     "height": 757
    },
    "id": "DjETHm7JeX0a",
    "executionInfo": {
     "status": "ok",
     "timestamp": 1624932258895,
     "user_tz": 300,
     "elapsed": 274,
     "user": {
      "displayName": "bernarda sandoval",
      "photoUrl": "",
      "userId": "13411305394088946203"
     }
    },
    "outputId": "a8948c5c-8f91-480d-a252-e09c76c0c757",
    "pycharm": {
     "name": "#%%\n"
    }
   },
   "source": [
    "data = quemadura_data.copy()\n",
    "\n",
    "data[\"Pelo\"] = np.where(data[\"Pelo\"]==\"rubio\", 2, \n",
    "                          np.where(data[\"Pelo\"]==\"moreno\", 1, 0))\n",
    "\n",
    "data[\"Altura\"] = np.where(data[\"Altura\"]==\"medio\", 2, \n",
    "                               np.where(data[\"Altura\"]==\"alto\", 1, 0))\n",
    "\n",
    "data[\"Peso\"] = np.where(data[\"Peso\"]==\"bajo\", 2,\n",
    "                        np.where(data[\"Peso\"]==\"medio\",1,0))\n",
    "\n",
    "data[\"Proteccion\"] = np.where(data[\"Proteccion\"]==\"no\", 0, 1)\n",
    "    \n",
    "clf = tree.DecisionTreeClassifier(criterion='entropy', max_depth=4)\n",
    "\n",
    "t_data = data[data.columns[0:4]]\n",
    "t_target = data[data.columns[4]]\n",
    "\n",
    "clf = clf.fit(t_data, t_target)\n",
    "\n",
    "import graphviz \n",
    "dot_data = tree.export_graphviz(clf, out_file=None, \n",
    "                         feature_names=list(t_data.columns.values),  \n",
    "                         class_names=[\"Don't Play\", \"Play\"],  \n",
    "                         filled=True, rounded=True,  \n",
    "                         special_characters=True)  \n",
    "graph = graphviz.Source(dot_data)  \n",
    "graph"
   ],
   "execution_count": 33,
   "outputs": [
    {
     "data": {
      "image/svg+xml": "<?xml version=\"1.0\" encoding=\"UTF-8\" standalone=\"no\"?>\n<!DOCTYPE svg PUBLIC \"-//W3C//DTD SVG 1.1//EN\"\n \"http://www.w3.org/Graphics/SVG/1.1/DTD/svg11.dtd\">\n<!-- Generated by graphviz version 4.0.0 (20220529.0937)\n -->\n<!-- Title: Tree Pages: 1 -->\n<svg width=\"381pt\" height=\"552pt\"\n viewBox=\"0.00 0.00 381.00 552.00\" xmlns=\"http://www.w3.org/2000/svg\" xmlns:xlink=\"http://www.w3.org/1999/xlink\">\n<g id=\"graph0\" class=\"graph\" transform=\"scale(1 1) rotate(0) translate(4 548)\">\n<title>Tree</title>\n<polygon fill=\"white\" stroke=\"transparent\" points=\"-4,4 -4,-548 377,-548 377,4 -4,4\"/>\n<!-- 0 -->\n<g id=\"node1\" class=\"node\">\n<title>0</title>\n<path fill=\"#f5cdb0\" stroke=\"black\" d=\"M168.5,-544C168.5,-544 63.5,-544 63.5,-544 57.5,-544 51.5,-538 51.5,-532 51.5,-532 51.5,-473 51.5,-473 51.5,-467 57.5,-461 63.5,-461 63.5,-461 168.5,-461 168.5,-461 174.5,-461 180.5,-467 180.5,-473 180.5,-473 180.5,-532 180.5,-532 180.5,-538 174.5,-544 168.5,-544\"/>\n<text text-anchor=\"start\" x=\"83.5\" y=\"-528.8\" font-family=\"Helvetica,sans-Serif\" font-size=\"14.00\">Pelo ≤ 0.5</text>\n<text text-anchor=\"start\" x=\"66\" y=\"-513.8\" font-family=\"Helvetica,sans-Serif\" font-size=\"14.00\">entropy = 0.954</text>\n<text text-anchor=\"start\" x=\"76.5\" y=\"-498.8\" font-family=\"Helvetica,sans-Serif\" font-size=\"14.00\">samples = 8</text>\n<text text-anchor=\"start\" x=\"75.5\" y=\"-483.8\" font-family=\"Helvetica,sans-Serif\" font-size=\"14.00\">value = [5, 3]</text>\n<text text-anchor=\"start\" x=\"59.5\" y=\"-468.8\" font-family=\"Helvetica,sans-Serif\" font-size=\"14.00\">class = Don&#39;t Play</text>\n</g>\n<!-- 1 -->\n<g id=\"node2\" class=\"node\">\n<title>1</title>\n<path fill=\"#399de5\" stroke=\"black\" d=\"M88,-417.5C88,-417.5 12,-417.5 12,-417.5 6,-417.5 0,-411.5 0,-405.5 0,-405.5 0,-361.5 0,-361.5 0,-355.5 6,-349.5 12,-349.5 12,-349.5 88,-349.5 88,-349.5 94,-349.5 100,-355.5 100,-361.5 100,-361.5 100,-405.5 100,-405.5 100,-411.5 94,-417.5 88,-417.5\"/>\n<text text-anchor=\"start\" x=\"8\" y=\"-402.3\" font-family=\"Helvetica,sans-Serif\" font-size=\"14.00\">entropy = 0.0</text>\n<text text-anchor=\"start\" x=\"10.5\" y=\"-387.3\" font-family=\"Helvetica,sans-Serif\" font-size=\"14.00\">samples = 1</text>\n<text text-anchor=\"start\" x=\"9.5\" y=\"-372.3\" font-family=\"Helvetica,sans-Serif\" font-size=\"14.00\">value = [0, 1]</text>\n<text text-anchor=\"start\" x=\"12\" y=\"-357.3\" font-family=\"Helvetica,sans-Serif\" font-size=\"14.00\">class = Play</text>\n</g>\n<!-- 0&#45;&gt;1 -->\n<g id=\"edge1\" class=\"edge\">\n<title>0&#45;&gt;1</title>\n<path fill=\"none\" stroke=\"black\" d=\"M93.1,-460.91C86.81,-449.76 79.99,-437.66 73.66,-426.44\"/>\n<polygon fill=\"black\" stroke=\"black\" points=\"76.67,-424.66 68.71,-417.67 70.57,-428.1 76.67,-424.66\"/>\n<text text-anchor=\"middle\" x=\"62\" y=\"-438.05\" font-family=\"Helvetica,sans-Serif\" font-size=\"14.00\">True</text>\n</g>\n<!-- 2 -->\n<g id=\"node3\" class=\"node\">\n<title>2</title>\n<path fill=\"#efb388\" stroke=\"black\" d=\"M235.5,-425C235.5,-425 130.5,-425 130.5,-425 124.5,-425 118.5,-419 118.5,-413 118.5,-413 118.5,-354 118.5,-354 118.5,-348 124.5,-342 130.5,-342 130.5,-342 235.5,-342 235.5,-342 241.5,-342 247.5,-348 247.5,-354 247.5,-354 247.5,-413 247.5,-413 247.5,-419 241.5,-425 235.5,-425\"/>\n<text text-anchor=\"start\" x=\"150.5\" y=\"-409.8\" font-family=\"Helvetica,sans-Serif\" font-size=\"14.00\">Pelo ≤ 1.5</text>\n<text text-anchor=\"start\" x=\"133\" y=\"-394.8\" font-family=\"Helvetica,sans-Serif\" font-size=\"14.00\">entropy = 0.863</text>\n<text text-anchor=\"start\" x=\"143.5\" y=\"-379.8\" font-family=\"Helvetica,sans-Serif\" font-size=\"14.00\">samples = 7</text>\n<text text-anchor=\"start\" x=\"142.5\" y=\"-364.8\" font-family=\"Helvetica,sans-Serif\" font-size=\"14.00\">value = [5, 2]</text>\n<text text-anchor=\"start\" x=\"126.5\" y=\"-349.8\" font-family=\"Helvetica,sans-Serif\" font-size=\"14.00\">class = Don&#39;t Play</text>\n</g>\n<!-- 0&#45;&gt;2 -->\n<g id=\"edge2\" class=\"edge\">\n<title>0&#45;&gt;2</title>\n<path fill=\"none\" stroke=\"black\" d=\"M139.25,-460.91C144.23,-452.2 149.56,-442.9 154.71,-433.89\"/>\n<polygon fill=\"black\" stroke=\"black\" points=\"157.86,-435.44 159.8,-425.02 151.79,-431.96 157.86,-435.44\"/>\n<text text-anchor=\"middle\" x=\"166.35\" y=\"-445.45\" font-family=\"Helvetica,sans-Serif\" font-size=\"14.00\">False</text>\n</g>\n<!-- 3 -->\n<g id=\"node4\" class=\"node\">\n<title>3</title>\n<path fill=\"#e58139\" stroke=\"black\" d=\"M162.5,-298.5C162.5,-298.5 57.5,-298.5 57.5,-298.5 51.5,-298.5 45.5,-292.5 45.5,-286.5 45.5,-286.5 45.5,-242.5 45.5,-242.5 45.5,-236.5 51.5,-230.5 57.5,-230.5 57.5,-230.5 162.5,-230.5 162.5,-230.5 168.5,-230.5 174.5,-236.5 174.5,-242.5 174.5,-242.5 174.5,-286.5 174.5,-286.5 174.5,-292.5 168.5,-298.5 162.5,-298.5\"/>\n<text text-anchor=\"start\" x=\"68\" y=\"-283.3\" font-family=\"Helvetica,sans-Serif\" font-size=\"14.00\">entropy = 0.0</text>\n<text text-anchor=\"start\" x=\"70.5\" y=\"-268.3\" font-family=\"Helvetica,sans-Serif\" font-size=\"14.00\">samples = 3</text>\n<text text-anchor=\"start\" x=\"69.5\" y=\"-253.3\" font-family=\"Helvetica,sans-Serif\" font-size=\"14.00\">value = [3, 0]</text>\n<text text-anchor=\"start\" x=\"53.5\" y=\"-238.3\" font-family=\"Helvetica,sans-Serif\" font-size=\"14.00\">class = Don&#39;t Play</text>\n</g>\n<!-- 2&#45;&gt;3 -->\n<g id=\"edge3\" class=\"edge\">\n<title>2&#45;&gt;3</title>\n<path fill=\"none\" stroke=\"black\" d=\"M157.67,-341.91C150.72,-330.76 143.17,-318.66 136.17,-307.44\"/>\n<polygon fill=\"black\" stroke=\"black\" points=\"138.96,-305.3 130.69,-298.67 133.02,-309 138.96,-305.3\"/>\n</g>\n<!-- 4 -->\n<g id=\"node5\" class=\"node\">\n<title>4</title>\n<path fill=\"#ffffff\" stroke=\"black\" d=\"M309.5,-306C309.5,-306 204.5,-306 204.5,-306 198.5,-306 192.5,-300 192.5,-294 192.5,-294 192.5,-235 192.5,-235 192.5,-229 198.5,-223 204.5,-223 204.5,-223 309.5,-223 309.5,-223 315.5,-223 321.5,-229 321.5,-235 321.5,-235 321.5,-294 321.5,-294 321.5,-300 315.5,-306 309.5,-306\"/>\n<text text-anchor=\"start\" x=\"221\" y=\"-290.8\" font-family=\"Helvetica,sans-Serif\" font-size=\"14.00\">Altura ≤ 1.5</text>\n<text text-anchor=\"start\" x=\"215\" y=\"-275.8\" font-family=\"Helvetica,sans-Serif\" font-size=\"14.00\">entropy = 1.0</text>\n<text text-anchor=\"start\" x=\"217.5\" y=\"-260.8\" font-family=\"Helvetica,sans-Serif\" font-size=\"14.00\">samples = 4</text>\n<text text-anchor=\"start\" x=\"216.5\" y=\"-245.8\" font-family=\"Helvetica,sans-Serif\" font-size=\"14.00\">value = [2, 2]</text>\n<text text-anchor=\"start\" x=\"200.5\" y=\"-230.8\" font-family=\"Helvetica,sans-Serif\" font-size=\"14.00\">class = Don&#39;t Play</text>\n</g>\n<!-- 2&#45;&gt;4 -->\n<g id=\"edge4\" class=\"edge\">\n<title>2&#45;&gt;4</title>\n<path fill=\"none\" stroke=\"black\" d=\"M208.67,-341.91C214.24,-333.1 220.19,-323.7 225.94,-314.61\"/>\n<polygon fill=\"black\" stroke=\"black\" points=\"228.98,-316.34 231.37,-306.02 223.07,-312.6 228.98,-316.34\"/>\n</g>\n<!-- 5 -->\n<g id=\"node6\" class=\"node\">\n<title>5</title>\n<path fill=\"#f2c09c\" stroke=\"black\" d=\"M242.5,-187C242.5,-187 137.5,-187 137.5,-187 131.5,-187 125.5,-181 125.5,-175 125.5,-175 125.5,-116 125.5,-116 125.5,-110 131.5,-104 137.5,-104 137.5,-104 242.5,-104 242.5,-104 248.5,-104 254.5,-110 254.5,-116 254.5,-116 254.5,-175 254.5,-175 254.5,-181 248.5,-187 242.5,-187\"/>\n<text text-anchor=\"start\" x=\"154\" y=\"-171.8\" font-family=\"Helvetica,sans-Serif\" font-size=\"14.00\">Altura ≤ 0.5</text>\n<text text-anchor=\"start\" x=\"140\" y=\"-156.8\" font-family=\"Helvetica,sans-Serif\" font-size=\"14.00\">entropy = 0.918</text>\n<text text-anchor=\"start\" x=\"150.5\" y=\"-141.8\" font-family=\"Helvetica,sans-Serif\" font-size=\"14.00\">samples = 3</text>\n<text text-anchor=\"start\" x=\"149.5\" y=\"-126.8\" font-family=\"Helvetica,sans-Serif\" font-size=\"14.00\">value = [2, 1]</text>\n<text text-anchor=\"start\" x=\"133.5\" y=\"-111.8\" font-family=\"Helvetica,sans-Serif\" font-size=\"14.00\">class = Don&#39;t Play</text>\n</g>\n<!-- 4&#45;&gt;5 -->\n<g id=\"edge5\" class=\"edge\">\n<title>4&#45;&gt;5</title>\n<path fill=\"none\" stroke=\"black\" d=\"M233.75,-222.91C228.77,-214.2 223.44,-204.9 218.29,-195.89\"/>\n<polygon fill=\"black\" stroke=\"black\" points=\"221.21,-193.96 213.2,-187.02 215.14,-197.44 221.21,-193.96\"/>\n</g>\n<!-- 8 -->\n<g id=\"node9\" class=\"node\">\n<title>8</title>\n<path fill=\"#399de5\" stroke=\"black\" d=\"M361,-179.5C361,-179.5 285,-179.5 285,-179.5 279,-179.5 273,-173.5 273,-167.5 273,-167.5 273,-123.5 273,-123.5 273,-117.5 279,-111.5 285,-111.5 285,-111.5 361,-111.5 361,-111.5 367,-111.5 373,-117.5 373,-123.5 373,-123.5 373,-167.5 373,-167.5 373,-173.5 367,-179.5 361,-179.5\"/>\n<text text-anchor=\"start\" x=\"281\" y=\"-164.3\" font-family=\"Helvetica,sans-Serif\" font-size=\"14.00\">entropy = 0.0</text>\n<text text-anchor=\"start\" x=\"283.5\" y=\"-149.3\" font-family=\"Helvetica,sans-Serif\" font-size=\"14.00\">samples = 1</text>\n<text text-anchor=\"start\" x=\"282.5\" y=\"-134.3\" font-family=\"Helvetica,sans-Serif\" font-size=\"14.00\">value = [0, 1]</text>\n<text text-anchor=\"start\" x=\"285\" y=\"-119.3\" font-family=\"Helvetica,sans-Serif\" font-size=\"14.00\">class = Play</text>\n</g>\n<!-- 4&#45;&gt;8 -->\n<g id=\"edge8\" class=\"edge\">\n<title>4&#45;&gt;8</title>\n<path fill=\"none\" stroke=\"black\" d=\"M279.9,-222.91C286.19,-211.76 293.01,-199.66 299.34,-188.44\"/>\n<polygon fill=\"black\" stroke=\"black\" points=\"302.43,-190.1 304.29,-179.67 296.33,-186.66 302.43,-190.1\"/>\n</g>\n<!-- 6 -->\n<g id=\"node7\" class=\"node\">\n<title>6</title>\n<path fill=\"#ffffff\" stroke=\"black\" d=\"M169.5,-68C169.5,-68 64.5,-68 64.5,-68 58.5,-68 52.5,-62 52.5,-56 52.5,-56 52.5,-12 52.5,-12 52.5,-6 58.5,0 64.5,0 64.5,0 169.5,0 169.5,0 175.5,0 181.5,-6 181.5,-12 181.5,-12 181.5,-56 181.5,-56 181.5,-62 175.5,-68 169.5,-68\"/>\n<text text-anchor=\"start\" x=\"75\" y=\"-52.8\" font-family=\"Helvetica,sans-Serif\" font-size=\"14.00\">entropy = 1.0</text>\n<text text-anchor=\"start\" x=\"77.5\" y=\"-37.8\" font-family=\"Helvetica,sans-Serif\" font-size=\"14.00\">samples = 2</text>\n<text text-anchor=\"start\" x=\"76.5\" y=\"-22.8\" font-family=\"Helvetica,sans-Serif\" font-size=\"14.00\">value = [1, 1]</text>\n<text text-anchor=\"start\" x=\"60.5\" y=\"-7.8\" font-family=\"Helvetica,sans-Serif\" font-size=\"14.00\">class = Don&#39;t Play</text>\n</g>\n<!-- 5&#45;&gt;6 -->\n<g id=\"edge6\" class=\"edge\">\n<title>5&#45;&gt;6</title>\n<path fill=\"none\" stroke=\"black\" d=\"M162.82,-103.73C156.92,-94.88 150.67,-85.51 144.75,-76.63\"/>\n<polygon fill=\"black\" stroke=\"black\" points=\"147.66,-74.68 139.2,-68.3 141.83,-78.56 147.66,-74.68\"/>\n</g>\n<!-- 7 -->\n<g id=\"node8\" class=\"node\">\n<title>7</title>\n<path fill=\"#e58139\" stroke=\"black\" d=\"M316.5,-68C316.5,-68 211.5,-68 211.5,-68 205.5,-68 199.5,-62 199.5,-56 199.5,-56 199.5,-12 199.5,-12 199.5,-6 205.5,0 211.5,0 211.5,0 316.5,0 316.5,0 322.5,0 328.5,-6 328.5,-12 328.5,-12 328.5,-56 328.5,-56 328.5,-62 322.5,-68 316.5,-68\"/>\n<text text-anchor=\"start\" x=\"222\" y=\"-52.8\" font-family=\"Helvetica,sans-Serif\" font-size=\"14.00\">entropy = 0.0</text>\n<text text-anchor=\"start\" x=\"224.5\" y=\"-37.8\" font-family=\"Helvetica,sans-Serif\" font-size=\"14.00\">samples = 1</text>\n<text text-anchor=\"start\" x=\"223.5\" y=\"-22.8\" font-family=\"Helvetica,sans-Serif\" font-size=\"14.00\">value = [1, 0]</text>\n<text text-anchor=\"start\" x=\"207.5\" y=\"-7.8\" font-family=\"Helvetica,sans-Serif\" font-size=\"14.00\">class = Don&#39;t Play</text>\n</g>\n<!-- 5&#45;&gt;7 -->\n<g id=\"edge7\" class=\"edge\">\n<title>5&#45;&gt;7</title>\n<path fill=\"none\" stroke=\"black\" d=\"M217.55,-103.73C223.53,-94.88 229.87,-85.51 235.87,-76.63\"/>\n<polygon fill=\"black\" stroke=\"black\" points=\"238.8,-78.54 241.5,-68.3 233,-74.63 238.8,-78.54\"/>\n</g>\n</g>\n</svg>\n",
      "text/plain": "<graphviz.sources.Source at 0x274b01030d0>"
     },
     "execution_count": 33,
     "metadata": {},
     "output_type": "execute_result"
    }
   ]
  },
  {
   "cell_type": "code",
   "metadata": {
    "colab": {
     "base_uri": "https://localhost:8080/"
    },
    "id": "QDGtKfMFjtrF",
    "executionInfo": {
     "status": "ok",
     "timestamp": 1624935082554,
     "user_tz": 300,
     "elapsed": 173,
     "user": {
      "displayName": "bernarda sandoval",
      "photoUrl": "",
      "userId": "13411305394088946203"
     }
    },
    "outputId": "7285e88d-4146-4bdd-b345-b7edcd66ede9",
    "pycharm": {
     "name": "#%%\n"
    }
   },
   "source": [
    "from sklearn import tree\n",
    "from sklearn import preprocessing\n",
    "\n",
    "data = pd.DataFrame()\n",
    "\n",
    "#Transformar a valores numeicos\n",
    "le = preprocessing.LabelEncoder()\n",
    "\n",
    "var = [\"Pelo\", \"Altura\", \"Peso\", \"Proteccion\", \"Quemadura\"]\n",
    "\n",
    "for v in var:\n",
    "    le.fit(quemadura_data[v])\n",
    "    data[v] = le.transform(quemadura_data[v])\n",
    "\n",
    "# Build tree\n",
    "clf = tree.DecisionTreeClassifier(criterion='entropy', max_depth=4)\n",
    "\n",
    "t_data = data[data.columns[0:4]]\n",
    "t_target = data[data.columns[4]]\n",
    "\n",
    "# Fit model to data\n",
    "clf = clf.fit(t_data, t_target)\n",
    "t_data,t_target,clf"
   ],
   "execution_count": 34,
   "outputs": [
    {
     "data": {
      "text/plain": "(   Pelo  Altura  Peso  Proteccion\n 0     2       2     1           0\n 1     2       0     2           1\n 2     0       1     2           1\n 3     2       1     2           0\n 4     1       2     0           0\n 5     0       0     0           0\n 6     0       2     0           0\n 7     2       1     1           1,\n 0    1\n 1    0\n 2    0\n 3    1\n 4    1\n 5    0\n 6    0\n 7    0\n Name: Quemadura, dtype: int32,\n DecisionTreeClassifier(criterion='entropy', max_depth=4))"
     },
     "execution_count": 34,
     "metadata": {},
     "output_type": "execute_result"
    }
   ]
  },
  {
   "cell_type": "code",
   "metadata": {
    "colab": {
     "base_uri": "https://localhost:8080/"
    },
    "id": "kdEyOe4Voi37",
    "executionInfo": {
     "status": "ok",
     "timestamp": 1624938600380,
     "user_tz": 300,
     "elapsed": 274,
     "user": {
      "displayName": "bernarda sandoval",
      "photoUrl": "",
      "userId": "13411305394088946203"
     }
    },
    "outputId": "c7061c8f-3ac5-4c7a-c151-661e3b0e36cb",
    "pycharm": {
     "name": "#%%\n"
    }
   },
   "source": [
    "from sklearn import tree\n",
    "from sklearn import preprocessing\n",
    "\n",
    "quemadura_test = pd.read_csv(\"arbQuemaduraTest.csv\",index_col=0)\n",
    "data = pd.DataFrame()\n",
    "data1 = pd.DataFrame()\n",
    "#Transformar a valores numeicos\n",
    "le = preprocessing.LabelEncoder()\n",
    "\n",
    "var = [\"Pelo\", \"Altura\", \"Peso\", \"Proteccion\", \"Quemadura\"]\n",
    "for v in var:\n",
    "    le.fit(quemadura_data[v])\n",
    "    data[v] = le.transform(quemadura_data[v])\n",
    "    data1[v] = le.transform(quemadura_test[v])\n",
    "\n",
    "# Build tree\n",
    "clf = tree.DecisionTreeClassifier(criterion='entropy', max_depth=4)\n",
    "\n",
    "t_data = data[data.columns[0:4]]\n",
    "t_target = data[data.columns[4]]\n",
    "\n",
    "# Fit model to data\n",
    "clf = clf.fit(t_data, t_target)\n",
    "X_test = data1[data1.columns[0:4]]\n",
    "y_pred = clf.predict(X_test)\n",
    "y_pred\n"
   ],
   "execution_count": 35,
   "outputs": [
    {
     "data": {
      "text/plain": "array([0])"
     },
     "execution_count": 35,
     "metadata": {},
     "output_type": "execute_result"
    }
   ]
  }
 ]
}