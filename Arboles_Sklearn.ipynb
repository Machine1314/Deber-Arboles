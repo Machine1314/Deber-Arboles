{
 "nbformat": 4,
 "nbformat_minor": 0,
 "metadata": {
  "colab": {
   "name": "ArbolesP1.ipynb",
   "provenance": [],
   "authorship_tag": "ABX9TyPkqIleCALBW1cvGY3X6MuL"
  },
  "kernelspec": {
   "name": "python3",
   "display_name": "Python 3"
  },
  "language_info": {
   "name": "python"
  }
 },
 "cells": [
  {
   "cell_type": "code",
   "execution_count": null,
   "outputs": [],
   "source": [
    "import numpy as np\n",
    "import pandas as pd\n",
    "labelsFarmacos = [\"Presion\",\"Azucar\",\"Indice\", \"Alergia\", 'Otras', 'Administrar']\n",
    "labelsWeather = ['Tiempo', 'Temperatura', 'Humedad', 'Viento', 'Juega']"
   ],
   "metadata": {
    "collapsed": false,
    "pycharm": {
     "name": "#%%\n"
    }
   }
  },
  {
   "cell_type": "code",
   "execution_count": null,
   "outputs": [],
   "source": [
    "farmacos_data = pd.read_csv(\"farmacos.csv\",index_col=0)\n",
    "weather_data = pd.read_csv(\"weather.csv\",index_col=0)"
   ],
   "metadata": {
    "collapsed": false,
    "pycharm": {
     "name": "#%%\n"
    }
   }
  },
  {
   "cell_type": "code",
   "execution_count": null,
   "outputs": [],
   "source": [
    "farmacos_data.head()"
   ],
   "metadata": {
    "collapsed": false,
    "pycharm": {
     "name": "#%%\n"
    }
   }
  },
  {
   "cell_type": "code",
   "execution_count": null,
   "outputs": [],
   "source": [
    "weather_data.head()"
   ],
   "metadata": {
    "collapsed": false,
    "pycharm": {
     "name": "#%%\n"
    }
   }
  },
  {
   "cell_type": "code",
   "execution_count": null,
   "outputs": [],
   "source": [
    "import pandas as pd\n",
    "from sklearn import tree\n",
    "from sklearn import preprocessing\n",
    "\n",
    "data = pd.DataFrame()\n",
    "\n",
    "le = preprocessing.LabelEncoder()\n",
    "\n",
    "\n",
    "\n",
    "for v in labelsFarmacos:\n",
    "  le.fit(farmacos_data[v])\n",
    "  data[v] = le.transform(farmacos_data[v])\n",
    "\n",
    "#construir el arbol\n",
    "clf = tree.DecisionTreeClassifier(criterion = 'entropy',max_depth=4)\n",
    "\n",
    "t_data = data[data.columns[0:4]]\n",
    "t_respuesta = data[data.columns[4]]\n",
    "\n",
    "#crear el modelo\n",
    "clf = clf.fit(t_data, t_respuesta)\n",
    "\n",
    "t_data,t_respuesta,clf"
   ],
   "metadata": {
    "collapsed": false,
    "pycharm": {
     "name": "#%%\n"
    }
   }
  },
  {
   "cell_type": "code",
   "execution_count": null,
   "outputs": [],
   "source": [
    "import graphviz\n",
    "dot_data = tree.export_graphviz(clf, out_file = None,\n",
    "                                feature_names = list(t_data.columns.values),\n",
    "                                class_names = [\"No toma\",\"Si toma\"],\n",
    "                                filled = True, rounded = True, special_characters = True)\n",
    "                              \n",
    "graph = graphviz.Source(dot_data)\n",
    "graph"
   ],
   "metadata": {
    "collapsed": false,
    "pycharm": {
     "name": "#%%\n"
    }
   }
  },
  {
   "cell_type": "code",
   "execution_count": null,
   "outputs": [],
   "source": [
    "import pandas as pd\n",
    "import numpy as np\n",
    "from sklearn import tree\n",
    "#from sklearn import preprocessing\n",
    "\n",
    "data = farmacos_data.copy()\n",
    "\n",
    "data[\"Presion\"] = np.where(data[\"Presion\"] == \"Alta\",2,\n",
    "                        np.where(data[\"Presion\"] == \"Media\",1,0))\n",
    "\n",
    "data[\"Azucar\"] = np.where(data[\"Azucar\"] == \"Alto\",1,0)\n",
    "\n",
    "data[\"Indice\"] = np.where(data[\"Indice\"] == \"Alto\",1,0)\n",
    "data[\"Alergia\"] = np.where(data[\"Alergia\"] == \"Si\",1,0)\n",
    "data[\"Otras\"] = np.where(data[\"Otras\"] == \"Si\",1,0)\n",
    "#data[\"Administrar\"] = np.where(data[\"Administrar\"] == \"Si\",1,0)\n",
    "\n",
    "#construir el arbol\n",
    "clf = tree.DecisionTreeClassifier(criterion = 'entropy',max_depth=4)\n",
    "\n",
    "t_data = data[data.columns[0:4]]\n",
    "t_respuesta = data[data.columns[4]]\n",
    "\n",
    "#crear el modelo\n",
    "clf = clf.fit(t_data, t_respuesta)\n",
    "\n",
    "import graphviz\n",
    "dot_data = tree.export_graphviz(clf, out_file = None,\n",
    "                                feature_names = list(t_data.columns.values),\n",
    "                                class_names = [\"Administra\",\"No administra\"],\n",
    "                                filled = True, rounded = True, special_characters = True)\n",
    "                              \n",
    "graph = graphviz.Source(dot_data)\n",
    "graph"
   ],
   "metadata": {
    "collapsed": false,
    "pycharm": {
     "name": "#%%\n"
    }
   }
  },
  {
   "cell_type": "code",
   "execution_count": null,
   "outputs": [],
   "source": [
    "import pandas as pd\n",
    "from sklearn import tree\n",
    "from sklearn import preprocessing\n",
    "\n",
    "farmcos_test = pd.read_csv(\"farmacosTest.csv\", index_col=0)\n",
    "\n",
    "\n",
    "data = pd.DataFrame()\n",
    "data_test = pd.DataFrame()\n",
    "\n",
    "le = preprocessing.LabelEncoder()\n",
    "\n",
    "\n",
    "for v in labelsFarmacos:\n",
    "  le.fit(farmcos_test[v])\n",
    "  data[v] = le.transform(farmcos_test[v])\n",
    "  data_test[v] = le.transform(farmcos_test[v])\n",
    "\n",
    "#construir el arbol\n",
    "clf = tree.DecisionTreeClassifier(criterion = 'entropy',max_depth=4)\n",
    "\n",
    "t_data = data[data.columns[0:4]]\n",
    "t_respuesta = data[data.columns[4]]\n",
    "x_test = data_test[data_test.columns[0:4]]\n",
    "\n",
    "\n",
    "#crear el modelo\n",
    "clf = clf.fit(t_data, t_respuesta)\n",
    "y_respuesta = clf.predict(x_test)\n",
    "t_data, t_respuesta, y_respuesta"
   ],
   "metadata": {
    "collapsed": false,
    "pycharm": {
     "name": "#%%\n"
    }
   }
  },
  {
   "cell_type": "code",
   "execution_count": null,
   "outputs": [],
   "source": [
    "#calcular la entropia\n",
    "def calcular_entropia(p):\n",
    "  return -np.sum(p*np.log2(p))\n",
    "\n",
    "#contar las clases de la caracteristica\n",
    "valores, cuantos = np.unique(farmacos_data['Administrar'], return_counts=True)\n",
    "entropia = calcular_entropia(cuantos/sum(cuantos))\n",
    "print(\"Entropia del arbol\",entropia)\n",
    "valores,cuantos"
   ],
   "metadata": {
    "collapsed": false,
    "pycharm": {
     "name": "#%%\n"
    }
   }
  },
  {
   "cell_type": "code",
   "execution_count": null,
   "outputs": [],
   "source": [
    "#calcular la ganancia\n",
    "def calcular_ganancia(valores, var = 'Presion'):\n",
    "\n",
    "  valores, cuantos = np.unique(farmacos_data[var], return_counts=True)\n",
    "\n",
    "  info_a = []\n",
    "\n",
    "  for e in valores:\n",
    "    se = np.where(farmacos_data[var]==e)\n",
    "    print(\"subconjunto\",se)\n",
    "\n",
    "    se_administra = farmacos_data['Administrar'][farmacos_data.index[se[0]]]\n",
    "    print(\"Ejemplos del valor\", se_administra)\n",
    "\n",
    "    v_se_administra, c_se_quemadura = np.unique(se_administra,return_counts=True)\n",
    "    print(\"subgrupos\",v_se_administra,c_se_quemadura)\n",
    "\n",
    "    #entropia del valor\n",
    "    se_entropia = abs(calcular_entropia(c_se_quemadura/sum(c_se_quemadura)))\n",
    "    print(\"entropia del valor\",se_entropia)\n",
    "\n",
    "    #probabilidad del valor\n",
    "    se_size = sum(c_se_quemadura)/len(farmacos_data.index)\n",
    "    print(\"probabilidad\",se_size)\n",
    "\n",
    "    info_a += [[se_entropia, se_size]]\n",
    "    print(\"info_a\",info_a)\n",
    "\n",
    "  info_a = np.array(info_a)\n",
    "\n",
    "  #calcular la entropia de la variable\n",
    "  info_g = np.sum(info_a[:,0]*info_a[:,1])\n",
    "  print(\"entropia de la variable\",info_g)\n",
    "  return info_g\n",
    "\n",
    "info_a = calcular_ganancia(valores, var = 'Presion')\n",
    "ganancia = entropia -info_a\n",
    "print(\"ganancia de presion\", ganancia)"
   ],
   "metadata": {
    "collapsed": false,
    "pycharm": {
     "name": "#%%\n"
    }
   }
  },
  {
   "cell_type": "code",
   "execution_count": null,
   "outputs": [],
   "source": [
    "info_a = calcular_ganancia(valores, var = 'Azucar')\n",
    "ganancia = entropia -info_a\n",
    "print(\"ganancia de altura\", ganancia)"
   ],
   "metadata": {
    "collapsed": false,
    "pycharm": {
     "name": "#%%\n"
    }
   }
  },
  {
   "cell_type": "code",
   "execution_count": null,
   "outputs": [],
   "source": [
    "info_a = calcular_ganancia(valores, var = 'Indice')\n",
    "ganancia = entropia -info_a\n",
    "print(\"ganancia de peso\", ganancia)"
   ],
   "metadata": {
    "collapsed": false,
    "pycharm": {
     "name": "#%%\n"
    }
   }
  },
  {
   "cell_type": "code",
   "execution_count": null,
   "outputs": [],
   "source": [
    "info_a = calcular_ganancia(valores, var = 'Alergia')\n",
    "ganancia = entropia -info_a\n",
    "print(\"ganancia de Alergia\", ganancia)"
   ],
   "metadata": {
    "collapsed": false,
    "pycharm": {
     "name": "#%%\n"
    }
   }
  },
  {
   "cell_type": "code",
   "execution_count": null,
   "outputs": [],
   "source": [
    "from sklearn import tree\n",
    "from sklearn import preprocessing\n",
    "\n",
    "data = pd.DataFrame()\n",
    "\n",
    "#Transformar a valores numeicos\n",
    "le = preprocessing.LabelEncoder()\n",
    "\n",
    "for v in labelsFarmacos:\n",
    "    le.fit(farmacos_data[v])\n",
    "    data[v] = le.transform(farmacos_data[v])\n",
    "\n",
    "# Build tree\n",
    "clf = tree.DecisionTreeClassifier(criterion='entropy', max_depth=4)\n",
    "\n",
    "t_data = data[data.columns[0:4]]\n",
    "t_target = data[data.columns[4]]\n",
    "\n",
    "# Fit model to data\n",
    "clf = clf.fit(t_data, t_target)\n",
    "t_data,t_target,clf\n",
    "\n",
    "# Visualize tree\n",
    "import graphviz \n",
    "dot_data = tree.export_graphviz(clf, out_file=None, \n",
    "                         feature_names=list(t_data.columns.values),  \n",
    "                         class_names=[\"No administra\", \"Administra\"],\n",
    "                         filled=True, rounded=True,  \n",
    "                         special_characters=True)  \n",
    "graph = graphviz.Source(dot_data)  \n",
    "graph"
   ],
   "metadata": {
    "collapsed": false,
    "pycharm": {
     "name": "#%%\n"
    }
   }
  },
  {
   "cell_type": "code",
   "execution_count": null,
   "outputs": [],
   "source": [
    "data = farmacos_data.copy()\n",
    "\n",
    "data[\"Pelo\"] = np.where(data[\"Pelo\"]==\"rubio\", 2, \n",
    "                          np.where(data[\"Pelo\"]==\"moreno\", 1, 0))\n",
    "\n",
    "data[\"Altura\"] = np.where(data[\"Altura\"]==\"medio\", 2, \n",
    "                               np.where(data[\"Altura\"]==\"alto\", 1, 0))\n",
    "\n",
    "data[\"Peso\"] = np.where(data[\"Peso\"]==\"bajo\", 2,\n",
    "                        np.where(data[\"Peso\"]==\"medio\",1,0))\n",
    "\n",
    "data[\"Proteccion\"] = np.where(data[\"Proteccion\"]==\"no\", 0, 1)\n",
    "    \n",
    "clf = tree.DecisionTreeClassifier(criterion='entropy', max_depth=4)\n",
    "\n",
    "t_data = data[data.columns[0:4]]\n",
    "t_target = data[data.columns[4]]\n",
    "\n",
    "clf = clf.fit(t_data, t_target)\n",
    "\n",
    "import graphviz \n",
    "dot_data = tree.export_graphviz(clf, out_file=None, \n",
    "                         feature_names=list(t_data.columns.values),  \n",
    "                         class_names=[\"Don't Play\", \"Play\"],  \n",
    "                         filled=True, rounded=True,  \n",
    "                         special_characters=True)  \n",
    "graph = graphviz.Source(dot_data)  \n",
    "graph"
   ],
   "metadata": {
    "collapsed": false,
    "pycharm": {
     "name": "#%%\n"
    }
   }
  },
  {
   "cell_type": "code",
   "execution_count": null,
   "outputs": [],
   "source": [
    "from sklearn import tree\n",
    "from sklearn import preprocessing\n",
    "\n",
    "data = pd.DataFrame()\n",
    "\n",
    "#Transformar a valores numeicos\n",
    "le = preprocessing.LabelEncoder()\n",
    "\n",
    "var = [\"Pelo\", \"Altura\", \"Peso\", \"Proteccion\", \"Quemadura\"]\n",
    "\n",
    "for v in var:\n",
    "    le.fit(quemadura_data[v])\n",
    "    data[v] = le.transform(quemadura_data[v])\n",
    "\n",
    "# Build tree\n",
    "clf = tree.DecisionTreeClassifier(criterion='entropy', max_depth=4)\n",
    "\n",
    "t_data = data[data.columns[0:4]]\n",
    "t_target = data[data.columns[4]]\n",
    "\n",
    "# Fit model to data\n",
    "clf = clf.fit(t_data, t_target)\n",
    "t_data,t_target,clf"
   ],
   "metadata": {
    "collapsed": false,
    "pycharm": {
     "name": "#%%\n"
    }
   }
  },
  {
   "cell_type": "code",
   "execution_count": null,
   "outputs": [],
   "source": [
    "from sklearn import tree\n",
    "from sklearn import preprocessing\n",
    "\n",
    "quemadura_test = pd.read_csv(\"arbQuemaduraTest.csv\",index_col=0)\n",
    "data = pd.DataFrame()\n",
    "data1 = pd.DataFrame()\n",
    "#Transformar a valores numeicos\n",
    "le = preprocessing.LabelEncoder()\n",
    "\n",
    "var = [\"Pelo\", \"Altura\", \"Peso\", \"Proteccion\", \"Quemadura\"]\n",
    "for v in var:\n",
    "    le.fit(quemadura_data[v])\n",
    "    data[v] = le.transform(quemadura_data[v])\n",
    "    data1[v] = le.transform(quemadura_test[v])\n",
    "\n",
    "# Build tree\n",
    "clf = tree.DecisionTreeClassifier(criterion='entropy', max_depth=4)\n",
    "\n",
    "t_data = data[data.columns[0:4]]\n",
    "t_target = data[data.columns[4]]\n",
    "\n",
    "# Fit model to data\n",
    "clf = clf.fit(t_data, t_target)\n",
    "X_test = data1[data1.columns[0:4]]\n",
    "y_pred = clf.predict(X_test)\n",
    "y_pred\n"
   ],
   "metadata": {
    "collapsed": false,
    "pycharm": {
     "name": "#%%\n"
    }
   }
  },
  {
   "cell_type": "markdown",
   "source": [
    "# Clima\n"
   ],
   "metadata": {
    "collapsed": false,
    "pycharm": {
     "name": "#%% md\n"
    }
   }
  },
  {
   "cell_type": "code",
   "execution_count": null,
   "outputs": [],
   "source": [
    "data_weather = pd.DataFrame()\n",
    "le_w = preprocessing.LabelEncoder()\n",
    "\n",
    "for v in labelsWeather:\n",
    "    le_w.fit(weather_data[v])\n",
    "    data_weather[v] = le_w.transform(weather_data[v])\n",
    "\n",
    "#construir el arbol\n",
    "clf_w = tree.DecisionTreeClassifier(criterion = 'entropy',max_depth=4)\n",
    "\n",
    "t_data = data_weather[data_weather.columns[0:4]]\n",
    "t_respuesta = data_weather[data_weather.columns[4]]\n",
    "\n",
    "#crear el modelo\n",
    "clf_w = clf_w.fit(t_data, t_respuesta)\n",
    "t_data,t_respuesta,clf_w"
   ],
   "metadata": {
    "collapsed": false,
    "pycharm": {
     "name": "#%%\n"
    }
   }
  },
  {
   "cell_type": "code",
   "execution_count": null,
   "outputs": [],
   "source": [
    "import graphviz\n",
    "dot_data = tree.export_graphviz(clf_w, out_file=None,\n",
    "                         feature_names=list(t_data.columns.values),\n",
    "                         class_names=[\"No Juega\", \"Si Juega\"],\n",
    "                         filled=True, rounded=True,\n",
    "                         special_characters=True)\n",
    "graph = graphviz.Source(dot_data)\n",
    "graph"
   ],
   "metadata": {
    "collapsed": false,
    "pycharm": {
     "name": "#%%\n"
    }
   }
  },
  {
   "cell_type": "code",
   "execution_count": null,
   "outputs": [],
   "source": [
    "from sklearn import tree\n",
    "\n",
    "data_weather = weather_data.copy()\n",
    "data_weather[\"Tiempo\"] = np.where(data_weather[\"Tiempo\"]==\"Soleado\", 2,\n",
    "                          np.where(data_weather[\"Tiempo\"]==\"Nubloso\", 1, 0))\n",
    "data_weather[\"Temperatura\"] = np.where(data_weather[\"Temperatura\"]==\"Alta\", 2,\n",
    "                          np.where(data_weather[\"Temperatura\"]==\"Media\", 1, 0))\n",
    "data_weather[\"Humedad\"] = np.where(data_weather[\"Humedad\"] == \"Alta\",1,0)\n",
    "data_weather[\"Viento\"] = np.where(data_weather[\"Humedad\"] == \"Si\",1,0)\n",
    "\n",
    "\n",
    "#construir el arbol\n",
    "clf = tree.DecisionTreeClassifier(criterion = 'entropy',max_depth=4)\n",
    "\n",
    "t_data = data_weather[data_weather.columns[0:4]]\n",
    "t_respuesta = data_weather[data_weather.columns[4]]\n",
    "\n",
    "#crear el modelo\n",
    "clf = clf.fit(t_data, t_respuesta)\n",
    "\n",
    "dot_data = tree.export_graphviz(clf, out_file=None,\n",
    "                         feature_names=list(t_data.columns.values),\n",
    "                         class_names=[\"No Juega\", \"Si Juega\"],\n",
    "                         filled=True, rounded=True,\n",
    "                         special_characters=True)\n",
    "graph = graphviz.Source(dot_data)\n",
    "graph\n",
    "\n"
   ],
   "metadata": {
    "collapsed": false,
    "pycharm": {
     "name": "#%%\n"
    }
   }
  },
  {
   "cell_type": "code",
   "execution_count": null,
   "outputs": [],
   "source": [
    "weather_test = pd.read_csv(\"weatherTest.csv\",index_col=0)\n",
    "data_weather = pd.DataFrame()\n",
    "data_weather_test = pd.DataFrame()\n",
    "\n",
    "le = preprocessing.LabelEncoder()\n",
    "\n",
    "for v in labelsWeather:\n",
    "    le.fit(weather_data[v])\n",
    "    data_weather[v] = le.transform(weather_data[v])\n",
    "    data_weather_test[v] = le.transform(weather_test[v])\n",
    "\n",
    "# Build tree\n",
    "clf = tree.DecisionTreeClassifier(criterion='entropy', max_depth=4)\n",
    "\n",
    "t_data = data_weather[data_weather.columns[0:4]]\n",
    "t_target = data_weather[data_weather.columns[4]]\n",
    "w_test = data_weather_test[data_weather_test.columns[0:4]]\n",
    "\n",
    "# Fit model to data\n",
    "clf = clf.fit(t_data, t_target)\n",
    "y_pred = clf.predict(w_test)\n",
    "t_data, t_target, y_pred\n"
   ],
   "metadata": {
    "collapsed": false,
    "pycharm": {
     "name": "#%%\n"
    }
   }
  },
  {
   "cell_type": "code",
   "execution_count": null,
   "outputs": [],
   "source": [
    "# Calculate entropy\n",
    "\n",
    "val, counts = np.unique(weather_data['Juega'], return_counts=True)\n",
    "entropy_weather = calcular_entropia(counts/counts.sum())\n",
    "print(\"Entropia del arbol Clima:\", entropy_weather.round(4))\n",
    "val, counts"
   ],
   "metadata": {
    "collapsed": false,
    "pycharm": {
     "name": "#%%\n"
    }
   }
  },
  {
   "cell_type": "code",
   "execution_count": null,
   "outputs": [],
   "source": [
    "# Calculate profit\n",
    "def calculate_profit(var = 'Tiempo'):\n",
    "    values, counts = np.unique(weather_data[var], return_counts=True)\n",
    "    inf_a = []\n",
    "\n",
    "    for e in values:\n",
    "        se = np.where(weather_data[var] == e)\n",
    "        print(\"Subconjunto \",se)\n",
    "\n",
    "        se_juega = weather_data['Juega'][weather_data.index[se[0]]]\n",
    "        print(\"Ejemplos de valor:\", se_juega)\n",
    "\n",
    "        v_se_juega, c_se_juega_quemadura = np.unique(se_juega, return_counts=True)\n",
    "        print(\"Subgrupos:\", v_se_juega, c_se_juega_quemadura)\n",
    "\n",
    "        se_entropy = abs(calcular_entropia(c_se_juega_quemadura/c_se_juega_quemadura.sum()))\n",
    "        print(\"Entropia valor:\", se_entropy)\n",
    "\n",
    "        se_size_weather = sum(c_se_juega_quemadura)/len(weather_data.index)\n",
    "        print(\"Probabilidad:\", se_size_weather)\n",
    "\n",
    "        inf_a += [[se_entropy, se_size_weather]]\n",
    "        print(\"inf_a\", inf_a)\n",
    "    inf_a = np.array(inf_a)\n",
    "\n",
    "    inf_g = np.sum(inf_a[:,0]*inf_a[:,1])\n",
    "    print(\"Entropia general:\", inf_g)\n",
    "    return inf_g\n",
    "var = 'Tiempo'\n",
    "inf_a = calculate_profit(var)\n",
    "profit = entropy_weather - inf_a\n",
    "print(\"Beneficio de\",var,\": \", profit.round(4))"
   ],
   "metadata": {
    "collapsed": false,
    "pycharm": {
     "name": "#%%\n"
    }
   }
  },
  {
   "cell_type": "code",
   "execution_count": null,
   "outputs": [],
   "source": [
    "var = 'Temperatura'\n",
    "inf_a = calculate_profit(var)\n",
    "profit = entropy_weather - inf_a\n",
    "print(\"Beneficio de\",var,\": \", profit.round(4))"
   ],
   "metadata": {
    "collapsed": false,
    "pycharm": {
     "name": "#%%\n"
    }
   }
  },
  {
   "cell_type": "code",
   "execution_count": null,
   "outputs": [],
   "source": [
    "var = 'Humedad'\n",
    "inf_a = calculate_profit(var)\n",
    "profit = entropy_weather - inf_a\n",
    "print(\"Beneficio de\",var,\": \", profit.round(4))"
   ],
   "metadata": {
    "collapsed": false,
    "pycharm": {
     "name": "#%%\n"
    }
   }
  },
  {
   "cell_type": "code",
   "execution_count": null,
   "outputs": [],
   "source": [
    "var = 'Viento'\n",
    "inf_a = calculate_profit(var)\n",
    "profit = entropy_weather - inf_a\n",
    "print(\"Beneficio de\",var,\": \", profit.round(4))"
   ],
   "metadata": {
    "collapsed": false,
    "pycharm": {
     "name": "#%%\n"
    }
   }
  }
 ]
}