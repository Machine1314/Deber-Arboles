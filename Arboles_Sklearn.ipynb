{
 "nbformat": 4,
 "nbformat_minor": 0,
 "metadata": {
  "colab": {
   "name": "ArbolesP1.ipynb",
   "provenance": [],
   "authorship_tag": "ABX9TyPkqIleCALBW1cvGY3X6MuL"
  },
  "kernelspec": {
   "name": "python3",
   "display_name": "Python 3"
  },
  "language_info": {
   "name": "python"
  }
 },
 "cells": [
  {
   "cell_type": "code",
   "execution_count": 71,
   "outputs": [],
   "source": [
    "import numpy as np\n",
    "import pandas as pd\n",
    "labelsFarmacos = [\"Presion\",\"Azucar\",\"Indice\", \"Alergia\", 'Otras', 'Administrar']"
   ],
   "metadata": {
    "collapsed": false,
    "pycharm": {
     "name": "#%%\n"
    }
   }
  },
  {
   "cell_type": "code",
   "execution_count": 72,
   "outputs": [],
   "source": [
    "farmacos_data = pd.read_csv(\"farmacos.csv\",index_col=0)\n",
    "weather_data = pd.read_csv(\"weather.csv\",index_col=0)"
   ],
   "metadata": {
    "collapsed": false,
    "pycharm": {
     "name": "#%%\n"
    }
   }
  },
  {
   "cell_type": "code",
   "execution_count": 73,
   "outputs": [
    {
     "data": {
      "text/plain": "         Presion Azucar Indice Alergia Otras Administrar\nPaciente                                                \n1           Alta   Alto   Alto      No    No          Si\n2           Alta   Alto   Alto      Si    No          Si\n3           Baja   Alto   Bajo      No    No          Si\n4          Media   Alto   Alto      No    Si          No\n5          Media   Bajo   Alto      Si    Si          No",
      "text/html": "<div>\n<style scoped>\n    .dataframe tbody tr th:only-of-type {\n        vertical-align: middle;\n    }\n\n    .dataframe tbody tr th {\n        vertical-align: top;\n    }\n\n    .dataframe thead th {\n        text-align: right;\n    }\n</style>\n<table border=\"1\" class=\"dataframe\">\n  <thead>\n    <tr style=\"text-align: right;\">\n      <th></th>\n      <th>Presion</th>\n      <th>Azucar</th>\n      <th>Indice</th>\n      <th>Alergia</th>\n      <th>Otras</th>\n      <th>Administrar</th>\n    </tr>\n    <tr>\n      <th>Paciente</th>\n      <th></th>\n      <th></th>\n      <th></th>\n      <th></th>\n      <th></th>\n      <th></th>\n    </tr>\n  </thead>\n  <tbody>\n    <tr>\n      <th>1</th>\n      <td>Alta</td>\n      <td>Alto</td>\n      <td>Alto</td>\n      <td>No</td>\n      <td>No</td>\n      <td>Si</td>\n    </tr>\n    <tr>\n      <th>2</th>\n      <td>Alta</td>\n      <td>Alto</td>\n      <td>Alto</td>\n      <td>Si</td>\n      <td>No</td>\n      <td>Si</td>\n    </tr>\n    <tr>\n      <th>3</th>\n      <td>Baja</td>\n      <td>Alto</td>\n      <td>Bajo</td>\n      <td>No</td>\n      <td>No</td>\n      <td>Si</td>\n    </tr>\n    <tr>\n      <th>4</th>\n      <td>Media</td>\n      <td>Alto</td>\n      <td>Alto</td>\n      <td>No</td>\n      <td>Si</td>\n      <td>No</td>\n    </tr>\n    <tr>\n      <th>5</th>\n      <td>Media</td>\n      <td>Bajo</td>\n      <td>Alto</td>\n      <td>Si</td>\n      <td>Si</td>\n      <td>No</td>\n    </tr>\n  </tbody>\n</table>\n</div>"
     },
     "execution_count": 73,
     "metadata": {},
     "output_type": "execute_result"
    }
   ],
   "source": [
    "farmacos_data.head()"
   ],
   "metadata": {
    "collapsed": false,
    "pycharm": {
     "name": "#%%\n"
    }
   }
  },
  {
   "cell_type": "code",
   "execution_count": 74,
   "outputs": [
    {
     "data": {
      "text/plain": "           Tiempo Temperatura Humedad Viento Juega\nEjemplo                                           \n1         Soleado        Alta    Alta     No     N\n2         Soleado        Alta    Alta     Si     N\n3         Nubloso        Alta    Alta     No     P\n4        Lluvioso       Media    Alta     No     P\n5        Lluvioso       Media  Normal     No     P",
      "text/html": "<div>\n<style scoped>\n    .dataframe tbody tr th:only-of-type {\n        vertical-align: middle;\n    }\n\n    .dataframe tbody tr th {\n        vertical-align: top;\n    }\n\n    .dataframe thead th {\n        text-align: right;\n    }\n</style>\n<table border=\"1\" class=\"dataframe\">\n  <thead>\n    <tr style=\"text-align: right;\">\n      <th></th>\n      <th>Tiempo</th>\n      <th>Temperatura</th>\n      <th>Humedad</th>\n      <th>Viento</th>\n      <th>Juega</th>\n    </tr>\n    <tr>\n      <th>Ejemplo</th>\n      <th></th>\n      <th></th>\n      <th></th>\n      <th></th>\n      <th></th>\n    </tr>\n  </thead>\n  <tbody>\n    <tr>\n      <th>1</th>\n      <td>Soleado</td>\n      <td>Alta</td>\n      <td>Alta</td>\n      <td>No</td>\n      <td>N</td>\n    </tr>\n    <tr>\n      <th>2</th>\n      <td>Soleado</td>\n      <td>Alta</td>\n      <td>Alta</td>\n      <td>Si</td>\n      <td>N</td>\n    </tr>\n    <tr>\n      <th>3</th>\n      <td>Nubloso</td>\n      <td>Alta</td>\n      <td>Alta</td>\n      <td>No</td>\n      <td>P</td>\n    </tr>\n    <tr>\n      <th>4</th>\n      <td>Lluvioso</td>\n      <td>Media</td>\n      <td>Alta</td>\n      <td>No</td>\n      <td>P</td>\n    </tr>\n    <tr>\n      <th>5</th>\n      <td>Lluvioso</td>\n      <td>Media</td>\n      <td>Normal</td>\n      <td>No</td>\n      <td>P</td>\n    </tr>\n  </tbody>\n</table>\n</div>"
     },
     "execution_count": 74,
     "metadata": {},
     "output_type": "execute_result"
    }
   ],
   "source": [
    "weather_data.head()"
   ],
   "metadata": {
    "collapsed": false,
    "pycharm": {
     "name": "#%%\n"
    }
   }
  },
  {
   "cell_type": "code",
   "metadata": {
    "colab": {
     "base_uri": "https://localhost:8080/"
    },
    "id": "8AqZB1bWHj3v",
    "executionInfo": {
     "status": "ok",
     "timestamp": 1656373769634,
     "user_tz": 300,
     "elapsed": 1024,
     "user": {
      "displayName": "bernarda sandoval",
      "userId": "13411305394088946203"
     }
    },
    "outputId": "f4f61ef4-b336-484a-c808-de0c2b077e60",
    "pycharm": {
     "name": "#%%\n"
    }
   },
   "source": [
    "import pandas as pd\n",
    "from sklearn import tree\n",
    "from sklearn import preprocessing\n",
    "\n",
    "data = pd.DataFrame()\n",
    "\n",
    "le = preprocessing.LabelEncoder()\n",
    "\n",
    "\n",
    "\n",
    "for v in labelsFarmacos:\n",
    "  le.fit(farmacos_data[v])\n",
    "  data[v] = le.transform(farmacos_data[v])\n",
    "\n",
    "#construir el arbol\n",
    "clf = tree.DecisionTreeClassifier(criterion = 'entropy',max_depth=4)\n",
    "\n",
    "t_data = data[data.columns[0:4]]\n",
    "t_respuesta = data[data.columns[4]]\n",
    "\n",
    "#crear el modelo\n",
    "clf = clf.fit(t_data, t_respuesta)\n",
    "\n",
    "t_data,t_respuesta,clf"
   ],
   "execution_count": 76,
   "outputs": [
    {
     "data": {
      "text/plain": "(    Presion  Azucar  Indice  Alergia\n 0         0       0       0        0\n 1         0       0       0        1\n 2         1       0       1        0\n 3         2       0       0        0\n 4         2       1       0        1\n 5         1       1       0        1\n 6         0       1       0        1\n 7         0       1       1        0\n 8         0       0       1        1\n 9         1       1       0        1\n 10        2       1       1        1\n 11        0       1       0        1\n 12        1       0       0        1\n 13        1       0       1        0,\n 0     0\n 1     0\n 2     0\n 3     1\n 4     1\n 5     1\n 6     0\n 7     1\n 8     1\n 9     1\n 10    1\n 11    1\n 12    1\n 13    0\n Name: Otras, dtype: int32,\n DecisionTreeClassifier(criterion='entropy', max_depth=4))"
     },
     "execution_count": 76,
     "metadata": {},
     "output_type": "execute_result"
    }
   ]
  },
  {
   "cell_type": "code",
   "metadata": {
    "colab": {
     "base_uri": "https://localhost:8080/",
     "height": 440
    },
    "id": "otgLSob9MPKm",
    "executionInfo": {
     "status": "ok",
     "timestamp": 1625531290204,
     "user_tz": 300,
     "elapsed": 339,
     "user": {
      "displayName": "bernarda sandoval",
      "photoUrl": "",
      "userId": "13411305394088946203"
     }
    },
    "outputId": "5f88d2b6-369a-4187-aaa5-f68f68aca7cd",
    "pycharm": {
     "name": "#%%\n"
    }
   },
   "source": [
    "import graphviz\n",
    "dot_data = tree.export_graphviz(clf, out_file = None,\n",
    "                                feature_names = list(t_data.columns.values),\n",
    "                                class_names = [\"No toma\",\"Si toma\"],\n",
    "                                filled = True, rounded = True, special_characters = True)\n",
    "                              \n",
    "graph = graphviz.Source(dot_data)\n",
    "graph"
   ],
   "execution_count": 53,
   "outputs": [
    {
     "data": {
      "image/svg+xml": "<?xml version=\"1.0\" encoding=\"UTF-8\" standalone=\"no\"?>\n<!DOCTYPE svg PUBLIC \"-//W3C//DTD SVG 1.1//EN\"\n \"http://www.w3.org/Graphics/SVG/1.1/DTD/svg11.dtd\">\n<!-- Generated by graphviz version 4.0.0 (20220529.0937)\n -->\n<!-- Title: Tree Pages: 1 -->\n<svg width=\"529pt\" height=\"552pt\"\n viewBox=\"0.00 0.00 529.00 552.00\" xmlns=\"http://www.w3.org/2000/svg\" xmlns:xlink=\"http://www.w3.org/1999/xlink\">\n<g id=\"graph0\" class=\"graph\" transform=\"scale(1 1) rotate(0) translate(4 548)\">\n<title>Tree</title>\n<polygon fill=\"white\" stroke=\"transparent\" points=\"-4,4 -4,-548 525,-548 525,4 -4,4\"/>\n<!-- 0 -->\n<g id=\"node1\" class=\"node\">\n<title>0</title>\n<path fill=\"#a7d3f3\" stroke=\"black\" d=\"M374,-544C374,-544 285,-544 285,-544 279,-544 273,-538 273,-532 273,-532 273,-473 273,-473 273,-467 279,-461 285,-461 285,-461 374,-461 374,-461 380,-461 386,-467 386,-473 386,-473 386,-532 386,-532 386,-538 380,-544 374,-544\"/>\n<text text-anchor=\"start\" x=\"287\" y=\"-528.8\" font-family=\"Helvetica,sans-Serif\" font-size=\"14.00\">Presion ≤ 1.5</text>\n<text text-anchor=\"start\" x=\"283.5\" y=\"-513.8\" font-family=\"Helvetica,sans-Serif\" font-size=\"14.00\">entropy = 0.94</text>\n<text text-anchor=\"start\" x=\"286\" y=\"-498.8\" font-family=\"Helvetica,sans-Serif\" font-size=\"14.00\">samples = 14</text>\n<text text-anchor=\"start\" x=\"289\" y=\"-483.8\" font-family=\"Helvetica,sans-Serif\" font-size=\"14.00\">value = [5, 9]</text>\n<text text-anchor=\"start\" x=\"281\" y=\"-468.8\" font-family=\"Helvetica,sans-Serif\" font-size=\"14.00\">class = Si toma</text>\n</g>\n<!-- 1 -->\n<g id=\"node2\" class=\"node\">\n<title>1</title>\n<path fill=\"#deeffb\" stroke=\"black\" d=\"M309.5,-425C309.5,-425 217.5,-425 217.5,-425 211.5,-425 205.5,-419 205.5,-413 205.5,-413 205.5,-354 205.5,-354 205.5,-348 211.5,-342 217.5,-342 217.5,-342 309.5,-342 309.5,-342 315.5,-342 321.5,-348 321.5,-354 321.5,-354 321.5,-413 321.5,-413 321.5,-419 315.5,-425 309.5,-425\"/>\n<text text-anchor=\"start\" x=\"224\" y=\"-409.8\" font-family=\"Helvetica,sans-Serif\" font-size=\"14.00\">Azucar ≤ 0.5</text>\n<text text-anchor=\"start\" x=\"213.5\" y=\"-394.8\" font-family=\"Helvetica,sans-Serif\" font-size=\"14.00\">entropy = 0.994</text>\n<text text-anchor=\"start\" x=\"220\" y=\"-379.8\" font-family=\"Helvetica,sans-Serif\" font-size=\"14.00\">samples = 11</text>\n<text text-anchor=\"start\" x=\"223\" y=\"-364.8\" font-family=\"Helvetica,sans-Serif\" font-size=\"14.00\">value = [5, 6]</text>\n<text text-anchor=\"start\" x=\"215\" y=\"-349.8\" font-family=\"Helvetica,sans-Serif\" font-size=\"14.00\">class = Si toma</text>\n</g>\n<!-- 0&#45;&gt;1 -->\n<g id=\"edge1\" class=\"edge\">\n<title>0&#45;&gt;1</title>\n<path fill=\"none\" stroke=\"black\" d=\"M306.6,-460.91C301.69,-452.2 296.44,-442.9 291.36,-433.89\"/>\n<polygon fill=\"black\" stroke=\"black\" points=\"294.32,-432.01 286.36,-425.02 288.22,-435.45 294.32,-432.01\"/>\n<text text-anchor=\"middle\" x=\"279.65\" y=\"-445.4\" font-family=\"Helvetica,sans-Serif\" font-size=\"14.00\">True</text>\n</g>\n<!-- 12 -->\n<g id=\"node13\" class=\"node\">\n<title>12</title>\n<path fill=\"#399de5\" stroke=\"black\" d=\"M441,-417.5C441,-417.5 352,-417.5 352,-417.5 346,-417.5 340,-411.5 340,-405.5 340,-405.5 340,-361.5 340,-361.5 340,-355.5 346,-349.5 352,-349.5 352,-349.5 441,-349.5 441,-349.5 447,-349.5 453,-355.5 453,-361.5 453,-361.5 453,-405.5 453,-405.5 453,-411.5 447,-417.5 441,-417.5\"/>\n<text text-anchor=\"start\" x=\"354.5\" y=\"-402.3\" font-family=\"Helvetica,sans-Serif\" font-size=\"14.00\">entropy = 0.0</text>\n<text text-anchor=\"start\" x=\"357\" y=\"-387.3\" font-family=\"Helvetica,sans-Serif\" font-size=\"14.00\">samples = 3</text>\n<text text-anchor=\"start\" x=\"356\" y=\"-372.3\" font-family=\"Helvetica,sans-Serif\" font-size=\"14.00\">value = [0, 3]</text>\n<text text-anchor=\"start\" x=\"348\" y=\"-357.3\" font-family=\"Helvetica,sans-Serif\" font-size=\"14.00\">class = Si toma</text>\n</g>\n<!-- 0&#45;&gt;12 -->\n<g id=\"edge12\" class=\"edge\">\n<title>0&#45;&gt;12</title>\n<path fill=\"none\" stroke=\"black\" d=\"M352.75,-460.91C359.13,-449.76 366.06,-437.66 372.48,-426.44\"/>\n<polygon fill=\"black\" stroke=\"black\" points=\"375.57,-428.08 377.51,-417.67 369.5,-424.61 375.57,-428.08\"/>\n<text text-anchor=\"middle\" x=\"384.06\" y=\"-438.09\" font-family=\"Helvetica,sans-Serif\" font-size=\"14.00\">False</text>\n</g>\n<!-- 2 -->\n<g id=\"node3\" class=\"node\">\n<title>2</title>\n<path fill=\"#f2c09c\" stroke=\"black\" d=\"M243,-306C243,-306 148,-306 148,-306 142,-306 136,-300 136,-294 136,-294 136,-235 136,-235 136,-229 142,-223 148,-223 148,-223 243,-223 243,-223 249,-223 255,-229 255,-235 255,-235 255,-294 255,-294 255,-300 249,-306 243,-306\"/>\n<text text-anchor=\"start\" x=\"155.5\" y=\"-290.8\" font-family=\"Helvetica,sans-Serif\" font-size=\"14.00\">Alergia ≤ 0.5</text>\n<text text-anchor=\"start\" x=\"145.5\" y=\"-275.8\" font-family=\"Helvetica,sans-Serif\" font-size=\"14.00\">entropy = 0.918</text>\n<text text-anchor=\"start\" x=\"156\" y=\"-260.8\" font-family=\"Helvetica,sans-Serif\" font-size=\"14.00\">samples = 6</text>\n<text text-anchor=\"start\" x=\"155\" y=\"-245.8\" font-family=\"Helvetica,sans-Serif\" font-size=\"14.00\">value = [4, 2]</text>\n<text text-anchor=\"start\" x=\"144\" y=\"-230.8\" font-family=\"Helvetica,sans-Serif\" font-size=\"14.00\">class = No toma</text>\n</g>\n<!-- 1&#45;&gt;2 -->\n<g id=\"edge2\" class=\"edge\">\n<title>1&#45;&gt;2</title>\n<path fill=\"none\" stroke=\"black\" d=\"M239.91,-341.91C234.84,-333.2 229.44,-323.9 224.21,-314.89\"/>\n<polygon fill=\"black\" stroke=\"black\" points=\"227.1,-312.91 219.05,-306.02 221.05,-316.43 227.1,-312.91\"/>\n</g>\n<!-- 7 -->\n<g id=\"node8\" class=\"node\">\n<title>7</title>\n<path fill=\"#6ab6ec\" stroke=\"black\" d=\"M377.5,-306C377.5,-306 285.5,-306 285.5,-306 279.5,-306 273.5,-300 273.5,-294 273.5,-294 273.5,-235 273.5,-235 273.5,-229 279.5,-223 285.5,-223 285.5,-223 377.5,-223 377.5,-223 383.5,-223 389.5,-229 389.5,-235 389.5,-235 389.5,-294 389.5,-294 389.5,-300 383.5,-306 377.5,-306\"/>\n<text text-anchor=\"start\" x=\"289\" y=\"-290.8\" font-family=\"Helvetica,sans-Serif\" font-size=\"14.00\">Presion ≤ 0.5</text>\n<text text-anchor=\"start\" x=\"281.5\" y=\"-275.8\" font-family=\"Helvetica,sans-Serif\" font-size=\"14.00\">entropy = 0.722</text>\n<text text-anchor=\"start\" x=\"292\" y=\"-260.8\" font-family=\"Helvetica,sans-Serif\" font-size=\"14.00\">samples = 5</text>\n<text text-anchor=\"start\" x=\"291\" y=\"-245.8\" font-family=\"Helvetica,sans-Serif\" font-size=\"14.00\">value = [1, 4]</text>\n<text text-anchor=\"start\" x=\"283\" y=\"-230.8\" font-family=\"Helvetica,sans-Serif\" font-size=\"14.00\">class = Si toma</text>\n</g>\n<!-- 1&#45;&gt;7 -->\n<g id=\"edge7\" class=\"edge\">\n<title>1&#45;&gt;7</title>\n<path fill=\"none\" stroke=\"black\" d=\"M287.09,-341.91C292.16,-333.2 297.56,-323.9 302.79,-314.89\"/>\n<polygon fill=\"black\" stroke=\"black\" points=\"305.95,-316.43 307.95,-306.02 299.9,-312.91 305.95,-316.43\"/>\n</g>\n<!-- 3 -->\n<g id=\"node4\" class=\"node\">\n<title>3</title>\n<path fill=\"#e58139\" stroke=\"black\" d=\"M107,-179.5C107,-179.5 12,-179.5 12,-179.5 6,-179.5 0,-173.5 0,-167.5 0,-167.5 0,-123.5 0,-123.5 0,-117.5 6,-111.5 12,-111.5 12,-111.5 107,-111.5 107,-111.5 113,-111.5 119,-117.5 119,-123.5 119,-123.5 119,-167.5 119,-167.5 119,-173.5 113,-179.5 107,-179.5\"/>\n<text text-anchor=\"start\" x=\"17.5\" y=\"-164.3\" font-family=\"Helvetica,sans-Serif\" font-size=\"14.00\">entropy = 0.0</text>\n<text text-anchor=\"start\" x=\"20\" y=\"-149.3\" font-family=\"Helvetica,sans-Serif\" font-size=\"14.00\">samples = 3</text>\n<text text-anchor=\"start\" x=\"19\" y=\"-134.3\" font-family=\"Helvetica,sans-Serif\" font-size=\"14.00\">value = [3, 0]</text>\n<text text-anchor=\"start\" x=\"8\" y=\"-119.3\" font-family=\"Helvetica,sans-Serif\" font-size=\"14.00\">class = No toma</text>\n</g>\n<!-- 2&#45;&gt;3 -->\n<g id=\"edge3\" class=\"edge\">\n<title>2&#45;&gt;3</title>\n<path fill=\"none\" stroke=\"black\" d=\"M148.32,-222.91C134.59,-211.1 119.61,-198.22 105.94,-186.45\"/>\n<polygon fill=\"black\" stroke=\"black\" points=\"107.92,-183.54 98.05,-179.67 103.35,-188.84 107.92,-183.54\"/>\n</g>\n<!-- 4 -->\n<g id=\"node5\" class=\"node\">\n<title>4</title>\n<path fill=\"#9ccef2\" stroke=\"black\" d=\"M241.5,-187C241.5,-187 149.5,-187 149.5,-187 143.5,-187 137.5,-181 137.5,-175 137.5,-175 137.5,-116 137.5,-116 137.5,-110 143.5,-104 149.5,-104 149.5,-104 241.5,-104 241.5,-104 247.5,-104 253.5,-110 253.5,-116 253.5,-116 253.5,-175 253.5,-175 253.5,-181 247.5,-187 241.5,-187\"/>\n<text text-anchor=\"start\" x=\"153\" y=\"-171.8\" font-family=\"Helvetica,sans-Serif\" font-size=\"14.00\">Presion ≤ 0.5</text>\n<text text-anchor=\"start\" x=\"145.5\" y=\"-156.8\" font-family=\"Helvetica,sans-Serif\" font-size=\"14.00\">entropy = 0.918</text>\n<text text-anchor=\"start\" x=\"156\" y=\"-141.8\" font-family=\"Helvetica,sans-Serif\" font-size=\"14.00\">samples = 3</text>\n<text text-anchor=\"start\" x=\"155\" y=\"-126.8\" font-family=\"Helvetica,sans-Serif\" font-size=\"14.00\">value = [1, 2]</text>\n<text text-anchor=\"start\" x=\"147\" y=\"-111.8\" font-family=\"Helvetica,sans-Serif\" font-size=\"14.00\">class = Si toma</text>\n</g>\n<!-- 2&#45;&gt;4 -->\n<g id=\"edge4\" class=\"edge\">\n<title>2&#45;&gt;4</title>\n<path fill=\"none\" stroke=\"black\" d=\"M195.5,-222.91C195.5,-214.65 195.5,-205.86 195.5,-197.3\"/>\n<polygon fill=\"black\" stroke=\"black\" points=\"199,-197.02 195.5,-187.02 192,-197.02 199,-197.02\"/>\n</g>\n<!-- 5 -->\n<g id=\"node6\" class=\"node\">\n<title>5</title>\n<path fill=\"#ffffff\" stroke=\"black\" d=\"M109,-68C109,-68 14,-68 14,-68 8,-68 2,-62 2,-56 2,-56 2,-12 2,-12 2,-6 8,0 14,0 14,0 109,0 109,0 115,0 121,-6 121,-12 121,-12 121,-56 121,-56 121,-62 115,-68 109,-68\"/>\n<text text-anchor=\"start\" x=\"19.5\" y=\"-52.8\" font-family=\"Helvetica,sans-Serif\" font-size=\"14.00\">entropy = 1.0</text>\n<text text-anchor=\"start\" x=\"22\" y=\"-37.8\" font-family=\"Helvetica,sans-Serif\" font-size=\"14.00\">samples = 2</text>\n<text text-anchor=\"start\" x=\"21\" y=\"-22.8\" font-family=\"Helvetica,sans-Serif\" font-size=\"14.00\">value = [1, 1]</text>\n<text text-anchor=\"start\" x=\"10\" y=\"-7.8\" font-family=\"Helvetica,sans-Serif\" font-size=\"14.00\">class = No toma</text>\n</g>\n<!-- 4&#45;&gt;5 -->\n<g id=\"edge5\" class=\"edge\">\n<title>4&#45;&gt;5</title>\n<path fill=\"none\" stroke=\"black\" d=\"M145.6,-103.73C134,-94.24 121.65,-84.16 110.1,-74.72\"/>\n<polygon fill=\"black\" stroke=\"black\" points=\"112.21,-71.92 102.25,-68.3 107.78,-77.34 112.21,-71.92\"/>\n</g>\n<!-- 6 -->\n<g id=\"node7\" class=\"node\">\n<title>6</title>\n<path fill=\"#399de5\" stroke=\"black\" d=\"M240,-68C240,-68 151,-68 151,-68 145,-68 139,-62 139,-56 139,-56 139,-12 139,-12 139,-6 145,0 151,0 151,0 240,0 240,0 246,0 252,-6 252,-12 252,-12 252,-56 252,-56 252,-62 246,-68 240,-68\"/>\n<text text-anchor=\"start\" x=\"153.5\" y=\"-52.8\" font-family=\"Helvetica,sans-Serif\" font-size=\"14.00\">entropy = 0.0</text>\n<text text-anchor=\"start\" x=\"156\" y=\"-37.8\" font-family=\"Helvetica,sans-Serif\" font-size=\"14.00\">samples = 1</text>\n<text text-anchor=\"start\" x=\"155\" y=\"-22.8\" font-family=\"Helvetica,sans-Serif\" font-size=\"14.00\">value = [0, 1]</text>\n<text text-anchor=\"start\" x=\"147\" y=\"-7.8\" font-family=\"Helvetica,sans-Serif\" font-size=\"14.00\">class = Si toma</text>\n</g>\n<!-- 4&#45;&gt;6 -->\n<g id=\"edge6\" class=\"edge\">\n<title>4&#45;&gt;6</title>\n<path fill=\"none\" stroke=\"black\" d=\"M195.5,-103.73C195.5,-95.52 195.5,-86.86 195.5,-78.56\"/>\n<polygon fill=\"black\" stroke=\"black\" points=\"199,-78.3 195.5,-68.3 192,-78.3 199,-78.3\"/>\n</g>\n<!-- 8 -->\n<g id=\"node9\" class=\"node\">\n<title>8</title>\n<path fill=\"#9ccef2\" stroke=\"black\" d=\"M377.5,-187C377.5,-187 285.5,-187 285.5,-187 279.5,-187 273.5,-181 273.5,-175 273.5,-175 273.5,-116 273.5,-116 273.5,-110 279.5,-104 285.5,-104 285.5,-104 377.5,-104 377.5,-104 383.5,-104 389.5,-110 389.5,-116 389.5,-116 389.5,-175 389.5,-175 389.5,-181 383.5,-187 377.5,-187\"/>\n<text text-anchor=\"start\" x=\"294\" y=\"-171.8\" font-family=\"Helvetica,sans-Serif\" font-size=\"14.00\">Indice ≤ 0.5</text>\n<text text-anchor=\"start\" x=\"281.5\" y=\"-156.8\" font-family=\"Helvetica,sans-Serif\" font-size=\"14.00\">entropy = 0.918</text>\n<text text-anchor=\"start\" x=\"292\" y=\"-141.8\" font-family=\"Helvetica,sans-Serif\" font-size=\"14.00\">samples = 3</text>\n<text text-anchor=\"start\" x=\"291\" y=\"-126.8\" font-family=\"Helvetica,sans-Serif\" font-size=\"14.00\">value = [1, 2]</text>\n<text text-anchor=\"start\" x=\"283\" y=\"-111.8\" font-family=\"Helvetica,sans-Serif\" font-size=\"14.00\">class = Si toma</text>\n</g>\n<!-- 7&#45;&gt;8 -->\n<g id=\"edge8\" class=\"edge\">\n<title>7&#45;&gt;8</title>\n<path fill=\"none\" stroke=\"black\" d=\"M331.5,-222.91C331.5,-214.65 331.5,-205.86 331.5,-197.3\"/>\n<polygon fill=\"black\" stroke=\"black\" points=\"335,-197.02 331.5,-187.02 328,-197.02 335,-197.02\"/>\n</g>\n<!-- 11 -->\n<g id=\"node12\" class=\"node\">\n<title>11</title>\n<path fill=\"#399de5\" stroke=\"black\" d=\"M509,-179.5C509,-179.5 420,-179.5 420,-179.5 414,-179.5 408,-173.5 408,-167.5 408,-167.5 408,-123.5 408,-123.5 408,-117.5 414,-111.5 420,-111.5 420,-111.5 509,-111.5 509,-111.5 515,-111.5 521,-117.5 521,-123.5 521,-123.5 521,-167.5 521,-167.5 521,-173.5 515,-179.5 509,-179.5\"/>\n<text text-anchor=\"start\" x=\"422.5\" y=\"-164.3\" font-family=\"Helvetica,sans-Serif\" font-size=\"14.00\">entropy = 0.0</text>\n<text text-anchor=\"start\" x=\"425\" y=\"-149.3\" font-family=\"Helvetica,sans-Serif\" font-size=\"14.00\">samples = 2</text>\n<text text-anchor=\"start\" x=\"424\" y=\"-134.3\" font-family=\"Helvetica,sans-Serif\" font-size=\"14.00\">value = [0, 2]</text>\n<text text-anchor=\"start\" x=\"416\" y=\"-119.3\" font-family=\"Helvetica,sans-Serif\" font-size=\"14.00\">class = Si toma</text>\n</g>\n<!-- 7&#45;&gt;11 -->\n<g id=\"edge11\" class=\"edge\">\n<title>7&#45;&gt;11</title>\n<path fill=\"none\" stroke=\"black\" d=\"M377.64,-222.91C391.07,-211.1 405.71,-198.22 419.09,-186.45\"/>\n<polygon fill=\"black\" stroke=\"black\" points=\"421.6,-188.9 426.8,-179.67 416.98,-183.64 421.6,-188.9\"/>\n</g>\n<!-- 9 -->\n<g id=\"node10\" class=\"node\">\n<title>9</title>\n<path fill=\"#ffffff\" stroke=\"black\" d=\"M378,-68C378,-68 283,-68 283,-68 277,-68 271,-62 271,-56 271,-56 271,-12 271,-12 271,-6 277,0 283,0 283,0 378,0 378,0 384,0 390,-6 390,-12 390,-12 390,-56 390,-56 390,-62 384,-68 378,-68\"/>\n<text text-anchor=\"start\" x=\"288.5\" y=\"-52.8\" font-family=\"Helvetica,sans-Serif\" font-size=\"14.00\">entropy = 1.0</text>\n<text text-anchor=\"start\" x=\"291\" y=\"-37.8\" font-family=\"Helvetica,sans-Serif\" font-size=\"14.00\">samples = 2</text>\n<text text-anchor=\"start\" x=\"290\" y=\"-22.8\" font-family=\"Helvetica,sans-Serif\" font-size=\"14.00\">value = [1, 1]</text>\n<text text-anchor=\"start\" x=\"279\" y=\"-7.8\" font-family=\"Helvetica,sans-Serif\" font-size=\"14.00\">class = No toma</text>\n</g>\n<!-- 8&#45;&gt;9 -->\n<g id=\"edge9\" class=\"edge\">\n<title>8&#45;&gt;9</title>\n<path fill=\"none\" stroke=\"black\" d=\"M331.13,-103.73C331.05,-95.52 330.97,-86.86 330.9,-78.56\"/>\n<polygon fill=\"black\" stroke=\"black\" points=\"334.4,-78.27 330.8,-68.3 327.4,-78.33 334.4,-78.27\"/>\n</g>\n<!-- 10 -->\n<g id=\"node11\" class=\"node\">\n<title>10</title>\n<path fill=\"#399de5\" stroke=\"black\" d=\"M509,-68C509,-68 420,-68 420,-68 414,-68 408,-62 408,-56 408,-56 408,-12 408,-12 408,-6 414,0 420,0 420,0 509,0 509,0 515,0 521,-6 521,-12 521,-12 521,-56 521,-56 521,-62 515,-68 509,-68\"/>\n<text text-anchor=\"start\" x=\"422.5\" y=\"-52.8\" font-family=\"Helvetica,sans-Serif\" font-size=\"14.00\">entropy = 0.0</text>\n<text text-anchor=\"start\" x=\"425\" y=\"-37.8\" font-family=\"Helvetica,sans-Serif\" font-size=\"14.00\">samples = 1</text>\n<text text-anchor=\"start\" x=\"424\" y=\"-22.8\" font-family=\"Helvetica,sans-Serif\" font-size=\"14.00\">value = [0, 1]</text>\n<text text-anchor=\"start\" x=\"416\" y=\"-7.8\" font-family=\"Helvetica,sans-Serif\" font-size=\"14.00\">class = Si toma</text>\n</g>\n<!-- 8&#45;&gt;10 -->\n<g id=\"edge10\" class=\"edge\">\n<title>8&#45;&gt;10</title>\n<path fill=\"none\" stroke=\"black\" d=\"M381.02,-103.73C392.55,-94.24 404.8,-84.16 416.26,-74.72\"/>\n<polygon fill=\"black\" stroke=\"black\" points=\"418.56,-77.36 424.05,-68.3 414.11,-71.95 418.56,-77.36\"/>\n</g>\n</g>\n</svg>\n",
      "text/plain": "<graphviz.sources.Source at 0x19dcb1bd780>"
     },
     "execution_count": 53,
     "metadata": {},
     "output_type": "execute_result"
    }
   ]
  },
  {
   "cell_type": "code",
   "metadata": {
    "colab": {
     "base_uri": "https://localhost:8080/",
     "height": 598
    },
    "id": "vpEIiTQ1PG1g",
    "executionInfo": {
     "status": "ok",
     "timestamp": 1625532096196,
     "user_tz": 300,
     "elapsed": 172,
     "user": {
      "displayName": "bernarda sandoval",
      "photoUrl": "",
      "userId": "13411305394088946203"
     }
    },
    "outputId": "6bbd2e93-e54f-4070-9074-4463d43012bc",
    "pycharm": {
     "name": "#%%\n"
    }
   },
   "source": [
    "import pandas as pd\n",
    "import numpy as np\n",
    "from sklearn import tree\n",
    "#from sklearn import preprocessing\n",
    "\n",
    "data = farmacos_data.copy()\n",
    "\n",
    "data[\"Presion\"] = np.where(data[\"Presion\"] == \"Alta\",2,\n",
    "                        np.where(data[\"Presion\"] == \"Media\",1,0))\n",
    "\n",
    "data[\"Azucar\"] = np.where(data[\"Azucar\"] == \"Alto\",1,0)\n",
    "\n",
    "data[\"Indice\"] = np.where(data[\"Indice\"] == \"Alto\",1,0)\n",
    "data[\"Alergia\"] = np.where(data[\"Alergia\"] == \"Si\",1,0)\n",
    "data[\"Otras\"] = np.where(data[\"Otras\"] == \"Si\",1,0)\n",
    "#data[\"Administrar\"] = np.where(data[\"Administrar\"] == \"Si\",1,0)\n",
    "\n",
    "#construir el arbol\n",
    "clf = tree.DecisionTreeClassifier(criterion = 'entropy',max_depth=4)\n",
    "\n",
    "t_data = data[data.columns[0:4]]\n",
    "t_respuesta = data[data.columns[4]]\n",
    "\n",
    "#crear el modelo\n",
    "clf = clf.fit(t_data, t_respuesta)\n",
    "\n",
    "import graphviz\n",
    "dot_data = tree.export_graphviz(clf, out_file = None,\n",
    "                                feature_names = list(t_data.columns.values),\n",
    "                                class_names = [\"Administra\",\"No administra\"],\n",
    "                                filled = True, rounded = True, special_characters = True)\n",
    "                              \n",
    "graph = graphviz.Source(dot_data)\n",
    "graph"
   ],
   "execution_count": 54,
   "outputs": [
    {
     "data": {
      "image/svg+xml": "<?xml version=\"1.0\" encoding=\"UTF-8\" standalone=\"no\"?>\n<!DOCTYPE svg PUBLIC \"-//W3C//DTD SVG 1.1//EN\"\n \"http://www.w3.org/Graphics/SVG/1.1/DTD/svg11.dtd\">\n<!-- Generated by graphviz version 4.0.0 (20220529.0937)\n -->\n<!-- Title: Tree Pages: 1 -->\n<svg width=\"1060pt\" height=\"552pt\"\n viewBox=\"0.00 0.00 1060.00 552.00\" xmlns=\"http://www.w3.org/2000/svg\" xmlns:xlink=\"http://www.w3.org/1999/xlink\">\n<g id=\"graph0\" class=\"graph\" transform=\"scale(1 1) rotate(0) translate(4 548)\">\n<title>Tree</title>\n<polygon fill=\"white\" stroke=\"transparent\" points=\"-4,4 -4,-548 1056,-548 1056,4 -4,4\"/>\n<!-- 0 -->\n<g id=\"node1\" class=\"node\">\n<title>0</title>\n<path fill=\"#a7d3f3\" stroke=\"black\" d=\"M390,-544C390,-544 262,-544 262,-544 256,-544 250,-538 250,-532 250,-532 250,-473 250,-473 250,-467 256,-461 262,-461 262,-461 390,-461 390,-461 396,-461 402,-467 402,-473 402,-473 402,-532 402,-532 402,-538 396,-544 390,-544\"/>\n<text text-anchor=\"start\" x=\"286.5\" y=\"-528.8\" font-family=\"Helvetica,sans-Serif\" font-size=\"14.00\">Azucar ≤ 0.5</text>\n<text text-anchor=\"start\" x=\"280\" y=\"-513.8\" font-family=\"Helvetica,sans-Serif\" font-size=\"14.00\">entropy = 0.94</text>\n<text text-anchor=\"start\" x=\"282.5\" y=\"-498.8\" font-family=\"Helvetica,sans-Serif\" font-size=\"14.00\">samples = 14</text>\n<text text-anchor=\"start\" x=\"285.5\" y=\"-483.8\" font-family=\"Helvetica,sans-Serif\" font-size=\"14.00\">value = [5, 9]</text>\n<text text-anchor=\"start\" x=\"258\" y=\"-468.8\" font-family=\"Helvetica,sans-Serif\" font-size=\"14.00\">class = No administra</text>\n</g>\n<!-- 1 -->\n<g id=\"node2\" class=\"node\">\n<title>1</title>\n<path fill=\"#5aade9\" stroke=\"black\" d=\"M310,-425C310,-425 182,-425 182,-425 176,-425 170,-419 170,-413 170,-413 170,-354 170,-354 170,-348 176,-342 182,-342 182,-342 310,-342 310,-342 316,-342 322,-348 322,-354 322,-354 322,-413 322,-413 322,-419 316,-425 310,-425\"/>\n<text text-anchor=\"start\" x=\"203.5\" y=\"-409.8\" font-family=\"Helvetica,sans-Serif\" font-size=\"14.00\">Presion ≤ 1.5</text>\n<text text-anchor=\"start\" x=\"196\" y=\"-394.8\" font-family=\"Helvetica,sans-Serif\" font-size=\"14.00\">entropy = 0.592</text>\n<text text-anchor=\"start\" x=\"206.5\" y=\"-379.8\" font-family=\"Helvetica,sans-Serif\" font-size=\"14.00\">samples = 7</text>\n<text text-anchor=\"start\" x=\"205.5\" y=\"-364.8\" font-family=\"Helvetica,sans-Serif\" font-size=\"14.00\">value = [1, 6]</text>\n<text text-anchor=\"start\" x=\"178\" y=\"-349.8\" font-family=\"Helvetica,sans-Serif\" font-size=\"14.00\">class = No administra</text>\n</g>\n<!-- 0&#45;&gt;1 -->\n<g id=\"edge1\" class=\"edge\">\n<title>0&#45;&gt;1</title>\n<path fill=\"none\" stroke=\"black\" d=\"M298.24,-460.91C292.16,-452.01 285.66,-442.51 279.39,-433.33\"/>\n<polygon fill=\"black\" stroke=\"black\" points=\"282.24,-431.3 273.71,-425.02 276.46,-435.25 282.24,-431.3\"/>\n<text text-anchor=\"middle\" x=\"269.09\" y=\"-445.89\" font-family=\"Helvetica,sans-Serif\" font-size=\"14.00\">True</text>\n</g>\n<!-- 6 -->\n<g id=\"node7\" class=\"node\">\n<title>6</title>\n<path fill=\"#f8e0ce\" stroke=\"black\" d=\"M530,-425C530,-425 422,-425 422,-425 416,-425 410,-419 410,-413 410,-413 410,-354 410,-354 410,-348 416,-342 422,-342 422,-342 530,-342 530,-342 536,-342 542,-348 542,-354 542,-354 542,-413 542,-413 542,-419 536,-425 530,-425\"/>\n<text text-anchor=\"start\" x=\"436\" y=\"-409.8\" font-family=\"Helvetica,sans-Serif\" font-size=\"14.00\">Alergia ≤ 0.5</text>\n<text text-anchor=\"start\" x=\"426\" y=\"-394.8\" font-family=\"Helvetica,sans-Serif\" font-size=\"14.00\">entropy = 0.985</text>\n<text text-anchor=\"start\" x=\"436.5\" y=\"-379.8\" font-family=\"Helvetica,sans-Serif\" font-size=\"14.00\">samples = 7</text>\n<text text-anchor=\"start\" x=\"435.5\" y=\"-364.8\" font-family=\"Helvetica,sans-Serif\" font-size=\"14.00\">value = [4, 3]</text>\n<text text-anchor=\"start\" x=\"418\" y=\"-349.8\" font-family=\"Helvetica,sans-Serif\" font-size=\"14.00\">class = Administra</text>\n</g>\n<!-- 0&#45;&gt;6 -->\n<g id=\"edge6\" class=\"edge\">\n<title>0&#45;&gt;6</title>\n<path fill=\"none\" stroke=\"black\" d=\"M378.04,-460.91C390.26,-451.38 403.37,-441.15 415.91,-431.37\"/>\n<polygon fill=\"black\" stroke=\"black\" points=\"418.32,-433.93 424.05,-425.02 414.01,-428.41 418.32,-433.93\"/>\n<text text-anchor=\"middle\" x=\"420.98\" y=\"-446.13\" font-family=\"Helvetica,sans-Serif\" font-size=\"14.00\">False</text>\n</g>\n<!-- 2 -->\n<g id=\"node3\" class=\"node\">\n<title>2</title>\n<path fill=\"#399de5\" stroke=\"black\" d=\"M140,-298.5C140,-298.5 12,-298.5 12,-298.5 6,-298.5 0,-292.5 0,-286.5 0,-286.5 0,-242.5 0,-242.5 0,-236.5 6,-230.5 12,-230.5 12,-230.5 140,-230.5 140,-230.5 146,-230.5 152,-236.5 152,-242.5 152,-242.5 152,-286.5 152,-286.5 152,-292.5 146,-298.5 140,-298.5\"/>\n<text text-anchor=\"start\" x=\"34\" y=\"-283.3\" font-family=\"Helvetica,sans-Serif\" font-size=\"14.00\">entropy = 0.0</text>\n<text text-anchor=\"start\" x=\"36.5\" y=\"-268.3\" font-family=\"Helvetica,sans-Serif\" font-size=\"14.00\">samples = 4</text>\n<text text-anchor=\"start\" x=\"35.5\" y=\"-253.3\" font-family=\"Helvetica,sans-Serif\" font-size=\"14.00\">value = [0, 4]</text>\n<text text-anchor=\"start\" x=\"8\" y=\"-238.3\" font-family=\"Helvetica,sans-Serif\" font-size=\"14.00\">class = No administra</text>\n</g>\n<!-- 1&#45;&gt;2 -->\n<g id=\"edge2\" class=\"edge\">\n<title>1&#45;&gt;2</title>\n<path fill=\"none\" stroke=\"black\" d=\"M187.02,-341.91C169.38,-329.77 150.09,-316.49 132.61,-304.46\"/>\n<polygon fill=\"black\" stroke=\"black\" points=\"134.41,-301.45 124.19,-298.67 130.44,-307.22 134.41,-301.45\"/>\n</g>\n<!-- 3 -->\n<g id=\"node4\" class=\"node\">\n<title>3</title>\n<path fill=\"#9ccef2\" stroke=\"black\" d=\"M310,-306C310,-306 182,-306 182,-306 176,-306 170,-300 170,-294 170,-294 170,-235 170,-235 170,-229 176,-223 182,-223 182,-223 310,-223 310,-223 316,-223 322,-229 322,-235 322,-235 322,-294 322,-294 322,-300 316,-306 310,-306\"/>\n<text text-anchor=\"start\" x=\"206\" y=\"-290.8\" font-family=\"Helvetica,sans-Serif\" font-size=\"14.00\">Alergia ≤ 0.5</text>\n<text text-anchor=\"start\" x=\"196\" y=\"-275.8\" font-family=\"Helvetica,sans-Serif\" font-size=\"14.00\">entropy = 0.918</text>\n<text text-anchor=\"start\" x=\"206.5\" y=\"-260.8\" font-family=\"Helvetica,sans-Serif\" font-size=\"14.00\">samples = 3</text>\n<text text-anchor=\"start\" x=\"205.5\" y=\"-245.8\" font-family=\"Helvetica,sans-Serif\" font-size=\"14.00\">value = [1, 2]</text>\n<text text-anchor=\"start\" x=\"178\" y=\"-230.8\" font-family=\"Helvetica,sans-Serif\" font-size=\"14.00\">class = No administra</text>\n</g>\n<!-- 1&#45;&gt;3 -->\n<g id=\"edge3\" class=\"edge\">\n<title>1&#45;&gt;3</title>\n<path fill=\"none\" stroke=\"black\" d=\"M246,-341.91C246,-333.65 246,-324.86 246,-316.3\"/>\n<polygon fill=\"black\" stroke=\"black\" points=\"249.5,-316.02 246,-306.02 242.5,-316.02 249.5,-316.02\"/>\n</g>\n<!-- 4 -->\n<g id=\"node5\" class=\"node\">\n<title>4</title>\n<path fill=\"#399de5\" stroke=\"black\" d=\"M150,-179.5C150,-179.5 22,-179.5 22,-179.5 16,-179.5 10,-173.5 10,-167.5 10,-167.5 10,-123.5 10,-123.5 10,-117.5 16,-111.5 22,-111.5 22,-111.5 150,-111.5 150,-111.5 156,-111.5 162,-117.5 162,-123.5 162,-123.5 162,-167.5 162,-167.5 162,-173.5 156,-179.5 150,-179.5\"/>\n<text text-anchor=\"start\" x=\"44\" y=\"-164.3\" font-family=\"Helvetica,sans-Serif\" font-size=\"14.00\">entropy = 0.0</text>\n<text text-anchor=\"start\" x=\"46.5\" y=\"-149.3\" font-family=\"Helvetica,sans-Serif\" font-size=\"14.00\">samples = 1</text>\n<text text-anchor=\"start\" x=\"45.5\" y=\"-134.3\" font-family=\"Helvetica,sans-Serif\" font-size=\"14.00\">value = [0, 1]</text>\n<text text-anchor=\"start\" x=\"18\" y=\"-119.3\" font-family=\"Helvetica,sans-Serif\" font-size=\"14.00\">class = No administra</text>\n</g>\n<!-- 3&#45;&gt;4 -->\n<g id=\"edge4\" class=\"edge\">\n<title>3&#45;&gt;4</title>\n<path fill=\"none\" stroke=\"black\" d=\"M190.49,-222.91C174.04,-210.88 156.06,-197.73 139.73,-185.79\"/>\n<polygon fill=\"black\" stroke=\"black\" points=\"141.49,-182.74 131.36,-179.67 137.36,-188.39 141.49,-182.74\"/>\n</g>\n<!-- 5 -->\n<g id=\"node6\" class=\"node\">\n<title>5</title>\n<path fill=\"#ffffff\" stroke=\"black\" d=\"M300,-179.5C300,-179.5 192,-179.5 192,-179.5 186,-179.5 180,-173.5 180,-167.5 180,-167.5 180,-123.5 180,-123.5 180,-117.5 186,-111.5 192,-111.5 192,-111.5 300,-111.5 300,-111.5 306,-111.5 312,-117.5 312,-123.5 312,-123.5 312,-167.5 312,-167.5 312,-173.5 306,-179.5 300,-179.5\"/>\n<text text-anchor=\"start\" x=\"204\" y=\"-164.3\" font-family=\"Helvetica,sans-Serif\" font-size=\"14.00\">entropy = 1.0</text>\n<text text-anchor=\"start\" x=\"206.5\" y=\"-149.3\" font-family=\"Helvetica,sans-Serif\" font-size=\"14.00\">samples = 2</text>\n<text text-anchor=\"start\" x=\"205.5\" y=\"-134.3\" font-family=\"Helvetica,sans-Serif\" font-size=\"14.00\">value = [1, 1]</text>\n<text text-anchor=\"start\" x=\"188\" y=\"-119.3\" font-family=\"Helvetica,sans-Serif\" font-size=\"14.00\">class = Administra</text>\n</g>\n<!-- 3&#45;&gt;5 -->\n<g id=\"edge5\" class=\"edge\">\n<title>3&#45;&gt;5</title>\n<path fill=\"none\" stroke=\"black\" d=\"M246,-222.91C246,-212.2 246,-200.62 246,-189.78\"/>\n<polygon fill=\"black\" stroke=\"black\" points=\"249.5,-189.67 246,-179.67 242.5,-189.67 249.5,-189.67\"/>\n</g>\n<!-- 7 -->\n<g id=\"node8\" class=\"node\">\n<title>7</title>\n<path fill=\"#eeab7b\" stroke=\"black\" d=\"M530,-306C530,-306 422,-306 422,-306 416,-306 410,-300 410,-294 410,-294 410,-235 410,-235 410,-229 416,-223 422,-223 422,-223 530,-223 530,-223 536,-223 542,-229 542,-235 542,-235 542,-294 542,-294 542,-300 536,-306 530,-306\"/>\n<text text-anchor=\"start\" x=\"433.5\" y=\"-290.8\" font-family=\"Helvetica,sans-Serif\" font-size=\"14.00\">Presion ≤ 0.5</text>\n<text text-anchor=\"start\" x=\"426\" y=\"-275.8\" font-family=\"Helvetica,sans-Serif\" font-size=\"14.00\">entropy = 0.811</text>\n<text text-anchor=\"start\" x=\"436.5\" y=\"-260.8\" font-family=\"Helvetica,sans-Serif\" font-size=\"14.00\">samples = 4</text>\n<text text-anchor=\"start\" x=\"435.5\" y=\"-245.8\" font-family=\"Helvetica,sans-Serif\" font-size=\"14.00\">value = [3, 1]</text>\n<text text-anchor=\"start\" x=\"418\" y=\"-230.8\" font-family=\"Helvetica,sans-Serif\" font-size=\"14.00\">class = Administra</text>\n</g>\n<!-- 6&#45;&gt;7 -->\n<g id=\"edge7\" class=\"edge\">\n<title>6&#45;&gt;7</title>\n<path fill=\"none\" stroke=\"black\" d=\"M476,-341.91C476,-333.65 476,-324.86 476,-316.3\"/>\n<polygon fill=\"black\" stroke=\"black\" points=\"479.5,-316.02 476,-306.02 472.5,-316.02 479.5,-316.02\"/>\n</g>\n<!-- 12 -->\n<g id=\"node13\" class=\"node\">\n<title>12</title>\n<path fill=\"#9ccef2\" stroke=\"black\" d=\"M770,-306C770,-306 642,-306 642,-306 636,-306 630,-300 630,-294 630,-294 630,-235 630,-235 630,-229 636,-223 642,-223 642,-223 770,-223 770,-223 776,-223 782,-229 782,-235 782,-235 782,-294 782,-294 782,-300 776,-306 770,-306\"/>\n<text text-anchor=\"start\" x=\"668.5\" y=\"-290.8\" font-family=\"Helvetica,sans-Serif\" font-size=\"14.00\">Indice ≤ 0.5</text>\n<text text-anchor=\"start\" x=\"656\" y=\"-275.8\" font-family=\"Helvetica,sans-Serif\" font-size=\"14.00\">entropy = 0.918</text>\n<text text-anchor=\"start\" x=\"666.5\" y=\"-260.8\" font-family=\"Helvetica,sans-Serif\" font-size=\"14.00\">samples = 3</text>\n<text text-anchor=\"start\" x=\"665.5\" y=\"-245.8\" font-family=\"Helvetica,sans-Serif\" font-size=\"14.00\">value = [1, 2]</text>\n<text text-anchor=\"start\" x=\"638\" y=\"-230.8\" font-family=\"Helvetica,sans-Serif\" font-size=\"14.00\">class = No administra</text>\n</g>\n<!-- 6&#45;&gt;12 -->\n<g id=\"edge12\" class=\"edge\">\n<title>6&#45;&gt;12</title>\n<path fill=\"none\" stroke=\"black\" d=\"M542.22,-348.82C566.67,-336.38 594.74,-322.1 620.65,-308.92\"/>\n<polygon fill=\"black\" stroke=\"black\" points=\"622.39,-311.96 629.72,-304.31 619.22,-305.72 622.39,-311.96\"/>\n</g>\n<!-- 8 -->\n<g id=\"node9\" class=\"node\">\n<title>8</title>\n<path fill=\"#e58139\" stroke=\"black\" d=\"M450,-179.5C450,-179.5 342,-179.5 342,-179.5 336,-179.5 330,-173.5 330,-167.5 330,-167.5 330,-123.5 330,-123.5 330,-117.5 336,-111.5 342,-111.5 342,-111.5 450,-111.5 450,-111.5 456,-111.5 462,-117.5 462,-123.5 462,-123.5 462,-167.5 462,-167.5 462,-173.5 456,-179.5 450,-179.5\"/>\n<text text-anchor=\"start\" x=\"354\" y=\"-164.3\" font-family=\"Helvetica,sans-Serif\" font-size=\"14.00\">entropy = 0.0</text>\n<text text-anchor=\"start\" x=\"356.5\" y=\"-149.3\" font-family=\"Helvetica,sans-Serif\" font-size=\"14.00\">samples = 2</text>\n<text text-anchor=\"start\" x=\"355.5\" y=\"-134.3\" font-family=\"Helvetica,sans-Serif\" font-size=\"14.00\">value = [2, 0]</text>\n<text text-anchor=\"start\" x=\"338\" y=\"-119.3\" font-family=\"Helvetica,sans-Serif\" font-size=\"14.00\">class = Administra</text>\n</g>\n<!-- 7&#45;&gt;8 -->\n<g id=\"edge8\" class=\"edge\">\n<title>7&#45;&gt;8</title>\n<path fill=\"none\" stroke=\"black\" d=\"M448.24,-222.91C440.55,-211.65 432.18,-199.42 424.45,-188.11\"/>\n<polygon fill=\"black\" stroke=\"black\" points=\"427.21,-185.95 418.68,-179.67 421.43,-189.9 427.21,-185.95\"/>\n</g>\n<!-- 9 -->\n<g id=\"node10\" class=\"node\">\n<title>9</title>\n<path fill=\"#ffffff\" stroke=\"black\" d=\"M600,-187C600,-187 492,-187 492,-187 486,-187 480,-181 480,-175 480,-175 480,-116 480,-116 480,-110 486,-104 492,-104 492,-104 600,-104 600,-104 606,-104 612,-110 612,-116 612,-116 612,-175 612,-175 612,-181 606,-187 600,-187\"/>\n<text text-anchor=\"start\" x=\"503.5\" y=\"-171.8\" font-family=\"Helvetica,sans-Serif\" font-size=\"14.00\">Presion ≤ 1.5</text>\n<text text-anchor=\"start\" x=\"504\" y=\"-156.8\" font-family=\"Helvetica,sans-Serif\" font-size=\"14.00\">entropy = 1.0</text>\n<text text-anchor=\"start\" x=\"506.5\" y=\"-141.8\" font-family=\"Helvetica,sans-Serif\" font-size=\"14.00\">samples = 2</text>\n<text text-anchor=\"start\" x=\"505.5\" y=\"-126.8\" font-family=\"Helvetica,sans-Serif\" font-size=\"14.00\">value = [1, 1]</text>\n<text text-anchor=\"start\" x=\"488\" y=\"-111.8\" font-family=\"Helvetica,sans-Serif\" font-size=\"14.00\">class = Administra</text>\n</g>\n<!-- 7&#45;&gt;9 -->\n<g id=\"edge9\" class=\"edge\">\n<title>7&#45;&gt;9</title>\n<path fill=\"none\" stroke=\"black\" d=\"M500.29,-222.91C505.55,-214.1 511.18,-204.7 516.62,-195.61\"/>\n<polygon fill=\"black\" stroke=\"black\" points=\"519.63,-197.4 521.76,-187.02 513.62,-193.81 519.63,-197.4\"/>\n</g>\n<!-- 10 -->\n<g id=\"node11\" class=\"node\">\n<title>10</title>\n<path fill=\"#399de5\" stroke=\"black\" d=\"M490,-68C490,-68 362,-68 362,-68 356,-68 350,-62 350,-56 350,-56 350,-12 350,-12 350,-6 356,0 362,0 362,0 490,0 490,0 496,0 502,-6 502,-12 502,-12 502,-56 502,-56 502,-62 496,-68 490,-68\"/>\n<text text-anchor=\"start\" x=\"384\" y=\"-52.8\" font-family=\"Helvetica,sans-Serif\" font-size=\"14.00\">entropy = 0.0</text>\n<text text-anchor=\"start\" x=\"386.5\" y=\"-37.8\" font-family=\"Helvetica,sans-Serif\" font-size=\"14.00\">samples = 1</text>\n<text text-anchor=\"start\" x=\"385.5\" y=\"-22.8\" font-family=\"Helvetica,sans-Serif\" font-size=\"14.00\">value = [0, 1]</text>\n<text text-anchor=\"start\" x=\"358\" y=\"-7.8\" font-family=\"Helvetica,sans-Serif\" font-size=\"14.00\">class = No administra</text>\n</g>\n<!-- 9&#45;&gt;10 -->\n<g id=\"edge10\" class=\"edge\">\n<title>9&#45;&gt;10</title>\n<path fill=\"none\" stroke=\"black\" d=\"M501.32,-103.73C491.12,-94.42 480.29,-84.54 470.12,-75.26\"/>\n<polygon fill=\"black\" stroke=\"black\" points=\"472.24,-72.45 462.49,-68.3 467.52,-77.63 472.24,-72.45\"/>\n</g>\n<!-- 11 -->\n<g id=\"node12\" class=\"node\">\n<title>11</title>\n<path fill=\"#e58139\" stroke=\"black\" d=\"M640,-68C640,-68 532,-68 532,-68 526,-68 520,-62 520,-56 520,-56 520,-12 520,-12 520,-6 526,0 532,0 532,0 640,0 640,0 646,0 652,-6 652,-12 652,-12 652,-56 652,-56 652,-62 646,-68 640,-68\"/>\n<text text-anchor=\"start\" x=\"544\" y=\"-52.8\" font-family=\"Helvetica,sans-Serif\" font-size=\"14.00\">entropy = 0.0</text>\n<text text-anchor=\"start\" x=\"546.5\" y=\"-37.8\" font-family=\"Helvetica,sans-Serif\" font-size=\"14.00\">samples = 1</text>\n<text text-anchor=\"start\" x=\"545.5\" y=\"-22.8\" font-family=\"Helvetica,sans-Serif\" font-size=\"14.00\">value = [1, 0]</text>\n<text text-anchor=\"start\" x=\"528\" y=\"-7.8\" font-family=\"Helvetica,sans-Serif\" font-size=\"14.00\">class = Administra</text>\n</g>\n<!-- 9&#45;&gt;11 -->\n<g id=\"edge11\" class=\"edge\">\n<title>9&#45;&gt;11</title>\n<path fill=\"none\" stroke=\"black\" d=\"M560.89,-103.73C563.99,-95.24 567.27,-86.28 570.39,-77.73\"/>\n<polygon fill=\"black\" stroke=\"black\" points=\"573.69,-78.89 573.84,-68.3 567.12,-76.49 573.69,-78.89\"/>\n</g>\n<!-- 13 -->\n<g id=\"node14\" class=\"node\">\n<title>13</title>\n<path fill=\"#399de5\" stroke=\"black\" d=\"M770,-179.5C770,-179.5 642,-179.5 642,-179.5 636,-179.5 630,-173.5 630,-167.5 630,-167.5 630,-123.5 630,-123.5 630,-117.5 636,-111.5 642,-111.5 642,-111.5 770,-111.5 770,-111.5 776,-111.5 782,-117.5 782,-123.5 782,-123.5 782,-167.5 782,-167.5 782,-173.5 776,-179.5 770,-179.5\"/>\n<text text-anchor=\"start\" x=\"664\" y=\"-164.3\" font-family=\"Helvetica,sans-Serif\" font-size=\"14.00\">entropy = 0.0</text>\n<text text-anchor=\"start\" x=\"666.5\" y=\"-149.3\" font-family=\"Helvetica,sans-Serif\" font-size=\"14.00\">samples = 1</text>\n<text text-anchor=\"start\" x=\"665.5\" y=\"-134.3\" font-family=\"Helvetica,sans-Serif\" font-size=\"14.00\">value = [0, 1]</text>\n<text text-anchor=\"start\" x=\"638\" y=\"-119.3\" font-family=\"Helvetica,sans-Serif\" font-size=\"14.00\">class = No administra</text>\n</g>\n<!-- 12&#45;&gt;13 -->\n<g id=\"edge13\" class=\"edge\">\n<title>12&#45;&gt;13</title>\n<path fill=\"none\" stroke=\"black\" d=\"M706,-222.91C706,-212.2 706,-200.62 706,-189.78\"/>\n<polygon fill=\"black\" stroke=\"black\" points=\"709.5,-189.67 706,-179.67 702.5,-189.67 709.5,-189.67\"/>\n</g>\n<!-- 14 -->\n<g id=\"node15\" class=\"node\">\n<title>14</title>\n<path fill=\"#ffffff\" stroke=\"black\" d=\"M920,-187C920,-187 812,-187 812,-187 806,-187 800,-181 800,-175 800,-175 800,-116 800,-116 800,-110 806,-104 812,-104 812,-104 920,-104 920,-104 926,-104 932,-110 932,-116 932,-116 932,-175 932,-175 932,-181 926,-187 920,-187\"/>\n<text text-anchor=\"start\" x=\"823.5\" y=\"-171.8\" font-family=\"Helvetica,sans-Serif\" font-size=\"14.00\">Presion ≤ 1.0</text>\n<text text-anchor=\"start\" x=\"824\" y=\"-156.8\" font-family=\"Helvetica,sans-Serif\" font-size=\"14.00\">entropy = 1.0</text>\n<text text-anchor=\"start\" x=\"826.5\" y=\"-141.8\" font-family=\"Helvetica,sans-Serif\" font-size=\"14.00\">samples = 2</text>\n<text text-anchor=\"start\" x=\"825.5\" y=\"-126.8\" font-family=\"Helvetica,sans-Serif\" font-size=\"14.00\">value = [1, 1]</text>\n<text text-anchor=\"start\" x=\"808\" y=\"-111.8\" font-family=\"Helvetica,sans-Serif\" font-size=\"14.00\">class = Administra</text>\n</g>\n<!-- 12&#45;&gt;14 -->\n<g id=\"edge14\" class=\"edge\">\n<title>12&#45;&gt;14</title>\n<path fill=\"none\" stroke=\"black\" d=\"M761.51,-222.91C774.67,-213.29 788.8,-202.95 802.29,-193.09\"/>\n<polygon fill=\"black\" stroke=\"black\" points=\"804.58,-195.75 810.59,-187.02 800.45,-190.1 804.58,-195.75\"/>\n</g>\n<!-- 15 -->\n<g id=\"node16\" class=\"node\">\n<title>15</title>\n<path fill=\"#399de5\" stroke=\"black\" d=\"M890,-68C890,-68 762,-68 762,-68 756,-68 750,-62 750,-56 750,-56 750,-12 750,-12 750,-6 756,0 762,0 762,0 890,0 890,0 896,0 902,-6 902,-12 902,-12 902,-56 902,-56 902,-62 896,-68 890,-68\"/>\n<text text-anchor=\"start\" x=\"784\" y=\"-52.8\" font-family=\"Helvetica,sans-Serif\" font-size=\"14.00\">entropy = 0.0</text>\n<text text-anchor=\"start\" x=\"786.5\" y=\"-37.8\" font-family=\"Helvetica,sans-Serif\" font-size=\"14.00\">samples = 1</text>\n<text text-anchor=\"start\" x=\"785.5\" y=\"-22.8\" font-family=\"Helvetica,sans-Serif\" font-size=\"14.00\">value = [0, 1]</text>\n<text text-anchor=\"start\" x=\"758\" y=\"-7.8\" font-family=\"Helvetica,sans-Serif\" font-size=\"14.00\">class = No administra</text>\n</g>\n<!-- 14&#45;&gt;15 -->\n<g id=\"edge15\" class=\"edge\">\n<title>14&#45;&gt;15</title>\n<path fill=\"none\" stroke=\"black\" d=\"M851.11,-103.73C848.01,-95.24 844.73,-86.28 841.61,-77.73\"/>\n<polygon fill=\"black\" stroke=\"black\" points=\"844.88,-76.49 838.16,-68.3 838.31,-78.89 844.88,-76.49\"/>\n</g>\n<!-- 16 -->\n<g id=\"node17\" class=\"node\">\n<title>16</title>\n<path fill=\"#e58139\" stroke=\"black\" d=\"M1040,-68C1040,-68 932,-68 932,-68 926,-68 920,-62 920,-56 920,-56 920,-12 920,-12 920,-6 926,0 932,0 932,0 1040,0 1040,0 1046,0 1052,-6 1052,-12 1052,-12 1052,-56 1052,-56 1052,-62 1046,-68 1040,-68\"/>\n<text text-anchor=\"start\" x=\"944\" y=\"-52.8\" font-family=\"Helvetica,sans-Serif\" font-size=\"14.00\">entropy = 0.0</text>\n<text text-anchor=\"start\" x=\"946.5\" y=\"-37.8\" font-family=\"Helvetica,sans-Serif\" font-size=\"14.00\">samples = 1</text>\n<text text-anchor=\"start\" x=\"945.5\" y=\"-22.8\" font-family=\"Helvetica,sans-Serif\" font-size=\"14.00\">value = [1, 0]</text>\n<text text-anchor=\"start\" x=\"928\" y=\"-7.8\" font-family=\"Helvetica,sans-Serif\" font-size=\"14.00\">class = Administra</text>\n</g>\n<!-- 14&#45;&gt;16 -->\n<g id=\"edge16\" class=\"edge\">\n<title>14&#45;&gt;16</title>\n<path fill=\"none\" stroke=\"black\" d=\"M910.68,-103.73C920.88,-94.42 931.71,-84.54 941.88,-75.26\"/>\n<polygon fill=\"black\" stroke=\"black\" points=\"944.48,-77.63 949.51,-68.3 939.76,-72.45 944.48,-77.63\"/>\n</g>\n</g>\n</svg>\n",
      "text/plain": "<graphviz.sources.Source at 0x19dcaaf9a50>"
     },
     "execution_count": 54,
     "metadata": {},
     "output_type": "execute_result"
    }
   ]
  },
  {
   "cell_type": "code",
   "metadata": {
    "colab": {
     "base_uri": "https://localhost:8080/"
    },
    "id": "otddCjzwUCSJ",
    "executionInfo": {
     "status": "ok",
     "timestamp": 1625533323248,
     "user_tz": 300,
     "elapsed": 150,
     "user": {
      "displayName": "bernarda sandoval",
      "photoUrl": "",
      "userId": "13411305394088946203"
     }
    },
    "outputId": "d4c096ed-5301-4634-e37b-848ce36ef325",
    "pycharm": {
     "name": "#%%\n"
    }
   },
   "source": [
    "import pandas as pd\n",
    "from sklearn import tree\n",
    "from sklearn import preprocessing\n",
    "\n",
    "farmcos_test = pd.read_csv(\"farmacosTest.csv\", index_col=0)\n",
    "\n",
    "\n",
    "data = pd.DataFrame()\n",
    "data_test = pd.DataFrame()\n",
    "\n",
    "le = preprocessing.LabelEncoder()\n",
    "\n",
    "\n",
    "for v in labelsFarmacos:\n",
    "  le.fit(farmcos_test[v])\n",
    "  data[v] = le.transform(farmcos_test[v])\n",
    "  data_test[v] = le.transform(farmcos_test[v])\n",
    "\n",
    "#construir el arbol\n",
    "clf = tree.DecisionTreeClassifier(criterion = 'entropy',max_depth=4)\n",
    "\n",
    "t_data = data[data.columns[0:4]]\n",
    "t_respuesta = data[data.columns[4]]\n",
    "x_test = data_test[data_test.columns[0:4]]\n",
    "\n",
    "\n",
    "#crear el modelo\n",
    "clf = clf.fit(t_data, t_respuesta)\n",
    "y_respuesta = clf.predict(x_test)\n",
    "t_data, t_respuesta, y_respuesta"
   ],
   "execution_count": 60,
   "outputs": [
    {
     "data": {
      "text/plain": "(   Presion  Azucar  Indice  Alergia\n 0        0       0       0        0\n 1        0       0       0        1\n 2        1       0       1        0,\n 0    0\n 1    0\n 2    0\n Name: Otras, dtype: int32,\n array([0, 0, 0]))"
     },
     "execution_count": 60,
     "metadata": {},
     "output_type": "execute_result"
    }
   ]
  },
  {
   "cell_type": "code",
   "metadata": {
    "colab": {
     "base_uri": "https://localhost:8080/"
    },
    "id": "9qHt27B9ITCG",
    "executionInfo": {
     "status": "ok",
     "timestamp": 1624926958025,
     "user_tz": 300,
     "elapsed": 204,
     "user": {
      "displayName": "bernarda sandoval",
      "photoUrl": "",
      "userId": "13411305394088946203"
     }
    },
    "outputId": "9f20f77d-2392-4085-c751-154ed85dd72a",
    "pycharm": {
     "name": "#%%\n"
    }
   },
   "source": [
    "#calcular la entropia\n",
    "def calcular_entropia(p):\n",
    "  return -np.sum(p*np.log2(p))\n",
    "\n",
    "#contar las clases de la caracteristica\n",
    "valores, cuantos = np.unique(farmacos_data['Administrar'], return_counts=True)\n",
    "entropia = calcular_entropia(cuantos/sum(cuantos))\n",
    "print(\"Entropia del arbol\",entropia)\n",
    "valores,cuantos"
   ],
   "execution_count": 61,
   "outputs": [
    {
     "name": "stdout",
     "output_type": "stream",
     "text": [
      "Entropia del arbol 0.863120568566631\n"
     ]
    },
    {
     "data": {
      "text/plain": "(array(['No', 'Si'], dtype=object), array([ 4, 10], dtype=int64))"
     },
     "execution_count": 61,
     "metadata": {},
     "output_type": "execute_result"
    }
   ]
  },
  {
   "cell_type": "code",
   "metadata": {
    "colab": {
     "base_uri": "https://localhost:8080/"
    },
    "id": "VljBmKUrMbsI",
    "executionInfo": {
     "status": "ok",
     "timestamp": 1624928794058,
     "user_tz": 300,
     "elapsed": 192,
     "user": {
      "displayName": "bernarda sandoval",
      "photoUrl": "",
      "userId": "13411305394088946203"
     }
    },
    "outputId": "dbd023de-fd29-4dd0-ddd6-9fc90ef3b904",
    "pycharm": {
     "name": "#%%\n"
    }
   },
   "source": [
    "#calcular la ganancia\n",
    "def calcular_ganancia(valores, var = 'Presion'):\n",
    "\n",
    "  valores, cuantos = np.unique(farmacos_data[var], return_counts=True)\n",
    "\n",
    "  info_a = []\n",
    "\n",
    "  for e in valores:\n",
    "    se = np.where(farmacos_data[var]==e)\n",
    "    print(\"subconjunto\",se)\n",
    "\n",
    "    se_administra = farmacos_data['Administrar'][farmacos_data.index[se[0]]]\n",
    "    print(\"Ejemplos del valor\", se_administra)\n",
    "\n",
    "    v_se_administra, c_se_quemadura = np.unique(se_administra,return_counts=True)\n",
    "    print(\"subgrupos\",v_se_administra,c_se_quemadura)\n",
    "\n",
    "    #entropia del valor\n",
    "    se_entropia = abs(calcular_entropia(c_se_quemadura/sum(c_se_quemadura)))\n",
    "    print(\"entropia del valor\",se_entropia)\n",
    "\n",
    "    #probabilidad del valor\n",
    "    se_size = sum(c_se_quemadura)/len(farmacos_data.index)\n",
    "    print(\"probabilidad\",se_size)\n",
    "\n",
    "    info_a += [[se_entropia, se_size]]\n",
    "    print(\"info_a\",info_a)\n",
    "\n",
    "  info_a = np.array(info_a)\n",
    "\n",
    "  #calcular la entropia de la variable\n",
    "  info_g = np.sum(info_a[:,0]*info_a[:,1])\n",
    "  print(\"entropia de la variable\",info_g)\n",
    "  return info_g\n",
    "\n",
    "info_a = calcular_ganancia(valores, var = 'Presion')\n",
    "ganancia = entropia -info_a\n",
    "print(\"ganancia de presion\", ganancia)"
   ],
   "execution_count": 65,
   "outputs": [
    {
     "name": "stdout",
     "output_type": "stream",
     "text": [
      "subconjunto (array([ 0,  1,  6,  7,  8, 11], dtype=int64),)\n",
      "Ejemplos del valor Paciente\n",
      "1     Si\n",
      "2     Si\n",
      "7     Si\n",
      "8     Si\n",
      "9     No\n",
      "12    No\n",
      "Name: Administrar, dtype: object\n",
      "subgrupos ['No' 'Si'] [2 4]\n",
      "entropia del valor 0.9182958340544896\n",
      "probabilidad 0.42857142857142855\n",
      "info_a [[0.9182958340544896, 0.42857142857142855]]\n",
      "subconjunto (array([ 2,  5,  9, 12, 13], dtype=int64),)\n",
      "Ejemplos del valor Paciente\n",
      "3     Si\n",
      "6     Si\n",
      "10    Si\n",
      "13    Si\n",
      "14    Si\n",
      "Name: Administrar, dtype: object\n",
      "subgrupos ['Si'] [5]\n",
      "entropia del valor 0.0\n",
      "probabilidad 0.35714285714285715\n",
      "info_a [[0.9182958340544896, 0.42857142857142855], [0.0, 0.35714285714285715]]\n",
      "subconjunto (array([ 3,  4, 10], dtype=int64),)\n",
      "Ejemplos del valor Paciente\n",
      "4     No\n",
      "5     No\n",
      "11    Si\n",
      "Name: Administrar, dtype: object\n",
      "subgrupos ['No' 'Si'] [2 1]\n",
      "entropia del valor 0.9182958340544896\n",
      "probabilidad 0.21428571428571427\n",
      "info_a [[0.9182958340544896, 0.42857142857142855], [0.0, 0.35714285714285715], [0.9182958340544896, 0.21428571428571427]]\n",
      "entropia de la variable 0.590333036177886\n",
      "ganancia de presion 0.272787532388745\n"
     ]
    }
   ]
  },
  {
   "cell_type": "code",
   "metadata": {
    "colab": {
     "base_uri": "https://localhost:8080/"
    },
    "id": "L2I3NfNeTtJU",
    "executionInfo": {
     "status": "ok",
     "timestamp": 1624928956325,
     "user_tz": 300,
     "elapsed": 176,
     "user": {
      "displayName": "bernarda sandoval",
      "photoUrl": "",
      "userId": "13411305394088946203"
     }
    },
    "outputId": "dda608e2-a89e-4c4d-d541-48391d832b4c",
    "pycharm": {
     "name": "#%%\n"
    }
   },
   "source": [
    "info_a = calcular_ganancia(valores, var = 'Azucar')\n",
    "ganancia = entropia -info_a\n",
    "print(\"ganancia de altura\", ganancia)"
   ],
   "execution_count": 66,
   "outputs": [
    {
     "name": "stdout",
     "output_type": "stream",
     "text": [
      "subconjunto (array([ 0,  1,  2,  3,  8, 12, 13], dtype=int64),)\n",
      "Ejemplos del valor Paciente\n",
      "1     Si\n",
      "2     Si\n",
      "3     Si\n",
      "4     No\n",
      "9     No\n",
      "13    Si\n",
      "14    Si\n",
      "Name: Administrar, dtype: object\n",
      "subgrupos ['No' 'Si'] [2 5]\n",
      "entropia del valor 0.863120568566631\n",
      "probabilidad 0.5\n",
      "info_a [[0.863120568566631, 0.5]]\n",
      "subconjunto (array([ 4,  5,  6,  7,  9, 10, 11], dtype=int64),)\n",
      "Ejemplos del valor Paciente\n",
      "5     No\n",
      "6     Si\n",
      "7     Si\n",
      "8     Si\n",
      "10    Si\n",
      "11    Si\n",
      "12    No\n",
      "Name: Administrar, dtype: object\n",
      "subgrupos ['No' 'Si'] [2 5]\n",
      "entropia del valor 0.863120568566631\n",
      "probabilidad 0.5\n",
      "info_a [[0.863120568566631, 0.5], [0.863120568566631, 0.5]]\n",
      "entropia de la variable 0.863120568566631\n",
      "ganancia de altura 0.0\n"
     ]
    }
   ]
  },
  {
   "cell_type": "code",
   "metadata": {
    "colab": {
     "base_uri": "https://localhost:8080/"
    },
    "id": "vIXvmtH_UIJY",
    "executionInfo": {
     "status": "ok",
     "timestamp": 1624928996246,
     "user_tz": 300,
     "elapsed": 180,
     "user": {
      "displayName": "bernarda sandoval",
      "photoUrl": "",
      "userId": "13411305394088946203"
     }
    },
    "outputId": "5b269717-850b-47a8-a1b6-2b460d1822a0",
    "pycharm": {
     "name": "#%%\n"
    }
   },
   "source": [
    "info_a = calcular_ganancia(valores, var = 'Indice')\n",
    "ganancia = entropia -info_a\n",
    "print(\"ganancia de peso\", ganancia)"
   ],
   "execution_count": 67,
   "outputs": [
    {
     "name": "stdout",
     "output_type": "stream",
     "text": [
      "subconjunto (array([ 0,  1,  3,  4,  5,  6,  9, 11, 12], dtype=int64),)\n",
      "Ejemplos del valor Paciente\n",
      "1     Si\n",
      "2     Si\n",
      "4     No\n",
      "5     No\n",
      "6     Si\n",
      "7     Si\n",
      "10    Si\n",
      "12    No\n",
      "13    Si\n",
      "Name: Administrar, dtype: object\n",
      "subgrupos ['No' 'Si'] [3 6]\n",
      "entropia del valor 0.9182958340544896\n",
      "probabilidad 0.6428571428571429\n",
      "info_a [[0.9182958340544896, 0.6428571428571429]]\n",
      "subconjunto (array([ 2,  7,  8, 10, 13], dtype=int64),)\n",
      "Ejemplos del valor Paciente\n",
      "3     Si\n",
      "8     Si\n",
      "9     No\n",
      "11    Si\n",
      "14    Si\n",
      "Name: Administrar, dtype: object\n",
      "subgrupos ['No' 'Si'] [1 4]\n",
      "entropia del valor 0.7219280948873623\n",
      "probabilidad 0.35714285714285715\n",
      "info_a [[0.9182958340544896, 0.6428571428571429], [0.7219280948873623, 0.35714285714285715]]\n",
      "entropia de la variable 0.8481644986376585\n",
      "ganancia de peso 0.01495606992897247\n"
     ]
    }
   ]
  },
  {
   "cell_type": "code",
   "metadata": {
    "colab": {
     "base_uri": "https://localhost:8080/"
    },
    "id": "OKB0Gol6UQ7t",
    "executionInfo": {
     "status": "ok",
     "timestamp": 1624930973966,
     "user_tz": 300,
     "elapsed": 772,
     "user": {
      "displayName": "bernarda sandoval",
      "photoUrl": "",
      "userId": "13411305394088946203"
     }
    },
    "outputId": "8af0a107-095f-4d43-d3cf-aa34ac2941b3",
    "pycharm": {
     "name": "#%%\n"
    }
   },
   "source": [
    "info_a = calcular_ganancia(valores, var = 'Alergia')\n",
    "ganancia = entropia -info_a\n",
    "print(\"ganancia de Alergia\", ganancia)"
   ],
   "execution_count": 69,
   "outputs": [
    {
     "name": "stdout",
     "output_type": "stream",
     "text": [
      "subconjunto (array([ 0,  2,  3,  7, 13], dtype=int64),)\n",
      "Ejemplos del valor Paciente\n",
      "1     Si\n",
      "3     Si\n",
      "4     No\n",
      "8     Si\n",
      "14    Si\n",
      "Name: Administrar, dtype: object\n",
      "subgrupos ['No' 'Si'] [1 4]\n",
      "entropia del valor 0.7219280948873623\n",
      "probabilidad 0.35714285714285715\n",
      "info_a [[0.7219280948873623, 0.35714285714285715]]\n",
      "subconjunto (array([ 1,  4,  5,  6,  8,  9, 10, 11, 12], dtype=int64),)\n",
      "Ejemplos del valor Paciente\n",
      "2     Si\n",
      "5     No\n",
      "6     Si\n",
      "7     Si\n",
      "9     No\n",
      "10    Si\n",
      "11    Si\n",
      "12    No\n",
      "13    Si\n",
      "Name: Administrar, dtype: object\n",
      "subgrupos ['No' 'Si'] [3 6]\n",
      "entropia del valor 0.9182958340544896\n",
      "probabilidad 0.6428571428571429\n",
      "info_a [[0.7219280948873623, 0.35714285714285715], [0.9182958340544896, 0.6428571428571429]]\n",
      "entropia de la variable 0.8481644986376585\n",
      "ganancia de Alergia 0.01495606992897247\n"
     ]
    }
   ]
  },
  {
   "cell_type": "code",
   "metadata": {
    "colab": {
     "base_uri": "https://localhost:8080/",
     "height": 440
    },
    "id": "bFHgrnxbbxAQ",
    "executionInfo": {
     "status": "ok",
     "timestamp": 1624934263171,
     "user_tz": 300,
     "elapsed": 176,
     "user": {
      "displayName": "bernarda sandoval",
      "photoUrl": "",
      "userId": "13411305394088946203"
     }
    },
    "outputId": "b57cd524-c323-4b64-ef96-73e1fbf64c46",
    "pycharm": {
     "name": "#%%\n"
    }
   },
   "source": [
    "from sklearn import tree\n",
    "from sklearn import preprocessing\n",
    "\n",
    "data = pd.DataFrame()\n",
    "\n",
    "#Transformar a valores numeicos\n",
    "le = preprocessing.LabelEncoder()\n",
    "\n",
    "for v in labelsFarmacos:\n",
    "    le.fit(farmacos_data[v])\n",
    "    data[v] = le.transform(farmacos_data[v])\n",
    "\n",
    "# Build tree\n",
    "clf = tree.DecisionTreeClassifier(criterion='entropy', max_depth=4)\n",
    "\n",
    "t_data = data[data.columns[0:4]]\n",
    "t_target = data[data.columns[4]]\n",
    "\n",
    "# Fit model to data\n",
    "clf = clf.fit(t_data, t_target)\n",
    "t_data,t_target,clf\n",
    "\n",
    "# Visualize tree\n",
    "import graphviz \n",
    "dot_data = tree.export_graphviz(clf, out_file=None, \n",
    "                         feature_names=list(t_data.columns.values),  \n",
    "                         class_names=[\"No administra\", \"Administra\"],\n",
    "                         filled=True, rounded=True,  \n",
    "                         special_characters=True)  \n",
    "graph = graphviz.Source(dot_data)  \n",
    "graph"
   ],
   "execution_count": 70,
   "outputs": [
    {
     "data": {
      "image/svg+xml": "<?xml version=\"1.0\" encoding=\"UTF-8\" standalone=\"no\"?>\n<!DOCTYPE svg PUBLIC \"-//W3C//DTD SVG 1.1//EN\"\n \"http://www.w3.org/Graphics/SVG/1.1/DTD/svg11.dtd\">\n<!-- Generated by graphviz version 4.0.0 (20220529.0937)\n -->\n<!-- Title: Tree Pages: 1 -->\n<svg width=\"630pt\" height=\"552pt\"\n viewBox=\"0.00 0.00 630.00 552.00\" xmlns=\"http://www.w3.org/2000/svg\" xmlns:xlink=\"http://www.w3.org/1999/xlink\">\n<g id=\"graph0\" class=\"graph\" transform=\"scale(1 1) rotate(0) translate(4 548)\">\n<title>Tree</title>\n<polygon fill=\"white\" stroke=\"transparent\" points=\"-4,4 -4,-548 626,-548 626,4 -4,4\"/>\n<!-- 0 -->\n<g id=\"node1\" class=\"node\">\n<title>0</title>\n<path fill=\"#a7d3f3\" stroke=\"black\" d=\"M445,-544C445,-544 337,-544 337,-544 331,-544 325,-538 325,-532 325,-532 325,-473 325,-473 325,-467 331,-461 337,-461 337,-461 445,-461 445,-461 451,-461 457,-467 457,-473 457,-473 457,-532 457,-532 457,-538 451,-544 445,-544\"/>\n<text text-anchor=\"start\" x=\"348.5\" y=\"-528.8\" font-family=\"Helvetica,sans-Serif\" font-size=\"14.00\">Presion ≤ 1.5</text>\n<text text-anchor=\"start\" x=\"345\" y=\"-513.8\" font-family=\"Helvetica,sans-Serif\" font-size=\"14.00\">entropy = 0.94</text>\n<text text-anchor=\"start\" x=\"347.5\" y=\"-498.8\" font-family=\"Helvetica,sans-Serif\" font-size=\"14.00\">samples = 14</text>\n<text text-anchor=\"start\" x=\"350.5\" y=\"-483.8\" font-family=\"Helvetica,sans-Serif\" font-size=\"14.00\">value = [5, 9]</text>\n<text text-anchor=\"start\" x=\"333\" y=\"-468.8\" font-family=\"Helvetica,sans-Serif\" font-size=\"14.00\">class = Administra</text>\n</g>\n<!-- 1 -->\n<g id=\"node2\" class=\"node\">\n<title>1</title>\n<path fill=\"#deeffb\" stroke=\"black\" d=\"M370,-425C370,-425 262,-425 262,-425 256,-425 250,-419 250,-413 250,-413 250,-354 250,-354 250,-348 256,-342 262,-342 262,-342 370,-342 370,-342 376,-342 382,-348 382,-354 382,-354 382,-413 382,-413 382,-419 376,-425 370,-425\"/>\n<text text-anchor=\"start\" x=\"276.5\" y=\"-409.8\" font-family=\"Helvetica,sans-Serif\" font-size=\"14.00\">Azucar ≤ 0.5</text>\n<text text-anchor=\"start\" x=\"266\" y=\"-394.8\" font-family=\"Helvetica,sans-Serif\" font-size=\"14.00\">entropy = 0.994</text>\n<text text-anchor=\"start\" x=\"272.5\" y=\"-379.8\" font-family=\"Helvetica,sans-Serif\" font-size=\"14.00\">samples = 11</text>\n<text text-anchor=\"start\" x=\"275.5\" y=\"-364.8\" font-family=\"Helvetica,sans-Serif\" font-size=\"14.00\">value = [5, 6]</text>\n<text text-anchor=\"start\" x=\"258\" y=\"-349.8\" font-family=\"Helvetica,sans-Serif\" font-size=\"14.00\">class = Administra</text>\n</g>\n<!-- 0&#45;&gt;1 -->\n<g id=\"edge1\" class=\"edge\">\n<title>0&#45;&gt;1</title>\n<path fill=\"none\" stroke=\"black\" d=\"M364.98,-460.91C359.34,-452.1 353.31,-442.7 347.48,-433.61\"/>\n<polygon fill=\"black\" stroke=\"black\" points=\"350.32,-431.55 341.97,-425.02 344.43,-435.33 350.32,-431.55\"/>\n<text text-anchor=\"middle\" x=\"336.63\" y=\"-445.74\" font-family=\"Helvetica,sans-Serif\" font-size=\"14.00\">True</text>\n</g>\n<!-- 12 -->\n<g id=\"node13\" class=\"node\">\n<title>12</title>\n<path fill=\"#399de5\" stroke=\"black\" d=\"M520,-417.5C520,-417.5 412,-417.5 412,-417.5 406,-417.5 400,-411.5 400,-405.5 400,-405.5 400,-361.5 400,-361.5 400,-355.5 406,-349.5 412,-349.5 412,-349.5 520,-349.5 520,-349.5 526,-349.5 532,-355.5 532,-361.5 532,-361.5 532,-405.5 532,-405.5 532,-411.5 526,-417.5 520,-417.5\"/>\n<text text-anchor=\"start\" x=\"424\" y=\"-402.3\" font-family=\"Helvetica,sans-Serif\" font-size=\"14.00\">entropy = 0.0</text>\n<text text-anchor=\"start\" x=\"426.5\" y=\"-387.3\" font-family=\"Helvetica,sans-Serif\" font-size=\"14.00\">samples = 3</text>\n<text text-anchor=\"start\" x=\"425.5\" y=\"-372.3\" font-family=\"Helvetica,sans-Serif\" font-size=\"14.00\">value = [0, 3]</text>\n<text text-anchor=\"start\" x=\"408\" y=\"-357.3\" font-family=\"Helvetica,sans-Serif\" font-size=\"14.00\">class = Administra</text>\n</g>\n<!-- 0&#45;&gt;12 -->\n<g id=\"edge12\" class=\"edge\">\n<title>0&#45;&gt;12</title>\n<path fill=\"none\" stroke=\"black\" d=\"M417.02,-460.91C424.24,-449.65 432.08,-437.42 439.33,-426.11\"/>\n<polygon fill=\"black\" stroke=\"black\" points=\"442.29,-427.97 444.74,-417.67 436.4,-424.2 442.29,-427.97\"/>\n<text text-anchor=\"middle\" x=\"450.08\" y=\"-438.39\" font-family=\"Helvetica,sans-Serif\" font-size=\"14.00\">False</text>\n</g>\n<!-- 2 -->\n<g id=\"node3\" class=\"node\">\n<title>2</title>\n<path fill=\"#f2c09c\" stroke=\"black\" d=\"M300,-306C300,-306 172,-306 172,-306 166,-306 160,-300 160,-294 160,-294 160,-235 160,-235 160,-229 166,-223 172,-223 172,-223 300,-223 300,-223 306,-223 312,-229 312,-235 312,-235 312,-294 312,-294 312,-300 306,-306 300,-306\"/>\n<text text-anchor=\"start\" x=\"196\" y=\"-290.8\" font-family=\"Helvetica,sans-Serif\" font-size=\"14.00\">Alergia ≤ 0.5</text>\n<text text-anchor=\"start\" x=\"186\" y=\"-275.8\" font-family=\"Helvetica,sans-Serif\" font-size=\"14.00\">entropy = 0.918</text>\n<text text-anchor=\"start\" x=\"196.5\" y=\"-260.8\" font-family=\"Helvetica,sans-Serif\" font-size=\"14.00\">samples = 6</text>\n<text text-anchor=\"start\" x=\"195.5\" y=\"-245.8\" font-family=\"Helvetica,sans-Serif\" font-size=\"14.00\">value = [4, 2]</text>\n<text text-anchor=\"start\" x=\"168\" y=\"-230.8\" font-family=\"Helvetica,sans-Serif\" font-size=\"14.00\">class = No administra</text>\n</g>\n<!-- 1&#45;&gt;2 -->\n<g id=\"edge2\" class=\"edge\">\n<title>1&#45;&gt;2</title>\n<path fill=\"none\" stroke=\"black\" d=\"M288.24,-341.91C282.16,-333.01 275.66,-323.51 269.39,-314.33\"/>\n<polygon fill=\"black\" stroke=\"black\" points=\"272.24,-312.3 263.71,-306.02 266.46,-316.25 272.24,-312.3\"/>\n</g>\n<!-- 7 -->\n<g id=\"node8\" class=\"node\">\n<title>7</title>\n<path fill=\"#6ab6ec\" stroke=\"black\" d=\"M450,-306C450,-306 342,-306 342,-306 336,-306 330,-300 330,-294 330,-294 330,-235 330,-235 330,-229 336,-223 342,-223 342,-223 450,-223 450,-223 456,-223 462,-229 462,-235 462,-235 462,-294 462,-294 462,-300 456,-306 450,-306\"/>\n<text text-anchor=\"start\" x=\"353.5\" y=\"-290.8\" font-family=\"Helvetica,sans-Serif\" font-size=\"14.00\">Presion ≤ 0.5</text>\n<text text-anchor=\"start\" x=\"346\" y=\"-275.8\" font-family=\"Helvetica,sans-Serif\" font-size=\"14.00\">entropy = 0.722</text>\n<text text-anchor=\"start\" x=\"356.5\" y=\"-260.8\" font-family=\"Helvetica,sans-Serif\" font-size=\"14.00\">samples = 5</text>\n<text text-anchor=\"start\" x=\"355.5\" y=\"-245.8\" font-family=\"Helvetica,sans-Serif\" font-size=\"14.00\">value = [1, 4]</text>\n<text text-anchor=\"start\" x=\"338\" y=\"-230.8\" font-family=\"Helvetica,sans-Serif\" font-size=\"14.00\">class = Administra</text>\n</g>\n<!-- 1&#45;&gt;7 -->\n<g id=\"edge7\" class=\"edge\">\n<title>1&#45;&gt;7</title>\n<path fill=\"none\" stroke=\"black\" d=\"M343.76,-341.91C349.84,-333.01 356.34,-323.51 362.61,-314.33\"/>\n<polygon fill=\"black\" stroke=\"black\" points=\"365.54,-316.25 368.29,-306.02 359.76,-312.3 365.54,-316.25\"/>\n</g>\n<!-- 3 -->\n<g id=\"node4\" class=\"node\">\n<title>3</title>\n<path fill=\"#e58139\" stroke=\"black\" d=\"M140,-179.5C140,-179.5 12,-179.5 12,-179.5 6,-179.5 0,-173.5 0,-167.5 0,-167.5 0,-123.5 0,-123.5 0,-117.5 6,-111.5 12,-111.5 12,-111.5 140,-111.5 140,-111.5 146,-111.5 152,-117.5 152,-123.5 152,-123.5 152,-167.5 152,-167.5 152,-173.5 146,-179.5 140,-179.5\"/>\n<text text-anchor=\"start\" x=\"34\" y=\"-164.3\" font-family=\"Helvetica,sans-Serif\" font-size=\"14.00\">entropy = 0.0</text>\n<text text-anchor=\"start\" x=\"36.5\" y=\"-149.3\" font-family=\"Helvetica,sans-Serif\" font-size=\"14.00\">samples = 3</text>\n<text text-anchor=\"start\" x=\"35.5\" y=\"-134.3\" font-family=\"Helvetica,sans-Serif\" font-size=\"14.00\">value = [3, 0]</text>\n<text text-anchor=\"start\" x=\"8\" y=\"-119.3\" font-family=\"Helvetica,sans-Serif\" font-size=\"14.00\">class = No administra</text>\n</g>\n<!-- 2&#45;&gt;3 -->\n<g id=\"edge3\" class=\"edge\">\n<title>2&#45;&gt;3</title>\n<path fill=\"none\" stroke=\"black\" d=\"M180.49,-222.91C164.04,-210.88 146.06,-197.73 129.73,-185.79\"/>\n<polygon fill=\"black\" stroke=\"black\" points=\"131.49,-182.74 121.36,-179.67 127.36,-188.39 131.49,-182.74\"/>\n</g>\n<!-- 4 -->\n<g id=\"node5\" class=\"node\">\n<title>4</title>\n<path fill=\"#9ccef2\" stroke=\"black\" d=\"M290,-187C290,-187 182,-187 182,-187 176,-187 170,-181 170,-175 170,-175 170,-116 170,-116 170,-110 176,-104 182,-104 182,-104 290,-104 290,-104 296,-104 302,-110 302,-116 302,-116 302,-175 302,-175 302,-181 296,-187 290,-187\"/>\n<text text-anchor=\"start\" x=\"198.5\" y=\"-171.8\" font-family=\"Helvetica,sans-Serif\" font-size=\"14.00\">Indice ≤ 0.5</text>\n<text text-anchor=\"start\" x=\"186\" y=\"-156.8\" font-family=\"Helvetica,sans-Serif\" font-size=\"14.00\">entropy = 0.918</text>\n<text text-anchor=\"start\" x=\"196.5\" y=\"-141.8\" font-family=\"Helvetica,sans-Serif\" font-size=\"14.00\">samples = 3</text>\n<text text-anchor=\"start\" x=\"195.5\" y=\"-126.8\" font-family=\"Helvetica,sans-Serif\" font-size=\"14.00\">value = [1, 2]</text>\n<text text-anchor=\"start\" x=\"178\" y=\"-111.8\" font-family=\"Helvetica,sans-Serif\" font-size=\"14.00\">class = Administra</text>\n</g>\n<!-- 2&#45;&gt;4 -->\n<g id=\"edge4\" class=\"edge\">\n<title>2&#45;&gt;4</title>\n<path fill=\"none\" stroke=\"black\" d=\"M236,-222.91C236,-214.65 236,-205.86 236,-197.3\"/>\n<polygon fill=\"black\" stroke=\"black\" points=\"239.5,-197.02 236,-187.02 232.5,-197.02 239.5,-197.02\"/>\n</g>\n<!-- 5 -->\n<g id=\"node6\" class=\"node\">\n<title>5</title>\n<path fill=\"#ffffff\" stroke=\"black\" d=\"M140,-68C140,-68 12,-68 12,-68 6,-68 0,-62 0,-56 0,-56 0,-12 0,-12 0,-6 6,0 12,0 12,0 140,0 140,0 146,0 152,-6 152,-12 152,-12 152,-56 152,-56 152,-62 146,-68 140,-68\"/>\n<text text-anchor=\"start\" x=\"34\" y=\"-52.8\" font-family=\"Helvetica,sans-Serif\" font-size=\"14.00\">entropy = 1.0</text>\n<text text-anchor=\"start\" x=\"36.5\" y=\"-37.8\" font-family=\"Helvetica,sans-Serif\" font-size=\"14.00\">samples = 2</text>\n<text text-anchor=\"start\" x=\"35.5\" y=\"-22.8\" font-family=\"Helvetica,sans-Serif\" font-size=\"14.00\">value = [1, 1]</text>\n<text text-anchor=\"start\" x=\"8\" y=\"-7.8\" font-family=\"Helvetica,sans-Serif\" font-size=\"14.00\">class = No administra</text>\n</g>\n<!-- 4&#45;&gt;5 -->\n<g id=\"edge5\" class=\"edge\">\n<title>4&#45;&gt;5</title>\n<path fill=\"none\" stroke=\"black\" d=\"M176.42,-103.73C162.22,-94.01 147.1,-83.66 133.02,-74.02\"/>\n<polygon fill=\"black\" stroke=\"black\" points=\"134.63,-70.88 124.4,-68.13 130.68,-76.66 134.63,-70.88\"/>\n</g>\n<!-- 6 -->\n<g id=\"node7\" class=\"node\">\n<title>6</title>\n<path fill=\"#399de5\" stroke=\"black\" d=\"M290,-68C290,-68 182,-68 182,-68 176,-68 170,-62 170,-56 170,-56 170,-12 170,-12 170,-6 176,0 182,0 182,0 290,0 290,0 296,0 302,-6 302,-12 302,-12 302,-56 302,-56 302,-62 296,-68 290,-68\"/>\n<text text-anchor=\"start\" x=\"194\" y=\"-52.8\" font-family=\"Helvetica,sans-Serif\" font-size=\"14.00\">entropy = 0.0</text>\n<text text-anchor=\"start\" x=\"196.5\" y=\"-37.8\" font-family=\"Helvetica,sans-Serif\" font-size=\"14.00\">samples = 1</text>\n<text text-anchor=\"start\" x=\"195.5\" y=\"-22.8\" font-family=\"Helvetica,sans-Serif\" font-size=\"14.00\">value = [0, 1]</text>\n<text text-anchor=\"start\" x=\"178\" y=\"-7.8\" font-family=\"Helvetica,sans-Serif\" font-size=\"14.00\">class = Administra</text>\n</g>\n<!-- 4&#45;&gt;6 -->\n<g id=\"edge6\" class=\"edge\">\n<title>4&#45;&gt;6</title>\n<path fill=\"none\" stroke=\"black\" d=\"M236,-103.73C236,-95.52 236,-86.86 236,-78.56\"/>\n<polygon fill=\"black\" stroke=\"black\" points=\"239.5,-78.3 236,-68.3 232.5,-78.3 239.5,-78.3\"/>\n</g>\n<!-- 8 -->\n<g id=\"node9\" class=\"node\">\n<title>8</title>\n<path fill=\"#9ccef2\" stroke=\"black\" d=\"M450,-187C450,-187 342,-187 342,-187 336,-187 330,-181 330,-175 330,-175 330,-116 330,-116 330,-110 336,-104 342,-104 342,-104 450,-104 450,-104 456,-104 462,-110 462,-116 462,-116 462,-175 462,-175 462,-181 456,-187 450,-187\"/>\n<text text-anchor=\"start\" x=\"358.5\" y=\"-171.8\" font-family=\"Helvetica,sans-Serif\" font-size=\"14.00\">Indice ≤ 0.5</text>\n<text text-anchor=\"start\" x=\"346\" y=\"-156.8\" font-family=\"Helvetica,sans-Serif\" font-size=\"14.00\">entropy = 0.918</text>\n<text text-anchor=\"start\" x=\"356.5\" y=\"-141.8\" font-family=\"Helvetica,sans-Serif\" font-size=\"14.00\">samples = 3</text>\n<text text-anchor=\"start\" x=\"355.5\" y=\"-126.8\" font-family=\"Helvetica,sans-Serif\" font-size=\"14.00\">value = [1, 2]</text>\n<text text-anchor=\"start\" x=\"338\" y=\"-111.8\" font-family=\"Helvetica,sans-Serif\" font-size=\"14.00\">class = Administra</text>\n</g>\n<!-- 7&#45;&gt;8 -->\n<g id=\"edge8\" class=\"edge\">\n<title>7&#45;&gt;8</title>\n<path fill=\"none\" stroke=\"black\" d=\"M396,-222.91C396,-214.65 396,-205.86 396,-197.3\"/>\n<polygon fill=\"black\" stroke=\"black\" points=\"399.5,-197.02 396,-187.02 392.5,-197.02 399.5,-197.02\"/>\n</g>\n<!-- 11 -->\n<g id=\"node12\" class=\"node\">\n<title>11</title>\n<path fill=\"#399de5\" stroke=\"black\" d=\"M600,-179.5C600,-179.5 492,-179.5 492,-179.5 486,-179.5 480,-173.5 480,-167.5 480,-167.5 480,-123.5 480,-123.5 480,-117.5 486,-111.5 492,-111.5 492,-111.5 600,-111.5 600,-111.5 606,-111.5 612,-117.5 612,-123.5 612,-123.5 612,-167.5 612,-167.5 612,-173.5 606,-179.5 600,-179.5\"/>\n<text text-anchor=\"start\" x=\"504\" y=\"-164.3\" font-family=\"Helvetica,sans-Serif\" font-size=\"14.00\">entropy = 0.0</text>\n<text text-anchor=\"start\" x=\"506.5\" y=\"-149.3\" font-family=\"Helvetica,sans-Serif\" font-size=\"14.00\">samples = 2</text>\n<text text-anchor=\"start\" x=\"505.5\" y=\"-134.3\" font-family=\"Helvetica,sans-Serif\" font-size=\"14.00\">value = [0, 2]</text>\n<text text-anchor=\"start\" x=\"488\" y=\"-119.3\" font-family=\"Helvetica,sans-Serif\" font-size=\"14.00\">class = Administra</text>\n</g>\n<!-- 7&#45;&gt;11 -->\n<g id=\"edge11\" class=\"edge\">\n<title>7&#45;&gt;11</title>\n<path fill=\"none\" stroke=\"black\" d=\"M448.04,-222.91C463.32,-210.99 480.01,-197.98 495.21,-186.12\"/>\n<polygon fill=\"black\" stroke=\"black\" points=\"497.75,-188.58 503.48,-179.67 493.44,-183.06 497.75,-188.58\"/>\n</g>\n<!-- 9 -->\n<g id=\"node10\" class=\"node\">\n<title>9</title>\n<path fill=\"#ffffff\" stroke=\"black\" d=\"M460,-68C460,-68 332,-68 332,-68 326,-68 320,-62 320,-56 320,-56 320,-12 320,-12 320,-6 326,0 332,0 332,0 460,0 460,0 466,0 472,-6 472,-12 472,-12 472,-56 472,-56 472,-62 466,-68 460,-68\"/>\n<text text-anchor=\"start\" x=\"354\" y=\"-52.8\" font-family=\"Helvetica,sans-Serif\" font-size=\"14.00\">entropy = 1.0</text>\n<text text-anchor=\"start\" x=\"356.5\" y=\"-37.8\" font-family=\"Helvetica,sans-Serif\" font-size=\"14.00\">samples = 2</text>\n<text text-anchor=\"start\" x=\"355.5\" y=\"-22.8\" font-family=\"Helvetica,sans-Serif\" font-size=\"14.00\">value = [1, 1]</text>\n<text text-anchor=\"start\" x=\"328\" y=\"-7.8\" font-family=\"Helvetica,sans-Serif\" font-size=\"14.00\">class = No administra</text>\n</g>\n<!-- 8&#45;&gt;9 -->\n<g id=\"edge9\" class=\"edge\">\n<title>8&#45;&gt;9</title>\n<path fill=\"none\" stroke=\"black\" d=\"M396,-103.73C396,-95.52 396,-86.86 396,-78.56\"/>\n<polygon fill=\"black\" stroke=\"black\" points=\"399.5,-78.3 396,-68.3 392.5,-78.3 399.5,-78.3\"/>\n</g>\n<!-- 10 -->\n<g id=\"node11\" class=\"node\">\n<title>10</title>\n<path fill=\"#399de5\" stroke=\"black\" d=\"M610,-68C610,-68 502,-68 502,-68 496,-68 490,-62 490,-56 490,-56 490,-12 490,-12 490,-6 496,0 502,0 502,0 610,0 610,0 616,0 622,-6 622,-12 622,-12 622,-56 622,-56 622,-62 616,-68 610,-68\"/>\n<text text-anchor=\"start\" x=\"514\" y=\"-52.8\" font-family=\"Helvetica,sans-Serif\" font-size=\"14.00\">entropy = 0.0</text>\n<text text-anchor=\"start\" x=\"516.5\" y=\"-37.8\" font-family=\"Helvetica,sans-Serif\" font-size=\"14.00\">samples = 1</text>\n<text text-anchor=\"start\" x=\"515.5\" y=\"-22.8\" font-family=\"Helvetica,sans-Serif\" font-size=\"14.00\">value = [0, 1]</text>\n<text text-anchor=\"start\" x=\"498\" y=\"-7.8\" font-family=\"Helvetica,sans-Serif\" font-size=\"14.00\">class = Administra</text>\n</g>\n<!-- 8&#45;&gt;10 -->\n<g id=\"edge10\" class=\"edge\">\n<title>8&#45;&gt;10</title>\n<path fill=\"none\" stroke=\"black\" d=\"M455.58,-103.73C469.78,-94.01 484.9,-83.66 498.98,-74.02\"/>\n<polygon fill=\"black\" stroke=\"black\" points=\"501.32,-76.66 507.6,-68.13 497.37,-70.88 501.32,-76.66\"/>\n</g>\n</g>\n</svg>\n",
      "text/plain": "<graphviz.sources.Source at 0x19dc9753be0>"
     },
     "execution_count": 70,
     "metadata": {},
     "output_type": "execute_result"
    }
   ]
  },
  {
   "cell_type": "code",
   "metadata": {
    "colab": {
     "base_uri": "https://localhost:8080/",
     "height": 757
    },
    "id": "DjETHm7JeX0a",
    "executionInfo": {
     "status": "ok",
     "timestamp": 1624932258895,
     "user_tz": 300,
     "elapsed": 274,
     "user": {
      "displayName": "bernarda sandoval",
      "photoUrl": "",
      "userId": "13411305394088946203"
     }
    },
    "outputId": "a8948c5c-8f91-480d-a252-e09c76c0c757",
    "pycharm": {
     "name": "#%%\n"
    }
   },
   "source": [
    "data = farmacos_data.copy()\n",
    "\n",
    "data[\"Pelo\"] = np.where(data[\"Pelo\"]==\"rubio\", 2, \n",
    "                          np.where(data[\"Pelo\"]==\"moreno\", 1, 0))\n",
    "\n",
    "data[\"Altura\"] = np.where(data[\"Altura\"]==\"medio\", 2, \n",
    "                               np.where(data[\"Altura\"]==\"alto\", 1, 0))\n",
    "\n",
    "data[\"Peso\"] = np.where(data[\"Peso\"]==\"bajo\", 2,\n",
    "                        np.where(data[\"Peso\"]==\"medio\",1,0))\n",
    "\n",
    "data[\"Proteccion\"] = np.where(data[\"Proteccion\"]==\"no\", 0, 1)\n",
    "    \n",
    "clf = tree.DecisionTreeClassifier(criterion='entropy', max_depth=4)\n",
    "\n",
    "t_data = data[data.columns[0:4]]\n",
    "t_target = data[data.columns[4]]\n",
    "\n",
    "clf = clf.fit(t_data, t_target)\n",
    "\n",
    "import graphviz \n",
    "dot_data = tree.export_graphviz(clf, out_file=None, \n",
    "                         feature_names=list(t_data.columns.values),  \n",
    "                         class_names=[\"Don't Play\", \"Play\"],  \n",
    "                         filled=True, rounded=True,  \n",
    "                         special_characters=True)  \n",
    "graph = graphviz.Source(dot_data)  \n",
    "graph"
   ],
   "execution_count": null,
   "outputs": []
  },
  {
   "cell_type": "code",
   "metadata": {
    "colab": {
     "base_uri": "https://localhost:8080/"
    },
    "id": "QDGtKfMFjtrF",
    "executionInfo": {
     "status": "ok",
     "timestamp": 1624935082554,
     "user_tz": 300,
     "elapsed": 173,
     "user": {
      "displayName": "bernarda sandoval",
      "photoUrl": "",
      "userId": "13411305394088946203"
     }
    },
    "outputId": "7285e88d-4146-4bdd-b345-b7edcd66ede9",
    "pycharm": {
     "name": "#%%\n"
    }
   },
   "source": [
    "from sklearn import tree\n",
    "from sklearn import preprocessing\n",
    "\n",
    "data = pd.DataFrame()\n",
    "\n",
    "#Transformar a valores numeicos\n",
    "le = preprocessing.LabelEncoder()\n",
    "\n",
    "var = [\"Pelo\", \"Altura\", \"Peso\", \"Proteccion\", \"Quemadura\"]\n",
    "\n",
    "for v in var:\n",
    "    le.fit(quemadura_data[v])\n",
    "    data[v] = le.transform(quemadura_data[v])\n",
    "\n",
    "# Build tree\n",
    "clf = tree.DecisionTreeClassifier(criterion='entropy', max_depth=4)\n",
    "\n",
    "t_data = data[data.columns[0:4]]\n",
    "t_target = data[data.columns[4]]\n",
    "\n",
    "# Fit model to data\n",
    "clf = clf.fit(t_data, t_target)\n",
    "t_data,t_target,clf"
   ],
   "execution_count": null,
   "outputs": []
  },
  {
   "cell_type": "code",
   "metadata": {
    "colab": {
     "base_uri": "https://localhost:8080/"
    },
    "id": "kdEyOe4Voi37",
    "executionInfo": {
     "status": "ok",
     "timestamp": 1624938600380,
     "user_tz": 300,
     "elapsed": 274,
     "user": {
      "displayName": "bernarda sandoval",
      "photoUrl": "",
      "userId": "13411305394088946203"
     }
    },
    "outputId": "c7061c8f-3ac5-4c7a-c151-661e3b0e36cb",
    "pycharm": {
     "name": "#%%\n"
    }
   },
   "source": [
    "from sklearn import tree\n",
    "from sklearn import preprocessing\n",
    "\n",
    "quemadura_test = pd.read_csv(\"arbQuemaduraTest.csv\",index_col=0)\n",
    "data = pd.DataFrame()\n",
    "data1 = pd.DataFrame()\n",
    "#Transformar a valores numeicos\n",
    "le = preprocessing.LabelEncoder()\n",
    "\n",
    "var = [\"Pelo\", \"Altura\", \"Peso\", \"Proteccion\", \"Quemadura\"]\n",
    "for v in var:\n",
    "    le.fit(quemadura_data[v])\n",
    "    data[v] = le.transform(quemadura_data[v])\n",
    "    data1[v] = le.transform(quemadura_test[v])\n",
    "\n",
    "# Build tree\n",
    "clf = tree.DecisionTreeClassifier(criterion='entropy', max_depth=4)\n",
    "\n",
    "t_data = data[data.columns[0:4]]\n",
    "t_target = data[data.columns[4]]\n",
    "\n",
    "# Fit model to data\n",
    "clf = clf.fit(t_data, t_target)\n",
    "X_test = data1[data1.columns[0:4]]\n",
    "y_pred = clf.predict(X_test)\n",
    "y_pred\n"
   ],
   "execution_count": null,
   "outputs": []
  }
 ]
}