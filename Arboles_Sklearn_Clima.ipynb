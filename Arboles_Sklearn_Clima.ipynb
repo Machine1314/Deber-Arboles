{
 "nbformat": 4,
 "nbformat_minor": 0,
 "metadata": {
  "colab": {
   "name": "ArbolesP1.ipynb",
   "provenance": [],
   "authorship_tag": "ABX9TyPkqIleCALBW1cvGY3X6MuL"
  },
  "kernelspec": {
   "name": "python3",
   "display_name": "Python 3"
  },
  "language_info": {
   "name": "python"
  }
 },
 "cells": [
  {
   "cell_type": "code",
   "execution_count": 3,
   "outputs": [],
   "source": [
    "import numpy as np\n",
    "import pandas as pd\n",
    "from sklearn import tree\n",
    "import graphviz\n",
    "from sklearn import preprocessing\n",
    "labelsWeather = ['Tiempo', 'Temperatura', 'Humedad', 'Viento', 'Juega']"
   ],
   "metadata": {
    "collapsed": false,
    "pycharm": {
     "name": "#%%\n"
    }
   }
  },
  {
   "cell_type": "code",
   "execution_count": 4,
   "outputs": [],
   "source": [
    "weather_data = pd.read_csv(\"weather.csv\",index_col=0)"
   ],
   "metadata": {
    "collapsed": false,
    "pycharm": {
     "name": "#%%\n"
    }
   }
  },
  {
   "cell_type": "code",
   "execution_count": 5,
   "outputs": [
    {
     "data": {
      "text/plain": "           Tiempo Temperatura Humedad Viento Juega\nEjemplo                                           \n1         Soleado        Alta    Alta     No     N\n2         Soleado        Alta    Alta     Si     N\n3         Nubloso        Alta    Alta     No     P\n4        Lluvioso       Media    Alta     No     P\n5        Lluvioso       Media  Normal     No     P",
      "text/html": "<div>\n<style scoped>\n    .dataframe tbody tr th:only-of-type {\n        vertical-align: middle;\n    }\n\n    .dataframe tbody tr th {\n        vertical-align: top;\n    }\n\n    .dataframe thead th {\n        text-align: right;\n    }\n</style>\n<table border=\"1\" class=\"dataframe\">\n  <thead>\n    <tr style=\"text-align: right;\">\n      <th></th>\n      <th>Tiempo</th>\n      <th>Temperatura</th>\n      <th>Humedad</th>\n      <th>Viento</th>\n      <th>Juega</th>\n    </tr>\n    <tr>\n      <th>Ejemplo</th>\n      <th></th>\n      <th></th>\n      <th></th>\n      <th></th>\n      <th></th>\n    </tr>\n  </thead>\n  <tbody>\n    <tr>\n      <th>1</th>\n      <td>Soleado</td>\n      <td>Alta</td>\n      <td>Alta</td>\n      <td>No</td>\n      <td>N</td>\n    </tr>\n    <tr>\n      <th>2</th>\n      <td>Soleado</td>\n      <td>Alta</td>\n      <td>Alta</td>\n      <td>Si</td>\n      <td>N</td>\n    </tr>\n    <tr>\n      <th>3</th>\n      <td>Nubloso</td>\n      <td>Alta</td>\n      <td>Alta</td>\n      <td>No</td>\n      <td>P</td>\n    </tr>\n    <tr>\n      <th>4</th>\n      <td>Lluvioso</td>\n      <td>Media</td>\n      <td>Alta</td>\n      <td>No</td>\n      <td>P</td>\n    </tr>\n    <tr>\n      <th>5</th>\n      <td>Lluvioso</td>\n      <td>Media</td>\n      <td>Normal</td>\n      <td>No</td>\n      <td>P</td>\n    </tr>\n  </tbody>\n</table>\n</div>"
     },
     "execution_count": 5,
     "metadata": {},
     "output_type": "execute_result"
    }
   ],
   "source": [
    "weather_data.head()"
   ],
   "metadata": {
    "collapsed": false,
    "pycharm": {
     "name": "#%%\n"
    }
   }
  },
  {
   "cell_type": "code",
   "execution_count": 6,
   "outputs": [],
   "source": [
    "#calcular la entropia\n",
    "def calcular_entropia(p):\n",
    "  return -np.sum(p*np.log2(p))"
   ],
   "metadata": {
    "collapsed": false,
    "pycharm": {
     "name": "#%%\n"
    }
   }
  },
  {
   "cell_type": "markdown",
   "source": [
    "# Clima\n"
   ],
   "metadata": {
    "collapsed": false,
    "pycharm": {
     "name": "#%% md\n"
    }
   }
  },
  {
   "cell_type": "code",
   "execution_count": 7,
   "outputs": [
    {
     "data": {
      "text/plain": "(    Tiempo  Temperatura  Humedad  Viento\n 0        2            0        0       0\n 1        2            0        0       1\n 2        1            0        0       0\n 3        0            2        0       0\n 4        0            2        1       0\n 5        0            1        1       1\n 6        1            1        1       1\n 7        2            2        0       0\n 8        2            1        1       0\n 9        0            2        1       0\n 10       2            2        1       1\n 11       1            2        0       1\n 12       1            0        1       0\n 13       0            2        0       1,\n 0     0\n 1     0\n 2     1\n 3     1\n 4     1\n 5     0\n 6     1\n 7     0\n 8     1\n 9     1\n 10    1\n 11    1\n 12    1\n 13    0\n Name: Juega, dtype: int32,\n DecisionTreeClassifier(criterion='entropy', max_depth=4))"
     },
     "execution_count": 7,
     "metadata": {},
     "output_type": "execute_result"
    }
   ],
   "source": [
    "data_weather = pd.DataFrame()\n",
    "le_w = preprocessing.LabelEncoder()\n",
    "\n",
    "for v in labelsWeather:\n",
    "    le_w.fit(weather_data[v])\n",
    "    data_weather[v] = le_w.transform(weather_data[v])\n",
    "\n",
    "#construir el arbol\n",
    "clf_w = tree.DecisionTreeClassifier(criterion = 'entropy',max_depth=4)\n",
    "\n",
    "t_data = data_weather[data_weather.columns[0:4]]\n",
    "t_respuesta = data_weather[data_weather.columns[4]]\n",
    "\n",
    "#crear el modelo\n",
    "clf_w = clf_w.fit(t_data, t_respuesta)\n",
    "t_data,t_respuesta,clf_w"
   ],
   "metadata": {
    "collapsed": false,
    "pycharm": {
     "name": "#%%\n"
    }
   }
  },
  {
   "cell_type": "code",
   "execution_count": 8,
   "outputs": [
    {
     "data": {
      "image/svg+xml": "<?xml version=\"1.0\" encoding=\"UTF-8\" standalone=\"no\"?>\n<!DOCTYPE svg PUBLIC \"-//W3C//DTD SVG 1.1//EN\"\n \"http://www.w3.org/Graphics/SVG/1.1/DTD/svg11.dtd\">\n<!-- Generated by graphviz version 4.0.0 (20220529.0937)\n -->\n<!-- Title: Tree Pages: 1 -->\n<svg width=\"696pt\" height=\"552pt\"\n viewBox=\"0.00 0.00 696.00 552.00\" xmlns=\"http://www.w3.org/2000/svg\" xmlns:xlink=\"http://www.w3.org/1999/xlink\">\n<g id=\"graph0\" class=\"graph\" transform=\"scale(1 1) rotate(0) translate(4 548)\">\n<title>Tree</title>\n<polygon fill=\"white\" stroke=\"transparent\" points=\"-4,4 -4,-548 692,-548 692,4 -4,4\"/>\n<!-- 0 -->\n<g id=\"node1\" class=\"node\">\n<title>0</title>\n<path fill=\"#a7d3f3\" stroke=\"black\" d=\"M394,-544C394,-544 297,-544 297,-544 291,-544 285,-538 285,-532 285,-532 285,-473 285,-473 285,-467 291,-461 297,-461 297,-461 394,-461 394,-461 400,-461 406,-467 406,-473 406,-473 406,-532 406,-532 406,-538 400,-544 394,-544\"/>\n<text text-anchor=\"start\" x=\"297\" y=\"-528.8\" font-family=\"Helvetica,sans-Serif\" font-size=\"14.00\">Humedad ≤ 0.5</text>\n<text text-anchor=\"start\" x=\"299.5\" y=\"-513.8\" font-family=\"Helvetica,sans-Serif\" font-size=\"14.00\">entropy = 0.94</text>\n<text text-anchor=\"start\" x=\"302\" y=\"-498.8\" font-family=\"Helvetica,sans-Serif\" font-size=\"14.00\">samples = 14</text>\n<text text-anchor=\"start\" x=\"305\" y=\"-483.8\" font-family=\"Helvetica,sans-Serif\" font-size=\"14.00\">value = [5, 9]</text>\n<text text-anchor=\"start\" x=\"293\" y=\"-468.8\" font-family=\"Helvetica,sans-Serif\" font-size=\"14.00\">class = Si Juega</text>\n</g>\n<!-- 1 -->\n<g id=\"node2\" class=\"node\">\n<title>1</title>\n<path fill=\"#f8e0ce\" stroke=\"black\" d=\"M325.5,-425C325.5,-425 223.5,-425 223.5,-425 217.5,-425 211.5,-419 211.5,-413 211.5,-413 211.5,-354 211.5,-354 211.5,-348 217.5,-342 223.5,-342 223.5,-342 325.5,-342 325.5,-342 331.5,-342 337.5,-348 337.5,-354 337.5,-354 337.5,-413 337.5,-413 337.5,-419 331.5,-425 325.5,-425\"/>\n<text text-anchor=\"start\" x=\"232\" y=\"-409.8\" font-family=\"Helvetica,sans-Serif\" font-size=\"14.00\">Tiempo ≤ 1.5</text>\n<text text-anchor=\"start\" x=\"224.5\" y=\"-394.8\" font-family=\"Helvetica,sans-Serif\" font-size=\"14.00\">entropy = 0.985</text>\n<text text-anchor=\"start\" x=\"235\" y=\"-379.8\" font-family=\"Helvetica,sans-Serif\" font-size=\"14.00\">samples = 7</text>\n<text text-anchor=\"start\" x=\"234\" y=\"-364.8\" font-family=\"Helvetica,sans-Serif\" font-size=\"14.00\">value = [4, 3]</text>\n<text text-anchor=\"start\" x=\"219.5\" y=\"-349.8\" font-family=\"Helvetica,sans-Serif\" font-size=\"14.00\">class = No Juega</text>\n</g>\n<!-- 0&#45;&gt;1 -->\n<g id=\"edge1\" class=\"edge\">\n<title>0&#45;&gt;1</title>\n<path fill=\"none\" stroke=\"black\" d=\"M320.87,-460.91C315.53,-452.1 309.82,-442.7 304.3,-433.61\"/>\n<polygon fill=\"black\" stroke=\"black\" points=\"307.27,-431.75 299.09,-425.02 301.29,-435.39 307.27,-431.75\"/>\n<text text-anchor=\"middle\" x=\"293.15\" y=\"-445.6\" font-family=\"Helvetica,sans-Serif\" font-size=\"14.00\">True</text>\n</g>\n<!-- 8 -->\n<g id=\"node9\" class=\"node\">\n<title>8</title>\n<path fill=\"#5aade9\" stroke=\"black\" d=\"M465,-425C465,-425 368,-425 368,-425 362,-425 356,-419 356,-413 356,-413 356,-354 356,-354 356,-348 362,-342 368,-342 368,-342 465,-342 465,-342 471,-342 477,-348 477,-354 477,-354 477,-413 477,-413 477,-419 471,-425 465,-425\"/>\n<text text-anchor=\"start\" x=\"378.5\" y=\"-409.8\" font-family=\"Helvetica,sans-Serif\" font-size=\"14.00\">Viento ≤ 0.5</text>\n<text text-anchor=\"start\" x=\"366.5\" y=\"-394.8\" font-family=\"Helvetica,sans-Serif\" font-size=\"14.00\">entropy = 0.592</text>\n<text text-anchor=\"start\" x=\"377\" y=\"-379.8\" font-family=\"Helvetica,sans-Serif\" font-size=\"14.00\">samples = 7</text>\n<text text-anchor=\"start\" x=\"376\" y=\"-364.8\" font-family=\"Helvetica,sans-Serif\" font-size=\"14.00\">value = [1, 6]</text>\n<text text-anchor=\"start\" x=\"364\" y=\"-349.8\" font-family=\"Helvetica,sans-Serif\" font-size=\"14.00\">class = Si Juega</text>\n</g>\n<!-- 0&#45;&gt;8 -->\n<g id=\"edge8\" class=\"edge\">\n<title>0&#45;&gt;8</title>\n<path fill=\"none\" stroke=\"black\" d=\"M370.13,-460.91C375.47,-452.1 381.18,-442.7 386.7,-433.61\"/>\n<polygon fill=\"black\" stroke=\"black\" points=\"389.71,-435.39 391.91,-425.02 383.73,-431.75 389.71,-435.39\"/>\n<text text-anchor=\"middle\" x=\"397.85\" y=\"-445.6\" font-family=\"Helvetica,sans-Serif\" font-size=\"14.00\">False</text>\n</g>\n<!-- 2 -->\n<g id=\"node3\" class=\"node\">\n<title>2</title>\n<path fill=\"#7bbeee\" stroke=\"black\" d=\"M181,-306C181,-306 84,-306 84,-306 78,-306 72,-300 72,-294 72,-294 72,-235 72,-235 72,-229 78,-223 84,-223 84,-223 181,-223 181,-223 187,-223 193,-229 193,-235 193,-235 193,-294 193,-294 193,-300 187,-306 181,-306\"/>\n<text text-anchor=\"start\" x=\"90\" y=\"-290.8\" font-family=\"Helvetica,sans-Serif\" font-size=\"14.00\">Tiempo ≤ 0.5</text>\n<text text-anchor=\"start\" x=\"82.5\" y=\"-275.8\" font-family=\"Helvetica,sans-Serif\" font-size=\"14.00\">entropy = 0.811</text>\n<text text-anchor=\"start\" x=\"93\" y=\"-260.8\" font-family=\"Helvetica,sans-Serif\" font-size=\"14.00\">samples = 4</text>\n<text text-anchor=\"start\" x=\"92\" y=\"-245.8\" font-family=\"Helvetica,sans-Serif\" font-size=\"14.00\">value = [1, 3]</text>\n<text text-anchor=\"start\" x=\"80\" y=\"-230.8\" font-family=\"Helvetica,sans-Serif\" font-size=\"14.00\">class = Si Juega</text>\n</g>\n<!-- 1&#45;&gt;2 -->\n<g id=\"edge2\" class=\"edge\">\n<title>1&#45;&gt;2</title>\n<path fill=\"none\" stroke=\"black\" d=\"M225.23,-341.91C213.78,-332.47 201.49,-322.34 189.72,-312.65\"/>\n<polygon fill=\"black\" stroke=\"black\" points=\"191.62,-309.68 181.68,-306.02 187.17,-315.08 191.62,-309.68\"/>\n</g>\n<!-- 7 -->\n<g id=\"node8\" class=\"node\">\n<title>7</title>\n<path fill=\"#e58139\" stroke=\"black\" d=\"M325.5,-298.5C325.5,-298.5 223.5,-298.5 223.5,-298.5 217.5,-298.5 211.5,-292.5 211.5,-286.5 211.5,-286.5 211.5,-242.5 211.5,-242.5 211.5,-236.5 217.5,-230.5 223.5,-230.5 223.5,-230.5 325.5,-230.5 325.5,-230.5 331.5,-230.5 337.5,-236.5 337.5,-242.5 337.5,-242.5 337.5,-286.5 337.5,-286.5 337.5,-292.5 331.5,-298.5 325.5,-298.5\"/>\n<text text-anchor=\"start\" x=\"232.5\" y=\"-283.3\" font-family=\"Helvetica,sans-Serif\" font-size=\"14.00\">entropy = 0.0</text>\n<text text-anchor=\"start\" x=\"235\" y=\"-268.3\" font-family=\"Helvetica,sans-Serif\" font-size=\"14.00\">samples = 3</text>\n<text text-anchor=\"start\" x=\"234\" y=\"-253.3\" font-family=\"Helvetica,sans-Serif\" font-size=\"14.00\">value = [3, 0]</text>\n<text text-anchor=\"start\" x=\"219.5\" y=\"-238.3\" font-family=\"Helvetica,sans-Serif\" font-size=\"14.00\">class = No Juega</text>\n</g>\n<!-- 1&#45;&gt;7 -->\n<g id=\"edge7\" class=\"edge\">\n<title>1&#45;&gt;7</title>\n<path fill=\"none\" stroke=\"black\" d=\"M274.5,-341.91C274.5,-331.2 274.5,-319.62 274.5,-308.78\"/>\n<polygon fill=\"black\" stroke=\"black\" points=\"278,-308.67 274.5,-298.67 271,-308.67 278,-308.67\"/>\n</g>\n<!-- 3 -->\n<g id=\"node4\" class=\"node\">\n<title>3</title>\n<path fill=\"#ffffff\" stroke=\"black\" d=\"M182.5,-187C182.5,-187 80.5,-187 80.5,-187 74.5,-187 68.5,-181 68.5,-175 68.5,-175 68.5,-116 68.5,-116 68.5,-110 74.5,-104 80.5,-104 80.5,-104 182.5,-104 182.5,-104 188.5,-104 194.5,-110 194.5,-116 194.5,-116 194.5,-175 194.5,-175 194.5,-181 188.5,-187 182.5,-187\"/>\n<text text-anchor=\"start\" x=\"93.5\" y=\"-171.8\" font-family=\"Helvetica,sans-Serif\" font-size=\"14.00\">Viento ≤ 0.5</text>\n<text text-anchor=\"start\" x=\"89.5\" y=\"-156.8\" font-family=\"Helvetica,sans-Serif\" font-size=\"14.00\">entropy = 1.0</text>\n<text text-anchor=\"start\" x=\"92\" y=\"-141.8\" font-family=\"Helvetica,sans-Serif\" font-size=\"14.00\">samples = 2</text>\n<text text-anchor=\"start\" x=\"91\" y=\"-126.8\" font-family=\"Helvetica,sans-Serif\" font-size=\"14.00\">value = [1, 1]</text>\n<text text-anchor=\"start\" x=\"76.5\" y=\"-111.8\" font-family=\"Helvetica,sans-Serif\" font-size=\"14.00\">class = No Juega</text>\n</g>\n<!-- 2&#45;&gt;3 -->\n<g id=\"edge3\" class=\"edge\">\n<title>2&#45;&gt;3</title>\n<path fill=\"none\" stroke=\"black\" d=\"M132.15,-222.91C132.08,-214.65 132.01,-205.86 131.93,-197.3\"/>\n<polygon fill=\"black\" stroke=\"black\" points=\"135.43,-196.99 131.85,-187.02 128.43,-197.05 135.43,-196.99\"/>\n</g>\n<!-- 6 -->\n<g id=\"node7\" class=\"node\">\n<title>6</title>\n<path fill=\"#399de5\" stroke=\"black\" d=\"M322,-179.5C322,-179.5 225,-179.5 225,-179.5 219,-179.5 213,-173.5 213,-167.5 213,-167.5 213,-123.5 213,-123.5 213,-117.5 219,-111.5 225,-111.5 225,-111.5 322,-111.5 322,-111.5 328,-111.5 334,-117.5 334,-123.5 334,-123.5 334,-167.5 334,-167.5 334,-173.5 328,-179.5 322,-179.5\"/>\n<text text-anchor=\"start\" x=\"231.5\" y=\"-164.3\" font-family=\"Helvetica,sans-Serif\" font-size=\"14.00\">entropy = 0.0</text>\n<text text-anchor=\"start\" x=\"234\" y=\"-149.3\" font-family=\"Helvetica,sans-Serif\" font-size=\"14.00\">samples = 2</text>\n<text text-anchor=\"start\" x=\"233\" y=\"-134.3\" font-family=\"Helvetica,sans-Serif\" font-size=\"14.00\">value = [0, 2]</text>\n<text text-anchor=\"start\" x=\"221\" y=\"-119.3\" font-family=\"Helvetica,sans-Serif\" font-size=\"14.00\">class = Si Juega</text>\n</g>\n<!-- 2&#45;&gt;6 -->\n<g id=\"edge6\" class=\"edge\">\n<title>2&#45;&gt;6</title>\n<path fill=\"none\" stroke=\"black\" d=\"M181.42,-222.91C195.78,-210.99 211.47,-197.98 225.75,-186.12\"/>\n<polygon fill=\"black\" stroke=\"black\" points=\"228.07,-188.75 233.53,-179.67 223.6,-183.36 228.07,-188.75\"/>\n</g>\n<!-- 4 -->\n<g id=\"node5\" class=\"node\">\n<title>4</title>\n<path fill=\"#399de5\" stroke=\"black\" d=\"M109,-68C109,-68 12,-68 12,-68 6,-68 0,-62 0,-56 0,-56 0,-12 0,-12 0,-6 6,0 12,0 12,0 109,0 109,0 115,0 121,-6 121,-12 121,-12 121,-56 121,-56 121,-62 115,-68 109,-68\"/>\n<text text-anchor=\"start\" x=\"18.5\" y=\"-52.8\" font-family=\"Helvetica,sans-Serif\" font-size=\"14.00\">entropy = 0.0</text>\n<text text-anchor=\"start\" x=\"21\" y=\"-37.8\" font-family=\"Helvetica,sans-Serif\" font-size=\"14.00\">samples = 1</text>\n<text text-anchor=\"start\" x=\"20\" y=\"-22.8\" font-family=\"Helvetica,sans-Serif\" font-size=\"14.00\">value = [0, 1]</text>\n<text text-anchor=\"start\" x=\"8\" y=\"-7.8\" font-family=\"Helvetica,sans-Serif\" font-size=\"14.00\">class = Si Juega</text>\n</g>\n<!-- 3&#45;&gt;4 -->\n<g id=\"edge4\" class=\"edge\">\n<title>3&#45;&gt;4</title>\n<path fill=\"none\" stroke=\"black\" d=\"M105.06,-103.73C99.38,-94.97 93.38,-85.7 87.67,-76.91\"/>\n<polygon fill=\"black\" stroke=\"black\" points=\"90.47,-74.79 82.09,-68.3 84.6,-78.59 90.47,-74.79\"/>\n</g>\n<!-- 5 -->\n<g id=\"node6\" class=\"node\">\n<title>5</title>\n<path fill=\"#e58139\" stroke=\"black\" d=\"M253.5,-68C253.5,-68 151.5,-68 151.5,-68 145.5,-68 139.5,-62 139.5,-56 139.5,-56 139.5,-12 139.5,-12 139.5,-6 145.5,0 151.5,0 151.5,0 253.5,0 253.5,0 259.5,0 265.5,-6 265.5,-12 265.5,-12 265.5,-56 265.5,-56 265.5,-62 259.5,-68 253.5,-68\"/>\n<text text-anchor=\"start\" x=\"160.5\" y=\"-52.8\" font-family=\"Helvetica,sans-Serif\" font-size=\"14.00\">entropy = 0.0</text>\n<text text-anchor=\"start\" x=\"163\" y=\"-37.8\" font-family=\"Helvetica,sans-Serif\" font-size=\"14.00\">samples = 1</text>\n<text text-anchor=\"start\" x=\"162\" y=\"-22.8\" font-family=\"Helvetica,sans-Serif\" font-size=\"14.00\">value = [1, 0]</text>\n<text text-anchor=\"start\" x=\"147.5\" y=\"-7.8\" font-family=\"Helvetica,sans-Serif\" font-size=\"14.00\">class = No Juega</text>\n</g>\n<!-- 3&#45;&gt;5 -->\n<g id=\"edge5\" class=\"edge\">\n<title>3&#45;&gt;5</title>\n<path fill=\"none\" stroke=\"black\" d=\"M157.94,-103.73C163.62,-94.97 169.62,-85.7 175.33,-76.91\"/>\n<polygon fill=\"black\" stroke=\"black\" points=\"178.4,-78.59 180.91,-68.3 172.53,-74.79 178.4,-78.59\"/>\n</g>\n<!-- 9 -->\n<g id=\"node10\" class=\"node\">\n<title>9</title>\n<path fill=\"#399de5\" stroke=\"black\" d=\"M465,-298.5C465,-298.5 368,-298.5 368,-298.5 362,-298.5 356,-292.5 356,-286.5 356,-286.5 356,-242.5 356,-242.5 356,-236.5 362,-230.5 368,-230.5 368,-230.5 465,-230.5 465,-230.5 471,-230.5 477,-236.5 477,-242.5 477,-242.5 477,-286.5 477,-286.5 477,-292.5 471,-298.5 465,-298.5\"/>\n<text text-anchor=\"start\" x=\"374.5\" y=\"-283.3\" font-family=\"Helvetica,sans-Serif\" font-size=\"14.00\">entropy = 0.0</text>\n<text text-anchor=\"start\" x=\"377\" y=\"-268.3\" font-family=\"Helvetica,sans-Serif\" font-size=\"14.00\">samples = 4</text>\n<text text-anchor=\"start\" x=\"376\" y=\"-253.3\" font-family=\"Helvetica,sans-Serif\" font-size=\"14.00\">value = [0, 4]</text>\n<text text-anchor=\"start\" x=\"364\" y=\"-238.3\" font-family=\"Helvetica,sans-Serif\" font-size=\"14.00\">class = Si Juega</text>\n</g>\n<!-- 8&#45;&gt;9 -->\n<g id=\"edge9\" class=\"edge\">\n<title>8&#45;&gt;9</title>\n<path fill=\"none\" stroke=\"black\" d=\"M416.5,-341.91C416.5,-331.2 416.5,-319.62 416.5,-308.78\"/>\n<polygon fill=\"black\" stroke=\"black\" points=\"420,-308.67 416.5,-298.67 413,-308.67 420,-308.67\"/>\n</g>\n<!-- 10 -->\n<g id=\"node11\" class=\"node\">\n<title>10</title>\n<path fill=\"#9ccef2\" stroke=\"black\" d=\"M604,-306C604,-306 507,-306 507,-306 501,-306 495,-300 495,-294 495,-294 495,-235 495,-235 495,-229 501,-223 507,-223 507,-223 604,-223 604,-223 610,-223 616,-229 616,-235 616,-235 616,-294 616,-294 616,-300 610,-306 604,-306\"/>\n<text text-anchor=\"start\" x=\"513\" y=\"-290.8\" font-family=\"Helvetica,sans-Serif\" font-size=\"14.00\">Tiempo ≤ 0.5</text>\n<text text-anchor=\"start\" x=\"505.5\" y=\"-275.8\" font-family=\"Helvetica,sans-Serif\" font-size=\"14.00\">entropy = 0.918</text>\n<text text-anchor=\"start\" x=\"516\" y=\"-260.8\" font-family=\"Helvetica,sans-Serif\" font-size=\"14.00\">samples = 3</text>\n<text text-anchor=\"start\" x=\"515\" y=\"-245.8\" font-family=\"Helvetica,sans-Serif\" font-size=\"14.00\">value = [1, 2]</text>\n<text text-anchor=\"start\" x=\"503\" y=\"-230.8\" font-family=\"Helvetica,sans-Serif\" font-size=\"14.00\">class = Si Juega</text>\n</g>\n<!-- 8&#45;&gt;10 -->\n<g id=\"edge10\" class=\"edge\">\n<title>8&#45;&gt;10</title>\n<path fill=\"none\" stroke=\"black\" d=\"M464.73,-341.91C475.94,-332.47 487.97,-322.34 499.49,-312.65\"/>\n<polygon fill=\"black\" stroke=\"black\" points=\"501.96,-315.14 507.36,-306.02 497.46,-309.78 501.96,-315.14\"/>\n</g>\n<!-- 11 -->\n<g id=\"node12\" class=\"node\">\n<title>11</title>\n<path fill=\"#e58139\" stroke=\"black\" d=\"M536.5,-179.5C536.5,-179.5 434.5,-179.5 434.5,-179.5 428.5,-179.5 422.5,-173.5 422.5,-167.5 422.5,-167.5 422.5,-123.5 422.5,-123.5 422.5,-117.5 428.5,-111.5 434.5,-111.5 434.5,-111.5 536.5,-111.5 536.5,-111.5 542.5,-111.5 548.5,-117.5 548.5,-123.5 548.5,-123.5 548.5,-167.5 548.5,-167.5 548.5,-173.5 542.5,-179.5 536.5,-179.5\"/>\n<text text-anchor=\"start\" x=\"443.5\" y=\"-164.3\" font-family=\"Helvetica,sans-Serif\" font-size=\"14.00\">entropy = 0.0</text>\n<text text-anchor=\"start\" x=\"446\" y=\"-149.3\" font-family=\"Helvetica,sans-Serif\" font-size=\"14.00\">samples = 1</text>\n<text text-anchor=\"start\" x=\"445\" y=\"-134.3\" font-family=\"Helvetica,sans-Serif\" font-size=\"14.00\">value = [1, 0]</text>\n<text text-anchor=\"start\" x=\"430.5\" y=\"-119.3\" font-family=\"Helvetica,sans-Serif\" font-size=\"14.00\">class = No Juega</text>\n</g>\n<!-- 10&#45;&gt;11 -->\n<g id=\"edge11\" class=\"edge\">\n<title>10&#45;&gt;11</title>\n<path fill=\"none\" stroke=\"black\" d=\"M531.21,-222.91C524.55,-211.76 517.3,-199.66 510.59,-188.44\"/>\n<polygon fill=\"black\" stroke=\"black\" points=\"513.48,-186.45 505.34,-179.67 507.47,-190.05 513.48,-186.45\"/>\n</g>\n<!-- 12 -->\n<g id=\"node13\" class=\"node\">\n<title>12</title>\n<path fill=\"#399de5\" stroke=\"black\" d=\"M676,-179.5C676,-179.5 579,-179.5 579,-179.5 573,-179.5 567,-173.5 567,-167.5 567,-167.5 567,-123.5 567,-123.5 567,-117.5 573,-111.5 579,-111.5 579,-111.5 676,-111.5 676,-111.5 682,-111.5 688,-117.5 688,-123.5 688,-123.5 688,-167.5 688,-167.5 688,-173.5 682,-179.5 676,-179.5\"/>\n<text text-anchor=\"start\" x=\"585.5\" y=\"-164.3\" font-family=\"Helvetica,sans-Serif\" font-size=\"14.00\">entropy = 0.0</text>\n<text text-anchor=\"start\" x=\"588\" y=\"-149.3\" font-family=\"Helvetica,sans-Serif\" font-size=\"14.00\">samples = 2</text>\n<text text-anchor=\"start\" x=\"587\" y=\"-134.3\" font-family=\"Helvetica,sans-Serif\" font-size=\"14.00\">value = [0, 2]</text>\n<text text-anchor=\"start\" x=\"575\" y=\"-119.3\" font-family=\"Helvetica,sans-Serif\" font-size=\"14.00\">class = Si Juega</text>\n</g>\n<!-- 10&#45;&gt;12 -->\n<g id=\"edge12\" class=\"edge\">\n<title>10&#45;&gt;12</title>\n<path fill=\"none\" stroke=\"black\" d=\"M580.48,-222.91C587.34,-211.76 594.79,-199.66 601.69,-188.44\"/>\n<polygon fill=\"black\" stroke=\"black\" points=\"604.83,-190.02 607.09,-179.67 598.87,-186.35 604.83,-190.02\"/>\n</g>\n</g>\n</svg>\n",
      "text/plain": "<graphviz.sources.Source at 0x21b433b3e50>"
     },
     "execution_count": 8,
     "metadata": {},
     "output_type": "execute_result"
    }
   ],
   "source": [
    "import graphviz\n",
    "dot_data = tree.export_graphviz(clf_w, out_file=None,\n",
    "                         feature_names=list(t_data.columns.values),\n",
    "                         class_names=[\"No Juega\", \"Si Juega\"],\n",
    "                         filled=True, rounded=True,\n",
    "                         special_characters=True)\n",
    "graph = graphviz.Source(dot_data)\n",
    "graph"
   ],
   "metadata": {
    "collapsed": false,
    "pycharm": {
     "name": "#%%\n"
    }
   }
  },
  {
   "cell_type": "code",
   "execution_count": 9,
   "outputs": [
    {
     "data": {
      "image/svg+xml": "<?xml version=\"1.0\" encoding=\"UTF-8\" standalone=\"no\"?>\n<!DOCTYPE svg PUBLIC \"-//W3C//DTD SVG 1.1//EN\"\n \"http://www.w3.org/Graphics/SVG/1.1/DTD/svg11.dtd\">\n<!-- Generated by graphviz version 4.0.0 (20220529.0937)\n -->\n<!-- Title: Tree Pages: 1 -->\n<svg width=\"664pt\" height=\"433pt\"\n viewBox=\"0.00 0.00 664.00 433.00\" xmlns=\"http://www.w3.org/2000/svg\" xmlns:xlink=\"http://www.w3.org/1999/xlink\">\n<g id=\"graph0\" class=\"graph\" transform=\"scale(1 1) rotate(0) translate(4 429)\">\n<title>Tree</title>\n<polygon fill=\"white\" stroke=\"transparent\" points=\"-4,4 -4,-429 660,-429 660,4 -4,4\"/>\n<!-- 0 -->\n<g id=\"node1\" class=\"node\">\n<title>0</title>\n<path fill=\"#a7d3f3\" stroke=\"black\" d=\"M427.5,-425C427.5,-425 330.5,-425 330.5,-425 324.5,-425 318.5,-419 318.5,-413 318.5,-413 318.5,-354 318.5,-354 318.5,-348 324.5,-342 330.5,-342 330.5,-342 427.5,-342 427.5,-342 433.5,-342 439.5,-348 439.5,-354 439.5,-354 439.5,-413 439.5,-413 439.5,-419 433.5,-425 427.5,-425\"/>\n<text text-anchor=\"start\" x=\"330.5\" y=\"-409.8\" font-family=\"Helvetica,sans-Serif\" font-size=\"14.00\">Humedad ≤ 0.5</text>\n<text text-anchor=\"start\" x=\"333\" y=\"-394.8\" font-family=\"Helvetica,sans-Serif\" font-size=\"14.00\">entropy = 0.94</text>\n<text text-anchor=\"start\" x=\"335.5\" y=\"-379.8\" font-family=\"Helvetica,sans-Serif\" font-size=\"14.00\">samples = 14</text>\n<text text-anchor=\"start\" x=\"338.5\" y=\"-364.8\" font-family=\"Helvetica,sans-Serif\" font-size=\"14.00\">value = [5, 9]</text>\n<text text-anchor=\"start\" x=\"326.5\" y=\"-349.8\" font-family=\"Helvetica,sans-Serif\" font-size=\"14.00\">class = Si Juega</text>\n</g>\n<!-- 1 -->\n<g id=\"node2\" class=\"node\">\n<title>1</title>\n<path fill=\"#5aade9\" stroke=\"black\" d=\"M359.5,-306C359.5,-306 250.5,-306 250.5,-306 244.5,-306 238.5,-300 238.5,-294 238.5,-294 238.5,-235 238.5,-235 238.5,-229 244.5,-223 250.5,-223 250.5,-223 359.5,-223 359.5,-223 365.5,-223 371.5,-229 371.5,-235 371.5,-235 371.5,-294 371.5,-294 371.5,-300 365.5,-306 359.5,-306\"/>\n<text text-anchor=\"start\" x=\"246.5\" y=\"-290.8\" font-family=\"Helvetica,sans-Serif\" font-size=\"14.00\">Temperatura ≤ 0.5</text>\n<text text-anchor=\"start\" x=\"255\" y=\"-275.8\" font-family=\"Helvetica,sans-Serif\" font-size=\"14.00\">entropy = 0.592</text>\n<text text-anchor=\"start\" x=\"265.5\" y=\"-260.8\" font-family=\"Helvetica,sans-Serif\" font-size=\"14.00\">samples = 7</text>\n<text text-anchor=\"start\" x=\"264.5\" y=\"-245.8\" font-family=\"Helvetica,sans-Serif\" font-size=\"14.00\">value = [1, 6]</text>\n<text text-anchor=\"start\" x=\"252.5\" y=\"-230.8\" font-family=\"Helvetica,sans-Serif\" font-size=\"14.00\">class = Si Juega</text>\n</g>\n<!-- 0&#45;&gt;1 -->\n<g id=\"edge1\" class=\"edge\">\n<title>0&#45;&gt;1</title>\n<path fill=\"none\" stroke=\"black\" d=\"M353.33,-341.91C347.76,-333.1 341.81,-323.7 336.06,-314.61\"/>\n<polygon fill=\"black\" stroke=\"black\" points=\"338.93,-312.6 330.63,-306.02 333.02,-316.34 338.93,-312.6\"/>\n<text text-anchor=\"middle\" x=\"325.14\" y=\"-326.71\" font-family=\"Helvetica,sans-Serif\" font-size=\"14.00\">True</text>\n</g>\n<!-- 6 -->\n<g id=\"node7\" class=\"node\">\n<title>6</title>\n<path fill=\"#f8e0ce\" stroke=\"black\" d=\"M504,-306C504,-306 402,-306 402,-306 396,-306 390,-300 390,-294 390,-294 390,-235 390,-235 390,-229 396,-223 402,-223 402,-223 504,-223 504,-223 510,-223 516,-229 516,-235 516,-235 516,-294 516,-294 516,-300 510,-306 504,-306\"/>\n<text text-anchor=\"start\" x=\"410.5\" y=\"-290.8\" font-family=\"Helvetica,sans-Serif\" font-size=\"14.00\">Tiempo ≤ 1.5</text>\n<text text-anchor=\"start\" x=\"403\" y=\"-275.8\" font-family=\"Helvetica,sans-Serif\" font-size=\"14.00\">entropy = 0.985</text>\n<text text-anchor=\"start\" x=\"413.5\" y=\"-260.8\" font-family=\"Helvetica,sans-Serif\" font-size=\"14.00\">samples = 7</text>\n<text text-anchor=\"start\" x=\"412.5\" y=\"-245.8\" font-family=\"Helvetica,sans-Serif\" font-size=\"14.00\">value = [4, 3]</text>\n<text text-anchor=\"start\" x=\"398\" y=\"-230.8\" font-family=\"Helvetica,sans-Serif\" font-size=\"14.00\">class = No Juega</text>\n</g>\n<!-- 0&#45;&gt;6 -->\n<g id=\"edge6\" class=\"edge\">\n<title>0&#45;&gt;6</title>\n<path fill=\"none\" stroke=\"black\" d=\"M404.67,-341.91C410.24,-333.1 416.19,-323.7 421.94,-314.61\"/>\n<polygon fill=\"black\" stroke=\"black\" points=\"424.98,-316.34 427.37,-306.02 419.07,-312.6 424.98,-316.34\"/>\n<text text-anchor=\"middle\" x=\"432.86\" y=\"-326.71\" font-family=\"Helvetica,sans-Serif\" font-size=\"14.00\">False</text>\n</g>\n<!-- 2 -->\n<g id=\"node3\" class=\"node\">\n<title>2</title>\n<path fill=\"#9ccef2\" stroke=\"black\" d=\"M217.5,-187C217.5,-187 120.5,-187 120.5,-187 114.5,-187 108.5,-181 108.5,-175 108.5,-175 108.5,-116 108.5,-116 108.5,-110 114.5,-104 120.5,-104 120.5,-104 217.5,-104 217.5,-104 223.5,-104 229.5,-110 229.5,-116 229.5,-116 229.5,-175 229.5,-175 229.5,-181 223.5,-187 217.5,-187\"/>\n<text text-anchor=\"start\" x=\"126.5\" y=\"-171.8\" font-family=\"Helvetica,sans-Serif\" font-size=\"14.00\">Tiempo ≤ 0.5</text>\n<text text-anchor=\"start\" x=\"119\" y=\"-156.8\" font-family=\"Helvetica,sans-Serif\" font-size=\"14.00\">entropy = 0.918</text>\n<text text-anchor=\"start\" x=\"129.5\" y=\"-141.8\" font-family=\"Helvetica,sans-Serif\" font-size=\"14.00\">samples = 3</text>\n<text text-anchor=\"start\" x=\"128.5\" y=\"-126.8\" font-family=\"Helvetica,sans-Serif\" font-size=\"14.00\">value = [1, 2]</text>\n<text text-anchor=\"start\" x=\"116.5\" y=\"-111.8\" font-family=\"Helvetica,sans-Serif\" font-size=\"14.00\">class = Si Juega</text>\n</g>\n<!-- 1&#45;&gt;2 -->\n<g id=\"edge2\" class=\"edge\">\n<title>1&#45;&gt;2</title>\n<path fill=\"none\" stroke=\"black\" d=\"M257.82,-222.91C246.84,-213.47 235.07,-203.34 223.81,-193.65\"/>\n<polygon fill=\"black\" stroke=\"black\" points=\"225.96,-190.89 216.1,-187.02 221.4,-196.2 225.96,-190.89\"/>\n</g>\n<!-- 5 -->\n<g id=\"node6\" class=\"node\">\n<title>5</title>\n<path fill=\"#399de5\" stroke=\"black\" d=\"M356.5,-179.5C356.5,-179.5 259.5,-179.5 259.5,-179.5 253.5,-179.5 247.5,-173.5 247.5,-167.5 247.5,-167.5 247.5,-123.5 247.5,-123.5 247.5,-117.5 253.5,-111.5 259.5,-111.5 259.5,-111.5 356.5,-111.5 356.5,-111.5 362.5,-111.5 368.5,-117.5 368.5,-123.5 368.5,-123.5 368.5,-167.5 368.5,-167.5 368.5,-173.5 362.5,-179.5 356.5,-179.5\"/>\n<text text-anchor=\"start\" x=\"266\" y=\"-164.3\" font-family=\"Helvetica,sans-Serif\" font-size=\"14.00\">entropy = 0.0</text>\n<text text-anchor=\"start\" x=\"268.5\" y=\"-149.3\" font-family=\"Helvetica,sans-Serif\" font-size=\"14.00\">samples = 4</text>\n<text text-anchor=\"start\" x=\"267.5\" y=\"-134.3\" font-family=\"Helvetica,sans-Serif\" font-size=\"14.00\">value = [0, 4]</text>\n<text text-anchor=\"start\" x=\"255.5\" y=\"-119.3\" font-family=\"Helvetica,sans-Serif\" font-size=\"14.00\">class = Si Juega</text>\n</g>\n<!-- 1&#45;&gt;5 -->\n<g id=\"edge5\" class=\"edge\">\n<title>1&#45;&gt;5</title>\n<path fill=\"none\" stroke=\"black\" d=\"M306.04,-222.91C306.32,-212.2 306.61,-200.62 306.89,-189.78\"/>\n<polygon fill=\"black\" stroke=\"black\" points=\"310.39,-189.75 307.15,-179.67 303.39,-189.57 310.39,-189.75\"/>\n</g>\n<!-- 3 -->\n<g id=\"node4\" class=\"node\">\n<title>3</title>\n<path fill=\"#e58139\" stroke=\"black\" d=\"M114,-68C114,-68 12,-68 12,-68 6,-68 0,-62 0,-56 0,-56 0,-12 0,-12 0,-6 6,0 12,0 12,0 114,0 114,0 120,0 126,-6 126,-12 126,-12 126,-56 126,-56 126,-62 120,-68 114,-68\"/>\n<text text-anchor=\"start\" x=\"21\" y=\"-52.8\" font-family=\"Helvetica,sans-Serif\" font-size=\"14.00\">entropy = 0.0</text>\n<text text-anchor=\"start\" x=\"23.5\" y=\"-37.8\" font-family=\"Helvetica,sans-Serif\" font-size=\"14.00\">samples = 1</text>\n<text text-anchor=\"start\" x=\"22.5\" y=\"-22.8\" font-family=\"Helvetica,sans-Serif\" font-size=\"14.00\">value = [1, 0]</text>\n<text text-anchor=\"start\" x=\"8\" y=\"-7.8\" font-family=\"Helvetica,sans-Serif\" font-size=\"14.00\">class = No Juega</text>\n</g>\n<!-- 2&#45;&gt;3 -->\n<g id=\"edge3\" class=\"edge\">\n<title>2&#45;&gt;3</title>\n<path fill=\"none\" stroke=\"black\" d=\"M129.53,-103.73C120.61,-94.51 111.15,-84.74 102.24,-75.53\"/>\n<polygon fill=\"black\" stroke=\"black\" points=\"104.71,-73.05 95.24,-68.3 99.68,-77.92 104.71,-73.05\"/>\n</g>\n<!-- 4 -->\n<g id=\"node5\" class=\"node\">\n<title>4</title>\n<path fill=\"#399de5\" stroke=\"black\" d=\"M253.5,-68C253.5,-68 156.5,-68 156.5,-68 150.5,-68 144.5,-62 144.5,-56 144.5,-56 144.5,-12 144.5,-12 144.5,-6 150.5,0 156.5,0 156.5,0 253.5,0 253.5,0 259.5,0 265.5,-6 265.5,-12 265.5,-12 265.5,-56 265.5,-56 265.5,-62 259.5,-68 253.5,-68\"/>\n<text text-anchor=\"start\" x=\"163\" y=\"-52.8\" font-family=\"Helvetica,sans-Serif\" font-size=\"14.00\">entropy = 0.0</text>\n<text text-anchor=\"start\" x=\"165.5\" y=\"-37.8\" font-family=\"Helvetica,sans-Serif\" font-size=\"14.00\">samples = 2</text>\n<text text-anchor=\"start\" x=\"164.5\" y=\"-22.8\" font-family=\"Helvetica,sans-Serif\" font-size=\"14.00\">value = [0, 2]</text>\n<text text-anchor=\"start\" x=\"152.5\" y=\"-7.8\" font-family=\"Helvetica,sans-Serif\" font-size=\"14.00\">class = Si Juega</text>\n</g>\n<!-- 2&#45;&gt;4 -->\n<g id=\"edge4\" class=\"edge\">\n<title>2&#45;&gt;4</title>\n<path fill=\"none\" stroke=\"black\" d=\"M182.41,-103.73C185.16,-95.34 188.08,-86.47 190.86,-78.01\"/>\n<polygon fill=\"black\" stroke=\"black\" points=\"194.25,-78.89 194.05,-68.3 187.6,-76.71 194.25,-78.89\"/>\n</g>\n<!-- 7 -->\n<g id=\"node8\" class=\"node\">\n<title>7</title>\n<path fill=\"#7bbeee\" stroke=\"black\" d=\"M499.5,-187C499.5,-187 402.5,-187 402.5,-187 396.5,-187 390.5,-181 390.5,-175 390.5,-175 390.5,-116 390.5,-116 390.5,-110 396.5,-104 402.5,-104 402.5,-104 499.5,-104 499.5,-104 505.5,-104 511.5,-110 511.5,-116 511.5,-116 511.5,-175 511.5,-175 511.5,-181 505.5,-187 499.5,-187\"/>\n<text text-anchor=\"start\" x=\"408.5\" y=\"-171.8\" font-family=\"Helvetica,sans-Serif\" font-size=\"14.00\">Tiempo ≤ 0.5</text>\n<text text-anchor=\"start\" x=\"401\" y=\"-156.8\" font-family=\"Helvetica,sans-Serif\" font-size=\"14.00\">entropy = 0.811</text>\n<text text-anchor=\"start\" x=\"411.5\" y=\"-141.8\" font-family=\"Helvetica,sans-Serif\" font-size=\"14.00\">samples = 4</text>\n<text text-anchor=\"start\" x=\"410.5\" y=\"-126.8\" font-family=\"Helvetica,sans-Serif\" font-size=\"14.00\">value = [1, 3]</text>\n<text text-anchor=\"start\" x=\"398.5\" y=\"-111.8\" font-family=\"Helvetica,sans-Serif\" font-size=\"14.00\">class = Si Juega</text>\n</g>\n<!-- 6&#45;&gt;7 -->\n<g id=\"edge7\" class=\"edge\">\n<title>6&#45;&gt;7</title>\n<path fill=\"none\" stroke=\"black\" d=\"M452.31,-222.91C452.16,-214.56 452.01,-205.67 451.86,-197.02\"/>\n<polygon fill=\"black\" stroke=\"black\" points=\"455.36,-196.96 451.69,-187.02 448.36,-197.08 455.36,-196.96\"/>\n</g>\n<!-- 10 -->\n<g id=\"node11\" class=\"node\">\n<title>10</title>\n<path fill=\"#e58139\" stroke=\"black\" d=\"M644,-179.5C644,-179.5 542,-179.5 542,-179.5 536,-179.5 530,-173.5 530,-167.5 530,-167.5 530,-123.5 530,-123.5 530,-117.5 536,-111.5 542,-111.5 542,-111.5 644,-111.5 644,-111.5 650,-111.5 656,-117.5 656,-123.5 656,-123.5 656,-167.5 656,-167.5 656,-173.5 650,-179.5 644,-179.5\"/>\n<text text-anchor=\"start\" x=\"551\" y=\"-164.3\" font-family=\"Helvetica,sans-Serif\" font-size=\"14.00\">entropy = 0.0</text>\n<text text-anchor=\"start\" x=\"553.5\" y=\"-149.3\" font-family=\"Helvetica,sans-Serif\" font-size=\"14.00\">samples = 3</text>\n<text text-anchor=\"start\" x=\"552.5\" y=\"-134.3\" font-family=\"Helvetica,sans-Serif\" font-size=\"14.00\">value = [3, 0]</text>\n<text text-anchor=\"start\" x=\"538\" y=\"-119.3\" font-family=\"Helvetica,sans-Serif\" font-size=\"14.00\">class = No Juega</text>\n</g>\n<!-- 6&#45;&gt;10 -->\n<g id=\"edge10\" class=\"edge\">\n<title>6&#45;&gt;10</title>\n<path fill=\"none\" stroke=\"black\" d=\"M501.57,-222.91C515.83,-210.99 531.41,-197.98 545.59,-186.12\"/>\n<polygon fill=\"black\" stroke=\"black\" points=\"547.88,-188.77 553.31,-179.67 543.4,-183.39 547.88,-188.77\"/>\n</g>\n<!-- 8 -->\n<g id=\"node9\" class=\"node\">\n<title>8</title>\n<path fill=\"#ffffff\" stroke=\"black\" d=\"M466,-68C466,-68 364,-68 364,-68 358,-68 352,-62 352,-56 352,-56 352,-12 352,-12 352,-6 358,0 364,0 364,0 466,0 466,0 472,0 478,-6 478,-12 478,-12 478,-56 478,-56 478,-62 472,-68 466,-68\"/>\n<text text-anchor=\"start\" x=\"373\" y=\"-52.8\" font-family=\"Helvetica,sans-Serif\" font-size=\"14.00\">entropy = 1.0</text>\n<text text-anchor=\"start\" x=\"375.5\" y=\"-37.8\" font-family=\"Helvetica,sans-Serif\" font-size=\"14.00\">samples = 2</text>\n<text text-anchor=\"start\" x=\"374.5\" y=\"-22.8\" font-family=\"Helvetica,sans-Serif\" font-size=\"14.00\">value = [1, 1]</text>\n<text text-anchor=\"start\" x=\"360\" y=\"-7.8\" font-family=\"Helvetica,sans-Serif\" font-size=\"14.00\">class = No Juega</text>\n</g>\n<!-- 7&#45;&gt;8 -->\n<g id=\"edge8\" class=\"edge\">\n<title>7&#45;&gt;8</title>\n<path fill=\"none\" stroke=\"black\" d=\"M437.59,-103.73C434.84,-95.34 431.92,-86.47 429.14,-78.01\"/>\n<polygon fill=\"black\" stroke=\"black\" points=\"432.4,-76.71 425.95,-68.3 425.75,-78.89 432.4,-76.71\"/>\n</g>\n<!-- 9 -->\n<g id=\"node10\" class=\"node\">\n<title>9</title>\n<path fill=\"#399de5\" stroke=\"black\" d=\"M605.5,-68C605.5,-68 508.5,-68 508.5,-68 502.5,-68 496.5,-62 496.5,-56 496.5,-56 496.5,-12 496.5,-12 496.5,-6 502.5,0 508.5,0 508.5,0 605.5,0 605.5,0 611.5,0 617.5,-6 617.5,-12 617.5,-12 617.5,-56 617.5,-56 617.5,-62 611.5,-68 605.5,-68\"/>\n<text text-anchor=\"start\" x=\"515\" y=\"-52.8\" font-family=\"Helvetica,sans-Serif\" font-size=\"14.00\">entropy = 0.0</text>\n<text text-anchor=\"start\" x=\"517.5\" y=\"-37.8\" font-family=\"Helvetica,sans-Serif\" font-size=\"14.00\">samples = 2</text>\n<text text-anchor=\"start\" x=\"516.5\" y=\"-22.8\" font-family=\"Helvetica,sans-Serif\" font-size=\"14.00\">value = [0, 2]</text>\n<text text-anchor=\"start\" x=\"504.5\" y=\"-7.8\" font-family=\"Helvetica,sans-Serif\" font-size=\"14.00\">class = Si Juega</text>\n</g>\n<!-- 7&#45;&gt;9 -->\n<g id=\"edge9\" class=\"edge\">\n<title>7&#45;&gt;9</title>\n<path fill=\"none\" stroke=\"black\" d=\"M490.47,-103.73C499.39,-94.51 508.85,-84.74 517.76,-75.53\"/>\n<polygon fill=\"black\" stroke=\"black\" points=\"520.32,-77.92 524.76,-68.3 515.29,-73.05 520.32,-77.92\"/>\n</g>\n</g>\n</svg>\n",
      "text/plain": "<graphviz.sources.Source at 0x21b4341f790>"
     },
     "execution_count": 9,
     "metadata": {},
     "output_type": "execute_result"
    }
   ],
   "source": [
    "from sklearn import tree\n",
    "\n",
    "data_weather = weather_data.copy()\n",
    "data_weather[\"Tiempo\"] = np.where(data_weather[\"Tiempo\"]==\"Soleado\", 2,\n",
    "                          np.where(data_weather[\"Tiempo\"]==\"Nubloso\", 1, 0))\n",
    "data_weather[\"Temperatura\"] = np.where(data_weather[\"Temperatura\"]==\"Alta\", 2,\n",
    "                          np.where(data_weather[\"Temperatura\"]==\"Media\", 1, 0))\n",
    "data_weather[\"Humedad\"] = np.where(data_weather[\"Humedad\"] == \"Alta\",1,0)\n",
    "data_weather[\"Viento\"] = np.where(data_weather[\"Humedad\"] == \"Si\",1,0)\n",
    "\n",
    "\n",
    "#construir el arbol\n",
    "clf = tree.DecisionTreeClassifier(criterion = 'entropy',max_depth=4)\n",
    "\n",
    "t_data = data_weather[data_weather.columns[0:4]]\n",
    "t_respuesta = data_weather[data_weather.columns[4]]\n",
    "\n",
    "#crear el modelo\n",
    "clf = clf.fit(t_data, t_respuesta)\n",
    "\n",
    "dot_data = tree.export_graphviz(clf, out_file=None,\n",
    "                         feature_names=list(t_data.columns.values),\n",
    "                         class_names=[\"No Juega\", \"Si Juega\"],\n",
    "                         filled=True, rounded=True,\n",
    "                         special_characters=True)\n",
    "graph = graphviz.Source(dot_data)\n",
    "graph\n",
    "\n"
   ],
   "metadata": {
    "collapsed": false,
    "pycharm": {
     "name": "#%%\n"
    }
   }
  },
  {
   "cell_type": "markdown",
   "source": [
    "# Test del Modelo\n",
    "\n",
    "## Sacar la información del csv de pruebas con preprosesamiento manual pandas"
   ],
   "metadata": {
    "collapsed": false,
    "pycharm": {
     "name": "#%% md\n"
    }
   }
  },
  {
   "cell_type": "code",
   "execution_count": 23,
   "outputs": [],
   "source": [
    "weather_test = pd.read_csv(\"weatherTest.csv\",index_col=0)\n",
    "weather_test[\"Tiempo\"] = np.where(weather_test[\"Tiempo\"]==\"Soleado\", 2,\n",
    "                          np.where(weather_test[\"Tiempo\"]==\"Nubloso\", 1, 0))\n",
    "weather_test[\"Temperatura\"] = np.where(weather_test[\"Temperatura\"]==\"Alta\", 2,\n",
    "                          np.where(weather_test[\"Temperatura\"]==\"Media\", 1, 0))\n",
    "weather_test[\"Humedad\"] = np.where(weather_test[\"Humedad\"] == \"Alta\",1,0)\n",
    "weather_test[\"Viento\"] = np.where(weather_test[\"Viento\"] == \"Si\",1,0)\n",
    "\n",
    "x_test = weather_test[weather_test.columns[0:4]]\n",
    "#Crear modelo\n",
    "y_pred = clf.predict(x_test)"
   ],
   "metadata": {
    "collapsed": false,
    "pycharm": {
     "name": "#%%\n"
    }
   }
  },
  {
   "cell_type": "code",
   "execution_count": 24,
   "outputs": [
    {
     "data": {
      "text/plain": "    Tiempo  Temperatura  Humedad  Viento\n0        2            0        0       0\n1        2            0        0       1\n2        1            0        0       0\n3        0            2        0       0\n4        0            2        1       0\n5        0            1        1       1\n6        1            1        1       1\n7        2            2        0       0\n8        2            1        1       0\n9        0            2        1       0\n10       2            2        1       1\n11       1            2        0       1\n12       1            0        1       0\n13       0            2        0       1",
      "text/html": "<div>\n<style scoped>\n    .dataframe tbody tr th:only-of-type {\n        vertical-align: middle;\n    }\n\n    .dataframe tbody tr th {\n        vertical-align: top;\n    }\n\n    .dataframe thead th {\n        text-align: right;\n    }\n</style>\n<table border=\"1\" class=\"dataframe\">\n  <thead>\n    <tr style=\"text-align: right;\">\n      <th></th>\n      <th>Tiempo</th>\n      <th>Temperatura</th>\n      <th>Humedad</th>\n      <th>Viento</th>\n    </tr>\n  </thead>\n  <tbody>\n    <tr>\n      <th>0</th>\n      <td>2</td>\n      <td>0</td>\n      <td>0</td>\n      <td>0</td>\n    </tr>\n    <tr>\n      <th>1</th>\n      <td>2</td>\n      <td>0</td>\n      <td>0</td>\n      <td>1</td>\n    </tr>\n    <tr>\n      <th>2</th>\n      <td>1</td>\n      <td>0</td>\n      <td>0</td>\n      <td>0</td>\n    </tr>\n    <tr>\n      <th>3</th>\n      <td>0</td>\n      <td>2</td>\n      <td>0</td>\n      <td>0</td>\n    </tr>\n    <tr>\n      <th>4</th>\n      <td>0</td>\n      <td>2</td>\n      <td>1</td>\n      <td>0</td>\n    </tr>\n    <tr>\n      <th>5</th>\n      <td>0</td>\n      <td>1</td>\n      <td>1</td>\n      <td>1</td>\n    </tr>\n    <tr>\n      <th>6</th>\n      <td>1</td>\n      <td>1</td>\n      <td>1</td>\n      <td>1</td>\n    </tr>\n    <tr>\n      <th>7</th>\n      <td>2</td>\n      <td>2</td>\n      <td>0</td>\n      <td>0</td>\n    </tr>\n    <tr>\n      <th>8</th>\n      <td>2</td>\n      <td>1</td>\n      <td>1</td>\n      <td>0</td>\n    </tr>\n    <tr>\n      <th>9</th>\n      <td>0</td>\n      <td>2</td>\n      <td>1</td>\n      <td>0</td>\n    </tr>\n    <tr>\n      <th>10</th>\n      <td>2</td>\n      <td>2</td>\n      <td>1</td>\n      <td>1</td>\n    </tr>\n    <tr>\n      <th>11</th>\n      <td>1</td>\n      <td>2</td>\n      <td>0</td>\n      <td>1</td>\n    </tr>\n    <tr>\n      <th>12</th>\n      <td>1</td>\n      <td>0</td>\n      <td>1</td>\n      <td>0</td>\n    </tr>\n    <tr>\n      <th>13</th>\n      <td>0</td>\n      <td>2</td>\n      <td>0</td>\n      <td>1</td>\n    </tr>\n  </tbody>\n</table>\n</div>"
     },
     "execution_count": 24,
     "metadata": {},
     "output_type": "execute_result"
    }
   ],
   "source": [
    "t_data"
   ],
   "metadata": {
    "collapsed": false,
    "pycharm": {
     "name": "#%%\n"
    }
   }
  },
  {
   "cell_type": "code",
   "execution_count": 25,
   "outputs": [
    {
     "data": {
      "text/plain": "Ejemplo\n1     N\n2     N\n3     P\n4     P\n5     P\n6     N\n7     P\n8     N\n9     P\n10    P\n11    P\n12    P\n13    P\n14    N\nName: Juega, dtype: object"
     },
     "execution_count": 25,
     "metadata": {},
     "output_type": "execute_result"
    }
   ],
   "source": [
    "t_respuesta"
   ],
   "metadata": {
    "collapsed": false,
    "pycharm": {
     "name": "#%%\n"
    }
   }
  },
  {
   "cell_type": "code",
   "execution_count": 26,
   "outputs": [
    {
     "data": {
      "text/plain": "array([1, 1, 1])"
     },
     "execution_count": 26,
     "metadata": {},
     "output_type": "execute_result"
    }
   ],
   "source": [
    "y_pred"
   ],
   "metadata": {
    "collapsed": false,
    "pycharm": {
     "name": "#%%\n"
    }
   }
  },
  {
   "cell_type": "code",
   "execution_count": 11,
   "outputs": [
    {
     "data": {
      "text/plain": "(    Tiempo  Temperatura  Humedad  Viento\n 0        2            0        0       0\n 1        2            0        0       1\n 2        1            0        0       0\n 3        0            2        0       0\n 4        0            2        1       0\n 5        0            1        1       1\n 6        1            1        1       1\n 7        2            2        0       0\n 8        2            1        1       0\n 9        0            2        1       0\n 10       2            2        1       1\n 11       1            2        0       1\n 12       1            0        1       0\n 13       0            2        0       1,\n 0     0\n 1     0\n 2     1\n 3     1\n 4     1\n 5     0\n 6     1\n 7     0\n 8     1\n 9     1\n 10    1\n 11    1\n 12    1\n 13    0\n Name: Juega, dtype: int32,\n array([1, 1, 1]))"
     },
     "execution_count": 11,
     "metadata": {},
     "output_type": "execute_result"
    }
   ],
   "source": [
    "weather_test = pd.read_csv(\"weatherTest.csv\",index_col=0)\n",
    "data_weather = pd.DataFrame()\n",
    "#weather_test = pd.DataFrame()\n",
    "\n",
    "le = preprocessing.LabelEncoder()\n",
    "\n",
    "for v in labelsWeather:\n",
    "    le.fit(weather_data[v])\n",
    "    data_weather[v] = le.transform(weather_data[v])\n",
    "    le.fit(weather_test[v])\n",
    "    weather_test[v] = le.transform(weather_test[v])\n",
    "\n",
    "# Build tree\n",
    "clf = tree.DecisionTreeClassifier(criterion='entropy', max_depth=4)\n",
    "\n",
    "t_data = data_weather[data_weather.columns[0:4]]\n",
    "t_target = data_weather[data_weather.columns[4]]\n",
    "w_test = weather_test[weather_test.columns[0:4]]\n",
    "\n",
    "# Fit model to data\n",
    "clf = clf.fit(t_data, t_target)\n",
    "y_pred = clf.predict(w_test)\n",
    "t_data, t_target, y_pred\n"
   ],
   "metadata": {
    "collapsed": false,
    "pycharm": {
     "name": "#%%\n"
    }
   }
  }
 ]
}